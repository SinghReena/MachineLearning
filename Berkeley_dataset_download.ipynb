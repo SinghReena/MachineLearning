{
  "nbformat": 4,
  "nbformat_minor": 0,
  "metadata": {
    "colab": {
      "name": "Berkeley dataset download.ipynb",
      "provenance": [],
      "include_colab_link": true
    },
    "kernelspec": {
      "name": "python3",
      "display_name": "Python 3"
    }
  },
  "cells": [
    {
      "cell_type": "markdown",
      "metadata": {
        "id": "view-in-github",
        "colab_type": "text"
      },
      "source": [
        "<a href=\"https://colab.research.google.com/github/SinghReena/MachineLearning/blob/master/Berkeley_dataset_download.ipynb\" target=\"_parent\"><img src=\"https://colab.research.google.com/assets/colab-badge.svg\" alt=\"Open In Colab\"/></a>"
      ]
    },
    {
      "cell_type": "code",
      "metadata": {
        "id": "A9AheHD9EzVQ"
      },
      "source": [
        "import pandas as pd\n",
        "import numpy as np\n"
      ],
      "execution_count": null,
      "outputs": []
    },
    {
      "cell_type": "markdown",
      "metadata": {
        "id": "4QzXF8guEzVR"
      },
      "source": [
        "https://data.cityofberkeley.info/Public-Safety/Berkeley-PD-Calls-for-Service/k2nh-s5h5"
      ]
    },
    {
      "cell_type": "code",
      "metadata": {
        "id": "GjsVJM2DEzVR"
      },
      "source": [
        "url = 'https://data.cityofberkeley.info/api/views/k2nh-s5h5/rows.csv'\n",
        "\n",
        "df = pd.read_csv(url)"
      ],
      "execution_count": null,
      "outputs": []
    },
    {
      "cell_type": "code",
      "metadata": {
        "colab": {
          "base_uri": "https://localhost:8080/",
          "height": 417
        },
        "id": "jeykRonyEzVS",
        "outputId": "4fdcb8d4-3fe4-42db-f9a0-7d52466657d0"
      },
      "source": [
        "df.head()"
      ],
      "execution_count": null,
      "outputs": [
        {
          "output_type": "execute_result",
          "data": {
            "text/html": [
              "<div>\n",
              "<style scoped>\n",
              "    .dataframe tbody tr th:only-of-type {\n",
              "        vertical-align: middle;\n",
              "    }\n",
              "\n",
              "    .dataframe tbody tr th {\n",
              "        vertical-align: top;\n",
              "    }\n",
              "\n",
              "    .dataframe thead th {\n",
              "        text-align: right;\n",
              "    }\n",
              "</style>\n",
              "<table border=\"1\" class=\"dataframe\">\n",
              "  <thead>\n",
              "    <tr style=\"text-align: right;\">\n",
              "      <th></th>\n",
              "      <th>CASENO</th>\n",
              "      <th>OFFENSE</th>\n",
              "      <th>EVENTDT</th>\n",
              "      <th>EVENTTM</th>\n",
              "      <th>CVLEGEND</th>\n",
              "      <th>CVDOW</th>\n",
              "      <th>InDbDate</th>\n",
              "      <th>Block_Location</th>\n",
              "      <th>BLKADDR</th>\n",
              "      <th>City</th>\n",
              "      <th>State</th>\n",
              "    </tr>\n",
              "  </thead>\n",
              "  <tbody>\n",
              "    <tr>\n",
              "      <th>0</th>\n",
              "      <td>20049619</td>\n",
              "      <td>THEFT MISD. (UNDER $950)</td>\n",
              "      <td>10/26/2020 12:00:00 AM</td>\n",
              "      <td>22:01</td>\n",
              "      <td>LARCENY</td>\n",
              "      <td>1</td>\n",
              "      <td>01/05/2021 12:00:00 AM</td>\n",
              "      <td>2000 BLOCK OREGON ST\\nBerkeley, CA</td>\n",
              "      <td>2000 BLOCK OREGON ST</td>\n",
              "      <td>Berkeley</td>\n",
              "      <td>CA</td>\n",
              "    </tr>\n",
              "    <tr>\n",
              "      <th>1</th>\n",
              "      <td>20056555</td>\n",
              "      <td>BURGLARY AUTO</td>\n",
              "      <td>12/11/2020 12:00:00 AM</td>\n",
              "      <td>11:00</td>\n",
              "      <td>BURGLARY - VEHICLE</td>\n",
              "      <td>5</td>\n",
              "      <td>01/05/2021 12:00:00 AM</td>\n",
              "      <td>HEARST AVE / CALIFORNIA ST\\nBerkeley, CA</td>\n",
              "      <td>HEARST AVE /  CALIFORNIA ST</td>\n",
              "      <td>Berkeley</td>\n",
              "      <td>CA</td>\n",
              "    </tr>\n",
              "    <tr>\n",
              "      <th>2</th>\n",
              "      <td>20036610</td>\n",
              "      <td>BURGLARY COMMERCIAL</td>\n",
              "      <td>08/05/2020 12:00:00 AM</td>\n",
              "      <td>3:12</td>\n",
              "      <td>BURGLARY - COMMERCIAL</td>\n",
              "      <td>3</td>\n",
              "      <td>01/05/2021 12:00:00 AM</td>\n",
              "      <td>2100 BLOCK BROWNING ST\\nBerkeley, CA</td>\n",
              "      <td>2100 BLOCK BROWNING ST</td>\n",
              "      <td>Berkeley</td>\n",
              "      <td>CA</td>\n",
              "    </tr>\n",
              "    <tr>\n",
              "      <th>3</th>\n",
              "      <td>20091764</td>\n",
              "      <td>THEFT MISD. (UNDER $950)</td>\n",
              "      <td>09/14/2020 12:00:00 AM</td>\n",
              "      <td>22:00</td>\n",
              "      <td>LARCENY</td>\n",
              "      <td>1</td>\n",
              "      <td>01/05/2021 12:00:00 AM</td>\n",
              "      <td>6TH ST\\nBerkeley, CA</td>\n",
              "      <td>6TH ST</td>\n",
              "      <td>Berkeley</td>\n",
              "      <td>CA</td>\n",
              "    </tr>\n",
              "    <tr>\n",
              "      <th>4</th>\n",
              "      <td>20091531</td>\n",
              "      <td>THEFT MISD. (UNDER $950)</td>\n",
              "      <td>07/25/2020 12:00:00 AM</td>\n",
              "      <td>23:45</td>\n",
              "      <td>LARCENY</td>\n",
              "      <td>6</td>\n",
              "      <td>01/05/2021 12:00:00 AM</td>\n",
              "      <td>2900 BLOCK CLAREMONT BLVD\\nBerkeley, CA</td>\n",
              "      <td>2900 BLOCK CLAREMONT BLVD</td>\n",
              "      <td>Berkeley</td>\n",
              "      <td>CA</td>\n",
              "    </tr>\n",
              "  </tbody>\n",
              "</table>\n",
              "</div>"
            ],
            "text/plain": [
              "     CASENO                   OFFENSE  ...      City State\n",
              "0  20049619  THEFT MISD. (UNDER $950)  ...  Berkeley    CA\n",
              "1  20056555             BURGLARY AUTO  ...  Berkeley    CA\n",
              "2  20036610       BURGLARY COMMERCIAL  ...  Berkeley    CA\n",
              "3  20091764  THEFT MISD. (UNDER $950)  ...  Berkeley    CA\n",
              "4  20091531  THEFT MISD. (UNDER $950)  ...  Berkeley    CA\n",
              "\n",
              "[5 rows x 11 columns]"
            ]
          },
          "metadata": {
            "tags": []
          },
          "execution_count": 8
        }
      ]
    },
    {
      "cell_type": "code",
      "metadata": {
        "colab": {
          "base_uri": "https://localhost:8080/"
        },
        "id": "AO0NTrG_EzVT",
        "outputId": "84f51a2f-5627-47e8-895f-8c290c821c91"
      },
      "source": [
        "len(df)"
      ],
      "execution_count": null,
      "outputs": [
        {
          "output_type": "execute_result",
          "data": {
            "text/plain": [
              "3911"
            ]
          },
          "metadata": {
            "tags": []
          },
          "execution_count": 11
        }
      ]
    },
    {
      "cell_type": "markdown",
      "metadata": {
        "id": "R1c8ajwJ5yQr"
      },
      "source": [
        "https://data.cityofberkeley.info/Public-Safety/Berkeley-PD-Calls-for-Service/k2nh-s5h5"
      ]
    },
    {
      "cell_type": "code",
      "metadata": {
        "id": "TTSH2omAkUgm"
      },
      "source": [
        "url = 'https://data.cityofberkeley.info/api/views/k2nh-s5h5/rows.csv'\n",
        "\n",
        "df = pd.read_csv(url)"
      ],
      "execution_count": null,
      "outputs": []
    },
    {
      "cell_type": "code",
      "metadata": {
        "colab": {
          "base_uri": "https://localhost:8080/",
          "height": 417
        },
        "id": "YAkMMwcHkgxR",
        "outputId": "4fdcb8d4-3fe4-42db-f9a0-7d52466657d0"
      },
      "source": [
        "df.head()"
      ],
      "execution_count": null,
      "outputs": [
        {
          "output_type": "execute_result",
          "data": {
            "text/html": [
              "<div>\n",
              "<style scoped>\n",
              "    .dataframe tbody tr th:only-of-type {\n",
              "        vertical-align: middle;\n",
              "    }\n",
              "\n",
              "    .dataframe tbody tr th {\n",
              "        vertical-align: top;\n",
              "    }\n",
              "\n",
              "    .dataframe thead th {\n",
              "        text-align: right;\n",
              "    }\n",
              "</style>\n",
              "<table border=\"1\" class=\"dataframe\">\n",
              "  <thead>\n",
              "    <tr style=\"text-align: right;\">\n",
              "      <th></th>\n",
              "      <th>CASENO</th>\n",
              "      <th>OFFENSE</th>\n",
              "      <th>EVENTDT</th>\n",
              "      <th>EVENTTM</th>\n",
              "      <th>CVLEGEND</th>\n",
              "      <th>CVDOW</th>\n",
              "      <th>InDbDate</th>\n",
              "      <th>Block_Location</th>\n",
              "      <th>BLKADDR</th>\n",
              "      <th>City</th>\n",
              "      <th>State</th>\n",
              "    </tr>\n",
              "  </thead>\n",
              "  <tbody>\n",
              "    <tr>\n",
              "      <th>0</th>\n",
              "      <td>20049619</td>\n",
              "      <td>THEFT MISD. (UNDER $950)</td>\n",
              "      <td>10/26/2020 12:00:00 AM</td>\n",
              "      <td>22:01</td>\n",
              "      <td>LARCENY</td>\n",
              "      <td>1</td>\n",
              "      <td>01/05/2021 12:00:00 AM</td>\n",
              "      <td>2000 BLOCK OREGON ST\\nBerkeley, CA</td>\n",
              "      <td>2000 BLOCK OREGON ST</td>\n",
              "      <td>Berkeley</td>\n",
              "      <td>CA</td>\n",
              "    </tr>\n",
              "    <tr>\n",
              "      <th>1</th>\n",
              "      <td>20056555</td>\n",
              "      <td>BURGLARY AUTO</td>\n",
              "      <td>12/11/2020 12:00:00 AM</td>\n",
              "      <td>11:00</td>\n",
              "      <td>BURGLARY - VEHICLE</td>\n",
              "      <td>5</td>\n",
              "      <td>01/05/2021 12:00:00 AM</td>\n",
              "      <td>HEARST AVE / CALIFORNIA ST\\nBerkeley, CA</td>\n",
              "      <td>HEARST AVE /  CALIFORNIA ST</td>\n",
              "      <td>Berkeley</td>\n",
              "      <td>CA</td>\n",
              "    </tr>\n",
              "    <tr>\n",
              "      <th>2</th>\n",
              "      <td>20036610</td>\n",
              "      <td>BURGLARY COMMERCIAL</td>\n",
              "      <td>08/05/2020 12:00:00 AM</td>\n",
              "      <td>3:12</td>\n",
              "      <td>BURGLARY - COMMERCIAL</td>\n",
              "      <td>3</td>\n",
              "      <td>01/05/2021 12:00:00 AM</td>\n",
              "      <td>2100 BLOCK BROWNING ST\\nBerkeley, CA</td>\n",
              "      <td>2100 BLOCK BROWNING ST</td>\n",
              "      <td>Berkeley</td>\n",
              "      <td>CA</td>\n",
              "    </tr>\n",
              "    <tr>\n",
              "      <th>3</th>\n",
              "      <td>20091764</td>\n",
              "      <td>THEFT MISD. (UNDER $950)</td>\n",
              "      <td>09/14/2020 12:00:00 AM</td>\n",
              "      <td>22:00</td>\n",
              "      <td>LARCENY</td>\n",
              "      <td>1</td>\n",
              "      <td>01/05/2021 12:00:00 AM</td>\n",
              "      <td>6TH ST\\nBerkeley, CA</td>\n",
              "      <td>6TH ST</td>\n",
              "      <td>Berkeley</td>\n",
              "      <td>CA</td>\n",
              "    </tr>\n",
              "    <tr>\n",
              "      <th>4</th>\n",
              "      <td>20091531</td>\n",
              "      <td>THEFT MISD. (UNDER $950)</td>\n",
              "      <td>07/25/2020 12:00:00 AM</td>\n",
              "      <td>23:45</td>\n",
              "      <td>LARCENY</td>\n",
              "      <td>6</td>\n",
              "      <td>01/05/2021 12:00:00 AM</td>\n",
              "      <td>2900 BLOCK CLAREMONT BLVD\\nBerkeley, CA</td>\n",
              "      <td>2900 BLOCK CLAREMONT BLVD</td>\n",
              "      <td>Berkeley</td>\n",
              "      <td>CA</td>\n",
              "    </tr>\n",
              "  </tbody>\n",
              "</table>\n",
              "</div>"
            ],
            "text/plain": [
              "     CASENO                   OFFENSE  ...      City State\n",
              "0  20049619  THEFT MISD. (UNDER $950)  ...  Berkeley    CA\n",
              "1  20056555             BURGLARY AUTO  ...  Berkeley    CA\n",
              "2  20036610       BURGLARY COMMERCIAL  ...  Berkeley    CA\n",
              "3  20091764  THEFT MISD. (UNDER $950)  ...  Berkeley    CA\n",
              "4  20091531  THEFT MISD. (UNDER $950)  ...  Berkeley    CA\n",
              "\n",
              "[5 rows x 11 columns]"
            ]
          },
          "metadata": {
            "tags": []
          },
          "execution_count": 8
        }
      ]
    },
    {
      "cell_type": "code",
      "metadata": {
        "colab": {
          "base_uri": "https://localhost:8080/"
        },
        "id": "SiGUusqZlKt5",
        "outputId": "84f51a2f-5627-47e8-895f-8c290c821c91"
      },
      "source": [
        "len(df)"
      ],
      "execution_count": null,
      "outputs": [
        {
          "output_type": "execute_result",
          "data": {
            "text/plain": [
              "3911"
            ]
          },
          "metadata": {
            "tags": []
          },
          "execution_count": 11
        }
      ]
    },
    {
      "cell_type": "markdown",
      "metadata": {
        "id": "Q1xx9Wxq6FUE"
      },
      "source": [
        "## Columns\n",
        "\n",
        "\n",
        "https://data.cityofberkeley.info/api/views/k2nh-s5h5/files/tgCx9-LwzyULzas6ZSxGdPmc1f-0euS2Y6EVOrNH940?download=true&filename=01_Page_Narrative_Crime.pdf"
      ]
    }
  ]
}