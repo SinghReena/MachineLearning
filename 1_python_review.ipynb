{
  "nbformat": 4,
  "nbformat_minor": 0,
  "metadata": {
    "colab": {
      "name": "1 - python review.ipynb",
      "provenance": [],
      "collapsed_sections": [
        "6KqA6RX2obM8",
        "aMs3P9gKobM_",
        "NRYu6UKsobNJ",
        "bGBQahCBobNK",
        "VQmS4uq9obNL",
        "P5sQiHePobNM",
        "WA3-DLQ1obNM",
        "bsjI9ZoZobNN",
        "gU0XSZ3DobNU",
        "NRpxw6aJobNX",
        "7Ku-w5pFobNX",
        "23eudvwXobNX"
      ],
      "include_colab_link": true
    },
    "kernelspec": {
      "name": "python3",
      "display_name": "Python 3"
    }
  },
  "cells": [
    {
      "cell_type": "markdown",
      "metadata": {
        "id": "view-in-github",
        "colab_type": "text"
      },
      "source": [
        "<a href=\"https://colab.research.google.com/github/SinghReena/MachineLearning/blob/master/1_python_review.ipynb\" target=\"_parent\"><img src=\"https://colab.research.google.com/assets/colab-badge.svg\" alt=\"Open In Colab\"/></a>"
      ]
    },
    {
      "cell_type": "markdown",
      "metadata": {
        "id": "5tjGFZd-obM3"
      },
      "source": [
        "## I. Introduction to Python"
      ]
    },
    {
      "cell_type": "markdown",
      "metadata": {
        "id": "GGuUiq3ZobM3"
      },
      "source": [
        "# II. Getting Started: "
      ]
    },
    {
      "cell_type": "markdown",
      "metadata": {
        "id": "osapsy0tobM4"
      },
      "source": [
        "### a. Use Python as a Calculator: \n",
        "\n",
        "One of the simplest ways to start off with Python is to run Python as an interpreter. By running Python this way, it is very similar to the way you would use a calculator. In the interpreter, you type a command, and Python produces the answer. You can repeat that same process and it will produce an answer."
      ]
    },
    {
      "cell_type": "code",
      "metadata": {
        "colab": {
          "base_uri": "https://localhost:8080/"
        },
        "id": "y2qeplC2obM4",
        "outputId": "9ccc8bf4-6329-4bf5-a895-5a4af960b402"
      },
      "source": [
        "#Run this cell\n",
        "\n",
        "1 + 8 * 6 - 4"
      ],
      "execution_count": null,
      "outputs": [
        {
          "output_type": "execute_result",
          "data": {
            "text/plain": [
              "45"
            ]
          },
          "metadata": {
            "tags": []
          },
          "execution_count": 42
        }
      ]
    },
    {
      "cell_type": "markdown",
      "metadata": {
        "id": "-n8Z4W2NobM5"
      },
      "source": [
        "Just like with a calculator, with Python there are <u><b>Arithmetic Operators</b></u> you're allowed to use.\n",
        "<ul>\n",
        "    <li> <b>Addition( + )</b></li>\n",
        "    <ul>\n",
        "        <li> Adds values on either side of the operator </li>\n",
        "    </ul>\n",
        "    <li> <b>Subtraction( - )</b></li>\n",
        "    <ul>\n",
        "        <li> Subtracts right hand operand from left hand operand </li>\n",
        "    </ul>\n",
        "    <li> <b>Multiplication ( &#42; )</b></li>\n",
        "    <ul>\n",
        "        <li> Multiplies values on either side of the operator </li>\n",
        "    </ul>\n",
        "    <li> <b>Division ( / )</b></li>\n",
        "    <ul>\n",
        "        <li> Divides left hand operand by right hand operand</li>\n",
        "    </ul>\n",
        "    <li> <b>Modulus( % )</b></li>\n",
        "    <ul>\n",
        "        <li> Divides left hand operand by right hand operand and returns remainder </li>\n",
        "    </ul>\n",
        "    <li> <b>Exponent ( ** )</b></li>\n",
        "    <ul>\n",
        "        <li> Performs exponential (power) calculation on operators </li>\n",
        "    </ul>\n",
        "    <li><b>Floor Division( // )</b></li>\n",
        "    <ul>\n",
        "        <li>The division of operands where the result is the quotient in which the digits after the decimal point are removed. But if one of the operands is negative, the result is the floor value.</li>\n",
        "   </ul>\n",
        "\n",
        "<br><br>\n",
        "<b>Below is a cell where you can try out any or all of the Arithmetic Operators. See if it works just like a calculator.</b>"
      ]
    },
    {
      "cell_type": "code",
      "metadata": {
        "id": "69l0XJOjobM6",
        "colab": {
          "base_uri": "https://localhost:8080/"
        },
        "outputId": "e3972004-4dca-40f3-de80-167bd1b7a5ff"
      },
      "source": [
        "print(15//2)\n",
        "print(-15//2)\n",
        "\n"
      ],
      "execution_count": null,
      "outputs": [
        {
          "output_type": "stream",
          "text": [
            "7\n",
            "-8\n"
          ],
          "name": "stdout"
        }
      ]
    },
    {
      "cell_type": "code",
      "metadata": {
        "colab": {
          "base_uri": "https://localhost:8080/"
        },
        "id": "8seoMkCB3YKf",
        "outputId": "a35129ef-558a-4000-dc4b-5850be514cdc"
      },
      "source": [
        "print(-15/2)\n",
        "\n",
        "import math\n",
        "print(math.floor(-15/2))"
      ],
      "execution_count": null,
      "outputs": [
        {
          "output_type": "stream",
          "text": [
            "-7.5\n",
            "-8\n"
          ],
          "name": "stdout"
        }
      ]
    },
    {
      "cell_type": "markdown",
      "metadata": {
        "id": "ug48RjbmobM6"
      },
      "source": [
        "# III. Variable Types"
      ]
    },
    {
      "cell_type": "markdown",
      "metadata": {
        "id": "usD1ytfaobM6"
      },
      "source": [
        "You can think of variables as reserved memory locations. In order to reserve something to that memory location, you must assign a value to that variable. To properly execute that action, use the equal sign ( <b>=</b> ). On the left of that equal sign is the name of the variable and on the right of that equal sign is it the value store in the variable.\n",
        "<br><br>\n",
        "<b>If you run the cell below, what do you think it is going to print out? Try it out for yourself!</b> "
      ]
    },
    {
      "cell_type": "code",
      "metadata": {
        "scrolled": true,
        "colab": {
          "base_uri": "https://localhost:8080/"
        },
        "id": "kb89Gt4uobM7",
        "outputId": "29f1d9ab-7939-4558-dd61-fb54fbb92416"
      },
      "source": [
        "#Run this cell\n",
        "\n",
        "b = 1868346546765756\n",
        "b"
      ],
      "execution_count": null,
      "outputs": [
        {
          "output_type": "execute_result",
          "data": {
            "text/plain": [
              "1868346546765756"
            ]
          },
          "metadata": {
            "tags": []
          },
          "execution_count": 45
        }
      ]
    },
    {
      "cell_type": "markdown",
      "metadata": {
        "id": "r8VZVOL6obM7"
      },
      "source": [
        "Any type of value can be assigned to any valid variable.\n",
        "\n",
        "Now that we've gotten familiar with variables and values, what kind of values can we assign to the variables? What kind of data types?\n",
        "\n",
        "Python has five standard <u><b>Data Types</u></b> :\n",
        "<ul>\n",
        "    <li><b>Numbers</b></li>\n",
        "    <ul>\n",
        "        <li>These data types store numeric values.</li>\n",
        "    </ul>\n",
        "    <li><b>String</b></li>\n",
        "    <ul>\n",
        "        <li>This data type is a list of characters in order. A string can be defined as anything <u>between quotation marks</u>. </li>\n",
        "    </ul>\n",
        "    <li><b>List</b></li>\n",
        "    <ul>\n",
        "        <li>A list contains items separated by commas and enclosed within square brackets ( [] ).</li>\n",
        "    </ul>\n",
        "    <li><b>Tuple</b></li>\n",
        "    <ul>\n",
        "        <li>This data type is similar to the list data type. A tuple has a number of values separated by commas. Unlike lists, however, tuples are enclosed within parentheses. A tuple can not be changed in any way once it is created.</li>\n",
        "    </ul>\n",
        "    <li><b>Dictionary</b></li>\n",
        "    <ul>\n",
        "        <li>A dictionary as an unordered set of key: value pairs, with the requirement that the keys are unique (within one dictionary). If this data type is still confusing try this resource to learn more about how to use dictionaries : https://tinyurl.com/lnhe29p</li>\n",
        "    </ul>\n",
        "</ul>"
      ]
    },
    {
      "cell_type": "markdown",
      "metadata": {
        "id": "n1HvQ4tcobM7"
      },
      "source": [
        "## a. Numbers"
      ]
    },
    {
      "cell_type": "markdown",
      "metadata": {
        "id": "PUJQ3eh6obM8"
      },
      "source": [
        "Python supports four different numerical types −\n",
        "<ul>\n",
        "<li><b>int</b> (signed integers)</li>\n",
        "\n",
        "<li><b>long</b> (long integers)</li>\n",
        "\n",
        "<li><b>float</b> (floating point real values)</li>\n",
        "\n",
        "<li><b>complex</b> (complex numbers)</li>\n",
        "</ul>"
      ]
    },
    {
      "cell_type": "markdown",
      "metadata": {
        "id": "qkqurguI5K2F"
      },
      "source": [
        "In python 2, the maximum `int` value can be found by `sys.maxint`\n",
        "\n",
        "In python 3, `int` is unbounded."
      ]
    },
    {
      "cell_type": "code",
      "metadata": {
        "colab": {
          "base_uri": "https://localhost:8080/"
        },
        "id": "VxX6sx45obM8",
        "outputId": "9b3aa5c3-4075-4a24-83f0-b7e28d7b012e"
      },
      "source": [
        "i = 1234.56789\n",
        "type(i)"
      ],
      "execution_count": null,
      "outputs": [
        {
          "output_type": "execute_result",
          "data": {
            "text/plain": [
              "float"
            ]
          },
          "metadata": {
            "tags": []
          },
          "execution_count": 46
        }
      ]
    },
    {
      "cell_type": "markdown",
      "metadata": {
        "id": "6KqA6RX2obM8"
      },
      "source": [
        "### i. Convert Data Types"
      ]
    },
    {
      "cell_type": "markdown",
      "metadata": {
        "id": "fWimfdS0obM8"
      },
      "source": [
        "We can convert between different data types by using different type conversion functions like int(), float(), etc.\n",
        "\n",
        "\n",
        "Convert variable \"i\" into an integer."
      ]
    },
    {
      "cell_type": "code",
      "metadata": {
        "colab": {
          "base_uri": "https://localhost:8080/"
        },
        "id": "aqpdbizgobM9",
        "outputId": "fdf138c9-0e78-4ee2-e77b-90d8a83fa758"
      },
      "source": [
        "i = int(i)\n",
        "i"
      ],
      "execution_count": null,
      "outputs": [
        {
          "output_type": "execute_result",
          "data": {
            "text/plain": [
              "1234"
            ]
          },
          "metadata": {
            "tags": []
          },
          "execution_count": 47
        }
      ]
    },
    {
      "cell_type": "markdown",
      "metadata": {
        "id": "0gbgoCvEobM9"
      },
      "source": [
        "Check data type."
      ]
    },
    {
      "cell_type": "code",
      "metadata": {
        "colab": {
          "base_uri": "https://localhost:8080/"
        },
        "id": "5Xu29nRTobM9",
        "outputId": "ba803369-d014-4d83-bc3a-4d83fa413a4a"
      },
      "source": [
        "type(i)"
      ],
      "execution_count": null,
      "outputs": [
        {
          "output_type": "execute_result",
          "data": {
            "text/plain": [
              "int"
            ]
          },
          "metadata": {
            "tags": []
          },
          "execution_count": 48
        }
      ]
    },
    {
      "cell_type": "code",
      "metadata": {
        "id": "zW9N7BMx5oYH",
        "colab": {
          "base_uri": "https://localhost:8080/"
        },
        "outputId": "a1fdfd09-721c-4a13-bad1-fe7fd305c6f6"
      },
      "source": [
        "16/2"
      ],
      "execution_count": null,
      "outputs": [
        {
          "output_type": "execute_result",
          "data": {
            "text/plain": [
              "8.0"
            ]
          },
          "metadata": {
            "tags": []
          },
          "execution_count": 49
        }
      ]
    },
    {
      "cell_type": "code",
      "metadata": {
        "id": "Y1In2cDx5rzP",
        "colab": {
          "base_uri": "https://localhost:8080/"
        },
        "outputId": "9cdae2f7-a650-4b33-fa28-42fa8d479df0"
      },
      "source": [
        "int(16/2)"
      ],
      "execution_count": null,
      "outputs": [
        {
          "output_type": "execute_result",
          "data": {
            "text/plain": [
              "8"
            ]
          },
          "metadata": {
            "tags": []
          },
          "execution_count": 50
        }
      ]
    },
    {
      "cell_type": "markdown",
      "metadata": {
        "id": "pp6-m-cTobM-"
      },
      "source": [
        "## b. Strings"
      ]
    },
    {
      "cell_type": "markdown",
      "metadata": {
        "id": "BbQPGRcsobM-"
      },
      "source": [
        "Strings can be enclosed in single quotes ( <b>'</b>YOUR TEXT HERE<b>'</b> ) or double quotes ( <b>\"</b>YOUR TEXT HERE<b>\"</b> ) with the same result. You can change what is inbetween the quotes to print out what you'd like."
      ]
    },
    {
      "cell_type": "code",
      "metadata": {
        "colab": {
          "base_uri": "https://localhost:8080/",
          "height": 35
        },
        "id": "uoMCi5cPobM-",
        "outputId": "92dbcdf5-b5e3-4264-9068-6640168645cc"
      },
      "source": [
        "#Run this cell\n",
        "\n",
        "cal = 'US got its independece in 1776.'\n",
        "cal"
      ],
      "execution_count": null,
      "outputs": [
        {
          "output_type": "execute_result",
          "data": {
            "application/vnd.google.colaboratory.intrinsic+json": {
              "type": "string"
            },
            "text/plain": [
              "'US got its independece in 1776.'"
            ]
          },
          "metadata": {
            "tags": []
          },
          "execution_count": 51
        }
      ]
    },
    {
      "cell_type": "markdown",
      "metadata": {
        "id": "aMs3P9gKobM_"
      },
      "source": [
        "### i. Length of a string"
      ]
    },
    {
      "cell_type": "code",
      "metadata": {
        "colab": {
          "base_uri": "https://localhost:8080/"
        },
        "id": "-1YAUdfRobM_",
        "outputId": "f7164978-3954-4586-c655-c0cc4fe2ad42"
      },
      "source": [
        "len(cal)"
      ],
      "execution_count": null,
      "outputs": [
        {
          "output_type": "execute_result",
          "data": {
            "text/plain": [
              "31"
            ]
          },
          "metadata": {
            "tags": []
          },
          "execution_count": 52
        }
      ]
    },
    {
      "cell_type": "markdown",
      "metadata": {
        "id": "dusdqbJdobM_"
      },
      "source": [
        "<i><b>* Note</b>: Length of a string counts every character in the string, including the spaces.</i>"
      ]
    },
    {
      "cell_type": "markdown",
      "metadata": {
        "id": "cs3CJbdYobM_"
      },
      "source": [
        "### ii. Tricky string issues.\n",
        "\n",
        "<b>2021</b> VS <b>\"2021\"</b>"
      ]
    },
    {
      "cell_type": "code",
      "metadata": {
        "colab": {
          "base_uri": "https://localhost:8080/"
        },
        "id": "UQAkc6LnobNA",
        "outputId": "d7579347-ab0c-4640-c5fd-5abd701d22e2"
      },
      "source": [
        "s = \"2021\"\n",
        "\n",
        "n = 2021\n",
        "\n",
        "n + 10"
      ],
      "execution_count": null,
      "outputs": [
        {
          "output_type": "execute_result",
          "data": {
            "text/plain": [
              "2031"
            ]
          },
          "metadata": {
            "tags": []
          },
          "execution_count": 53
        }
      ]
    },
    {
      "cell_type": "code",
      "metadata": {
        "colab": {
          "base_uri": "https://localhost:8080/",
          "height": 164
        },
        "id": "Hr6yGPXS6EMt",
        "outputId": "b45c384d-2e18-4e44-83f7-2b9966d42705"
      },
      "source": [
        "s+10"
      ],
      "execution_count": null,
      "outputs": [
        {
          "output_type": "error",
          "ename": "TypeError",
          "evalue": "ignored",
          "traceback": [
            "\u001b[0;31m---------------------------------------------------------------------------\u001b[0m",
            "\u001b[0;31mTypeError\u001b[0m                                 Traceback (most recent call last)",
            "\u001b[0;32m<ipython-input-54-5153ea4215bc>\u001b[0m in \u001b[0;36m<module>\u001b[0;34m()\u001b[0m\n\u001b[0;32m----> 1\u001b[0;31m \u001b[0ms\u001b[0m\u001b[0;34m+\u001b[0m\u001b[0;36m10\u001b[0m\u001b[0;34m\u001b[0m\u001b[0;34m\u001b[0m\u001b[0m\n\u001b[0m",
            "\u001b[0;31mTypeError\u001b[0m: must be str, not int"
          ]
        }
      ]
    },
    {
      "cell_type": "code",
      "metadata": {
        "id": "Yv-2lf8IobNA"
      },
      "source": [
        "s + \"10\""
      ],
      "execution_count": null,
      "outputs": []
    },
    {
      "cell_type": "markdown",
      "metadata": {
        "id": "7aUEUFSBobNA"
      },
      "source": [
        "<b>Can you add 10 to s? Why or why not? <br><br></b>\n",
        "<i>Always check data type if you are unsure of data type</i>"
      ]
    },
    {
      "cell_type": "code",
      "metadata": {
        "id": "NS4kol3HobNA"
      },
      "source": [
        "4+4.5"
      ],
      "execution_count": null,
      "outputs": []
    },
    {
      "cell_type": "code",
      "metadata": {
        "id": "6bUpMCEUobNA"
      },
      "source": [
        "#What would this output?\n",
        "\n",
        "s + 10"
      ],
      "execution_count": null,
      "outputs": []
    },
    {
      "cell_type": "markdown",
      "metadata": {
        "id": "m9En-L-gobNB"
      },
      "source": [
        "<h3> iii. Indexing</h3><br>\n",
        "<b>How to access characters in a string?</b><br>\n",
        "\n",
        "\n",
        "\n",
        "<img src = \"https://www.python-course.eu/images/positive_and_negative_indices_of_strings.png\">\n",
        "\n",
        "\n",
        "\n",
        "We can access characters in a string by indexing. Indexing start from 0, therefore, at index 0 you would get the first character in the string. To get the last character in the string you use index -1. If you try to access an index out of the range or use a decimal number(must be an integer), you will get errors. The largest index in each string is the amount of characters minus 1 (length - 1). Spaces are counted. To get the index of the string, type the variable assigned to that string and then brackets with the integer of the index in the inside. If you want to print only certain parts of the string you can index from one index to the other using a colon ( : ) between the integers. You can also step over a certain number a characters. You won't always need a start, end, and step.\n",
        "\n"
      ]
    },
    {
      "cell_type": "markdown",
      "metadata": {
        "id": "74qQfAWSobNB"
      },
      "source": [
        " <h1> <b><font color = coral>&#9998; <font color = coral>EXERCISE 1:</h1></font>"
      ]
    },
    {
      "cell_type": "markdown",
      "metadata": {
        "id": "osWEh3u_obNB"
      },
      "source": [
        "Now that you know how to index, print the following strings, by indexing the variable \"box\".<br>\n",
        "<ol>\n",
        "<b>1) \"World\"<br><br>\n",
        "2) \"llo Wor\"<br><br>\n",
        "3) \"eood\"</b>\n",
        "</ol>"
      ]
    },
    {
      "cell_type": "code",
      "metadata": {
        "collapsed": true,
        "id": "-bDepnUpobNB"
      },
      "source": [
        "#Run this cell\n",
        "box = \"Hello World\""
      ],
      "execution_count": null,
      "outputs": []
    },
    {
      "cell_type": "code",
      "metadata": {
        "id": "zFCxHyXQobNC"
      },
      "source": [
        "#1 \n",
        "box[-5:]"
      ],
      "execution_count": null,
      "outputs": []
    },
    {
      "cell_type": "code",
      "metadata": {
        "id": "lZmSVj-DobNC"
      },
      "source": [
        "#2\n",
        "box[-9:-2]"
      ],
      "execution_count": null,
      "outputs": []
    },
    {
      "cell_type": "code",
      "metadata": {
        "id": "qhew7MvOobNC"
      },
      "source": [
        "#3\n",
        "box[1:11:3]"
      ],
      "execution_count": null,
      "outputs": []
    },
    {
      "cell_type": "markdown",
      "metadata": {
        "id": "2CwuDSTn74dO"
      },
      "source": [
        "**Exercise** Print the string in reverse"
      ]
    },
    {
      "cell_type": "code",
      "metadata": {
        "id": "fqX-K3FM74E0"
      },
      "source": [
        "# 4\n",
        "box[::-1]"
      ],
      "execution_count": null,
      "outputs": []
    },
    {
      "cell_type": "code",
      "metadata": {
        "id": "6tc8E_AcNLs-"
      },
      "source": [
        "box[-1::-1]"
      ],
      "execution_count": null,
      "outputs": []
    },
    {
      "cell_type": "markdown",
      "metadata": {
        "id": "Fr2a8BvVobNC"
      },
      "source": [
        "<h3> iv. Concatenation </h3><br>\n",
        "Concatenation could be thought as the combination of strings. The new string that is created is referred to as a string object. You cannot concatenate a string and an integer because they are separate object types. You will get an error. If you want to merge the two, you must first convert the integer to a string. To do that you use the syntax : <i><b>str(YOUR TEXT HERE).</i></b>\n",
        "\n",
        "<b> Merge Multiple Strings Together</b><br>\n",
        "To merge multiple strings together you could use the Addition Operator ( + ), this will merge the strings into a single object. \n",
        "<br><br><br>\n",
        "<font color = \"coral\"><b> * Concatenate the variables below to create string </font><b>'Hello World, The US got independence in 1776'\n"
      ]
    },
    {
      "cell_type": "code",
      "metadata": {
        "id": "DWjVtzMzobND"
      },
      "source": [
        "string1 = \"Hello World, \"\n",
        "string2 = 'The US got independence in '\n",
        "int1 = 1776\n",
        "\n",
        "string1+string2+str(int1)"
      ],
      "execution_count": null,
      "outputs": []
    },
    {
      "cell_type": "markdown",
      "metadata": {
        "id": "3A_T2n_OobND"
      },
      "source": [
        " <h1> <b><font color = coral>&#9998; <font color = coral>EXERCISE 2:</h1></font>"
      ]
    },
    {
      "cell_type": "markdown",
      "metadata": {
        "id": "dK_PvBbAobND"
      },
      "source": [
        "<font color = \"coral\">Print the following object, given the variables below. Remember that spaces count.<br><br>\n",
        "<center><b>\"The Python for Data Science course is 9 weeks long.\"</b></center>"
      ]
    },
    {
      "cell_type": "code",
      "metadata": {
        "id": "zN-qiCtPobND"
      },
      "source": [
        "var1 = \" weeks long.\"\n",
        "var2 = \"The Python for Data Science course is\"\n",
        "var3 =  9 \n",
        "var2 +' '+str(var3)+var1\n",
        "# Concatenate the variables to get the string above."
      ],
      "execution_count": null,
      "outputs": []
    },
    {
      "cell_type": "markdown",
      "metadata": {
        "id": "R1uRguttobNE"
      },
      "source": [
        "## c. List"
      ]
    },
    {
      "cell_type": "markdown",
      "metadata": {
        "id": "m7GbXyDCobNE"
      },
      "source": [
        "List is a built-in type in Python. Lists are very similar to strings, but instead you use square brackets ( [ ] ) to access the data. Indexing works the same as with strings, but now instead of indexing for each character, you are indexing to get each item in the list. Try it out with the list below. lst1 is a list of strings. Try to index out different items in the list and see how similar it is to indexing in strings."
      ]
    },
    {
      "cell_type": "code",
      "metadata": {
        "id": "qWHaNDN8obNE",
        "colab": {
          "base_uri": "https://localhost:8080/"
        },
        "outputId": "6724878a-eccf-41c3-a986-5c68f8a5240c"
      },
      "source": [
        "#Run this cell\n",
        "\n",
        "lst1 = [\"fuhsd\", \"FUHSD\", \"AdultSchool\", \"FUHSD_AS\"]\n",
        "lst1"
      ],
      "execution_count": null,
      "outputs": [
        {
          "output_type": "execute_result",
          "data": {
            "text/plain": [
              "['fuhsd', 'FUHSD', 'AdultSchool', 'FUHSD_AS']"
            ]
          },
          "metadata": {
            "tags": []
          },
          "execution_count": 55
        }
      ]
    },
    {
      "cell_type": "markdown",
      "metadata": {
        "id": "eVNn9ocvobNE"
      },
      "source": [
        "### i. Indexing"
      ]
    },
    {
      "cell_type": "code",
      "metadata": {
        "id": "i9ek07e7obNE",
        "colab": {
          "base_uri": "https://localhost:8080/",
          "height": 35
        },
        "outputId": "b9848c86-ebf3-43b7-fe27-ac681cf19187"
      },
      "source": [
        "#Try indexing\n",
        "\n",
        "lst1[0]"
      ],
      "execution_count": null,
      "outputs": [
        {
          "output_type": "execute_result",
          "data": {
            "application/vnd.google.colaboratory.intrinsic+json": {
              "type": "string"
            },
            "text/plain": [
              "'fuhsd'"
            ]
          },
          "metadata": {
            "tags": []
          },
          "execution_count": 56
        }
      ]
    },
    {
      "cell_type": "code",
      "metadata": {
        "id": "CS0z81TK92t3",
        "colab": {
          "base_uri": "https://localhost:8080/",
          "height": 35
        },
        "outputId": "b186a91f-8abf-469a-9097-7fc9e68f86f0"
      },
      "source": [
        "lst1[0][2]"
      ],
      "execution_count": null,
      "outputs": [
        {
          "output_type": "execute_result",
          "data": {
            "application/vnd.google.colaboratory.intrinsic+json": {
              "type": "string"
            },
            "text/plain": [
              "'h'"
            ]
          },
          "metadata": {
            "tags": []
          },
          "execution_count": 57
        }
      ]
    },
    {
      "cell_type": "markdown",
      "metadata": {
        "id": "X8JhUAEvobNF"
      },
      "source": [
        "#### Get index of an item in the list"
      ]
    },
    {
      "cell_type": "code",
      "metadata": {
        "scrolled": true,
        "id": "Ni-cU7w6obNF",
        "colab": {
          "base_uri": "https://localhost:8080/"
        },
        "outputId": "21acda55-f2f7-49cc-fd1a-f79537ac2327"
      },
      "source": [
        "lst2 = [\"fuhsd\", \"FUHSD\", \"AdultSchool\", \"FUHSD_AS\", \"fuhsd\", \"FUHSD_AS\"]\n",
        "lst2.index(\"FUHSD_AS\")"
      ],
      "execution_count": null,
      "outputs": [
        {
          "output_type": "execute_result",
          "data": {
            "text/plain": [
              "3"
            ]
          },
          "metadata": {
            "tags": []
          },
          "execution_count": 58
        }
      ]
    },
    {
      "cell_type": "code",
      "metadata": {
        "id": "Z1NQfXRb-EUM",
        "colab": {
          "base_uri": "https://localhost:8080/",
          "height": 35
        },
        "outputId": "7f8c653b-078e-4c34-e8f9-f6a66bc32de5"
      },
      "source": [
        "lst2[lst2.index(\"FUHSD_AS\")][4]"
      ],
      "execution_count": null,
      "outputs": [
        {
          "output_type": "execute_result",
          "data": {
            "application/vnd.google.colaboratory.intrinsic+json": {
              "type": "string"
            },
            "text/plain": [
              "'D'"
            ]
          },
          "metadata": {
            "tags": []
          },
          "execution_count": 59
        }
      ]
    },
    {
      "cell_type": "code",
      "metadata": {
        "id": "CpVyIew_-MYd",
        "colab": {
          "base_uri": "https://localhost:8080/",
          "height": 164
        },
        "outputId": "af3ba532-70a8-4917-e933-30a838829e0a"
      },
      "source": [
        "lst2.index(\"Hello\")"
      ],
      "execution_count": null,
      "outputs": [
        {
          "output_type": "error",
          "ename": "ValueError",
          "evalue": "ignored",
          "traceback": [
            "\u001b[0;31m---------------------------------------------------------------------------\u001b[0m",
            "\u001b[0;31mValueError\u001b[0m                                Traceback (most recent call last)",
            "\u001b[0;32m<ipython-input-60-a357890d2ce9>\u001b[0m in \u001b[0;36m<module>\u001b[0;34m()\u001b[0m\n\u001b[0;32m----> 1\u001b[0;31m \u001b[0mlst2\u001b[0m\u001b[0;34m.\u001b[0m\u001b[0mindex\u001b[0m\u001b[0;34m(\u001b[0m\u001b[0;34m\"Hello\"\u001b[0m\u001b[0;34m)\u001b[0m\u001b[0;34m\u001b[0m\u001b[0;34m\u001b[0m\u001b[0m\n\u001b[0m",
            "\u001b[0;31mValueError\u001b[0m: 'Hello' is not in list"
          ]
        }
      ]
    },
    {
      "cell_type": "markdown",
      "metadata": {
        "id": "GNK50XqzobNF"
      },
      "source": [
        "### ii. Length of list\n",
        "\n",
        "SYNTAX: \n",
        "> <code><b>len(</b>\"YOUR_LIST_HERE\"<b>)"
      ]
    },
    {
      "cell_type": "code",
      "metadata": {
        "id": "SN6Z45GtobNF",
        "colab": {
          "base_uri": "https://localhost:8080/"
        },
        "outputId": "d64a7ed2-c09f-449e-f491-3bd70ed9530d"
      },
      "source": [
        "len(lst1)"
      ],
      "execution_count": null,
      "outputs": [
        {
          "output_type": "execute_result",
          "data": {
            "text/plain": [
              "4"
            ]
          },
          "metadata": {
            "tags": []
          },
          "execution_count": 62
        }
      ]
    },
    {
      "cell_type": "markdown",
      "metadata": {
        "id": "Kao-LiygobNG"
      },
      "source": [
        "### iii. Combining Lists"
      ]
    },
    {
      "cell_type": "code",
      "metadata": {
        "id": "X4YTGZfmobNG",
        "colab": {
          "base_uri": "https://localhost:8080/"
        },
        "outputId": "c7d8e854-3117-44d8-eb08-20313da0cc46"
      },
      "source": [
        "list(range(10))\n",
        "list(range(10,20))\n",
        "list(range(10,20,2))"
      ],
      "execution_count": null,
      "outputs": [
        {
          "output_type": "execute_result",
          "data": {
            "text/plain": [
              "[10, 12, 14, 16, 18]"
            ]
          },
          "metadata": {
            "tags": []
          },
          "execution_count": 63
        }
      ]
    },
    {
      "cell_type": "code",
      "metadata": {
        "id": "DbQ3EYEuobNH",
        "colab": {
          "base_uri": "https://localhost:8080/"
        },
        "outputId": "20870d4c-db29-4960-e7b8-d3926d8a6425"
      },
      "source": [
        "#Method 1\n",
        "lst2 = list(range(10))\n",
        "lst3 = list(range(100,110))\n",
        "\n",
        "ex = lst2 + lst3\n",
        "ex\n"
      ],
      "execution_count": null,
      "outputs": [
        {
          "output_type": "execute_result",
          "data": {
            "text/plain": [
              "[0,\n",
              " 1,\n",
              " 2,\n",
              " 3,\n",
              " 4,\n",
              " 5,\n",
              " 6,\n",
              " 7,\n",
              " 8,\n",
              " 9,\n",
              " 100,\n",
              " 101,\n",
              " 102,\n",
              " 103,\n",
              " 104,\n",
              " 105,\n",
              " 106,\n",
              " 107,\n",
              " 108,\n",
              " 109]"
            ]
          },
          "metadata": {
            "tags": []
          },
          "execution_count": 64
        }
      ]
    },
    {
      "cell_type": "code",
      "metadata": {
        "id": "_1b0OKooobNH",
        "colab": {
          "base_uri": "https://localhost:8080/"
        },
        "outputId": "1b977fb6-5b5e-46fd-fd60-93eb75481731"
      },
      "source": [
        "#Method 2\n",
        "lst2 = list(range(10))\n",
        "lst3 = list(range(100,120))\n",
        "\n",
        "lst2.extend(lst3)\n",
        "lst2"
      ],
      "execution_count": null,
      "outputs": [
        {
          "output_type": "execute_result",
          "data": {
            "text/plain": [
              "[0,\n",
              " 1,\n",
              " 2,\n",
              " 3,\n",
              " 4,\n",
              " 5,\n",
              " 6,\n",
              " 7,\n",
              " 8,\n",
              " 9,\n",
              " 100,\n",
              " 101,\n",
              " 102,\n",
              " 103,\n",
              " 104,\n",
              " 105,\n",
              " 106,\n",
              " 107,\n",
              " 108,\n",
              " 109,\n",
              " 110,\n",
              " 111,\n",
              " 112,\n",
              " 113,\n",
              " 114,\n",
              " 115,\n",
              " 116,\n",
              " 117,\n",
              " 118,\n",
              " 119]"
            ]
          },
          "metadata": {
            "tags": []
          },
          "execution_count": 65
        }
      ]
    },
    {
      "cell_type": "code",
      "metadata": {
        "id": "ot2vA18NobNI",
        "colab": {
          "base_uri": "https://localhost:8080/"
        },
        "outputId": "03f76de5-38d7-46d9-b55f-9a71360f38ec"
      },
      "source": [
        "# Append\n",
        "lst2 = list(range(10))\n",
        "lst3 = list(range(10,20))\n",
        "#append will add one element\n",
        "lst2.append(lst3)\n",
        "lst2"
      ],
      "execution_count": null,
      "outputs": [
        {
          "output_type": "execute_result",
          "data": {
            "text/plain": [
              "[0, 1, 2, 3, 4, 5, 6, 7, 8, 9, [10, 11, 12, 13, 14, 15, 16, 17, 18, 19]]"
            ]
          },
          "metadata": {
            "tags": []
          },
          "execution_count": 66
        }
      ]
    },
    {
      "cell_type": "code",
      "metadata": {
        "id": "p29tt-FjobNI",
        "colab": {
          "base_uri": "https://localhost:8080/"
        },
        "outputId": "c21ea8ee-de4e-4532-9544-cd3fd6773596"
      },
      "source": [
        "# Insert\n",
        "lst2 = list(range(10))\n",
        "lst3 = list(range(10,20))\n",
        "#insert new element to the older\n",
        "\n",
        "lst2.insert(2,lst3)\n",
        "lst2\n",
        "\n"
      ],
      "execution_count": null,
      "outputs": [
        {
          "output_type": "execute_result",
          "data": {
            "text/plain": [
              "[0, 1, [10, 11, 12, 13, 14, 15, 16, 17, 18, 19], 2, 3, 4, 5, 6, 7, 8, 9]"
            ]
          },
          "metadata": {
            "tags": []
          },
          "execution_count": 67
        }
      ]
    },
    {
      "cell_type": "code",
      "metadata": {
        "collapsed": true,
        "id": "UTXklK7PobNJ",
        "colab": {
          "base_uri": "https://localhost:8080/"
        },
        "outputId": "abe716cd-d2c6-408c-bb47-211f655086e2"
      },
      "source": [
        "# append using insert()\n",
        "lst2.insert(len(lst2),lst3)\n",
        "lst2"
      ],
      "execution_count": null,
      "outputs": [
        {
          "output_type": "execute_result",
          "data": {
            "text/plain": [
              "[0,\n",
              " 1,\n",
              " [10, 11, 12, 13, 14, 15, 16, 17, 18, 19],\n",
              " 2,\n",
              " 3,\n",
              " 4,\n",
              " 5,\n",
              " 6,\n",
              " 7,\n",
              " 8,\n",
              " 9,\n",
              " [10, 11, 12, 13, 14, 15, 16, 17, 18, 19]]"
            ]
          },
          "metadata": {
            "tags": []
          },
          "execution_count": 68
        }
      ]
    },
    {
      "cell_type": "markdown",
      "metadata": {
        "id": "NRYu6UKsobNJ"
      },
      "source": [
        "#### What is a major difference you immediately notice between the 4 methods?"
      ]
    },
    {
      "cell_type": "markdown",
      "metadata": {
        "id": "x3u3LftXobNJ"
      },
      "source": [
        "<ul>\n",
        "<b>+ </b>: Returns a new (concatenated) list as a value, whereas extend only alters an existing list.<br><br>\n",
        "<b>extend()</b>: Used to merge two lists or insert multiple elements in one list. Similar to the + operator, but extend is faster, especially for large lists.<br><br>\n",
        "<b>append()</b>: Updates the list by adding an object to the list. It is basically used in Python to add one element.<br><br>\n",
        "<b>insert()</b>: Also, updates the list by adding an object to the list. This time, the index of the object insertion is specified.\n"
      ]
    },
    {
      "cell_type": "markdown",
      "metadata": {
        "id": "js6xg-0OobNK"
      },
      "source": [
        "Before we learn about tuples...\n",
        "\n",
        "## IMMUTABLE VS MUTABLE"
      ]
    },
    {
      "cell_type": "markdown",
      "metadata": {
        "id": "Oxvw8bzlobNK"
      },
      "source": [
        "\"Everything in Python is an object. And what every newcomer to Python should quickly learn is that all objects in Python can be either mutable or immutable. Simple put, a <b>mutable</b> object can be changed after it is created, and an <b>immutable</b> object can’t.\n",
        "<ul>\n",
        "- Immutable are quicker to access than mutable objects.<br><br>\n",
        "- Mutable objects are great to use when you need to change the size of the object, example list, dict etc.. <br><br>\n",
        "- Immutables are used when you need to ensure that the object you made will always stay the same.<br><br>\n",
        "- The “value” of an immutable object can’t change, but it’s constituent objects can.\n",
        "<ul>- Immutable objects appearing to be modified are actually new object instances being created and assigned onto the existing reference pointer or variable.\"\n",
        "\n",
        "\n",
        "</ul></ul>\n",
        "\n",
        "<br><br>\n",
        "<img src = \"https://cdn-images-1.medium.com/max/1600/1*uFlTNY4W3czywyU18zxl8w.png\">\n",
        "\n",
        "https://medium.com/@meghamohan/mutable-and-immutable-side-of-python-c2145cf72747"
      ]
    },
    {
      "cell_type": "markdown",
      "metadata": {
        "id": "bGBQahCBobNK"
      },
      "source": [
        "## d. Tuple"
      ]
    },
    {
      "cell_type": "markdown",
      "metadata": {
        "id": "qfDk8NidobNK"
      },
      "source": [
        "A tuple is similar to a list. The difference between the two is that we cannot change the elements of a tuple once it is assigned whereas in a list, elements can be changed.\n",
        "\n",
        "BENEFITS:<br>\n",
        "\n",
        "<ul>\n",
        "- Faster than lists<br>\n",
        "- Protect the data, which is immutable<br>\n",
        "- Tuples can be used as keys on dictionaries</ul>"
      ]
    },
    {
      "cell_type": "markdown",
      "metadata": {
        "id": "VQmS4uq9obNL"
      },
      "source": [
        "### i. Creating Tuples<br>\n",
        "To create a tuple you use parantheses, instead of squared brackets."
      ]
    },
    {
      "cell_type": "code",
      "metadata": {
        "id": "RI_Oci6dobNL"
      },
      "source": [
        "#Run this cell\n",
        "\n",
        "tup1 = (\"fuhsd\", \"FUHSD\", \"AdultSchool\", \"FUHSD_AS\")\n",
        "type(tup1)"
      ],
      "execution_count": null,
      "outputs": []
    },
    {
      "cell_type": "markdown",
      "metadata": {
        "id": "FqzEdWqpobNL"
      },
      "source": [
        "You can also create a tuple without the parantheses."
      ]
    },
    {
      "cell_type": "code",
      "metadata": {
        "id": "CJuT7_lCobNM"
      },
      "source": [
        "tup2 = \"fuhsd\", \"FUHSD\", \"AdultSchool\", \"FUHSD_AS\"\n",
        "tup2"
      ],
      "execution_count": null,
      "outputs": []
    },
    {
      "cell_type": "markdown",
      "metadata": {
        "id": "P5sQiHePobNM"
      },
      "source": [
        "### ii. Can I index a tuple?<br>\n",
        "Indexing for tuples is the same as for lists."
      ]
    },
    {
      "cell_type": "code",
      "metadata": {
        "id": "FjpXbwxwobNM"
      },
      "source": [
        "#Run this cell\n",
        "tup1[0]"
      ],
      "execution_count": null,
      "outputs": []
    },
    {
      "cell_type": "markdown",
      "metadata": {
        "id": "WA3-DLQ1obNM"
      },
      "source": [
        "#### Get index of an item in the tuple"
      ]
    },
    {
      "cell_type": "code",
      "metadata": {
        "scrolled": true,
        "id": "XdoLeWOYobNM"
      },
      "source": [
        "tup1.index(\"fuhsd\")"
      ],
      "execution_count": null,
      "outputs": []
    },
    {
      "cell_type": "markdown",
      "metadata": {
        "id": "bsjI9ZoZobNN"
      },
      "source": [
        "### iii. Concatenating Tuples\n",
        "\n",
        "Tuples are immutable; you can't change which variables they contain after construction. However, you can concatenate or slice them to form new tuples."
      ]
    },
    {
      "cell_type": "code",
      "metadata": {
        "collapsed": true,
        "id": "q_8R4Y36obNN"
      },
      "source": [
        "tup3 = (\"Sunnyvale\", \"California\", \"West Coast\")"
      ],
      "execution_count": null,
      "outputs": []
    },
    {
      "cell_type": "code",
      "metadata": {
        "id": "DjGvPJkYobNN"
      },
      "source": [
        "tup1 += tup3\n",
        "tup1"
      ],
      "execution_count": null,
      "outputs": []
    },
    {
      "cell_type": "markdown",
      "metadata": {
        "id": "TjeIy3XGobNN"
      },
      "source": [
        "# Changing Elements in Mutable VS Immutable Objects"
      ]
    },
    {
      "cell_type": "code",
      "metadata": {
        "collapsed": true,
        "id": "dhISdZRhobNN"
      },
      "source": [
        "lst1 = [1,2,3,4,5]\n",
        "tup1 = (1,2,3,4,5)"
      ],
      "execution_count": null,
      "outputs": []
    },
    {
      "cell_type": "code",
      "metadata": {
        "id": "9K8CNxProbNO"
      },
      "source": [
        "lst1[1] = 10\n",
        "lst1"
      ],
      "execution_count": null,
      "outputs": []
    },
    {
      "cell_type": "code",
      "metadata": {
        "id": "s5BFblumobNO"
      },
      "source": [
        "tup1[1] = 10\n"
      ],
      "execution_count": null,
      "outputs": []
    },
    {
      "cell_type": "markdown",
      "metadata": {
        "id": "vmAg2pOQobNP"
      },
      "source": [
        "What if the element inside the tuple is mutable?"
      ]
    },
    {
      "cell_type": "code",
      "metadata": {
        "collapsed": true,
        "id": "MtPz-et8obNP"
      },
      "source": [
        "lst2 = [1,[2,4,6,8],3,4,5]\n",
        "tup2 = (1,(2,4,6,8),3,4,5)\n",
        "tup3 = (1,[2,4,6,8],3,4,5)"
      ],
      "execution_count": null,
      "outputs": []
    },
    {
      "cell_type": "code",
      "metadata": {
        "id": "la3hnnr_obNP"
      },
      "source": [
        "lst2[1][0] = 1\n",
        "lst2"
      ],
      "execution_count": null,
      "outputs": []
    },
    {
      "cell_type": "code",
      "metadata": {
        "id": "kaupC5y3obNP"
      },
      "source": [
        "tup2[1][0] = 1\n",
        "tup2"
      ],
      "execution_count": null,
      "outputs": []
    },
    {
      "cell_type": "code",
      "metadata": {
        "id": "Dh402G28obNP"
      },
      "source": [
        "tup3[1][0] = 1\n",
        "tup3"
      ],
      "execution_count": null,
      "outputs": []
    },
    {
      "cell_type": "code",
      "metadata": {
        "collapsed": true,
        "id": "yP67ybE-obNQ"
      },
      "source": [
        ""
      ],
      "execution_count": null,
      "outputs": []
    },
    {
      "cell_type": "code",
      "metadata": {
        "id": "s8H9cAxFobNQ"
      },
      "source": [
        "tup[1]=1\n",
        "tup3"
      ],
      "execution_count": null,
      "outputs": []
    },
    {
      "cell_type": "markdown",
      "metadata": {
        "id": "gG9rJ5gQobNQ"
      },
      "source": [
        "## e. Dictionary"
      ]
    },
    {
      "cell_type": "markdown",
      "metadata": {
        "id": "Vcn4ouqvobNQ"
      },
      "source": [
        "One of Python's built−in datatypes is the dictionary, which defines one−to−one relationships between keys and values.\n",
        "\n",
        "\"Like lists dictionaries can easily be changed, can be shrunk and grown ad libitum at run time. They shrink and grow without the necessity of making copies. Dictionaries can be contained in lists and vice versa. But what's the difference between lists and dictionaries? Lists are ordered sets of objects, whereas dictionaries are <b>unordered sets.</b> But the main difference is that items in dictionaries are accessed via keys and not via their position.\"\n",
        "\n",
        "https://www.python-course.eu/dictionaries.php\n",
        "\n",
        "\n",
        "\n",
        "<br><br>\n",
        "A pair of braces creates an empty dictionary: {}. Placing a comma-separated list of key:value pairs within the braces adds initial key: value pairs to the dictionary; this is also the way dictionaries are written on output."
      ]
    },
    {
      "cell_type": "code",
      "metadata": {
        "id": "WV53lLoRobNQ",
        "colab": {
          "base_uri": "https://localhost:8080/"
        },
        "outputId": "e7b1a5fc-3382-4ade-c99e-5e798c44dfda"
      },
      "source": [
        "#Run this cell\n",
        "\n",
        "dict1 = {\"fruit\" : \"orange, watermelon, grape\", \"vegetable\":\"onion, mushroom, lettuce\"}\n",
        "dict1"
      ],
      "execution_count": null,
      "outputs": [
        {
          "output_type": "execute_result",
          "data": {
            "text/plain": [
              "{'fruit': 'orange, watermelon, grape', 'vegetable': 'onion, mushroom, lettuce'}"
            ]
          },
          "metadata": {
            "tags": []
          },
          "execution_count": 15
        }
      ]
    },
    {
      "cell_type": "code",
      "metadata": {
        "colab": {
          "base_uri": "https://localhost:8080/",
          "height": 181
        },
        "id": "m0rPO3uo3P6x",
        "outputId": "e7d095bf-ba58-4417-bb23-09de1887edc9"
      },
      "source": [
        "dict1[\"fruit\"].remove(\"grape\")\n",
        "dict1"
      ],
      "execution_count": null,
      "outputs": [
        {
          "output_type": "error",
          "ename": "AttributeError",
          "evalue": "ignored",
          "traceback": [
            "\u001b[0;31m---------------------------------------------------------------------------\u001b[0m",
            "\u001b[0;31mAttributeError\u001b[0m                            Traceback (most recent call last)",
            "\u001b[0;32m<ipython-input-24-b1994e86b38f>\u001b[0m in \u001b[0;36m<module>\u001b[0;34m()\u001b[0m\n\u001b[0;32m----> 1\u001b[0;31m \u001b[0mdict1\u001b[0m\u001b[0;34m[\u001b[0m\u001b[0;34m\"fruit\"\u001b[0m\u001b[0;34m]\u001b[0m\u001b[0;34m.\u001b[0m\u001b[0mremove\u001b[0m\u001b[0;34m(\u001b[0m\u001b[0;34m\"grape\"\u001b[0m\u001b[0;34m)\u001b[0m\u001b[0;34m\u001b[0m\u001b[0;34m\u001b[0m\u001b[0m\n\u001b[0m\u001b[1;32m      2\u001b[0m \u001b[0mdict1\u001b[0m\u001b[0;34m\u001b[0m\u001b[0;34m\u001b[0m\u001b[0m\n",
            "\u001b[0;31mAttributeError\u001b[0m: 'str' object has no attribute 'remove'"
          ]
        }
      ]
    },
    {
      "cell_type": "markdown",
      "metadata": {
        "id": "JcVGAuTGEUeN"
      },
      "source": [
        "Rather than store multiple items as a string, store it as a list.  Then performing operations on the list is easy."
      ]
    },
    {
      "cell_type": "code",
      "metadata": {
        "id": "zmSto868DJmc"
      },
      "source": [
        "fridge = {}\n",
        "fridge[\"fruit\"] = [\"orange\", \"watermelon\", \"grape\"]\n",
        "fridge[\"vegetables\"]  = [\"onion\", \"mushroom\", \"lettuce\"]\n"
      ],
      "execution_count": null,
      "outputs": []
    },
    {
      "cell_type": "code",
      "metadata": {
        "id": "ZWTjLudMDfhv"
      },
      "source": [
        "fridge[\"fruit\"].append(\"apple\")"
      ],
      "execution_count": null,
      "outputs": []
    },
    {
      "cell_type": "code",
      "metadata": {
        "colab": {
          "base_uri": "https://localhost:8080/"
        },
        "id": "3UcPVinmDpPs",
        "outputId": "f2943ee3-c3f6-40b2-8acd-0f9c7125b680"
      },
      "source": [
        "fridge"
      ],
      "execution_count": null,
      "outputs": [
        {
          "output_type": "execute_result",
          "data": {
            "text/plain": [
              "{'fruit': ['orange', 'watermelon', 'grape', 'apple'],\n",
              " 'vegetables': ['onion', 'mushroom', 'lettuce']}"
            ]
          },
          "metadata": {
            "tags": []
          },
          "execution_count": 22
        }
      ]
    },
    {
      "cell_type": "code",
      "metadata": {
        "colab": {
          "base_uri": "https://localhost:8080/"
        },
        "id": "JCjdOC7jVxzO",
        "outputId": "ea7de448-0980-4049-9b24-7a9ac58192bd"
      },
      "source": [
        "fridge['fruit'].remove('grape')\n",
        "fridge"
      ],
      "execution_count": null,
      "outputs": [
        {
          "output_type": "execute_result",
          "data": {
            "text/plain": [
              "{'fruit': ['orange', 'watermelon', 'apple'],\n",
              " 'vegetables': ['onion', 'mushroom', 'lettuce']}"
            ]
          },
          "metadata": {
            "tags": []
          },
          "execution_count": 23
        }
      ]
    },
    {
      "cell_type": "markdown",
      "metadata": {
        "id": "z4jCIA8dEdPt"
      },
      "source": [
        "If we had stored multiple elements as a string, then removing an item from the list is cumbersome. Ideally, we will not store this as a string when we create a variable.  But the data source we are working with might include data like this. So we should have to use techniques like what is described below.\n",
        "\n",
        "First we have to extract the items of the string using `split()`. But this only removes from the copy of the string, not the original dictionary.  So we should then update the dictionary after recreating the string again."
      ]
    },
    {
      "cell_type": "code",
      "metadata": {
        "colab": {
          "base_uri": "https://localhost:8080/"
        },
        "id": "lAg9zi_WDs2n",
        "outputId": "b0d5d838-f531-4f7b-fc34-6fdb37aa6581"
      },
      "source": [
        "dict1 = {\"fruit\" : \"orange, watermelon, grape\", \"vegetable\":\"onion, mushroom, lettuce\"}\n",
        ";\n",
        "fruit_list= dict1[\"fruit\"].split(\", \")\n",
        "\n",
        "fruit_list.remove(\"grape\")\n",
        "\n",
        "print(fruit_list)"
      ],
      "execution_count": null,
      "outputs": [
        {
          "output_type": "stream",
          "text": [
            "['orange', 'watermelon']\n"
          ],
          "name": "stdout"
        }
      ]
    },
    {
      "cell_type": "code",
      "metadata": {
        "colab": {
          "base_uri": "https://localhost:8080/"
        },
        "id": "XL_4OoiNGYD8",
        "outputId": "847feb97-b531-4367-d2fa-a11df2790ab7"
      },
      "source": [
        "\", \".join(fruit_list)\n",
        "dict1\n",
        "fruit_list"
      ],
      "execution_count": null,
      "outputs": [
        {
          "output_type": "execute_result",
          "data": {
            "text/plain": [
              "['orange', 'watermelon']"
            ]
          },
          "metadata": {
            "tags": []
          },
          "execution_count": 35
        }
      ]
    },
    {
      "cell_type": "markdown",
      "metadata": {
        "id": "ykxoDkc4Hi19"
      },
      "source": [
        "Let us put this all together."
      ]
    },
    {
      "cell_type": "code",
      "metadata": {
        "colab": {
          "base_uri": "https://localhost:8080/"
        },
        "id": "rrrOgxvJHTCq",
        "outputId": "6115069f-461f-45d8-b9ed-96b3282f5d13"
      },
      "source": [
        "fruit_list = dict1[\"fruit\"].split(\", \")\n",
        "\n",
        "dict1[\"fruit\"] = \", \".join(fruit_list)\n",
        "dict1"
      ],
      "execution_count": null,
      "outputs": [
        {
          "output_type": "execute_result",
          "data": {
            "text/plain": [
              "{'fruit': 'orange, watermelon', 'vegetable': 'onion, mushroom, lettuce'}"
            ]
          },
          "metadata": {
            "tags": []
          },
          "execution_count": 37
        }
      ]
    },
    {
      "cell_type": "code",
      "metadata": {
        "colab": {
          "base_uri": "https://localhost:8080/"
        },
        "id": "kagJpgHgEQAE",
        "outputId": "42581d64-5152-44f2-82f1-744196c0fc1d"
      },
      "source": [
        "dict1"
      ],
      "execution_count": null,
      "outputs": [
        {
          "output_type": "execute_result",
          "data": {
            "text/plain": [
              "{'fruit': 'orange, watermelon, grape'}"
            ]
          },
          "metadata": {
            "tags": []
          },
          "execution_count": 103
        }
      ]
    },
    {
      "cell_type": "markdown",
      "metadata": {
        "id": "g-9TcYExobNQ"
      },
      "source": [
        "### i. Keys"
      ]
    },
    {
      "cell_type": "markdown",
      "metadata": {
        "id": "C9VTAPNJobNR"
      },
      "source": [
        "Get the keys from \"dict1\""
      ]
    },
    {
      "cell_type": "code",
      "metadata": {
        "id": "EHDuBsbrobNR",
        "colab": {
          "base_uri": "https://localhost:8080/"
        },
        "outputId": "5baadfaa-569c-4bc6-9236-553f67a89328"
      },
      "source": [
        "dict1.keys()"
      ],
      "execution_count": null,
      "outputs": [
        {
          "output_type": "execute_result",
          "data": {
            "text/plain": [
              "dict_keys(['fruit', 'vegetable'])"
            ]
          },
          "metadata": {
            "tags": []
          },
          "execution_count": 42
        }
      ]
    },
    {
      "cell_type": "markdown",
      "metadata": {
        "id": "MrVoheDXobNR"
      },
      "source": [
        "### Indexing With Keys?"
      ]
    },
    {
      "cell_type": "markdown",
      "metadata": {
        "id": "IrQM3yRXobNR"
      },
      "source": [
        "\n",
        "What happens if you try to run \"<b>dict1[0]</b>\"? Why?\n"
      ]
    },
    {
      "cell_type": "code",
      "metadata": {
        "id": "O4wFmZaUobNR",
        "colab": {
          "base_uri": "https://localhost:8080/",
          "height": 35
        },
        "outputId": "68d34dbc-84ea-41d5-ab23-0cc3bdd4a5ec"
      },
      "source": [
        "dict1[\"fruit\"]"
      ],
      "execution_count": null,
      "outputs": [
        {
          "output_type": "execute_result",
          "data": {
            "application/vnd.google.colaboratory.intrinsic+json": {
              "type": "string"
            },
            "text/plain": [
              "'orange, watermelon, grape'"
            ]
          },
          "metadata": {
            "tags": []
          },
          "execution_count": 72
        }
      ]
    },
    {
      "cell_type": "markdown",
      "metadata": {
        "id": "Il7w4POrobNS"
      },
      "source": [
        "OR"
      ]
    },
    {
      "cell_type": "code",
      "metadata": {
        "id": "cHrO3UeoobNS",
        "colab": {
          "base_uri": "https://localhost:8080/",
          "height": 35
        },
        "outputId": "d3d739ca-d3eb-4a96-cc39-efbf2b1d8ea0"
      },
      "source": [
        "dict1.get(\"fruit\")"
      ],
      "execution_count": null,
      "outputs": [
        {
          "output_type": "execute_result",
          "data": {
            "application/vnd.google.colaboratory.intrinsic+json": {
              "type": "string"
            },
            "text/plain": [
              "'orange, watermelon, grape'"
            ]
          },
          "metadata": {
            "tags": []
          },
          "execution_count": 73
        }
      ]
    },
    {
      "cell_type": "markdown",
      "metadata": {
        "id": "nmKrZJ9hobNS"
      },
      "source": [
        "### ii.Values"
      ]
    },
    {
      "cell_type": "markdown",
      "metadata": {
        "id": "zFDpa2ZUobNS"
      },
      "source": [
        "Get the values from \"dict1\""
      ]
    },
    {
      "cell_type": "code",
      "metadata": {
        "id": "7uELEP1aobNS",
        "colab": {
          "base_uri": "https://localhost:8080/"
        },
        "outputId": "e4f5e295-fa8c-4166-c8f4-c9a61cd73f2d"
      },
      "source": [
        "dict1.values()"
      ],
      "execution_count": null,
      "outputs": [
        {
          "output_type": "execute_result",
          "data": {
            "text/plain": [
              "dict_values(['orange, watermelon, grape'])"
            ]
          },
          "metadata": {
            "tags": []
          },
          "execution_count": 78
        }
      ]
    },
    {
      "cell_type": "markdown",
      "metadata": {
        "id": "nfJ3rlrtobNS"
      },
      "source": [
        "### Indexing With Values?\n",
        "A little more complicated"
      ]
    },
    {
      "cell_type": "code",
      "metadata": {
        "colab": {
          "base_uri": "https://localhost:8080/"
        },
        "id": "adF-GWnTWuXh",
        "outputId": "018cd1aa-2400-420c-f052-3b60b1c8705d"
      },
      "source": [
        "l = [1, 2, 3, 4]\n",
        "for i in l:\n",
        "  print(i + 10)"
      ],
      "execution_count": null,
      "outputs": [
        {
          "output_type": "stream",
          "text": [
            "11\n",
            "12\n",
            "13\n",
            "14\n"
          ],
          "name": "stdout"
        }
      ]
    },
    {
      "cell_type": "code",
      "metadata": {
        "colab": {
          "base_uri": "https://localhost:8080/"
        },
        "id": "NoPTxvKfobNT",
        "outputId": "ff6629ce-cf90-47b6-8198-da99398853cf"
      },
      "source": [
        "\n",
        "V = \"orange, watermelon\"\n",
        "\n",
        "for key, value in dict1.items():\n",
        "    if value == V:\n",
        "       print(key)\n",
        "\n",
        "\n"
      ],
      "execution_count": null,
      "outputs": [
        {
          "output_type": "stream",
          "text": [
            "fruit\n"
          ],
          "name": "stdout"
        }
      ]
    },
    {
      "cell_type": "markdown",
      "metadata": {
        "id": "JVWk1D-NobNT"
      },
      "source": [
        "### iii. Length of Dictionary\n",
        "\n",
        "Returns the number of stored entries, i.e. the number of (key,value) pairs."
      ]
    },
    {
      "cell_type": "code",
      "metadata": {
        "id": "WOdwv_rnobNT",
        "colab": {
          "base_uri": "https://localhost:8080/"
        },
        "outputId": "f96a2b38-a8e2-4a6c-d9df-0b666e15dece"
      },
      "source": [
        "len(dict1)"
      ],
      "execution_count": null,
      "outputs": [
        {
          "output_type": "execute_result",
          "data": {
            "text/plain": [
              "2"
            ]
          },
          "metadata": {
            "tags": []
          },
          "execution_count": 69
        }
      ]
    },
    {
      "cell_type": "markdown",
      "metadata": {
        "id": "kg-7zBNAobNT"
      },
      "source": [
        "### iv. Remove key and value"
      ]
    },
    {
      "cell_type": "code",
      "metadata": {
        "colab": {
          "base_uri": "https://localhost:8080/"
        },
        "id": "KfUfaUiMobNT",
        "outputId": "95b1bd18-acf0-46c5-c1a1-4cf6f608ea42"
      },
      "source": [
        "del dict1['vegetable']\n",
        "dict1"
      ],
      "execution_count": null,
      "outputs": [
        {
          "output_type": "execute_result",
          "data": {
            "text/plain": [
              "{'fruit': 'orange, watermelon'}"
            ]
          },
          "metadata": {
            "tags": []
          },
          "execution_count": 70
        }
      ]
    },
    {
      "cell_type": "code",
      "metadata": {
        "id": "hIPWBE36TeG7",
        "colab": {
          "base_uri": "https://localhost:8080/"
        },
        "outputId": "37b40653-37ac-4133-833e-28f3cbadd45e"
      },
      "source": [
        "dict1"
      ],
      "execution_count": null,
      "outputs": [
        {
          "output_type": "execute_result",
          "data": {
            "text/plain": [
              "{'flowers': 'lily, rose',\n",
              " 'fruit': 'orange, watermelon, grape',\n",
              " 'vegetable': 'onion, mushroom, lettuce'}"
            ]
          },
          "metadata": {
            "tags": []
          },
          "execution_count": 119
        }
      ]
    },
    {
      "cell_type": "markdown",
      "metadata": {
        "id": "rBqVytTjobNT"
      },
      "source": [
        "### v. Add new value"
      ]
    },
    {
      "cell_type": "code",
      "metadata": {
        "id": "EipX15O8obNU",
        "colab": {
          "base_uri": "https://localhost:8080/"
        },
        "outputId": "d1b3c30b-d9fa-481e-c939-0b7d54021f1c"
      },
      "source": [
        "dict1[\"new\"] = 2\n",
        "dict1"
      ],
      "execution_count": null,
      "outputs": [
        {
          "output_type": "execute_result",
          "data": {
            "text/plain": [
              "{'fruit': 'orange, watermelon', 'new': 2}"
            ]
          },
          "metadata": {
            "tags": []
          },
          "execution_count": 75
        }
      ]
    },
    {
      "cell_type": "code",
      "metadata": {
        "id": "C-s7RS97XMXL"
      },
      "source": [
        "dict1[\"new\"] = 1"
      ],
      "execution_count": null,
      "outputs": []
    },
    {
      "cell_type": "markdown",
      "metadata": {
        "id": "-E_Y5zMQobNU"
      },
      "source": [
        "### vi. Concatenating Dictionaries\n",
        "<i>*Note: Keys must be unique</i>"
      ]
    },
    {
      "cell_type": "code",
      "metadata": {
        "colab": {
          "base_uri": "https://localhost:8080/"
        },
        "id": "Kl63IVUjXXHR",
        "outputId": "81c1bc9c-6729-4a03-ca34-40f018636509"
      },
      "source": [
        "dict1 = {\"fruit\" : \"orange, watermelon, grape\", \"vegetable\":\"onion, mushroom, lettuce\"}\n",
        "dict2 = {\"flowers\" : \"lily, rose\"}\n",
        "dict1.update(dict2)\n",
        "dict1"
      ],
      "execution_count": null,
      "outputs": [
        {
          "output_type": "execute_result",
          "data": {
            "text/plain": [
              "{'flowers': 'lily, rose',\n",
              " 'fruit': 'orange, watermelon, grape',\n",
              " 'vegetable': 'onion, mushroom, lettuce'}"
            ]
          },
          "metadata": {
            "tags": []
          },
          "execution_count": 80
        }
      ]
    },
    {
      "cell_type": "code",
      "metadata": {
        "colab": {
          "base_uri": "https://localhost:8080/"
        },
        "id": "-9EwTcYxobNU",
        "outputId": "27e81509-924c-483f-afc0-8d62cc41711a"
      },
      "source": [
        "# overwrites for existing values\n",
        "dict1 = {\"fruit\" : \"orange, watermelon, grape\", \"vegetable\":\"onion, mushroom, lettuce\"}\n",
        "dict2 = {\"fruit\": [5,6,7]}\n",
        "dict1.update(dict2)\n",
        "dict1"
      ],
      "execution_count": null,
      "outputs": [
        {
          "output_type": "execute_result",
          "data": {
            "text/plain": [
              "{'fruit': [5, 6, 7], 'vegetable': 'onion, mushroom, lettuce'}"
            ]
          },
          "metadata": {
            "tags": []
          },
          "execution_count": 78
        }
      ]
    },
    {
      "cell_type": "markdown",
      "metadata": {
        "id": "gU0XSZ3DobNU"
      },
      "source": [
        "### <font color = \"coral\">* Create a new dictionary</font>\n",
        "<font color = \"coral\">Your keys should be \"Country\",\"State\",\"City\",\"ZipCode\"\n",
        "\n",
        "Fill in the values according to the keys."
      ]
    },
    {
      "cell_type": "code",
      "metadata": {
        "id": "feN82mRAobNU"
      },
      "source": [
        "#Your code here\n",
        "new_dict={\"Country\": \"USA, Australia, India\",\" State\": \"CA, Texas\",\"City\": \"Sunnyvale, SFo\",\"ZipCode\":\"94085,95056\"}\n",
        "new_dict\n",
        "print(new_dict.keys())\n",
        "print(new_dict.values())"
      ],
      "execution_count": null,
      "outputs": []
    },
    {
      "cell_type": "markdown",
      "metadata": {
        "id": "-_pS_0EiobNW"
      },
      "source": [
        "# LOOPS"
      ]
    },
    {
      "cell_type": "markdown",
      "metadata": {
        "id": "NRpxw6aJobNX"
      },
      "source": [
        "## a. RANGE\n",
        "\"In a nutshell, it generates a list of numbers, which is generally used to iterate over with for loops. There's many use cases. Often you will want to use this when you want to perform an action X number of times, where you may or may not care about the index. Other times you may want to iterate over a list (or another iterable object), while being able to have the index available.\"\n",
        "\n",
        "Python Central. (2017). Retrieved from http://pythoncentral.io/pythons-range-function-explained/"
      ]
    },
    {
      "cell_type": "markdown",
      "metadata": {
        "id": "7Ku-w5pFobNX"
      },
      "source": [
        "## b. While V.S. For"
      ]
    },
    {
      "cell_type": "markdown",
      "metadata": {
        "id": "23eudvwXobNX"
      },
      "source": [
        "## i. WHILE\n",
        "<img src = \"https://www.tutorialspoint.com/python/images/python_while_loop.jpg\">\n",
        "\n",
        "\"The while loop is similar to an if statement: it executes the code inside of it if some condition is true. The difference is that the while loop will continue to execute as long as the condition is true. In other words, instead of executing if something is true, it executes while that thing is true.\"  \n",
        "\n",
        "Codeacademy. (2017). Retrieved from https://www.codecademy.com/courses/python-beginner-en-cxMGf/0/1?curriculum_id=4f89dab3d788890003000096."
      ]
    },
    {
      "cell_type": "markdown",
      "metadata": {
        "id": "2eHTss-XobNX"
      },
      "source": [
        "## ii. FOR\n",
        "<img src = \"https://www.tutorialspoint.com/python/images/python_for_loop.jpg\">\n",
        "\n",
        "\"The Python for statement iterates over the members of a sequence in order, executing the block each time. Contrast the for statement with the ''while'' loop, used when a condition needs to be checked each iteration, or to repeat a block of code forever. \"\n",
        "\n",
        "Retrieved from https://wiki.python.org/moin/ForLoop.\n"
      ]
    },
    {
      "cell_type": "code",
      "metadata": {
        "id": "Mo8RZxcfobNX",
        "colab": {
          "base_uri": "https://localhost:8080/"
        },
        "outputId": "c9e83187-78ee-487d-9d40-73223abd2859"
      },
      "source": [
        "#Run this cell\n",
        "\n",
        "fruit = [\"apple\", \"banana\", \"orange\", \"lettuce\", \"grapes\"]\n",
        "\n",
        "for i in fruit:\n",
        "        if i == \"lettuce\":\n",
        "            print (\"lettuce is not a fruit\")"
      ],
      "execution_count": null,
      "outputs": [
        {
          "output_type": "stream",
          "text": [
            "lettuce is not a fruit\n"
          ],
          "name": "stdout"
        }
      ]
    },
    {
      "cell_type": "code",
      "metadata": {
        "id": "Z01T-aMAobNX",
        "colab": {
          "base_uri": "https://localhost:8080/"
        },
        "outputId": "d4e6110e-80a5-4092-cdd8-8d9824b47643"
      },
      "source": [
        "fruit = [\"apple\", \"banana\", \"orange\", \"lettuce\", \"grapes\"]\n",
        "lst=[]\n",
        "for i in fruit:\n",
        "        if i!= \"lettuce\":\n",
        "         lst.append(i)\n",
        "lst  \n"
      ],
      "execution_count": null,
      "outputs": [
        {
          "output_type": "execute_result",
          "data": {
            "text/plain": [
              "['apple', 'banana', 'orange', 'grapes']"
            ]
          },
          "metadata": {
            "tags": []
          },
          "execution_count": 106
        }
      ]
    },
    {
      "cell_type": "markdown",
      "metadata": {
        "id": "Cz3nrRc8obNY"
      },
      "source": [
        "### a. List Comprehensions (Nested For Loops)"
      ]
    },
    {
      "cell_type": "markdown",
      "metadata": {
        "id": "l5VQphXiobNY"
      },
      "source": [
        " SAME AS BELOW"
      ]
    },
    {
      "cell_type": "code",
      "metadata": {
        "id": "3OeIYC4qobNY",
        "colab": {
          "base_uri": "https://localhost:8080/"
        },
        "outputId": "4ba19f6e-6734-4104-99b8-a87a47f7699c"
      },
      "source": [
        "original = list(range(15))\n",
        "print(original)\n",
        "squares = [x**2 for x in original]\n",
        "print(squares)\n",
        "\n",
        "add_20 = [ x+20 for x in original]\n",
        "print(add_20)"
      ],
      "execution_count": null,
      "outputs": [
        {
          "output_type": "stream",
          "text": [
            "[0, 1, 2, 3, 4, 5, 6, 7, 8, 9, 10, 11, 12, 13, 14]\n",
            "[0, 1, 4, 9, 16, 25, 36, 49, 64, 81, 100, 121, 144, 169, 196]\n",
            "[20, 21, 22, 23, 24, 25, 26, 27, 28, 29, 30, 31, 32, 33, 34]\n"
          ],
          "name": "stdout"
        }
      ]
    },
    {
      "cell_type": "markdown",
      "metadata": {
        "id": "DoZrZ7-ZobNY"
      },
      "source": [
        " SAME AS BELOW"
      ]
    },
    {
      "cell_type": "code",
      "metadata": {
        "id": "okMMeIiSobNZ",
        "colab": {
          "base_uri": "https://localhost:8080/"
        },
        "outputId": "af07a376-47b8-4282-fc87-d2b45e5ed49d"
      },
      "source": [
        "original = list(range(15))\n",
        "squares = []\n",
        "for x in original:\n",
        "    squares.append(x**2)\n",
        "print(squares)\n",
        "\n",
        "# short cut\n",
        "# squares = [x**2 for x in original]\n"
      ],
      "execution_count": null,
      "outputs": [
        {
          "output_type": "stream",
          "text": [
            "[0, 1, 4, 9, 16, 25, 36, 49, 64, 81, 100, 121, 144, 169, 196]\n"
          ],
          "name": "stdout"
        }
      ]
    },
    {
      "cell_type": "markdown",
      "metadata": {
        "id": "bGPdWNBUobNZ"
      },
      "source": [
        "#### What is happening in this loop?"
      ]
    },
    {
      "cell_type": "code",
      "metadata": {
        "id": "sn4C3K9TobNZ",
        "colab": {
          "base_uri": "https://localhost:8080/"
        },
        "outputId": "3eb9369a-becd-4851-d8e4-c838f8e91eff"
      },
      "source": [
        "new = []\n",
        "for x in squares:\n",
        "    if x < 100:\n",
        "        new.append(x**2)\n",
        "new"
      ],
      "execution_count": null,
      "outputs": [
        {
          "output_type": "execute_result",
          "data": {
            "text/plain": [
              "[0, 1, 16, 81, 256, 625, 1296, 2401, 4096, 6561]"
            ]
          },
          "metadata": {
            "tags": []
          },
          "execution_count": 117
        }
      ]
    },
    {
      "cell_type": "code",
      "metadata": {
        "id": "sRf9MCI0obNZ",
        "colab": {
          "base_uri": "https://localhost:8080/"
        },
        "outputId": "8dc58be5-7fc8-4843-fe67-7afdb540f8bc"
      },
      "source": [
        "new = [i**2 for i in squares if i < 100]\n",
        "new "
      ],
      "execution_count": null,
      "outputs": [
        {
          "output_type": "execute_result",
          "data": {
            "text/plain": [
              "[0, 1, 16, 81, 256, 625, 1296, 2401, 4096, 6561]"
            ]
          },
          "metadata": {
            "tags": []
          },
          "execution_count": 118
        }
      ]
    },
    {
      "cell_type": "markdown",
      "metadata": {
        "id": "iDKSsPRkobNa"
      },
      "source": [
        "### <font color = \"coral\">Try it out:\n",
        "<font color = \"coral\">\n",
        "Turn this for loop into a nested for list comprehension (Should only be one line)."
      ]
    },
    {
      "cell_type": "code",
      "metadata": {
        "collapsed": true,
        "id": "m7XuRtdXobNa",
        "colab": {
          "base_uri": "https://localhost:8080/"
        },
        "outputId": "e35ca2b7-de07-4bb5-f3f7-98052af5acfd"
      },
      "source": [
        "mystery = []\n",
        "for i in range(1000):\n",
        "    if i%2 ==0:\n",
        "        mystery.append(int(i/2))\n",
        "mystery"
      ],
      "execution_count": null,
      "outputs": [
        {
          "output_type": "execute_result",
          "data": {
            "text/plain": [
              "[0,\n",
              " 1,\n",
              " 2,\n",
              " 3,\n",
              " 4,\n",
              " 5,\n",
              " 6,\n",
              " 7,\n",
              " 8,\n",
              " 9,\n",
              " 10,\n",
              " 11,\n",
              " 12,\n",
              " 13,\n",
              " 14,\n",
              " 15,\n",
              " 16,\n",
              " 17,\n",
              " 18,\n",
              " 19,\n",
              " 20,\n",
              " 21,\n",
              " 22,\n",
              " 23,\n",
              " 24,\n",
              " 25,\n",
              " 26,\n",
              " 27,\n",
              " 28,\n",
              " 29,\n",
              " 30,\n",
              " 31,\n",
              " 32,\n",
              " 33,\n",
              " 34,\n",
              " 35,\n",
              " 36,\n",
              " 37,\n",
              " 38,\n",
              " 39,\n",
              " 40,\n",
              " 41,\n",
              " 42,\n",
              " 43,\n",
              " 44,\n",
              " 45,\n",
              " 46,\n",
              " 47,\n",
              " 48,\n",
              " 49,\n",
              " 50,\n",
              " 51,\n",
              " 52,\n",
              " 53,\n",
              " 54,\n",
              " 55,\n",
              " 56,\n",
              " 57,\n",
              " 58,\n",
              " 59,\n",
              " 60,\n",
              " 61,\n",
              " 62,\n",
              " 63,\n",
              " 64,\n",
              " 65,\n",
              " 66,\n",
              " 67,\n",
              " 68,\n",
              " 69,\n",
              " 70,\n",
              " 71,\n",
              " 72,\n",
              " 73,\n",
              " 74,\n",
              " 75,\n",
              " 76,\n",
              " 77,\n",
              " 78,\n",
              " 79,\n",
              " 80,\n",
              " 81,\n",
              " 82,\n",
              " 83,\n",
              " 84,\n",
              " 85,\n",
              " 86,\n",
              " 87,\n",
              " 88,\n",
              " 89,\n",
              " 90,\n",
              " 91,\n",
              " 92,\n",
              " 93,\n",
              " 94,\n",
              " 95,\n",
              " 96,\n",
              " 97,\n",
              " 98,\n",
              " 99,\n",
              " 100,\n",
              " 101,\n",
              " 102,\n",
              " 103,\n",
              " 104,\n",
              " 105,\n",
              " 106,\n",
              " 107,\n",
              " 108,\n",
              " 109,\n",
              " 110,\n",
              " 111,\n",
              " 112,\n",
              " 113,\n",
              " 114,\n",
              " 115,\n",
              " 116,\n",
              " 117,\n",
              " 118,\n",
              " 119,\n",
              " 120,\n",
              " 121,\n",
              " 122,\n",
              " 123,\n",
              " 124,\n",
              " 125,\n",
              " 126,\n",
              " 127,\n",
              " 128,\n",
              " 129,\n",
              " 130,\n",
              " 131,\n",
              " 132,\n",
              " 133,\n",
              " 134,\n",
              " 135,\n",
              " 136,\n",
              " 137,\n",
              " 138,\n",
              " 139,\n",
              " 140,\n",
              " 141,\n",
              " 142,\n",
              " 143,\n",
              " 144,\n",
              " 145,\n",
              " 146,\n",
              " 147,\n",
              " 148,\n",
              " 149,\n",
              " 150,\n",
              " 151,\n",
              " 152,\n",
              " 153,\n",
              " 154,\n",
              " 155,\n",
              " 156,\n",
              " 157,\n",
              " 158,\n",
              " 159,\n",
              " 160,\n",
              " 161,\n",
              " 162,\n",
              " 163,\n",
              " 164,\n",
              " 165,\n",
              " 166,\n",
              " 167,\n",
              " 168,\n",
              " 169,\n",
              " 170,\n",
              " 171,\n",
              " 172,\n",
              " 173,\n",
              " 174,\n",
              " 175,\n",
              " 176,\n",
              " 177,\n",
              " 178,\n",
              " 179,\n",
              " 180,\n",
              " 181,\n",
              " 182,\n",
              " 183,\n",
              " 184,\n",
              " 185,\n",
              " 186,\n",
              " 187,\n",
              " 188,\n",
              " 189,\n",
              " 190,\n",
              " 191,\n",
              " 192,\n",
              " 193,\n",
              " 194,\n",
              " 195,\n",
              " 196,\n",
              " 197,\n",
              " 198,\n",
              " 199,\n",
              " 200,\n",
              " 201,\n",
              " 202,\n",
              " 203,\n",
              " 204,\n",
              " 205,\n",
              " 206,\n",
              " 207,\n",
              " 208,\n",
              " 209,\n",
              " 210,\n",
              " 211,\n",
              " 212,\n",
              " 213,\n",
              " 214,\n",
              " 215,\n",
              " 216,\n",
              " 217,\n",
              " 218,\n",
              " 219,\n",
              " 220,\n",
              " 221,\n",
              " 222,\n",
              " 223,\n",
              " 224,\n",
              " 225,\n",
              " 226,\n",
              " 227,\n",
              " 228,\n",
              " 229,\n",
              " 230,\n",
              " 231,\n",
              " 232,\n",
              " 233,\n",
              " 234,\n",
              " 235,\n",
              " 236,\n",
              " 237,\n",
              " 238,\n",
              " 239,\n",
              " 240,\n",
              " 241,\n",
              " 242,\n",
              " 243,\n",
              " 244,\n",
              " 245,\n",
              " 246,\n",
              " 247,\n",
              " 248,\n",
              " 249,\n",
              " 250,\n",
              " 251,\n",
              " 252,\n",
              " 253,\n",
              " 254,\n",
              " 255,\n",
              " 256,\n",
              " 257,\n",
              " 258,\n",
              " 259,\n",
              " 260,\n",
              " 261,\n",
              " 262,\n",
              " 263,\n",
              " 264,\n",
              " 265,\n",
              " 266,\n",
              " 267,\n",
              " 268,\n",
              " 269,\n",
              " 270,\n",
              " 271,\n",
              " 272,\n",
              " 273,\n",
              " 274,\n",
              " 275,\n",
              " 276,\n",
              " 277,\n",
              " 278,\n",
              " 279,\n",
              " 280,\n",
              " 281,\n",
              " 282,\n",
              " 283,\n",
              " 284,\n",
              " 285,\n",
              " 286,\n",
              " 287,\n",
              " 288,\n",
              " 289,\n",
              " 290,\n",
              " 291,\n",
              " 292,\n",
              " 293,\n",
              " 294,\n",
              " 295,\n",
              " 296,\n",
              " 297,\n",
              " 298,\n",
              " 299,\n",
              " 300,\n",
              " 301,\n",
              " 302,\n",
              " 303,\n",
              " 304,\n",
              " 305,\n",
              " 306,\n",
              " 307,\n",
              " 308,\n",
              " 309,\n",
              " 310,\n",
              " 311,\n",
              " 312,\n",
              " 313,\n",
              " 314,\n",
              " 315,\n",
              " 316,\n",
              " 317,\n",
              " 318,\n",
              " 319,\n",
              " 320,\n",
              " 321,\n",
              " 322,\n",
              " 323,\n",
              " 324,\n",
              " 325,\n",
              " 326,\n",
              " 327,\n",
              " 328,\n",
              " 329,\n",
              " 330,\n",
              " 331,\n",
              " 332,\n",
              " 333,\n",
              " 334,\n",
              " 335,\n",
              " 336,\n",
              " 337,\n",
              " 338,\n",
              " 339,\n",
              " 340,\n",
              " 341,\n",
              " 342,\n",
              " 343,\n",
              " 344,\n",
              " 345,\n",
              " 346,\n",
              " 347,\n",
              " 348,\n",
              " 349,\n",
              " 350,\n",
              " 351,\n",
              " 352,\n",
              " 353,\n",
              " 354,\n",
              " 355,\n",
              " 356,\n",
              " 357,\n",
              " 358,\n",
              " 359,\n",
              " 360,\n",
              " 361,\n",
              " 362,\n",
              " 363,\n",
              " 364,\n",
              " 365,\n",
              " 366,\n",
              " 367,\n",
              " 368,\n",
              " 369,\n",
              " 370,\n",
              " 371,\n",
              " 372,\n",
              " 373,\n",
              " 374,\n",
              " 375,\n",
              " 376,\n",
              " 377,\n",
              " 378,\n",
              " 379,\n",
              " 380,\n",
              " 381,\n",
              " 382,\n",
              " 383,\n",
              " 384,\n",
              " 385,\n",
              " 386,\n",
              " 387,\n",
              " 388,\n",
              " 389,\n",
              " 390,\n",
              " 391,\n",
              " 392,\n",
              " 393,\n",
              " 394,\n",
              " 395,\n",
              " 396,\n",
              " 397,\n",
              " 398,\n",
              " 399,\n",
              " 400,\n",
              " 401,\n",
              " 402,\n",
              " 403,\n",
              " 404,\n",
              " 405,\n",
              " 406,\n",
              " 407,\n",
              " 408,\n",
              " 409,\n",
              " 410,\n",
              " 411,\n",
              " 412,\n",
              " 413,\n",
              " 414,\n",
              " 415,\n",
              " 416,\n",
              " 417,\n",
              " 418,\n",
              " 419,\n",
              " 420,\n",
              " 421,\n",
              " 422,\n",
              " 423,\n",
              " 424,\n",
              " 425,\n",
              " 426,\n",
              " 427,\n",
              " 428,\n",
              " 429,\n",
              " 430,\n",
              " 431,\n",
              " 432,\n",
              " 433,\n",
              " 434,\n",
              " 435,\n",
              " 436,\n",
              " 437,\n",
              " 438,\n",
              " 439,\n",
              " 440,\n",
              " 441,\n",
              " 442,\n",
              " 443,\n",
              " 444,\n",
              " 445,\n",
              " 446,\n",
              " 447,\n",
              " 448,\n",
              " 449,\n",
              " 450,\n",
              " 451,\n",
              " 452,\n",
              " 453,\n",
              " 454,\n",
              " 455,\n",
              " 456,\n",
              " 457,\n",
              " 458,\n",
              " 459,\n",
              " 460,\n",
              " 461,\n",
              " 462,\n",
              " 463,\n",
              " 464,\n",
              " 465,\n",
              " 466,\n",
              " 467,\n",
              " 468,\n",
              " 469,\n",
              " 470,\n",
              " 471,\n",
              " 472,\n",
              " 473,\n",
              " 474,\n",
              " 475,\n",
              " 476,\n",
              " 477,\n",
              " 478,\n",
              " 479,\n",
              " 480,\n",
              " 481,\n",
              " 482,\n",
              " 483,\n",
              " 484,\n",
              " 485,\n",
              " 486,\n",
              " 487,\n",
              " 488,\n",
              " 489,\n",
              " 490,\n",
              " 491,\n",
              " 492,\n",
              " 493,\n",
              " 494,\n",
              " 495,\n",
              " 496,\n",
              " 497,\n",
              " 498,\n",
              " 499]"
            ]
          },
          "metadata": {
            "tags": []
          },
          "execution_count": 111
        }
      ]
    },
    {
      "cell_type": "code",
      "metadata": {
        "id": "yiLMk-VSobNa"
      },
      "source": [
        "#Your code here\n"
      ],
      "execution_count": null,
      "outputs": []
    },
    {
      "cell_type": "markdown",
      "metadata": {
        "id": "jD-7uBeGobNb"
      },
      "source": [
        " <h1> <b><font color = coral>&#9998; <font color = coral>EXERCISE 3:</h1></font>"
      ]
    },
    {
      "cell_type": "markdown",
      "metadata": {
        "id": "gKfCxcQWobNb"
      },
      "source": [
        "<font color = \"coral\">\n",
        "Not that you have all this knowledge on different operators, data types, and loops create a loop that removes all the unwanted information from our list.\n",
        "\n",
        "<b>1) Create a loop where you get rid of all the odd numbers.\n",
        "<br><br>\n",
        "2) Put all the numbers in order from smallest to largest.<br><br>\n",
        "3) Once you only have a list of ordered even numbers convert all these integers into strings.<br><br>\n",
        "4) Print your updated string. </b>\n",
        "\n"
      ]
    },
    {
      "cell_type": "code",
      "metadata": {
        "id": "i7nLs-SFobNb",
        "colab": {
          "base_uri": "https://localhost:8080/"
        },
        "outputId": "ce43c3a6-e1d0-4183-f1a0-988e21524b63"
      },
      "source": [
        "lst = [4,6,3,2,6,8,9,7,23,4,465,7,6,8,454,5,876,567,54,76,34,55,\n",
        "       33,7653,234234,7857,23432,4353,4,345,4667,23235,1212,221,\n",
        "       335,2323,21,45,76,5432,54645645,123212245346342,67,34563,2]\n",
        "\n",
        "#Your code here\n",
        "result=[]\n",
        "for num in lst:\n",
        "    if num%2==0:\n",
        "        result.append(num)\n",
        "\n",
        "result.sort()\n",
        "\n",
        "output_string = ''\n",
        "for num in result:\n",
        "    output_string = output_string + str(num)\n",
        "\n",
        "print(result)\n",
        "print(output_string)"
      ],
      "execution_count": null,
      "outputs": [
        {
          "output_type": "stream",
          "text": [
            "[2, 2, 4, 4, 4, 6, 6, 6, 8, 8, 34, 54, 76, 76, 454, 876, 1212, 5432, 23432, 234234, 123212245346342]\n",
            "2244466688345476764548761212543223432234234123212245346342\n"
          ],
          "name": "stdout"
        }
      ]
    },
    {
      "cell_type": "markdown",
      "metadata": {
        "id": "q82LF8cvobNb"
      },
      "source": [
        " <h1> <b><font color = coral>&#9998; <font color = coral>EXERCISE 4:</h1></font>"
      ]
    },
    {
      "cell_type": "markdown",
      "metadata": {
        "id": "eVQRe5gwobNb"
      },
      "source": [
        "<font color = \"coral\">If we list all the natural numbers below 10 that are multiples of 3 or 5, we get 3, 5, 6 and 9. The sum of these multiples is 23.\n",
        "\n",
        "Find the sum of all the multiples of 3 or 5 below 10,000."
      ]
    },
    {
      "cell_type": "code",
      "metadata": {
        "id": "TcAOeTRRobNc",
        "colab": {
          "base_uri": "https://localhost:8080/"
        },
        "outputId": "d00081c0-ef65-4dc6-ab19-4ee91ca1b411"
      },
      "source": [
        "# Answer using an intermediate list\n",
        "result=[]\n",
        "for num in range(10):\n",
        "    if num%3==0 or num%5==0:\n",
        "        result.append(num)   \n",
        "        \n",
        "result1=sum(result)\n",
        "    \n",
        "print(result1)\n",
        "\n"
      ],
      "execution_count": null,
      "outputs": [
        {
          "output_type": "stream",
          "text": [
            "23\n"
          ],
          "name": "stdout"
        }
      ]
    },
    {
      "cell_type": "code",
      "metadata": {
        "id": "Qbah-n2JobNc",
        "colab": {
          "base_uri": "https://localhost:8080/"
        },
        "outputId": "260ba1e4-bcae-4fd4-d860-b0d04a616cb4"
      },
      "source": [
        "# Answer without an intermediate list\n",
        "result=0\n",
        "for num in range(10000):\n",
        "    if num%3==0 or num%5==0:\n",
        "        result=result+num\n",
        "        \n",
        "print(result)"
      ],
      "execution_count": null,
      "outputs": [
        {
          "output_type": "stream",
          "text": [
            "23331668\n"
          ],
          "name": "stdout"
        }
      ]
    },
    {
      "cell_type": "markdown",
      "metadata": {
        "id": "IfFIBre4obNc"
      },
      "source": [
        " <h1> <b><font color = coral>&#9998; <font color = coral>EXERCISE 5:</h1></font>"
      ]
    },
    {
      "cell_type": "markdown",
      "metadata": {
        "id": "VZdxs1zPobNc"
      },
      "source": [
        "<font color = \"coral\">\n",
        "Calculate all primes below 10,000. What's their sum?"
      ]
    },
    {
      "cell_type": "code",
      "metadata": {
        "collapsed": true,
        "id": "eqa52TldobNc"
      },
      "source": [
        "#Your answer here\n",
        "\n",
        "from math import sqrt \n",
        "from math import floor\n",
        "\n",
        "def is_prime(num):\n",
        "  '''A number is prime if it is divisible by no other number other than 1 and itself.\n",
        "\n",
        "  We do not need to check the divisibility for all the numbers between 1 and \n",
        "  the number. We can limit the search to only upto sqrt(num).\n",
        "  We can further optimize this by iterating over only the primes. But this \n",
        "  version is good enough for now. \n",
        "  '''\n",
        "  if num < 2: return False  # 1 is not a prime\n",
        "  for i in range(2, floor(sqrt(num)) + 1):\n",
        "    if num % i == 0:\n",
        "      return False\n",
        "  return True\n",
        "\n"
      ],
      "execution_count": null,
      "outputs": []
    },
    {
      "cell_type": "code",
      "metadata": {
        "colab": {
          "base_uri": "https://localhost:8080/"
        },
        "id": "Q7ldPw-3EVgS",
        "outputId": "e0d64376-09eb-434c-f0ac-0def2acb7256"
      },
      "source": [
        "# Check for a few numbers\n",
        "print(\"15: \", is_prime(15))\n",
        "print(\"17: \", is_prime(17))\n",
        "print(\"4: \", is_prime(4))\n",
        "print(\"1: \", is_prime(1))\n",
        "print(\"2: \", is_prime(2))\n"
      ],
      "execution_count": null,
      "outputs": [
        {
          "output_type": "stream",
          "text": [
            "15:  False\n",
            "17:  True\n",
            "4:  False\n",
            "1:  False\n",
            "2:  True\n"
          ],
          "name": "stdout"
        }
      ]
    },
    {
      "cell_type": "code",
      "metadata": {
        "colab": {
          "base_uri": "https://localhost:8080/"
        },
        "id": "04QAc4pSEenW",
        "outputId": "7457c997-b9e1-452a-83ec-e174c9f4c8fd"
      },
      "source": [
        "primes = [x for x in range(10000) if is_prime(x)]\n",
        "sum(primes)"
      ],
      "execution_count": null,
      "outputs": [
        {
          "output_type": "execute_result",
          "data": {
            "text/plain": [
              "5736396"
            ]
          },
          "metadata": {
            "tags": []
          },
          "execution_count": 27
        }
      ]
    },
    {
      "cell_type": "code",
      "metadata": {
        "id": "a6D6pB-KHe7T"
      },
      "source": [
        ""
      ],
      "execution_count": null,
      "outputs": []
    }
  ]
}