{
  "nbformat": 4,
  "nbformat_minor": 0,
  "metadata": {
    "colab": {
      "name": "ML class 1.ipynb",
      "provenance": [],
      "include_colab_link": true
    },
    "kernelspec": {
      "name": "python3",
      "display_name": "Python 3"
    },
    "language_info": {
      "name": "python"
    }
  },
  "cells": [
    {
      "cell_type": "markdown",
      "metadata": {
        "id": "view-in-github",
        "colab_type": "text"
      },
      "source": [
        "<a href=\"https://colab.research.google.com/github/SinghReena/MachineLearning/blob/master/ML_class_1.ipynb\" target=\"_parent\"><img src=\"https://colab.research.google.com/assets/colab-badge.svg\" alt=\"Open In Colab\"/></a>"
      ]
    },
    {
      "cell_type": "markdown",
      "metadata": {
        "id": "eXPN4ZHqkinC"
      },
      "source": [
        "# Machine Learning Introduction"
      ]
    },
    {
      "cell_type": "code",
      "metadata": {
        "cellView": "form",
        "id": "ISciPNeRCyHu"
      },
      "source": [
        "#@title Imports\n",
        "import pandas as pd\n",
        "import numpy as np\n",
        "import matplotlib as plt\n",
        "import sklearn.linear_model as linear_module"
      ],
      "execution_count": null,
      "outputs": []
    },
    {
      "cell_type": "code",
      "metadata": {
        "cellView": "form",
        "id": "mPyQ_gxAGi7G"
      },
      "source": [
        "#@title Generate data\n",
        "np.random.seed(4)\n",
        "arr = np.arange(15)\n",
        "x = np.add(arr, np.round(np.random.uniform(-0.3, 0.3, 15), 2))\n",
        "np.random.shuffle(x)\n",
        "y = np.add(x, np.round(np.random.uniform(1.7, 2.3, 15), 2))\n",
        "df = pd.DataFrame({'x' : x, 'y': y})"
      ],
      "execution_count": null,
      "outputs": []
    },
    {
      "cell_type": "markdown",
      "metadata": {
        "id": "2oEKH1s7aSGz"
      },
      "source": [
        "## Relationship between variables x and y\n",
        "\n",
        "What is the relationship between the variables?\n",
        "\n",
        "Given x can we **predict** y?"
      ]
    },
    {
      "cell_type": "code",
      "metadata": {
        "colab": {
          "base_uri": "https://localhost:8080/",
          "height": 491
        },
        "id": "nxTJXY7wHg0K",
        "outputId": "c5c71264-63c2-469b-cacd-6615bcd36f5c"
      },
      "source": [
        "df"
      ],
      "execution_count": null,
      "outputs": [
        {
          "output_type": "execute_result",
          "data": {
            "text/html": [
              "<div>\n",
              "<style scoped>\n",
              "    .dataframe tbody tr th:only-of-type {\n",
              "        vertical-align: middle;\n",
              "    }\n",
              "\n",
              "    .dataframe tbody tr th {\n",
              "        vertical-align: top;\n",
              "    }\n",
              "\n",
              "    .dataframe thead th {\n",
              "        text-align: right;\n",
              "    }\n",
              "</style>\n",
              "<table border=\"1\" class=\"dataframe\">\n",
              "  <thead>\n",
              "    <tr style=\"text-align: right;\">\n",
              "      <th></th>\n",
              "      <th>x</th>\n",
              "      <th>y</th>\n",
              "    </tr>\n",
              "  </thead>\n",
              "  <tbody>\n",
              "    <tr>\n",
              "      <th>0</th>\n",
              "      <td>10.17</td>\n",
              "      <td>12.14</td>\n",
              "    </tr>\n",
              "    <tr>\n",
              "      <th>1</th>\n",
              "      <td>3.13</td>\n",
              "      <td>5.09</td>\n",
              "    </tr>\n",
              "    <tr>\n",
              "      <th>2</th>\n",
              "      <td>6.70</td>\n",
              "      <td>8.44</td>\n",
              "    </tr>\n",
              "    <tr>\n",
              "      <th>3</th>\n",
              "      <td>4.12</td>\n",
              "      <td>5.93</td>\n",
              "    </tr>\n",
              "    <tr>\n",
              "      <th>4</th>\n",
              "      <td>13.29</td>\n",
              "      <td>15.51</td>\n",
              "    </tr>\n",
              "    <tr>\n",
              "      <th>5</th>\n",
              "      <td>1.03</td>\n",
              "      <td>3.24</td>\n",
              "    </tr>\n",
              "    <tr>\n",
              "      <th>6</th>\n",
              "      <td>0.28</td>\n",
              "      <td>2.54</td>\n",
              "    </tr>\n",
              "    <tr>\n",
              "      <th>7</th>\n",
              "      <td>10.82</td>\n",
              "      <td>13.04</td>\n",
              "    </tr>\n",
              "    <tr>\n",
              "      <th>8</th>\n",
              "      <td>13.80</td>\n",
              "      <td>16.00</td>\n",
              "    </tr>\n",
              "    <tr>\n",
              "      <th>9</th>\n",
              "      <td>2.28</td>\n",
              "      <td>4.14</td>\n",
              "    </tr>\n",
              "    <tr>\n",
              "      <th>10</th>\n",
              "      <td>7.85</td>\n",
              "      <td>9.57</td>\n",
              "    </tr>\n",
              "    <tr>\n",
              "      <th>11</th>\n",
              "      <td>12.22</td>\n",
              "      <td>14.06</td>\n",
              "    </tr>\n",
              "    <tr>\n",
              "      <th>12</th>\n",
              "      <td>6.29</td>\n",
              "      <td>8.12</td>\n",
              "    </tr>\n",
              "    <tr>\n",
              "      <th>13</th>\n",
              "      <td>8.96</td>\n",
              "      <td>10.77</td>\n",
              "    </tr>\n",
              "    <tr>\n",
              "      <th>14</th>\n",
              "      <td>4.83</td>\n",
              "      <td>6.72</td>\n",
              "    </tr>\n",
              "  </tbody>\n",
              "</table>\n",
              "</div>"
            ],
            "text/plain": [
              "        x      y\n",
              "0   10.17  12.14\n",
              "1    3.13   5.09\n",
              "2    6.70   8.44\n",
              "3    4.12   5.93\n",
              "4   13.29  15.51\n",
              "5    1.03   3.24\n",
              "6    0.28   2.54\n",
              "7   10.82  13.04\n",
              "8   13.80  16.00\n",
              "9    2.28   4.14\n",
              "10   7.85   9.57\n",
              "11  12.22  14.06\n",
              "12   6.29   8.12\n",
              "13   8.96  10.77\n",
              "14   4.83   6.72"
            ]
          },
          "metadata": {
            "tags": []
          },
          "execution_count": 5
        }
      ]
    },
    {
      "cell_type": "markdown",
      "metadata": {
        "id": "WywVbG8Jq8ZH"
      },
      "source": [
        "## Model\n",
        "\n",
        "It looks like y might be x + 2.\n",
        "\n",
        "**`y = x+2`** is the model.  It is possible that there are other models.\n",
        "\n",
        "`y = x + 2.15` is another possible model. y = x + 1.85 is yet another model.\n",
        "\n",
        "Which of these is the best? Let us draw graphs to see which one might fit the data points well.\n",
        "\n"
      ]
    },
    {
      "cell_type": "code",
      "metadata": {
        "colab": {
          "base_uri": "https://localhost:8080/",
          "height": 282
        },
        "id": "MFzHg34TVn7F",
        "outputId": "e6fafde6-5ffe-47ba-9622-3a081cf94958"
      },
      "source": [
        "plt.pyplot.scatter(x,y)\n",
        "plt.pyplot.plot(np.arange(15), np.arange(2,17), label = \"y = x + 2\")\n",
        "plt.pyplot.legend()"
      ],
      "execution_count": null,
      "outputs": [
        {
          "output_type": "execute_result",
          "data": {
            "text/plain": [
              "<matplotlib.legend.Legend at 0x7fd4f281b710>"
            ]
          },
          "metadata": {
            "tags": []
          },
          "execution_count": 6
        },
        {
          "output_type": "display_data",
          "data": {
            "image/png": "[encoded data removed]",
            "text/plain": [
              "<Figure size 432x288 with 1 Axes>"
            ]
          },
          "metadata": {
            "tags": [],
            "needs_background": "light"
          }
        }
      ]
    },
    {
      "cell_type": "code",
      "metadata": {
        "colab": {
          "base_uri": "https://localhost:8080/",
          "height": 282
        },
        "id": "al83rBp5WcBA",
        "outputId": "d06d101c-0134-4342-a323-d78499641096"
      },
      "source": [
        "plt.pyplot.scatter(x,y)\n",
        "plt.pyplot.plot(np.arange(15), np.add(np.arange(2,17), 0.1), color = 'green', label = \"y = x + 2.1\")\n",
        "plt.pyplot.legend()"
      ],
      "execution_count": null,
      "outputs": [
        {
          "output_type": "execute_result",
          "data": {
            "text/plain": [
              "<matplotlib.legend.Legend at 0x7fd4f231b550>"
            ]
          },
          "metadata": {
            "tags": []
          },
          "execution_count": 7
        },
        {
          "output_type": "display_data",
          "data": {
            "image/png": "[encoded data removed]",
            "text/plain": [
              "<Figure size 432x288 with 1 Axes>"
            ]
          },
          "metadata": {
            "tags": [],
            "needs_background": "light"
          }
        }
      ]
    },
    {
      "cell_type": "code",
      "metadata": {
        "colab": {
          "base_uri": "https://localhost:8080/",
          "height": 282
        },
        "id": "pykxh_jJXhlT",
        "outputId": "3d7c6276-0819-438a-8415-c2eaec59296e"
      },
      "source": [
        "plt.pyplot.scatter(x,y)\n",
        "plt.pyplot.plot(np.arange(15), np.add(np.arange(2,17), -0.1), color = 'red', label = \"y = x + 1.9\")\n",
        "plt.pyplot.legend()"
      ],
      "execution_count": null,
      "outputs": [
        {
          "output_type": "execute_result",
          "data": {
            "text/plain": [
              "<matplotlib.legend.Legend at 0x7fd4f22a8e10>"
            ]
          },
          "metadata": {
            "tags": []
          },
          "execution_count": 8
        },
        {
          "output_type": "display_data",
          "data": {
            "image/png": "[encoded data removed]",
            "text/plain": [
              "<Figure size 432x288 with 1 Axes>"
            ]
          },
          "metadata": {
            "tags": [],
            "needs_background": "light"
          }
        }
      ]
    },
    {
      "cell_type": "markdown",
      "metadata": {
        "id": "lNlP1FrBq2d7"
      },
      "source": [
        "the third graph seems to be the **best fit** for the data.  How do we really know?\n",
        "\n",
        "`x + 2` is the  **predicted value**. We usualy use `y_hat` for the predicted value and `y` for the actual value in the data.\n",
        "\n",
        "\n",
        "Let us add these predicted values to the table and compare it against actual values."
      ]
    },
    {
      "cell_type": "code",
      "metadata": {
        "id": "nnqB735UX0ou"
      },
      "source": [
        "df = df.assign(y_hat_1 = x + 2)\n",
        "df = df.assign(y_hat_2 = x + 1.9)\n",
        "df = df.assign(y_hat_3 = x + 2.1)"
      ],
      "execution_count": null,
      "outputs": []
    },
    {
      "cell_type": "code",
      "metadata": {
        "colab": {
          "base_uri": "https://localhost:8080/",
          "height": 491
        },
        "id": "k60eQQQkYLbC",
        "outputId": "793f0d50-d245-4a97-cd4e-ae35bc84072e"
      },
      "source": [
        "df"
      ],
      "execution_count": null,
      "outputs": [
        {
          "output_type": "execute_result",
          "data": {
            "text/html": [
              "<div>\n",
              "<style scoped>\n",
              "    .dataframe tbody tr th:only-of-type {\n",
              "        vertical-align: middle;\n",
              "    }\n",
              "\n",
              "    .dataframe tbody tr th {\n",
              "        vertical-align: top;\n",
              "    }\n",
              "\n",
              "    .dataframe thead th {\n",
              "        text-align: right;\n",
              "    }\n",
              "</style>\n",
              "<table border=\"1\" class=\"dataframe\">\n",
              "  <thead>\n",
              "    <tr style=\"text-align: right;\">\n",
              "      <th></th>\n",
              "      <th>x</th>\n",
              "      <th>y</th>\n",
              "      <th>y_hat_1</th>\n",
              "      <th>y_hat_2</th>\n",
              "      <th>y_hat_3</th>\n",
              "    </tr>\n",
              "  </thead>\n",
              "  <tbody>\n",
              "    <tr>\n",
              "      <th>0</th>\n",
              "      <td>10.17</td>\n",
              "      <td>12.14</td>\n",
              "      <td>12.17</td>\n",
              "      <td>12.07</td>\n",
              "      <td>12.27</td>\n",
              "    </tr>\n",
              "    <tr>\n",
              "      <th>1</th>\n",
              "      <td>3.13</td>\n",
              "      <td>5.09</td>\n",
              "      <td>5.13</td>\n",
              "      <td>5.03</td>\n",
              "      <td>5.23</td>\n",
              "    </tr>\n",
              "    <tr>\n",
              "      <th>2</th>\n",
              "      <td>6.70</td>\n",
              "      <td>8.44</td>\n",
              "      <td>8.70</td>\n",
              "      <td>8.60</td>\n",
              "      <td>8.80</td>\n",
              "    </tr>\n",
              "    <tr>\n",
              "      <th>3</th>\n",
              "      <td>4.12</td>\n",
              "      <td>5.93</td>\n",
              "      <td>6.12</td>\n",
              "      <td>6.02</td>\n",
              "      <td>6.22</td>\n",
              "    </tr>\n",
              "    <tr>\n",
              "      <th>4</th>\n",
              "      <td>13.29</td>\n",
              "      <td>15.51</td>\n",
              "      <td>15.29</td>\n",
              "      <td>15.19</td>\n",
              "      <td>15.39</td>\n",
              "    </tr>\n",
              "    <tr>\n",
              "      <th>5</th>\n",
              "      <td>1.03</td>\n",
              "      <td>3.24</td>\n",
              "      <td>3.03</td>\n",
              "      <td>2.93</td>\n",
              "      <td>3.13</td>\n",
              "    </tr>\n",
              "    <tr>\n",
              "      <th>6</th>\n",
              "      <td>0.28</td>\n",
              "      <td>2.54</td>\n",
              "      <td>2.28</td>\n",
              "      <td>2.18</td>\n",
              "      <td>2.38</td>\n",
              "    </tr>\n",
              "    <tr>\n",
              "      <th>7</th>\n",
              "      <td>10.82</td>\n",
              "      <td>13.04</td>\n",
              "      <td>12.82</td>\n",
              "      <td>12.72</td>\n",
              "      <td>12.92</td>\n",
              "    </tr>\n",
              "    <tr>\n",
              "      <th>8</th>\n",
              "      <td>13.80</td>\n",
              "      <td>16.00</td>\n",
              "      <td>15.80</td>\n",
              "      <td>15.70</td>\n",
              "      <td>15.90</td>\n",
              "    </tr>\n",
              "    <tr>\n",
              "      <th>9</th>\n",
              "      <td>2.28</td>\n",
              "      <td>4.14</td>\n",
              "      <td>4.28</td>\n",
              "      <td>4.18</td>\n",
              "      <td>4.38</td>\n",
              "    </tr>\n",
              "    <tr>\n",
              "      <th>10</th>\n",
              "      <td>7.85</td>\n",
              "      <td>9.57</td>\n",
              "      <td>9.85</td>\n",
              "      <td>9.75</td>\n",
              "      <td>9.95</td>\n",
              "    </tr>\n",
              "    <tr>\n",
              "      <th>11</th>\n",
              "      <td>12.22</td>\n",
              "      <td>14.06</td>\n",
              "      <td>14.22</td>\n",
              "      <td>14.12</td>\n",
              "      <td>14.32</td>\n",
              "    </tr>\n",
              "    <tr>\n",
              "      <th>12</th>\n",
              "      <td>6.29</td>\n",
              "      <td>8.12</td>\n",
              "      <td>8.29</td>\n",
              "      <td>8.19</td>\n",
              "      <td>8.39</td>\n",
              "    </tr>\n",
              "    <tr>\n",
              "      <th>13</th>\n",
              "      <td>8.96</td>\n",
              "      <td>10.77</td>\n",
              "      <td>10.96</td>\n",
              "      <td>10.86</td>\n",
              "      <td>11.06</td>\n",
              "    </tr>\n",
              "    <tr>\n",
              "      <th>14</th>\n",
              "      <td>4.83</td>\n",
              "      <td>6.72</td>\n",
              "      <td>6.83</td>\n",
              "      <td>6.73</td>\n",
              "      <td>6.93</td>\n",
              "    </tr>\n",
              "  </tbody>\n",
              "</table>\n",
              "</div>"
            ],
            "text/plain": [
              "        x      y  y_hat_1  y_hat_2  y_hat_3\n",
              "0   10.17  12.14    12.17    12.07    12.27\n",
              "1    3.13   5.09     5.13     5.03     5.23\n",
              "2    6.70   8.44     8.70     8.60     8.80\n",
              "3    4.12   5.93     6.12     6.02     6.22\n",
              "4   13.29  15.51    15.29    15.19    15.39\n",
              "5    1.03   3.24     3.03     2.93     3.13\n",
              "6    0.28   2.54     2.28     2.18     2.38\n",
              "7   10.82  13.04    12.82    12.72    12.92\n",
              "8   13.80  16.00    15.80    15.70    15.90\n",
              "9    2.28   4.14     4.28     4.18     4.38\n",
              "10   7.85   9.57     9.85     9.75     9.95\n",
              "11  12.22  14.06    14.22    14.12    14.32\n",
              "12   6.29   8.12     8.29     8.19     8.39\n",
              "13   8.96  10.77    10.96    10.86    11.06\n",
              "14   4.83   6.72     6.83     6.73     6.93"
            ]
          },
          "metadata": {
            "tags": []
          },
          "execution_count": 10
        }
      ]
    },
    {
      "cell_type": "markdown",
      "metadata": {
        "id": "6pw6H4gbuPq2"
      },
      "source": [
        "## Error\n",
        "\n",
        "Some models are better for some values, other models are better for other values.  Let us calculate the errors for these values.\n",
        "\n",
        "For now, let us use the square of the difference of the values as the error for one data point.  That is, `(y_hat - y)**2`.\n",
        "\n",
        "We will then use the sum of these values over the entire dataset to determine the overall error of the model for the dataset."
      ]
    },
    {
      "cell_type": "code",
      "metadata": {
        "id": "hKkAOrHeY0U-"
      },
      "source": [
        "df = df.assign(error_1 = (df.y_hat_1 - df.y)**2)\n",
        "df = df.assign(error_2 = (df.y_hat_2 - df.y)**2)\n",
        "df = df.assign(error_3 = (df.y_hat_3 - df.y)**2)"
      ],
      "execution_count": null,
      "outputs": []
    },
    {
      "cell_type": "code",
      "metadata": {
        "colab": {
          "base_uri": "https://localhost:8080/",
          "height": 491
        },
        "id": "7GK4AfBVZHtD",
        "outputId": "4d668642-d61d-4125-c4cb-a6b2d3677029"
      },
      "source": [
        "df"
      ],
      "execution_count": null,
      "outputs": [
        {
          "output_type": "execute_result",
          "data": {
            "text/html": [
              "<div>\n",
              "<style scoped>\n",
              "    .dataframe tbody tr th:only-of-type {\n",
              "        vertical-align: middle;\n",
              "    }\n",
              "\n",
              "    .dataframe tbody tr th {\n",
              "        vertical-align: top;\n",
              "    }\n",
              "\n",
              "    .dataframe thead th {\n",
              "        text-align: right;\n",
              "    }\n",
              "</style>\n",
              "<table border=\"1\" class=\"dataframe\">\n",
              "  <thead>\n",
              "    <tr style=\"text-align: right;\">\n",
              "      <th></th>\n",
              "      <th>x</th>\n",
              "      <th>y</th>\n",
              "      <th>y_hat_1</th>\n",
              "      <th>y_hat_2</th>\n",
              "      <th>y_hat_3</th>\n",
              "      <th>error_1</th>\n",
              "      <th>error_2</th>\n",
              "      <th>error_3</th>\n",
              "    </tr>\n",
              "  </thead>\n",
              "  <tbody>\n",
              "    <tr>\n",
              "      <th>0</th>\n",
              "      <td>10.17</td>\n",
              "      <td>12.14</td>\n",
              "      <td>12.17</td>\n",
              "      <td>12.07</td>\n",
              "      <td>12.27</td>\n",
              "      <td>0.0009</td>\n",
              "      <td>0.0049</td>\n",
              "      <td>0.0169</td>\n",
              "    </tr>\n",
              "    <tr>\n",
              "      <th>1</th>\n",
              "      <td>3.13</td>\n",
              "      <td>5.09</td>\n",
              "      <td>5.13</td>\n",
              "      <td>5.03</td>\n",
              "      <td>5.23</td>\n",
              "      <td>0.0016</td>\n",
              "      <td>0.0036</td>\n",
              "      <td>0.0196</td>\n",
              "    </tr>\n",
              "    <tr>\n",
              "      <th>2</th>\n",
              "      <td>6.70</td>\n",
              "      <td>8.44</td>\n",
              "      <td>8.70</td>\n",
              "      <td>8.60</td>\n",
              "      <td>8.80</td>\n",
              "      <td>0.0676</td>\n",
              "      <td>0.0256</td>\n",
              "      <td>0.1296</td>\n",
              "    </tr>\n",
              "    <tr>\n",
              "      <th>3</th>\n",
              "      <td>4.12</td>\n",
              "      <td>5.93</td>\n",
              "      <td>6.12</td>\n",
              "      <td>6.02</td>\n",
              "      <td>6.22</td>\n",
              "      <td>0.0361</td>\n",
              "      <td>0.0081</td>\n",
              "      <td>0.0841</td>\n",
              "    </tr>\n",
              "    <tr>\n",
              "      <th>4</th>\n",
              "      <td>13.29</td>\n",
              "      <td>15.51</td>\n",
              "      <td>15.29</td>\n",
              "      <td>15.19</td>\n",
              "      <td>15.39</td>\n",
              "      <td>0.0484</td>\n",
              "      <td>0.1024</td>\n",
              "      <td>0.0144</td>\n",
              "    </tr>\n",
              "    <tr>\n",
              "      <th>5</th>\n",
              "      <td>1.03</td>\n",
              "      <td>3.24</td>\n",
              "      <td>3.03</td>\n",
              "      <td>2.93</td>\n",
              "      <td>3.13</td>\n",
              "      <td>0.0441</td>\n",
              "      <td>0.0961</td>\n",
              "      <td>0.0121</td>\n",
              "    </tr>\n",
              "    <tr>\n",
              "      <th>6</th>\n",
              "      <td>0.28</td>\n",
              "      <td>2.54</td>\n",
              "      <td>2.28</td>\n",
              "      <td>2.18</td>\n",
              "      <td>2.38</td>\n",
              "      <td>0.0676</td>\n",
              "      <td>0.1296</td>\n",
              "      <td>0.0256</td>\n",
              "    </tr>\n",
              "    <tr>\n",
              "      <th>7</th>\n",
              "      <td>10.82</td>\n",
              "      <td>13.04</td>\n",
              "      <td>12.82</td>\n",
              "      <td>12.72</td>\n",
              "      <td>12.92</td>\n",
              "      <td>0.0484</td>\n",
              "      <td>0.1024</td>\n",
              "      <td>0.0144</td>\n",
              "    </tr>\n",
              "    <tr>\n",
              "      <th>8</th>\n",
              "      <td>13.80</td>\n",
              "      <td>16.00</td>\n",
              "      <td>15.80</td>\n",
              "      <td>15.70</td>\n",
              "      <td>15.90</td>\n",
              "      <td>0.0400</td>\n",
              "      <td>0.0900</td>\n",
              "      <td>0.0100</td>\n",
              "    </tr>\n",
              "    <tr>\n",
              "      <th>9</th>\n",
              "      <td>2.28</td>\n",
              "      <td>4.14</td>\n",
              "      <td>4.28</td>\n",
              "      <td>4.18</td>\n",
              "      <td>4.38</td>\n",
              "      <td>0.0196</td>\n",
              "      <td>0.0016</td>\n",
              "      <td>0.0576</td>\n",
              "    </tr>\n",
              "    <tr>\n",
              "      <th>10</th>\n",
              "      <td>7.85</td>\n",
              "      <td>9.57</td>\n",
              "      <td>9.85</td>\n",
              "      <td>9.75</td>\n",
              "      <td>9.95</td>\n",
              "      <td>0.0784</td>\n",
              "      <td>0.0324</td>\n",
              "      <td>0.1444</td>\n",
              "    </tr>\n",
              "    <tr>\n",
              "      <th>11</th>\n",
              "      <td>12.22</td>\n",
              "      <td>14.06</td>\n",
              "      <td>14.22</td>\n",
              "      <td>14.12</td>\n",
              "      <td>14.32</td>\n",
              "      <td>0.0256</td>\n",
              "      <td>0.0036</td>\n",
              "      <td>0.0676</td>\n",
              "    </tr>\n",
              "    <tr>\n",
              "      <th>12</th>\n",
              "      <td>6.29</td>\n",
              "      <td>8.12</td>\n",
              "      <td>8.29</td>\n",
              "      <td>8.19</td>\n",
              "      <td>8.39</td>\n",
              "      <td>0.0289</td>\n",
              "      <td>0.0049</td>\n",
              "      <td>0.0729</td>\n",
              "    </tr>\n",
              "    <tr>\n",
              "      <th>13</th>\n",
              "      <td>8.96</td>\n",
              "      <td>10.77</td>\n",
              "      <td>10.96</td>\n",
              "      <td>10.86</td>\n",
              "      <td>11.06</td>\n",
              "      <td>0.0361</td>\n",
              "      <td>0.0081</td>\n",
              "      <td>0.0841</td>\n",
              "    </tr>\n",
              "    <tr>\n",
              "      <th>14</th>\n",
              "      <td>4.83</td>\n",
              "      <td>6.72</td>\n",
              "      <td>6.83</td>\n",
              "      <td>6.73</td>\n",
              "      <td>6.93</td>\n",
              "      <td>0.0121</td>\n",
              "      <td>0.0001</td>\n",
              "      <td>0.0441</td>\n",
              "    </tr>\n",
              "  </tbody>\n",
              "</table>\n",
              "</div>"
            ],
            "text/plain": [
              "        x      y  y_hat_1  y_hat_2  y_hat_3  error_1  error_2  error_3\n",
              "0   10.17  12.14    12.17    12.07    12.27   0.0009   0.0049   0.0169\n",
              "1    3.13   5.09     5.13     5.03     5.23   0.0016   0.0036   0.0196\n",
              "2    6.70   8.44     8.70     8.60     8.80   0.0676   0.0256   0.1296\n",
              "3    4.12   5.93     6.12     6.02     6.22   0.0361   0.0081   0.0841\n",
              "4   13.29  15.51    15.29    15.19    15.39   0.0484   0.1024   0.0144\n",
              "5    1.03   3.24     3.03     2.93     3.13   0.0441   0.0961   0.0121\n",
              "6    0.28   2.54     2.28     2.18     2.38   0.0676   0.1296   0.0256\n",
              "7   10.82  13.04    12.82    12.72    12.92   0.0484   0.1024   0.0144\n",
              "8   13.80  16.00    15.80    15.70    15.90   0.0400   0.0900   0.0100\n",
              "9    2.28   4.14     4.28     4.18     4.38   0.0196   0.0016   0.0576\n",
              "10   7.85   9.57     9.85     9.75     9.95   0.0784   0.0324   0.1444\n",
              "11  12.22  14.06    14.22    14.12    14.32   0.0256   0.0036   0.0676\n",
              "12   6.29   8.12     8.29     8.19     8.39   0.0289   0.0049   0.0729\n",
              "13   8.96  10.77    10.96    10.86    11.06   0.0361   0.0081   0.0841\n",
              "14   4.83   6.72     6.83     6.73     6.93   0.0121   0.0001   0.0441"
            ]
          },
          "metadata": {
            "tags": []
          },
          "execution_count": 12
        }
      ]
    },
    {
      "cell_type": "code",
      "metadata": {
        "colab": {
          "base_uri": "https://localhost:8080/"
        },
        "id": "JHV-sbG2ZfJJ",
        "outputId": "4e970da3-b720-4699-e94e-87dcf212191d"
      },
      "source": [
        "df.error_1.sum()"
      ],
      "execution_count": null,
      "outputs": [
        {
          "output_type": "execute_result",
          "data": {
            "text/plain": [
              "0.555399999999999"
            ]
          },
          "metadata": {
            "tags": []
          },
          "execution_count": 13
        }
      ]
    },
    {
      "cell_type": "code",
      "metadata": {
        "colab": {
          "base_uri": "https://localhost:8080/"
        },
        "id": "3ci1CoGdZwtD",
        "outputId": "b062a1a9-13f0-4aa3-ad60-f4b4b6875c16"
      },
      "source": [
        "df.error_2.sum()"
      ],
      "execution_count": null,
      "outputs": [
        {
          "output_type": "execute_result",
          "data": {
            "text/plain": [
              "0.6134000000000001"
            ]
          },
          "metadata": {
            "tags": []
          },
          "execution_count": 14
        }
      ]
    },
    {
      "cell_type": "code",
      "metadata": {
        "colab": {
          "base_uri": "https://localhost:8080/"
        },
        "id": "wYKtMIfzZywh",
        "outputId": "6a1cfed5-f09b-4e5e-c540-ea6d0f3c9c49"
      },
      "source": [
        "df.error_3.sum()"
      ],
      "execution_count": null,
      "outputs": [
        {
          "output_type": "execute_result",
          "data": {
            "text/plain": [
              "0.7974000000000003"
            ]
          },
          "metadata": {
            "tags": []
          },
          "execution_count": 15
        }
      ]
    },
    {
      "cell_type": "markdown",
      "metadata": {
        "id": "_ii7GniovMKA"
      },
      "source": [
        "## The best model\n",
        "\n",
        "The best model is the one with the smallest error. The equation of the line is given by the parameters below. (We will look at how we get these values later.)"
      ]
    },
    {
      "cell_type": "code",
      "metadata": {
        "colab": {
          "base_uri": "https://localhost:8080/"
        },
        "id": "x40SS-nOdrGn",
        "outputId": "a864ed7c-31f5-42a7-d4e1-b18e3d220948"
      },
      "source": [
        "#@title Find the best slope and intercept\n",
        "X = df[['x']]\n",
        "Y = df[['y']]\n",
        "model = linear_module.LinearRegression()\n",
        "reg = model.fit(X, Y)\n",
        "print(\"intercept\", reg.intercept_)\n",
        "print(\"slope\", reg.coef_)"
      ],
      "execution_count": null,
      "outputs": [
        {
          "output_type": "stream",
          "text": [
            "intercept [1.94702581]\n",
            "slope [[1.00316359]]\n"
          ],
          "name": "stdout"
        }
      ]
    },
    {
      "cell_type": "code",
      "metadata": {
        "colab": {
          "base_uri": "https://localhost:8080/",
          "height": 282
        },
        "id": "bRRtFNkye1IJ",
        "outputId": "79bf46d7-8c84-4e6c-aabf-48133a0a5e4d"
      },
      "source": [
        "plt.pyplot.scatter(x,y)\n",
        "plt.pyplot.plot(x, x*1.003 + 1.947, color = 'red', label=\"best fit\")\n",
        "plt.pyplot.legend()"
      ],
      "execution_count": null,
      "outputs": [
        {
          "output_type": "execute_result",
          "data": {
            "text/plain": [
              "<matplotlib.legend.Legend at 0x7fd4f21fab50>"
            ]
          },
          "metadata": {
            "tags": []
          },
          "execution_count": 18
        },
        {
          "output_type": "display_data",
          "data": {
            "image/png": "[encoded data removed]",
            "text/plain": [
              "<Figure size 432x288 with 1 Axes>"
            ]
          },
          "metadata": {
            "tags": [],
            "needs_background": "light"
          }
        }
      ]
    },
    {
      "cell_type": "code",
      "metadata": {
        "id": "9N1KhFjVjqdt"
      },
      "source": [
        "df = df.assign(y_hat = 1.003*x + 1.947)\n",
        "df = df.assign(error = (df.y_hat - df.y)**2)\n",
        "\n"
      ],
      "execution_count": null,
      "outputs": []
    },
    {
      "cell_type": "code",
      "metadata": {
        "colab": {
          "base_uri": "https://localhost:8080/",
          "height": 491
        },
        "id": "koTbCKb1j6tR",
        "outputId": "bd982453-34ea-4e94-9d08-7a10cbe5a352"
      },
      "source": [
        "df"
      ],
      "execution_count": null,
      "outputs": [
        {
          "output_type": "execute_result",
          "data": {
            "text/html": [
              "<div>\n",
              "<style scoped>\n",
              "    .dataframe tbody tr th:only-of-type {\n",
              "        vertical-align: middle;\n",
              "    }\n",
              "\n",
              "    .dataframe tbody tr th {\n",
              "        vertical-align: top;\n",
              "    }\n",
              "\n",
              "    .dataframe thead th {\n",
              "        text-align: right;\n",
              "    }\n",
              "</style>\n",
              "<table border=\"1\" class=\"dataframe\">\n",
              "  <thead>\n",
              "    <tr style=\"text-align: right;\">\n",
              "      <th></th>\n",
              "      <th>x</th>\n",
              "      <th>y</th>\n",
              "      <th>y_hat_1</th>\n",
              "      <th>y_hat_2</th>\n",
              "      <th>y_hat_3</th>\n",
              "      <th>error_1</th>\n",
              "      <th>error_2</th>\n",
              "      <th>error_3</th>\n",
              "      <th>y_hat</th>\n",
              "      <th>error</th>\n",
              "    </tr>\n",
              "  </thead>\n",
              "  <tbody>\n",
              "    <tr>\n",
              "      <th>0</th>\n",
              "      <td>10.17</td>\n",
              "      <td>12.14</td>\n",
              "      <td>12.17</td>\n",
              "      <td>12.07</td>\n",
              "      <td>12.27</td>\n",
              "      <td>0.0009</td>\n",
              "      <td>0.0049</td>\n",
              "      <td>0.0169</td>\n",
              "      <td>12.14751</td>\n",
              "      <td>0.000056</td>\n",
              "    </tr>\n",
              "    <tr>\n",
              "      <th>1</th>\n",
              "      <td>3.13</td>\n",
              "      <td>5.09</td>\n",
              "      <td>5.13</td>\n",
              "      <td>5.03</td>\n",
              "      <td>5.23</td>\n",
              "      <td>0.0016</td>\n",
              "      <td>0.0036</td>\n",
              "      <td>0.0196</td>\n",
              "      <td>5.08639</td>\n",
              "      <td>0.000013</td>\n",
              "    </tr>\n",
              "    <tr>\n",
              "      <th>2</th>\n",
              "      <td>6.70</td>\n",
              "      <td>8.44</td>\n",
              "      <td>8.70</td>\n",
              "      <td>8.60</td>\n",
              "      <td>8.80</td>\n",
              "      <td>0.0676</td>\n",
              "      <td>0.0256</td>\n",
              "      <td>0.1296</td>\n",
              "      <td>8.66710</td>\n",
              "      <td>0.051574</td>\n",
              "    </tr>\n",
              "    <tr>\n",
              "      <th>3</th>\n",
              "      <td>4.12</td>\n",
              "      <td>5.93</td>\n",
              "      <td>6.12</td>\n",
              "      <td>6.02</td>\n",
              "      <td>6.22</td>\n",
              "      <td>0.0361</td>\n",
              "      <td>0.0081</td>\n",
              "      <td>0.0841</td>\n",
              "      <td>6.07936</td>\n",
              "      <td>0.022308</td>\n",
              "    </tr>\n",
              "    <tr>\n",
              "      <th>4</th>\n",
              "      <td>13.29</td>\n",
              "      <td>15.51</td>\n",
              "      <td>15.29</td>\n",
              "      <td>15.19</td>\n",
              "      <td>15.39</td>\n",
              "      <td>0.0484</td>\n",
              "      <td>0.1024</td>\n",
              "      <td>0.0144</td>\n",
              "      <td>15.27687</td>\n",
              "      <td>0.054350</td>\n",
              "    </tr>\n",
              "    <tr>\n",
              "      <th>5</th>\n",
              "      <td>1.03</td>\n",
              "      <td>3.24</td>\n",
              "      <td>3.03</td>\n",
              "      <td>2.93</td>\n",
              "      <td>3.13</td>\n",
              "      <td>0.0441</td>\n",
              "      <td>0.0961</td>\n",
              "      <td>0.0121</td>\n",
              "      <td>2.98009</td>\n",
              "      <td>0.067553</td>\n",
              "    </tr>\n",
              "    <tr>\n",
              "      <th>6</th>\n",
              "      <td>0.28</td>\n",
              "      <td>2.54</td>\n",
              "      <td>2.28</td>\n",
              "      <td>2.18</td>\n",
              "      <td>2.38</td>\n",
              "      <td>0.0676</td>\n",
              "      <td>0.1296</td>\n",
              "      <td>0.0256</td>\n",
              "      <td>2.22784</td>\n",
              "      <td>0.097444</td>\n",
              "    </tr>\n",
              "    <tr>\n",
              "      <th>7</th>\n",
              "      <td>10.82</td>\n",
              "      <td>13.04</td>\n",
              "      <td>12.82</td>\n",
              "      <td>12.72</td>\n",
              "      <td>12.92</td>\n",
              "      <td>0.0484</td>\n",
              "      <td>0.1024</td>\n",
              "      <td>0.0144</td>\n",
              "      <td>12.79946</td>\n",
              "      <td>0.057859</td>\n",
              "    </tr>\n",
              "    <tr>\n",
              "      <th>8</th>\n",
              "      <td>13.80</td>\n",
              "      <td>16.00</td>\n",
              "      <td>15.80</td>\n",
              "      <td>15.70</td>\n",
              "      <td>15.90</td>\n",
              "      <td>0.0400</td>\n",
              "      <td>0.0900</td>\n",
              "      <td>0.0100</td>\n",
              "      <td>15.78840</td>\n",
              "      <td>0.044775</td>\n",
              "    </tr>\n",
              "    <tr>\n",
              "      <th>9</th>\n",
              "      <td>2.28</td>\n",
              "      <td>4.14</td>\n",
              "      <td>4.28</td>\n",
              "      <td>4.18</td>\n",
              "      <td>4.38</td>\n",
              "      <td>0.0196</td>\n",
              "      <td>0.0016</td>\n",
              "      <td>0.0576</td>\n",
              "      <td>4.23384</td>\n",
              "      <td>0.008806</td>\n",
              "    </tr>\n",
              "    <tr>\n",
              "      <th>10</th>\n",
              "      <td>7.85</td>\n",
              "      <td>9.57</td>\n",
              "      <td>9.85</td>\n",
              "      <td>9.75</td>\n",
              "      <td>9.95</td>\n",
              "      <td>0.0784</td>\n",
              "      <td>0.0324</td>\n",
              "      <td>0.1444</td>\n",
              "      <td>9.82055</td>\n",
              "      <td>0.062775</td>\n",
              "    </tr>\n",
              "    <tr>\n",
              "      <th>11</th>\n",
              "      <td>12.22</td>\n",
              "      <td>14.06</td>\n",
              "      <td>14.22</td>\n",
              "      <td>14.12</td>\n",
              "      <td>14.32</td>\n",
              "      <td>0.0256</td>\n",
              "      <td>0.0036</td>\n",
              "      <td>0.0676</td>\n",
              "      <td>14.20366</td>\n",
              "      <td>0.020638</td>\n",
              "    </tr>\n",
              "    <tr>\n",
              "      <th>12</th>\n",
              "      <td>6.29</td>\n",
              "      <td>8.12</td>\n",
              "      <td>8.29</td>\n",
              "      <td>8.19</td>\n",
              "      <td>8.39</td>\n",
              "      <td>0.0289</td>\n",
              "      <td>0.0049</td>\n",
              "      <td>0.0729</td>\n",
              "      <td>8.25587</td>\n",
              "      <td>0.018461</td>\n",
              "    </tr>\n",
              "    <tr>\n",
              "      <th>13</th>\n",
              "      <td>8.96</td>\n",
              "      <td>10.77</td>\n",
              "      <td>10.96</td>\n",
              "      <td>10.86</td>\n",
              "      <td>11.06</td>\n",
              "      <td>0.0361</td>\n",
              "      <td>0.0081</td>\n",
              "      <td>0.0841</td>\n",
              "      <td>10.93388</td>\n",
              "      <td>0.026857</td>\n",
              "    </tr>\n",
              "    <tr>\n",
              "      <th>14</th>\n",
              "      <td>4.83</td>\n",
              "      <td>6.72</td>\n",
              "      <td>6.83</td>\n",
              "      <td>6.73</td>\n",
              "      <td>6.93</td>\n",
              "      <td>0.0121</td>\n",
              "      <td>0.0001</td>\n",
              "      <td>0.0441</td>\n",
              "      <td>6.79149</td>\n",
              "      <td>0.005111</td>\n",
              "    </tr>\n",
              "  </tbody>\n",
              "</table>\n",
              "</div>"
            ],
            "text/plain": [
              "        x      y  y_hat_1  y_hat_2  ...  error_2  error_3     y_hat     error\n",
              "0   10.17  12.14    12.17    12.07  ...   0.0049   0.0169  12.14751  0.000056\n",
              "1    3.13   5.09     5.13     5.03  ...   0.0036   0.0196   5.08639  0.000013\n",
              "2    6.70   8.44     8.70     8.60  ...   0.0256   0.1296   8.66710  0.051574\n",
              "3    4.12   5.93     6.12     6.02  ...   0.0081   0.0841   6.07936  0.022308\n",
              "4   13.29  15.51    15.29    15.19  ...   0.1024   0.0144  15.27687  0.054350\n",
              "5    1.03   3.24     3.03     2.93  ...   0.0961   0.0121   2.98009  0.067553\n",
              "6    0.28   2.54     2.28     2.18  ...   0.1296   0.0256   2.22784  0.097444\n",
              "7   10.82  13.04    12.82    12.72  ...   0.1024   0.0144  12.79946  0.057859\n",
              "8   13.80  16.00    15.80    15.70  ...   0.0900   0.0100  15.78840  0.044775\n",
              "9    2.28   4.14     4.28     4.18  ...   0.0016   0.0576   4.23384  0.008806\n",
              "10   7.85   9.57     9.85     9.75  ...   0.0324   0.1444   9.82055  0.062775\n",
              "11  12.22  14.06    14.22    14.12  ...   0.0036   0.0676  14.20366  0.020638\n",
              "12   6.29   8.12     8.29     8.19  ...   0.0049   0.0729   8.25587  0.018461\n",
              "13   8.96  10.77    10.96    10.86  ...   0.0081   0.0841  10.93388  0.026857\n",
              "14   4.83   6.72     6.83     6.73  ...   0.0001   0.0441   6.79149  0.005111\n",
              "\n",
              "[15 rows x 10 columns]"
            ]
          },
          "metadata": {
            "tags": []
          },
          "execution_count": 20
        }
      ]
    },
    {
      "cell_type": "markdown",
      "metadata": {
        "id": "2ylE9uerwMoO"
      },
      "source": [
        "The error of the best fit is less than the previously guessed best value of 2."
      ]
    },
    {
      "cell_type": "code",
      "metadata": {
        "colab": {
          "base_uri": "https://localhost:8080/"
        },
        "id": "eMIUB2LSkJSE",
        "outputId": "d98e5f85-387e-48dd-a040-144859dc6c85"
      },
      "source": [
        "df.error.sum()"
      ],
      "execution_count": null,
      "outputs": [
        {
          "output_type": "execute_result",
          "data": {
            "text/plain": [
              "0.5385805490999993"
            ]
          },
          "metadata": {
            "tags": []
          },
          "execution_count": 21
        }
      ]
    },
    {
      "cell_type": "code",
      "metadata": {
        "colab": {
          "base_uri": "https://localhost:8080/"
        },
        "id": "azUl-IB_kM-B",
        "outputId": "36eadfbf-f147-45ac-c555-b40674983ecf"
      },
      "source": [
        "df.error_1.sum()"
      ],
      "execution_count": null,
      "outputs": [
        {
          "output_type": "execute_result",
          "data": {
            "text/plain": [
              "0.555399999999999"
            ]
          },
          "metadata": {
            "tags": []
          },
          "execution_count": 22
        }
      ]
    },
    {
      "cell_type": "code",
      "metadata": {
        "id": "zyie8P67Qe3m"
      },
      "source": [
        ""
      ],
      "execution_count": null,
      "outputs": []
    }
  ]
}