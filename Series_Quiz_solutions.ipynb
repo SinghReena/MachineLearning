{
  "nbformat": 4,
  "nbformat_minor": 0,
  "metadata": {
    "colab": {
      "name": "Series Quiz solutions.ipynb",
      "provenance": [],
      "include_colab_link": true
    },
    "kernelspec": {
      "name": "python3",
      "display_name": "Python 3"
    }
  },
  "cells": [
    {
      "cell_type": "markdown",
      "metadata": {
        "id": "view-in-github",
        "colab_type": "text"
      },
      "source": [
        "<a href=\"https://colab.research.google.com/github/SinghReena/MachineLearning/blob/master/Series_Quiz_solutions.ipynb\" target=\"_parent\"><img src=\"https://colab.research.google.com/assets/colab-badge.svg\" alt=\"Open In Colab\"/></a>"
      ]
    },
    {
      "cell_type": "code",
      "metadata": {
        "id": "Fz_TWS0nOfjF"
      },
      "source": [
        " import pandas as pd\n",
        " import numpy as np"
      ],
      "execution_count": null,
      "outputs": []
    },
    {
      "cell_type": "code",
      "metadata": {
        "colab": {
          "base_uri": "https://localhost:8080/"
        },
        "id": "4BtoBUlWQoeI",
        "outputId": "b25129c5-7dc2-484f-bb82-bd918fd4ce10"
      },
      "source": [
        "# 1. What is the type for the elements in 's'?\n",
        "s = pd.Series( [1, 2/2, 3] )\n",
        "s\n",
        "# float or float64"
      ],
      "execution_count": null,
      "outputs": [
        {
          "output_type": "execute_result",
          "data": {
            "text/plain": [
              "0    1.0\n",
              "1    1.0\n",
              "2    3.0\n",
              "dtype: float64"
            ]
          },
          "metadata": {
            "tags": []
          },
          "execution_count": 13
        }
      ]
    },
    {
      "cell_type": "code",
      "metadata": {
        "colab": {
          "base_uri": "https://localhost:8080/"
        },
        "id": "ZzJdiO7FOx1y",
        "outputId": "f8fab9b2-2c79-455c-99f5-f1ae3367d0df"
      },
      "source": [
        "#2. What does s.index return?\n",
        "s = pd.Series({'a': (1,2), 'b': (3,4), 'c': (5,6) }) \n",
        "s.index"
      ],
      "execution_count": null,
      "outputs": [
        {
          "output_type": "execute_result",
          "data": {
            "text/plain": [
              "Index(['a', 'b', 'c'], dtype='object')"
            ]
          },
          "metadata": {
            "tags": []
          },
          "execution_count": 14
        }
      ]
    },
    {
      "cell_type": "code",
      "metadata": {
        "colab": {
          "base_uri": "https://localhost:8080/"
        },
        "id": "uZZb7MEpPH5E",
        "outputId": "a87b4760-4101-43bf-cafb-d35ed435fa4d"
      },
      "source": [
        "# 3. What does s.values return? \n",
        "s = pd.Series({'a': (1,2), 'b': (3,4), 'c': (5,6) })  \n",
        "\n",
        "s.values\n",
        "\n",
        "# Notice that this the output is a numpy array of tuples."
      ],
      "execution_count": null,
      "outputs": [
        {
          "output_type": "execute_result",
          "data": {
            "text/plain": [
              "array([(1, 2), (3, 4), (5, 6)], dtype=object)"
            ]
          },
          "metadata": {
            "tags": []
          },
          "execution_count": 15
        }
      ]
    },
    {
      "cell_type": "code",
      "metadata": {
        "colab": {
          "base_uri": "https://localhost:8080/"
        },
        "id": "my0r-TlJPSBD",
        "outputId": "0d702fdb-6101-44fd-f8dd-4845ed7c4aad"
      },
      "source": [
        "# 4. What is  `type(s.values)`? Note the question is not asking for the types of the elements stored in s.values.  \n",
        "# The question is asking for the representation of s.values\n",
        "\n",
        "s = pd.Series({'a': (1,2), 'b': (3,4), 'c': (5,6) }) \n",
        "type(s.values)"
      ],
      "execution_count": null,
      "outputs": [
        {
          "output_type": "execute_result",
          "data": {
            "text/plain": [
              "numpy.ndarray"
            ]
          },
          "metadata": {
            "tags": []
          },
          "execution_count": 16
        }
      ]
    },
    {
      "cell_type": "code",
      "metadata": {
        "colab": {
          "base_uri": "https://localhost:8080/"
        },
        "id": "-t5-pmx8PnKE",
        "outputId": "0179a2e4-a812-4da1-e1e4-b478e96a46ed"
      },
      "source": [
        "# 5.  It is ok to have non-unique keys, unlike in a dictionary.\n",
        "s = pd.Series({'a': 1, 'b': 2, 'c': 3, 'c':4 }) \n",
        "s['c']\n",
        "# "
      ],
      "execution_count": null,
      "outputs": [
        {
          "output_type": "execute_result",
          "data": {
            "text/plain": [
              "4"
            ]
          },
          "metadata": {
            "tags": []
          },
          "execution_count": 2
        }
      ]
    },
    {
      "cell_type": "code",
      "metadata": {
        "colab": {
          "base_uri": "https://localhost:8080/"
        },
        "id": "WQWCn4RfQGyI",
        "outputId": "ba5b419e-a9c0-4e1a-d6d4-9c1b3a0f1331"
      },
      "source": [
        "# 6. All the following are equivalent\n",
        "\n",
        "s = pd.Series({'a': 1, 'b': 2, 'c': 3, 'c':4 })\n",
        "print(s.iloc[1])\n",
        "print(s['b'])\n",
        "print(s[1])\n",
        "print(s[ s.index[1] ])\n",
        "print(s.loc['b'])"
      ],
      "execution_count": null,
      "outputs": [
        {
          "output_type": "stream",
          "text": [
            "2\n",
            "2\n",
            "2\n",
            "2\n",
            "2\n"
          ],
          "name": "stdout"
        }
      ]
    },
    {
      "cell_type": "code",
      "metadata": {
        "id": "-ZZLoLrgE0uJ"
      },
      "source": [
        "s.iloc[1]\n",
        "s['b']\n",
        "s[1]\n",
        "s[ s.index[1] ]\n",
        "s.loc['b']"
      ],
      "execution_count": null,
      "outputs": []
    },
    {
      "cell_type": "code",
      "metadata": {
        "colab": {
          "base_uri": "https://localhost:8080/"
        },
        "id": "ghyMf-lpRt3q",
        "outputId": "03568399-bb35-4b0e-a6ab-b99220158281"
      },
      "source": [
        "# 7. this is called filtering.  We get a boolean Series of 100 elements.\n",
        "numbers = pd.Series(np.arange(100))\n",
        "numbers > 10 "
      ],
      "execution_count": null,
      "outputs": [
        {
          "output_type": "execute_result",
          "data": {
            "text/plain": [
              "0     False\n",
              "1     False\n",
              "2     False\n",
              "3     False\n",
              "4     False\n",
              "      ...  \n",
              "95     True\n",
              "96     True\n",
              "97     True\n",
              "98     True\n",
              "99     True\n",
              "Length: 100, dtype: bool"
            ]
          },
          "metadata": {
            "tags": []
          },
          "execution_count": 20
        }
      ]
    },
    {
      "cell_type": "code",
      "metadata": {
        "colab": {
          "base_uri": "https://localhost:8080/"
        },
        "id": "Mx2PoO5hR9jS",
        "outputId": "b9b1ffcf-9551-4964-e6e7-876c81be5ee2"
      },
      "source": [
        "# 8. Write one line code so that numbers will contain the series object that has\n",
        "# values [100, 101, ..., 199]?  \n",
        "# Do not recreate a new series object, modify the existing one.\n",
        "numbers = pd.Series(np.arange(100)); \n",
        "numbers += 100\n",
        "numbers\n",
        "\n",
        "# Using numbers + 10 gives us a new Series, the question asks for modifying it in-place."
      ],
      "execution_count": null,
      "outputs": [
        {
          "output_type": "execute_result",
          "data": {
            "text/plain": [
              "0     100\n",
              "1     101\n",
              "2     102\n",
              "3     103\n",
              "4     104\n",
              "     ... \n",
              "95    195\n",
              "96    196\n",
              "97    197\n",
              "98    198\n",
              "99    199\n",
              "Length: 100, dtype: int64"
            ]
          },
          "metadata": {
            "tags": []
          },
          "execution_count": 24
        }
      ]
    },
    {
      "cell_type": "code",
      "metadata": {
        "id": "w90P_YiBSLjx"
      },
      "source": [
        ""
      ],
      "execution_count": null,
      "outputs": []
    }
  ]
}