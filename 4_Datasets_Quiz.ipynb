{
  "nbformat": 4,
  "nbformat_minor": 0,
  "metadata": {
    "colab": {
      "name": "4 Datasets Quiz.ipynb",
      "provenance": [],
      "toc_visible": true,
      "include_colab_link": true
    },
    "kernelspec": {
      "name": "python3",
      "display_name": "Python 3"
    },
    "language_info": {
      "name": "python"
    }
  },
  "cells": [
    {
      "cell_type": "markdown",
      "metadata": {
        "id": "view-in-github",
        "colab_type": "text"
      },
      "source": [
        "<a href=\"https://colab.research.google.com/github/SinghReena/MachineLearning/blob/master/4_Datasets_Quiz.ipynb\" target=\"_parent\"><img src=\"https://colab.research.google.com/assets/colab-badge.svg\" alt=\"Open In Colab\"/></a>"
      ]
    },
    {
      "cell_type": "markdown",
      "metadata": {
        "id": "bdvRBINyfhg7"
      },
      "source": [
        "In this colab we have four different datasets.  Please take a look the details here and answer the quiz at: https://forms.gle/G25ek83omZdkjey98"
      ]
    },
    {
      "cell_type": "markdown",
      "metadata": {
        "id": "-5eIF13yrefC"
      },
      "source": [
        "# Phoneme dataset"
      ]
    },
    {
      "cell_type": "code",
      "metadata": {
        "id": "XcZm2V7fficQ"
      },
      "source": [
        "import sklearn\n",
        "import pandas as pd\n",
        "import numpy as np"
      ],
      "execution_count": null,
      "outputs": []
    },
    {
      "cell_type": "code",
      "metadata": {
        "colab": {
          "base_uri": "https://localhost:8080/"
        },
        "id": "gdk-Ry40fcJd",
        "outputId": "1e988b5b-7c71-464f-eb1a-a5b1b61524e5"
      },
      "source": [
        "from sklearn.datasets import fetch_openml\n",
        "phoneme = fetch_openml('phoneme', version=1, as_frame=False)\n",
        "phoneme.keys()"
      ],
      "execution_count": null,
      "outputs": [
        {
          "output_type": "execute_result",
          "data": {
            "text/plain": [
              "dict_keys(['data', 'target', 'frame', 'feature_names', 'target_names', 'DESCR', 'details', 'categories', 'url'])"
            ]
          },
          "metadata": {
            "tags": []
          },
          "execution_count": 1
        }
      ]
    },
    {
      "cell_type": "code",
      "metadata": {
        "colab": {
          "base_uri": "https://localhost:8080/"
        },
        "id": "D0Yd11ebfp2t",
        "outputId": "923e7087-3ceb-4336-9b42-fc2caf68a61b"
      },
      "source": [
        "phoneme.target"
      ],
      "execution_count": null,
      "outputs": [
        {
          "output_type": "execute_result",
          "data": {
            "text/plain": [
              "array(['1', '1', '1', ..., '2', '1', '2'], dtype=object)"
            ]
          },
          "metadata": {
            "tags": []
          },
          "execution_count": 2
        }
      ]
    },
    {
      "cell_type": "code",
      "metadata": {
        "colab": {
          "base_uri": "https://localhost:8080/"
        },
        "id": "j94pCagTuEpv",
        "outputId": "f83a3b32-1907-4004-9faf-0b500b05cbb9"
      },
      "source": [
        "np.unique(phoneme.target, return_counts=True)"
      ],
      "execution_count": null,
      "outputs": [
        {
          "output_type": "execute_result",
          "data": {
            "text/plain": [
              "(array(['1', '2'], dtype=object), array([3818, 1586]))"
            ]
          },
          "metadata": {
            "tags": []
          },
          "execution_count": 44
        }
      ]
    },
    {
      "cell_type": "code",
      "metadata": {
        "colab": {
          "base_uri": "https://localhost:8080/"
        },
        "id": "QFo0FoX0fvy9",
        "outputId": "3beb4746-4c2a-4d4f-eceb-0a19c877c881"
      },
      "source": [
        "phoneme.data"
      ],
      "execution_count": null,
      "outputs": [
        {
          "output_type": "execute_result",
          "data": {
            "text/plain": [
              "array([[ 0.489927, -0.451528, -1.04799 , -0.598693, -0.020418],\n",
              "       [-0.641265,  0.109245,  0.29213 , -0.916804,  0.240223],\n",
              "       [ 0.870593, -0.459862,  0.578159,  0.806634,  0.835248],\n",
              "       ...,\n",
              "       [ 0.246882, -0.793228,  1.190101,  1.423194, -1.303036],\n",
              "       [-0.778907, -0.383111,  1.727029, -1.432389, -1.208085],\n",
              "       [-0.794604, -0.640053,  0.632221,  0.72028 , -1.231182]])"
            ]
          },
          "metadata": {
            "tags": []
          },
          "execution_count": 3
        }
      ]
    },
    {
      "cell_type": "code",
      "metadata": {
        "colab": {
          "base_uri": "https://localhost:8080/"
        },
        "id": "zNIwI8IVfyYs",
        "outputId": "310a6dd6-cd95-4609-d505-6d90885a1c8b"
      },
      "source": [
        "phoneme.feature_names"
      ],
      "execution_count": null,
      "outputs": [
        {
          "output_type": "execute_result",
          "data": {
            "text/plain": [
              "['V1', 'V2', 'V3', 'V4', 'V5']"
            ]
          },
          "metadata": {
            "tags": []
          },
          "execution_count": 4
        }
      ]
    },
    {
      "cell_type": "code",
      "metadata": {
        "colab": {
          "base_uri": "https://localhost:8080/"
        },
        "id": "2BJ_mLU3f149",
        "outputId": "3b4a971b-2c10-4f35-d96b-59c510e5db5b"
      },
      "source": [
        "print(phoneme.DESCR)"
      ],
      "execution_count": null,
      "outputs": [
        {
          "output_type": "stream",
          "text": [
            "**Author**: Dominique Van Cappel, THOMSON-SINTRA  \n",
            "**Source**: [KEEL](http://sci2s.ugr.es/keel/dataset.php?cod=105#sub2), [ELENA](https://www.elen.ucl.ac.be/neural-nets/Research/Projects/ELENA/databases/REAL/phoneme/) - 1993  \n",
            "**Please cite**: None  \n",
            "\n",
            "The aim of this dataset is to distinguish between nasal (class 0) and oral sounds (class 1). Five different attributes were chosen to characterize each vowel: they are the amplitudes of the five first harmonics AHi, normalised by the total energy Ene (integrated on all the frequencies): AHi/Ene. The phonemes are transcribed as follows: sh as in she, dcl as in dark, iy as the vowel in she, aa as the vowel in dark, and ao as the first vowel in water.  \n",
            "\n",
            "### Source\n",
            "\n",
            "The current dataset was formatted by the KEEL repository, but originally hosted by the [ELENA Project](https://www.elen.ucl.ac.be/neural-nets/Research/Projects/ELENA/elena.htm#stuff). The dataset originates from the European ESPRIT 5516 project: ROARS. The aim of this project was the development and the implementation of a real time analytical system for French and Spanish speech recognition.  \n",
            "\n",
            "### Relevant information\n",
            "\n",
            "Most of the already existing speech recognition systems are global systems (typically Hidden Markov Models and Time Delay Neural Networks) which recognizes signals and do not really use the speech\n",
            "specificities.  On the contrary, analytical systems take into account the articulatory process leading to the different phonemes of a given language, the idea being to deduce the presence of each of the\n",
            "phonetic features from the acoustic observation.\n",
            "\n",
            "The main difficulty of analytical systems is to obtain acoustical parameters sufficiantly reliable. These acoustical measurements must :\n",
            "\n",
            "   - contain all the information relative to the concerned phonetic feature.\n",
            "   - being speaker independent.\n",
            "   - being context independent.\n",
            "   - being more or less robust to noise.\n",
            "\n",
            "The primary acoustical observation is always voluminous (spectrum x N different observation moments) and classification cannot been processed directly.\n",
            "\n",
            "In ROARS, the initial database is provided by cochlear spectra, which may be seen as the output of a filters bank having a constant DeltaF/F0, where the central frequencies are distributed on a\n",
            "logarithmic scale (MEL type) to simulate the frequency answer of the auditory nerves.  The filters outputs are taken every 2 or 8 msec (integration on 4 or 16 msec) depending on the type of phoneme\n",
            "observed (stationary or transitory).  \n",
            "\n",
            "The aim of the present database is to distinguish between nasal and\n",
            "oral vowels. There are thus two different classes:\n",
            "\n",
            "- Class 0 : Nasals  \n",
            "- Class 1 : Orals        \n",
            "\n",
            "This database contains vowels coming from 1809 isolated syllables (for example: pa, ta, pan,...). Five different attributes were chosen to characterize each vowel: they are the amplitudes of the five first harmonics AHi, normalised by the total energy Ene (integrated on all the frequencies): AHi/Ene. Each harmonic is signed: positive when it corresponds to a local maximum of the spectrum and negative otherwise.\n",
            "\n",
            "Three observation moments have been kept for each vowel to obtain 5427 different instances: \n",
            "\n",
            " - the observation corresponding to the maximum total energy Ene. \n",
            "   \n",
            " - the observations taken 8 msec before and 8 msec after the observation corresponding to this maximum total energy.\n",
            "\n",
            "From these 5427 initial values, 23 instances for which the amplitude of the 5 first harmonics was zero were removed, leading to the 5404 instances of the present database. The patterns are presented in a random order.\n",
            "\n",
            "### Past Usage  \n",
            "\n",
            "Alinat, P., Periodic Progress Report 4, ROARS Project ESPRIT II- Number 5516, February 1993, Thomson report TS. ASM 93/S/EGS/NC/079  \n",
            "    \n",
            "Guerin-Dugue, A. and others, Deliverable R3-B4-P - Task B4: Benchmarks, Technical report, Elena-NervesII \"Enhanced Learning for Evolutive Neural Architecture\", ESPRIT-Basic Research Project  Number 6891, June 1995  \n",
            "\n",
            "Verleysen, M. and Voz, J.L. and Thissen, P. and Legat, J.D., A statistical Neural Network for high-dimensional vector classification, ICNN'95 - IEEE International Conference on Neural Networks, November 1995, Perth, Western Australia.  \n",
            "    \n",
            "Voz J.L., Verleysen M., Thissen P. and Legat J.D., Suboptimal Bayesian classification by vector quantization with small clusters. ESANN95-European Symposium on Artificial Neural Networks, April 1995, M. Verleysen editor, D facto publications, Brussels, Belgium.  \n",
            "    \n",
            "Voz J.L., Verleysen M., Thissen P. and Legat J.D., A practical view of  suboptimal Bayesian classification, IWANN95-Proceedings of the International Workshop on Artificial Neural Networks, June 1995, Mira, Cabestany, Prieto editors, Springer-Verlag Lecture Notes in Computer Sciences, Malaga, Spain\n",
            "\n",
            "Downloaded from openml.org.\n"
          ],
          "name": "stdout"
        }
      ]
    },
    {
      "cell_type": "code",
      "metadata": {
        "id": "17so6zcLf4KS"
      },
      "source": [
        ""
      ],
      "execution_count": null,
      "outputs": []
    },
    {
      "cell_type": "markdown",
      "metadata": {
        "id": "1paRwV_3gkav"
      },
      "source": [
        "# Creditcard"
      ]
    },
    {
      "cell_type": "code",
      "metadata": {
        "colab": {
          "base_uri": "https://localhost:8080/"
        },
        "id": "p9t-7Uf1gkEG",
        "outputId": "f293a787-4759-4640-b096-5643a18c8a20"
      },
      "source": [
        "from sklearn.datasets import fetch_openml\n",
        "creditcard = fetch_openml('creditcard', version=1, as_frame=False)\n",
        "creditcard.keys()"
      ],
      "execution_count": null,
      "outputs": [
        {
          "output_type": "execute_result",
          "data": {
            "text/plain": [
              "dict_keys(['data', 'target', 'frame', 'feature_names', 'target_names', 'DESCR', 'details', 'categories', 'url'])"
            ]
          },
          "metadata": {
            "tags": []
          },
          "execution_count": 7
        }
      ]
    },
    {
      "cell_type": "code",
      "metadata": {
        "id": "E7ojrk_LhFB0"
      },
      "source": [
        "import pprint"
      ],
      "execution_count": null,
      "outputs": []
    },
    {
      "cell_type": "code",
      "metadata": {
        "id": "j1qZwnwFhOXL"
      },
      "source": [
        "pp = pprint.PrettyPrinter(width=80)"
      ],
      "execution_count": null,
      "outputs": []
    },
    {
      "cell_type": "code",
      "metadata": {
        "colab": {
          "base_uri": "https://localhost:8080/"
        },
        "id": "Z4d3BuqwgpCg",
        "outputId": "d953b966-ce7d-44ac-a4de-c2dec84ef530"
      },
      "source": [
        "pp.pprint(creditcard.DESCR)"
      ],
      "execution_count": null,
      "outputs": [
        {
          "output_type": "stream",
          "text": [
            "('**Author**: Andrea Dal Pozzolo, Olivier Caelen and Gianluca Bontempi  \\n'\n",
            " '**Source**: Credit card fraud detection - Date 25th of June 2015  \\n'\n",
            " '**Please cite**: Andrea Dal Pozzolo, Olivier Caelen, Reid A. Johnson and '\n",
            " 'Gianluca Bontempi. Calibrating Probability with Undersampling for Unbalanced '\n",
            " 'Classification. In Symposium on Computational Intelligence and Data Mining '\n",
            " '(CIDM), IEEE, 2015  \\n'\n",
            " '\\n'\n",
            " 'The datasets contains transactions made by credit cards in September 2013 by '\n",
            " 'european cardholders. This dataset present transactions that occurred in two '\n",
            " 'days, where we have 492 frauds out of 284,807 transactions. The dataset is '\n",
            " 'highly unbalanced, the positive class (frauds) account for 0.172% of all '\n",
            " 'transactions.\\n'\n",
            " '\\n'\n",
            " 'It contains only numerical input variables which are the result of a PCA '\n",
            " 'transformation. Unfortunately, due to confidentiality issues, we cannot '\n",
            " 'provide the original features and more background information about the '\n",
            " 'data. Features V1, V2, ... V28 are the principal components obtained with '\n",
            " \"PCA, the only features which have not been transformed with PCA are 'Time' \"\n",
            " \"and 'Amount'. Feature 'Time' contains the seconds elapsed between each \"\n",
            " \"transaction and the first transaction in the dataset. The feature 'Amount' \"\n",
            " 'is the transaction Amount, this feature can be used for example-dependant '\n",
            " \"cost-senstive learning. Feature 'Class' is the response variable and it \"\n",
            " 'takes value 1 in case of fraud and 0 otherwise.\\n'\n",
            " '\\n'\n",
            " 'The dataset has been collected and analysed during a research collaboration '\n",
            " 'of Worldline and the Machine Learning Group (mlg.ulb.ac.be) of ULB '\n",
            " '(Université Libre de Bruxelles) on big data mining and fraud detection. More '\n",
            " 'details on current and past projects on related topics are available on '\n",
            " 'http://mlg.ulb.ac.be/BruFence and http://mlg.ulb.ac.be/ARTML.\\n'\n",
            " '\\n'\n",
            " 'Downloaded from openml.org.')\n"
          ],
          "name": "stdout"
        }
      ]
    },
    {
      "cell_type": "code",
      "metadata": {
        "colab": {
          "base_uri": "https://localhost:8080/"
        },
        "id": "55_L8SgHg2D8",
        "outputId": "4ad6a546-cfa7-424d-a64f-6375f75e5490"
      },
      "source": [
        "creditcard.data[1]"
      ],
      "execution_count": null,
      "outputs": [
        {
          "output_type": "execute_result",
          "data": {
            "text/plain": [
              "array([ 1.19185711,  0.26615071,  0.16648011,  0.44815408,  0.06001765,\n",
              "       -0.08236081, -0.07880298,  0.08510165, -0.25542513, -0.16697441,\n",
              "        1.61272666,  1.06523531,  0.48909502, -0.1437723 ,  0.63555809,\n",
              "        0.46391704, -0.11480466, -0.18336127, -0.14578304, -0.06908314,\n",
              "       -0.22577525, -0.63867195,  0.10128802, -0.33984648,  0.1671704 ,\n",
              "        0.12589453, -0.0089831 ,  0.01472417,  2.69      ])"
            ]
          },
          "metadata": {
            "tags": []
          },
          "execution_count": 27
        }
      ]
    },
    {
      "cell_type": "code",
      "metadata": {
        "colab": {
          "base_uri": "https://localhost:8080/"
        },
        "id": "8wxwZl2KhyqH",
        "outputId": "2f4209fa-292f-4ebd-ab7e-657b468d190e"
      },
      "source": [
        "np.unique(creditcard.target, return_counts=True)"
      ],
      "execution_count": null,
      "outputs": [
        {
          "output_type": "execute_result",
          "data": {
            "text/plain": [
              "(array(['0', '1'], dtype=object), array([284315,    492]))"
            ]
          },
          "metadata": {
            "tags": []
          },
          "execution_count": 33
        }
      ]
    },
    {
      "cell_type": "code",
      "metadata": {
        "id": "ff8nYVHqh5ro"
      },
      "source": [
        ""
      ],
      "execution_count": null,
      "outputs": []
    },
    {
      "cell_type": "markdown",
      "metadata": {
        "id": "2renYyRuj5yr"
      },
      "source": [
        "# Diabetes"
      ]
    },
    {
      "cell_type": "code",
      "metadata": {
        "colab": {
          "base_uri": "https://localhost:8080/"
        },
        "id": "ozeBst7Xj7Pc",
        "outputId": "1978960e-1f4f-4729-88af-091abdd878f0"
      },
      "source": [
        "diabetes = fetch_openml('diabetes_numeric', version=1, as_frame=False)\n",
        "diabetes.keys()\n"
      ],
      "execution_count": null,
      "outputs": [
        {
          "output_type": "execute_result",
          "data": {
            "text/plain": [
              "dict_keys(['data', 'target', 'frame', 'feature_names', 'target_names', 'DESCR', 'details', 'categories', 'url'])"
            ]
          },
          "metadata": {
            "tags": []
          },
          "execution_count": 34
        }
      ]
    },
    {
      "cell_type": "code",
      "metadata": {
        "colab": {
          "base_uri": "https://localhost:8080/"
        },
        "id": "XqFwhCDrrTcg",
        "outputId": "0c2a6acc-051d-4d40-b50a-0aa315de227b"
      },
      "source": [
        "print(diabetes.DESCR)"
      ],
      "execution_count": null,
      "outputs": [
        {
          "output_type": "stream",
          "text": [
            "**Author**:   \n",
            "**Source**: Unknown -   \n",
            "**Please cite**:   \n",
            "\n",
            "This data set concerns the study of the factors affecting patterns of\n",
            " insulin-dependent diabetes mellitus in children.  The objective is to\n",
            " investigate the dependence of the level of serum C-peptide on the\n",
            " various other factors in order to understand the patterns of residual\n",
            " insulin secretion. The response measurement is the logarithm of\n",
            " C-peptide concentration (pmol/ml) at the diagnosis, and the predictor\n",
            " measurements age and base deficit, a measure of acidity.\n",
            "\n",
            " Source: collection of regression datasets by Luis Torgo (ltorgo@ncc.up.pt) at\n",
            " http://www.ncc.up.pt/~ltorgo/Regression/DataSets.html\n",
            " Original source: Book Generalized Additive Models (p.304) by Hastie &\n",
            " Tibshirani, Chapman & Hall.  \n",
            " Characteristics: 43 cases; 3 continuous variables\n",
            "\n",
            "Downloaded from openml.org.\n"
          ],
          "name": "stdout"
        }
      ]
    },
    {
      "cell_type": "code",
      "metadata": {
        "colab": {
          "base_uri": "https://localhost:8080/"
        },
        "id": "injNgHIPkCJd",
        "outputId": "20fe2ae2-c2a1-46ff-c681-8f683caeb6b5"
      },
      "source": [
        "diabetes.target_names"
      ],
      "execution_count": null,
      "outputs": [
        {
          "output_type": "execute_result",
          "data": {
            "text/plain": [
              "['c_peptide']"
            ]
          },
          "metadata": {
            "tags": []
          },
          "execution_count": 35
        }
      ]
    },
    {
      "cell_type": "code",
      "metadata": {
        "colab": {
          "base_uri": "https://localhost:8080/"
        },
        "id": "U9mVXXdnrCeC",
        "outputId": "7d5b26c0-1b35-498b-fc29-623575ee266d"
      },
      "source": [
        "diabetes.target[:5]"
      ],
      "execution_count": null,
      "outputs": [
        {
          "output_type": "execute_result",
          "data": {
            "text/plain": [
              "array([4.8, 4.1, 5.2, 5.5, 5. ])"
            ]
          },
          "metadata": {
            "tags": []
          },
          "execution_count": 36
        }
      ]
    },
    {
      "cell_type": "code",
      "metadata": {
        "colab": {
          "base_uri": "https://localhost:8080/"
        },
        "id": "mpwKOvMzrGrI",
        "outputId": "cd656801-f02b-4a4d-b7f6-d8d0139ad3cc"
      },
      "source": [
        "diabetes.data[:10]"
      ],
      "execution_count": null,
      "outputs": [
        {
          "output_type": "execute_result",
          "data": {
            "text/plain": [
              "array([[  5.2,  -8.1],\n",
              "       [  8.8, -16.1],\n",
              "       [ 10.5,  -0.9],\n",
              "       [ 10.6,  -7.8],\n",
              "       [ 10.4, -29. ],\n",
              "       [  1.8, -19.2],\n",
              "       [ 12.7, -18.9],\n",
              "       [ 15.6, -10.6],\n",
              "       [  5.8,  -2.8],\n",
              "       [  1.9, -25. ]])"
            ]
          },
          "metadata": {
            "tags": []
          },
          "execution_count": 39
        }
      ]
    },
    {
      "cell_type": "code",
      "metadata": {
        "id": "TX7UAdvOrKj6"
      },
      "source": [
        ""
      ],
      "execution_count": null,
      "outputs": []
    },
    {
      "cell_type": "markdown",
      "metadata": {
        "id": "Cxzw-6tdt8TN"
      },
      "source": [
        "# Tic-Tac-Toe"
      ]
    },
    {
      "cell_type": "code",
      "metadata": {
        "id": "4Sjawp5oIh8P"
      },
      "source": [
        "import sklearn\n",
        "import pandas as pd\n",
        "import numpy as np"
      ],
      "execution_count": null,
      "outputs": []
    },
    {
      "cell_type": "code",
      "metadata": {
        "id": "ZhAyORhtc110"
      },
      "source": [
        "df = pd.read_csv('https://www.openml.org/data/get_csv/50/dataset_50_tic-tac-toe.arff')"
      ],
      "execution_count": null,
      "outputs": []
    },
    {
      "cell_type": "code",
      "metadata": {
        "id": "U4g1D6HWds8Z"
      },
      "source": [
        "def print_game(i):\n",
        "  print(df.iloc[i].values[:9].reshape(3,3))\n",
        "  print(df.iloc[i].values[9])"
      ],
      "execution_count": null,
      "outputs": []
    },
    {
      "cell_type": "code",
      "metadata": {
        "colab": {
          "base_uri": "https://localhost:8080/"
        },
        "id": "SFAlvqcod2wz",
        "outputId": "ce244f2b-b384-4497-f057-b4e691f4ac09"
      },
      "source": [
        "print_game(4)"
      ],
      "execution_count": null,
      "outputs": [
        {
          "output_type": "stream",
          "text": [
            "[['x' 'x' 'x']\n",
            " ['x' 'o' 'o']\n",
            " ['b' 'o' 'b']]\n",
            "positive\n"
          ],
          "name": "stdout"
        }
      ]
    },
    {
      "cell_type": "code",
      "metadata": {
        "colab": {
          "base_uri": "https://localhost:8080/"
        },
        "id": "WlfEX-gHd47G",
        "outputId": "ba4caa51-78d7-4781-eb32-b0138c0bbcb7"
      },
      "source": [
        "print_game(-1)"
      ],
      "execution_count": null,
      "outputs": [
        {
          "output_type": "stream",
          "text": [
            "[['o' 'o' 'x']\n",
            " ['x' 'x' 'o']\n",
            " ['o' 'x' 'x']]\n",
            "negative\n"
          ],
          "name": "stdout"
        }
      ]
    },
    {
      "cell_type": "code",
      "metadata": {
        "colab": {
          "base_uri": "https://localhost:8080/"
        },
        "id": "Ar6MHCCVYCgo",
        "outputId": "c41edf3c-7f2c-4b6d-97c6-d91ab345fb29"
      },
      "source": [
        "print(tictactoe.DESCR)"
      ],
      "execution_count": null,
      "outputs": [
        {
          "output_type": "stream",
          "text": [
            "**Author**: David W. Aha    \n",
            "**Source**: [UCI](https://archive.ics.uci.edu/ml/datasets/Tic-Tac-Toe+Endgame) - 1991   \n",
            "**Please cite**: [UCI](http://archive.ics.uci.edu/ml/citation_policy.html)\n",
            "\n",
            "**Tic-Tac-Toe Endgame database**  \n",
            "This database encodes the complete set of possible board configurations at the end of tic-tac-toe games, where \"x\" is assumed to have played first.  The target concept is \"win for x\" (i.e., true when \"x\" has one of 8 possible ways to create a \"three-in-a-row\").  \n",
            "\n",
            "### Attribute Information  \n",
            "\n",
            "     (x=player x has taken, o=player o has taken, b=blank)\n",
            "     1. top-left-square: {x,o,b}\n",
            "     2. top-middle-square: {x,o,b}\n",
            "     3. top-right-square: {x,o,b}\n",
            "     4. middle-left-square: {x,o,b}\n",
            "     5. middle-middle-square: {x,o,b}\n",
            "     6. middle-right-square: {x,o,b}\n",
            "     7. bottom-left-square: {x,o,b}\n",
            "     8. bottom-middle-square: {x,o,b}\n",
            "     9. bottom-right-square: {x,o,b}\n",
            "    10. Class: {positive,negative}\n",
            "\n",
            "Downloaded from openml.org.\n"
          ],
          "name": "stdout"
        }
      ]
    }
  ]
}