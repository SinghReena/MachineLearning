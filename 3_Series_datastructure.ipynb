{
  "nbformat": 4,
  "nbformat_minor": 0,
  "metadata": {
    "colab": {
      "name": "3. Series datastructure.ipynb",
      "provenance": [],
      "collapsed_sections": [],
      "toc_visible": true,
      "include_colab_link": true
    },
    "kernelspec": {
      "name": "python3",
      "display_name": "Python 3"
    }
  },
  "cells": [
    {
      "cell_type": "markdown",
      "metadata": {
        "id": "view-in-github",
        "colab_type": "text"
      },
      "source": [
        "<a href=\"https://colab.research.google.com/github/SinghReena/MachineLearning/blob/master/3_Series_datastructure.ipynb\" target=\"_parent\"><img src=\"https://colab.research.google.com/assets/colab-badge.svg\" alt=\"Open In Colab\"/></a>"
      ]
    },
    {
      "cell_type": "markdown",
      "metadata": {
        "id": "sU9HMywfu8Pl"
      },
      "source": [
        "# Series Datastructure"
      ]
    },
    {
      "cell_type": "markdown",
      "metadata": {
        "id": "zbL02wH8vT80"
      },
      "source": [
        "\n",
        "**Why Series?**\n",
        "\n",
        "The series is one of the core data structures in pandas. \n",
        "\n",
        "A dataframe is the main data structure used in data science. For now, think of an excel file as a data frame.  Each column of the data is a Series object. When we are manipulating a column of data --- for cleaning, for feature extraction in machine learning etc., we are modifying a Series object. Manipulating a dataframe is similar to manipulating a Series object but will affect multiple columns simultaneously.  So learning manipulations on a single dimensional Series object is fundamental to data science.\n",
        "\n",
        "**What is Series?**\n",
        "You think of a Series as a cross between a list and a dictionary. \n",
        "- The items are all stored in an order. So it is like a list.\n",
        "- You can assign labels to the rows with which you can retrieve them. In this way, it is like a dictionary.\n",
        "\n",
        "An easy way to visualize is two columns of data. The first is the special index, like keys in  a dictionary, while the second is your actual data, or values in the hash table. \n",
        "\n",
        "The data column has a label of its own and can be retrieved using the .name attribute. This is different than with dictionaries and is useful when it comes to merging multiple columns of data."
      ]
    },
    {
      "cell_type": "markdown",
      "metadata": {
        "id": "bz4LMSkrqJow"
      },
      "source": [
        "We will cover **five topics** in Series datastructure.\n",
        "\n",
        "1. Creating a new Series object \n",
        "  - Using lists\n",
        "  - Using Hash tables\n",
        "  - Explicit values and index\n",
        "2. Types of the object stored in Series\n",
        "  - typecasting\n",
        "  - Null vs. NAN\n",
        "3. Indexing into the Series object\n",
        "4. Querying into a Series object\n",
        "5. Operations on Series object -- broadcasting.\n"
      ]
    },
    {
      "cell_type": "markdown",
      "metadata": {
        "id": "XwtZIuxEJC5Z"
      },
      "source": [
        "\n",
        "\n",
        "All the  entries of a Series are elements of the same type."
      ]
    },
    {
      "cell_type": "code",
      "metadata": {
        "id": "RFsaYABxwtqh"
      },
      "source": [
        "import pandas as pd\n"
      ],
      "execution_count": null,
      "outputs": []
    },
    {
      "cell_type": "markdown",
      "metadata": {
        "id": "40UJgRwd2_cv"
      },
      "source": [
        "## Creating a Series from Lists\n",
        "\n",
        "You can create a series by passing in a list of values.\n",
        "One of the easiest ways to  create a series is to use an array-like object, like a list\n"
      ]
    },
    {
      "cell_type": "code",
      "metadata": {
        "colab": {
          "base_uri": "https://localhost:8080/"
        },
        "id": "klMJxALBxIDo",
        "outputId": "cd88555b-c1e6-47b6-e232-672663ef9937"
      },
      "source": [
        "\n",
        "##  Let us create a list of the three of students, Alice, Bob, Charlie, all as strings\n",
        "students = ['Alice','Bob','Charlie']\n",
        "\n",
        "# Now we will call the series function in pandas and pass in the students\n",
        "s = pd.Series(students)\n",
        "print(s)"
      ],
      "execution_count": null,
      "outputs": [
        {
          "output_type": "stream",
          "text": [
            "0      Alice\n",
            "1        Bob\n",
            "2    Charlie\n",
            "dtype: object\n"
          ],
          "name": "stdout"
        }
      ]
    },
    {
      "cell_type": "markdown",
      "metadata": {
        "id": "GRgUVgrYEyPh"
      },
      "source": [
        "\n",
        "The type of s is `Series`, but each object of the Series is an object type.\n"
      ]
    },
    {
      "cell_type": "code",
      "metadata": {
        "colab": {
          "base_uri": "https://localhost:8080/"
        },
        "id": "WBx7xXr1EuwP",
        "outputId": "8ae3348b-6f3f-4b12-d399-5eaf26d0a87b"
      },
      "source": [
        "type(s)"
      ],
      "execution_count": null,
      "outputs": [
        {
          "output_type": "execute_result",
          "data": {
            "text/plain": [
              "pandas.core.series.Series"
            ]
          },
          "metadata": {
            "tags": []
          },
          "execution_count": 15
        }
      ]
    },
    {
      "cell_type": "code",
      "metadata": {
        "colab": {
          "base_uri": "https://localhost:8080/"
        },
        "id": "gjomoNN1zCv_",
        "outputId": "0c3b75f7-7fa0-4e3e-90f4-3f3e5aa3384b"
      },
      "source": [
        "# You can also create a little list of numbers\n",
        "numbers = [1,4,8]\n",
        "pd.Series(numbers)"
      ],
      "execution_count": null,
      "outputs": [
        {
          "output_type": "execute_result",
          "data": {
            "text/plain": [
              "0    1\n",
              "1    4\n",
              "2    8\n",
              "dtype: int64"
            ]
          },
          "metadata": {
            "tags": []
          },
          "execution_count": 16
        }
      ]
    },
    {
      "cell_type": "markdown",
      "metadata": {
        "id": "DSwek-AyFSll"
      },
      "source": [
        "Each element of the Series is a 64-bit integer"
      ]
    },
    {
      "cell_type": "markdown",
      "metadata": {
        "id": "hwOhkjEPPQQd"
      },
      "source": [
        "## Typecasting in Series\n",
        "\n",
        "The elements of a series are typecasted to the \"bigger\" type."
      ]
    },
    {
      "cell_type": "code",
      "metadata": {
        "id": "RIj-TxLMPfh9"
      },
      "source": [
        "# python typecasting\n"
      ],
      "execution_count": null,
      "outputs": []
    },
    {
      "cell_type": "code",
      "metadata": {
        "colab": {
          "base_uri": "https://localhost:8080/"
        },
        "id": "Qv5MMgJd3dQU",
        "outputId": "76e260e7-354a-4616-90ad-ae6bf61a6225"
      },
      "source": [
        "pd.Series([1,2,3])"
      ],
      "execution_count": null,
      "outputs": [
        {
          "output_type": "execute_result",
          "data": {
            "text/plain": [
              "0    1\n",
              "1    2\n",
              "2    3\n",
              "dtype: int64"
            ]
          },
          "metadata": {
            "tags": []
          },
          "execution_count": 18
        }
      ]
    },
    {
      "cell_type": "markdown",
      "metadata": {
        "id": "EY7J49ELFk9j"
      },
      "source": [
        "What if we create a Series with an integer and a float type?\n",
        "\n",
        "Pandas will typecast the integer to a float"
      ]
    },
    {
      "cell_type": "code",
      "metadata": {
        "colab": {
          "base_uri": "https://localhost:8080/"
        },
        "id": "kq8OcZswFkU0",
        "outputId": "b4a7f0b2-546d-4100-fd4e-41a5a41c1ae9"
      },
      "source": [
        "pd.Series([1, 2.0])"
      ],
      "execution_count": null,
      "outputs": [
        {
          "output_type": "execute_result",
          "data": {
            "text/plain": [
              "0    1.0\n",
              "1    2.0\n",
              "dtype: float64"
            ]
          },
          "metadata": {
            "tags": []
          },
          "execution_count": 19
        }
      ]
    },
    {
      "cell_type": "code",
      "metadata": {
        "colab": {
          "base_uri": "https://localhost:8080/",
          "height": 354
        },
        "id": "bBdEO51ICJ6x",
        "outputId": "3e6d593d-17ba-495f-e18b-5b16e4dd1d89"
      },
      "source": [
        "# 4.21 cannot be coerced into an int. \n",
        "# Whereas 2.0 can be coerced to an integer.\n",
        "s = pd.Series([1, 4.21], dtype = int)"
      ],
      "execution_count": null,
      "outputs": [
        {
          "output_type": "error",
          "ename": "ValueError",
          "evalue": "ignored",
          "traceback": [
            "\u001b[0;31m---------------------------------------------------------------------------\u001b[0m",
            "\u001b[0;31mValueError\u001b[0m                                Traceback (most recent call last)",
            "\u001b[0;32m<ipython-input-20-51cc392a07fb>\u001b[0m in \u001b[0;36m<module>\u001b[0;34m()\u001b[0m\n\u001b[1;32m      1\u001b[0m \u001b[0;31m# 4.21 cannot be coerced into an int.\u001b[0m\u001b[0;34m\u001b[0m\u001b[0;34m\u001b[0m\u001b[0;34m\u001b[0m\u001b[0m\n\u001b[1;32m      2\u001b[0m \u001b[0;31m# Whereas 2.0 can be coerced to an integer.\u001b[0m\u001b[0;34m\u001b[0m\u001b[0;34m\u001b[0m\u001b[0;34m\u001b[0m\u001b[0m\n\u001b[0;32m----> 3\u001b[0;31m \u001b[0ms\u001b[0m \u001b[0;34m=\u001b[0m \u001b[0mpd\u001b[0m\u001b[0;34m.\u001b[0m\u001b[0mSeries\u001b[0m\u001b[0;34m(\u001b[0m\u001b[0;34m[\u001b[0m\u001b[0;36m1\u001b[0m\u001b[0;34m,\u001b[0m \u001b[0;36m4.21\u001b[0m\u001b[0;34m]\u001b[0m\u001b[0;34m,\u001b[0m \u001b[0mdtype\u001b[0m \u001b[0;34m=\u001b[0m \u001b[0mint\u001b[0m\u001b[0;34m)\u001b[0m\u001b[0;34m\u001b[0m\u001b[0;34m\u001b[0m\u001b[0m\n\u001b[0m",
            "\u001b[0;32m/usr/local/lib/python3.6/dist-packages/pandas/core/series.py\u001b[0m in \u001b[0;36m__init__\u001b[0;34m(self, data, index, dtype, name, copy, fastpath)\u001b[0m\n\u001b[1;32m    325\u001b[0m                     \u001b[0mdata\u001b[0m \u001b[0;34m=\u001b[0m \u001b[0mdata\u001b[0m\u001b[0;34m.\u001b[0m\u001b[0mcopy\u001b[0m\u001b[0;34m(\u001b[0m\u001b[0;34m)\u001b[0m\u001b[0;34m\u001b[0m\u001b[0;34m\u001b[0m\u001b[0m\n\u001b[1;32m    326\u001b[0m             \u001b[0;32melse\u001b[0m\u001b[0;34m:\u001b[0m\u001b[0;34m\u001b[0m\u001b[0;34m\u001b[0m\u001b[0m\n\u001b[0;32m--> 327\u001b[0;31m                 \u001b[0mdata\u001b[0m \u001b[0;34m=\u001b[0m \u001b[0msanitize_array\u001b[0m\u001b[0;34m(\u001b[0m\u001b[0mdata\u001b[0m\u001b[0;34m,\u001b[0m \u001b[0mindex\u001b[0m\u001b[0;34m,\u001b[0m \u001b[0mdtype\u001b[0m\u001b[0;34m,\u001b[0m \u001b[0mcopy\u001b[0m\u001b[0;34m,\u001b[0m \u001b[0mraise_cast_failure\u001b[0m\u001b[0;34m=\u001b[0m\u001b[0;32mTrue\u001b[0m\u001b[0;34m)\u001b[0m\u001b[0;34m\u001b[0m\u001b[0;34m\u001b[0m\u001b[0m\n\u001b[0m\u001b[1;32m    328\u001b[0m \u001b[0;34m\u001b[0m\u001b[0m\n\u001b[1;32m    329\u001b[0m                 \u001b[0mdata\u001b[0m \u001b[0;34m=\u001b[0m \u001b[0mSingleBlockManager\u001b[0m\u001b[0;34m.\u001b[0m\u001b[0mfrom_array\u001b[0m\u001b[0;34m(\u001b[0m\u001b[0mdata\u001b[0m\u001b[0;34m,\u001b[0m \u001b[0mindex\u001b[0m\u001b[0;34m)\u001b[0m\u001b[0;34m\u001b[0m\u001b[0;34m\u001b[0m\u001b[0m\n",
            "\u001b[0;32m/usr/local/lib/python3.6/dist-packages/pandas/core/construction.py\u001b[0m in \u001b[0;36msanitize_array\u001b[0;34m(data, index, dtype, copy, raise_cast_failure)\u001b[0m\n\u001b[1;32m    445\u001b[0m \u001b[0;34m\u001b[0m\u001b[0m\n\u001b[1;32m    446\u001b[0m         \u001b[0;32mif\u001b[0m \u001b[0mdtype\u001b[0m \u001b[0;32mis\u001b[0m \u001b[0;32mnot\u001b[0m \u001b[0;32mNone\u001b[0m\u001b[0;34m:\u001b[0m\u001b[0;34m\u001b[0m\u001b[0;34m\u001b[0m\u001b[0m\n\u001b[0;32m--> 447\u001b[0;31m             \u001b[0msubarr\u001b[0m \u001b[0;34m=\u001b[0m \u001b[0m_try_cast\u001b[0m\u001b[0;34m(\u001b[0m\u001b[0mdata\u001b[0m\u001b[0;34m,\u001b[0m \u001b[0mdtype\u001b[0m\u001b[0;34m,\u001b[0m \u001b[0mcopy\u001b[0m\u001b[0;34m,\u001b[0m \u001b[0mraise_cast_failure\u001b[0m\u001b[0;34m)\u001b[0m\u001b[0;34m\u001b[0m\u001b[0;34m\u001b[0m\u001b[0m\n\u001b[0m\u001b[1;32m    448\u001b[0m         \u001b[0;32melse\u001b[0m\u001b[0;34m:\u001b[0m\u001b[0;34m\u001b[0m\u001b[0;34m\u001b[0m\u001b[0m\n\u001b[1;32m    449\u001b[0m             \u001b[0msubarr\u001b[0m \u001b[0;34m=\u001b[0m \u001b[0mmaybe_convert_platform\u001b[0m\u001b[0;34m(\u001b[0m\u001b[0mdata\u001b[0m\u001b[0;34m)\u001b[0m\u001b[0;34m\u001b[0m\u001b[0;34m\u001b[0m\u001b[0m\n",
            "\u001b[0;32m/usr/local/lib/python3.6/dist-packages/pandas/core/construction.py\u001b[0m in \u001b[0;36m_try_cast\u001b[0;34m(arr, dtype, copy, raise_cast_failure)\u001b[0m\n\u001b[1;32m    553\u001b[0m         \u001b[0;32mif\u001b[0m \u001b[0mis_integer_dtype\u001b[0m\u001b[0;34m(\u001b[0m\u001b[0mdtype\u001b[0m\u001b[0;34m)\u001b[0m\u001b[0;34m:\u001b[0m\u001b[0;34m\u001b[0m\u001b[0;34m\u001b[0m\u001b[0m\n\u001b[1;32m    554\u001b[0m             \u001b[0;31m# this will raise if we have e.g. floats\u001b[0m\u001b[0;34m\u001b[0m\u001b[0;34m\u001b[0m\u001b[0;34m\u001b[0m\u001b[0m\n\u001b[0;32m--> 555\u001b[0;31m             \u001b[0mmaybe_cast_to_integer_array\u001b[0m\u001b[0;34m(\u001b[0m\u001b[0marr\u001b[0m\u001b[0;34m,\u001b[0m \u001b[0mdtype\u001b[0m\u001b[0;34m)\u001b[0m\u001b[0;34m\u001b[0m\u001b[0;34m\u001b[0m\u001b[0m\n\u001b[0m\u001b[1;32m    556\u001b[0m             \u001b[0msubarr\u001b[0m \u001b[0;34m=\u001b[0m \u001b[0marr\u001b[0m\u001b[0;34m\u001b[0m\u001b[0;34m\u001b[0m\u001b[0m\n\u001b[1;32m    557\u001b[0m         \u001b[0;32melse\u001b[0m\u001b[0;34m:\u001b[0m\u001b[0;34m\u001b[0m\u001b[0;34m\u001b[0m\u001b[0m\n",
            "\u001b[0;32m/usr/local/lib/python3.6/dist-packages/pandas/core/dtypes/cast.py\u001b[0m in \u001b[0;36mmaybe_cast_to_integer_array\u001b[0;34m(arr, dtype, copy)\u001b[0m\n\u001b[1;32m   1695\u001b[0m \u001b[0;34m\u001b[0m\u001b[0m\n\u001b[1;32m   1696\u001b[0m     \u001b[0;32mif\u001b[0m \u001b[0mis_integer_dtype\u001b[0m\u001b[0;34m(\u001b[0m\u001b[0mdtype\u001b[0m\u001b[0;34m)\u001b[0m \u001b[0;32mand\u001b[0m \u001b[0;34m(\u001b[0m\u001b[0mis_float_dtype\u001b[0m\u001b[0;34m(\u001b[0m\u001b[0marr\u001b[0m\u001b[0;34m)\u001b[0m \u001b[0;32mor\u001b[0m \u001b[0mis_object_dtype\u001b[0m\u001b[0;34m(\u001b[0m\u001b[0marr\u001b[0m\u001b[0;34m)\u001b[0m\u001b[0;34m)\u001b[0m\u001b[0;34m:\u001b[0m\u001b[0;34m\u001b[0m\u001b[0;34m\u001b[0m\u001b[0m\n\u001b[0;32m-> 1697\u001b[0;31m         \u001b[0;32mraise\u001b[0m \u001b[0mValueError\u001b[0m\u001b[0;34m(\u001b[0m\u001b[0;34m\"Trying to coerce float values to integers\"\u001b[0m\u001b[0;34m)\u001b[0m\u001b[0;34m\u001b[0m\u001b[0;34m\u001b[0m\u001b[0m\n\u001b[0m\u001b[1;32m   1698\u001b[0m \u001b[0;34m\u001b[0m\u001b[0m\n\u001b[1;32m   1699\u001b[0m \u001b[0;34m\u001b[0m\u001b[0m\n",
            "\u001b[0;31mValueError\u001b[0m: Trying to coerce float values to integers"
          ]
        }
      ]
    },
    {
      "cell_type": "markdown",
      "metadata": {
        "id": "emDy2Md6CYDP"
      },
      "source": [
        "### Use `astype` method to convert types."
      ]
    },
    {
      "cell_type": "code",
      "metadata": {
        "id": "JZWJoH6wGJEr"
      },
      "source": [
        "# astype is not floor or ceiling. \n",
        "# it is the integer component of the number.\n",
        "s = pd.Series([1, 4.21, 5.9, -5.6])\n",
        "s.astype(int)"
      ],
      "execution_count": null,
      "outputs": []
    },
    {
      "cell_type": "code",
      "metadata": {
        "id": "mmTR1f6HNxPy"
      },
      "source": [
        "import numpy as np\n",
        "np.trunc(s)"
      ],
      "execution_count": null,
      "outputs": []
    },
    {
      "cell_type": "markdown",
      "metadata": {
        "id": "qHDILzEMJ8C3"
      },
      "source": [
        "### `None` type in python.\n",
        "\n",
        "Lack of data in python  can be represented by None. It is equivalent to null in other languages.\n",
        "\n",
        "In Databases a null type is used to represent missing data.  For example, if you have a phone column in the database and  its value is null for a row, it can mean that \n",
        "  - the person does not have  a phone.\n",
        "  - the person  has a phone but we do not have its record.\n",
        "  - phone number is not relevant to this record.\n",
        "  - we have not asked for it.\n",
        "\n",
        "We use `None` to represent missing data in dataframes. For numerical values we use `NAN`.\n",
        "\n"
      ]
    },
    {
      "cell_type": "code",
      "metadata": {
        "id": "c6cZmc3ALQrv"
      },
      "source": [
        "def foo():\n",
        "  return \n",
        "\n",
        "def bar():\n",
        "  return 5\n",
        "\n",
        "print(foo())\n",
        "print(bar())"
      ],
      "execution_count": null,
      "outputs": []
    },
    {
      "cell_type": "code",
      "metadata": {
        "id": "V-QaLM1SMIUh"
      },
      "source": [
        "# length of a string returns an integer\n",
        "len(\"hello\")\n"
      ],
      "execution_count": null,
      "outputs": []
    },
    {
      "cell_type": "code",
      "metadata": {
        "id": "hgJc38vuMPhZ",
        "colab": {
          "base_uri": "https://localhost:8080/"
        },
        "outputId": "2d4a2702-af6e-4e7d-e3fc-b9ee5d4acfbd"
      },
      "source": [
        "# strip returns a string\n",
        "s = \"hello     \".strip()\n",
        "print(s)"
      ],
      "execution_count": null,
      "outputs": [
        {
          "output_type": "stream",
          "text": [
            "hello\n"
          ],
          "name": "stdout"
        }
      ]
    },
    {
      "cell_type": "code",
      "metadata": {
        "id": "-cfuVETcMTRc"
      },
      "source": [
        "l = [\"a\", 'b', 'c']\n",
        "ret_val = l.remove('a')\n",
        "print(ret_val)\n",
        "print(l)"
      ],
      "execution_count": null,
      "outputs": []
    },
    {
      "cell_type": "code",
      "metadata": {
        "id": "UrDzjHwFz5aC"
      },
      "source": [
        "# In python, we have none type to indicate a lack of data. \n",
        "# In pandas, if we create a list of strings and we have one element, \n",
        "# a None type, pandas inserts it as None.\n",
        "students=['Don','Ken', None   ]\n",
        "pd.Series(students)\n"
      ],
      "execution_count": null,
      "outputs": []
    },
    {
      "cell_type": "markdown",
      "metadata": {
        "id": "kGQMdLk5NB5h"
      },
      "source": [
        "### `NaN` --- the none type for numerical values\n",
        "\n",
        "If we create a list of numbers, integers or floats and put in the None type,\n",
        "pandas automatically converts this to a special floating point value designated as NaN,\n",
        "which stands for 'Not a Number'"
      ]
    },
    {
      "cell_type": "code",
      "metadata": {
        "id": "BFxvRE0M2IAS"
      },
      "source": [
        "# Let us create a list with a None value in it\n",
        "# In pandas, integers can be typecast to floats like we saw before\n",
        "\n",
        "numbers=[1, 2, None] \n",
        "\n",
        "pd.Series(numbers)"
      ],
      "execution_count": null,
      "outputs": []
    },
    {
      "cell_type": "markdown",
      "metadata": {
        "id": "pVIXMgeie_hy"
      },
      "source": [
        "### `NAN` is not `None`\n",
        "\n",
        "NaN is similar to None, but it's a numeric value and treated differently for efficiency reasons.\n"
      ]
    },
    {
      "cell_type": "code",
      "metadata": {
        "id": "15qUIi7I4W8h"
      },
      "source": [
        "import numpy as np\n",
        "\n",
        "np.nan == None"
      ],
      "execution_count": null,
      "outputs": []
    },
    {
      "cell_type": "code",
      "metadata": {
        "id": "bLzf41bZQ6sr"
      },
      "source": [
        "np.nan == np.nan"
      ],
      "execution_count": null,
      "outputs": []
    },
    {
      "cell_type": "code",
      "metadata": {
        "id": "S8zMv1YgREok"
      },
      "source": [
        "None == None"
      ],
      "execution_count": null,
      "outputs": []
    },
    {
      "cell_type": "code",
      "metadata": {
        "id": "hgbxSn4H6O6G"
      },
      "source": [
        "#Instead, you need to use special function to test for the presence of not a number.\n",
        "\n",
        "np.isnan(np.nan)"
      ],
      "execution_count": null,
      "outputs": []
    },
    {
      "cell_type": "markdown",
      "metadata": {
        "id": "T9fj8oWc6jxv"
      },
      "source": [
        "***"
      ]
    },
    {
      "cell_type": "markdown",
      "metadata": {
        "id": "Jl2yIPJeNcCw"
      },
      "source": [
        "## Creating a Series with dictionaries"
      ]
    },
    {
      "cell_type": "code",
      "metadata": {
        "id": "iiYdzdiO8wdG"
      },
      "source": [
        "# Example using some data of students and their classes \n",
        "\n",
        "students_subjects = {'Alice':'Physics',\n",
        "                'Bob': 'Chemistry',\n",
        "                'Charlie':'Math'}\n",
        "s= pd.Series(students_subjects)\n",
        "s"
      ],
      "execution_count": null,
      "outputs": []
    },
    {
      "cell_type": "code",
      "metadata": {
        "id": "7dnlkMBkCzen"
      },
      "source": [
        "# To get index object using the index attribute\n",
        "s.index"
      ],
      "execution_count": null,
      "outputs": []
    },
    {
      "cell_type": "code",
      "metadata": {
        "id": "B_kSxrxHGK8-"
      },
      "source": [
        "import numpy as np\n",
        "\n",
        "a = np.array([1, 2, 3], dtype=float)\n",
        "type(a)\n"
      ],
      "execution_count": null,
      "outputs": []
    },
    {
      "cell_type": "code",
      "metadata": {
        "id": "sgJ46q1CNjdk"
      },
      "source": [
        "type(s.index)"
      ],
      "execution_count": null,
      "outputs": []
    },
    {
      "cell_type": "code",
      "metadata": {
        "id": "1ePqDwkMSZIj"
      },
      "source": [
        "s2 = pd.Series([\"a\", \"b\", \"c\"])\n",
        "print(s2)\n",
        "s2.index"
      ],
      "execution_count": null,
      "outputs": []
    },
    {
      "cell_type": "code",
      "metadata": {
        "id": "H09cPGmpG2ed"
      },
      "source": [
        "s3 = pd.Series([\"a\", \"b\",\"c\"], index = [100, 200, 300])\n",
        "s3.index\n"
      ],
      "execution_count": null,
      "outputs": []
    },
    {
      "cell_type": "code",
      "metadata": {
        "id": "E9a6nfKyHTQM"
      },
      "source": [
        "type(s2.index)"
      ],
      "execution_count": null,
      "outputs": []
    },
    {
      "cell_type": "code",
      "metadata": {
        "id": "Jd88to1pHl_6"
      },
      "source": [
        "type(s3.index)"
      ],
      "execution_count": null,
      "outputs": []
    },
    {
      "cell_type": "code",
      "metadata": {
        "id": "50JWzCNGM00J"
      },
      "source": [
        "# Let's create a more complex type of data, a list of tuples.\n",
        "students = [('Alice','yellow'),('Bob','Green'),('Charlie','Blue')]\n",
        "s4 = pd.Series(students)\n",
        "type(s4.index)"
      ],
      "execution_count": null,
      "outputs": []
    },
    {
      "cell_type": "markdown",
      "metadata": {
        "id": "oS3n2-TD-YGZ"
      },
      "source": [
        "## Creating a Series with a specified index."
      ]
    },
    {
      "cell_type": "code",
      "metadata": {
        "id": "hXBg9OF2Os0S"
      },
      "source": [
        "# You can also separate your index creation from the data by passing in the index as \n",
        "# list explicitly to the series\n",
        "s=pd.Series(['Physics','Chemistry','Biology'],index=['Alice','Bob','Charlie'])\n",
        "s"
      ],
      "execution_count": null,
      "outputs": []
    },
    {
      "cell_type": "markdown",
      "metadata": {
        "id": "TFgqmhJwt7L_"
      },
      "source": [
        "## Index for a Series"
      ]
    },
    {
      "cell_type": "code",
      "metadata": {
        "id": "_cRkR9wNUAGX"
      },
      "source": [
        "s=pd.Series(['Physics','Chemistry','Biology'],index=['Alice','Bob', None])\n",
        "s.index"
      ],
      "execution_count": null,
      "outputs": []
    },
    {
      "cell_type": "code",
      "metadata": {
        "id": "Fq3w9jJkUKcQ"
      },
      "source": [
        "s.index[1]"
      ],
      "execution_count": null,
      "outputs": []
    },
    {
      "cell_type": "code",
      "metadata": {
        "id": "TOLDu-LWPf3t"
      },
      "source": [
        "sh = pd.Series({'Alice':'Physics',\n",
        "                'Bob': 'Chemistry',\n",
        "                'Charlie':'Math'})\n",
        "\n",
        "sh"
      ],
      "execution_count": null,
      "outputs": []
    },
    {
      "cell_type": "markdown",
      "metadata": {
        "id": "HIrNLlRIROgv"
      },
      "source": [
        "We  have explored the pandas Series data structure. You've seen how to create series from lists and dictionaries, how indicies on data work, and the way that pandas typecasts data including missing values."
      ]
    },
    {
      "cell_type": "markdown",
      "metadata": {
        "id": "MZ85MqdopPIm"
      },
      "source": [
        "**Exercise 1**\n",
        "\n",
        "Create Series variables for four subjects and four grades for four students using their names as index.\\\n",
        "Hint:  How many series objects do you need? What is common for all these series objects?\\\n",
        "Try to create the series objects using different methods."
      ]
    },
    {
      "cell_type": "code",
      "metadata": {
        "id": "cl4d-5IUVGst"
      },
      "source": [
        ""
      ],
      "execution_count": null,
      "outputs": []
    },
    {
      "cell_type": "code",
      "metadata": {
        "id": "JNxudyQsp70w"
      },
      "source": [
        ""
      ],
      "execution_count": null,
      "outputs": []
    },
    {
      "cell_type": "markdown",
      "metadata": {
        "id": "PJV-eUJQqius"
      },
      "source": [
        "**Exercise 2**\n",
        "\n",
        "Print the index for the series objects.  Are they `equal`?"
      ]
    },
    {
      "cell_type": "markdown",
      "metadata": {
        "id": "DQOfUS_ALXbp"
      },
      "source": [
        "## Querying a Series"
      ]
    },
    {
      "cell_type": "code",
      "metadata": {
        "id": "0yg3LNmLXBOW"
      },
      "source": [
        "# A pandas Series can be queried either by the index position or the index label.\n",
        "# index to the series when querying, the position and the label are effectively the same values. \n",
        "# query by numeric location, starting at zero, use the iloc attribute. To query by the index label,\n",
        "# you can use loc attribute.\n",
        "\n",
        "# Example 1. Students enrolled in classes using dictionary\n",
        "\n",
        "import pandas as pd\n",
        "import numpy as np\n",
        "students_classes ={'Alice':'Physics', 'Charlie':'Social Science', 'Bob':'Math'}\n",
        "s= pd.Series(students_classes)\n",
        "s"
      ],
      "execution_count": null,
      "outputs": []
    },
    {
      "cell_type": "markdown",
      "metadata": {
        "id": "LWryv0-fneuE"
      },
      "source": [
        "### Query the series like a hash table\n",
        "\n",
        "Search for index in the Series like searching for keys in a dictionary.\n",
        "\n",
        "Use the index to find the value."
      ]
    },
    {
      "cell_type": "code",
      "metadata": {
        "id": "CFRcbhWmnZmF",
        "colab": {
          "base_uri": "https://localhost:8080/"
        },
        "outputId": "77a7f1e7-d57c-4e19-8485-3c74206e53c6"
      },
      "source": [
        "# Is the index present in the Series\n",
        "'Bob' in s"
      ],
      "execution_count": null,
      "outputs": [
        {
          "output_type": "execute_result",
          "data": {
            "text/plain": [
              "False"
            ]
          },
          "metadata": {
            "tags": []
          },
          "execution_count": 113
        }
      ]
    },
    {
      "cell_type": "code",
      "metadata": {
        "id": "cQH_gU7sneHj"
      },
      "source": [
        "'Gary' in s"
      ],
      "execution_count": null,
      "outputs": []
    },
    {
      "cell_type": "code",
      "metadata": {
        "id": "I23jTD1gm5_0"
      },
      "source": [
        "# If the index is present, get the value.\n",
        "s['Bob']"
      ],
      "execution_count": null,
      "outputs": []
    },
    {
      "cell_type": "code",
      "metadata": {
        "id": "5amtqtYgoIja"
      },
      "source": [
        "# Key error, just like in dictionary.\n",
        "s['Gary']"
      ],
      "execution_count": null,
      "outputs": []
    },
    {
      "cell_type": "code",
      "metadata": {
        "id": "9lGWqmC2nqxO"
      },
      "source": [
        "# subsetting.\n",
        "# Note that the order in our list need not be in the same order as the dataset.\n",
        "s[['Bob', 'Charlie','Alice'] ]"
      ],
      "execution_count": null,
      "outputs": []
    },
    {
      "cell_type": "markdown",
      "metadata": {
        "id": "yilrT4LEoYQx"
      },
      "source": [
        "### Index is just like a list of values."
      ]
    },
    {
      "cell_type": "code",
      "metadata": {
        "id": "pE8rK2FjY-uI"
      },
      "source": [
        "s.index"
      ],
      "execution_count": null,
      "outputs": []
    },
    {
      "cell_type": "code",
      "metadata": {
        "id": "anFSbmWPQtSM",
        "colab": {
          "base_uri": "https://localhost:8080/",
          "height": 35
        },
        "outputId": "41edb507-6fed-4905-c76a-f373468919a9"
      },
      "source": [
        "\n",
        "students_classes ={'Alice':'Physics', 'Charlie':'Social Science', 'Bob':'Math'}\n",
        "m= pd.Series(students_classes)\n",
        "m['Bob']"
      ],
      "execution_count": null,
      "outputs": [
        {
          "output_type": "execute_result",
          "data": {
            "application/vnd.google.colaboratory.intrinsic+json": {
              "type": "string"
            },
            "text/plain": [
              "'Math'"
            ]
          },
          "metadata": {
            "tags": []
          },
          "execution_count": 27
        }
      ]
    },
    {
      "cell_type": "code",
      "metadata": {
        "colab": {
          "base_uri": "https://localhost:8080/",
          "height": 35
        },
        "id": "t0ghRJL_ZBmo",
        "outputId": "559e1cde-f18d-485c-b612-0ba470308748"
      },
      "source": [
        "m.index[1]"
      ],
      "execution_count": null,
      "outputs": [
        {
          "output_type": "execute_result",
          "data": {
            "application/vnd.google.colaboratory.intrinsic+json": {
              "type": "string"
            },
            "text/plain": [
              "'Charlie'"
            ]
          },
          "metadata": {
            "tags": []
          },
          "execution_count": 28
        }
      ]
    },
    {
      "cell_type": "code",
      "metadata": {
        "colab": {
          "base_uri": "https://localhost:8080/",
          "height": 35
        },
        "id": "U8IYBbhanA-x",
        "outputId": "690f1c01-fffa-42c7-88c5-d81533720e39"
      },
      "source": [
        "m[   m.index[1]  ]  # == s['Charlie']"
      ],
      "execution_count": null,
      "outputs": [
        {
          "output_type": "execute_result",
          "data": {
            "application/vnd.google.colaboratory.intrinsic+json": {
              "type": "string"
            },
            "text/plain": [
              "'Social Science'"
            ]
          },
          "metadata": {
            "tags": []
          },
          "execution_count": 29
        }
      ]
    },
    {
      "cell_type": "code",
      "metadata": {
        "id": "QZmWtlFl0ol-"
      },
      "source": [
        "# If you want to see the entry, we would use iloc\n",
        "# attribute with the parameter 2\n",
        "s.iloc[2]   # == s[s.index[2]]"
      ],
      "execution_count": null,
      "outputs": []
    },
    {
      "cell_type": "code",
      "metadata": {
        "id": "bfgwOXII19XM"
      },
      "source": [
        "# If you want to see what class Bob has, we would use the loc attribute with a parameter\n",
        "# of Molly.\n",
        "s.loc['Bob']"
      ],
      "execution_count": null,
      "outputs": []
    },
    {
      "cell_type": "markdown",
      "metadata": {
        "id": "ZilEyiD20TjA"
      },
      "source": [
        "Keep in mind that iloc and loc are not methods, they are attributes. So you don't use parentheses to query them, but square brackets instead, which is called the indexing operator."
      ]
    },
    {
      "cell_type": "code",
      "metadata": {
        "id": "crZNS7MhL7O-"
      },
      "source": [
        "# If you pass in an object, it will query as if you wanted to use the label based loc attribute\n",
        "s['Bob']"
      ],
      "execution_count": null,
      "outputs": []
    },
    {
      "cell_type": "markdown",
      "metadata": {
        "id": "yfI4sseVwqpH"
      },
      "source": [
        "**Exercise**\n",
        "\n",
        "```\n",
        "s = pd.Series(['USA', 'UK', 'Belgium', 'Uganda'], index = [1001, 1002, 1003, 1004])\n",
        "```\n",
        "\n",
        "- What is the country in the first position?\n",
        "- What is the country with code 1002?\n",
        "\n"
      ]
    },
    {
      "cell_type": "markdown",
      "metadata": {
        "id": "-lfQqZwytge6"
      },
      "source": [
        "### Querying with indices when indices are integers\n",
        "\n",
        "If your index has list of integers, it is bit complicated.\\\n",
        "pandas can't determine automatically whether you're intending to \n",
        "query by index position or index label.\\\n",
        "So need to be careful when using the indexing operator on the series itself. \n",
        "The safer option is to use iloc and loc atrribute.\n"
      ]
    },
    {
      "cell_type": "code",
      "metadata": {
        "id": "SGvpWryaORM8",
        "colab": {
          "base_uri": "https://localhost:8080/",
          "height": 35
        },
        "outputId": "28d92c68-e8f2-49bf-c603-de8161b0204b"
      },
      "source": [
        "\n",
        "class_code ={100:'Science',101:'Math',102:'History',103:'Geography'}\n",
        "s=pd.Series(class_code)\n",
        "\n",
        "s.loc[100] # it gives key error\n"
      ],
      "execution_count": null,
      "outputs": [
        {
          "output_type": "execute_result",
          "data": {
            "application/vnd.google.colaboratory.intrinsic+json": {
              "type": "string"
            },
            "text/plain": [
              "'Science'"
            ]
          },
          "metadata": {
            "tags": []
          },
          "execution_count": 33
        }
      ]
    },
    {
      "cell_type": "code",
      "metadata": {
        "id": "AsO3_UK7F4Bh"
      },
      "source": [
        ""
      ],
      "execution_count": null,
      "outputs": []
    },
    {
      "cell_type": "markdown",
      "metadata": {
        "id": "8jMnvhLZtdlo"
      },
      "source": [
        "## Manipulating all the elements of a Series"
      ]
    },
    {
      "cell_type": "markdown",
      "metadata": {
        "id": "9C8T1J47tTmT"
      },
      "source": [
        "### Values in a Series is stored as a numpy array.\n",
        "\n",
        "`five_numbers` is a series object.  But the values in the Series object is stores as  numpy array.  We will see in the next section what this means for broadcasting, filtering etc."
      ]
    },
    {
      "cell_type": "code",
      "metadata": {
        "id": "EUDgSRWnt0cO",
        "colab": {
          "base_uri": "https://localhost:8080/"
        },
        "outputId": "f32b87f4-88f2-490c-f715-406102df52a0"
      },
      "source": [
        "five_numbers = pd.Series([2, 3, 6, 8, 9])\n",
        "five_numbers.values"
      ],
      "execution_count": null,
      "outputs": [
        {
          "output_type": "execute_result",
          "data": {
            "text/plain": [
              "array([2, 3, 6, 8, 9])"
            ]
          },
          "metadata": {
            "tags": []
          },
          "execution_count": 38
        }
      ]
    },
    {
      "cell_type": "code",
      "metadata": {
        "colab": {
          "base_uri": "https://localhost:8080/"
        },
        "id": "J2-iOgz0t0NQ",
        "outputId": "99c6eae0-cd6a-410c-d0a6-a23407d5ca18"
      },
      "source": [
        "type(five_numbers)"
      ],
      "execution_count": null,
      "outputs": [
        {
          "output_type": "execute_result",
          "data": {
            "text/plain": [
              "pandas.core.series.Series"
            ]
          },
          "metadata": {
            "tags": []
          },
          "execution_count": 35
        }
      ]
    },
    {
      "cell_type": "code",
      "metadata": {
        "colab": {
          "base_uri": "https://localhost:8080/"
        },
        "id": "px27lwvStvZO",
        "outputId": "a94a4206-05f3-4963-e711-e46d711bed5b"
      },
      "source": [
        "type(five_numbers.values)"
      ],
      "execution_count": null,
      "outputs": [
        {
          "output_type": "execute_result",
          "data": {
            "text/plain": [
              "numpy.ndarray"
            ]
          },
          "metadata": {
            "tags": []
          },
          "execution_count": 36
        }
      ]
    },
    {
      "cell_type": "code",
      "metadata": {
        "id": "jUP48K_rmU3h",
        "colab": {
          "base_uri": "https://localhost:8080/"
        },
        "outputId": "09d7a288-43e6-4b81-9ce4-1e9ea70b2f6a"
      },
      "source": [
        "# Let's create a big series of random numbers.\n",
        "import numpy as np\n",
        "\n",
        "numbers = pd.Series(np.arange(100))\n",
        "print(\"len = \", len(numbers))\n",
        "print(\"the first five elements are: \")\n",
        "numbers.head()"
      ],
      "execution_count": null,
      "outputs": [
        {
          "output_type": "stream",
          "text": [
            "len =  100\n",
            "the first five elements are: \n"
          ],
          "name": "stdout"
        },
        {
          "output_type": "execute_result",
          "data": {
            "text/plain": [
              "95    95\n",
              "96    96\n",
              "97    97\n",
              "98    98\n",
              "99    99\n",
              "dtype: int64"
            ]
          },
          "metadata": {
            "tags": []
          },
          "execution_count": 44
        }
      ]
    },
    {
      "cell_type": "markdown",
      "metadata": {
        "id": "DdV-qT_k5Jtn"
      },
      "source": [
        "### Avoid explicit loops as much as possible.  Try to use pandas idioms."
      ]
    },
    {
      "cell_type": "code",
      "metadata": {
        "colab": {
          "base_uri": "https://localhost:8080/"
        },
        "id": "gSwrQLhPH6hq",
        "outputId": "8bc14bf1-bf52-4f95-a1a7-779ce07ca771"
      },
      "source": [
        "num = pd.Series(np.random.randint(0,1000,10000))\n",
        "num"
      ],
      "execution_count": null,
      "outputs": [
        {
          "output_type": "execute_result",
          "data": {
            "text/plain": [
              "0       169\n",
              "1       421\n",
              "2       996\n",
              "3        22\n",
              "4       665\n",
              "       ... \n",
              "9995     24\n",
              "9996    357\n",
              "9997    836\n",
              "9998    874\n",
              "9999     45\n",
              "Length: 10000, dtype: int64"
            ]
          },
          "metadata": {
            "tags": []
          },
          "execution_count": 132
        }
      ]
    },
    {
      "cell_type": "code",
      "metadata": {
        "id": "_FCnciMnWKOs",
        "colab": {
          "base_uri": "https://localhost:8080/"
        },
        "outputId": "8378c296-b6b3-4dab-930f-0961f549fb1b"
      },
      "source": [
        "# We are going to use timeit function. This function will run our code a few times to determine, on average, how long it takes.\n",
        "\n",
        "# You can give timeit the number of loops that you would like to run. By default, it is 1000 loops.\n",
        "\n",
        "\n",
        "%%timeit -n100\n",
        "\n",
        "total = 0\n",
        "for number in num:\n",
        "    total+=number\n",
        "\n",
        "total/len(num)"
      ],
      "execution_count": null,
      "outputs": [
        {
          "output_type": "stream",
          "text": [
            "100 loops, best of 3: 1.23 ms per loop\n"
          ],
          "name": "stdout"
        }
      ]
    },
    {
      "cell_type": "code",
      "metadata": {
        "id": "23P3971gncAp"
      },
      "source": [
        "# Timeit ran the code and it doesn'tseem to take very long at all. \n",
        "# Now let's try with vectorization"
      ],
      "execution_count": null,
      "outputs": []
    },
    {
      "cell_type": "code",
      "metadata": {
        "colab": {
          "base_uri": "https://localhost:8080/"
        },
        "id": "wK-wSSgRrP1m",
        "outputId": "b247ccea-a449-497d-fdc4-14ed892caf2f"
      },
      "source": [
        "%%timeit -n 100\n",
        "total = np.sum(num)\n",
        "total/len(num)"
      ],
      "execution_count": null,
      "outputs": [
        {
          "output_type": "stream",
          "text": [
            "100 loops, best of 3: 88.1 µs per loop\n"
          ],
          "name": "stdout"
        }
      ]
    },
    {
      "cell_type": "code",
      "metadata": {
        "colab": {
          "base_uri": "https://localhost:8080/"
        },
        "id": "yKsFWlWn7VKc",
        "outputId": "b91929ff-b346-4d70-fb39-427b8d5f8b1b"
      },
      "source": [
        "total = np.sum(numbers)\n",
        "total"
      ],
      "execution_count": null,
      "outputs": [
        {
          "output_type": "execute_result",
          "data": {
            "text/plain": [
              "5150"
            ]
          },
          "metadata": {
            "tags": []
          },
          "execution_count": 97
        }
      ]
    },
    {
      "cell_type": "code",
      "metadata": {
        "colab": {
          "base_uri": "https://localhost:8080/"
        },
        "id": "MvyD3Q2A7q1l",
        "outputId": "608ce60b-f85d-4bba-ccab-a7c3211475d2"
      },
      "source": [
        "num =np.sum(numbers)\n",
        "num\n"
      ],
      "execution_count": null,
      "outputs": [
        {
          "output_type": "execute_result",
          "data": {
            "text/plain": [
              "4950"
            ]
          },
          "metadata": {
            "tags": []
          },
          "execution_count": 61
        }
      ]
    },
    {
      "cell_type": "markdown",
      "metadata": {
        "id": "zBr2FpTGvzhe"
      },
      "source": [
        "### Filtering\n"
      ]
    },
    {
      "cell_type": "code",
      "metadata": {
        "colab": {
          "base_uri": "https://localhost:8080/"
        },
        "id": "P6R72u0wv0_b",
        "outputId": "4cd89b3a-1ffc-43f3-cf54-a24efeec8d63"
      },
      "source": [
        "five_numbers = pd.Series([2, 3, 6, 8, 9])\n",
        "five_numbers"
      ],
      "execution_count": null,
      "outputs": [
        {
          "output_type": "execute_result",
          "data": {
            "text/plain": [
              "0    2\n",
              "1    3\n",
              "2    6\n",
              "3    8\n",
              "4    9\n",
              "dtype: int64"
            ]
          },
          "metadata": {
            "tags": []
          },
          "execution_count": 70
        }
      ]
    },
    {
      "cell_type": "code",
      "metadata": {
        "colab": {
          "base_uri": "https://localhost:8080/"
        },
        "id": "Xb3vGSgcv2po",
        "outputId": "34b96f07-ac54-4d31-fd5c-98119d7131c6"
      },
      "source": [
        "# which indices have values > 3\n",
        "five_numbers > 3\n"
      ],
      "execution_count": null,
      "outputs": [
        {
          "output_type": "execute_result",
          "data": {
            "text/plain": [
              "0    False\n",
              "1    False\n",
              "2     True\n",
              "3     True\n",
              "4     True\n",
              "dtype: bool"
            ]
          },
          "metadata": {
            "tags": []
          },
          "execution_count": 71
        }
      ]
    },
    {
      "cell_type": "markdown",
      "metadata": {
        "id": "zHrQVxCy6wb1"
      },
      "source": [
        "This is like searching for values in a dictionary.  But no loops!"
      ]
    },
    {
      "cell_type": "code",
      "metadata": {
        "colab": {
          "base_uri": "https://localhost:8080/"
        },
        "id": "qKkKdTOs5tAV",
        "outputId": "8947d47c-b14f-44b8-977f-b1bb2f4d0361"
      },
      "source": [
        "# give me the values that are > 3\n",
        "five_numbers[five_numbers > 3]\n",
        "\n",
        "# you can think of this as subsetting, if you knew the indices.\n",
        "# example: five_numbers[[2, 3, 4]]"
      ],
      "execution_count": null,
      "outputs": [
        {
          "output_type": "execute_result",
          "data": {
            "text/plain": [
              "2    6\n",
              "3    8\n",
              "4    9\n",
              "dtype: int64"
            ]
          },
          "metadata": {
            "tags": []
          },
          "execution_count": 72
        }
      ]
    },
    {
      "cell_type": "code",
      "metadata": {
        "colab": {
          "base_uri": "https://localhost:8080/"
        },
        "id": "PPo277636naf",
        "outputId": "2648e679-9278-4280-9c8a-f9002a3cb1e1"
      },
      "source": [
        "# list only even numbers\n",
        "five_numbers = pd.Series([2, 3, 6, 8, 9])\n",
        "print(five_numbers)\n",
        "five_numbers[five_numbers %2 == 0 ][five_numbers > 4]"
      ],
      "execution_count": null,
      "outputs": [
        {
          "output_type": "stream",
          "text": [
            "0    2\n",
            "1    3\n",
            "2    6\n",
            "3    8\n",
            "4    9\n",
            "dtype: int64\n"
          ],
          "name": "stdout"
        },
        {
          "output_type": "execute_result",
          "data": {
            "text/plain": [
              "2    6\n",
              "3    8\n",
              "dtype: int64"
            ]
          },
          "metadata": {
            "tags": []
          },
          "execution_count": 98
        }
      ]
    },
    {
      "cell_type": "code",
      "metadata": {
        "colab": {
          "base_uri": "https://localhost:8080/"
        },
        "id": "4MhY5_hjCKo-",
        "outputId": "a28df70e-2c1f-4ba2-e7c6-d8521353c469"
      },
      "source": [
        "(five_numbers %2 == 0) & (five_numbers > 4)"
      ],
      "execution_count": null,
      "outputs": [
        {
          "output_type": "execute_result",
          "data": {
            "text/plain": [
              "a    False\n",
              "b    False\n",
              "c    False\n",
              "d    False\n",
              "e     True\n",
              "dtype: bool"
            ]
          },
          "metadata": {
            "tags": []
          },
          "execution_count": 89
        }
      ]
    },
    {
      "cell_type": "code",
      "metadata": {
        "colab": {
          "base_uri": "https://localhost:8080/"
        },
        "id": "XNoWPEhJCi9_",
        "outputId": "42e02586-a3a4-400e-f7c1-77f76985b2b3"
      },
      "source": [
        "five_numbers[(five_numbers %2 == 0) & (five_numbers > 4)]"
      ],
      "execution_count": null,
      "outputs": [
        {
          "output_type": "execute_result",
          "data": {
            "text/plain": [
              "e    6\n",
              "dtype: int64"
            ]
          },
          "metadata": {
            "tags": []
          },
          "execution_count": 90
        }
      ]
    },
    {
      "cell_type": "code",
      "metadata": {
        "colab": {
          "base_uri": "https://localhost:8080/"
        },
        "id": "R4H3IoEav7XX",
        "outputId": "421bbbb5-26f8-4fea-92e8-78ab665acd53"
      },
      "source": [
        "students_classes = pd.Series({'Alice':'Physics', 'Charlie':'Social Science', 'Bob':'Math'})\n",
        "\n",
        "students_classes == 'Math'\n",
        "students_classes.eq('Math')"
      ],
      "execution_count": null,
      "outputs": [
        {
          "output_type": "execute_result",
          "data": {
            "text/plain": [
              "Alice      False\n",
              "Charlie    False\n",
              "Bob         True\n",
              "dtype: bool"
            ]
          },
          "metadata": {
            "tags": []
          },
          "execution_count": 74
        }
      ]
    },
    {
      "cell_type": "markdown",
      "metadata": {
        "id": "e7Z8kKYfnOaX"
      },
      "source": [
        "### Broadcasting\n",
        "\n",
        "you can apply an operation to every value in the series in just one step.\n"
      ]
    },
    {
      "cell_type": "code",
      "metadata": {
        "id": "1oGxbRMdsB4J",
        "colab": {
          "base_uri": "https://localhost:8080/"
        },
        "outputId": "b59a89cb-dc31-40c8-e336-1a802b7fa31c"
      },
      "source": [
        "# For instance, if you want to increase every random variable by 2,\n",
        "# we could do so quickly using the += operator directly on the Series object.\n",
        "\n",
        "numbers.head()"
      ],
      "execution_count": null,
      "outputs": [
        {
          "output_type": "execute_result",
          "data": {
            "text/plain": [
              "0    0\n",
              "1    1\n",
              "2    2\n",
              "3    3\n",
              "4    4\n",
              "dtype: int64"
            ]
          },
          "metadata": {
            "tags": []
          },
          "execution_count": 82
        }
      ]
    },
    {
      "cell_type": "code",
      "metadata": {
        "colab": {
          "base_uri": "https://localhost:8080/"
        },
        "id": "KH2jFze-092N",
        "outputId": "96599f86-2e0e-40cd-8341-47060ee36cf1"
      },
      "source": [
        "# Increase everything in the series by 2\n",
        "numbers += 2\n",
        "numbers.head()"
      ],
      "execution_count": null,
      "outputs": [
        {
          "output_type": "execute_result",
          "data": {
            "text/plain": [
              "0    2\n",
              "1    3\n",
              "2    4\n",
              "3    5\n",
              "4    6\n",
              "dtype: int64"
            ]
          },
          "metadata": {
            "tags": []
          },
          "execution_count": 83
        }
      ]
    },
    {
      "cell_type": "code",
      "metadata": {
        "colab": {
          "base_uri": "https://localhost:8080/"
        },
        "id": "sCYwOhRFuKqm",
        "outputId": "912a5774-e26d-4529-c6ec-b75d235bc821"
      },
      "source": [
        "# You can get the [e^x for x in numbers]\n",
        "\n",
        "np.exp(numbers)"
      ],
      "execution_count": null,
      "outputs": [
        {
          "output_type": "execute_result",
          "data": {
            "text/plain": [
              "0     7.389056e+00\n",
              "1     2.008554e+01\n",
              "2     5.459815e+01\n",
              "3     1.484132e+02\n",
              "4     4.034288e+02\n",
              "          ...     \n",
              "95    1.338335e+42\n",
              "96    3.637971e+42\n",
              "97    9.889030e+42\n",
              "98    2.688117e+43\n",
              "99    7.307060e+43\n",
              "Length: 100, dtype: float64"
            ]
          },
          "metadata": {
            "tags": []
          },
          "execution_count": 84
        }
      ]
    },
    {
      "cell_type": "code",
      "metadata": {
        "colab": {
          "base_uri": "https://localhost:8080/"
        },
        "id": "VIf1ueimsdQD",
        "outputId": "5e296321-6b89-41dc-9609-7ad0441b38e3"
      },
      "source": [
        "numbers.values"
      ],
      "execution_count": null,
      "outputs": [
        {
          "output_type": "execute_result",
          "data": {
            "text/plain": [
              "array([  2,   3,   4,   5,   6,   7,   8,   9,  10,  11,  12,  13,  14,\n",
              "        15,  16,  17,  18,  19,  20,  21,  22,  23,  24,  25,  26,  27,\n",
              "        28,  29,  30,  31,  32,  33,  34,  35,  36,  37,  38,  39,  40,\n",
              "        41,  42,  43,  44,  45,  46,  47,  48,  49,  50,  51,  52,  53,\n",
              "        54,  55,  56,  57,  58,  59,  60,  61,  62,  63,  64,  65,  66,\n",
              "        67,  68,  69,  70,  71,  72,  73,  74,  75,  76,  77,  78,  79,\n",
              "        80,  81,  82,  83,  84,  85,  86,  87,  88,  89,  90,  91,  92,\n",
              "        93,  94,  95,  96,  97,  98,  99, 100, 101])"
            ]
          },
          "metadata": {
            "tags": []
          },
          "execution_count": 85
        }
      ]
    },
    {
      "cell_type": "markdown",
      "metadata": {
        "id": "_BspXZRmDcOE"
      },
      "source": [
        "The procedural way of doing this would be to iterate through all of the items in the series and increase the values directly. Pandas does support iterating through the series like a dictionary, allowing you to unpack values easily. So we can use the iteritems function in particular which returns a label and value. "
      ]
    },
    {
      "cell_type": "code",
      "metadata": {
        "colab": {
          "base_uri": "https://localhost:8080/"
        },
        "id": "GyWJr2r2DfYl",
        "outputId": "4f740b82-6849-40c9-86bb-9382d114cb7f"
      },
      "source": [
        "# We can use the iteritems() function which returns a label and value\n",
        "\n",
        "five_numbers = pd.Series(np.arange(5), index=['a', 'b', 'c', 'd', 'e'])\n",
        "print(five_numbers)\n",
        "\n",
        "\n",
        "for label, value in five_numbers.iteritems():\n",
        "  print(\"old value: \", label, value)\n",
        "  # now for the item which is returned, lets call set_value()\n",
        "  five_numbers[label] = value + 2\n",
        "  # now check the result of this computation\n",
        "  print(\"new value: \", label, five_numbers[label])\n",
        "\n",
        "#numbers.head()"
      ],
      "execution_count": null,
      "outputs": [
        {
          "output_type": "stream",
          "text": [
            "a    0\n",
            "b    1\n",
            "c    2\n",
            "d    3\n",
            "e    4\n",
            "dtype: int64\n",
            "old value:  a 0\n",
            "new value:  a 2\n",
            "old value:  b 1\n",
            "new value:  b 3\n",
            "old value:  c 2\n",
            "new value:  c 4\n",
            "old value:  d 3\n",
            "new value:  d 5\n",
            "old value:  e 4\n",
            "new value:  e 6\n"
          ],
          "name": "stdout"
        }
      ]
    },
    {
      "cell_type": "code",
      "metadata": {
        "id": "Jwyd026DkBaR"
      },
      "source": [
        "h  = {'a':1, 'b':2, 'c':3, 'd':4}\n",
        "\n",
        "for k, v in h.items():\n",
        "  print(k, v)"
      ],
      "execution_count": null,
      "outputs": []
    },
    {
      "cell_type": "code",
      "metadata": {
        "id": "wRJmRoOnqUKu"
      },
      "source": [
        "2 in h.values()"
      ],
      "execution_count": null,
      "outputs": []
    },
    {
      "cell_type": "code",
      "metadata": {
        "id": "wCwqnYsKFzWC"
      },
      "source": [
        "five_numbers['e'] "
      ],
      "execution_count": null,
      "outputs": []
    },
    {
      "cell_type": "code",
      "metadata": {
        "id": "c19DtTXrrW5G"
      },
      "source": [
        "3 in five_numbers.values"
      ],
      "execution_count": null,
      "outputs": []
    },
    {
      "cell_type": "code",
      "metadata": {
        "id": "pApeSUCptka4"
      },
      "source": [
        "movies=pd.Series({100:\"Cameron\",200:\"scorsese\"})"
      ],
      "execution_count": null,
      "outputs": []
    },
    {
      "cell_type": "code",
      "metadata": {
        "id": "AV0xBeOfr1AE"
      },
      "source": [
        "np.where(movies.values == \"Cameron\")"
      ],
      "execution_count": null,
      "outputs": []
    },
    {
      "cell_type": "code",
      "metadata": {
        "id": "ewURgVlfuLQ6"
      },
      "source": [
        "movies.index[0]"
      ],
      "execution_count": null,
      "outputs": []
    },
    {
      "cell_type": "code",
      "metadata": {
        "id": "YjdDZryeuyOH"
      },
      "source": [
        "movies"
      ],
      "execution_count": null,
      "outputs": []
    },
    {
      "cell_type": "code",
      "metadata": {
        "id": "4fC45mQuupXb"
      },
      "source": [
        "movies.index"
      ],
      "execution_count": null,
      "outputs": []
    },
    {
      "cell_type": "code",
      "metadata": {
        "id": "edHmLnk7sJp2"
      },
      "source": [
        "np.where(five_numbers >= 10)"
      ],
      "execution_count": null,
      "outputs": []
    },
    {
      "cell_type": "code",
      "metadata": {
        "id": "U0T7OO2-vOTr"
      },
      "source": [
        "five_numbers.index[np.where(five_numbers >= 10)]"
      ],
      "execution_count": null,
      "outputs": []
    },
    {
      "cell_type": "markdown",
      "metadata": {
        "id": "LOMBbQiayie6"
      },
      "source": [
        "### Combining lists\n",
        "\n",
        "Operations are easy when the series have the same *indices*"
      ]
    },
    {
      "cell_type": "code",
      "metadata": {
        "colab": {
          "base_uri": "https://localhost:8080/"
        },
        "id": "S393XIQoytyZ",
        "outputId": "e9c0d970-1008-4595-b97d-1599fe3ede20"
      },
      "source": [
        "quiz1 = pd.Series([39, 55, 74], index = ['Alice', 'Charlie', 'Bob'])\n",
        "quiz2 =  pd.Series([50, 75, 14], index = ['Alice', 'Charlie', 'Bob'])\n",
        "quiz3 =  pd.Series([5, 7, 10], index = ['Alice', 'Charlie', 'Bob'])\n",
        "\n",
        "quiz1 + quiz2 + quiz3"
      ],
      "execution_count": null,
      "outputs": [
        {
          "output_type": "execute_result",
          "data": {
            "text/plain": [
              "Alice       94\n",
              "Charlie    137\n",
              "Bob         98\n",
              "dtype: int64"
            ]
          },
          "metadata": {
            "tags": []
          },
          "execution_count": 87
        }
      ]
    },
    {
      "cell_type": "markdown",
      "metadata": {
        "id": "gImIm5pkz3AP"
      },
      "source": [
        "## More functions in Series.\n",
        "\n",
        "The goal of this colab is to give a conceptual overview of the Series data structure.  This is not a comprehensive list of all the functions in the series.  Please see the documentation. \n",
        "https://pandas.pydata.org/pandas-docs/stable/reference/api/pandas.Series.html\n",
        "\n",
        "I will cover some more functions that might be of use more often:\n",
        "- reindex\n",
        "- drop\n",
        "- fill\n",
        "- unique, nunique, \n",
        "- value_counts, count\n",
        "- slicing\n",
        "- nlargest and nsmallest\n",
        "- to_list()\n",
        "- isna\n",
        "- series.agg(['mean', 'count'])\n",
        "- append two series\n",
        "- .le, .eq\n",
        "\n",
        "\n",
        "\n",
        "There are also some cheatsheets you can find on the web. For example:\\\n",
        "https://towardsdatascience.com/20-examples-to-master-pandas-series-bc4c68200324"
      ]
    },
    {
      "cell_type": "code",
      "metadata": {
        "id": "Ib3bqihaxzg7",
        "colab": {
          "base_uri": "https://localhost:8080/"
        },
        "outputId": "fba0b4df-2025-4986-c0b7-f0f5d2d00e94"
      },
      "source": [
        "print(numbers)\n",
        "numbers.to_list()"
      ],
      "execution_count": null,
      "outputs": [
        {
          "output_type": "stream",
          "text": [
            "0       2\n",
            "1       3\n",
            "2       4\n",
            "3       5\n",
            "4       6\n",
            "     ... \n",
            "95     97\n",
            "96     98\n",
            "97     99\n",
            "98    100\n",
            "99    101\n",
            "Length: 100, dtype: int64\n"
          ],
          "name": "stdout"
        },
        {
          "output_type": "execute_result",
          "data": {
            "text/plain": [
              "[2,\n",
              " 3,\n",
              " 4,\n",
              " 5,\n",
              " 6,\n",
              " 7,\n",
              " 8,\n",
              " 9,\n",
              " 10,\n",
              " 11,\n",
              " 12,\n",
              " 13,\n",
              " 14,\n",
              " 15,\n",
              " 16,\n",
              " 17,\n",
              " 18,\n",
              " 19,\n",
              " 20,\n",
              " 21,\n",
              " 22,\n",
              " 23,\n",
              " 24,\n",
              " 25,\n",
              " 26,\n",
              " 27,\n",
              " 28,\n",
              " 29,\n",
              " 30,\n",
              " 31,\n",
              " 32,\n",
              " 33,\n",
              " 34,\n",
              " 35,\n",
              " 36,\n",
              " 37,\n",
              " 38,\n",
              " 39,\n",
              " 40,\n",
              " 41,\n",
              " 42,\n",
              " 43,\n",
              " 44,\n",
              " 45,\n",
              " 46,\n",
              " 47,\n",
              " 48,\n",
              " 49,\n",
              " 50,\n",
              " 51,\n",
              " 52,\n",
              " 53,\n",
              " 54,\n",
              " 55,\n",
              " 56,\n",
              " 57,\n",
              " 58,\n",
              " 59,\n",
              " 60,\n",
              " 61,\n",
              " 62,\n",
              " 63,\n",
              " 64,\n",
              " 65,\n",
              " 66,\n",
              " 67,\n",
              " 68,\n",
              " 69,\n",
              " 70,\n",
              " 71,\n",
              " 72,\n",
              " 73,\n",
              " 74,\n",
              " 75,\n",
              " 76,\n",
              " 77,\n",
              " 78,\n",
              " 79,\n",
              " 80,\n",
              " 81,\n",
              " 82,\n",
              " 83,\n",
              " 84,\n",
              " 85,\n",
              " 86,\n",
              " 87,\n",
              " 88,\n",
              " 89,\n",
              " 90,\n",
              " 91,\n",
              " 92,\n",
              " 93,\n",
              " 94,\n",
              " 95,\n",
              " 96,\n",
              " 97,\n",
              " 98,\n",
              " 99,\n",
              " 100,\n",
              " 101]"
            ]
          },
          "metadata": {
            "tags": []
          },
          "execution_count": 112
        }
      ]
    },
    {
      "cell_type": "code",
      "metadata": {
        "id": "prgAFQWxyRDz",
        "colab": {
          "base_uri": "https://localhost:8080/"
        },
        "outputId": "7bd7cd0b-343e-4bc4-eebc-65687904afea"
      },
      "source": [
        "np.array([1,2,3])"
      ],
      "execution_count": null,
      "outputs": [
        {
          "output_type": "execute_result",
          "data": {
            "text/plain": [
              "array([1, 2, 3])"
            ]
          },
          "metadata": {
            "tags": []
          },
          "execution_count": 100
        }
      ]
    },
    {
      "cell_type": "code",
      "metadata": {
        "id": "F0vV-VAWmPud",
        "colab": {
          "base_uri": "https://localhost:8080/"
        },
        "outputId": "a08b91a0-c152-4ab9-8c7f-7cfeef03cc2a"
      },
      "source": [
        "s = pd.Series([1, 1, 1, 3, 3, 3, 1, 2, 3, 2, 3])\n",
        "s.unique()"
      ],
      "execution_count": null,
      "outputs": [
        {
          "output_type": "execute_result",
          "data": {
            "text/plain": [
              "array([1, 3, 2])"
            ]
          },
          "metadata": {
            "tags": []
          },
          "execution_count": 101
        }
      ]
    },
    {
      "cell_type": "code",
      "metadata": {
        "id": "qnCjARfXmXtJ",
        "colab": {
          "base_uri": "https://localhost:8080/"
        },
        "outputId": "1de0cf6b-ca08-4a89-8436-2a33cd47c09c"
      },
      "source": [
        "s.nunique()"
      ],
      "execution_count": null,
      "outputs": [
        {
          "output_type": "execute_result",
          "data": {
            "text/plain": [
              "3"
            ]
          },
          "metadata": {
            "tags": []
          },
          "execution_count": 102
        }
      ]
    },
    {
      "cell_type": "code",
      "metadata": {
        "id": "0aOUi3j5mZjw",
        "colab": {
          "base_uri": "https://localhost:8080/"
        },
        "outputId": "040a5549-7861-4835-be97-5ae874801f87"
      },
      "source": [
        "s.value_counts()\n"
      ],
      "execution_count": null,
      "outputs": [
        {
          "output_type": "execute_result",
          "data": {
            "text/plain": [
              "3    5\n",
              "1    4\n",
              "2    2\n",
              "dtype: int64"
            ]
          },
          "metadata": {
            "tags": []
          },
          "execution_count": 103
        }
      ]
    },
    {
      "cell_type": "code",
      "metadata": {
        "id": "vrIYfjS5mcKZ",
        "colab": {
          "base_uri": "https://localhost:8080/"
        },
        "outputId": "5927c40b-50fc-4f6d-928a-8b915674e4ab"
      },
      "source": [
        "s.nsmallest(8)"
      ],
      "execution_count": null,
      "outputs": [
        {
          "output_type": "execute_result",
          "data": {
            "text/plain": [
              "0    1\n",
              "1    1\n",
              "2    1\n",
              "6    1\n",
              "7    2\n",
              "9    2\n",
              "3    3\n",
              "4    3\n",
              "dtype: int64"
            ]
          },
          "metadata": {
            "tags": []
          },
          "execution_count": 105
        }
      ]
    },
    {
      "cell_type": "code",
      "metadata": {
        "id": "aDA6NLRNmlqw",
        "colab": {
          "base_uri": "https://localhost:8080/"
        },
        "outputId": "e3315995-bf5d-4eb9-8ce1-08cc00c54463"
      },
      "source": [
        "s.agg([\"mean\", \"median\"])"
      ],
      "execution_count": null,
      "outputs": [
        {
          "output_type": "execute_result",
          "data": {
            "text/plain": [
              "mean      2.090909\n",
              "median    2.000000\n",
              "dtype: float64"
            ]
          },
          "metadata": {
            "tags": []
          },
          "execution_count": 106
        }
      ]
    },
    {
      "cell_type": "code",
      "metadata": {
        "id": "oXN79nGlm5K1"
      },
      "source": [
        "s2 = pd.Series([6, 7])"
      ],
      "execution_count": null,
      "outputs": []
    },
    {
      "cell_type": "code",
      "metadata": {
        "id": "6Xa3szafnKIj",
        "colab": {
          "base_uri": "https://localhost:8080/"
        },
        "outputId": "c75096f2-18c5-4fc9-9be7-a63456c703d9"
      },
      "source": [
        "s3 = s.append(s2)\n",
        "s3"
      ],
      "execution_count": null,
      "outputs": [
        {
          "output_type": "execute_result",
          "data": {
            "text/plain": [
              "0     1\n",
              "1     1\n",
              "2     1\n",
              "3     3\n",
              "4     3\n",
              "5     3\n",
              "6     1\n",
              "7     2\n",
              "8     3\n",
              "9     2\n",
              "10    3\n",
              "0     6\n",
              "1     7\n",
              "dtype: int64"
            ]
          },
          "metadata": {
            "tags": []
          },
          "execution_count": 110
        }
      ]
    },
    {
      "cell_type": "code",
      "metadata": {
        "id": "4WY1uMJNnL1H"
      },
      "source": [
        "s.index\n"
      ],
      "execution_count": null,
      "outputs": []
    },
    {
      "cell_type": "code",
      "metadata": {
        "id": "TTWWhKUJnRUD"
      },
      "source": [
        ""
      ],
      "execution_count": null,
      "outputs": []
    }
  ]
}