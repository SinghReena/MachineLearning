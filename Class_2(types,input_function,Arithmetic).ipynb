{
  "nbformat": 4,
  "nbformat_minor": 0,
  "metadata": {
    "colab": {
      "name": "Class-2(types,input function,Arithmetic).ipynb",
      "provenance": [],
      "collapsed_sections": [],
      "authorship_tag": "ABX9TyMe9rpA/rxVP5zap2DQCMjR",
      "include_colab_link": true
    },
    "kernelspec": {
      "name": "python3",
      "display_name": "Python 3"
    }
  },
  "cells": [
    {
      "cell_type": "markdown",
      "metadata": {
        "id": "view-in-github",
        "colab_type": "text"
      },
      "source": [
        "<a href=\"https://colab.research.google.com/github/SinghReena/MachineLearning/blob/master/Class_2(types%2Cinput_function%2CArithmetic).ipynb\" target=\"_parent\"><img src=\"https://colab.research.google.com/assets/colab-badge.svg\" alt=\"Open In Colab\"/></a>"
      ]
    },
    {
      "cell_type": "code",
      "metadata": {
        "id": "FsCKuIF9Ihaf"
      },
      "source": [
        ""
      ],
      "execution_count": null,
      "outputs": []
    },
    {
      "cell_type": "markdown",
      "metadata": {
        "id": "O3TpamRRInqq"
      },
      "source": [
        "Types"
      ]
    },
    {
      "cell_type": "code",
      "metadata": {
        "colab": {
          "base_uri": "https://localhost:8080/"
        },
        "id": "Wbr8yDfyIra-",
        "outputId": "10b6de32-69c0-4404-a130-c287da25efd2"
      },
      "source": [
        "a=8\n",
        "b=89.67\n",
        "name=\"Reena\"\n",
        "print(type(a))\n",
        "print(type(b))\n",
        "print(type(name))"
      ],
      "execution_count": null,
      "outputs": [
        {
          "output_type": "stream",
          "text": [
            "<class 'int'>\n",
            "<class 'float'>\n",
            "<class 'str'>\n"
          ],
          "name": "stdout"
        }
      ]
    },
    {
      "cell_type": "markdown",
      "metadata": {
        "id": "afZ9Y92bJzxH"
      },
      "source": [
        "Input() function\n"
      ]
    },
    {
      "cell_type": "code",
      "metadata": {
        "colab": {
          "base_uri": "https://localhost:8080/"
        },
        "id": "qImq6zoYJ2dg",
        "outputId": "c8c311be-af0c-480f-d015-824c35ba0ae3"
      },
      "source": [
        "name=input(\"What is your name?\")\n",
        "print(name)"
      ],
      "execution_count": null,
      "outputs": [
        {
          "output_type": "stream",
          "text": [
            "What is your name?Reena\n",
            "Reena\n"
          ],
          "name": "stdout"
        }
      ]
    },
    {
      "cell_type": "markdown",
      "metadata": {
        "id": "1tmhtQfLKUn5"
      },
      "source": [
        "Function input() always returns a String\n"
      ]
    },
    {
      "cell_type": "code",
      "metadata": {
        "colab": {
          "base_uri": "https://localhost:8080/"
        },
        "id": "HFxXmz4vKabW",
        "outputId": "76990fc8-691c-4e31-e4c8-62de019102b3"
      },
      "source": [
        "value1=input(\"Enter first number\")\n",
        "value2=input(\"Enter second number\")\n",
        "value3=input(\"Enter third number\")\n",
        "print(value1+value2+value3)"
      ],
      "execution_count": null,
      "outputs": [
        {
          "output_type": "stream",
          "text": [
            "Enter first number5\n",
            "Enter second number9\n",
            "Enter third number12\n",
            "5912\n"
          ],
          "name": "stdout"
        }
      ]
    },
    {
      "cell_type": "code",
      "metadata": {
        "colab": {
          "base_uri": "https://localhost:8080/"
        },
        "id": "if5tc81LK4BK",
        "outputId": "dbe9201e-6f99-4de7-f724-a3d599105538"
      },
      "source": [
        "value=input(\"Enter an integer\")\n",
        "value=int(value)\n",
        "another_value=int(input(\"Enter another integer\"))\n",
        "sum = value + another_value\n",
        "print(sum )"
      ],
      "execution_count": null,
      "outputs": [
        {
          "output_type": "stream",
          "text": [
            "Enter an integer4\n",
            "Enter another integer8\n",
            "12\n"
          ],
          "name": "stdout"
        }
      ]
    },
    {
      "cell_type": "markdown",
      "metadata": {
        "id": "Axhe9vSn8b9H"
      },
      "source": [
        "If the string passed to int cannot be converted to an integer, a ValueError occurs.\n"
      ]
    },
    {
      "cell_type": "code",
      "metadata": {
        "colab": {
          "base_uri": "https://localhost:8080/",
          "height": 180
        },
        "id": "L9y1TDRl8pVi",
        "outputId": "653a556b-33f5-4b6b-c061-6efd0f70ff45"
      },
      "source": [
        "bad_value=int(input(\"Enter another integer\"))"
      ],
      "execution_count": null,
      "outputs": [
        {
          "output_type": "stream",
          "text": [
            "Enter another integerhello\n"
          ],
          "name": "stdout"
        },
        {
          "output_type": "error",
          "ename": "ValueError",
          "evalue": "ignored",
          "traceback": [
            "\u001b[0;31m---------------------------------------------------------------------------\u001b[0m",
            "\u001b[0;31mValueError\u001b[0m                                Traceback (most recent call last)",
            "\u001b[0;32m<ipython-input-1-56cfcdf3655e>\u001b[0m in \u001b[0;36m<module>\u001b[0;34m()\u001b[0m\n\u001b[0;32m----> 1\u001b[0;31m \u001b[0mbad_value\u001b[0m\u001b[0;34m=\u001b[0m\u001b[0mint\u001b[0m\u001b[0;34m(\u001b[0m\u001b[0minput\u001b[0m\u001b[0;34m(\u001b[0m\u001b[0;34m\"Enter another integer\"\u001b[0m\u001b[0;34m)\u001b[0m\u001b[0;34m)\u001b[0m\u001b[0;34m\u001b[0m\u001b[0;34m\u001b[0m\u001b[0m\n\u001b[0m",
            "\u001b[0;31mValueError\u001b[0m: invalid literal for int() with base 10: 'hello'"
          ]
        }
      ]
    },
    {
      "cell_type": "markdown",
      "metadata": {
        "id": "1u2cSoodQRjs"
      },
      "source": [
        "**Arithmetic**\n"
      ]
    },
    {
      "cell_type": "markdown",
      "metadata": {
        "id": "XO-TJJcDQXh5"
      },
      "source": [
        "Multiplication(*)"
      ]
    },
    {
      "cell_type": "code",
      "metadata": {
        "colab": {
          "base_uri": "https://localhost:8080/"
        },
        "id": "2dxMsImoQbOA",
        "outputId": "ec480cc7-5897-4e99-8e85-b01b53a84044"
      },
      "source": [
        "7*5"
      ],
      "execution_count": null,
      "outputs": [
        {
          "output_type": "execute_result",
          "data": {
            "text/plain": [
              "35"
            ]
          },
          "metadata": {
            "tags": []
          },
          "execution_count": 13
        }
      ]
    },
    {
      "cell_type": "markdown",
      "metadata": {
        "id": "jGhQDOCTQenR"
      },
      "source": [
        "Exponentiation(**)"
      ]
    },
    {
      "cell_type": "code",
      "metadata": {
        "colab": {
          "base_uri": "https://localhost:8080/"
        },
        "id": "CYb2SrJlQiiF",
        "outputId": "021de4e1-40ed-4c48-ad9f-e445d73bac8b"
      },
      "source": [
        "2**10"
      ],
      "execution_count": null,
      "outputs": [
        {
          "output_type": "execute_result",
          "data": {
            "text/plain": [
              "1024"
            ]
          },
          "metadata": {
            "tags": []
          },
          "execution_count": 14
        }
      ]
    },
    {
      "cell_type": "markdown",
      "metadata": {
        "id": "fJEfh0hvQlLK"
      },
      "source": [
        "True Division-Divides a numerator by a denominator and yields a floating-point number with a decimal point"
      ]
    },
    {
      "cell_type": "code",
      "metadata": {
        "colab": {
          "base_uri": "https://localhost:8080/"
        },
        "id": "cpUdTJf-QrDe",
        "outputId": "58ee01fd-172e-4bc4-e962-d9846746daa8"
      },
      "source": [
        "7/4"
      ],
      "execution_count": null,
      "outputs": [
        {
          "output_type": "execute_result",
          "data": {
            "text/plain": [
              "1.75"
            ]
          },
          "metadata": {
            "tags": []
          },
          "execution_count": 15
        }
      ]
    },
    {
      "cell_type": "markdown",
      "metadata": {
        "id": "EZRB_U3IQtyc"
      },
      "source": [
        "Floor Division-Divides a numerator by a denominator , yielding the highest integer that's not greater than the result. Python truncates (discards) the fractional part."
      ]
    },
    {
      "cell_type": "code",
      "metadata": {
        "colab": {
          "base_uri": "https://localhost:8080/"
        },
        "id": "vv24pcyvSV_V",
        "outputId": "26e66da6-19de-4151-c094-88a7903fd17d"
      },
      "source": [
        "11//4"
      ],
      "execution_count": null,
      "outputs": [
        {
          "output_type": "execute_result",
          "data": {
            "text/plain": [
              "2"
            ]
          },
          "metadata": {
            "tags": []
          },
          "execution_count": 20
        }
      ]
    },
    {
      "cell_type": "code",
      "metadata": {
        "colab": {
          "base_uri": "https://localhost:8080/"
        },
        "id": "4YAeQnYXQvoB",
        "outputId": "5935fdf8-2ed6-4ef8-fbff-3876c0b55eca"
      },
      "source": [
        "7//4"
      ],
      "execution_count": null,
      "outputs": [
        {
          "output_type": "execute_result",
          "data": {
            "text/plain": [
              "1"
            ]
          },
          "metadata": {
            "tags": []
          },
          "execution_count": 16
        }
      ]
    },
    {
      "cell_type": "code",
      "metadata": {
        "colab": {
          "base_uri": "https://localhost:8080/"
        },
        "id": "L2yb4anRQyb1",
        "outputId": "54086f67-0f49-440b-aa03-ea0b01873772"
      },
      "source": [
        "3//5"
      ],
      "execution_count": null,
      "outputs": [
        {
          "output_type": "execute_result",
          "data": {
            "text/plain": [
              "0"
            ]
          },
          "metadata": {
            "tags": []
          },
          "execution_count": 17
        }
      ]
    },
    {
      "cell_type": "code",
      "metadata": {
        "colab": {
          "base_uri": "https://localhost:8080/"
        },
        "id": "do3JezKrQ03A",
        "outputId": "0d5c09ff-6d42-42ee-86dc-e602082ec0e4"
      },
      "source": [
        "14//7"
      ],
      "execution_count": null,
      "outputs": [
        {
          "output_type": "execute_result",
          "data": {
            "text/plain": [
              "2"
            ]
          },
          "metadata": {
            "tags": []
          },
          "execution_count": 18
        }
      ]
    },
    {
      "cell_type": "code",
      "metadata": {
        "colab": {
          "base_uri": "https://localhost:8080/"
        },
        "id": "qlNvdxWIQ5Hy",
        "outputId": "98a9671d-f3c1-4edc-a925-e587b025c2af"
      },
      "source": [
        "-11//4"
      ],
      "execution_count": null,
      "outputs": [
        {
          "output_type": "execute_result",
          "data": {
            "text/plain": [
              "-3"
            ]
          },
          "metadata": {
            "tags": []
          },
          "execution_count": 19
        }
      ]
    },
    {
      "cell_type": "markdown",
      "metadata": {
        "id": "Rq2IGm4LS2N6"
      },
      "source": [
        "Exceptions and Tracebacks"
      ]
    },
    {
      "cell_type": "code",
      "metadata": {
        "colab": {
          "base_uri": "https://localhost:8080/",
          "height": 163
        },
        "id": "Q98SthnFS9lP",
        "outputId": "44a49f59-0b6b-4b96-cdbd-cdfc5bdccf53"
      },
      "source": [
        "123/0"
      ],
      "execution_count": null,
      "outputs": [
        {
          "output_type": "error",
          "ename": "ZeroDivisionError",
          "evalue": "ignored",
          "traceback": [
            "\u001b[0;31m---------------------------------------------------------------------------\u001b[0m",
            "\u001b[0;31mZeroDivisionError\u001b[0m                         Traceback (most recent call last)",
            "\u001b[0;32m<ipython-input-21-b2ce00d5adf0>\u001b[0m in \u001b[0;36m<module>\u001b[0;34m()\u001b[0m\n\u001b[0;32m----> 1\u001b[0;31m \u001b[0;36m123\u001b[0m\u001b[0;34m/\u001b[0m\u001b[0;36m0\u001b[0m\u001b[0;34m\u001b[0m\u001b[0;34m\u001b[0m\u001b[0m\n\u001b[0m",
            "\u001b[0;31mZeroDivisionError\u001b[0m: division by zero"
          ]
        }
      ]
    },
    {
      "cell_type": "code",
      "metadata": {
        "colab": {
          "base_uri": "https://localhost:8080/",
          "height": 163
        },
        "id": "riSAgctKTBDH",
        "outputId": "a66ff394-7a65-4e1e-b9e7-d3ec80054192"
      },
      "source": [
        "z+8"
      ],
      "execution_count": null,
      "outputs": [
        {
          "output_type": "error",
          "ename": "NameError",
          "evalue": "ignored",
          "traceback": [
            "\u001b[0;31m---------------------------------------------------------------------------\u001b[0m",
            "\u001b[0;31mNameError\u001b[0m                                 Traceback (most recent call last)",
            "\u001b[0;32m<ipython-input-22-b39031b3c96c>\u001b[0m in \u001b[0;36m<module>\u001b[0;34m()\u001b[0m\n\u001b[0;32m----> 1\u001b[0;31m \u001b[0mz\u001b[0m\u001b[0;34m+\u001b[0m\u001b[0;36m8\u001b[0m\u001b[0;34m\u001b[0m\u001b[0;34m\u001b[0m\u001b[0m\n\u001b[0m",
            "\u001b[0;31mNameError\u001b[0m: name 'z' is not defined"
          ]
        }
      ]
    },
    {
      "cell_type": "markdown",
      "metadata": {
        "id": "1ji30eQOTEqA"
      },
      "source": [
        "Remainder Operator"
      ]
    },
    {
      "cell_type": "code",
      "metadata": {
        "colab": {
          "base_uri": "https://localhost:8080/"
        },
        "id": "oWhlMXZ4TJGY",
        "outputId": "2ad44aeb-4440-44ce-b424-1a0a4dc59c37"
      },
      "source": [
        "17%5"
      ],
      "execution_count": null,
      "outputs": [
        {
          "output_type": "execute_result",
          "data": {
            "text/plain": [
              "2"
            ]
          },
          "metadata": {
            "tags": []
          },
          "execution_count": 23
        }
      ]
    },
    {
      "cell_type": "code",
      "metadata": {
        "colab": {
          "base_uri": "https://localhost:8080/"
        },
        "id": "XwbBOQTfTPxz",
        "outputId": "8f9bbfd4-d628-4674-a955-08b71c9dba53"
      },
      "source": [
        "7.5%3.5"
      ],
      "execution_count": null,
      "outputs": [
        {
          "output_type": "execute_result",
          "data": {
            "text/plain": [
              "0.5"
            ]
          },
          "metadata": {
            "tags": []
          },
          "execution_count": 24
        }
      ]
    },
    {
      "cell_type": "markdown",
      "metadata": {
        "id": "1mBZ9hAeTa39"
      },
      "source": [
        "**Grouping expressions with Parentheses**"
      ]
    },
    {
      "cell_type": "code",
      "metadata": {
        "colab": {
          "base_uri": "https://localhost:8080/"
        },
        "id": "e565H6XzTf5C",
        "outputId": "17f51296-ae2e-4fa0-ef25-cb267c86929a"
      },
      "source": [
        "10*(5+3)"
      ],
      "execution_count": null,
      "outputs": [
        {
          "output_type": "execute_result",
          "data": {
            "text/plain": [
              "80"
            ]
          },
          "metadata": {
            "tags": []
          },
          "execution_count": 25
        }
      ]
    },
    {
      "cell_type": "markdown",
      "metadata": {
        "id": "08ICpaf-Tpyb"
      },
      "source": [
        "Without these parentheses, the result is different"
      ]
    },
    {
      "cell_type": "code",
      "metadata": {
        "colab": {
          "base_uri": "https://localhost:8080/"
        },
        "id": "_o94PmgdTx7V",
        "outputId": "b01addc4-c267-4a0a-bf3a-fc4a7f735825"
      },
      "source": [
        "10*5+3"
      ],
      "execution_count": null,
      "outputs": [
        {
          "output_type": "execute_result",
          "data": {
            "text/plain": [
              "53"
            ]
          },
          "metadata": {
            "tags": []
          },
          "execution_count": 29
        }
      ]
    },
    {
      "cell_type": "markdown",
      "metadata": {
        "id": "-mk7QRMhT70W"
      },
      "source": [
        "The parentheses are redundant(unnecessary) if removing them yields the same result"
      ]
    },
    {
      "cell_type": "markdown",
      "metadata": {
        "id": "VRP3JmvxV2Jg"
      },
      "source": [
        "**Operator Precedence Rules**"
      ]
    },
    {
      "cell_type": "markdown",
      "metadata": {
        "id": "E3OTu2xYWFMo"
      },
      "source": [
        "1. Expressions in parentheses evaluate first, so parentheses may force the order of evaluation to occur in any sequence you desire. Parentheses have the highest level of precedence. In expressions with nested parentheses , the expression in the innermost parentheses evaluates first.\n",
        "2. Exponentiation operations evaluate next. If an expression contains several exponentiation operations, Python applies them from right to left.\n",
        "3. Multiplication, division(true/floor), modulus operations evaluate next. If an expression contains several multiplication, division and modulus operations, Python applies them left to right. Multiplication, division and modulus are \"on the same level of precedence\"\n",
        "4. Addition and substraction operations evaluate last. If an expression contains several addition and substration operations, Python applies them from left to right. Addition and substraction also have the same level of precedence."
      ]
    },
    {
      "cell_type": "markdown",
      "metadata": {
        "id": "GNqq8tMyYYh3"
      },
      "source": [
        "Operator Grouping-Python applies certain operators from left to right. We are referring to the operators' grouping. For example, in the expression\n",
        "\n",
        "a+b+c\n",
        "\n",
        "the addition operators(+) group from left to right.\n",
        "\n",
        "Please remember: All Python operators of the same precedence group left-to-right except for the exponentiation operator(**) which groups right-to-left."
      ]
    },
    {
      "cell_type": "markdown",
      "metadata": {
        "id": "paCB2n-EaEm-"
      },
      "source": [
        "**Redundant Parentheses**"
      ]
    },
    {
      "cell_type": "markdown",
      "metadata": {
        "id": "sIlL4PGRaaGP"
      },
      "source": [
        "Use redundant parentheses to group subexpressions to make the expression clearer.\n",
        "For example\n",
        "\n",
        "y=a*x**2+b*x+c\n",
        "\n",
        "can be parenthesized , for clarity, as\n",
        "\n",
        "y=(a*(x**2))+(b*x)+c"
      ]
    },
    {
      "cell_type": "markdown",
      "metadata": {
        "id": "OyMbpu3lbaDr"
      },
      "source": [
        "**Operand Types**"
      ]
    },
    {
      "cell_type": "markdown",
      "metadata": {
        "id": "Ib5cDCrNbiHS"
      },
      "source": [
        "Each arithmetic operator may be used with integers and floating-point numbers.If both operands are integers, the result is an integer-except for the true-division(/) operator, which always yields a floating-point number. If both operands are floating-point numbers, the result is a floating-point number."
      ]
    },
    {
      "cell_type": "code",
      "metadata": {
        "colab": {
          "base_uri": "https://localhost:8080/"
        },
        "id": "9xCSI_9Cdzi1",
        "outputId": "d1ff1289-8b38-4a0b-c5b7-3312ab80fcf4"
      },
      "source": [
        "4.5//1.2"
      ],
      "execution_count": null,
      "outputs": [
        {
          "output_type": "execute_result",
          "data": {
            "text/plain": [
              "3.0"
            ]
          },
          "metadata": {
            "tags": []
          },
          "execution_count": 30
        }
      ]
    },
    {
      "cell_type": "code",
      "metadata": {
        "colab": {
          "base_uri": "https://localhost:8080/"
        },
        "id": "Whtkj2qbxKF0",
        "outputId": "8b438d3a-16b2-4851-a260-0d32358906ba"
      },
      "source": [
        "7.5//3"
      ],
      "execution_count": null,
      "outputs": [
        {
          "output_type": "execute_result",
          "data": {
            "text/plain": [
              "2.0"
            ]
          },
          "metadata": {
            "tags": []
          },
          "execution_count": 31
        }
      ]
    },
    {
      "cell_type": "markdown",
      "metadata": {
        "id": "sEHdMaf7bHqZ"
      },
      "source": [
        ""
      ]
    }
  ]
}