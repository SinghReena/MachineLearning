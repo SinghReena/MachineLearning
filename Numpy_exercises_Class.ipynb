{
  "nbformat": 4,
  "nbformat_minor": 0,
  "metadata": {
    "colab": {
      "name": "Numpy exercises Class.ipynb",
      "provenance": [],
      "include_colab_link": true
    },
    "kernelspec": {
      "name": "python3",
      "display_name": "Python 3"
    }
  },
  "cells": [
    {
      "cell_type": "markdown",
      "metadata": {
        "id": "view-in-github",
        "colab_type": "text"
      },
      "source": [
        "<a href=\"https://colab.research.google.com/github/SinghReena/MachineLearning/blob/master/Numpy_exercises_Class.ipynb\" target=\"_parent\"><img src=\"https://colab.research.google.com/assets/colab-badge.svg\" alt=\"Open In Colab\"/></a>"
      ]
    },
    {
      "cell_type": "code",
      "metadata": {
        "id": "Vzep7-hUjcyE"
      },
      "source": [
        "import numpy as np\n"
      ],
      "execution_count": null,
      "outputs": []
    },
    {
      "cell_type": "markdown",
      "metadata": {
        "id": "60GulEKajkh0"
      },
      "source": [
        "1. Create a null vector of size 10 but the fifth value which is 1"
      ]
    },
    {
      "cell_type": "markdown",
      "metadata": {
        "id": "C8OF5fN1ki3l"
      },
      "source": [
        "2. Reverse a vector (first element becomes last)\n"
      ]
    },
    {
      "cell_type": "markdown",
      "metadata": {
        "id": "gv2Nbf7RlMR2"
      },
      "source": [
        "3. Create a 3x3 matrix with values ranging from 0 to 8"
      ]
    },
    {
      "cell_type": "markdown",
      "metadata": {
        "id": "rGvlXhNUlRp-"
      },
      "source": [
        "4. Create a 3x3 identity matrix"
      ]
    },
    {
      "cell_type": "markdown",
      "metadata": {
        "id": "BrIeV2pXlViD"
      },
      "source": [
        "5. Create a 3x3x3 array with random values "
      ]
    },
    {
      "cell_type": "markdown",
      "metadata": {
        "id": "HXuB2TAqlagS"
      },
      "source": [
        "6. Create a 10x10 array with random values and find the minimum and maximum values"
      ]
    },
    {
      "cell_type": "markdown",
      "metadata": {
        "id": "XiagBaD6lbK7"
      },
      "source": [
        "7. Create a 2d array with 1 on the border and 0 inside"
      ]
    },
    {
      "cell_type": "markdown",
      "metadata": {
        "id": "aMrib-IHMXgC"
      },
      "source": [
        "8. How to round a float array to use only the integer part?\n",
        "\n",
        "Hint:  Find the right function from https://numpy.org/doc/stable/reference/routines.math.html"
      ]
    },
    {
      "cell_type": "markdown",
      "metadata": {
        "id": "p0nZboAUQEkK"
      },
      "source": [
        "9. Consider two random array A and B, check if they are equal\n",
        "\n",
        "Hint: Find the right function in https://numpy.org/doc/stable/reference/routines.logic.html#comparison\n"
      ]
    },
    {
      "cell_type": "code",
      "metadata": {
        "id": "BSyDh1XiQTJo"
      },
      "source": [
        ""
      ],
      "execution_count": null,
      "outputs": []
    }
  ]
}