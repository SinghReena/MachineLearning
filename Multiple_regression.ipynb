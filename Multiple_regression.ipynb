{
  "nbformat": 4,
  "nbformat_minor": 0,
  "metadata": {
    "colab": {
      "name": "Multiple regression.ipynb",
      "provenance": [],
      "include_colab_link": true
    },
    "kernelspec": {
      "name": "python3",
      "display_name": "Python 3"
    },
    "language_info": {
      "name": "python"
    }
  },
  "cells": [
    {
      "cell_type": "markdown",
      "metadata": {
        "id": "view-in-github",
        "colab_type": "text"
      },
      "source": [
        "<a href=\"https://colab.research.google.com/github/SinghReena/MachineLearning/blob/master/Multiple_regression.ipynb\" target=\"_parent\"><img src=\"https://colab.research.google.com/assets/colab-badge.svg\" alt=\"Open In Colab\"/></a>"
      ]
    },
    {
      "cell_type": "code",
      "metadata": {
        "colab": {
          "base_uri": "https://localhost:8080/"
        },
        "id": "NSW9xqHpBn9t",
        "outputId": "0c84b7d0-011e-4fa2-a36f-762ce118d626"
      },
      "source": [
        "#@title Install the 0.24 version of scikit-learn\n",
        "!pip uninstall scikit-learn -y\n",
        "\n",
        "!pip install -U scikit-learn\n"
      ],
      "execution_count": null,
      "outputs": [
        {
          "output_type": "stream",
          "text": [
            "Uninstalling scikit-learn-0.22.2.post1:\n",
            "  Successfully uninstalled scikit-learn-0.22.2.post1\n",
            "Collecting scikit-learn\n",
            "\u001b[?25l  Downloading https://files.pythonhosted.org/packages/a8/eb/a48f25c967526b66d5f1fa7a984594f0bf0a5afafa94a8c4dbc317744620/scikit_learn-0.24.2-cp37-cp37m-manylinux2010_x86_64.whl (22.3MB)\n",
            "\u001b[K     |████████████████████████████████| 22.3MB 1.4MB/s \n",
            "\u001b[?25hRequirement already satisfied, skipping upgrade: scipy>=0.19.1 in /usr/local/lib/python3.7/dist-packages (from scikit-learn) (1.4.1)\n",
            "Requirement already satisfied, skipping upgrade: joblib>=0.11 in /usr/local/lib/python3.7/dist-packages (from scikit-learn) (1.0.1)\n",
            "Requirement already satisfied, skipping upgrade: numpy>=1.13.3 in /usr/local/lib/python3.7/dist-packages (from scikit-learn) (1.19.5)\n",
            "Collecting threadpoolctl>=2.0.0\n",
            "  Downloading https://files.pythonhosted.org/packages/f7/12/ec3f2e203afa394a149911729357aa48affc59c20e2c1c8297a60f33f133/threadpoolctl-2.1.0-py3-none-any.whl\n",
            "Installing collected packages: threadpoolctl, scikit-learn\n",
            "Successfully installed scikit-learn-0.24.2 threadpoolctl-2.1.0\n"
          ],
          "name": "stdout"
        }
      ]
    },
    {
      "cell_type": "code",
      "metadata": {
        "id": "XZCiFo3u5shP",
        "cellView": "form"
      },
      "source": [
        "#@title Imports\n",
        "import pandas as pd\n",
        "import numpy as np\n",
        "import matplotlib as plt\n",
        "import seaborn as sns\n",
        "import sklearn.linear_model as linear_module"
      ],
      "execution_count": null,
      "outputs": []
    },
    {
      "cell_type": "code",
      "metadata": {
        "id": "e9g4yKDi575E",
        "cellView": "form"
      },
      "source": [
        "#@title Read the data as CSV file.\n",
        "url = 'https://archive.ics.uci.edu/ml/machine-learning-databases/auto-mpg/auto-mpg.data'\n",
        "\n",
        "df = pd.read_csv(url, header=None, sep='\\s+')"
      ],
      "execution_count": null,
      "outputs": []
    },
    {
      "cell_type": "code",
      "metadata": {
        "id": "C5un8MR36P6J"
      },
      "source": [
        " #@title Clean up.\n",
        " df.columns = [\"mpg\", \"cylinders\", \"displacement\", \"horsepower\", \n",
        "                   \"weight\", \"acceleration\", \"year\", \"origin\", \"name\"]\n",
        " df.horsepower = pd.to_numeric(df['horsepower'],errors='coerce')\n",
        " df = df.dropna()\n",
        " "
      ],
      "execution_count": null,
      "outputs": []
    },
    {
      "cell_type": "code",
      "metadata": {
        "colab": {
          "base_uri": "https://localhost:8080/",
          "height": 402
        },
        "id": "JAv2tTXG6QvL",
        "outputId": "483a9c8d-770b-4044-a87b-d48f8a8fc444"
      },
      "source": [
        "df"
      ],
      "execution_count": null,
      "outputs": [
        {
          "output_type": "execute_result",
          "data": {
            "text/html": [
              "<div>\n",
              "<style scoped>\n",
              "    .dataframe tbody tr th:only-of-type {\n",
              "        vertical-align: middle;\n",
              "    }\n",
              "\n",
              "    .dataframe tbody tr th {\n",
              "        vertical-align: top;\n",
              "    }\n",
              "\n",
              "    .dataframe thead th {\n",
              "        text-align: right;\n",
              "    }\n",
              "</style>\n",
              "<table border=\"1\" class=\"dataframe\">\n",
              "  <thead>\n",
              "    <tr style=\"text-align: right;\">\n",
              "      <th></th>\n",
              "      <th>mpg</th>\n",
              "      <th>cylinders</th>\n",
              "      <th>displacement</th>\n",
              "      <th>horsepower</th>\n",
              "      <th>weight</th>\n",
              "      <th>acceleration</th>\n",
              "      <th>year</th>\n",
              "      <th>origin</th>\n",
              "      <th>name</th>\n",
              "    </tr>\n",
              "  </thead>\n",
              "  <tbody>\n",
              "    <tr>\n",
              "      <th>0</th>\n",
              "      <td>18.0</td>\n",
              "      <td>8</td>\n",
              "      <td>307.0</td>\n",
              "      <td>130.0</td>\n",
              "      <td>3504.0</td>\n",
              "      <td>12.0</td>\n",
              "      <td>70</td>\n",
              "      <td>1</td>\n",
              "      <td>chevrolet chevelle malibu</td>\n",
              "    </tr>\n",
              "    <tr>\n",
              "      <th>1</th>\n",
              "      <td>15.0</td>\n",
              "      <td>8</td>\n",
              "      <td>350.0</td>\n",
              "      <td>165.0</td>\n",
              "      <td>3693.0</td>\n",
              "      <td>11.5</td>\n",
              "      <td>70</td>\n",
              "      <td>1</td>\n",
              "      <td>buick skylark 320</td>\n",
              "    </tr>\n",
              "    <tr>\n",
              "      <th>2</th>\n",
              "      <td>18.0</td>\n",
              "      <td>8</td>\n",
              "      <td>318.0</td>\n",
              "      <td>150.0</td>\n",
              "      <td>3436.0</td>\n",
              "      <td>11.0</td>\n",
              "      <td>70</td>\n",
              "      <td>1</td>\n",
              "      <td>plymouth satellite</td>\n",
              "    </tr>\n",
              "    <tr>\n",
              "      <th>3</th>\n",
              "      <td>16.0</td>\n",
              "      <td>8</td>\n",
              "      <td>304.0</td>\n",
              "      <td>150.0</td>\n",
              "      <td>3433.0</td>\n",
              "      <td>12.0</td>\n",
              "      <td>70</td>\n",
              "      <td>1</td>\n",
              "      <td>amc rebel sst</td>\n",
              "    </tr>\n",
              "    <tr>\n",
              "      <th>4</th>\n",
              "      <td>17.0</td>\n",
              "      <td>8</td>\n",
              "      <td>302.0</td>\n",
              "      <td>140.0</td>\n",
              "      <td>3449.0</td>\n",
              "      <td>10.5</td>\n",
              "      <td>70</td>\n",
              "      <td>1</td>\n",
              "      <td>ford torino</td>\n",
              "    </tr>\n",
              "    <tr>\n",
              "      <th>...</th>\n",
              "      <td>...</td>\n",
              "      <td>...</td>\n",
              "      <td>...</td>\n",
              "      <td>...</td>\n",
              "      <td>...</td>\n",
              "      <td>...</td>\n",
              "      <td>...</td>\n",
              "      <td>...</td>\n",
              "      <td>...</td>\n",
              "    </tr>\n",
              "    <tr>\n",
              "      <th>393</th>\n",
              "      <td>27.0</td>\n",
              "      <td>4</td>\n",
              "      <td>140.0</td>\n",
              "      <td>86.0</td>\n",
              "      <td>2790.0</td>\n",
              "      <td>15.6</td>\n",
              "      <td>82</td>\n",
              "      <td>1</td>\n",
              "      <td>ford mustang gl</td>\n",
              "    </tr>\n",
              "    <tr>\n",
              "      <th>394</th>\n",
              "      <td>44.0</td>\n",
              "      <td>4</td>\n",
              "      <td>97.0</td>\n",
              "      <td>52.0</td>\n",
              "      <td>2130.0</td>\n",
              "      <td>24.6</td>\n",
              "      <td>82</td>\n",
              "      <td>2</td>\n",
              "      <td>vw pickup</td>\n",
              "    </tr>\n",
              "    <tr>\n",
              "      <th>395</th>\n",
              "      <td>32.0</td>\n",
              "      <td>4</td>\n",
              "      <td>135.0</td>\n",
              "      <td>84.0</td>\n",
              "      <td>2295.0</td>\n",
              "      <td>11.6</td>\n",
              "      <td>82</td>\n",
              "      <td>1</td>\n",
              "      <td>dodge rampage</td>\n",
              "    </tr>\n",
              "    <tr>\n",
              "      <th>396</th>\n",
              "      <td>28.0</td>\n",
              "      <td>4</td>\n",
              "      <td>120.0</td>\n",
              "      <td>79.0</td>\n",
              "      <td>2625.0</td>\n",
              "      <td>18.6</td>\n",
              "      <td>82</td>\n",
              "      <td>1</td>\n",
              "      <td>ford ranger</td>\n",
              "    </tr>\n",
              "    <tr>\n",
              "      <th>397</th>\n",
              "      <td>31.0</td>\n",
              "      <td>4</td>\n",
              "      <td>119.0</td>\n",
              "      <td>82.0</td>\n",
              "      <td>2720.0</td>\n",
              "      <td>19.4</td>\n",
              "      <td>82</td>\n",
              "      <td>1</td>\n",
              "      <td>chevy s-10</td>\n",
              "    </tr>\n",
              "  </tbody>\n",
              "</table>\n",
              "<p>392 rows × 9 columns</p>\n",
              "</div>"
            ],
            "text/plain": [
              "      mpg  cylinders  displacement  ...  year  origin                       name\n",
              "0    18.0          8         307.0  ...    70       1  chevrolet chevelle malibu\n",
              "1    15.0          8         350.0  ...    70       1          buick skylark 320\n",
              "2    18.0          8         318.0  ...    70       1         plymouth satellite\n",
              "3    16.0          8         304.0  ...    70       1              amc rebel sst\n",
              "4    17.0          8         302.0  ...    70       1                ford torino\n",
              "..    ...        ...           ...  ...   ...     ...                        ...\n",
              "393  27.0          4         140.0  ...    82       1            ford mustang gl\n",
              "394  44.0          4          97.0  ...    82       2                  vw pickup\n",
              "395  32.0          4         135.0  ...    82       1              dodge rampage\n",
              "396  28.0          4         120.0  ...    82       1                ford ranger\n",
              "397  31.0          4         119.0  ...    82       1                 chevy s-10\n",
              "\n",
              "[392 rows x 9 columns]"
            ]
          },
          "metadata": {
            "tags": []
          },
          "execution_count": 5
        }
      ]
    },
    {
      "cell_type": "code",
      "metadata": {
        "colab": {
          "base_uri": "https://localhost:8080/",
          "height": 284
        },
        "id": "6WZe5lQSXLgd",
        "outputId": "d3883cbe-9903-4247-84e3-21f77a1c452e"
      },
      "source": [
        "df.describe()"
      ],
      "execution_count": null,
      "outputs": [
        {
          "output_type": "execute_result",
          "data": {
            "text/html": [
              "<div>\n",
              "<style scoped>\n",
              "    .dataframe tbody tr th:only-of-type {\n",
              "        vertical-align: middle;\n",
              "    }\n",
              "\n",
              "    .dataframe tbody tr th {\n",
              "        vertical-align: top;\n",
              "    }\n",
              "\n",
              "    .dataframe thead th {\n",
              "        text-align: right;\n",
              "    }\n",
              "</style>\n",
              "<table border=\"1\" class=\"dataframe\">\n",
              "  <thead>\n",
              "    <tr style=\"text-align: right;\">\n",
              "      <th></th>\n",
              "      <th>mpg</th>\n",
              "      <th>cylinders</th>\n",
              "      <th>displacement</th>\n",
              "      <th>horsepower</th>\n",
              "      <th>weight</th>\n",
              "      <th>acceleration</th>\n",
              "      <th>year</th>\n",
              "      <th>origin</th>\n",
              "    </tr>\n",
              "  </thead>\n",
              "  <tbody>\n",
              "    <tr>\n",
              "      <th>count</th>\n",
              "      <td>392.000000</td>\n",
              "      <td>392.000000</td>\n",
              "      <td>392.000000</td>\n",
              "      <td>392.000000</td>\n",
              "      <td>392.000000</td>\n",
              "      <td>392.000000</td>\n",
              "      <td>392.000000</td>\n",
              "      <td>392.000000</td>\n",
              "    </tr>\n",
              "    <tr>\n",
              "      <th>mean</th>\n",
              "      <td>23.445918</td>\n",
              "      <td>5.471939</td>\n",
              "      <td>194.411990</td>\n",
              "      <td>104.469388</td>\n",
              "      <td>2977.584184</td>\n",
              "      <td>15.541327</td>\n",
              "      <td>75.979592</td>\n",
              "      <td>1.576531</td>\n",
              "    </tr>\n",
              "    <tr>\n",
              "      <th>std</th>\n",
              "      <td>7.805007</td>\n",
              "      <td>1.705783</td>\n",
              "      <td>104.644004</td>\n",
              "      <td>38.491160</td>\n",
              "      <td>849.402560</td>\n",
              "      <td>2.758864</td>\n",
              "      <td>3.683737</td>\n",
              "      <td>0.805518</td>\n",
              "    </tr>\n",
              "    <tr>\n",
              "      <th>min</th>\n",
              "      <td>9.000000</td>\n",
              "      <td>3.000000</td>\n",
              "      <td>68.000000</td>\n",
              "      <td>46.000000</td>\n",
              "      <td>1613.000000</td>\n",
              "      <td>8.000000</td>\n",
              "      <td>70.000000</td>\n",
              "      <td>1.000000</td>\n",
              "    </tr>\n",
              "    <tr>\n",
              "      <th>25%</th>\n",
              "      <td>17.000000</td>\n",
              "      <td>4.000000</td>\n",
              "      <td>105.000000</td>\n",
              "      <td>75.000000</td>\n",
              "      <td>2225.250000</td>\n",
              "      <td>13.775000</td>\n",
              "      <td>73.000000</td>\n",
              "      <td>1.000000</td>\n",
              "    </tr>\n",
              "    <tr>\n",
              "      <th>50%</th>\n",
              "      <td>22.750000</td>\n",
              "      <td>4.000000</td>\n",
              "      <td>151.000000</td>\n",
              "      <td>93.500000</td>\n",
              "      <td>2803.500000</td>\n",
              "      <td>15.500000</td>\n",
              "      <td>76.000000</td>\n",
              "      <td>1.000000</td>\n",
              "    </tr>\n",
              "    <tr>\n",
              "      <th>75%</th>\n",
              "      <td>29.000000</td>\n",
              "      <td>8.000000</td>\n",
              "      <td>275.750000</td>\n",
              "      <td>126.000000</td>\n",
              "      <td>3614.750000</td>\n",
              "      <td>17.025000</td>\n",
              "      <td>79.000000</td>\n",
              "      <td>2.000000</td>\n",
              "    </tr>\n",
              "    <tr>\n",
              "      <th>max</th>\n",
              "      <td>46.600000</td>\n",
              "      <td>8.000000</td>\n",
              "      <td>455.000000</td>\n",
              "      <td>230.000000</td>\n",
              "      <td>5140.000000</td>\n",
              "      <td>24.800000</td>\n",
              "      <td>82.000000</td>\n",
              "      <td>3.000000</td>\n",
              "    </tr>\n",
              "  </tbody>\n",
              "</table>\n",
              "</div>"
            ],
            "text/plain": [
              "              mpg   cylinders  ...        year      origin\n",
              "count  392.000000  392.000000  ...  392.000000  392.000000\n",
              "mean    23.445918    5.471939  ...   75.979592    1.576531\n",
              "std      7.805007    1.705783  ...    3.683737    0.805518\n",
              "min      9.000000    3.000000  ...   70.000000    1.000000\n",
              "25%     17.000000    4.000000  ...   73.000000    1.000000\n",
              "50%     22.750000    4.000000  ...   76.000000    1.000000\n",
              "75%     29.000000    8.000000  ...   79.000000    2.000000\n",
              "max     46.600000    8.000000  ...   82.000000    3.000000\n",
              "\n",
              "[8 rows x 8 columns]"
            ]
          },
          "metadata": {
            "tags": []
          },
          "execution_count": 6
        }
      ]
    },
    {
      "cell_type": "markdown",
      "metadata": {
        "id": "0GJuTq-F84BR"
      },
      "source": [
        "# Two variable regression"
      ]
    },
    {
      "cell_type": "code",
      "metadata": {
        "colab": {
          "base_uri": "https://localhost:8080/"
        },
        "id": "ox9XgPHx83Hn",
        "outputId": "98b23bdc-e8fd-4f65-cf51-20a5df87859f"
      },
      "source": [
        "Y = df[['mpg']]\n",
        "X = df[['cylinders', 'horsepower']]\n",
        "\n",
        "from sklearn.model_selection import train_test_split\n",
        "X_train, X_test, y_train, y_test = train_test_split(X, Y, test_size=0.25, random_state=1)\n",
        "\n",
        "# training\n",
        "import sklearn.linear_model as linear_module\n",
        "model = linear_module.LinearRegression()\n",
        "reg = model.fit(X_train, y_train)\n",
        "print(\"intercept\", reg.intercept_)\n",
        "print(\"slope\", reg.coef_)"
      ],
      "execution_count": null,
      "outputs": [
        {
          "output_type": "stream",
          "text": [
            "intercept [41.99863077]\n",
            "slope [[-1.67720319 -0.09341019]]\n"
          ],
          "name": "stdout"
        }
      ]
    },
    {
      "cell_type": "markdown",
      "metadata": {
        "id": "moSA8ZUFCI4Q"
      },
      "source": [
        "Calculate training error.  A very high r2 score or a low mean squared error indicates overfit to training data."
      ]
    },
    {
      "cell_type": "code",
      "metadata": {
        "colab": {
          "base_uri": "https://localhost:8080/"
        },
        "id": "sgRfrHJ59lDm",
        "outputId": "e9c39bdf-444b-4c25-8cfe-705de5084ea4"
      },
      "source": [
        "# training error\n",
        "y_train_predict = reg.predict(X_train)\n",
        "\n",
        "from sklearn.metrics import mean_squared_error\n",
        "import math\n",
        "\n",
        "regression_train_rse = math.sqrt(mean_squared_error(y_train_predict, y_train))\n",
        "\n",
        "from sklearn.metrics import r2_score\n",
        "r2_score(y_train, y_train_predict)\n"
      ],
      "execution_count": null,
      "outputs": [
        {
          "output_type": "execute_result",
          "data": {
            "text/plain": [
              "0.6489048239448725"
            ]
          },
          "metadata": {
            "tags": []
          },
          "execution_count": 8
        }
      ]
    },
    {
      "cell_type": "markdown",
      "metadata": {
        "id": "qdzplcHnCVz7"
      },
      "source": [
        "Calculate the test error. A low r2 score indicates a not-so-good model."
      ]
    },
    {
      "cell_type": "code",
      "metadata": {
        "colab": {
          "base_uri": "https://localhost:8080/"
        },
        "id": "qUf9e5959yEF",
        "outputId": "715a366f-767c-4247-9824-0e71444dbd3f"
      },
      "source": [
        "\n",
        "# test error\n",
        "y_predict = reg.predict(X_test)\n",
        "regression_test_rse = math.sqrt(mean_squared_error(y_predict, y_test))\n",
        "\n",
        "from sklearn.metrics import r2_score\n",
        "r2_score(y_test, y_predict)\n"
      ],
      "execution_count": null,
      "outputs": [
        {
          "output_type": "execute_result",
          "data": {
            "text/plain": [
              "0.664572220012015"
            ]
          },
          "metadata": {
            "tags": []
          },
          "execution_count": 9
        }
      ]
    },
    {
      "cell_type": "markdown",
      "metadata": {
        "id": "gO1LeFu8sSnM"
      },
      "source": [
        "# Preprocessing inputs\n",
        "\n",
        "Suppose we pick `cylinders`, which ranges from 4-8 and `weight` which is in the 1000s as our predictors."
      ]
    },
    {
      "cell_type": "code",
      "metadata": {
        "colab": {
          "base_uri": "https://localhost:8080/"
        },
        "id": "DOqeQk5hsU8x",
        "outputId": "36921792-1b58-4146-f8d1-ae2ab4136509"
      },
      "source": [
        "Y = df[['mpg']]\n",
        "X = df[['cylinders', 'weight']]\n",
        "\n",
        "from sklearn.model_selection import train_test_split\n",
        "X_train, X_test, y_train, y_test = train_test_split(X, Y, test_size=0.25, random_state=1)\n",
        "\n",
        "# training\n",
        "import sklearn.linear_model as linear_module\n",
        "model = linear_module.LinearRegression()\n",
        "reg = model.fit(X_train, y_train)\n",
        "print(\"intercept\", reg.intercept_)\n",
        "print(\"slope\", reg.coef_)"
      ],
      "execution_count": null,
      "outputs": [
        {
          "output_type": "stream",
          "text": [
            "intercept [45.22774304]\n",
            "slope [[-0.60265114 -0.00629629]]\n"
          ],
          "name": "stdout"
        }
      ]
    },
    {
      "cell_type": "markdown",
      "metadata": {
        "id": "wBIddQHpCljs"
      },
      "source": [
        "## Standardization\n",
        "\n",
        "The weights differ by a factor of a 100, -0.6 and -0.006. It will be hard to know the relative importance of the variables from these weights alone.\n",
        "\n",
        "So we will standardize the model."
      ]
    },
    {
      "cell_type": "code",
      "metadata": {
        "colab": {
          "base_uri": "https://localhost:8080/"
        },
        "id": "7ubiE2LbsSFG",
        "outputId": "49881f3e-7e42-4315-9d8f-a9f8ecc617b8"
      },
      "source": [
        "from sklearn import preprocessing\n",
        "\n",
        "scaler = preprocessing.StandardScaler().fit(X)\n",
        "\n",
        "scaler\n"
      ],
      "execution_count": null,
      "outputs": [
        {
          "output_type": "execute_result",
          "data": {
            "text/plain": [
              "StandardScaler()"
            ]
          },
          "metadata": {
            "tags": []
          },
          "execution_count": 11
        }
      ]
    },
    {
      "cell_type": "code",
      "metadata": {
        "colab": {
          "base_uri": "https://localhost:8080/"
        },
        "id": "by-Qk6ECurL3",
        "outputId": "03845400-6575-4a54-f6a2-341745359596"
      },
      "source": [
        "print(scaler.mean_, scaler.scale_)\n"
      ],
      "execution_count": null,
      "outputs": [
        {
          "output_type": "stream",
          "text": [
            "[   5.47193878 2977.58418367] [  1.70360611 848.31844657]\n"
          ],
          "name": "stdout"
        }
      ]
    },
    {
      "cell_type": "markdown",
      "metadata": {
        "id": "AR9ajOGcC7kZ"
      },
      "source": [
        "See the difference between `X_train` and `X_train_scaled`. The cylinder values are scaled using the mean and standard deviation."
      ]
    },
    {
      "cell_type": "code",
      "metadata": {
        "colab": {
          "base_uri": "https://localhost:8080/",
          "height": 195
        },
        "id": "J1xKbUpiDMFq",
        "outputId": "55b34054-97ae-4fc7-c56b-4872a5b9c8cd"
      },
      "source": [
        "X_train[0:5]"
      ],
      "execution_count": null,
      "outputs": [
        {
          "output_type": "execute_result",
          "data": {
            "text/html": [
              "<div>\n",
              "<style scoped>\n",
              "    .dataframe tbody tr th:only-of-type {\n",
              "        vertical-align: middle;\n",
              "    }\n",
              "\n",
              "    .dataframe tbody tr th {\n",
              "        vertical-align: top;\n",
              "    }\n",
              "\n",
              "    .dataframe thead th {\n",
              "        text-align: right;\n",
              "    }\n",
              "</style>\n",
              "<table border=\"1\" class=\"dataframe\">\n",
              "  <thead>\n",
              "    <tr style=\"text-align: right;\">\n",
              "      <th></th>\n",
              "      <th>cylinders</th>\n",
              "      <th>weight</th>\n",
              "    </tr>\n",
              "  </thead>\n",
              "  <tbody>\n",
              "    <tr>\n",
              "      <th>259</th>\n",
              "      <td>6</td>\n",
              "      <td>3070.0</td>\n",
              "    </tr>\n",
              "    <tr>\n",
              "      <th>289</th>\n",
              "      <td>8</td>\n",
              "      <td>4360.0</td>\n",
              "    </tr>\n",
              "    <tr>\n",
              "      <th>108</th>\n",
              "      <td>4</td>\n",
              "      <td>2279.0</td>\n",
              "    </tr>\n",
              "    <tr>\n",
              "      <th>206</th>\n",
              "      <td>4</td>\n",
              "      <td>2565.0</td>\n",
              "    </tr>\n",
              "    <tr>\n",
              "      <th>99</th>\n",
              "      <td>6</td>\n",
              "      <td>2945.0</td>\n",
              "    </tr>\n",
              "  </tbody>\n",
              "</table>\n",
              "</div>"
            ],
            "text/plain": [
              "     cylinders  weight\n",
              "259          6  3070.0\n",
              "289          8  4360.0\n",
              "108          4  2279.0\n",
              "206          4  2565.0\n",
              "99           6  2945.0"
            ]
          },
          "metadata": {
            "tags": []
          },
          "execution_count": 13
        }
      ]
    },
    {
      "cell_type": "code",
      "metadata": {
        "colab": {
          "base_uri": "https://localhost:8080/"
        },
        "id": "QTmBIpM9u7T1",
        "outputId": "e4607dec-a362-42b0-e21f-c204af57465d"
      },
      "source": [
        "X_train_scaled = scaler.transform(X_train)\n",
        "X_train_scaled[0:5]"
      ],
      "execution_count": null,
      "outputs": [
        {
          "output_type": "execute_result",
          "data": {
            "text/plain": [
              "array([[ 0.30996673,  0.10894001],\n",
              "       [ 1.48394702,  1.62959537],\n",
              "       [-0.86401356, -0.82349286],\n",
              "       [-0.86401356, -0.48635531],\n",
              "       [ 0.30996673, -0.03841032]])"
            ]
          },
          "metadata": {
            "tags": []
          },
          "execution_count": 14
        }
      ]
    },
    {
      "cell_type": "markdown",
      "metadata": {
        "id": "u3dupBc5DSrz"
      },
      "source": [
        "Next we will train using the scaled variables. Now we have the slopes in the same order of magnitude."
      ]
    },
    {
      "cell_type": "code",
      "metadata": {
        "colab": {
          "base_uri": "https://localhost:8080/"
        },
        "id": "K9dVmKyoXcGW",
        "outputId": "29445078-4612-422b-f154-4706f99f9807"
      },
      "source": [
        "# training\n",
        "import sklearn.linear_model as linear_module\n",
        "model = linear_module.LinearRegression()\n",
        "reg = model.fit(X_train_scaled, y_train)\n",
        "print(\"intercept\", reg.intercept_)\n",
        "print(\"slope\", reg.coef_)"
      ],
      "execution_count": null,
      "outputs": [
        {
          "output_type": "stream",
          "text": [
            "intercept [23.18234238]\n",
            "slope [[-1.02668016 -5.3412581 ]]\n"
          ],
          "name": "stdout"
        }
      ]
    },
    {
      "cell_type": "markdown",
      "metadata": {
        "id": "SHuHg-8BX88W"
      },
      "source": [
        "Do not forget to scale the test dataset too!"
      ]
    },
    {
      "cell_type": "code",
      "metadata": {
        "colab": {
          "base_uri": "https://localhost:8080/"
        },
        "id": "gOReyhG8XYak",
        "outputId": "f944befb-9d82-4b07-b4fd-d637b6ba9f67"
      },
      "source": [
        "# test error\n",
        "X_test_scaled = scaler.transform(X_test)\n",
        "\n",
        "y_predict = reg.predict(X_test_scaled)\n",
        "regression_test_rse = math.sqrt(mean_squared_error(y_predict, y_test))\n",
        "\n",
        "from sklearn.metrics import r2_score\n",
        "r2_score(y_test, y_predict)\n"
      ],
      "execution_count": null,
      "outputs": [
        {
          "output_type": "execute_result",
          "data": {
            "text/plain": [
              "0.7333980039099433"
            ]
          },
          "metadata": {
            "tags": []
          },
          "execution_count": 16
        }
      ]
    },
    {
      "cell_type": "markdown",
      "metadata": {
        "id": "kBWWrq6RXvsh"
      },
      "source": [
        "After scaling the `r2` score improved from 0.69 to 0.73."
      ]
    },
    {
      "cell_type": "markdown",
      "metadata": {
        "id": "MOnsdQ-svL0K"
      },
      "source": [
        "## Min-max scaling\n",
        "\n",
        "Instead of using mean and variance like `StandardScaler` above, we will use min-max scaling.  min-max scaling will make the min value 0 and max value 1.  All other values will be between 0 and 1.\n"
      ]
    },
    {
      "cell_type": "code",
      "metadata": {
        "colab": {
          "base_uri": "https://localhost:8080/"
        },
        "id": "RNxaEZy8vLIM",
        "outputId": "03d01187-58b8-4e7f-ece1-4cbdf8dd871d"
      },
      "source": [
        "from sklearn.preprocessing import MinMaxScaler\n",
        "\n",
        "min_max_scaler = preprocessing.MinMaxScaler()\n",
        "X_train_minmax = min_max_scaler.fit_transform(X_train)\n",
        "X_train_minmax[0:5]"
      ],
      "execution_count": null,
      "outputs": [
        {
          "output_type": "execute_result",
          "data": {
            "text/plain": [
              "array([[0.6       , 0.41309895],\n",
              "       [1.        , 0.77884888],\n",
              "       [0.2       , 0.18882903],\n",
              "       [0.2       , 0.26991778],\n",
              "       [0.6       , 0.37765807]])"
            ]
          },
          "metadata": {
            "tags": []
          },
          "execution_count": 17
        }
      ]
    },
    {
      "cell_type": "code",
      "metadata": {
        "colab": {
          "base_uri": "https://localhost:8080/"
        },
        "id": "oHRrczKYEUDw",
        "outputId": "d1133c88-ad2b-4af1-ac41-fb94dc40c62a"
      },
      "source": [
        "X_train[0:5]"
      ],
      "execution_count": null,
      "outputs": [
        {
          "output_type": "execute_result",
          "data": {
            "text/html": [
              "<div>\n",
              "<style scoped>\n",
              "    .dataframe tbody tr th:only-of-type {\n",
              "        vertical-align: middle;\n",
              "    }\n",
              "\n",
              "    .dataframe tbody tr th {\n",
              "        vertical-align: top;\n",
              "    }\n",
              "\n",
              "    .dataframe thead th {\n",
              "        text-align: right;\n",
              "    }\n",
              "</style>\n",
              "<table border=\"1\" class=\"dataframe\">\n",
              "  <thead>\n",
              "    <tr style=\"text-align: right;\">\n",
              "      <th></th>\n",
              "      <th>cylinders</th>\n",
              "      <th>weight</th>\n",
              "    </tr>\n",
              "  </thead>\n",
              "  <tbody>\n",
              "    <tr>\n",
              "      <th>259</th>\n",
              "      <td>6</td>\n",
              "      <td>3070.0</td>\n",
              "    </tr>\n",
              "    <tr>\n",
              "      <th>289</th>\n",
              "      <td>8</td>\n",
              "      <td>4360.0</td>\n",
              "    </tr>\n",
              "    <tr>\n",
              "      <th>108</th>\n",
              "      <td>4</td>\n",
              "      <td>2279.0</td>\n",
              "    </tr>\n",
              "    <tr>\n",
              "      <th>206</th>\n",
              "      <td>4</td>\n",
              "      <td>2565.0</td>\n",
              "    </tr>\n",
              "    <tr>\n",
              "      <th>99</th>\n",
              "      <td>6</td>\n",
              "      <td>2945.0</td>\n",
              "    </tr>\n",
              "  </tbody>\n",
              "</table>\n",
              "</div>"
            ],
            "text/plain": [
              "     cylinders  weight\n",
              "259          6  3070.0\n",
              "289          8  4360.0\n",
              "108          4  2279.0\n",
              "206          4  2565.0\n",
              "99           6  2945.0"
            ]
          },
          "metadata": {
            "tags": []
          },
          "execution_count": 18
        }
      ]
    },
    {
      "cell_type": "markdown",
      "metadata": {
        "id": "rt60s3BqX3-4"
      },
      "source": [
        "## Exercise\n",
        "\n",
        "Use min-max scaling to see if it improves the r2 score."
      ]
    },
    {
      "cell_type": "markdown",
      "metadata": {
        "id": "qzcLG054ZFSI"
      },
      "source": [
        "## Exercise\n",
        "\n",
        "Use min-max scaling for all the variables and see if it improves."
      ]
    },
    {
      "cell_type": "markdown",
      "metadata": {
        "id": "SJaQn_f6Epbz"
      },
      "source": [
        "## Categorical variables: One-Hot encoding\n",
        "\n",
        "What should we do with categorical variables, like car model names?\n",
        "\n"
      ]
    },
    {
      "cell_type": "code",
      "metadata": {
        "colab": {
          "base_uri": "https://localhost:8080/",
          "height": 179
        },
        "id": "0w5fKPcgE06y",
        "outputId": "b57cc25b-f933-4981-f009-0fd4f0301c06"
      },
      "source": [
        "# Let us extract the model names first\n",
        "df.name.str.split().str[0].unique()\n"
      ],
      "execution_count": null,
      "outputs": [
        {
          "output_type": "error",
          "ename": "NameError",
          "evalue": "ignored",
          "traceback": [
            "\u001b[0;31m---------------------------------------------------------------------------\u001b[0m",
            "\u001b[0;31mNameError\u001b[0m                                 Traceback (most recent call last)",
            "\u001b[0;32m<ipython-input-1-a1c5202ee8be>\u001b[0m in \u001b[0;36m<module>\u001b[0;34m()\u001b[0m\n\u001b[1;32m      1\u001b[0m \u001b[0;31m# Let us extract the model names first\u001b[0m\u001b[0;34m\u001b[0m\u001b[0;34m\u001b[0m\u001b[0;34m\u001b[0m\u001b[0m\n\u001b[0;32m----> 2\u001b[0;31m \u001b[0mdf\u001b[0m\u001b[0;34m.\u001b[0m\u001b[0mname\u001b[0m\u001b[0;34m.\u001b[0m\u001b[0mstr\u001b[0m\u001b[0;34m.\u001b[0m\u001b[0msplit\u001b[0m\u001b[0;34m(\u001b[0m\u001b[0;34m)\u001b[0m\u001b[0;34m.\u001b[0m\u001b[0mstr\u001b[0m\u001b[0;34m[\u001b[0m\u001b[0;36m0\u001b[0m\u001b[0;34m]\u001b[0m\u001b[0;34m.\u001b[0m\u001b[0munique\u001b[0m\u001b[0;34m(\u001b[0m\u001b[0;34m)\u001b[0m\u001b[0;34m\u001b[0m\u001b[0;34m\u001b[0m\u001b[0m\n\u001b[0m",
            "\u001b[0;31mNameError\u001b[0m: name 'df' is not defined"
          ]
        }
      ]
    },
    {
      "cell_type": "markdown",
      "metadata": {
        "id": "mSsQQabTTQq_"
      },
      "source": [
        "Notice that there is some duplication. `'chevrolet', 'chevroelt', 'chevy'` are the same make. Similarly, `'volkswagen', 'vw', 'vokswagen'` are the same car.  After this clean up, we can use one-hot encoding.\n"
      ]
    },
    {
      "cell_type": "code",
      "metadata": {
        "id": "kg6Xwtq0K08r"
      },
      "source": [
        "df = df.assign(model_name =  df.name.str.split().str[0])\n",
        "df.model_name.head()"
      ],
      "execution_count": null,
      "outputs": []
    },
    {
      "cell_type": "code",
      "metadata": {
        "id": "RSg1FA6JLrR9"
      },
      "source": [
        "df.model_name.unique()"
      ],
      "execution_count": null,
      "outputs": []
    },
    {
      "cell_type": "code",
      "metadata": {
        "id": "wYOOIUKFLmM1"
      },
      "source": [
        "df.model_name = df.model_name.str.replace('chevroelt', 'chevrolet')\n",
        "df.model_name = df.model_name.str.replace('chevy','chevrolet')\n",
        "df.model_name = df.model_name.str.replace('toyouta','toyota')\n",
        "df.model_name = df.model_name.str.replace('mercedes-benz','mercedes')\n",
        "df.model_name = df.model_name.str.replace('vw','volkswagen')\n",
        "df.model_name = df.model_name.str.replace('vokswagen','volkswagen')\n",
        "df.model_name = df.model_name.str.replace('maxda','mazda')"
      ],
      "execution_count": null,
      "outputs": []
    },
    {
      "cell_type": "code",
      "metadata": {
        "id": "rv-Q_3WiL7MP"
      },
      "source": [
        "df.model_name.unique()"
      ],
      "execution_count": null,
      "outputs": []
    },
    {
      "cell_type": "code",
      "metadata": {
        "id": "hcVMmQkBOkLH"
      },
      "source": [
        "model=list(df.model_name.unique())\n",
        "model"
      ],
      "execution_count": null,
      "outputs": []
    },
    {
      "cell_type": "code",
      "metadata": {
        "id": "J9aMotlYKsTY"
      },
      "source": [
        "from sklearn import preprocessing\n",
        "from sklearn.preprocessing import OneHotEncoder\n",
        "enc = preprocessing.OneHotEncoder(categories=[model])\n",
        "enc"
      ],
      "execution_count": null,
      "outputs": []
    },
    {
      "cell_type": "markdown",
      "metadata": {
        "id": "0sQKIO1iH8SN"
      },
      "source": [
        "We will get a 392x30 boolean matrix after encoding.  There will be very few ones in this matrix, so it is stored in the Compressed Sparse Row Format."
      ]
    },
    {
      "cell_type": "code",
      "metadata": {
        "id": "TpnuG7A3K8Fv"
      },
      "source": [
        "x = [['bmw'], ['saab']]\n",
        "enc.fit(x)\n",
        "enc.transform(df.model_name.values.reshape(-1,1))\n",
        "\n"
      ],
      "execution_count": null,
      "outputs": []
    },
    {
      "cell_type": "code",
      "metadata": {
        "id": "FZhniy3qShtK"
      },
      "source": [
        "\n",
        "pd.DataFrame.sparse.from_spmatrix(enc.transform(df.model_name.values.reshape(-1,1)))"
      ],
      "execution_count": null,
      "outputs": []
    },
    {
      "cell_type": "code",
      "metadata": {
        "id": "_JsoApsVQKse"
      },
      "source": [
        "X_enc = enc.transform(df.model_name.values.reshape(-1,1))\n",
        "\n",
        "X_enc_train, X_enc_test, y_train, y_test = train_test_split(X_enc, Y, test_size=0.25, random_state=1)\n",
        "\n",
        "# training\n",
        "model = linear_module.LinearRegression()\n",
        "reg = model.fit(X_enc_train, y_train)\n",
        "print(\"intercept\", reg.intercept_)\n",
        "print(\"slope\", reg.coef_)\n"
      ],
      "execution_count": null,
      "outputs": []
    },
    {
      "cell_type": "code",
      "metadata": {
        "id": "Vj5Sgaw8To69"
      },
      "source": [
        "y_predict = reg.predict(X_enc_test)\n",
        "regression_test_rse = math.sqrt(mean_squared_error(y_predict, y_test))\n",
        "\n",
        "r2_score(y_test, y_predict)\n"
      ],
      "execution_count": null,
      "outputs": []
    },
    {
      "cell_type": "markdown",
      "metadata": {
        "id": "o-MYnHOdISxu"
      },
      "source": [
        "Just using the model name, we have an r2 score of 0.40."
      ]
    },
    {
      "cell_type": "markdown",
      "metadata": {
        "id": "ECsmTJWDIZBx"
      },
      "source": [
        "### Aside:  `reshape(-1, 1)`"
      ]
    },
    {
      "cell_type": "code",
      "metadata": {
        "id": "66HHphx4RhaT"
      },
      "source": [
        "x = np.arange(10)\n",
        "x.shape"
      ],
      "execution_count": null,
      "outputs": []
    },
    {
      "cell_type": "code",
      "metadata": {
        "id": "1vszQhwIUigY"
      },
      "source": [
        "x = x.reshape(-1,1)\n",
        "x.shape"
      ],
      "execution_count": null,
      "outputs": []
    },
    {
      "cell_type": "code",
      "metadata": {
        "id": "jF5ABHEgUlQP"
      },
      "source": [
        "x"
      ],
      "execution_count": null,
      "outputs": []
    },
    {
      "cell_type": "markdown",
      "metadata": {
        "id": "Yc0srWz3VF15"
      },
      "source": [
        "Sample code for one-hot encoding from [scikit documentation](https://scikit-learn.org/stable/modules/preprocessing.html#encoding-categorical-features).\n",
        "```\n",
        ">>> genders = ['female', 'male']\n",
        ">>> locations = ['from Africa', 'from Asia', 'from Europe', 'from US']\n",
        ">>> browsers = ['uses Chrome', 'uses Firefox', 'uses IE', 'uses Safari']\n",
        ">>> enc = preprocessing.OneHotEncoder(categories=[genders, locations, browsers])\n",
        ">>> # Note that for there are missing categorical values for the 2nd and 3rd\n",
        ">>> # feature\n",
        ">>> X = [['male', 'from US', 'uses Safari'], ['female', 'from Europe', 'uses Firefox']]\n",
        ">>> enc.fit(X)\n",
        "OneHotEncoder(categories=[['female', 'male'],\n",
        "                          ['from Africa', 'from Asia', 'from Europe',\n",
        "                           'from US'],\n",
        "                          ['uses Chrome', 'uses Firefox', 'uses IE',\n",
        "                           'uses Safari']])\n",
        ">>> enc.transform([['female', 'from Asia', 'uses Chrome']]).toarray()\n",
        "array([[1., 0., 0., 1., 0., 0., 1., 0., 0., 0.]])\n",
        "```"
      ]
    },
    {
      "cell_type": "markdown",
      "metadata": {
        "id": "S4W-pZfPY9bu"
      },
      "source": [
        "## Exercise: try to transform the name colum using one-hot vector encoding."
      ]
    },
    {
      "cell_type": "markdown",
      "metadata": {
        "id": "db4jlWi5-wNb"
      },
      "source": [
        "# Subsetting"
      ]
    },
    {
      "cell_type": "markdown",
      "metadata": {
        "id": "tLNTq89craXx"
      },
      "source": [
        "## Forward and Backward Selection"
      ]
    },
    {
      "cell_type": "markdown",
      "metadata": {
        "id": "1pZ-KrDxItI-"
      },
      "source": [
        "Forward and backward selection works with sklearn version 0.24 onwards. \n",
        "\n",
        "Please update the sklearn, see the first codeblock in this colab.\n"
      ]
    },
    {
      "cell_type": "code",
      "metadata": {
        "colab": {
          "base_uri": "https://localhost:8080/"
        },
        "id": "CZnnRt-FGNSm",
        "outputId": "507e2454-f2a8-4b4f-fff0-d249d3899b4a"
      },
      "source": [
        "!pip show scikit-learn"
      ],
      "execution_count": null,
      "outputs": [
        {
          "output_type": "stream",
          "text": [
            "Name: scikit-learn\n",
            "Version: 0.24.2\n",
            "Summary: A set of python modules for machine learning and data mining\n",
            "Home-page: http://scikit-learn.org\n",
            "Author: None\n",
            "Author-email: None\n",
            "License: new BSD\n",
            "Location: /usr/local/lib/python3.7/dist-packages\n",
            "Requires: numpy, threadpoolctl, scipy, joblib\n",
            "Required-by: yellowbrick, textgenrnn, sklearn, sklearn-pandas, mlxtend, lightgbm, librosa, imbalanced-learn, fancyimpute\n"
          ],
          "name": "stdout"
        }
      ]
    },
    {
      "cell_type": "code",
      "metadata": {
        "id": "V7OwNlLLI76-"
      },
      "source": [
        "Y = df[['mpg']]\n",
        "X_unscaled = df[['cylinders', 'displacement', 'horsepower', 'weight',\n",
        "       'acceleration', 'year',]]\n",
        "\n",
        "X = min_max_scaler.fit_transform(X_unscaled)\n",
        "\n",
        "X_train, X_test, y_train, y_test = train_test_split(X, Y, test_size=0.25, random_state=1)\n"
      ],
      "execution_count": null,
      "outputs": []
    },
    {
      "cell_type": "code",
      "metadata": {
        "id": "I9Syp9t8rRgT",
        "colab": {
          "base_uri": "https://localhost:8080/"
        },
        "outputId": "49d4ef78-20a0-4fb7-888a-1a0303a106fe"
      },
      "source": [
        "# only available in sklearn version 0.24 and above\n",
        "# This code is modified from scikit's user guide\n",
        "\n",
        "from sklearn.feature_selection import SequentialFeatureSelector\n",
        "from time import time\n",
        "\n",
        "model = linear_module.LinearRegression()\n",
        "reg = model.fit(X_train, y_train)\n",
        "\n",
        "tic_fwd = time()\n",
        "sfs_forward = SequentialFeatureSelector(reg, n_features_to_select=2,\n",
        "                                        direction='forward').fit(X_train, y_train)\n",
        "toc_fwd = time()\n",
        "\n",
        "tic_bwd = time()\n",
        "#sfs_backward = SequentialFeatureSelector(reg,\n",
        "#                                         direction='backward').fit(X_train, y_train)\n",
        "toc_bwd = time()\n",
        "\n",
        "sfs_forward.get_support()\n",
        "toc_fwd = time()\n",
        "print(toc_fwd)\n",
        "print(tic_bwd)\n",
        "\n"
      ],
      "execution_count": null,
      "outputs": [
        {
          "output_type": "stream",
          "text": [
            "1621562357.1450992\n",
            "1621562357.1450076\n"
          ],
          "name": "stdout"
        }
      ]
    },
    {
      "cell_type": "code",
      "metadata": {
        "colab": {
          "base_uri": "https://localhost:8080/"
        },
        "id": "x75PTphIJkaj",
        "outputId": "ef25404b-df5c-47da-f468-d15cbfe9b6b8"
      },
      "source": [
        "X_unscaled.columns[sfs_forward.get_support()]"
      ],
      "execution_count": null,
      "outputs": [
        {
          "output_type": "execute_result",
          "data": {
            "text/plain": [
              "Index(['weight', 'year'], dtype='object')"
            ]
          },
          "metadata": {
            "tags": []
          },
          "execution_count": 72
        }
      ]
    },
    {
      "cell_type": "code",
      "metadata": {
        "colab": {
          "base_uri": "https://localhost:8080/"
        },
        "id": "XbwS3OVxJl2F",
        "outputId": "fb884888-1c04-426a-c50f-1b7e9ca6ead0"
      },
      "source": [
        "X_unscaled.columns[sfs_backward.get_support()]"
      ],
      "execution_count": null,
      "outputs": [
        {
          "output_type": "execute_result",
          "data": {
            "text/plain": [
              "Index(['cylinders', 'weight', 'year'], dtype='object')"
            ]
          },
          "metadata": {
            "tags": []
          },
          "execution_count": 53
        }
      ]
    },
    {
      "cell_type": "code",
      "metadata": {
        "colab": {
          "base_uri": "https://localhost:8080/"
        },
        "id": "lDvASZHqMB-c",
        "outputId": "0572d206-ea31-429c-c452-532861431dad"
      },
      "source": [
        "sfs_forward.get_params()"
      ],
      "execution_count": null,
      "outputs": [
        {
          "output_type": "execute_result",
          "data": {
            "text/plain": [
              "{'cv': 5,\n",
              " 'direction': 'forward',\n",
              " 'estimator': LinearRegression(),\n",
              " 'estimator__copy_X': True,\n",
              " 'estimator__fit_intercept': True,\n",
              " 'estimator__n_jobs': None,\n",
              " 'estimator__normalize': False,\n",
              " 'estimator__positive': False,\n",
              " 'n_features_to_select': 2,\n",
              " 'n_jobs': None,\n",
              " 'scoring': None}"
            ]
          },
          "metadata": {
            "tags": []
          },
          "execution_count": 73
        }
      ]
    },
    {
      "cell_type": "code",
      "metadata": {
        "colab": {
          "base_uri": "https://localhost:8080/"
        },
        "id": "f0GwYrovNQlc",
        "outputId": "943ad559-f22a-4b8c-85a1-f6960f54cfe6"
      },
      "source": [
        "X_train[0:5]"
      ],
      "execution_count": null,
      "outputs": [
        {
          "output_type": "execute_result",
          "data": {
            "text/plain": [
              "array([[0.6       , 0.34108527, 0.21195652, 0.41309895, 0.51785714,\n",
              "        0.66666667],\n",
              "       [1.        , 0.72868217, 0.5923913 , 0.77884888, 0.41071429,\n",
              "        0.75      ],\n",
              "       [0.2       , 0.0749354 , 0.22826087, 0.18882903, 0.6547619 ,\n",
              "        0.25      ],\n",
              "       [0.2       , 0.18604651, 0.14130435, 0.26991778, 0.33333333,\n",
              "        0.5       ],\n",
              "       [0.6       , 0.42377261, 0.29347826, 0.37765807, 0.47619048,\n",
              "        0.25      ]])"
            ]
          },
          "metadata": {
            "tags": []
          },
          "execution_count": 74
        }
      ]
    },
    {
      "cell_type": "code",
      "metadata": {
        "colab": {
          "base_uri": "https://localhost:8080/"
        },
        "id": "Egao8cFBLbTK",
        "outputId": "c09b5c45-19c4-409c-bab5-77330ee32284"
      },
      "source": [
        "\n",
        "y_predict = sfs_backward.estimator.predict(X_test)\n",
        "regression_test_rse = math.sqrt(mean_squared_error(y_predict, y_test))\n",
        "\n",
        "from sklearn.metrics import r2_score\n",
        "r2_score(y_test, y_predict)\n"
      ],
      "execution_count": null,
      "outputs": [
        {
          "output_type": "execute_result",
          "data": {
            "text/plain": [
              "0.815607088378637"
            ]
          },
          "metadata": {
            "tags": []
          },
          "execution_count": 69
        }
      ]
    },
    {
      "cell_type": "markdown",
      "metadata": {
        "id": "C9v6HdjRaIwX"
      },
      "source": [
        "## Advanced exercise: Try to do forward and backward selection by hand.\n",
        "\n",
        "Hint: you might have to write a function for not repeating the code."
      ]
    },
    {
      "cell_type": "markdown",
      "metadata": {
        "id": "-35F4xBB-o6S"
      },
      "source": [
        "# Regularization"
      ]
    },
    {
      "cell_type": "markdown",
      "metadata": {
        "id": "_UBaylHQKzir"
      },
      "source": [
        "## Ridge regression"
      ]
    },
    {
      "cell_type": "code",
      "metadata": {
        "colab": {
          "base_uri": "https://localhost:8080/"
        },
        "id": "6sJdfnV5MPjR",
        "outputId": "fbb72790-86c6-4931-f058-899eea379960"
      },
      "source": [
        "df.columns"
      ],
      "execution_count": null,
      "outputs": [
        {
          "output_type": "execute_result",
          "data": {
            "text/plain": [
              "Index(['mpg', 'cylinders', 'displacement', 'horsepower', 'weight',\n",
              "       'acceleration', 'year', 'origin', 'name', 'model_name'],\n",
              "      dtype='object')"
            ]
          },
          "metadata": {
            "tags": []
          },
          "execution_count": 26
        }
      ]
    },
    {
      "cell_type": "code",
      "metadata": {
        "colab": {
          "base_uri": "https://localhost:8080/"
        },
        "id": "avPlJmepK2Ma",
        "outputId": "eccf8d7e-164a-4d9c-e27b-bd64a5edf9a6"
      },
      "source": [
        "from sklearn.linear_model import Ridge\n",
        "\n",
        "Y = df[['mpg']]\n",
        "X = df[['cylinders', 'weight','displacement', 'horsepower', 'weight',\n",
        "       'acceleration', 'year',]]\n",
        "\n",
        "X_train, X_test, y_train, y_test = train_test_split(X, Y, test_size=0.25, random_state=1)\n",
        "\n",
        "\n",
        "regressor = Ridge(alpha=0.5)\n",
        "regressor.fit(X_train,y_train)\n",
        "y_predict = regressor.predict(X_test)\n",
        "regression_model_mse = mean_squared_error(y_predict, y_test)\n",
        "regression_test_rse = math.sqrt(mean_squared_error(y_predict, y_test))\n",
        "\n",
        "r2_score(y_test, y_predict)\n"
      ],
      "execution_count": null,
      "outputs": [
        {
          "output_type": "execute_result",
          "data": {
            "text/plain": [
              "0.8156111316717785"
            ]
          },
          "metadata": {
            "tags": []
          },
          "execution_count": 27
        }
      ]
    },
    {
      "cell_type": "code",
      "metadata": {
        "colab": {
          "base_uri": "https://localhost:8080/"
        },
        "id": "R5K9KtaUM0eL",
        "outputId": "3ef3ec96-5c9e-4dac-f883-a0140e14d016"
      },
      "source": [
        "reg.intercept_"
      ],
      "execution_count": null,
      "outputs": [
        {
          "output_type": "execute_result",
          "data": {
            "text/plain": [
              "array([23.18234238])"
            ]
          },
          "metadata": {
            "tags": []
          },
          "execution_count": 28
        }
      ]
    },
    {
      "cell_type": "code",
      "metadata": {
        "colab": {
          "base_uri": "https://localhost:8080/"
        },
        "id": "vE_OVfl7M7eu",
        "outputId": "1a029990-4204-48ed-f9da-edc1cce91a13"
      },
      "source": [
        "reg.coef_"
      ],
      "execution_count": null,
      "outputs": [
        {
          "output_type": "execute_result",
          "data": {
            "text/plain": [
              "array([[-1.02668016, -5.3412581 ]])"
            ]
          },
          "metadata": {
            "tags": []
          },
          "execution_count": 29
        }
      ]
    },
    {
      "cell_type": "markdown",
      "metadata": {
        "id": "iGRfkZZZOh1l"
      },
      "source": [
        "## Ridge with Cross validation and multiple alphas"
      ]
    },
    {
      "cell_type": "code",
      "metadata": {
        "colab": {
          "base_uri": "https://localhost:8080/"
        },
        "id": "03OwhcvROg-D",
        "outputId": "810251d5-53dd-4332-fc69-3e683c49309f"
      },
      "source": [
        "from sklearn.linear_model import RidgeCV\n",
        "\n",
        "Y = df[['mpg']]\n",
        "X = df[['cylinders', 'weight','displacement', 'horsepower', 'weight',\n",
        "       'acceleration', 'year',]]\n",
        "\n",
        "X_train, X_test, y_train, y_test = train_test_split(X, Y, test_size=0.25, random_state=1)\n",
        "\n",
        "\n",
        "ridge_regressor = RidgeCV(cv=5, alphas = [0.01,0.1, 0.5])\n",
        "ridge_regressor.fit(X_train,y_train)\n",
        "y_predict = ridge_regressor.predict(X_test)\n",
        "regression_model_mse = mean_squared_error(y_predict, y_test)\n",
        "regression_test_rse = math.sqrt(mean_squared_error(y_predict, y_test))\n",
        "\n",
        "r2_score(y_test, y_predict)\n"
      ],
      "execution_count": null,
      "outputs": [
        {
          "output_type": "execute_result",
          "data": {
            "text/plain": [
              "0.8156111316717785"
            ]
          },
          "metadata": {
            "tags": []
          },
          "execution_count": 30
        }
      ]
    },
    {
      "cell_type": "code",
      "metadata": {
        "colab": {
          "base_uri": "https://localhost:8080/"
        },
        "id": "nbj0g1YBO86v",
        "outputId": "f030ffd7-83ec-4c12-e33b-582619da8667"
      },
      "source": [
        "ridge_regressor.coef_"
      ],
      "execution_count": null,
      "outputs": [
        {
          "output_type": "execute_result",
          "data": {
            "text/plain": [
              "array([[-0.0032221 , -0.00358241,  0.00575653,  0.0069847 , -0.00358241,\n",
              "         0.19585679,  0.75796577]])"
            ]
          },
          "metadata": {
            "tags": []
          },
          "execution_count": 31
        }
      ]
    },
    {
      "cell_type": "code",
      "metadata": {
        "colab": {
          "base_uri": "https://localhost:8080/"
        },
        "id": "qBmg3DxoV5MK",
        "outputId": "fd78dc10-9632-48c8-8cd5-55f6c14a5cfa"
      },
      "source": [
        "ridge_regressor.alpha_"
      ],
      "execution_count": null,
      "outputs": [
        {
          "output_type": "execute_result",
          "data": {
            "text/plain": [
              "0.5"
            ]
          },
          "metadata": {
            "tags": []
          },
          "execution_count": 32
        }
      ]
    },
    {
      "cell_type": "markdown",
      "metadata": {
        "id": "6_ZxrECILFjH"
      },
      "source": [
        "## Lasso regression\n"
      ]
    },
    {
      "cell_type": "code",
      "metadata": {
        "colab": {
          "base_uri": "https://localhost:8080/"
        },
        "id": "GDAi4TKKLIH2",
        "outputId": "53d5f026-43fc-4487-ac45-45b0d9864498"
      },
      "source": [
        "from sklearn.linear_model import LassoCV\n",
        "lasso_regressor = LassoCV(alphas=[0.001, 0.01, 0.1, 0.25, 0.5, 0.75, 1, 5, 10, 50, 100, 1000 ])\n",
        "lasso_regressor.fit(X_train,y_train)\n",
        "y_predict = lasso_regressor.predict(X_test)\n",
        "regression_model_mse = mean_squared_error(y_predict, y_test)\n",
        "regression_test_rse = math.sqrt(mean_squared_error(y_predict, y_test))\n",
        "\n",
        "r2_score(y_test, y_predict)\n",
        "      "
      ],
      "execution_count": null,
      "outputs": [
        {
          "output_type": "stream",
          "text": [
            "/usr/local/lib/python3.7/dist-packages/sklearn/utils/validation.py:63: DataConversionWarning: A column-vector y was passed when a 1d array was expected. Please change the shape of y to (n_samples, ), for example using ravel().\n",
            "  return f(*args, **kwargs)\n"
          ],
          "name": "stderr"
        },
        {
          "output_type": "execute_result",
          "data": {
            "text/plain": [
              "0.8168435024164283"
            ]
          },
          "metadata": {
            "tags": []
          },
          "execution_count": 110
        }
      ]
    },
    {
      "cell_type": "code",
      "metadata": {
        "colab": {
          "base_uri": "https://localhost:8080/"
        },
        "id": "21Nj-meoVqBc",
        "outputId": "708138d7-ed6f-4164-d6b0-f4d419dec740"
      },
      "source": [
        "lasso_regressor.alpha_"
      ],
      "execution_count": null,
      "outputs": [
        {
          "output_type": "execute_result",
          "data": {
            "text/plain": [
              "0.1"
            ]
          },
          "metadata": {
            "tags": []
          },
          "execution_count": 111
        }
      ]
    },
    {
      "cell_type": "code",
      "metadata": {
        "colab": {
          "base_uri": "https://localhost:8080/"
        },
        "id": "LO0Q-UM9Mf2L",
        "outputId": "1bc96a48-552b-47a0-aed8-a92a2d9648e9"
      },
      "source": [
        "lasso_regressor.coef_"
      ],
      "execution_count": null,
      "outputs": [
        {
          "output_type": "execute_result",
          "data": {
            "text/plain": [
              "array([-0.00000000e+00, -6.30857485e-03,  5.04218446e-03,  2.69262239e-03,\n",
              "       -6.81163980e-04,  1.56316561e-01,  7.47039931e-01])"
            ]
          },
          "metadata": {
            "tags": []
          },
          "execution_count": 112
        }
      ]
    },
    {
      "cell_type": "markdown",
      "metadata": {
        "id": "DarUwn0rMtbG"
      },
      "source": [
        "Standard scaling with two variables gave an r2 score of 0.733.  Ridge and Lasso perform better."
      ]
    },
    {
      "cell_type": "code",
      "metadata": {
        "id": "E8DpPb48MzRZ"
      },
      "source": [
        ""
      ],
      "execution_count": null,
      "outputs": []
    },
    {
      "cell_type": "markdown",
      "metadata": {
        "id": "TdLwT1PkPuTj"
      },
      "source": [
        "## Polynomial Fit\n",
        "\n",
        "The displacement vs. mpg curve looks like a quadratic  curve."
      ]
    },
    {
      "cell_type": "code",
      "metadata": {
        "colab": {
          "base_uri": "https://localhost:8080/",
          "height": 214
        },
        "id": "FBmSv0F_PwCK",
        "outputId": "8ad45d9c-739c-4563-d0fd-404b8ba5578b"
      },
      "source": [
        "sns.pairplot(df, y_vars=\"mpg\", x_vars=[\"displacement\", \"horsepower\", \n",
        "                   \"weight\"])"
      ],
      "execution_count": null,
      "outputs": [
        {
          "output_type": "execute_result",
          "data": {
            "text/plain": [
              "<seaborn.axisgrid.PairGrid at 0x7f68a3549690>"
            ]
          },
          "metadata": {
            "tags": []
          },
          "execution_count": 34
        },
        {
          "output_type": "display_data",
          "data": {
            "image/png": "[encoded data removed]",
            "text/plain": [
              "<Figure size 540x180 with 3 Axes>"
            ]
          },
          "metadata": {
            "tags": [],
            "needs_background": "light"
          }
        }
      ]
    },
    {
      "cell_type": "code",
      "metadata": {
        "id": "uV7B2Ol4Q0kG"
      },
      "source": [
        ""
      ],
      "execution_count": null,
      "outputs": []
    },
    {
      "cell_type": "code",
      "metadata": {
        "colab": {
          "base_uri": "https://localhost:8080/"
        },
        "id": "QP9MGycWQNO8",
        "outputId": "eee766e8-b9d5-4395-94f5-d849c5241b61"
      },
      "source": [
        "from sklearn.preprocessing import MinMaxScaler\n",
        "from sklearn.preprocessing import PolynomialFeatures\n",
        "from sklearn.linear_model import LinearRegression\n",
        "from sklearn.pipeline import Pipeline\n",
        "\n",
        "\n",
        "Y = df[['mpg']]\n",
        "X = df[['weight','displacement', 'horsepower']]\n",
        "\n",
        "X_train, X_test, y_train, y_test = train_test_split(X, Y, test_size=0.25, random_state=1)\n",
        "\n",
        "regressor = Pipeline([('scaler', MinMaxScaler()), \n",
        "                      ('poly', PolynomialFeatures(degree=2)),\n",
        "                      ('linear', LinearRegression())])\n",
        "\n",
        "regressor.fit(X_train,y_train)\n",
        "y_predict = regressor.predict(X_test)\n",
        "regression_model_mse = mean_squared_error(y_predict, y_test)\n",
        "regression_test_rse = math.sqrt(mean_squared_error(y_predict, y_test))\n",
        "\n",
        "r2_score(y_test, y_predict)\n"
      ],
      "execution_count": null,
      "outputs": [
        {
          "output_type": "execute_result",
          "data": {
            "text/plain": [
              "0.7540318300559887"
            ]
          },
          "metadata": {
            "tags": []
          },
          "execution_count": 47
        }
      ]
    },
    {
      "cell_type": "markdown",
      "metadata": {
        "id": "K6uOZ4rTRzHd"
      },
      "source": [
        "This is slightly better than the linear model."
      ]
    },
    {
      "cell_type": "code",
      "metadata": {
        "colab": {
          "base_uri": "https://localhost:8080/"
        },
        "id": "icuLVDG0Q5jI",
        "outputId": "dc35ed68-9e56-4826-92cd-417349766335"
      },
      "source": [
        "regressor = LinearRegression()\n",
        "regressor.fit(X_train,y_train)\n",
        "y_predict = regressor.predict(X_test)\n",
        "regression_model_mse = mean_squared_error(y_predict, y_test)\n",
        "regression_test_rse = math.sqrt(mean_squared_error(y_predict, y_test))\n",
        "\n",
        "r2_score(y_test, y_predict)"
      ],
      "execution_count": null,
      "outputs": [
        {
          "output_type": "execute_result",
          "data": {
            "text/plain": [
              "0.7305924852307124"
            ]
          },
          "metadata": {
            "tags": []
          },
          "execution_count": 48
        }
      ]
    },
    {
      "cell_type": "markdown",
      "metadata": {
        "id": "cDPc8KPNTaqh"
      },
      "source": [
        "https://scikit-learn.org/stable/modules/linear_model.html#polynomial-regression-extending-linear-models-with-basis-functions"
      ]
    },
    {
      "cell_type": "code",
      "metadata": {
        "id": "mwxXVIcoRxCh"
      },
      "source": [
        ""
      ],
      "execution_count": null,
      "outputs": []
    }
  ]
}