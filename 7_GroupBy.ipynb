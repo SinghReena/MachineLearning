{
  "nbformat": 4,
  "nbformat_minor": 0,
  "metadata": {
    "colab": {
      "name": "7. GroupBy.ipynb",
      "provenance": [],
      "toc_visible": true,
      "include_colab_link": true
    },
    "kernelspec": {
      "name": "python3",
      "display_name": "Python 3"
    }
  },
  "cells": [
    {
      "cell_type": "markdown",
      "metadata": {
        "id": "view-in-github",
        "colab_type": "text"
      },
      "source": [
        "<a href=\"https://colab.research.google.com/github/SinghReena/MachineLearning/blob/master/7_GroupBy.ipynb\" target=\"_parent\"><img src=\"https://colab.research.google.com/assets/colab-badge.svg\" alt=\"Open In Colab\"/></a>"
      ]
    },
    {
      "cell_type": "code",
      "metadata": {
        "id": "tpWlY8_xMp7u"
      },
      "source": [
        "import pandas as pd\n",
        "import numpy as np"
      ],
      "execution_count": null,
      "outputs": []
    },
    {
      "cell_type": "markdown",
      "metadata": {
        "id": "rDqfKnoG_JgU"
      },
      "source": [
        "## Motivation for GroupBy\n",
        "\n",
        "Suppose we have a dataset that can be grouped by many attributes. We want to compute statistics on the various subsets based on groups. How can we do it efficiently?\n",
        "\n",
        "Here's a dataset with 9 students, their gender and year is given.  What if we want to compute the average of each gender?  Or based on year?  Or based on both?  We should subset exhaustively by hand."
      ]
    },
    {
      "cell_type": "code",
      "metadata": {
        "colab": {
          "base_uri": "https://localhost:8080/",
          "height": 314
        },
        "id": "c361aITlMtsA",
        "outputId": "e37078c5-d7fa-486b-ecb6-a96f50212db4"
      },
      "source": [
        "df = pd.DataFrame({'name' : ['Alice', 'Bob', 'Charlie', 'Daniele', 'Eva', 'Frank', 'Gus', 'Harriet', 'Ivan'],\n",
        "                   'gender' : ['F', 'M', 'M', 'F', 'F', 'M', 'M', 'F', 'M'],\n",
        "                   'year' : ['junior', 'senior', 'junior', 'senior', 'junior', 'senior', 'junior', 'senior', 'junior'],\n",
        "                   'data1' : np.random.randint(0, 10,9),\n",
        "                   'data2' : np.random.randint(11, 19, 9)})\n",
        "df"
      ],
      "execution_count": null,
      "outputs": [
        {
          "output_type": "execute_result",
          "data": {
            "text/html": [
              "<div>\n",
              "<style scoped>\n",
              "    .dataframe tbody tr th:only-of-type {\n",
              "        vertical-align: middle;\n",
              "    }\n",
              "\n",
              "    .dataframe tbody tr th {\n",
              "        vertical-align: top;\n",
              "    }\n",
              "\n",
              "    .dataframe thead th {\n",
              "        text-align: right;\n",
              "    }\n",
              "</style>\n",
              "<table border=\"1\" class=\"dataframe\">\n",
              "  <thead>\n",
              "    <tr style=\"text-align: right;\">\n",
              "      <th></th>\n",
              "      <th>name</th>\n",
              "      <th>gender</th>\n",
              "      <th>year</th>\n",
              "      <th>data1</th>\n",
              "      <th>data2</th>\n",
              "    </tr>\n",
              "  </thead>\n",
              "  <tbody>\n",
              "    <tr>\n",
              "      <th>0</th>\n",
              "      <td>Alice</td>\n",
              "      <td>F</td>\n",
              "      <td>junior</td>\n",
              "      <td>6</td>\n",
              "      <td>14</td>\n",
              "    </tr>\n",
              "    <tr>\n",
              "      <th>1</th>\n",
              "      <td>Bob</td>\n",
              "      <td>M</td>\n",
              "      <td>senior</td>\n",
              "      <td>7</td>\n",
              "      <td>12</td>\n",
              "    </tr>\n",
              "    <tr>\n",
              "      <th>2</th>\n",
              "      <td>Charlie</td>\n",
              "      <td>M</td>\n",
              "      <td>junior</td>\n",
              "      <td>5</td>\n",
              "      <td>13</td>\n",
              "    </tr>\n",
              "    <tr>\n",
              "      <th>3</th>\n",
              "      <td>Daniele</td>\n",
              "      <td>F</td>\n",
              "      <td>senior</td>\n",
              "      <td>6</td>\n",
              "      <td>14</td>\n",
              "    </tr>\n",
              "    <tr>\n",
              "      <th>4</th>\n",
              "      <td>Eva</td>\n",
              "      <td>F</td>\n",
              "      <td>junior</td>\n",
              "      <td>0</td>\n",
              "      <td>14</td>\n",
              "    </tr>\n",
              "    <tr>\n",
              "      <th>5</th>\n",
              "      <td>Frank</td>\n",
              "      <td>M</td>\n",
              "      <td>senior</td>\n",
              "      <td>2</td>\n",
              "      <td>18</td>\n",
              "    </tr>\n",
              "    <tr>\n",
              "      <th>6</th>\n",
              "      <td>Gus</td>\n",
              "      <td>M</td>\n",
              "      <td>junior</td>\n",
              "      <td>4</td>\n",
              "      <td>15</td>\n",
              "    </tr>\n",
              "    <tr>\n",
              "      <th>7</th>\n",
              "      <td>Harriet</td>\n",
              "      <td>F</td>\n",
              "      <td>senior</td>\n",
              "      <td>4</td>\n",
              "      <td>13</td>\n",
              "    </tr>\n",
              "    <tr>\n",
              "      <th>8</th>\n",
              "      <td>Ivan</td>\n",
              "      <td>M</td>\n",
              "      <td>junior</td>\n",
              "      <td>0</td>\n",
              "      <td>12</td>\n",
              "    </tr>\n",
              "  </tbody>\n",
              "</table>\n",
              "</div>"
            ],
            "text/plain": [
              "      name gender    year  data1  data2\n",
              "0    Alice      F  junior      6     14\n",
              "1      Bob      M  senior      7     12\n",
              "2  Charlie      M  junior      5     13\n",
              "3  Daniele      F  senior      6     14\n",
              "4      Eva      F  junior      0     14\n",
              "5    Frank      M  senior      2     18\n",
              "6      Gus      M  junior      4     15\n",
              "7  Harriet      F  senior      4     13\n",
              "8     Ivan      M  junior      0     12"
            ]
          },
          "metadata": {
            "tags": []
          },
          "execution_count": 2
        }
      ]
    },
    {
      "cell_type": "code",
      "metadata": {
        "id": "vif21tns5LeV"
      },
      "source": [
        "d2 = df.data2"
      ],
      "execution_count": null,
      "outputs": []
    },
    {
      "cell_type": "code",
      "metadata": {
        "colab": {
          "base_uri": "https://localhost:8080/"
        },
        "id": "lGVuQkPy5OtW",
        "outputId": "11870d2e-31f9-401d-aa8b-31f784083528"
      },
      "source": [
        "d2.iloc[1] = 27\n"
      ],
      "execution_count": null,
      "outputs": [
        {
          "output_type": "stream",
          "text": [
            "/usr/local/lib/python3.7/dist-packages/pandas/core/indexing.py:670: SettingWithCopyWarning: \n",
            "A value is trying to be set on a copy of a slice from a DataFrame\n",
            "\n",
            "See the caveats in the documentation: https://pandas.pydata.org/pandas-docs/stable/user_guide/indexing.html#returning-a-view-versus-a-copy\n",
            "  iloc._setitem_with_indexer(indexer, value)\n"
          ],
          "name": "stderr"
        }
      ]
    },
    {
      "cell_type": "code",
      "metadata": {
        "colab": {
          "base_uri": "https://localhost:8080/",
          "height": 314
        },
        "id": "7jKlp7A-5UH0",
        "outputId": "5caaa5a2-78ee-4e37-ed6f-e13e6032c483"
      },
      "source": [
        "df\n"
      ],
      "execution_count": null,
      "outputs": [
        {
          "output_type": "execute_result",
          "data": {
            "text/html": [
              "<div>\n",
              "<style scoped>\n",
              "    .dataframe tbody tr th:only-of-type {\n",
              "        vertical-align: middle;\n",
              "    }\n",
              "\n",
              "    .dataframe tbody tr th {\n",
              "        vertical-align: top;\n",
              "    }\n",
              "\n",
              "    .dataframe thead th {\n",
              "        text-align: right;\n",
              "    }\n",
              "</style>\n",
              "<table border=\"1\" class=\"dataframe\">\n",
              "  <thead>\n",
              "    <tr style=\"text-align: right;\">\n",
              "      <th></th>\n",
              "      <th>name</th>\n",
              "      <th>gender</th>\n",
              "      <th>year</th>\n",
              "      <th>data1</th>\n",
              "      <th>data2</th>\n",
              "    </tr>\n",
              "  </thead>\n",
              "  <tbody>\n",
              "    <tr>\n",
              "      <th>0</th>\n",
              "      <td>Alice</td>\n",
              "      <td>F</td>\n",
              "      <td>junior</td>\n",
              "      <td>8</td>\n",
              "      <td>12</td>\n",
              "    </tr>\n",
              "    <tr>\n",
              "      <th>1</th>\n",
              "      <td>Bob</td>\n",
              "      <td>M</td>\n",
              "      <td>senior</td>\n",
              "      <td>0</td>\n",
              "      <td>27</td>\n",
              "    </tr>\n",
              "    <tr>\n",
              "      <th>2</th>\n",
              "      <td>Charlie</td>\n",
              "      <td>M</td>\n",
              "      <td>junior</td>\n",
              "      <td>7</td>\n",
              "      <td>13</td>\n",
              "    </tr>\n",
              "    <tr>\n",
              "      <th>3</th>\n",
              "      <td>Daniele</td>\n",
              "      <td>F</td>\n",
              "      <td>senior</td>\n",
              "      <td>3</td>\n",
              "      <td>13</td>\n",
              "    </tr>\n",
              "    <tr>\n",
              "      <th>4</th>\n",
              "      <td>Eva</td>\n",
              "      <td>F</td>\n",
              "      <td>junior</td>\n",
              "      <td>6</td>\n",
              "      <td>12</td>\n",
              "    </tr>\n",
              "    <tr>\n",
              "      <th>5</th>\n",
              "      <td>Frank</td>\n",
              "      <td>M</td>\n",
              "      <td>senior</td>\n",
              "      <td>6</td>\n",
              "      <td>12</td>\n",
              "    </tr>\n",
              "    <tr>\n",
              "      <th>6</th>\n",
              "      <td>Gus</td>\n",
              "      <td>M</td>\n",
              "      <td>junior</td>\n",
              "      <td>1</td>\n",
              "      <td>14</td>\n",
              "    </tr>\n",
              "    <tr>\n",
              "      <th>7</th>\n",
              "      <td>Harriet</td>\n",
              "      <td>F</td>\n",
              "      <td>senior</td>\n",
              "      <td>3</td>\n",
              "      <td>14</td>\n",
              "    </tr>\n",
              "    <tr>\n",
              "      <th>8</th>\n",
              "      <td>Ivan</td>\n",
              "      <td>M</td>\n",
              "      <td>junior</td>\n",
              "      <td>8</td>\n",
              "      <td>11</td>\n",
              "    </tr>\n",
              "  </tbody>\n",
              "</table>\n",
              "</div>"
            ],
            "text/plain": [
              "      name gender    year  data1  data2\n",
              "0    Alice      F  junior      8     12\n",
              "1      Bob      M  senior      0     27\n",
              "2  Charlie      M  junior      7     13\n",
              "3  Daniele      F  senior      3     13\n",
              "4      Eva      F  junior      6     12\n",
              "5    Frank      M  senior      6     12\n",
              "6      Gus      M  junior      1     14\n",
              "7  Harriet      F  senior      3     14\n",
              "8     Ivan      M  junior      8     11"
            ]
          },
          "metadata": {
            "tags": []
          },
          "execution_count": 7
        }
      ]
    },
    {
      "cell_type": "markdown",
      "metadata": {
        "id": "Uylk5J34_007"
      },
      "source": [
        "To compute mean scores based on gender, first compute the average for `M`, then for `F`."
      ]
    },
    {
      "cell_type": "code",
      "metadata": {
        "colab": {
          "base_uri": "https://localhost:8080/"
        },
        "id": "KaZiryFy_zML",
        "outputId": "f1c5e926-a559-4608-d6cb-cf33c49c474e"
      },
      "source": [
        "df[df['gender'] == 'M'].mean()"
      ],
      "execution_count": null,
      "outputs": [
        {
          "output_type": "execute_result",
          "data": {
            "text/plain": [
              "data1     6.2\n",
              "data2    16.2\n",
              "dtype: float64"
            ]
          },
          "metadata": {
            "tags": []
          },
          "execution_count": 46
        }
      ]
    },
    {
      "cell_type": "code",
      "metadata": {
        "colab": {
          "base_uri": "https://localhost:8080/"
        },
        "id": "ni-TavTfAZ5U",
        "outputId": "2c000294-5306-487c-e42c-150a051a5ff3"
      },
      "source": [
        "df[df['gender'] == 'F'].mean()"
      ],
      "execution_count": null,
      "outputs": [
        {
          "output_type": "execute_result",
          "data": {
            "text/plain": [
              "data1     5.50\n",
              "data2    15.25\n",
              "dtype: float64"
            ]
          },
          "metadata": {
            "tags": []
          },
          "execution_count": 47
        }
      ]
    },
    {
      "cell_type": "markdown",
      "metadata": {
        "id": "7BZacy4OAcl4"
      },
      "source": [
        "When there are more then two groups we have to repeat the process multiple times. Each of these has to be computed by hand and stored separately. This task is tedious and error-prone.  Further computations, example plotting, will be hard. What if we could do this automatically?  \n",
        "\n",
        "Enter GroupBy."
      ]
    },
    {
      "cell_type": "markdown",
      "metadata": {
        "id": "iRqZ0Sy7AmnK"
      },
      "source": [
        "## GroupBy and Split-Apply-Combine\n",
        "\n",
        "GroupBy in Pandas is a way to group the data into subsets to which we can apply an operation. We will apply one or more of the following steps.\n",
        "\n",
        "- **Splitting** the data into groups\n",
        "- **Apply** a function on the groups\n",
        "- **Combine** the results in a datastructure.\n",
        "\n",
        "This is a powerful concept.  We can use the apply function for many tasks. Some examples:\n",
        "- We can compute sample statistics --- mean, median, count, standard deviation etc. on these groups.\n",
        "- Fill the missing values in each group separately based on the mean of the group, rather than the entire data.\n",
        "- Filter groups based on some criteria.  Outlier groups based on average, size etc.\n",
        "\n"
      ]
    },
    {
      "cell_type": "markdown",
      "metadata": {
        "id": "62dGkD4MChTW"
      },
      "source": [
        "**Analogy to SQL**\n",
        "\n",
        "SQL has a `GROUPBY`.\n",
        "\n",
        "```\n",
        "SELECT GENDER, YEAR, mean(data1), sum(data2)\n",
        "FROM ScoresTable\n",
        "GROUP BY GENDER, YEAR\n",
        "ORDER BY GENDER, YEAR;\n",
        "```\n"
      ]
    },
    {
      "cell_type": "markdown",
      "metadata": {
        "id": "KYWgyTZDFTDM"
      },
      "source": [
        "A simple groupby to list means of the two columns, grouped by `gender`."
      ]
    },
    {
      "cell_type": "code",
      "metadata": {
        "colab": {
          "base_uri": "https://localhost:8080/",
          "height": 143
        },
        "id": "2fwtJuOW68aT",
        "outputId": "5d92874d-a9d5-440c-951b-b7fc26b85851"
      },
      "source": [
        "df.groupby(['gender']).mean()"
      ],
      "execution_count": null,
      "outputs": [
        {
          "output_type": "execute_result",
          "data": {
            "text/html": [
              "<div>\n",
              "<style scoped>\n",
              "    .dataframe tbody tr th:only-of-type {\n",
              "        vertical-align: middle;\n",
              "    }\n",
              "\n",
              "    .dataframe tbody tr th {\n",
              "        vertical-align: top;\n",
              "    }\n",
              "\n",
              "    .dataframe thead th {\n",
              "        text-align: right;\n",
              "    }\n",
              "</style>\n",
              "<table border=\"1\" class=\"dataframe\">\n",
              "  <thead>\n",
              "    <tr style=\"text-align: right;\">\n",
              "      <th></th>\n",
              "      <th>data1</th>\n",
              "      <th>data2</th>\n",
              "    </tr>\n",
              "    <tr>\n",
              "      <th>gender</th>\n",
              "      <th></th>\n",
              "      <th></th>\n",
              "    </tr>\n",
              "  </thead>\n",
              "  <tbody>\n",
              "    <tr>\n",
              "      <th>F</th>\n",
              "      <td>4.75</td>\n",
              "      <td>15.75</td>\n",
              "    </tr>\n",
              "    <tr>\n",
              "      <th>M</th>\n",
              "      <td>4.60</td>\n",
              "      <td>14.60</td>\n",
              "    </tr>\n",
              "  </tbody>\n",
              "</table>\n",
              "</div>"
            ],
            "text/plain": [
              "        data1  data2\n",
              "gender              \n",
              "F        4.75  15.75\n",
              "M        4.60  14.60"
            ]
          },
          "metadata": {
            "tags": []
          },
          "execution_count": 22
        }
      ]
    },
    {
      "cell_type": "code",
      "metadata": {
        "colab": {
          "base_uri": "https://localhost:8080/"
        },
        "id": "yotfxb3k7KGN",
        "outputId": "4b29ab7e-a38d-4020-a1ff-9c3a3489f83b"
      },
      "source": [
        "df.groupby(['gender'])['name'].count()"
      ],
      "execution_count": null,
      "outputs": [
        {
          "output_type": "execute_result",
          "data": {
            "text/plain": [
              "gender\n",
              "F    4\n",
              "M    5\n",
              "Name: name, dtype: int64"
            ]
          },
          "metadata": {
            "tags": []
          },
          "execution_count": 7
        }
      ]
    },
    {
      "cell_type": "markdown",
      "metadata": {
        "id": "DkF1sVN2IPDd"
      },
      "source": [
        "### Groupby with multiple columns\n",
        "\n",
        "This creates a hierarchical clustering."
      ]
    },
    {
      "cell_type": "code",
      "metadata": {
        "colab": {
          "base_uri": "https://localhost:8080/",
          "height": 206
        },
        "id": "HYQKqtdj7Nno",
        "outputId": "707fe41b-0d5c-4a65-f67c-17598d94e563"
      },
      "source": [
        "df.groupby(['gender', 'year']).mean()"
      ],
      "execution_count": null,
      "outputs": [
        {
          "output_type": "execute_result",
          "data": {
            "text/html": [
              "<div>\n",
              "<style scoped>\n",
              "    .dataframe tbody tr th:only-of-type {\n",
              "        vertical-align: middle;\n",
              "    }\n",
              "\n",
              "    .dataframe tbody tr th {\n",
              "        vertical-align: top;\n",
              "    }\n",
              "\n",
              "    .dataframe thead th {\n",
              "        text-align: right;\n",
              "    }\n",
              "</style>\n",
              "<table border=\"1\" class=\"dataframe\">\n",
              "  <thead>\n",
              "    <tr style=\"text-align: right;\">\n",
              "      <th></th>\n",
              "      <th></th>\n",
              "      <th>data1</th>\n",
              "      <th>data2</th>\n",
              "    </tr>\n",
              "    <tr>\n",
              "      <th>gender</th>\n",
              "      <th>year</th>\n",
              "      <th></th>\n",
              "      <th></th>\n",
              "    </tr>\n",
              "  </thead>\n",
              "  <tbody>\n",
              "    <tr>\n",
              "      <th rowspan=\"2\" valign=\"top\">F</th>\n",
              "      <th>junior</th>\n",
              "      <td>4.000000</td>\n",
              "      <td>15.000000</td>\n",
              "    </tr>\n",
              "    <tr>\n",
              "      <th>senior</th>\n",
              "      <td>5.500000</td>\n",
              "      <td>16.500000</td>\n",
              "    </tr>\n",
              "    <tr>\n",
              "      <th rowspan=\"2\" valign=\"top\">M</th>\n",
              "      <th>junior</th>\n",
              "      <td>1.666667</td>\n",
              "      <td>14.666667</td>\n",
              "    </tr>\n",
              "    <tr>\n",
              "      <th>senior</th>\n",
              "      <td>9.000000</td>\n",
              "      <td>14.500000</td>\n",
              "    </tr>\n",
              "  </tbody>\n",
              "</table>\n",
              "</div>"
            ],
            "text/plain": [
              "                  data1      data2\n",
              "gender year                       \n",
              "F      junior  4.000000  15.000000\n",
              "       senior  5.500000  16.500000\n",
              "M      junior  1.666667  14.666667\n",
              "       senior  9.000000  14.500000"
            ]
          },
          "metadata": {
            "tags": []
          },
          "execution_count": 25
        }
      ]
    },
    {
      "cell_type": "markdown",
      "metadata": {
        "id": "jejpnKQYIXe_"
      },
      "source": [
        "We can also reverse the order to get a different hierarchy.  (But the computated values of the corresponding groups are the same.)"
      ]
    },
    {
      "cell_type": "code",
      "metadata": {
        "colab": {
          "base_uri": "https://localhost:8080/",
          "height": 206
        },
        "id": "ov_61XXk8kRl",
        "outputId": "3df90b9a-5b6e-45c7-ab1a-46ba727d75f9"
      },
      "source": [
        "df.groupby(['year', 'gender']).mean()"
      ],
      "execution_count": null,
      "outputs": [
        {
          "output_type": "execute_result",
          "data": {
            "text/html": [
              "<div>\n",
              "<style scoped>\n",
              "    .dataframe tbody tr th:only-of-type {\n",
              "        vertical-align: middle;\n",
              "    }\n",
              "\n",
              "    .dataframe tbody tr th {\n",
              "        vertical-align: top;\n",
              "    }\n",
              "\n",
              "    .dataframe thead th {\n",
              "        text-align: right;\n",
              "    }\n",
              "</style>\n",
              "<table border=\"1\" class=\"dataframe\">\n",
              "  <thead>\n",
              "    <tr style=\"text-align: right;\">\n",
              "      <th></th>\n",
              "      <th></th>\n",
              "      <th>data1</th>\n",
              "      <th>data2</th>\n",
              "    </tr>\n",
              "    <tr>\n",
              "      <th>year</th>\n",
              "      <th>gender</th>\n",
              "      <th></th>\n",
              "      <th></th>\n",
              "    </tr>\n",
              "  </thead>\n",
              "  <tbody>\n",
              "    <tr>\n",
              "      <th rowspan=\"2\" valign=\"top\">junior</th>\n",
              "      <th>F</th>\n",
              "      <td>4.000000</td>\n",
              "      <td>15.000000</td>\n",
              "    </tr>\n",
              "    <tr>\n",
              "      <th>M</th>\n",
              "      <td>1.666667</td>\n",
              "      <td>14.666667</td>\n",
              "    </tr>\n",
              "    <tr>\n",
              "      <th rowspan=\"2\" valign=\"top\">senior</th>\n",
              "      <th>F</th>\n",
              "      <td>5.500000</td>\n",
              "      <td>16.500000</td>\n",
              "    </tr>\n",
              "    <tr>\n",
              "      <th>M</th>\n",
              "      <td>9.000000</td>\n",
              "      <td>14.500000</td>\n",
              "    </tr>\n",
              "  </tbody>\n",
              "</table>\n",
              "</div>"
            ],
            "text/plain": [
              "                  data1      data2\n",
              "year   gender                     \n",
              "junior F       4.000000  15.000000\n",
              "       M       1.666667  14.666667\n",
              "senior F       5.500000  16.500000\n",
              "       M       9.000000  14.500000"
            ]
          },
          "metadata": {
            "tags": []
          },
          "execution_count": 26
        }
      ]
    },
    {
      "cell_type": "code",
      "metadata": {
        "colab": {
          "base_uri": "https://localhost:8080/",
          "height": 206
        },
        "id": "_m7i_uHw8nIe",
        "outputId": "ad3b450d-cd3d-4d27-94bb-7c3e12d3c7d1"
      },
      "source": [
        "df.groupby(['gender', 'year']).mean()"
      ],
      "execution_count": null,
      "outputs": [
        {
          "output_type": "execute_result",
          "data": {
            "text/html": [
              "<div>\n",
              "<style scoped>\n",
              "    .dataframe tbody tr th:only-of-type {\n",
              "        vertical-align: middle;\n",
              "    }\n",
              "\n",
              "    .dataframe tbody tr th {\n",
              "        vertical-align: top;\n",
              "    }\n",
              "\n",
              "    .dataframe thead th {\n",
              "        text-align: right;\n",
              "    }\n",
              "</style>\n",
              "<table border=\"1\" class=\"dataframe\">\n",
              "  <thead>\n",
              "    <tr style=\"text-align: right;\">\n",
              "      <th></th>\n",
              "      <th></th>\n",
              "      <th>data1</th>\n",
              "      <th>data2</th>\n",
              "    </tr>\n",
              "    <tr>\n",
              "      <th>gender</th>\n",
              "      <th>year</th>\n",
              "      <th></th>\n",
              "      <th></th>\n",
              "    </tr>\n",
              "  </thead>\n",
              "  <tbody>\n",
              "    <tr>\n",
              "      <th rowspan=\"2\" valign=\"top\">F</th>\n",
              "      <th>junior</th>\n",
              "      <td>4.000000</td>\n",
              "      <td>15.000000</td>\n",
              "    </tr>\n",
              "    <tr>\n",
              "      <th>senior</th>\n",
              "      <td>5.500000</td>\n",
              "      <td>16.500000</td>\n",
              "    </tr>\n",
              "    <tr>\n",
              "      <th rowspan=\"2\" valign=\"top\">M</th>\n",
              "      <th>junior</th>\n",
              "      <td>1.666667</td>\n",
              "      <td>14.666667</td>\n",
              "    </tr>\n",
              "    <tr>\n",
              "      <th>senior</th>\n",
              "      <td>9.000000</td>\n",
              "      <td>14.500000</td>\n",
              "    </tr>\n",
              "  </tbody>\n",
              "</table>\n",
              "</div>"
            ],
            "text/plain": [
              "                  data1      data2\n",
              "gender year                       \n",
              "F      junior  4.000000  15.000000\n",
              "       senior  5.500000  16.500000\n",
              "M      junior  1.666667  14.666667\n",
              "       senior  9.000000  14.500000"
            ]
          },
          "metadata": {
            "tags": []
          },
          "execution_count": 27
        }
      ]
    },
    {
      "cell_type": "markdown",
      "metadata": {
        "id": "ccNFtuTWIh_M"
      },
      "source": [
        "### Subset only select columns"
      ]
    },
    {
      "cell_type": "code",
      "metadata": {
        "colab": {
          "base_uri": "https://localhost:8080/"
        },
        "id": "nFh90HRZHh-t",
        "outputId": "4fd85641-5e5f-4675-f8f3-bc38326c9e4e"
      },
      "source": [
        "df.groupby(['gender', 'year'])['data1'].mean()"
      ],
      "execution_count": null,
      "outputs": [
        {
          "output_type": "execute_result",
          "data": {
            "text/plain": [
              "gender  year  \n",
              "F       junior    8.000000\n",
              "        senior    3.000000\n",
              "M       junior    6.666667\n",
              "        senior    5.500000\n",
              "Name: data1, dtype: float64"
            ]
          },
          "metadata": {
            "tags": []
          },
          "execution_count": 61
        }
      ]
    },
    {
      "cell_type": "markdown",
      "metadata": {
        "id": "jLF2L2TDJBJR"
      },
      "source": [
        "Another way to do the subset columns."
      ]
    },
    {
      "cell_type": "code",
      "metadata": {
        "colab": {
          "base_uri": "https://localhost:8080/"
        },
        "id": "HgQ_M7MzMvNW",
        "outputId": "020dedd7-4a4d-4bef-fce9-21a15e51fcb2"
      },
      "source": [
        "grouped = df['data2'].groupby(df['gender'])\n",
        "grouped.mean()"
      ],
      "execution_count": null,
      "outputs": [
        {
          "output_type": "execute_result",
          "data": {
            "text/plain": [
              "gender\n",
              "F    15.25\n",
              "M    16.20\n",
              "Name: data2, dtype: float64"
            ]
          },
          "metadata": {
            "tags": []
          },
          "execution_count": 66
        }
      ]
    },
    {
      "cell_type": "markdown",
      "metadata": {
        "id": "diZfiogTIAvq"
      },
      "source": [
        "###More aggregate functions using the `aggregate` method.\n",
        "\n",
        "https://pandas.pydata.org/pandas-docs/stable/reference/api/pandas.DataFrame.aggregate.html"
      ]
    },
    {
      "cell_type": "code",
      "metadata": {
        "colab": {
          "base_uri": "https://localhost:8080/",
          "height": 143
        },
        "id": "umXf_1_9Hfmr",
        "outputId": "32a85256-7ae8-4d1a-db7c-33091aee3b9b"
      },
      "source": [
        "df.groupby(['gender'])['data1'].aggregate([\"mean\", \"min\"])"
      ],
      "execution_count": null,
      "outputs": [
        {
          "output_type": "execute_result",
          "data": {
            "text/html": [
              "<div>\n",
              "<style scoped>\n",
              "    .dataframe tbody tr th:only-of-type {\n",
              "        vertical-align: middle;\n",
              "    }\n",
              "\n",
              "    .dataframe tbody tr th {\n",
              "        vertical-align: top;\n",
              "    }\n",
              "\n",
              "    .dataframe thead th {\n",
              "        text-align: right;\n",
              "    }\n",
              "</style>\n",
              "<table border=\"1\" class=\"dataframe\">\n",
              "  <thead>\n",
              "    <tr style=\"text-align: right;\">\n",
              "      <th></th>\n",
              "      <th>mean</th>\n",
              "      <th>min</th>\n",
              "    </tr>\n",
              "    <tr>\n",
              "      <th>gender</th>\n",
              "      <th></th>\n",
              "      <th></th>\n",
              "    </tr>\n",
              "  </thead>\n",
              "  <tbody>\n",
              "    <tr>\n",
              "      <th>F</th>\n",
              "      <td>5.5</td>\n",
              "      <td>0</td>\n",
              "    </tr>\n",
              "    <tr>\n",
              "      <th>M</th>\n",
              "      <td>6.2</td>\n",
              "      <td>3</td>\n",
              "    </tr>\n",
              "  </tbody>\n",
              "</table>\n",
              "</div>"
            ],
            "text/plain": [
              "        mean  min\n",
              "gender           \n",
              "F        5.5    0\n",
              "M        6.2    3"
            ]
          },
          "metadata": {
            "tags": []
          },
          "execution_count": 60
        }
      ]
    },
    {
      "cell_type": "markdown",
      "metadata": {
        "id": "spByg7NJH85z"
      },
      "source": [
        "## GroupBy internals"
      ]
    },
    {
      "cell_type": "code",
      "metadata": {
        "colab": {
          "base_uri": "https://localhost:8080/"
        },
        "id": "Jg10Emd6-mVE",
        "outputId": "1cd87282-ea2b-48a8-cb77-e2044c0c5a6b"
      },
      "source": [
        "grouped = df.groupby('gender')\n",
        "grouped"
      ],
      "execution_count": null,
      "outputs": [
        {
          "output_type": "execute_result",
          "data": {
            "text/plain": [
              "<pandas.core.groupby.generic.DataFrameGroupBy object at 0x7f1f48351790>"
            ]
          },
          "metadata": {
            "tags": []
          },
          "execution_count": 67
        }
      ]
    },
    {
      "cell_type": "code",
      "metadata": {
        "colab": {
          "base_uri": "https://localhost:8080/"
        },
        "id": "Bhc_XbDJDYah",
        "outputId": "cf843e5e-7679-4481-9956-68e5dfcebc2c"
      },
      "source": [
        "grouped.ngroups"
      ],
      "execution_count": null,
      "outputs": [
        {
          "output_type": "execute_result",
          "data": {
            "text/plain": [
              "2"
            ]
          },
          "metadata": {
            "tags": []
          },
          "execution_count": 48
        }
      ]
    },
    {
      "cell_type": "code",
      "metadata": {
        "colab": {
          "base_uri": "https://localhost:8080/"
        },
        "id": "bagTKLA8M2dH",
        "outputId": "320021df-aa5c-4524-9bb0-66ece2602dcc"
      },
      "source": [
        "grouped.groups"
      ],
      "execution_count": null,
      "outputs": [
        {
          "output_type": "execute_result",
          "data": {
            "text/plain": [
              "{'F': [0, 3, 4, 7], 'M': [1, 2, 5, 6, 8]}"
            ]
          },
          "metadata": {
            "tags": []
          },
          "execution_count": 43
        }
      ]
    },
    {
      "cell_type": "markdown",
      "metadata": {
        "id": "mWmmPCp2Ddni"
      },
      "source": [
        "Notice that the values are not from `data2`, but it only contains the indices. This is because we are grouping based on the gender column only. So we can iterate over the groups and use the index position to get more data from the dataframe."
      ]
    },
    {
      "cell_type": "code",
      "metadata": {
        "colab": {
          "base_uri": "https://localhost:8080/"
        },
        "id": "IGLX70qg9rKY",
        "outputId": "8c7edc3c-16d3-45fc-9b7a-79b4ab70bf1e"
      },
      "source": [
        "for key, value in grouped.groups.items():\n",
        "  print(\"key:\", key)\n",
        "  print(\"values\", df.iloc[value])"
      ],
      "execution_count": null,
      "outputs": [
        {
          "output_type": "stream",
          "text": [
            "key: F\n",
            "values   gender    year     name  data1  data2\n",
            "0      F  junior    Alice      4     15\n",
            "3      F  senior  Daniele      7     17\n",
            "4      F  junior      Eva      4     15\n",
            "7      F  senior  Harriet      4     16\n",
            "key: M\n",
            "values   gender    year     name  data1  data2\n",
            "1      M  senior      Bob      9     15\n",
            "2      M  junior  Charlie      2     17\n",
            "5      M  senior    Frank      9     14\n",
            "6      M  junior      Gus      1     15\n",
            "8      M  junior     Ivan      2     12\n"
          ],
          "name": "stdout"
        }
      ]
    },
    {
      "cell_type": "markdown",
      "metadata": {
        "id": "xFr0Iu2TEIJv"
      },
      "source": [
        "### `Unstack` to get a table"
      ]
    },
    {
      "cell_type": "code",
      "metadata": {
        "id": "U-mkUBAhEMEg"
      },
      "source": [
        "data1_means = df.groupby(['year', 'gender'])['data1'].mean()"
      ],
      "execution_count": null,
      "outputs": []
    },
    {
      "cell_type": "code",
      "metadata": {
        "colab": {
          "base_uri": "https://localhost:8080/"
        },
        "id": "CBzcA00UEYtq",
        "outputId": "2ced0e4c-85a6-4a06-f17a-1462acd30c80"
      },
      "source": [
        "data1_means"
      ],
      "execution_count": null,
      "outputs": [
        {
          "output_type": "execute_result",
          "data": {
            "text/plain": [
              "year    gender\n",
              "junior  F         8.000000\n",
              "        M         6.666667\n",
              "senior  F         3.000000\n",
              "        M         5.500000\n",
              "Name: data1, dtype: float64"
            ]
          },
          "metadata": {
            "tags": []
          },
          "execution_count": 52
        }
      ]
    },
    {
      "cell_type": "code",
      "metadata": {
        "colab": {
          "base_uri": "https://localhost:8080/",
          "height": 143
        },
        "id": "JbbKIoUcEbfr",
        "outputId": "0bb776f2-babf-4e98-819f-ac8d4612cb65"
      },
      "source": [
        "data1_means.unstack()"
      ],
      "execution_count": null,
      "outputs": [
        {
          "output_type": "execute_result",
          "data": {
            "text/html": [
              "<div>\n",
              "<style scoped>\n",
              "    .dataframe tbody tr th:only-of-type {\n",
              "        vertical-align: middle;\n",
              "    }\n",
              "\n",
              "    .dataframe tbody tr th {\n",
              "        vertical-align: top;\n",
              "    }\n",
              "\n",
              "    .dataframe thead th {\n",
              "        text-align: right;\n",
              "    }\n",
              "</style>\n",
              "<table border=\"1\" class=\"dataframe\">\n",
              "  <thead>\n",
              "    <tr style=\"text-align: right;\">\n",
              "      <th>gender</th>\n",
              "      <th>F</th>\n",
              "      <th>M</th>\n",
              "    </tr>\n",
              "    <tr>\n",
              "      <th>year</th>\n",
              "      <th></th>\n",
              "      <th></th>\n",
              "    </tr>\n",
              "  </thead>\n",
              "  <tbody>\n",
              "    <tr>\n",
              "      <th>junior</th>\n",
              "      <td>8.0</td>\n",
              "      <td>6.666667</td>\n",
              "    </tr>\n",
              "    <tr>\n",
              "      <th>senior</th>\n",
              "      <td>3.0</td>\n",
              "      <td>5.500000</td>\n",
              "    </tr>\n",
              "  </tbody>\n",
              "</table>\n",
              "</div>"
            ],
            "text/plain": [
              "gender    F         M\n",
              "year                 \n",
              "junior  8.0  6.666667\n",
              "senior  3.0  5.500000"
            ]
          },
          "metadata": {
            "tags": []
          },
          "execution_count": 53
        }
      ]
    },
    {
      "cell_type": "markdown",
      "metadata": {
        "id": "1VpmBsitE16g"
      },
      "source": [
        "## Exercises for the Berkeley dataset\n",
        "\n",
        "1. How many events (of any kind) have occured on different days of the week?\n",
        "2. `CVLEGEND` has 21 kinds of crimes. How many events (`CVLEGEND`) of each kind have occured?\n",
        "3. Pick the crime type that is most common.  How many events of this kind occur on different days of the week?\n",
        "4. How many events of any kind have happened on different days of the week? (this can have upto 21x7 groups for 21 crime types and 7 days of the week.)\n",
        "5. Last week we created `offense_df`. This was a subset of `CVLEGEND` and `OFFENSE` columns. There are 28 `OFFENSE` types and 21 `CVLEGEND` types.  How many offenses of each kind are listed per `CVLEGEND` type?"
      ]
    },
    {
      "cell_type": "markdown",
      "metadata": {
        "id": "bBqPw-o3EXk4"
      },
      "source": [
        "## Pivot Tables\n"
      ]
    },
    {
      "cell_type": "markdown",
      "metadata": {
        "id": "IY3FSZyuN5FC"
      },
      "source": [
        "When we group on two columns, we get two levels of indices.  This is a \"tall\", \"skinny\" table.  We can instead get a \"wide\" table.  Pivot table is one way to reshape the table."
      ]
    },
    {
      "cell_type": "code",
      "metadata": {
        "colab": {
          "base_uri": "https://localhost:8080/",
          "height": 314
        },
        "id": "sU1bpFLrPiAT",
        "outputId": "d4b7025f-5b29-4d9f-a5c0-64df3229d89c"
      },
      "source": [
        "df"
      ],
      "execution_count": null,
      "outputs": [
        {
          "output_type": "execute_result",
          "data": {
            "text/html": [
              "<div>\n",
              "<style scoped>\n",
              "    .dataframe tbody tr th:only-of-type {\n",
              "        vertical-align: middle;\n",
              "    }\n",
              "\n",
              "    .dataframe tbody tr th {\n",
              "        vertical-align: top;\n",
              "    }\n",
              "\n",
              "    .dataframe thead th {\n",
              "        text-align: right;\n",
              "    }\n",
              "</style>\n",
              "<table border=\"1\" class=\"dataframe\">\n",
              "  <thead>\n",
              "    <tr style=\"text-align: right;\">\n",
              "      <th></th>\n",
              "      <th>name</th>\n",
              "      <th>gender</th>\n",
              "      <th>year</th>\n",
              "      <th>data1</th>\n",
              "      <th>data2</th>\n",
              "    </tr>\n",
              "  </thead>\n",
              "  <tbody>\n",
              "    <tr>\n",
              "      <th>0</th>\n",
              "      <td>Alice</td>\n",
              "      <td>F</td>\n",
              "      <td>junior</td>\n",
              "      <td>6</td>\n",
              "      <td>14</td>\n",
              "    </tr>\n",
              "    <tr>\n",
              "      <th>1</th>\n",
              "      <td>Bob</td>\n",
              "      <td>M</td>\n",
              "      <td>senior</td>\n",
              "      <td>7</td>\n",
              "      <td>12</td>\n",
              "    </tr>\n",
              "    <tr>\n",
              "      <th>2</th>\n",
              "      <td>Charlie</td>\n",
              "      <td>M</td>\n",
              "      <td>junior</td>\n",
              "      <td>5</td>\n",
              "      <td>13</td>\n",
              "    </tr>\n",
              "    <tr>\n",
              "      <th>3</th>\n",
              "      <td>Daniele</td>\n",
              "      <td>F</td>\n",
              "      <td>senior</td>\n",
              "      <td>6</td>\n",
              "      <td>14</td>\n",
              "    </tr>\n",
              "    <tr>\n",
              "      <th>4</th>\n",
              "      <td>Eva</td>\n",
              "      <td>F</td>\n",
              "      <td>junior</td>\n",
              "      <td>0</td>\n",
              "      <td>14</td>\n",
              "    </tr>\n",
              "    <tr>\n",
              "      <th>5</th>\n",
              "      <td>Frank</td>\n",
              "      <td>M</td>\n",
              "      <td>senior</td>\n",
              "      <td>2</td>\n",
              "      <td>18</td>\n",
              "    </tr>\n",
              "    <tr>\n",
              "      <th>6</th>\n",
              "      <td>Gus</td>\n",
              "      <td>M</td>\n",
              "      <td>junior</td>\n",
              "      <td>4</td>\n",
              "      <td>15</td>\n",
              "    </tr>\n",
              "    <tr>\n",
              "      <th>7</th>\n",
              "      <td>Harriet</td>\n",
              "      <td>F</td>\n",
              "      <td>senior</td>\n",
              "      <td>4</td>\n",
              "      <td>13</td>\n",
              "    </tr>\n",
              "    <tr>\n",
              "      <th>8</th>\n",
              "      <td>Ivan</td>\n",
              "      <td>M</td>\n",
              "      <td>junior</td>\n",
              "      <td>0</td>\n",
              "      <td>12</td>\n",
              "    </tr>\n",
              "  </tbody>\n",
              "</table>\n",
              "</div>"
            ],
            "text/plain": [
              "      name gender    year  data1  data2\n",
              "0    Alice      F  junior      6     14\n",
              "1      Bob      M  senior      7     12\n",
              "2  Charlie      M  junior      5     13\n",
              "3  Daniele      F  senior      6     14\n",
              "4      Eva      F  junior      0     14\n",
              "5    Frank      M  senior      2     18\n",
              "6      Gus      M  junior      4     15\n",
              "7  Harriet      F  senior      4     13\n",
              "8     Ivan      M  junior      0     12"
            ]
          },
          "metadata": {
            "tags": []
          },
          "execution_count": 8
        }
      ]
    },
    {
      "cell_type": "code",
      "metadata": {
        "colab": {
          "base_uri": "https://localhost:8080/",
          "height": 195
        },
        "id": "TI970yUHN2r5",
        "outputId": "6ecfdd80-0750-4347-ce3b-b68d362e81bc"
      },
      "source": [
        "# summarizing the data by two groups.\n",
        "\n",
        "data1_means = df.groupby(['year', 'gender'])['data1'].mean()\n",
        "data1_means.to_frame()"
      ],
      "execution_count": null,
      "outputs": [
        {
          "output_type": "execute_result",
          "data": {
            "text/html": [
              "<div>\n",
              "<style scoped>\n",
              "    .dataframe tbody tr th:only-of-type {\n",
              "        vertical-align: middle;\n",
              "    }\n",
              "\n",
              "    .dataframe tbody tr th {\n",
              "        vertical-align: top;\n",
              "    }\n",
              "\n",
              "    .dataframe thead th {\n",
              "        text-align: right;\n",
              "    }\n",
              "</style>\n",
              "<table border=\"1\" class=\"dataframe\">\n",
              "  <thead>\n",
              "    <tr style=\"text-align: right;\">\n",
              "      <th></th>\n",
              "      <th></th>\n",
              "      <th>data1</th>\n",
              "    </tr>\n",
              "    <tr>\n",
              "      <th>year</th>\n",
              "      <th>gender</th>\n",
              "      <th></th>\n",
              "    </tr>\n",
              "  </thead>\n",
              "  <tbody>\n",
              "    <tr>\n",
              "      <th rowspan=\"2\" valign=\"top\">junior</th>\n",
              "      <th>F</th>\n",
              "      <td>3.0</td>\n",
              "    </tr>\n",
              "    <tr>\n",
              "      <th>M</th>\n",
              "      <td>3.0</td>\n",
              "    </tr>\n",
              "    <tr>\n",
              "      <th rowspan=\"2\" valign=\"top\">senior</th>\n",
              "      <th>F</th>\n",
              "      <td>5.0</td>\n",
              "    </tr>\n",
              "    <tr>\n",
              "      <th>M</th>\n",
              "      <td>4.5</td>\n",
              "    </tr>\n",
              "  </tbody>\n",
              "</table>\n",
              "</div>"
            ],
            "text/plain": [
              "               data1\n",
              "year   gender       \n",
              "junior F         3.0\n",
              "       M         3.0\n",
              "senior F         5.0\n",
              "       M         4.5"
            ]
          },
          "metadata": {
            "tags": []
          },
          "execution_count": 5
        }
      ]
    },
    {
      "cell_type": "code",
      "metadata": {
        "colab": {
          "base_uri": "https://localhost:8080/",
          "height": 136
        },
        "id": "trsWGAGbEWvS",
        "outputId": "276b953d-a638-4d57-f072-3fd7ab69b06b"
      },
      "source": [
        "df.pivot_table(values=\"data1\",\n",
        "               index = \"gender\", \n",
        "               columns=\"year\",aggfunc=np.mean)"
      ],
      "execution_count": null,
      "outputs": [
        {
          "output_type": "execute_result",
          "data": {
            "text/html": [
              "<div>\n",
              "<style scoped>\n",
              "    .dataframe tbody tr th:only-of-type {\n",
              "        vertical-align: middle;\n",
              "    }\n",
              "\n",
              "    .dataframe tbody tr th {\n",
              "        vertical-align: top;\n",
              "    }\n",
              "\n",
              "    .dataframe thead th {\n",
              "        text-align: right;\n",
              "    }\n",
              "</style>\n",
              "<table border=\"1\" class=\"dataframe\">\n",
              "  <thead>\n",
              "    <tr style=\"text-align: right;\">\n",
              "      <th>year</th>\n",
              "      <th>junior</th>\n",
              "      <th>senior</th>\n",
              "    </tr>\n",
              "    <tr>\n",
              "      <th>gender</th>\n",
              "      <th></th>\n",
              "      <th></th>\n",
              "    </tr>\n",
              "  </thead>\n",
              "  <tbody>\n",
              "    <tr>\n",
              "      <th>F</th>\n",
              "      <td>3.0</td>\n",
              "      <td>5.0</td>\n",
              "    </tr>\n",
              "    <tr>\n",
              "      <th>M</th>\n",
              "      <td>3.0</td>\n",
              "      <td>4.5</td>\n",
              "    </tr>\n",
              "  </tbody>\n",
              "</table>\n",
              "</div>"
            ],
            "text/plain": [
              "year    junior  senior\n",
              "gender                \n",
              "F          3.0     5.0\n",
              "M          3.0     4.5"
            ]
          },
          "metadata": {
            "tags": []
          },
          "execution_count": 42
        }
      ]
    },
    {
      "cell_type": "markdown",
      "metadata": {
        "id": "0n3waeapRYFL"
      },
      "source": [
        "There are a few parameters that we can use to shape the pivot table.\n",
        "- `values` for data to summarize \n",
        "- `columns` for the columns.\n",
        "- `index` for the row.\n",
        "- `aggfunc` for the aggregation function.\n",
        "- `margins` for the sum over the rows/columns"
      ]
    },
    {
      "cell_type": "code",
      "metadata": {
        "colab": {
          "base_uri": "https://localhost:8080/",
          "height": 166
        },
        "id": "9D-_E3lYpxmU",
        "outputId": "9ab5517e-5455-4f30-d061-9a3d76e4e0a7"
      },
      "source": [
        "df.pivot_table(values= (\"data1\",\"data2\"),\n",
        "               index = \"gender\", \n",
        "               columns=\"year\",\n",
        "               aggfunc=np.mean)"
      ],
      "execution_count": null,
      "outputs": [
        {
          "output_type": "execute_result",
          "data": {
            "text/html": [
              "<div>\n",
              "<style scoped>\n",
              "    .dataframe tbody tr th:only-of-type {\n",
              "        vertical-align: middle;\n",
              "    }\n",
              "\n",
              "    .dataframe tbody tr th {\n",
              "        vertical-align: top;\n",
              "    }\n",
              "\n",
              "    .dataframe thead tr th {\n",
              "        text-align: left;\n",
              "    }\n",
              "\n",
              "    .dataframe thead tr:last-of-type th {\n",
              "        text-align: right;\n",
              "    }\n",
              "</style>\n",
              "<table border=\"1\" class=\"dataframe\">\n",
              "  <thead>\n",
              "    <tr>\n",
              "      <th></th>\n",
              "      <th colspan=\"2\" halign=\"left\">data1</th>\n",
              "      <th colspan=\"2\" halign=\"left\">data2</th>\n",
              "    </tr>\n",
              "    <tr>\n",
              "      <th>year</th>\n",
              "      <th>junior</th>\n",
              "      <th>senior</th>\n",
              "      <th>junior</th>\n",
              "      <th>senior</th>\n",
              "    </tr>\n",
              "    <tr>\n",
              "      <th>gender</th>\n",
              "      <th></th>\n",
              "      <th></th>\n",
              "      <th></th>\n",
              "      <th></th>\n",
              "    </tr>\n",
              "  </thead>\n",
              "  <tbody>\n",
              "    <tr>\n",
              "      <th>F</th>\n",
              "      <td>3.0</td>\n",
              "      <td>5.0</td>\n",
              "      <td>14.000000</td>\n",
              "      <td>13.5</td>\n",
              "    </tr>\n",
              "    <tr>\n",
              "      <th>M</th>\n",
              "      <td>3.0</td>\n",
              "      <td>4.5</td>\n",
              "      <td>13.333333</td>\n",
              "      <td>15.0</td>\n",
              "    </tr>\n",
              "  </tbody>\n",
              "</table>\n",
              "</div>"
            ],
            "text/plain": [
              "        data1             data2       \n",
              "year   junior senior     junior senior\n",
              "gender                                \n",
              "F         3.0    5.0  14.000000   13.5\n",
              "M         3.0    4.5  13.333333   15.0"
            ]
          },
          "metadata": {
            "tags": []
          },
          "execution_count": 46
        }
      ]
    },
    {
      "cell_type": "markdown",
      "metadata": {
        "id": "IMBML7qOOysV"
      },
      "source": [
        "Pivot table is the same as `unstack` we discussed earlier. Unstacking can be done at different levels."
      ]
    },
    {
      "cell_type": "code",
      "metadata": {
        "colab": {
          "base_uri": "https://localhost:8080/"
        },
        "id": "f3iG7NRMqQ7z",
        "outputId": "2616e080-c243-45e2-db7e-ca34291dd49f"
      },
      "source": [
        "data1_means.index"
      ],
      "execution_count": null,
      "outputs": [
        {
          "output_type": "execute_result",
          "data": {
            "text/plain": [
              "MultiIndex([('junior', 'F'),\n",
              "            ('junior', 'M'),\n",
              "            ('senior', 'F'),\n",
              "            ('senior', 'M')],\n",
              "           names=['year', 'gender'])"
            ]
          },
          "metadata": {
            "tags": []
          },
          "execution_count": 41
        }
      ]
    },
    {
      "cell_type": "code",
      "metadata": {
        "colab": {
          "base_uri": "https://localhost:8080/",
          "height": 136
        },
        "id": "WAG0gJGkEb66",
        "outputId": "28abb0ff-24e8-4fc8-ea70-8370c40fe8fd"
      },
      "source": [
        "df.groupby([\"gender\", \"year\"])[\"data1\"].mean().unstack()"
      ],
      "execution_count": null,
      "outputs": [
        {
          "output_type": "execute_result",
          "data": {
            "text/plain": [
              "year      junior  senior\n",
              "gender                  \n",
              "F       2.000000     0.5\n",
              "M       3.666667     9.0"
            ],
            "text/html": [
              "<div>\n",
              "<style scoped>\n",
              "    .dataframe tbody tr th:only-of-type {\n",
              "        vertical-align: middle;\n",
              "    }\n",
              "\n",
              "    .dataframe tbody tr th {\n",
              "        vertical-align: top;\n",
              "    }\n",
              "\n",
              "    .dataframe thead th {\n",
              "        text-align: right;\n",
              "    }\n",
              "</style>\n",
              "<table border=\"1\" class=\"dataframe\">\n",
              "  <thead>\n",
              "    <tr style=\"text-align: right;\">\n",
              "      <th>year</th>\n",
              "      <th>junior</th>\n",
              "      <th>senior</th>\n",
              "    </tr>\n",
              "    <tr>\n",
              "      <th>gender</th>\n",
              "      <th></th>\n",
              "      <th></th>\n",
              "    </tr>\n",
              "  </thead>\n",
              "  <tbody>\n",
              "    <tr>\n",
              "      <th>F</th>\n",
              "      <td>2.000000</td>\n",
              "      <td>0.5</td>\n",
              "    </tr>\n",
              "    <tr>\n",
              "      <th>M</th>\n",
              "      <td>3.666667</td>\n",
              "      <td>9.0</td>\n",
              "    </tr>\n",
              "  </tbody>\n",
              "</table>\n",
              "</div>"
            ]
          },
          "metadata": {
            "tags": []
          },
          "execution_count": 11
        }
      ]
    },
    {
      "cell_type": "code",
      "metadata": {
        "id": "C8SUxg8vE4j2",
        "colab": {
          "base_uri": "https://localhost:8080/",
          "height": 136
        },
        "outputId": "e786d1c4-6ddb-4185-a121-18bca00e50eb"
      },
      "source": [
        "df.groupby([\"gender\", \"year\"])[\"data1\"].mean().unstack(0)"
      ],
      "execution_count": null,
      "outputs": [
        {
          "output_type": "execute_result",
          "data": {
            "text/html": [
              "<div>\n",
              "<style scoped>\n",
              "    .dataframe tbody tr th:only-of-type {\n",
              "        vertical-align: middle;\n",
              "    }\n",
              "\n",
              "    .dataframe tbody tr th {\n",
              "        vertical-align: top;\n",
              "    }\n",
              "\n",
              "    .dataframe thead th {\n",
              "        text-align: right;\n",
              "    }\n",
              "</style>\n",
              "<table border=\"1\" class=\"dataframe\">\n",
              "  <thead>\n",
              "    <tr style=\"text-align: right;\">\n",
              "      <th>gender</th>\n",
              "      <th>F</th>\n",
              "      <th>M</th>\n",
              "    </tr>\n",
              "    <tr>\n",
              "      <th>year</th>\n",
              "      <th></th>\n",
              "      <th></th>\n",
              "    </tr>\n",
              "  </thead>\n",
              "  <tbody>\n",
              "    <tr>\n",
              "      <th>junior</th>\n",
              "      <td>3.0</td>\n",
              "      <td>3.0</td>\n",
              "    </tr>\n",
              "    <tr>\n",
              "      <th>senior</th>\n",
              "      <td>5.0</td>\n",
              "      <td>4.5</td>\n",
              "    </tr>\n",
              "  </tbody>\n",
              "</table>\n",
              "</div>"
            ],
            "text/plain": [
              "gender    F    M\n",
              "year            \n",
              "junior  3.0  3.0\n",
              "senior  5.0  4.5"
            ]
          },
          "metadata": {
            "tags": []
          },
          "execution_count": 48
        }
      ]
    },
    {
      "cell_type": "markdown",
      "metadata": {
        "id": "-jIewWj2QarD"
      },
      "source": [
        "### Application in the Berkeley dataset.\n",
        "\n",
        "Summarize the count of crime events for each type of crime for each day of the week.\n",
        "\n",
        "There are 7 days of the week and 21 types of crimes.  A two-level index would give us 7x21 rows.  Pivoting is a better way of summarizing the data."
      ]
    },
    {
      "cell_type": "markdown",
      "metadata": {
        "id": "_epPhmOuj3DS"
      },
      "source": [
        "## Application to SF Building permits dataset."
      ]
    },
    {
      "cell_type": "code",
      "metadata": {
        "id": "xJ02qeFvQM0n"
      },
      "source": [
        "\n",
        "\n"
      ],
      "execution_count": null,
      "outputs": []
    },
    {
      "cell_type": "markdown",
      "metadata": {
        "id": "GkXnD8jhZ5y-"
      },
      "source": [
        "## `apply` methods\n",
        "\n"
      ]
    },
    {
      "cell_type": "markdown",
      "metadata": {
        "id": "WOeBbhCed-8j"
      },
      "source": [
        "### Lambdas in python"
      ]
    },
    {
      "cell_type": "markdown",
      "metadata": {
        "id": "7qcZ6kQE3nMe"
      },
      "source": [
        "Lambdas are a way to encode short functions.  Lambdas are anonymous functions that do not store internal state. Lambdas are a succinct way to represent an expression based on some parameters. "
      ]
    },
    {
      "cell_type": "code",
      "metadata": {
        "colab": {
          "base_uri": "https://localhost:8080/"
        },
        "id": "5VgmxDle4Yj6",
        "outputId": "3b1952a7-9ef5-4403-ced5-471f8e723140"
      },
      "source": [
        "increment = lambda x: x+1\n",
        "increment(5.5)"
      ],
      "execution_count": null,
      "outputs": [
        {
          "output_type": "execute_result",
          "data": {
            "text/plain": [
              "6.5"
            ]
          },
          "metadata": {
            "tags": []
          },
          "execution_count": 4
        }
      ]
    },
    {
      "cell_type": "markdown",
      "metadata": {
        "id": "eAEylXZ2ESbJ"
      },
      "source": [
        "lambdas are anonymous, so we will either have to assign it to a variable or pass it to a function that accepts function objects as parameters.\n",
        "\n",
        "Syntactically, lambdas are different from functions in that they do not have the `def` keyword or a `return` statement. Lambdas do not have an internal variables and can only be a single expression."
      ]
    },
    {
      "cell_type": "markdown",
      "metadata": {
        "id": "sC5hENnBFavh"
      },
      "source": [
        "Lambdas can have conditionals and take multiple arguments."
      ]
    },
    {
      "cell_type": "code",
      "metadata": {
        "colab": {
          "base_uri": "https://localhost:8080/",
          "height": 35
        },
        "id": "YKhITYbf2gQV",
        "outputId": "843f6d40-7f4c-4b61-806d-95662b15dd80"
      },
      "source": [
        "# A lambda can have conditionals\n",
        "foo = lambda x: \"Pass\" if x > 5 else \"Fail\"\n",
        "foo(5)"
      ],
      "execution_count": null,
      "outputs": [
        {
          "output_type": "execute_result",
          "data": {
            "application/vnd.google.colaboratory.intrinsic+json": {
              "type": "string"
            },
            "text/plain": [
              "'Fail'"
            ]
          },
          "metadata": {
            "tags": []
          },
          "execution_count": 9
        }
      ]
    },
    {
      "cell_type": "code",
      "metadata": {
        "colab": {
          "base_uri": "https://localhost:8080/"
        },
        "id": "-c760ZJ7mBlw",
        "outputId": "0c078c23-d66f-4693-bbd7-bcbaf7fa9b6a"
      },
      "source": [
        "bar = lambda x: \"fail\" if x < 5 else (\"good\" if x > 6 else \"pass\")\n",
        "print(bar(4))\n",
        "print(bar(5))\n",
        "print(bar(7))\n",
        "\n"
      ],
      "execution_count": null,
      "outputs": [
        {
          "output_type": "stream",
          "text": [
            "fail\n",
            "pass\n",
            "good\n"
          ],
          "name": "stdout"
        }
      ]
    },
    {
      "cell_type": "code",
      "metadata": {
        "colab": {
          "base_uri": "https://localhost:8080/"
        },
        "id": "-LJNBUCg3ZCE",
        "outputId": "1e35f72d-ab8d-43b5-be98-0f770d0b76e9"
      },
      "source": [
        "# no assignment to a variable.  Called when it is defined.\n",
        "(lambda a, b: a**b)(2, 5)"
      ],
      "execution_count": null,
      "outputs": [
        {
          "output_type": "execute_result",
          "data": {
            "text/plain": [
              "32"
            ]
          },
          "metadata": {
            "tags": []
          },
          "execution_count": 8
        }
      ]
    },
    {
      "cell_type": "markdown",
      "metadata": {
        "id": "o0-CmDTeFmJn"
      },
      "source": [
        "Lambdas are most useful when we have to pass a function object as a parameter."
      ]
    },
    {
      "cell_type": "code",
      "metadata": {
        "colab": {
          "base_uri": "https://localhost:8080/"
        },
        "id": "G1L4xXpwZb0V",
        "outputId": "60815b3f-babc-4355-dc77-aa6ae1daf3f4"
      },
      "source": [
        "li = [5, 10, 15, 20, 25, 30, 35] \n",
        "list(filter(lambda x: x%2 == 0, li))"
      ],
      "execution_count": null,
      "outputs": [
        {
          "output_type": "execute_result",
          "data": {
            "text/plain": [
              "[10, 20, 30]"
            ]
          },
          "metadata": {
            "tags": []
          },
          "execution_count": 12
        }
      ]
    },
    {
      "cell_type": "code",
      "metadata": {
        "id": "x4SnlxO7Zoe4",
        "colab": {
          "base_uri": "https://localhost:8080/"
        },
        "outputId": "3505457e-d0ba-4fa9-dd36-bbc23b816d9a"
      },
      "source": [
        "list(map(lambda x: x**2, range(10)))"
      ],
      "execution_count": null,
      "outputs": [
        {
          "output_type": "execute_result",
          "data": {
            "text/plain": [
              "[0, 1, 4, 9, 16, 25, 36, 49, 64, 81]"
            ]
          },
          "metadata": {
            "tags": []
          },
          "execution_count": 31
        }
      ]
    },
    {
      "cell_type": "markdown",
      "metadata": {
        "id": "jo3lD3u2fK8N"
      },
      "source": [
        "## Lambdas as a argument to pandas `apply`"
      ]
    },
    {
      "cell_type": "markdown",
      "metadata": {
        "id": "8SeOcXwUgSHF"
      },
      "source": [
        "Recall the `map` method we had applied to every entry of the dataframe."
      ]
    },
    {
      "cell_type": "code",
      "metadata": {
        "colab": {
          "base_uri": "https://localhost:8080/"
        },
        "id": "0o-9JpuVgkhc",
        "outputId": "4b339191-9a69-4dc5-ad3b-ace13c72ad69"
      },
      "source": [
        "df[\"gender\"]"
      ],
      "execution_count": null,
      "outputs": [
        {
          "output_type": "execute_result",
          "data": {
            "text/plain": [
              "0    F\n",
              "1    M\n",
              "2    M\n",
              "3    F\n",
              "4    F\n",
              "5    M\n",
              "6    M\n",
              "7    F\n",
              "8    M\n",
              "Name: gender, dtype: object"
            ]
          },
          "metadata": {
            "tags": []
          },
          "execution_count": 19
        }
      ]
    },
    {
      "cell_type": "code",
      "metadata": {
        "colab": {
          "base_uri": "https://localhost:8080/"
        },
        "id": "RmNdsiSDgXWt",
        "outputId": "e318f469-93f9-4a5e-cf64-859e7519f173"
      },
      "source": [
        "df[\"gender\"].map({\"F\": \"Female\", \"M\": \"Male\"})"
      ],
      "execution_count": null,
      "outputs": [
        {
          "output_type": "execute_result",
          "data": {
            "text/plain": [
              "0    Female\n",
              "1      Male\n",
              "2      Male\n",
              "3    Female\n",
              "4    Female\n",
              "5      Male\n",
              "6      Male\n",
              "7    Female\n",
              "8      Male\n",
              "Name: gender, dtype: object"
            ]
          },
          "metadata": {
            "tags": []
          },
          "execution_count": 18
        }
      ]
    },
    {
      "cell_type": "markdown",
      "metadata": {
        "id": "58D2tEejgnXq"
      },
      "source": [
        "We can apply a function instead of a simple table look up using `apply` method."
      ]
    },
    {
      "cell_type": "code",
      "metadata": {
        "colab": {
          "base_uri": "https://localhost:8080/"
        },
        "id": "hTThxd4Cgvfz",
        "outputId": "5aa2ca2f-afed-4385-bc36-1b999fe4c657"
      },
      "source": [
        "df[\"data2\"].apply(lambda x: x/2)"
      ],
      "execution_count": null,
      "outputs": [
        {
          "output_type": "execute_result",
          "data": {
            "text/plain": [
              "0    7.0\n",
              "1    6.0\n",
              "2    6.5\n",
              "3    7.0\n",
              "4    7.0\n",
              "5    9.0\n",
              "6    7.5\n",
              "7    6.5\n",
              "8    6.0\n",
              "Name: data2, dtype: float64"
            ]
          },
          "metadata": {
            "tags": []
          },
          "execution_count": 22
        }
      ]
    },
    {
      "cell_type": "markdown",
      "metadata": {
        "id": "XjFjrVKeoMDT"
      },
      "source": [
        "This is similar to broadcasting.  But not all functions can be \"broadcast\", we will have to use the `apply` function."
      ]
    },
    {
      "cell_type": "code",
      "metadata": {
        "colab": {
          "base_uri": "https://localhost:8080/"
        },
        "id": "nElEW60ChuxH",
        "outputId": "e5889934-5fb6-41dc-905d-c6ffa5920414"
      },
      "source": [
        "df[\"data2\"]/2"
      ],
      "execution_count": null,
      "outputs": [
        {
          "output_type": "execute_result",
          "data": {
            "text/plain": [
              "0    7.0\n",
              "1    6.0\n",
              "2    6.5\n",
              "3    7.0\n",
              "4    7.0\n",
              "5    9.0\n",
              "6    7.5\n",
              "7    6.5\n",
              "8    6.0\n",
              "Name: data2, dtype: float64"
            ]
          },
          "metadata": {
            "tags": []
          },
          "execution_count": 35
        }
      ]
    },
    {
      "cell_type": "code",
      "metadata": {
        "colab": {
          "base_uri": "https://localhost:8080/"
        },
        "id": "FfMsfLR0ePIX",
        "outputId": "7834bc80-a593-4ff6-938d-286c3e255c76"
      },
      "source": [
        "df[\"data1\"]"
      ],
      "execution_count": null,
      "outputs": [
        {
          "output_type": "execute_result",
          "data": {
            "text/plain": [
              "0    6\n",
              "1    7\n",
              "2    5\n",
              "3    6\n",
              "4    0\n",
              "5    2\n",
              "6    4\n",
              "7    4\n",
              "8    0\n",
              "Name: data1, dtype: int64"
            ]
          },
          "metadata": {
            "tags": []
          },
          "execution_count": 16
        }
      ]
    },
    {
      "cell_type": "code",
      "metadata": {
        "colab": {
          "base_uri": "https://localhost:8080/"
        },
        "id": "SbZ2aTBcfRLE",
        "outputId": "bbae49f0-543e-43c8-ebab-977305b614e3"
      },
      "source": [
        "df[\"data1\"].apply(lambda x: \"Pass\" if x > 4 else \"Fail\")"
      ],
      "execution_count": null,
      "outputs": [
        {
          "output_type": "execute_result",
          "data": {
            "text/plain": [
              "0    Pass\n",
              "1    Pass\n",
              "2    Pass\n",
              "3    Pass\n",
              "4    Fail\n",
              "5    Fail\n",
              "6    Fail\n",
              "7    Fail\n",
              "8    Fail\n",
              "Name: data1, dtype: object"
            ]
          },
          "metadata": {
            "tags": []
          },
          "execution_count": 33
        }
      ]
    },
    {
      "cell_type": "markdown",
      "metadata": {
        "id": "25m20BoQKcaJ"
      },
      "source": [
        "# New Section"
      ]
    },
    {
      "cell_type": "code",
      "metadata": {
        "id": "5JBbojmWfgYU"
      },
      "source": [
        "df[\"grade1\"] = df[\"data1\"].apply(lambda x: \"Pass\" if x > 0 else \"Fail\")"
      ],
      "execution_count": null,
      "outputs": []
    },
    {
      "cell_type": "code",
      "metadata": {
        "colab": {
          "base_uri": "https://localhost:8080/",
          "height": 314
        },
        "id": "XpzKEJ-Egu2c",
        "outputId": "9c2fce55-4890-4615-8125-fdb4381c01a2"
      },
      "source": [
        "df"
      ],
      "execution_count": null,
      "outputs": [
        {
          "output_type": "execute_result",
          "data": {
            "text/html": [
              "<div>\n",
              "<style scoped>\n",
              "    .dataframe tbody tr th:only-of-type {\n",
              "        vertical-align: middle;\n",
              "    }\n",
              "\n",
              "    .dataframe tbody tr th {\n",
              "        vertical-align: top;\n",
              "    }\n",
              "\n",
              "    .dataframe thead th {\n",
              "        text-align: right;\n",
              "    }\n",
              "</style>\n",
              "<table border=\"1\" class=\"dataframe\">\n",
              "  <thead>\n",
              "    <tr style=\"text-align: right;\">\n",
              "      <th></th>\n",
              "      <th>name</th>\n",
              "      <th>gender</th>\n",
              "      <th>year</th>\n",
              "      <th>data1</th>\n",
              "      <th>data2</th>\n",
              "      <th>grade1</th>\n",
              "    </tr>\n",
              "  </thead>\n",
              "  <tbody>\n",
              "    <tr>\n",
              "      <th>0</th>\n",
              "      <td>Alice</td>\n",
              "      <td>F</td>\n",
              "      <td>junior</td>\n",
              "      <td>6</td>\n",
              "      <td>14</td>\n",
              "      <td>Pass</td>\n",
              "    </tr>\n",
              "    <tr>\n",
              "      <th>1</th>\n",
              "      <td>Bob</td>\n",
              "      <td>M</td>\n",
              "      <td>senior</td>\n",
              "      <td>7</td>\n",
              "      <td>12</td>\n",
              "      <td>Pass</td>\n",
              "    </tr>\n",
              "    <tr>\n",
              "      <th>2</th>\n",
              "      <td>Charlie</td>\n",
              "      <td>M</td>\n",
              "      <td>junior</td>\n",
              "      <td>5</td>\n",
              "      <td>13</td>\n",
              "      <td>Pass</td>\n",
              "    </tr>\n",
              "    <tr>\n",
              "      <th>3</th>\n",
              "      <td>Daniele</td>\n",
              "      <td>F</td>\n",
              "      <td>senior</td>\n",
              "      <td>6</td>\n",
              "      <td>14</td>\n",
              "      <td>Pass</td>\n",
              "    </tr>\n",
              "    <tr>\n",
              "      <th>4</th>\n",
              "      <td>Eva</td>\n",
              "      <td>F</td>\n",
              "      <td>junior</td>\n",
              "      <td>0</td>\n",
              "      <td>14</td>\n",
              "      <td>Fail</td>\n",
              "    </tr>\n",
              "    <tr>\n",
              "      <th>5</th>\n",
              "      <td>Frank</td>\n",
              "      <td>M</td>\n",
              "      <td>senior</td>\n",
              "      <td>2</td>\n",
              "      <td>18</td>\n",
              "      <td>Pass</td>\n",
              "    </tr>\n",
              "    <tr>\n",
              "      <th>6</th>\n",
              "      <td>Gus</td>\n",
              "      <td>M</td>\n",
              "      <td>junior</td>\n",
              "      <td>4</td>\n",
              "      <td>15</td>\n",
              "      <td>Pass</td>\n",
              "    </tr>\n",
              "    <tr>\n",
              "      <th>7</th>\n",
              "      <td>Harriet</td>\n",
              "      <td>F</td>\n",
              "      <td>senior</td>\n",
              "      <td>4</td>\n",
              "      <td>13</td>\n",
              "      <td>Pass</td>\n",
              "    </tr>\n",
              "    <tr>\n",
              "      <th>8</th>\n",
              "      <td>Ivan</td>\n",
              "      <td>M</td>\n",
              "      <td>junior</td>\n",
              "      <td>0</td>\n",
              "      <td>12</td>\n",
              "      <td>Fail</td>\n",
              "    </tr>\n",
              "  </tbody>\n",
              "</table>\n",
              "</div>"
            ],
            "text/plain": [
              "      name gender    year  data1  data2 grade1\n",
              "0    Alice      F  junior      6     14   Pass\n",
              "1      Bob      M  senior      7     12   Pass\n",
              "2  Charlie      M  junior      5     13   Pass\n",
              "3  Daniele      F  senior      6     14   Pass\n",
              "4      Eva      F  junior      0     14   Fail\n",
              "5    Frank      M  senior      2     18   Pass\n",
              "6      Gus      M  junior      4     15   Pass\n",
              "7  Harriet      F  senior      4     13   Pass\n",
              "8     Ivan      M  junior      0     12   Fail"
            ]
          },
          "metadata": {
            "tags": []
          },
          "execution_count": 21
        }
      ]
    },
    {
      "cell_type": "code",
      "metadata": {
        "id": "qNNBGYtso7gq"
      },
      "source": [
        ""
      ],
      "execution_count": null,
      "outputs": []
    }
  ]
}