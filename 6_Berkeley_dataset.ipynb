{
  "nbformat": 4,
  "nbformat_minor": 0,
  "metadata": {
    "colab": {
      "name": "6. Berkeley dataset.ipynb",
      "provenance": [],
      "include_colab_link": true
    },
    "kernelspec": {
      "name": "python3",
      "display_name": "Python 3"
    }
  },
  "cells": [
    {
      "cell_type": "markdown",
      "metadata": {
        "id": "view-in-github",
        "colab_type": "text"
      },
      "source": [
        "<a href=\"https://colab.research.google.com/github/SinghReena/MachineLearning/blob/master/6_Berkeley_dataset.ipynb\" target=\"_parent\"><img src=\"https://colab.research.google.com/assets/colab-badge.svg\" alt=\"Open In Colab\"/></a>"
      ]
    },
    {
      "cell_type": "markdown",
      "metadata": {
        "id": "rpwfsJFtXbh0"
      },
      "source": [
        "# Berkeley Crime Dataset.\n",
        "\n",
        "We will do exploratory data analysis on this dataset. We will also use this dataset for trying out the pandas functionalities and techniques in the class."
      ]
    },
    {
      "cell_type": "code",
      "metadata": {
        "id": "cX6apqRPjUpl"
      },
      "source": [
        "import pandas as pd\n",
        "import numpy as np\n",
        "import matplotlib.pyplot as plt\n",
        "\n"
      ],
      "execution_count": null,
      "outputs": []
    },
    {
      "cell_type": "markdown",
      "metadata": {
        "id": "R1c8ajwJ5yQr"
      },
      "source": [
        "## Loading the dataset \n",
        "\n",
        "The data for 2020 is at: \n",
        "https://data.cityofberkeley.info/Public-Safety/Berkeley-PD-Calls-for-Service/k2nh-s5h5\n",
        "\n",
        "The description of the dataset is at:\n",
        "\n",
        "https://data.cityofberkeley.info/api/views/k2nh-s5h5/files/tgCx9-LwzyULzas6ZSxGdPmc1f-0euS2Y6EVOrNH940?download=true&filename=01_Page_Narrative_Crime.pdf\n"
      ]
    },
    {
      "cell_type": "code",
      "metadata": {
        "id": "TTSH2omAkUgm"
      },
      "source": [
        "url = 'https://data.cityofberkeley.info/api/views/k2nh-s5h5/rows.csv'\n",
        "\n",
        "df = pd.read_csv(url)"
      ],
      "execution_count": null,
      "outputs": []
    },
    {
      "cell_type": "code",
      "metadata": {
        "colab": {
          "base_uri": "https://localhost:8080/",
          "height": 434
        },
        "id": "YAkMMwcHkgxR",
        "outputId": "a8aa9601-0c7f-4b10-cbd0-7977049c966b"
      },
      "source": [
        "df.head()"
      ],
      "execution_count": null,
      "outputs": [
        {
          "output_type": "execute_result",
          "data": {
            "text/html": [
              "<div>\n",
              "<style scoped>\n",
              "    .dataframe tbody tr th:only-of-type {\n",
              "        vertical-align: middle;\n",
              "    }\n",
              "\n",
              "    .dataframe tbody tr th {\n",
              "        vertical-align: top;\n",
              "    }\n",
              "\n",
              "    .dataframe thead th {\n",
              "        text-align: right;\n",
              "    }\n",
              "</style>\n",
              "<table border=\"1\" class=\"dataframe\">\n",
              "  <thead>\n",
              "    <tr style=\"text-align: right;\">\n",
              "      <th></th>\n",
              "      <th>CASENO</th>\n",
              "      <th>OFFENSE</th>\n",
              "      <th>EVENTDT</th>\n",
              "      <th>EVENTTM</th>\n",
              "      <th>CVLEGEND</th>\n",
              "      <th>CVDOW</th>\n",
              "      <th>InDbDate</th>\n",
              "      <th>Block_Location</th>\n",
              "      <th>BLKADDR</th>\n",
              "      <th>City</th>\n",
              "      <th>State</th>\n",
              "    </tr>\n",
              "  </thead>\n",
              "  <tbody>\n",
              "    <tr>\n",
              "      <th>0</th>\n",
              "      <td>20091947</td>\n",
              "      <td>BURGLARY AUTO</td>\n",
              "      <td>10/22/2020 12:00:00 AM</td>\n",
              "      <td>7:45</td>\n",
              "      <td>BURGLARY - VEHICLE</td>\n",
              "      <td>4</td>\n",
              "      <td>01/21/2022 12:00:00 AM</td>\n",
              "      <td>Berkeley, CA\\n(37.869058, -122.270455)</td>\n",
              "      <td>NaN</td>\n",
              "      <td>Berkeley</td>\n",
              "      <td>CA</td>\n",
              "    </tr>\n",
              "    <tr>\n",
              "      <th>1</th>\n",
              "      <td>21006333</td>\n",
              "      <td>FRAUD/FORGERY</td>\n",
              "      <td>02/02/2021 12:00:00 AM</td>\n",
              "      <td>9:00</td>\n",
              "      <td>FRAUD</td>\n",
              "      <td>2</td>\n",
              "      <td>11/29/2029 12:00:00 AM</td>\n",
              "      <td>Berkeley, CA\\n(37.869058, -122.270455)</td>\n",
              "      <td>NaN</td>\n",
              "      <td>Berkeley</td>\n",
              "      <td>CA</td>\n",
              "    </tr>\n",
              "    <tr>\n",
              "      <th>2</th>\n",
              "      <td>21003968</td>\n",
              "      <td>ROBBERY</td>\n",
              "      <td>01/29/2021 12:00:00 AM</td>\n",
              "      <td>20:45</td>\n",
              "      <td>ROBBERY</td>\n",
              "      <td>5</td>\n",
              "      <td>02/20/2030 12:00:00 AM</td>\n",
              "      <td>2900 BLOCK SAN PABLO AVE\\nBerkeley, CA\\n(37.85...</td>\n",
              "      <td>2900 BLOCK SAN PABLO AVE</td>\n",
              "      <td>Berkeley</td>\n",
              "      <td>CA</td>\n",
              "    </tr>\n",
              "    <tr>\n",
              "      <th>3</th>\n",
              "      <td>20046519</td>\n",
              "      <td>DISTURBANCE</td>\n",
              "      <td>10/07/2020 12:00:00 AM</td>\n",
              "      <td>13:00</td>\n",
              "      <td>DISORDERLY CONDUCT</td>\n",
              "      <td>3</td>\n",
              "      <td>11/13/2023 12:00:00 AM</td>\n",
              "      <td>2500 BLOCK TELEGRAPH AVE\\nBerkeley, CA\\n(37.86...</td>\n",
              "      <td>2500 BLOCK TELEGRAPH AVE</td>\n",
              "      <td>Berkeley</td>\n",
              "      <td>CA</td>\n",
              "    </tr>\n",
              "    <tr>\n",
              "      <th>4</th>\n",
              "      <td>20051865</td>\n",
              "      <td>BURGLARY RESIDENTIAL</td>\n",
              "      <td>11/09/2020 12:00:00 AM</td>\n",
              "      <td>19:08</td>\n",
              "      <td>BURGLARY - RESIDENTIAL</td>\n",
              "      <td>1</td>\n",
              "      <td>11/14/2024 12:00:00 AM</td>\n",
              "      <td>2400 BLOCK DWIGHT WAY\\nBerkeley, CA\\n(37.86482...</td>\n",
              "      <td>2400 BLOCK DWIGHT WAY</td>\n",
              "      <td>Berkeley</td>\n",
              "      <td>CA</td>\n",
              "    </tr>\n",
              "  </tbody>\n",
              "</table>\n",
              "</div>"
            ],
            "text/plain": [
              "     CASENO               OFFENSE  ...      City State\n",
              "0  20091947         BURGLARY AUTO  ...  Berkeley    CA\n",
              "1  21006333         FRAUD/FORGERY  ...  Berkeley    CA\n",
              "2  21003968               ROBBERY  ...  Berkeley    CA\n",
              "3  20046519           DISTURBANCE  ...  Berkeley    CA\n",
              "4  20051865  BURGLARY RESIDENTIAL  ...  Berkeley    CA\n",
              "\n",
              "[5 rows x 11 columns]"
            ]
          },
          "metadata": {
            "tags": []
          },
          "execution_count": 5
        }
      ]
    },
    {
      "cell_type": "code",
      "metadata": {
        "colab": {
          "base_uri": "https://localhost:8080/"
        },
        "id": "SiGUusqZlKt5",
        "outputId": "49501465-ae04-4bba-8dd4-2161acca4030"
      },
      "source": [
        "len(df)"
      ],
      "execution_count": null,
      "outputs": [
        {
          "output_type": "execute_result",
          "data": {
            "text/plain": [
              "2552"
            ]
          },
          "metadata": {
            "tags": []
          },
          "execution_count": 6
        }
      ]
    },
    {
      "cell_type": "code",
      "metadata": {
        "colab": {
          "base_uri": "https://localhost:8080/"
        },
        "id": "Xqw5FXkvleuF",
        "outputId": "b98745d1-ea5a-4313-c49f-aae2c92c7216"
      },
      "source": [
        "df.shape"
      ],
      "execution_count": null,
      "outputs": [
        {
          "output_type": "execute_result",
          "data": {
            "text/plain": [
              "(2552, 11)"
            ]
          },
          "metadata": {
            "tags": []
          },
          "execution_count": 7
        }
      ]
    },
    {
      "cell_type": "code",
      "metadata": {
        "colab": {
          "base_uri": "https://localhost:8080/"
        },
        "id": "lJttShF4Yq0I",
        "outputId": "da47c222-934b-4004-f456-7989490d52a7"
      },
      "source": [
        "df.isnull().sum()"
      ],
      "execution_count": null,
      "outputs": [
        {
          "output_type": "execute_result",
          "data": {
            "text/plain": [
              "CASENO             0\n",
              "OFFENSE            0\n",
              "EVENTDT            0\n",
              "EVENTTM            0\n",
              "CVLEGEND           0\n",
              "CVDOW              0\n",
              "InDbDate           0\n",
              "Block_Location     0\n",
              "BLKADDR           20\n",
              "City               0\n",
              "State              0\n",
              "dtype: int64"
            ]
          },
          "metadata": {
            "tags": []
          },
          "execution_count": 8
        }
      ]
    },
    {
      "cell_type": "code",
      "metadata": {
        "colab": {
          "base_uri": "https://localhost:8080/",
          "height": 402
        },
        "id": "O5H1v-wnZIl6",
        "outputId": "b8522176-4fb7-4452-8e3a-7f437f495002"
      },
      "source": [
        "df[[\"Block_Location\", \"BLKADDR\"]]"
      ],
      "execution_count": null,
      "outputs": [
        {
          "output_type": "execute_result",
          "data": {
            "text/html": [
              "<div>\n",
              "<style scoped>\n",
              "    .dataframe tbody tr th:only-of-type {\n",
              "        vertical-align: middle;\n",
              "    }\n",
              "\n",
              "    .dataframe tbody tr th {\n",
              "        vertical-align: top;\n",
              "    }\n",
              "\n",
              "    .dataframe thead th {\n",
              "        text-align: right;\n",
              "    }\n",
              "</style>\n",
              "<table border=\"1\" class=\"dataframe\">\n",
              "  <thead>\n",
              "    <tr style=\"text-align: right;\">\n",
              "      <th></th>\n",
              "      <th>Block_Location</th>\n",
              "      <th>BLKADDR</th>\n",
              "    </tr>\n",
              "  </thead>\n",
              "  <tbody>\n",
              "    <tr>\n",
              "      <th>0</th>\n",
              "      <td>Berkeley, CA\\n(37.869058, -122.270455)</td>\n",
              "      <td>NaN</td>\n",
              "    </tr>\n",
              "    <tr>\n",
              "      <th>1</th>\n",
              "      <td>Berkeley, CA\\n(37.869058, -122.270455)</td>\n",
              "      <td>NaN</td>\n",
              "    </tr>\n",
              "    <tr>\n",
              "      <th>2</th>\n",
              "      <td>2900 BLOCK SAN PABLO AVE\\nBerkeley, CA\\n(37.85...</td>\n",
              "      <td>2900 BLOCK SAN PABLO AVE</td>\n",
              "    </tr>\n",
              "    <tr>\n",
              "      <th>3</th>\n",
              "      <td>2500 BLOCK TELEGRAPH AVE\\nBerkeley, CA\\n(37.86...</td>\n",
              "      <td>2500 BLOCK TELEGRAPH AVE</td>\n",
              "    </tr>\n",
              "    <tr>\n",
              "      <th>4</th>\n",
              "      <td>2400 BLOCK DWIGHT WAY\\nBerkeley, CA\\n(37.86482...</td>\n",
              "      <td>2400 BLOCK DWIGHT WAY</td>\n",
              "    </tr>\n",
              "    <tr>\n",
              "      <th>...</th>\n",
              "      <td>...</td>\n",
              "      <td>...</td>\n",
              "    </tr>\n",
              "    <tr>\n",
              "      <th>2547</th>\n",
              "      <td>1300 BLOCK ROSE ST\\nBerkeley, CA\\n(37.876897, ...</td>\n",
              "      <td>1300 BLOCK ROSE ST</td>\n",
              "    </tr>\n",
              "    <tr>\n",
              "      <th>2548</th>\n",
              "      <td>1200 BLOCK ASHBY AVE\\nBerkeley, CA\\n(37.852211...</td>\n",
              "      <td>1200 BLOCK ASHBY AVE</td>\n",
              "    </tr>\n",
              "    <tr>\n",
              "      <th>2549</th>\n",
              "      <td>1900 BLOCK 8TH ST\\nBerkeley, CA\\n(37.869617, -...</td>\n",
              "      <td>1900 BLOCK 8TH ST</td>\n",
              "    </tr>\n",
              "    <tr>\n",
              "      <th>2550</th>\n",
              "      <td>1100 BLOCK UNIVERSITY AVE\\nBerkeley, CA\\n(37.8...</td>\n",
              "      <td>1100 BLOCK UNIVERSITY AVE</td>\n",
              "    </tr>\n",
              "    <tr>\n",
              "      <th>2551</th>\n",
              "      <td>2900 BLOCK TELEGRAPH AVE\\nBerkeley, CA\\n(37.85...</td>\n",
              "      <td>2900 BLOCK TELEGRAPH AVE</td>\n",
              "    </tr>\n",
              "  </tbody>\n",
              "</table>\n",
              "<p>2552 rows × 2 columns</p>\n",
              "</div>"
            ],
            "text/plain": [
              "                                         Block_Location                    BLKADDR\n",
              "0                Berkeley, CA\\n(37.869058, -122.270455)                        NaN\n",
              "1                Berkeley, CA\\n(37.869058, -122.270455)                        NaN\n",
              "2     2900 BLOCK SAN PABLO AVE\\nBerkeley, CA\\n(37.85...   2900 BLOCK SAN PABLO AVE\n",
              "3     2500 BLOCK TELEGRAPH AVE\\nBerkeley, CA\\n(37.86...   2500 BLOCK TELEGRAPH AVE\n",
              "4     2400 BLOCK DWIGHT WAY\\nBerkeley, CA\\n(37.86482...      2400 BLOCK DWIGHT WAY\n",
              "...                                                 ...                        ...\n",
              "2547  1300 BLOCK ROSE ST\\nBerkeley, CA\\n(37.876897, ...         1300 BLOCK ROSE ST\n",
              "2548  1200 BLOCK ASHBY AVE\\nBerkeley, CA\\n(37.852211...       1200 BLOCK ASHBY AVE\n",
              "2549  1900 BLOCK 8TH ST\\nBerkeley, CA\\n(37.869617, -...          1900 BLOCK 8TH ST\n",
              "2550  1100 BLOCK UNIVERSITY AVE\\nBerkeley, CA\\n(37.8...  1100 BLOCK UNIVERSITY AVE\n",
              "2551  2900 BLOCK TELEGRAPH AVE\\nBerkeley, CA\\n(37.85...   2900 BLOCK TELEGRAPH AVE\n",
              "\n",
              "[2552 rows x 2 columns]"
            ]
          },
          "metadata": {
            "tags": []
          },
          "execution_count": 9
        }
      ]
    },
    {
      "cell_type": "code",
      "metadata": {
        "id": "H1rdznZbg-8b"
      },
      "source": [
        "  "
      ],
      "execution_count": null,
      "outputs": []
    },
    {
      "cell_type": "markdown",
      "metadata": {
        "id": "Q1xx9Wxq6FUE"
      },
      "source": [
        "## Columns\n",
        "\n"
      ]
    },
    {
      "cell_type": "code",
      "metadata": {
        "colab": {
          "base_uri": "https://localhost:8080/"
        },
        "id": "B1XKWkJt58WH",
        "outputId": "699b90d1-17ac-495c-e835-d891a011ea28"
      },
      "source": [
        "df.columns"
      ],
      "execution_count": null,
      "outputs": [
        {
          "output_type": "execute_result",
          "data": {
            "text/plain": [
              "Index(['CASENO', 'OFFENSE', 'EVENTDT', 'EVENTTM', 'CVLEGEND', 'CVDOW',\n",
              "       'InDbDate', 'Block_Location', 'BLKADDR', 'City', 'State'],\n",
              "      dtype='object')"
            ]
          },
          "metadata": {
            "tags": []
          },
          "execution_count": 10
        }
      ]
    },
    {
      "cell_type": "code",
      "metadata": {
        "colab": {
          "base_uri": "https://localhost:8080/"
        },
        "id": "_G59UJn1lnt3",
        "outputId": "a123f826-f4e5-45fe-d6ba-f0bad1d618d0"
      },
      "source": [
        "df.Block_Location"
      ],
      "execution_count": null,
      "outputs": [
        {
          "output_type": "execute_result",
          "data": {
            "text/plain": [
              "0                  Berkeley, CA\\n(37.869058, -122.270455)\n",
              "1                  Berkeley, CA\\n(37.869058, -122.270455)\n",
              "2       2900 BLOCK SAN PABLO AVE\\nBerkeley, CA\\n(37.85...\n",
              "3       2500 BLOCK TELEGRAPH AVE\\nBerkeley, CA\\n(37.86...\n",
              "4       2400 BLOCK DWIGHT WAY\\nBerkeley, CA\\n(37.86482...\n",
              "                              ...                        \n",
              "2547    1300 BLOCK ROSE ST\\nBerkeley, CA\\n(37.876897, ...\n",
              "2548    1200 BLOCK ASHBY AVE\\nBerkeley, CA\\n(37.852211...\n",
              "2549    1900 BLOCK 8TH ST\\nBerkeley, CA\\n(37.869617, -...\n",
              "2550    1100 BLOCK UNIVERSITY AVE\\nBerkeley, CA\\n(37.8...\n",
              "2551    2900 BLOCK TELEGRAPH AVE\\nBerkeley, CA\\n(37.85...\n",
              "Name: Block_Location, Length: 2552, dtype: object"
            ]
          },
          "metadata": {
            "tags": []
          },
          "execution_count": 11
        }
      ]
    },
    {
      "cell_type": "code",
      "metadata": {
        "colab": {
          "base_uri": "https://localhost:8080/"
        },
        "id": "dIenmVgy-XZQ",
        "outputId": "dc696364-e3aa-4a66-f041-f4b75635e0fe"
      },
      "source": [
        "df.City.unique()"
      ],
      "execution_count": null,
      "outputs": [
        {
          "output_type": "execute_result",
          "data": {
            "text/plain": [
              "array(['Berkeley'], dtype=object)"
            ]
          },
          "metadata": {
            "tags": []
          },
          "execution_count": 12
        }
      ]
    },
    {
      "cell_type": "markdown",
      "metadata": {
        "id": "xlX0LtsJhVsp"
      },
      "source": [
        "## Categorical variables\n",
        "\n",
        "Convert the days of the week to a categorical variable"
      ]
    },
    {
      "cell_type": "code",
      "metadata": {
        "id": "ADDBieHabVwz"
      },
      "source": [
        "df[\"DAY\"] = df.CVDOW.map({ 0 : \"Sunday\", 1 : \"Monday\", 2 : \"Tuesday\", 3\n",
        ": \"Wednesday\",  4 : \"Thursday\", 5 : \"Friday\", 6 : \"Saturday\"}).astype(\"category\")\n"
      ],
      "execution_count": null,
      "outputs": []
    },
    {
      "cell_type": "code",
      "metadata": {
        "colab": {
          "base_uri": "https://localhost:8080/"
        },
        "id": "pFiDH6zvcF1Y",
        "outputId": "a30d1695-e255-43b8-d438-794b13ad109a"
      },
      "source": [
        "df[\"DAY\"]"
      ],
      "execution_count": null,
      "outputs": [
        {
          "output_type": "execute_result",
          "data": {
            "text/plain": [
              "0        Thursday\n",
              "1         Tuesday\n",
              "2          Friday\n",
              "3       Wednesday\n",
              "4          Monday\n",
              "          ...    \n",
              "2547    Wednesday\n",
              "2548     Thursday\n",
              "2549     Saturday\n",
              "2550      Tuesday\n",
              "2551      Tuesday\n",
              "Name: DAY, Length: 2552, dtype: category\n",
              "Categories (7, object): ['Friday', 'Monday', 'Saturday', 'Sunday', 'Thursday', 'Tuesday',\n",
              "                         'Wednesday']"
            ]
          },
          "metadata": {
            "tags": []
          },
          "execution_count": 14
        }
      ]
    },
    {
      "cell_type": "markdown",
      "metadata": {
        "id": "f4aILrQyRIMf"
      },
      "source": [
        "## Pivot table\n",
        "\n",
        "We can summarize the number of crime events for each day of the week."
      ]
    },
    {
      "cell_type": "code",
      "metadata": {
        "colab": {
          "base_uri": "https://localhost:8080/"
        },
        "id": "wNSipzfJR6iZ",
        "outputId": "9f3e5f87-fd23-47dd-b7ca-7201800118fb"
      },
      "source": [
        "df.columns"
      ],
      "execution_count": null,
      "outputs": [
        {
          "output_type": "execute_result",
          "data": {
            "text/plain": [
              "Index(['CASENO', 'OFFENSE', 'EVENTDT', 'EVENTTM', 'CVLEGEND', 'CVDOW',\n",
              "       'InDbDate', 'Block_Location', 'BLKADDR', 'City', 'State', 'DAY'],\n",
              "      dtype='object')"
            ]
          },
          "metadata": {
            "tags": []
          },
          "execution_count": 15
        }
      ]
    },
    {
      "cell_type": "code",
      "metadata": {
        "colab": {
          "base_uri": "https://localhost:8080/",
          "height": 338
        },
        "id": "NTEmniFhRPY_",
        "outputId": "2376c5a6-49c0-4006-d660-1f8e2533a8d8"
      },
      "source": [
        "df.pivot_table(values = \"CASENO\", index = 'DAY', columns = 'CVLEGEND', aggfunc = 'count')"
      ],
      "execution_count": null,
      "outputs": [
        {
          "output_type": "execute_result",
          "data": {
            "text/html": [
              "<div>\n",
              "<style scoped>\n",
              "    .dataframe tbody tr th:only-of-type {\n",
              "        vertical-align: middle;\n",
              "    }\n",
              "\n",
              "    .dataframe tbody tr th {\n",
              "        vertical-align: top;\n",
              "    }\n",
              "\n",
              "    .dataframe thead th {\n",
              "        text-align: right;\n",
              "    }\n",
              "</style>\n",
              "<table border=\"1\" class=\"dataframe\">\n",
              "  <thead>\n",
              "    <tr style=\"text-align: right;\">\n",
              "      <th>CVLEGEND</th>\n",
              "      <th>ALL OTHER OFFENSES</th>\n",
              "      <th>ARSON</th>\n",
              "      <th>ASSAULT</th>\n",
              "      <th>BURGLARY - COMMERCIAL</th>\n",
              "      <th>BURGLARY - RESIDENTIAL</th>\n",
              "      <th>BURGLARY - VEHICLE</th>\n",
              "      <th>DISORDERLY CONDUCT</th>\n",
              "      <th>DRUG VIOLATION</th>\n",
              "      <th>FAMILY OFFENSE</th>\n",
              "      <th>FRAUD</th>\n",
              "      <th>HOMICIDE</th>\n",
              "      <th>LARCENY</th>\n",
              "      <th>LARCENY - FROM VEHICLE</th>\n",
              "      <th>LIQUOR LAW VIOLATION</th>\n",
              "      <th>MISSING PERSON</th>\n",
              "      <th>MOTOR VEHICLE THEFT</th>\n",
              "      <th>RECOVERED VEHICLE</th>\n",
              "      <th>ROBBERY</th>\n",
              "      <th>SEX CRIME</th>\n",
              "      <th>VANDALISM</th>\n",
              "      <th>WEAPONS OFFENSE</th>\n",
              "    </tr>\n",
              "    <tr>\n",
              "      <th>DAY</th>\n",
              "      <th></th>\n",
              "      <th></th>\n",
              "      <th></th>\n",
              "      <th></th>\n",
              "      <th></th>\n",
              "      <th></th>\n",
              "      <th></th>\n",
              "      <th></th>\n",
              "      <th></th>\n",
              "      <th></th>\n",
              "      <th></th>\n",
              "      <th></th>\n",
              "      <th></th>\n",
              "      <th></th>\n",
              "      <th></th>\n",
              "      <th></th>\n",
              "      <th></th>\n",
              "      <th></th>\n",
              "      <th></th>\n",
              "      <th></th>\n",
              "      <th></th>\n",
              "    </tr>\n",
              "  </thead>\n",
              "  <tbody>\n",
              "    <tr>\n",
              "      <th>Friday</th>\n",
              "      <td>1.0</td>\n",
              "      <td>7.0</td>\n",
              "      <td>24.0</td>\n",
              "      <td>16.0</td>\n",
              "      <td>37.0</td>\n",
              "      <td>26.0</td>\n",
              "      <td>28.0</td>\n",
              "      <td>7.0</td>\n",
              "      <td>10.0</td>\n",
              "      <td>24.0</td>\n",
              "      <td>NaN</td>\n",
              "      <td>112.0</td>\n",
              "      <td>21.0</td>\n",
              "      <td>4.0</td>\n",
              "      <td>6.0</td>\n",
              "      <td>30.0</td>\n",
              "      <td>NaN</td>\n",
              "      <td>12.0</td>\n",
              "      <td>4.0</td>\n",
              "      <td>19.0</td>\n",
              "      <td>4.0</td>\n",
              "    </tr>\n",
              "    <tr>\n",
              "      <th>Monday</th>\n",
              "      <td>NaN</td>\n",
              "      <td>4.0</td>\n",
              "      <td>22.0</td>\n",
              "      <td>6.0</td>\n",
              "      <td>22.0</td>\n",
              "      <td>17.0</td>\n",
              "      <td>26.0</td>\n",
              "      <td>1.0</td>\n",
              "      <td>14.0</td>\n",
              "      <td>20.0</td>\n",
              "      <td>NaN</td>\n",
              "      <td>127.0</td>\n",
              "      <td>28.0</td>\n",
              "      <td>2.0</td>\n",
              "      <td>6.0</td>\n",
              "      <td>18.0</td>\n",
              "      <td>NaN</td>\n",
              "      <td>13.0</td>\n",
              "      <td>2.0</td>\n",
              "      <td>27.0</td>\n",
              "      <td>3.0</td>\n",
              "    </tr>\n",
              "    <tr>\n",
              "      <th>Saturday</th>\n",
              "      <td>NaN</td>\n",
              "      <td>6.0</td>\n",
              "      <td>19.0</td>\n",
              "      <td>16.0</td>\n",
              "      <td>24.0</td>\n",
              "      <td>25.0</td>\n",
              "      <td>21.0</td>\n",
              "      <td>6.0</td>\n",
              "      <td>12.0</td>\n",
              "      <td>7.0</td>\n",
              "      <td>1.0</td>\n",
              "      <td>126.0</td>\n",
              "      <td>21.0</td>\n",
              "      <td>8.0</td>\n",
              "      <td>3.0</td>\n",
              "      <td>33.0</td>\n",
              "      <td>1.0</td>\n",
              "      <td>14.0</td>\n",
              "      <td>4.0</td>\n",
              "      <td>26.0</td>\n",
              "      <td>4.0</td>\n",
              "    </tr>\n",
              "    <tr>\n",
              "      <th>Sunday</th>\n",
              "      <td>1.0</td>\n",
              "      <td>NaN</td>\n",
              "      <td>18.0</td>\n",
              "      <td>19.0</td>\n",
              "      <td>18.0</td>\n",
              "      <td>21.0</td>\n",
              "      <td>31.0</td>\n",
              "      <td>4.0</td>\n",
              "      <td>21.0</td>\n",
              "      <td>7.0</td>\n",
              "      <td>NaN</td>\n",
              "      <td>113.0</td>\n",
              "      <td>15.0</td>\n",
              "      <td>1.0</td>\n",
              "      <td>4.0</td>\n",
              "      <td>30.0</td>\n",
              "      <td>NaN</td>\n",
              "      <td>12.0</td>\n",
              "      <td>5.0</td>\n",
              "      <td>23.0</td>\n",
              "      <td>7.0</td>\n",
              "    </tr>\n",
              "    <tr>\n",
              "      <th>Thursday</th>\n",
              "      <td>NaN</td>\n",
              "      <td>NaN</td>\n",
              "      <td>13.0</td>\n",
              "      <td>12.0</td>\n",
              "      <td>29.0</td>\n",
              "      <td>31.0</td>\n",
              "      <td>29.0</td>\n",
              "      <td>3.0</td>\n",
              "      <td>8.0</td>\n",
              "      <td>23.0</td>\n",
              "      <td>NaN</td>\n",
              "      <td>113.0</td>\n",
              "      <td>23.0</td>\n",
              "      <td>1.0</td>\n",
              "      <td>3.0</td>\n",
              "      <td>35.0</td>\n",
              "      <td>1.0</td>\n",
              "      <td>8.0</td>\n",
              "      <td>3.0</td>\n",
              "      <td>23.0</td>\n",
              "      <td>7.0</td>\n",
              "    </tr>\n",
              "    <tr>\n",
              "      <th>Tuesday</th>\n",
              "      <td>NaN</td>\n",
              "      <td>NaN</td>\n",
              "      <td>19.0</td>\n",
              "      <td>17.0</td>\n",
              "      <td>24.0</td>\n",
              "      <td>15.0</td>\n",
              "      <td>26.0</td>\n",
              "      <td>3.0</td>\n",
              "      <td>8.0</td>\n",
              "      <td>19.0</td>\n",
              "      <td>NaN</td>\n",
              "      <td>121.0</td>\n",
              "      <td>20.0</td>\n",
              "      <td>2.0</td>\n",
              "      <td>2.0</td>\n",
              "      <td>29.0</td>\n",
              "      <td>NaN</td>\n",
              "      <td>15.0</td>\n",
              "      <td>1.0</td>\n",
              "      <td>23.0</td>\n",
              "      <td>4.0</td>\n",
              "    </tr>\n",
              "    <tr>\n",
              "      <th>Wednesday</th>\n",
              "      <td>NaN</td>\n",
              "      <td>5.0</td>\n",
              "      <td>18.0</td>\n",
              "      <td>12.0</td>\n",
              "      <td>29.0</td>\n",
              "      <td>22.0</td>\n",
              "      <td>25.0</td>\n",
              "      <td>4.0</td>\n",
              "      <td>12.0</td>\n",
              "      <td>13.0</td>\n",
              "      <td>NaN</td>\n",
              "      <td>103.0</td>\n",
              "      <td>23.0</td>\n",
              "      <td>3.0</td>\n",
              "      <td>6.0</td>\n",
              "      <td>38.0</td>\n",
              "      <td>1.0</td>\n",
              "      <td>17.0</td>\n",
              "      <td>3.0</td>\n",
              "      <td>22.0</td>\n",
              "      <td>6.0</td>\n",
              "    </tr>\n",
              "  </tbody>\n",
              "</table>\n",
              "</div>"
            ],
            "text/plain": [
              "CVLEGEND   ALL OTHER OFFENSES  ARSON  ...  VANDALISM  WEAPONS OFFENSE\n",
              "DAY                                   ...                            \n",
              "Friday                    1.0    7.0  ...       19.0              4.0\n",
              "Monday                    NaN    4.0  ...       27.0              3.0\n",
              "Saturday                  NaN    6.0  ...       26.0              4.0\n",
              "Sunday                    1.0    NaN  ...       23.0              7.0\n",
              "Thursday                  NaN    NaN  ...       23.0              7.0\n",
              "Tuesday                   NaN    NaN  ...       23.0              4.0\n",
              "Wednesday                 NaN    5.0  ...       22.0              6.0\n",
              "\n",
              "[7 rows x 21 columns]"
            ]
          },
          "metadata": {
            "tags": []
          },
          "execution_count": 16
        }
      ]
    },
    {
      "cell_type": "code",
      "metadata": {
        "colab": {
          "base_uri": "https://localhost:8080/",
          "height": 728
        },
        "id": "CeXvDRhLVT_3",
        "outputId": "9288114d-17bf-4ffb-945e-c6e3e1da5726"
      },
      "source": [
        "day_crime_table = df.pivot_table(values = \"CASENO\",\n",
        "                                 columns = 'DAY',\n",
        "                                 index = 'CVLEGEND',\n",
        "                                 aggfunc = 'count',\n",
        "                                 margins = True)\n",
        "day_crime_table"
      ],
      "execution_count": null,
      "outputs": [
        {
          "output_type": "execute_result",
          "data": {
            "text/html": [
              "<div>\n",
              "<style scoped>\n",
              "    .dataframe tbody tr th:only-of-type {\n",
              "        vertical-align: middle;\n",
              "    }\n",
              "\n",
              "    .dataframe tbody tr th {\n",
              "        vertical-align: top;\n",
              "    }\n",
              "\n",
              "    .dataframe thead th {\n",
              "        text-align: right;\n",
              "    }\n",
              "</style>\n",
              "<table border=\"1\" class=\"dataframe\">\n",
              "  <thead>\n",
              "    <tr style=\"text-align: right;\">\n",
              "      <th>DAY</th>\n",
              "      <th>Friday</th>\n",
              "      <th>Monday</th>\n",
              "      <th>Saturday</th>\n",
              "      <th>Sunday</th>\n",
              "      <th>Thursday</th>\n",
              "      <th>Tuesday</th>\n",
              "      <th>Wednesday</th>\n",
              "      <th>All</th>\n",
              "    </tr>\n",
              "    <tr>\n",
              "      <th>CVLEGEND</th>\n",
              "      <th></th>\n",
              "      <th></th>\n",
              "      <th></th>\n",
              "      <th></th>\n",
              "      <th></th>\n",
              "      <th></th>\n",
              "      <th></th>\n",
              "      <th></th>\n",
              "    </tr>\n",
              "  </thead>\n",
              "  <tbody>\n",
              "    <tr>\n",
              "      <th>ALL OTHER OFFENSES</th>\n",
              "      <td>1.0</td>\n",
              "      <td>NaN</td>\n",
              "      <td>NaN</td>\n",
              "      <td>1.0</td>\n",
              "      <td>NaN</td>\n",
              "      <td>NaN</td>\n",
              "      <td>NaN</td>\n",
              "      <td>2</td>\n",
              "    </tr>\n",
              "    <tr>\n",
              "      <th>ARSON</th>\n",
              "      <td>7.0</td>\n",
              "      <td>4.0</td>\n",
              "      <td>6.0</td>\n",
              "      <td>NaN</td>\n",
              "      <td>NaN</td>\n",
              "      <td>NaN</td>\n",
              "      <td>5.0</td>\n",
              "      <td>22</td>\n",
              "    </tr>\n",
              "    <tr>\n",
              "      <th>ASSAULT</th>\n",
              "      <td>24.0</td>\n",
              "      <td>22.0</td>\n",
              "      <td>19.0</td>\n",
              "      <td>18.0</td>\n",
              "      <td>13.0</td>\n",
              "      <td>19.0</td>\n",
              "      <td>18.0</td>\n",
              "      <td>133</td>\n",
              "    </tr>\n",
              "    <tr>\n",
              "      <th>BURGLARY - COMMERCIAL</th>\n",
              "      <td>16.0</td>\n",
              "      <td>6.0</td>\n",
              "      <td>16.0</td>\n",
              "      <td>19.0</td>\n",
              "      <td>12.0</td>\n",
              "      <td>17.0</td>\n",
              "      <td>12.0</td>\n",
              "      <td>98</td>\n",
              "    </tr>\n",
              "    <tr>\n",
              "      <th>BURGLARY - RESIDENTIAL</th>\n",
              "      <td>37.0</td>\n",
              "      <td>22.0</td>\n",
              "      <td>24.0</td>\n",
              "      <td>18.0</td>\n",
              "      <td>29.0</td>\n",
              "      <td>24.0</td>\n",
              "      <td>29.0</td>\n",
              "      <td>183</td>\n",
              "    </tr>\n",
              "    <tr>\n",
              "      <th>BURGLARY - VEHICLE</th>\n",
              "      <td>26.0</td>\n",
              "      <td>17.0</td>\n",
              "      <td>25.0</td>\n",
              "      <td>21.0</td>\n",
              "      <td>31.0</td>\n",
              "      <td>15.0</td>\n",
              "      <td>22.0</td>\n",
              "      <td>157</td>\n",
              "    </tr>\n",
              "    <tr>\n",
              "      <th>DISORDERLY CONDUCT</th>\n",
              "      <td>28.0</td>\n",
              "      <td>26.0</td>\n",
              "      <td>21.0</td>\n",
              "      <td>31.0</td>\n",
              "      <td>29.0</td>\n",
              "      <td>26.0</td>\n",
              "      <td>25.0</td>\n",
              "      <td>186</td>\n",
              "    </tr>\n",
              "    <tr>\n",
              "      <th>DRUG VIOLATION</th>\n",
              "      <td>7.0</td>\n",
              "      <td>1.0</td>\n",
              "      <td>6.0</td>\n",
              "      <td>4.0</td>\n",
              "      <td>3.0</td>\n",
              "      <td>3.0</td>\n",
              "      <td>4.0</td>\n",
              "      <td>28</td>\n",
              "    </tr>\n",
              "    <tr>\n",
              "      <th>FAMILY OFFENSE</th>\n",
              "      <td>10.0</td>\n",
              "      <td>14.0</td>\n",
              "      <td>12.0</td>\n",
              "      <td>21.0</td>\n",
              "      <td>8.0</td>\n",
              "      <td>8.0</td>\n",
              "      <td>12.0</td>\n",
              "      <td>85</td>\n",
              "    </tr>\n",
              "    <tr>\n",
              "      <th>FRAUD</th>\n",
              "      <td>24.0</td>\n",
              "      <td>20.0</td>\n",
              "      <td>7.0</td>\n",
              "      <td>7.0</td>\n",
              "      <td>23.0</td>\n",
              "      <td>19.0</td>\n",
              "      <td>13.0</td>\n",
              "      <td>113</td>\n",
              "    </tr>\n",
              "    <tr>\n",
              "      <th>HOMICIDE</th>\n",
              "      <td>NaN</td>\n",
              "      <td>NaN</td>\n",
              "      <td>1.0</td>\n",
              "      <td>NaN</td>\n",
              "      <td>NaN</td>\n",
              "      <td>NaN</td>\n",
              "      <td>NaN</td>\n",
              "      <td>1</td>\n",
              "    </tr>\n",
              "    <tr>\n",
              "      <th>LARCENY</th>\n",
              "      <td>112.0</td>\n",
              "      <td>127.0</td>\n",
              "      <td>126.0</td>\n",
              "      <td>113.0</td>\n",
              "      <td>113.0</td>\n",
              "      <td>121.0</td>\n",
              "      <td>103.0</td>\n",
              "      <td>815</td>\n",
              "    </tr>\n",
              "    <tr>\n",
              "      <th>LARCENY - FROM VEHICLE</th>\n",
              "      <td>21.0</td>\n",
              "      <td>28.0</td>\n",
              "      <td>21.0</td>\n",
              "      <td>15.0</td>\n",
              "      <td>23.0</td>\n",
              "      <td>20.0</td>\n",
              "      <td>23.0</td>\n",
              "      <td>151</td>\n",
              "    </tr>\n",
              "    <tr>\n",
              "      <th>LIQUOR LAW VIOLATION</th>\n",
              "      <td>4.0</td>\n",
              "      <td>2.0</td>\n",
              "      <td>8.0</td>\n",
              "      <td>1.0</td>\n",
              "      <td>1.0</td>\n",
              "      <td>2.0</td>\n",
              "      <td>3.0</td>\n",
              "      <td>21</td>\n",
              "    </tr>\n",
              "    <tr>\n",
              "      <th>MISSING PERSON</th>\n",
              "      <td>6.0</td>\n",
              "      <td>6.0</td>\n",
              "      <td>3.0</td>\n",
              "      <td>4.0</td>\n",
              "      <td>3.0</td>\n",
              "      <td>2.0</td>\n",
              "      <td>6.0</td>\n",
              "      <td>30</td>\n",
              "    </tr>\n",
              "    <tr>\n",
              "      <th>MOTOR VEHICLE THEFT</th>\n",
              "      <td>30.0</td>\n",
              "      <td>18.0</td>\n",
              "      <td>33.0</td>\n",
              "      <td>30.0</td>\n",
              "      <td>35.0</td>\n",
              "      <td>29.0</td>\n",
              "      <td>38.0</td>\n",
              "      <td>213</td>\n",
              "    </tr>\n",
              "    <tr>\n",
              "      <th>RECOVERED VEHICLE</th>\n",
              "      <td>NaN</td>\n",
              "      <td>NaN</td>\n",
              "      <td>1.0</td>\n",
              "      <td>NaN</td>\n",
              "      <td>1.0</td>\n",
              "      <td>NaN</td>\n",
              "      <td>1.0</td>\n",
              "      <td>3</td>\n",
              "    </tr>\n",
              "    <tr>\n",
              "      <th>ROBBERY</th>\n",
              "      <td>12.0</td>\n",
              "      <td>13.0</td>\n",
              "      <td>14.0</td>\n",
              "      <td>12.0</td>\n",
              "      <td>8.0</td>\n",
              "      <td>15.0</td>\n",
              "      <td>17.0</td>\n",
              "      <td>91</td>\n",
              "    </tr>\n",
              "    <tr>\n",
              "      <th>SEX CRIME</th>\n",
              "      <td>4.0</td>\n",
              "      <td>2.0</td>\n",
              "      <td>4.0</td>\n",
              "      <td>5.0</td>\n",
              "      <td>3.0</td>\n",
              "      <td>1.0</td>\n",
              "      <td>3.0</td>\n",
              "      <td>22</td>\n",
              "    </tr>\n",
              "    <tr>\n",
              "      <th>VANDALISM</th>\n",
              "      <td>19.0</td>\n",
              "      <td>27.0</td>\n",
              "      <td>26.0</td>\n",
              "      <td>23.0</td>\n",
              "      <td>23.0</td>\n",
              "      <td>23.0</td>\n",
              "      <td>22.0</td>\n",
              "      <td>163</td>\n",
              "    </tr>\n",
              "    <tr>\n",
              "      <th>WEAPONS OFFENSE</th>\n",
              "      <td>4.0</td>\n",
              "      <td>3.0</td>\n",
              "      <td>4.0</td>\n",
              "      <td>7.0</td>\n",
              "      <td>7.0</td>\n",
              "      <td>4.0</td>\n",
              "      <td>6.0</td>\n",
              "      <td>35</td>\n",
              "    </tr>\n",
              "    <tr>\n",
              "      <th>All</th>\n",
              "      <td>392.0</td>\n",
              "      <td>358.0</td>\n",
              "      <td>377.0</td>\n",
              "      <td>350.0</td>\n",
              "      <td>365.0</td>\n",
              "      <td>348.0</td>\n",
              "      <td>362.0</td>\n",
              "      <td>2552</td>\n",
              "    </tr>\n",
              "  </tbody>\n",
              "</table>\n",
              "</div>"
            ],
            "text/plain": [
              "DAY                     Friday  Monday  Saturday  ...  Tuesday  Wednesday   All\n",
              "CVLEGEND                                          ...                          \n",
              "ALL OTHER OFFENSES         1.0     NaN       NaN  ...      NaN        NaN     2\n",
              "ARSON                      7.0     4.0       6.0  ...      NaN        5.0    22\n",
              "ASSAULT                   24.0    22.0      19.0  ...     19.0       18.0   133\n",
              "BURGLARY - COMMERCIAL     16.0     6.0      16.0  ...     17.0       12.0    98\n",
              "BURGLARY - RESIDENTIAL    37.0    22.0      24.0  ...     24.0       29.0   183\n",
              "BURGLARY - VEHICLE        26.0    17.0      25.0  ...     15.0       22.0   157\n",
              "DISORDERLY CONDUCT        28.0    26.0      21.0  ...     26.0       25.0   186\n",
              "DRUG VIOLATION             7.0     1.0       6.0  ...      3.0        4.0    28\n",
              "FAMILY OFFENSE            10.0    14.0      12.0  ...      8.0       12.0    85\n",
              "FRAUD                     24.0    20.0       7.0  ...     19.0       13.0   113\n",
              "HOMICIDE                   NaN     NaN       1.0  ...      NaN        NaN     1\n",
              "LARCENY                  112.0   127.0     126.0  ...    121.0      103.0   815\n",
              "LARCENY - FROM VEHICLE    21.0    28.0      21.0  ...     20.0       23.0   151\n",
              "LIQUOR LAW VIOLATION       4.0     2.0       8.0  ...      2.0        3.0    21\n",
              "MISSING PERSON             6.0     6.0       3.0  ...      2.0        6.0    30\n",
              "MOTOR VEHICLE THEFT       30.0    18.0      33.0  ...     29.0       38.0   213\n",
              "RECOVERED VEHICLE          NaN     NaN       1.0  ...      NaN        1.0     3\n",
              "ROBBERY                   12.0    13.0      14.0  ...     15.0       17.0    91\n",
              "SEX CRIME                  4.0     2.0       4.0  ...      1.0        3.0    22\n",
              "VANDALISM                 19.0    27.0      26.0  ...     23.0       22.0   163\n",
              "WEAPONS OFFENSE            4.0     3.0       4.0  ...      4.0        6.0    35\n",
              "All                      392.0   358.0     377.0  ...    348.0      362.0  2552\n",
              "\n",
              "[22 rows x 8 columns]"
            ]
          },
          "metadata": {
            "tags": []
          },
          "execution_count": 17
        }
      ]
    },
    {
      "cell_type": "markdown",
      "metadata": {
        "id": "Ypx59DrSViD9"
      },
      "source": [
        "We can now sort by the rows that have the highest values."
      ]
    },
    {
      "cell_type": "code",
      "metadata": {
        "colab": {
          "base_uri": "https://localhost:8080/",
          "height": 728
        },
        "id": "llVksoARVg8H",
        "outputId": "fa09fb8b-7acd-4eac-df45-36780594148f"
      },
      "source": [
        "day_crime_table.sort_values(by=\"All\", ascending=False)"
      ],
      "execution_count": null,
      "outputs": [
        {
          "output_type": "execute_result",
          "data": {
            "text/html": [
              "<div>\n",
              "<style scoped>\n",
              "    .dataframe tbody tr th:only-of-type {\n",
              "        vertical-align: middle;\n",
              "    }\n",
              "\n",
              "    .dataframe tbody tr th {\n",
              "        vertical-align: top;\n",
              "    }\n",
              "\n",
              "    .dataframe thead th {\n",
              "        text-align: right;\n",
              "    }\n",
              "</style>\n",
              "<table border=\"1\" class=\"dataframe\">\n",
              "  <thead>\n",
              "    <tr style=\"text-align: right;\">\n",
              "      <th>DAY</th>\n",
              "      <th>Friday</th>\n",
              "      <th>Monday</th>\n",
              "      <th>Saturday</th>\n",
              "      <th>Sunday</th>\n",
              "      <th>Thursday</th>\n",
              "      <th>Tuesday</th>\n",
              "      <th>Wednesday</th>\n",
              "      <th>All</th>\n",
              "    </tr>\n",
              "    <tr>\n",
              "      <th>CVLEGEND</th>\n",
              "      <th></th>\n",
              "      <th></th>\n",
              "      <th></th>\n",
              "      <th></th>\n",
              "      <th></th>\n",
              "      <th></th>\n",
              "      <th></th>\n",
              "      <th></th>\n",
              "    </tr>\n",
              "  </thead>\n",
              "  <tbody>\n",
              "    <tr>\n",
              "      <th>All</th>\n",
              "      <td>392.0</td>\n",
              "      <td>358.0</td>\n",
              "      <td>377.0</td>\n",
              "      <td>350.0</td>\n",
              "      <td>365.0</td>\n",
              "      <td>348.0</td>\n",
              "      <td>362.0</td>\n",
              "      <td>2552</td>\n",
              "    </tr>\n",
              "    <tr>\n",
              "      <th>LARCENY</th>\n",
              "      <td>112.0</td>\n",
              "      <td>127.0</td>\n",
              "      <td>126.0</td>\n",
              "      <td>113.0</td>\n",
              "      <td>113.0</td>\n",
              "      <td>121.0</td>\n",
              "      <td>103.0</td>\n",
              "      <td>815</td>\n",
              "    </tr>\n",
              "    <tr>\n",
              "      <th>MOTOR VEHICLE THEFT</th>\n",
              "      <td>30.0</td>\n",
              "      <td>18.0</td>\n",
              "      <td>33.0</td>\n",
              "      <td>30.0</td>\n",
              "      <td>35.0</td>\n",
              "      <td>29.0</td>\n",
              "      <td>38.0</td>\n",
              "      <td>213</td>\n",
              "    </tr>\n",
              "    <tr>\n",
              "      <th>DISORDERLY CONDUCT</th>\n",
              "      <td>28.0</td>\n",
              "      <td>26.0</td>\n",
              "      <td>21.0</td>\n",
              "      <td>31.0</td>\n",
              "      <td>29.0</td>\n",
              "      <td>26.0</td>\n",
              "      <td>25.0</td>\n",
              "      <td>186</td>\n",
              "    </tr>\n",
              "    <tr>\n",
              "      <th>BURGLARY - RESIDENTIAL</th>\n",
              "      <td>37.0</td>\n",
              "      <td>22.0</td>\n",
              "      <td>24.0</td>\n",
              "      <td>18.0</td>\n",
              "      <td>29.0</td>\n",
              "      <td>24.0</td>\n",
              "      <td>29.0</td>\n",
              "      <td>183</td>\n",
              "    </tr>\n",
              "    <tr>\n",
              "      <th>VANDALISM</th>\n",
              "      <td>19.0</td>\n",
              "      <td>27.0</td>\n",
              "      <td>26.0</td>\n",
              "      <td>23.0</td>\n",
              "      <td>23.0</td>\n",
              "      <td>23.0</td>\n",
              "      <td>22.0</td>\n",
              "      <td>163</td>\n",
              "    </tr>\n",
              "    <tr>\n",
              "      <th>BURGLARY - VEHICLE</th>\n",
              "      <td>26.0</td>\n",
              "      <td>17.0</td>\n",
              "      <td>25.0</td>\n",
              "      <td>21.0</td>\n",
              "      <td>31.0</td>\n",
              "      <td>15.0</td>\n",
              "      <td>22.0</td>\n",
              "      <td>157</td>\n",
              "    </tr>\n",
              "    <tr>\n",
              "      <th>LARCENY - FROM VEHICLE</th>\n",
              "      <td>21.0</td>\n",
              "      <td>28.0</td>\n",
              "      <td>21.0</td>\n",
              "      <td>15.0</td>\n",
              "      <td>23.0</td>\n",
              "      <td>20.0</td>\n",
              "      <td>23.0</td>\n",
              "      <td>151</td>\n",
              "    </tr>\n",
              "    <tr>\n",
              "      <th>ASSAULT</th>\n",
              "      <td>24.0</td>\n",
              "      <td>22.0</td>\n",
              "      <td>19.0</td>\n",
              "      <td>18.0</td>\n",
              "      <td>13.0</td>\n",
              "      <td>19.0</td>\n",
              "      <td>18.0</td>\n",
              "      <td>133</td>\n",
              "    </tr>\n",
              "    <tr>\n",
              "      <th>FRAUD</th>\n",
              "      <td>24.0</td>\n",
              "      <td>20.0</td>\n",
              "      <td>7.0</td>\n",
              "      <td>7.0</td>\n",
              "      <td>23.0</td>\n",
              "      <td>19.0</td>\n",
              "      <td>13.0</td>\n",
              "      <td>113</td>\n",
              "    </tr>\n",
              "    <tr>\n",
              "      <th>BURGLARY - COMMERCIAL</th>\n",
              "      <td>16.0</td>\n",
              "      <td>6.0</td>\n",
              "      <td>16.0</td>\n",
              "      <td>19.0</td>\n",
              "      <td>12.0</td>\n",
              "      <td>17.0</td>\n",
              "      <td>12.0</td>\n",
              "      <td>98</td>\n",
              "    </tr>\n",
              "    <tr>\n",
              "      <th>ROBBERY</th>\n",
              "      <td>12.0</td>\n",
              "      <td>13.0</td>\n",
              "      <td>14.0</td>\n",
              "      <td>12.0</td>\n",
              "      <td>8.0</td>\n",
              "      <td>15.0</td>\n",
              "      <td>17.0</td>\n",
              "      <td>91</td>\n",
              "    </tr>\n",
              "    <tr>\n",
              "      <th>FAMILY OFFENSE</th>\n",
              "      <td>10.0</td>\n",
              "      <td>14.0</td>\n",
              "      <td>12.0</td>\n",
              "      <td>21.0</td>\n",
              "      <td>8.0</td>\n",
              "      <td>8.0</td>\n",
              "      <td>12.0</td>\n",
              "      <td>85</td>\n",
              "    </tr>\n",
              "    <tr>\n",
              "      <th>WEAPONS OFFENSE</th>\n",
              "      <td>4.0</td>\n",
              "      <td>3.0</td>\n",
              "      <td>4.0</td>\n",
              "      <td>7.0</td>\n",
              "      <td>7.0</td>\n",
              "      <td>4.0</td>\n",
              "      <td>6.0</td>\n",
              "      <td>35</td>\n",
              "    </tr>\n",
              "    <tr>\n",
              "      <th>MISSING PERSON</th>\n",
              "      <td>6.0</td>\n",
              "      <td>6.0</td>\n",
              "      <td>3.0</td>\n",
              "      <td>4.0</td>\n",
              "      <td>3.0</td>\n",
              "      <td>2.0</td>\n",
              "      <td>6.0</td>\n",
              "      <td>30</td>\n",
              "    </tr>\n",
              "    <tr>\n",
              "      <th>DRUG VIOLATION</th>\n",
              "      <td>7.0</td>\n",
              "      <td>1.0</td>\n",
              "      <td>6.0</td>\n",
              "      <td>4.0</td>\n",
              "      <td>3.0</td>\n",
              "      <td>3.0</td>\n",
              "      <td>4.0</td>\n",
              "      <td>28</td>\n",
              "    </tr>\n",
              "    <tr>\n",
              "      <th>ARSON</th>\n",
              "      <td>7.0</td>\n",
              "      <td>4.0</td>\n",
              "      <td>6.0</td>\n",
              "      <td>NaN</td>\n",
              "      <td>NaN</td>\n",
              "      <td>NaN</td>\n",
              "      <td>5.0</td>\n",
              "      <td>22</td>\n",
              "    </tr>\n",
              "    <tr>\n",
              "      <th>SEX CRIME</th>\n",
              "      <td>4.0</td>\n",
              "      <td>2.0</td>\n",
              "      <td>4.0</td>\n",
              "      <td>5.0</td>\n",
              "      <td>3.0</td>\n",
              "      <td>1.0</td>\n",
              "      <td>3.0</td>\n",
              "      <td>22</td>\n",
              "    </tr>\n",
              "    <tr>\n",
              "      <th>LIQUOR LAW VIOLATION</th>\n",
              "      <td>4.0</td>\n",
              "      <td>2.0</td>\n",
              "      <td>8.0</td>\n",
              "      <td>1.0</td>\n",
              "      <td>1.0</td>\n",
              "      <td>2.0</td>\n",
              "      <td>3.0</td>\n",
              "      <td>21</td>\n",
              "    </tr>\n",
              "    <tr>\n",
              "      <th>RECOVERED VEHICLE</th>\n",
              "      <td>NaN</td>\n",
              "      <td>NaN</td>\n",
              "      <td>1.0</td>\n",
              "      <td>NaN</td>\n",
              "      <td>1.0</td>\n",
              "      <td>NaN</td>\n",
              "      <td>1.0</td>\n",
              "      <td>3</td>\n",
              "    </tr>\n",
              "    <tr>\n",
              "      <th>ALL OTHER OFFENSES</th>\n",
              "      <td>1.0</td>\n",
              "      <td>NaN</td>\n",
              "      <td>NaN</td>\n",
              "      <td>1.0</td>\n",
              "      <td>NaN</td>\n",
              "      <td>NaN</td>\n",
              "      <td>NaN</td>\n",
              "      <td>2</td>\n",
              "    </tr>\n",
              "    <tr>\n",
              "      <th>HOMICIDE</th>\n",
              "      <td>NaN</td>\n",
              "      <td>NaN</td>\n",
              "      <td>1.0</td>\n",
              "      <td>NaN</td>\n",
              "      <td>NaN</td>\n",
              "      <td>NaN</td>\n",
              "      <td>NaN</td>\n",
              "      <td>1</td>\n",
              "    </tr>\n",
              "  </tbody>\n",
              "</table>\n",
              "</div>"
            ],
            "text/plain": [
              "DAY                     Friday  Monday  Saturday  ...  Tuesday  Wednesday   All\n",
              "CVLEGEND                                          ...                          \n",
              "All                      392.0   358.0     377.0  ...    348.0      362.0  2552\n",
              "LARCENY                  112.0   127.0     126.0  ...    121.0      103.0   815\n",
              "MOTOR VEHICLE THEFT       30.0    18.0      33.0  ...     29.0       38.0   213\n",
              "DISORDERLY CONDUCT        28.0    26.0      21.0  ...     26.0       25.0   186\n",
              "BURGLARY - RESIDENTIAL    37.0    22.0      24.0  ...     24.0       29.0   183\n",
              "VANDALISM                 19.0    27.0      26.0  ...     23.0       22.0   163\n",
              "BURGLARY - VEHICLE        26.0    17.0      25.0  ...     15.0       22.0   157\n",
              "LARCENY - FROM VEHICLE    21.0    28.0      21.0  ...     20.0       23.0   151\n",
              "ASSAULT                   24.0    22.0      19.0  ...     19.0       18.0   133\n",
              "FRAUD                     24.0    20.0       7.0  ...     19.0       13.0   113\n",
              "BURGLARY - COMMERCIAL     16.0     6.0      16.0  ...     17.0       12.0    98\n",
              "ROBBERY                   12.0    13.0      14.0  ...     15.0       17.0    91\n",
              "FAMILY OFFENSE            10.0    14.0      12.0  ...      8.0       12.0    85\n",
              "WEAPONS OFFENSE            4.0     3.0       4.0  ...      4.0        6.0    35\n",
              "MISSING PERSON             6.0     6.0       3.0  ...      2.0        6.0    30\n",
              "DRUG VIOLATION             7.0     1.0       6.0  ...      3.0        4.0    28\n",
              "ARSON                      7.0     4.0       6.0  ...      NaN        5.0    22\n",
              "SEX CRIME                  4.0     2.0       4.0  ...      1.0        3.0    22\n",
              "LIQUOR LAW VIOLATION       4.0     2.0       8.0  ...      2.0        3.0    21\n",
              "RECOVERED VEHICLE          NaN     NaN       1.0  ...      NaN        1.0     3\n",
              "ALL OTHER OFFENSES         1.0     NaN       NaN  ...      NaN        NaN     2\n",
              "HOMICIDE                   NaN     NaN       1.0  ...      NaN        NaN     1\n",
              "\n",
              "[22 rows x 8 columns]"
            ]
          },
          "metadata": {
            "tags": []
          },
          "execution_count": 18
        }
      ]
    },
    {
      "cell_type": "code",
      "metadata": {
        "colab": {
          "base_uri": "https://localhost:8080/",
          "height": 306
        },
        "id": "RKFH0DvfqLAF",
        "outputId": "d60844e4-1971-4231-b2cc-e4eb39d2b62b"
      },
      "source": [
        "%matplotlib inline\n",
        "import matplotlib.pyplot as plt\n",
        "day_crime_table.pivot_table( \"All\",columns= \"CVLEGEND\").plot(kind=\"bar\", legend=None)\n",
        "\n"
      ],
      "execution_count": null,
      "outputs": [
        {
          "output_type": "execute_result",
          "data": {
            "text/plain": [
              "<matplotlib.axes._subplots.AxesSubplot at 0x7efed7e8d450>"
            ]
          },
          "metadata": {
            "tags": []
          },
          "execution_count": 50
        },
        {
          "output_type": "display_data",
          "data": {
            "image/png": "[encoded data removed]",
            "text/plain": [
              "<Figure size 432x288 with 1 Axes>"
            ]
          },
          "metadata": {
            "tags": [],
            "needs_background": "light"
          }
        }
      ]
    },
    {
      "cell_type": "markdown",
      "metadata": {
        "id": "92t8XqOjV_oN"
      },
      "source": [
        "## Dealing with datetime"
      ]
    },
    {
      "cell_type": "code",
      "metadata": {
        "id": "KoUyg22RWHDD"
      },
      "source": [
        "from datetime import datetime\n"
      ],
      "execution_count": null,
      "outputs": []
    },
    {
      "cell_type": "code",
      "metadata": {
        "id": "bElnQQosWJyx"
      },
      "source": [
        "pd.to_datetime(df[\"EVENTDT\"])"
      ],
      "execution_count": null,
      "outputs": []
    },
    {
      "cell_type": "markdown",
      "metadata": {
        "id": "FDA3_m6tWx5i"
      },
      "source": [
        "We can assign it back to the same column name.  We have converted a string type column to a datetime column."
      ]
    },
    {
      "cell_type": "code",
      "metadata": {
        "id": "gwLY0Y8tW7H_"
      },
      "source": [
        "df[\"EVENTDT\"].dtype"
      ],
      "execution_count": null,
      "outputs": []
    },
    {
      "cell_type": "code",
      "metadata": {
        "id": "P9dkICl2WedH"
      },
      "source": [
        "df[\"EVENTDT\"] = pd.to_datetime(df[\"EVENTDT\"])"
      ],
      "execution_count": null,
      "outputs": []
    },
    {
      "cell_type": "code",
      "metadata": {
        "id": "A51ZrCcrXQM3"
      },
      "source": [
        "df[\"EVENTDT\"]"
      ],
      "execution_count": null,
      "outputs": []
    },
    {
      "cell_type": "markdown",
      "metadata": {
        "id": "UVzUojY0Xyuy"
      },
      "source": [
        "We can calculate the number of days between the event of the crime and the date in the database.  To do that let us convert the other date entry in the dataframe to a date type."
      ]
    },
    {
      "cell_type": "code",
      "metadata": {
        "id": "W34LUQvVX_9Z"
      },
      "source": [
        "df[\"InDbDate\"] = pd.to_datetime(df[\"InDbDate\"])\n"
      ],
      "execution_count": null,
      "outputs": []
    },
    {
      "cell_type": "code",
      "metadata": {
        "id": "j83ZfkOeYmdt"
      },
      "source": [
        "df[\"InDbDate\"]"
      ],
      "execution_count": null,
      "outputs": []
    },
    {
      "cell_type": "markdown",
      "metadata": {
        "id": "uSAJA-EUYFV4"
      },
      "source": [
        "Now we can calculate the difference between the dates as a time delta, and generate some statistics on it too."
      ]
    },
    {
      "cell_type": "code",
      "metadata": {
        "id": "SqhXKL1ps5bU"
      },
      "source": [
        "old_date = pd.to_datetime(\"2020-01-31\")\n",
        "new_date = pd.to_datetime(\"2021-01-31 10:30:00\")\n",
        "print(new_date, old_date)\n",
        "new_date"
      ],
      "execution_count": null,
      "outputs": []
    },
    {
      "cell_type": "code",
      "metadata": {
        "id": "FJzpSXVptEve"
      },
      "source": [
        "new_date - old_date"
      ],
      "execution_count": null,
      "outputs": []
    },
    {
      "cell_type": "code",
      "metadata": {
        "id": "XV33TmxKYE7u"
      },
      "source": [
        "(df[\"InDbDate\"] - df[\"EVENTDT\"]).agg([\"min\",\"max\"])"
      ],
      "execution_count": null,
      "outputs": []
    },
    {
      "cell_type": "code",
      "metadata": {
        "id": "tDtd2FgJMkSv"
      },
      "source": [
        "df[\"InDbDate\"].agg([\"min\",\"max\"])"
      ],
      "execution_count": null,
      "outputs": []
    },
    {
      "cell_type": "markdown",
      "metadata": {
        "id": "nVY3MOX1IvUk"
      },
      "source": [
        "## Dealing with duplicates\n",
        "\n",
        "There are two offense columns `CVLEGEND` and `OFFENSE`.  Let us explore this a bit."
      ]
    },
    {
      "cell_type": "code",
      "metadata": {
        "id": "OuG9zxXg-4Py"
      },
      "source": [
        "df.CVLEGEND.unique()"
      ],
      "execution_count": null,
      "outputs": []
    },
    {
      "cell_type": "code",
      "metadata": {
        "id": "u4bMCC1jJC1K"
      },
      "source": [
        "df.CVLEGEND.nunique()"
      ],
      "execution_count": null,
      "outputs": []
    },
    {
      "cell_type": "code",
      "metadata": {
        "id": "DXGWUgYW_TGL"
      },
      "source": [
        "# Recall that a column can be accessed by either the . notation or the [] notation.\n",
        "# the . notation can be used only when column names do not have a space or other special characters.\n",
        "\n",
        "df[\"OFFENSE\"].unique()"
      ],
      "execution_count": null,
      "outputs": []
    },
    {
      "cell_type": "code",
      "metadata": {
        "id": "yYnpwFk3JFCU"
      },
      "source": [
        "df[\"OFFENSE\"].nunique()"
      ],
      "execution_count": null,
      "outputs": []
    },
    {
      "cell_type": "markdown",
      "metadata": {
        "id": "SkqEybC2I35V"
      },
      "source": [
        "Some of the `OFFENSE` types probably fall in the same category. Let us subset the two columns into a smaller dataset to see if we can simplify."
      ]
    },
    {
      "cell_type": "code",
      "metadata": {
        "id": "635LNkeP_dQn"
      },
      "source": [
        "# Remember that df[\"column name\"] gives us just that column as a series object\n",
        "df[\"OFFENSE\"]"
      ],
      "execution_count": null,
      "outputs": []
    },
    {
      "cell_type": "code",
      "metadata": {
        "id": "T7WWKtP6JZJV"
      },
      "source": [
        "# df[[col1, col2]] is a subset of columns selected.  This gives us a dataframe with two columns.\n",
        "\n",
        "offense_df = df[ [\"OFFENSE\", \"CVLEGEND\"] ]\n",
        "offense_df"
      ],
      "execution_count": null,
      "outputs": []
    },
    {
      "cell_type": "code",
      "metadata": {
        "id": "xlesPhJyCiwl"
      },
      "source": [
        "len(offense_df)"
      ],
      "execution_count": null,
      "outputs": []
    },
    {
      "cell_type": "markdown",
      "metadata": {
        "id": "vYGbfml3KRPU"
      },
      "source": [
        "### `unique` and `duplicated`\n",
        "\n",
        "`unique()` worked for Series, but there is no equivalent in a dataframe. Instead  we will use `duplicated()` for a dataframe.\n",
        "\n",
        "`duplicated()` will also work for Series."
      ]
    },
    {
      "cell_type": "code",
      "metadata": {
        "id": "x0eoBGicJrpi"
      },
      "source": [
        "offense_df.unique()"
      ],
      "execution_count": null,
      "outputs": []
    },
    {
      "cell_type": "code",
      "metadata": {
        "id": "06O9hIcH0snb"
      },
      "source": [
        "s = pd.Series([1, 2, 1, 2, 3, 1, 2, 3])\n",
        "s.duplicated()"
      ],
      "execution_count": null,
      "outputs": []
    },
    {
      "cell_type": "code",
      "metadata": {
        "id": "WsRlUEHr08TE"
      },
      "source": [
        "~s.duplicated()"
      ],
      "execution_count": null,
      "outputs": []
    },
    {
      "cell_type": "code",
      "metadata": {
        "id": "Wh59HKBo1BRR"
      },
      "source": [
        "s[~s.duplicated()]"
      ],
      "execution_count": null,
      "outputs": []
    },
    {
      "cell_type": "code",
      "metadata": {
        "id": "8M6xqTzXLBTA"
      },
      "source": [
        "# duplicated returnsa boolean series\n",
        "offense_df.duplicated()"
      ],
      "execution_count": null,
      "outputs": []
    },
    {
      "cell_type": "markdown",
      "metadata": {
        "id": "ebujHGcHLQVv"
      },
      "source": [
        "\n",
        "Recall that when we were filtering/subsetting Series or Dataframe, we used the boolean series to obtain the subset.\n",
        "\n",
        "Notice that the first occurence of a value is marked as `False` and the duplicated occurence is marked as `True`.  So we want the negation of the filtering.\n"
      ]
    },
    {
      "cell_type": "code",
      "metadata": {
        "id": "VezipxgZLnR-"
      },
      "source": [
        "offense_df[~offense_df.duplicated()]"
      ],
      "execution_count": null,
      "outputs": []
    },
    {
      "cell_type": "markdown",
      "metadata": {
        "id": "1Zjl1JRYNgdb"
      },
      "source": [
        "Another simpler option is to use `drop_duplicates()`.\\\n",
        "https://pandas.pydata.org/pandas-docs/stable/reference/api/pandas.DataFrame.drop_duplicates.html"
      ]
    },
    {
      "cell_type": "code",
      "metadata": {
        "id": "txpmzuLSMnhM"
      },
      "source": [
        "offense_df.drop_duplicates()"
      ],
      "execution_count": null,
      "outputs": []
    },
    {
      "cell_type": "code",
      "metadata": {
        "id": "mocMPwp-DyF6"
      },
      "source": [
        "len(offense_df)"
      ],
      "execution_count": null,
      "outputs": []
    },
    {
      "cell_type": "code",
      "metadata": {
        "id": "eo4u7XZjNvgm"
      },
      "source": [
        "len(offense_df.drop_duplicates())"
      ],
      "execution_count": null,
      "outputs": []
    },
    {
      "cell_type": "code",
      "metadata": {
        "id": "4e56m2OwN5p_"
      },
      "source": [
        "simplified_offenses = offense_df.drop_duplicates()\n",
        "simplified_offenses[simplified_offenses.duplicated(\"CVLEGEND\", keep = \"last\")]# first : Mark duplicates as True except for the first occurrence.\n",
        "\n",
        "# last : Mark duplicates as True except for the last occurrence.\n",
        "\n",
        "# False : Mark all duplicates as True."
      ],
      "execution_count": null,
      "outputs": []
    },
    {
      "cell_type": "markdown",
      "metadata": {
        "id": "ZSV6ooqQrbhg"
      },
      "source": [
        "Among these, how often does LARCENY occur in the data?  What is the most common OFFENSE for LARCENY? These are a bit difficult to accomplish using the methods we have discussed so far. We will look at some other methods for answering question in the next few classes."
      ]
    },
    {
      "cell_type": "markdown",
      "metadata": {
        "id": "If_T_99kj5vz"
      },
      "source": [
        "# Groupby"
      ]
    },
    {
      "cell_type": "markdown",
      "metadata": {
        "id": "aQQa4H3XaR3L"
      },
      "source": [
        "Exercises for the Berkeley dataset\n",
        "\n",
        "1. How many events (of any kind) have occured on different days of the week?\n",
        "2. `CVLEGEND` has 21 kinds of crimes. How many events (`CVLEGEND`) of each kind have occured?\n",
        "3. Pick the crime type that is most common. How many events of this kind occur on different days of the week?\n",
        "4. How many events of any kind have happened on different days of the week? (this can have upto 21x7 groups for 21 crime types and 7 days of the week.)\n",
        "5. Last week we created offense_df. This was a subset of `CVLEGEND` and `OFFENSE` columns. There are 28 `OFFENSE` types and 21 `CVLEGEND` types. How many offenses of each kind are listed per `CVLEGEND` type?"
      ]
    },
    {
      "cell_type": "code",
      "metadata": {
        "id": "OmgR9ap9j3kI"
      },
      "source": [
        "# 1. Number of events per day of the week.\n",
        "df.groupby(\"DAY\")['CASENO'].count()"
      ],
      "execution_count": null,
      "outputs": []
    },
    {
      "cell_type": "markdown",
      "metadata": {
        "id": "f1tpM6Rbkhwt"
      },
      "source": [
        "Groupby has a `plot()` method. The default is a line graph."
      ]
    },
    {
      "cell_type": "code",
      "metadata": {
        "id": "fCWzkiqWV81v"
      },
      "source": [
        "df.groupby(\"DAY\")['CASENO'].count().plot()"
      ],
      "execution_count": null,
      "outputs": []
    },
    {
      "cell_type": "markdown",
      "metadata": {
        "id": "c2RduVf5kpG7"
      },
      "source": [
        "We can get a bar graph using the `kind = \"bar\"` argument."
      ]
    },
    {
      "cell_type": "code",
      "metadata": {
        "id": "s-MdsXqAWCSZ"
      },
      "source": [
        "df.groupby(\"DAY\")['CASENO'].count().plot(kind = \"bar\")\n",
        "# Use ylim to limit the y-axis range."
      ],
      "execution_count": null,
      "outputs": []
    },
    {
      "cell_type": "code",
      "metadata": {
        "id": "Zaxr0jVLkGiJ"
      },
      "source": [
        "# 2. Number of events for each Crime type.\n",
        "\n",
        "df.groupby(\"CVLEGEND\")[\"CASENO\"].count()"
      ],
      "execution_count": null,
      "outputs": []
    },
    {
      "cell_type": "code",
      "metadata": {
        "id": "Y24NatbGNndb"
      },
      "source": [
        "# We can get the same data from the smaller offense_df dataframe too.\n",
        "\n",
        "offense_df.groupby(\"CVLEGEND\").count()"
      ],
      "execution_count": null,
      "outputs": []
    },
    {
      "cell_type": "code",
      "metadata": {
        "id": "7cxOVETRr49Y"
      },
      "source": [
        "# 3. `LARCENY` is the crime with the most number of events.\n",
        "# We will get the number of events per day.\n",
        "larceny_df = df[df[\"CVLEGEND\"] == \"LARCENY\"]\n",
        "larceny_df.groupby(\"DAY\")[\"CASENO\"].count()"
      ],
      "execution_count": null,
      "outputs": []
    },
    {
      "cell_type": "code",
      "metadata": {
        "id": "BUgxdxvM5ydV"
      },
      "source": [
        ""
      ],
      "execution_count": null,
      "outputs": []
    },
    {
      "cell_type": "code",
      "metadata": {
        "id": "Dkggzdhk5CkM"
      },
      "source": [
        "lar_as_df = df[(df[\"CVLEGEND\"] == \"LARCENY\") | (df[\"CVLEGEND\"] == \"ASSAULT\")]\n",
        "lar_as_df"
      ],
      "execution_count": null,
      "outputs": []
    },
    {
      "cell_type": "code",
      "metadata": {
        "id": "HEM1ehK7W_qf"
      },
      "source": [
        "lar_as_df.groupby([\"DAY\", \"CVLEGEND\"])['CASENO'].count().to_frame().unstack().plot(kind=\"bar\",stacked=True)"
      ],
      "execution_count": null,
      "outputs": []
    },
    {
      "cell_type": "code",
      "metadata": {
        "id": "NtL_THDHkYSo"
      },
      "source": [
        "# 4.\n",
        "df.groupby([\"DAY\", \"CVLEGEND\"])[\"CASENO\"].count()"
      ],
      "execution_count": null,
      "outputs": []
    },
    {
      "cell_type": "code",
      "metadata": {
        "id": "Lxpw6-zzOEYK"
      },
      "source": [
        "# 5. \n",
        "offense_df.groupby([\"CVLEGEND\",\"OFFENSE\"]).count()\n",
        "# df[[\"CVLEGEND\",\"OFFENSE\"]].groupby([\"CVLEGEND\",\"OFFENSE\"]).count()"
      ],
      "execution_count": null,
      "outputs": []
    },
    {
      "cell_type": "code",
      "metadata": {
        "id": "ro014eInV4cb"
      },
      "source": [
        ""
      ],
      "execution_count": null,
      "outputs": []
    },
    {
      "cell_type": "markdown",
      "metadata": {
        "id": "YSveHiiTEzT-"
      },
      "source": [
        "## String split"
      ]
    },
    {
      "cell_type": "markdown",
      "metadata": {
        "id": "6VfT4OwWU8rg"
      },
      "source": [
        "### Split in python"
      ]
    },
    {
      "cell_type": "code",
      "metadata": {
        "id": "YkMtiOlsE0ze"
      },
      "source": [
        "s = \"This is a very long sentence that we will break up. This one has a    lot   of  spaces  .    \""
      ],
      "execution_count": null,
      "outputs": []
    },
    {
      "cell_type": "code",
      "metadata": {
        "id": "JF4-uuHlFB8I"
      },
      "source": [
        "# split() will split with the `space` character.\n",
        "s.split()"
      ],
      "execution_count": null,
      "outputs": []
    },
    {
      "cell_type": "code",
      "metadata": {
        "id": "ebcIKiM7FC7I"
      },
      "source": [
        "# You can split with any character.\n",
        "s.split(\".\")"
      ],
      "execution_count": null,
      "outputs": []
    },
    {
      "cell_type": "code",
      "metadata": {
        "id": "Pd3ZgkC8FG7L"
      },
      "source": [
        "# notice that the character used to split is not in the result.\n",
        "s.split(\"a\")"
      ],
      "execution_count": null,
      "outputs": []
    },
    {
      "cell_type": "code",
      "metadata": {
        "id": "_fQ7F6OoFyTZ"
      },
      "source": [
        ""
      ],
      "execution_count": null,
      "outputs": []
    },
    {
      "cell_type": "markdown",
      "metadata": {
        "id": "41HQS7E7Fk4z"
      },
      "source": [
        "### String split in Pandas"
      ]
    },
    {
      "cell_type": "code",
      "metadata": {
        "id": "epbAAB2RFVLO"
      },
      "source": [
        "s = pd.Series([\"Three word sentence\",\n",
        "               \"Another such sentence\",\n",
        "               \"Third sentence too\"])"
      ],
      "execution_count": null,
      "outputs": []
    },
    {
      "cell_type": "code",
      "metadata": {
        "id": "5elCufk9GNgq"
      },
      "source": [
        "s.str.split()"
      ],
      "execution_count": null,
      "outputs": []
    },
    {
      "cell_type": "code",
      "metadata": {
        "id": "qKpkuJogGQ1m"
      },
      "source": [
        "split_s = s.str.split()\n",
        "print(type(split_s))\n"
      ],
      "execution_count": null,
      "outputs": []
    },
    {
      "cell_type": "markdown",
      "metadata": {
        "id": "rtJ602Z4GdEx"
      },
      "source": [
        "How to retrieve only the last element of the lists?\n",
        "\n",
        "`split_s[1]` returns the 1th element of the series.  It does not \"broadcast\" the `[1]` for the elements of the list. "
      ]
    },
    {
      "cell_type": "code",
      "metadata": {
        "id": "Zm7iARD6GcJC"
      },
      "source": [
        "split_s[1]"
      ],
      "execution_count": null,
      "outputs": []
    },
    {
      "cell_type": "code",
      "metadata": {
        "id": "OVR4s38UGoi1"
      },
      "source": [
        "print(type(split_s[1]))"
      ],
      "execution_count": null,
      "outputs": []
    },
    {
      "cell_type": "code",
      "metadata": {
        "id": "_2e156atVz8P"
      },
      "source": [
        "split_s"
      ],
      "execution_count": null,
      "outputs": []
    },
    {
      "cell_type": "code",
      "metadata": {
        "id": "ZSoqr9p4GvRw"
      },
      "source": [
        "split_s.str[1]"
      ],
      "execution_count": null,
      "outputs": []
    },
    {
      "cell_type": "code",
      "metadata": {
        "id": "_b18TBJ_Gzi6"
      },
      "source": [
        "split_s.str[-1]"
      ],
      "execution_count": null,
      "outputs": []
    },
    {
      "cell_type": "code",
      "metadata": {
        "id": "yH1FwztjmKPe"
      },
      "source": [
        "split_s.str.get(-1)"
      ],
      "execution_count": null,
      "outputs": []
    },
    {
      "cell_type": "markdown",
      "metadata": {
        "id": "lO8StNteFytC"
      },
      "source": [
        "**Exercise**\n",
        "\n",
        "Split a series of date values in DD/MM/YYYY format into year, month and date.  Retrieve only the year."
      ]
    },
    {
      "cell_type": "code",
      "metadata": {
        "id": "Cd7G2IRIG74e"
      },
      "source": [
        "s = pd.Series(['01/01/2001', '03/12/2020', '10/10/2012', '11/9/2017'])"
      ],
      "execution_count": null,
      "outputs": []
    },
    {
      "cell_type": "code",
      "metadata": {
        "id": "WVVvT2saWbhQ"
      },
      "source": [
        "date = s.str.split('/')\n",
        "date.str.get(-1)"
      ],
      "execution_count": null,
      "outputs": []
    },
    {
      "cell_type": "markdown",
      "metadata": {
        "id": "8lmEY9zmG9Cp"
      },
      "source": [
        "\n",
        "### Join strings\n"
      ]
    },
    {
      "cell_type": "code",
      "metadata": {
        "id": "bbpxGJHfwhuP"
      },
      "source": [
        "\"--\".join(['a', 'b', 'c'])"
      ],
      "execution_count": null,
      "outputs": []
    },
    {
      "cell_type": "code",
      "metadata": {
        "id": "AFdc9a4WwnR7"
      },
      "source": [
        "\"\".join(['a', 'b', 'c'])"
      ],
      "execution_count": null,
      "outputs": []
    },
    {
      "cell_type": "code",
      "metadata": {
        "id": "4ExxTRNJz2xp"
      },
      "source": [
        ""
      ],
      "execution_count": null,
      "outputs": []
    },
    {
      "cell_type": "markdown",
      "metadata": {
        "id": "2CjhpT-qxqg4"
      },
      "source": [
        "Let us look at one entry for block address. \n",
        "- We want to extract out Lattitude and Longitude.  \n",
        "- We want to discard \"Berkeley, CA\"\n",
        "- `s.split()` is not good enough. It includes the leading opening parenthesis and the ending closing parenthesis, comma etc."
      ]
    },
    {
      "cell_type": "code",
      "metadata": {
        "id": "a7fdAG_ywwjJ"
      },
      "source": [
        "s = '2100 SHATTUCK AVE\\nBerkeley, CA\\n(37.871167, -122.268285)'"
      ],
      "execution_count": null,
      "outputs": []
    },
    {
      "cell_type": "code",
      "metadata": {
        "id": "QVfcHi11xlki"
      },
      "source": [
        "s.split()"
      ],
      "execution_count": null,
      "outputs": []
    },
    {
      "cell_type": "code",
      "metadata": {
        "id": "V1rt7f90xgQH"
      },
      "source": [
        "import re"
      ],
      "execution_count": null,
      "outputs": []
    },
    {
      "cell_type": "code",
      "metadata": {
        "id": "GaOG-dI2xQuZ"
      },
      "source": [
        "a = re.split(r'[()]', s)"
      ],
      "execution_count": null,
      "outputs": []
    },
    {
      "cell_type": "code",
      "metadata": {
        "id": "XOBk9nUM4FG0"
      },
      "source": [
        "a[1]\n"
      ],
      "execution_count": null,
      "outputs": []
    },
    {
      "cell_type": "code",
      "metadata": {
        "id": "INQL9Ozs90dH"
      },
      "source": [
        "l= re.split(r',',a[1])"
      ],
      "execution_count": null,
      "outputs": []
    },
    {
      "cell_type": "code",
      "metadata": {
        "id": "BSPbnCrC-BHO"
      },
      "source": [
        "l[0]"
      ],
      "execution_count": null,
      "outputs": []
    },
    {
      "cell_type": "code",
      "metadata": {
        "id": "Azp4KpyI5tPh"
      },
      "source": [
        "address = \"535 Pierce street\\nAlbany CA\\n95011\""
      ],
      "execution_count": null,
      "outputs": []
    },
    {
      "cell_type": "code",
      "metadata": {
        "id": "iTG3SLUa51DF"
      },
      "source": [
        "print(address)"
      ],
      "execution_count": null,
      "outputs": []
    },
    {
      "cell_type": "markdown",
      "metadata": {
        "id": "pFkWT3oXzEX6"
      },
      "source": [
        "Here we provide a *regular expression* to be matched for our splitting.  Split whenever you find a `(` or a `)`."
      ]
    },
    {
      "cell_type": "markdown",
      "metadata": {
        "id": "ifkCSmTVzfQB"
      },
      "source": [
        "How do we split based on "
      ]
    },
    {
      "cell_type": "code",
      "metadata": {
        "id": "NXQJXyxsxbVA"
      },
      "source": [
        "s = \"a+b*c-d,e/f,g\"        "
      ],
      "execution_count": null,
      "outputs": []
    },
    {
      "cell_type": "code",
      "metadata": {
        "id": "LOlxGEn28aoB"
      },
      "source": [
        "re.split(r'[+,\\-\\*\\/]',s)"
      ],
      "execution_count": null,
      "outputs": []
    },
    {
      "cell_type": "code",
      "metadata": {
        "id": "HgsK1V0m849t"
      },
      "source": [
        "txt = \"I have a pet in petaluma\"\n",
        "x = re.findall(\"pet\", txt)\n",
        "print(x)"
      ],
      "execution_count": null,
      "outputs": []
    },
    {
      "cell_type": "code",
      "metadata": {
        "id": "OzOrK1MCbwg9"
      },
      "source": [
        "df_date=df[\"EVENTDT\"].str.split()"
      ],
      "execution_count": null,
      "outputs": []
    },
    {
      "cell_type": "code",
      "metadata": {
        "id": "HxsxIU7Mb3qh"
      },
      "source": [
        "df_date_only=df_date.str[0]"
      ],
      "execution_count": null,
      "outputs": []
    },
    {
      "cell_type": "code",
      "metadata": {
        "id": "V94WP04ayNzw"
      },
      "source": [
        "df_date_only"
      ],
      "execution_count": null,
      "outputs": []
    },
    {
      "cell_type": "code",
      "metadata": {
        "id": "M_T6A1Ajb7pd"
      },
      "source": [
        "df['df_date_only']=df_date_only\n"
      ],
      "execution_count": null,
      "outputs": []
    },
    {
      "cell_type": "code",
      "metadata": {
        "id": "Kef0cuDSb9eL"
      },
      "source": [
        "df['df_date_only'].head()"
      ],
      "execution_count": null,
      "outputs": []
    },
    {
      "cell_type": "code",
      "metadata": {
        "id": "B5uEzZrE0Xuf"
      },
      "source": [
        "head_df = df.head(20)"
      ],
      "execution_count": null,
      "outputs": []
    },
    {
      "cell_type": "code",
      "metadata": {
        "id": "9-nnJI8PdN_a"
      },
      "source": [
        "latlong = head_df['Block_Location'].str.split(r'[()]').str.get(1)\n"
      ],
      "execution_count": null,
      "outputs": []
    },
    {
      "cell_type": "code",
      "metadata": {
        "id": "jLIKobT_1IqE"
      },
      "source": [
        "latlong"
      ],
      "execution_count": null,
      "outputs": []
    },
    {
      "cell_type": "code",
      "metadata": {
        "id": "_CKK1td01aBU"
      },
      "source": [
        "head_df['lattitude'] = latlong.str.split(',').str.get(0)\n",
        "head_df['longitude'] = latlong.str.split(',').str.get(1)"
      ],
      "execution_count": null,
      "outputs": []
    },
    {
      "cell_type": "code",
      "metadata": {
        "id": "YSJsWmOh0m5N"
      },
      "source": [
        "head_df['Block_Location'].str.split(r'[()]')"
      ],
      "execution_count": null,
      "outputs": []
    },
    {
      "cell_type": "code",
      "metadata": {
        "id": "gMHa_w5C00VH"
      },
      "source": [
        "head_df"
      ],
      "execution_count": null,
      "outputs": []
    },
    {
      "cell_type": "code",
      "metadata": {
        "id": "3o9J0m0t2E0c"
      },
      "source": [
        ""
      ],
      "execution_count": null,
      "outputs": []
    }
  ]
}