{
  "nbformat": 4,
  "nbformat_minor": 0,
  "metadata": {
    "colab": {
      "name": "Python regex problems.ipynb",
      "provenance": [],
      "include_colab_link": true
    },
    "kernelspec": {
      "name": "python3",
      "display_name": "Python 3"
    }
  },
  "cells": [
    {
      "cell_type": "markdown",
      "metadata": {
        "id": "view-in-github",
        "colab_type": "text"
      },
      "source": [
        "<a href=\"https://colab.research.google.com/github/SinghReena/MachineLearning/blob/master/Python_regex_problems.ipynb\" target=\"_parent\"><img src=\"https://colab.research.google.com/assets/colab-badge.svg\" alt=\"Open In Colab\"/></a>"
      ]
    },
    {
      "cell_type": "markdown",
      "metadata": {
        "id": "yaLjrn9-QjvM"
      },
      "source": [
        "# Exercises\n",
        "\n",
        "Remember regex symbols:\n",
        "\n",
        "* `\\d`: digit\n",
        "* `\\w`: word character\n",
        "* `\\W`: non-word character\n",
        "* `\\s`: whitespace\n",
        "* `.` : match any character\n",
        "\n",
        "Repeats\n",
        "* `+` one or more\n",
        "* `?` zero or one\n",
        "* `*` zero or more\n",
        "* `{}` for range of occurrences\n",
        "\n",
        "\n",
        "\n",
        "\n"
      ]
    },
    {
      "cell_type": "code",
      "metadata": {
        "id": "DbaiLnZzlRq5"
      },
      "source": [
        "import re\n"
      ],
      "execution_count": null,
      "outputs": []
    },
    {
      "cell_type": "code",
      "metadata": {
        "id": "CmTCHbVPr_Bp"
      },
      "source": [
        "s = 'This is 2021 Data Science batch 1.'"
      ],
      "execution_count": null,
      "outputs": []
    },
    {
      "cell_type": "markdown",
      "metadata": {
        "id": "EuOYDI3slYUb"
      },
      "source": [
        "### 1.  Find the number in the string."
      ]
    },
    {
      "cell_type": "markdown",
      "metadata": {
        "id": "uFpIBIacfq5_"
      },
      "source": [
        " ### 2. Return the words of a given string `s`\n",
        "\n",
        " Hint: How do we identify \"words\"? A word has 'one or more' 'word characters'."
      ]
    },
    {
      "cell_type": "markdown",
      "metadata": {
        "id": "RLbKkyCMlm3P"
      },
      "source": [
        "### 3. Find the first word of the string.\n",
        "\n",
        "Hint: \"First\" word. (we got words in the previous exercise)."
      ]
    },
    {
      "cell_type": "markdown",
      "metadata": {
        "id": "686IaqXHl13S"
      },
      "source": [
        "### 4.  Find the last word of the string.\n",
        "\n",
        "Hint: \"last\" word."
      ]
    },
    {
      "cell_type": "markdown",
      "metadata": {
        "id": "TmOvrBLYfeX-"
      },
      "source": [
        "### 5. Return the first two character of each word\n",
        "\n",
        "Hint: First find the pattern for two characters.  Then use \"\\b\" to specify that we want the first characters after a whitespace.\n"
      ]
    },
    {
      "cell_type": "markdown",
      "metadata": {
        "id": "yGmsG3zWe7z2"
      },
      "source": [
        "### 6.  Write three regular expressions to extract \n",
        "1. user name \n",
        "2. domain name and \n",
        "3. top-level type domain for the email ids: \n",
        "`'abc.test1@gmail.com, xyz+user@test.uk, director@fuhsdadultschool.org'`\n",
        "\n",
        "The three patterns should give\n",
        "\n",
        "```['abc.test1', 'xyz+user', 'director']```\n",
        "\n",
        "```['gmail', 'test', 'fuhsdadultschool']```\n",
        "\n",
        "```['com', 'uk', 'org']```\n",
        "\n",
        "\n",
        "Hints: \n",
        "1. what are the separators for id? \n",
        "2. what are the separators for domain name and top-level domain.\n",
        "3. Notice that the user id can have `.` and `+` special characters."
      ]
    },
    {
      "cell_type": "code",
      "metadata": {
        "id": "WDECcrAhZRdn"
      },
      "source": [
        "emails = 'abc.test1@gmail.com, xyz+user@test.uk, director@fuhsdadultschool.org'"
      ],
      "execution_count": null,
      "outputs": []
    },
    {
      "cell_type": "markdown",
      "metadata": {
        "id": "azImRrKFdiQh"
      },
      "source": [
        "### 7: Find dates in given string \n",
        "\n",
        "How do we extract and print only the year ?\n",
        "\n",
        "Hint: \n",
        "1. Use “\\d” to extract digit.\n",
        "2. Use  parenthesis “()” to capture only a part."
      ]
    },
    {
      "cell_type": "code",
      "metadata": {
        "id": "OPObRBI_vwRF"
      },
      "source": [
        "people = \"Peter Pan 800-374-5347 12-05-2017, Harry Potter 480-266-4532 11-11-2011, Wiz oz 510-699-9945 12-01-2020\""
      ],
      "execution_count": null,
      "outputs": []
    },
    {
      "cell_type": "markdown",
      "metadata": {
        "id": "sghQ7QS3izYJ"
      },
      "source": [
        "### 8. Return all words of a string that start with vowel in `s`\n",
        "\n",
        "No hints at this point :)\n"
      ]
    },
    {
      "cell_type": "code",
      "metadata": {
        "id": "J_qZdamNwFj7"
      },
      "source": [
        ""
      ],
      "execution_count": null,
      "outputs": []
    }
  ]
}