{
  "nbformat": 4,
  "nbformat_minor": 0,
  "metadata": {
    "colab": {
      "name": "4. DataFrame Data Structure.ipynb",
      "provenance": [],
      "toc_visible": true,
      "include_colab_link": true
    },
    "kernelspec": {
      "name": "python3",
      "display_name": "Python 3"
    }
  },
  "cells": [
    {
      "cell_type": "markdown",
      "metadata": {
        "id": "view-in-github",
        "colab_type": "text"
      },
      "source": [
        "<a href=\"https://colab.research.google.com/github/SinghReena/MachineLearning/blob/master/4_DataFrame_Data_Structure.ipynb\" target=\"_parent\"><img src=\"https://colab.research.google.com/assets/colab-badge.svg\" alt=\"Open In Colab\"/></a>"
      ]
    },
    {
      "cell_type": "code",
      "metadata": {
        "id": "nN5MwqW_1EEG"
      },
      "source": [
        "import pandas as pd"
      ],
      "execution_count": null,
      "outputs": []
    },
    {
      "cell_type": "markdown",
      "metadata": {
        "id": "Z1MHZtkQkiDH"
      },
      "source": [
        "# DataFrame\n",
        "\n",
        "DataFrame is a representation of data along 2 dimensions. You can think of it as a two-dimensional series, or as a concatenation of multiple series objects that share the same index.\n",
        "\n",
        "\n",
        "\n"
      ]
    },
    {
      "cell_type": "markdown",
      "metadata": {
        "id": "0Af98ojxlEdC"
      },
      "source": [
        "## Creating a dataframe using a dictionary with a list of items."
      ]
    },
    {
      "cell_type": "code",
      "metadata": {
        "colab": {
          "base_uri": "https://localhost:8080/",
          "height": 225
        },
        "id": "hl0MCCP2vt_m",
        "outputId": "87ee3dd5-084b-462c-8761-fe69c0c19da8"
      },
      "source": [
        "# There are many ways to construct a Data Frame, \n",
        "# though one of the most common is from a dict of equal-length lists or Numpy arrays.\n",
        "\n",
        "data = {'students': ['Alice','Bob','Charlie','Dave','Eva', 'Frank'],\n",
        "      'subjects': ['Bio','Physics','Math','Arts','Chemistry', 'Economics'],\n",
        "      'score1': [55, 40, 63, 90, 45, 45]}\n",
        "\n",
        "df = pd.DataFrame(data)\n",
        "df\n",
        "\n"
      ],
      "execution_count": null,
      "outputs": [
        {
          "output_type": "execute_result",
          "data": {
            "text/html": [
              "<div>\n",
              "<style scoped>\n",
              "    .dataframe tbody tr th:only-of-type {\n",
              "        vertical-align: middle;\n",
              "    }\n",
              "\n",
              "    .dataframe tbody tr th {\n",
              "        vertical-align: top;\n",
              "    }\n",
              "\n",
              "    .dataframe thead th {\n",
              "        text-align: right;\n",
              "    }\n",
              "</style>\n",
              "<table border=\"1\" class=\"dataframe\">\n",
              "  <thead>\n",
              "    <tr style=\"text-align: right;\">\n",
              "      <th></th>\n",
              "      <th>students</th>\n",
              "      <th>subjects</th>\n",
              "      <th>score1</th>\n",
              "    </tr>\n",
              "  </thead>\n",
              "  <tbody>\n",
              "    <tr>\n",
              "      <th>0</th>\n",
              "      <td>Alice</td>\n",
              "      <td>Bio</td>\n",
              "      <td>55</td>\n",
              "    </tr>\n",
              "    <tr>\n",
              "      <th>1</th>\n",
              "      <td>Bob</td>\n",
              "      <td>Physics</td>\n",
              "      <td>40</td>\n",
              "    </tr>\n",
              "    <tr>\n",
              "      <th>2</th>\n",
              "      <td>Charlie</td>\n",
              "      <td>Math</td>\n",
              "      <td>63</td>\n",
              "    </tr>\n",
              "    <tr>\n",
              "      <th>3</th>\n",
              "      <td>Dave</td>\n",
              "      <td>Arts</td>\n",
              "      <td>90</td>\n",
              "    </tr>\n",
              "    <tr>\n",
              "      <th>4</th>\n",
              "      <td>Eva</td>\n",
              "      <td>Chemistry</td>\n",
              "      <td>45</td>\n",
              "    </tr>\n",
              "    <tr>\n",
              "      <th>5</th>\n",
              "      <td>Frank</td>\n",
              "      <td>Economics</td>\n",
              "      <td>45</td>\n",
              "    </tr>\n",
              "  </tbody>\n",
              "</table>\n",
              "</div>"
            ],
            "text/plain": [
              "  students   subjects  score1\n",
              "0    Alice        Bio      55\n",
              "1      Bob    Physics      40\n",
              "2  Charlie       Math      63\n",
              "3     Dave       Arts      90\n",
              "4      Eva  Chemistry      45\n",
              "5    Frank  Economics      45"
            ]
          },
          "metadata": {
            "tags": []
          },
          "execution_count": 7
        }
      ]
    },
    {
      "cell_type": "markdown",
      "metadata": {
        "id": "8LThaj1IngpI"
      },
      "source": [
        "The DataFrame will have its index assigned automatically as with Series."
      ]
    },
    {
      "cell_type": "markdown",
      "metadata": {
        "id": "EmZ1KwoaqPf6"
      },
      "source": [
        "The columns of a dataframe can be accessed using the `.columns` attribute. An individual column can be accessed using the name of the column.\n",
        "\n",
        "Notice that the column name is an attribute (the parenthesis of a function is not used, we also do not need the indexing brackets).\n",
        "\n",
        "Every column of data is a series object.\n"
      ]
    },
    {
      "cell_type": "code",
      "metadata": {
        "colab": {
          "base_uri": "https://localhost:8080/"
        },
        "id": "KQeEO0qM1ST4",
        "outputId": "f476d80d-fead-47ed-89cc-6f2268d5d038"
      },
      "source": [
        "df.subjects"
      ],
      "execution_count": null,
      "outputs": [
        {
          "output_type": "execute_result",
          "data": {
            "text/plain": [
              "0          Bio\n",
              "1      Physics\n",
              "2         Math\n",
              "3         Arts\n",
              "4    Chemistry\n",
              "5    Economics\n",
              "Name: subjects, dtype: object"
            ]
          },
          "metadata": {
            "tags": []
          },
          "execution_count": 8
        }
      ]
    },
    {
      "cell_type": "code",
      "metadata": {
        "colab": {
          "base_uri": "https://localhost:8080/"
        },
        "id": "uqFXSYI4qMhu",
        "outputId": "8f32ca83-73cb-4168-dcea-975af20581f3"
      },
      "source": [
        "df.columns"
      ],
      "execution_count": null,
      "outputs": [
        {
          "output_type": "execute_result",
          "data": {
            "text/plain": [
              "Index(['students', 'subjects', 'score1'], dtype='object')"
            ]
          },
          "metadata": {
            "tags": []
          },
          "execution_count": 9
        }
      ]
    },
    {
      "cell_type": "code",
      "metadata": {
        "colab": {
          "base_uri": "https://localhost:8080/"
        },
        "id": "IXbBh50M24bs",
        "outputId": "3c7cf499-f79d-4b5f-891e-b20453e4a4bb"
      },
      "source": [
        "df.index"
      ],
      "execution_count": null,
      "outputs": [
        {
          "output_type": "execute_result",
          "data": {
            "text/plain": [
              "RangeIndex(start=0, stop=6, step=1)"
            ]
          },
          "metadata": {
            "tags": []
          },
          "execution_count": 10
        }
      ]
    },
    {
      "cell_type": "markdown",
      "metadata": {
        "id": "x-OIMjPC26HW"
      },
      "source": [
        "Notice that rows are an index. `columns` are an index too!"
      ]
    },
    {
      "cell_type": "markdown",
      "metadata": {
        "id": "DOkKDdR6wRBJ"
      },
      "source": [
        "**Exercise 1**\n",
        "\n",
        "Create an employee table with 5 employees, create columns for names, department, and salary.  Give them employee id starting from 1000. Make the employee id as the index for the table."
      ]
    },
    {
      "cell_type": "markdown",
      "metadata": {
        "id": "N8keiDParC1s"
      },
      "source": [
        "## Operations on series\n",
        "Every column of data is a `Series` object.  All the columns share the common index."
      ]
    },
    {
      "cell_type": "code",
      "metadata": {
        "colab": {
          "base_uri": "https://localhost:8080/"
        },
        "id": "bxNqZ12b9Vwt",
        "outputId": "c85bcb39-34e3-4f0e-f7fd-d694e86066ec"
      },
      "source": [
        "df.score1"
      ],
      "execution_count": null,
      "outputs": [
        {
          "output_type": "execute_result",
          "data": {
            "text/plain": [
              "0    55\n",
              "1    40\n",
              "2    63\n",
              "3    90\n",
              "4    45\n",
              "5    45\n",
              "Name: score1, dtype: int64"
            ]
          },
          "metadata": {
            "tags": []
          },
          "execution_count": 11
        }
      ]
    },
    {
      "cell_type": "code",
      "metadata": {
        "colab": {
          "base_uri": "https://localhost:8080/"
        },
        "id": "EdT8-AtbqKOq",
        "outputId": "c3ac5f99-3dc2-44ea-a5b6-b475e755b7ac"
      },
      "source": [
        "type(df.score1)"
      ],
      "execution_count": null,
      "outputs": [
        {
          "output_type": "execute_result",
          "data": {
            "text/plain": [
              "pandas.core.series.Series"
            ]
          },
          "metadata": {
            "tags": []
          },
          "execution_count": 12
        }
      ]
    },
    {
      "cell_type": "code",
      "metadata": {
        "colab": {
          "base_uri": "https://localhost:8080/"
        },
        "id": "ipMqm3ctq-aw",
        "outputId": "ff1277b3-3e02-4c4d-9597-764e8faf14d0"
      },
      "source": [
        "type(df.students)"
      ],
      "execution_count": null,
      "outputs": [
        {
          "output_type": "execute_result",
          "data": {
            "text/plain": [
              "pandas.core.series.Series"
            ]
          },
          "metadata": {
            "tags": []
          },
          "execution_count": 13
        }
      ]
    },
    {
      "cell_type": "code",
      "metadata": {
        "colab": {
          "base_uri": "https://localhost:8080/"
        },
        "id": "d3lQxvKqll5I",
        "outputId": "d9435e19-3d66-49bf-a107-c46a076777f5"
      },
      "source": [
        "df.index"
      ],
      "execution_count": null,
      "outputs": [
        {
          "output_type": "execute_result",
          "data": {
            "text/plain": [
              "RangeIndex(start=0, stop=6, step=1)"
            ]
          },
          "metadata": {
            "tags": []
          },
          "execution_count": 14
        }
      ]
    },
    {
      "cell_type": "markdown",
      "metadata": {
        "id": "q_gndtcxrTdv"
      },
      "source": [
        "Notice that a DataFrame is a series of Series objects.  Every Series is in turn made up of numpy arrays.\n",
        "\n",
        "So, everything we learnt in numpy and Series can be applied in the context of dataframes too.\n",
        "\n"
      ]
    },
    {
      "cell_type": "code",
      "metadata": {
        "colab": {
          "base_uri": "https://localhost:8080/"
        },
        "id": "QKE0_-eGroEc",
        "outputId": "0f0c6393-913a-446a-b2c5-a18930ffe7d2"
      },
      "source": [
        "df.score1"
      ],
      "execution_count": null,
      "outputs": [
        {
          "output_type": "execute_result",
          "data": {
            "text/plain": [
              "0    55\n",
              "1    40\n",
              "2    63\n",
              "3    90\n",
              "4    45\n",
              "5    45\n",
              "Name: score1, dtype: int64"
            ]
          },
          "metadata": {
            "tags": []
          },
          "execution_count": 15
        }
      ]
    },
    {
      "cell_type": "code",
      "metadata": {
        "colab": {
          "base_uri": "https://localhost:8080/"
        },
        "id": "LDXOETwYrihY",
        "outputId": "035f0a7b-dcca-474e-9574-de76178ce4f2"
      },
      "source": [
        "type(df.score1)"
      ],
      "execution_count": null,
      "outputs": [
        {
          "output_type": "execute_result",
          "data": {
            "text/plain": [
              "pandas.core.series.Series"
            ]
          },
          "metadata": {
            "tags": []
          },
          "execution_count": 16
        }
      ]
    },
    {
      "cell_type": "code",
      "metadata": {
        "colab": {
          "base_uri": "https://localhost:8080/"
        },
        "id": "XP39ofE-rlQg",
        "outputId": "cc5c0fec-e591-4ac2-f059-2bcf8c73571b"
      },
      "source": [
        "type(df.score1.values)"
      ],
      "execution_count": null,
      "outputs": [
        {
          "output_type": "execute_result",
          "data": {
            "text/plain": [
              "numpy.ndarray"
            ]
          },
          "metadata": {
            "tags": []
          },
          "execution_count": 17
        }
      ]
    },
    {
      "cell_type": "code",
      "metadata": {
        "colab": {
          "base_uri": "https://localhost:8080/"
        },
        "id": "gYbosLRjrp56",
        "outputId": "141463f1-15c6-4fc8-85d2-e9f35f276179"
      },
      "source": [
        "type(df.students.values)"
      ],
      "execution_count": null,
      "outputs": [
        {
          "output_type": "execute_result",
          "data": {
            "text/plain": [
              "numpy.ndarray"
            ]
          },
          "metadata": {
            "tags": []
          },
          "execution_count": 18
        }
      ]
    },
    {
      "cell_type": "code",
      "metadata": {
        "colab": {
          "base_uri": "https://localhost:8080/"
        },
        "id": "5dtYKieR9g4K",
        "outputId": "9a889a7b-fcde-4fba-ebb5-362bab505880"
      },
      "source": [
        "df.students"
      ],
      "execution_count": null,
      "outputs": [
        {
          "output_type": "execute_result",
          "data": {
            "text/plain": [
              "0      Alice\n",
              "1        Bob\n",
              "2    Charlie\n",
              "3       Dave\n",
              "4        Eva\n",
              "5      Frank\n",
              "Name: students, dtype: object"
            ]
          },
          "metadata": {
            "tags": []
          },
          "execution_count": 19
        }
      ]
    },
    {
      "cell_type": "markdown",
      "metadata": {
        "id": "75O97U-S0NX2"
      },
      "source": [
        "### Numpy broadcasting\n",
        "\n"
      ]
    },
    {
      "cell_type": "code",
      "metadata": {
        "colab": {
          "base_uri": "https://localhost:8080/",
          "height": 225
        },
        "id": "QzMwU5nXyv4b",
        "outputId": "0b096725-d7e1-4906-8bd3-1d8ec7466de0"
      },
      "source": [
        "df.score1 += 5\n",
        "df"
      ],
      "execution_count": null,
      "outputs": [
        {
          "output_type": "execute_result",
          "data": {
            "text/html": [
              "<div>\n",
              "<style scoped>\n",
              "    .dataframe tbody tr th:only-of-type {\n",
              "        vertical-align: middle;\n",
              "    }\n",
              "\n",
              "    .dataframe tbody tr th {\n",
              "        vertical-align: top;\n",
              "    }\n",
              "\n",
              "    .dataframe thead th {\n",
              "        text-align: right;\n",
              "    }\n",
              "</style>\n",
              "<table border=\"1\" class=\"dataframe\">\n",
              "  <thead>\n",
              "    <tr style=\"text-align: right;\">\n",
              "      <th></th>\n",
              "      <th>students</th>\n",
              "      <th>subjects</th>\n",
              "      <th>score1</th>\n",
              "    </tr>\n",
              "  </thead>\n",
              "  <tbody>\n",
              "    <tr>\n",
              "      <th>0</th>\n",
              "      <td>Alice</td>\n",
              "      <td>Bio</td>\n",
              "      <td>60</td>\n",
              "    </tr>\n",
              "    <tr>\n",
              "      <th>1</th>\n",
              "      <td>Bob</td>\n",
              "      <td>Physics</td>\n",
              "      <td>45</td>\n",
              "    </tr>\n",
              "    <tr>\n",
              "      <th>2</th>\n",
              "      <td>Charlie</td>\n",
              "      <td>Math</td>\n",
              "      <td>68</td>\n",
              "    </tr>\n",
              "    <tr>\n",
              "      <th>3</th>\n",
              "      <td>Dave</td>\n",
              "      <td>Arts</td>\n",
              "      <td>95</td>\n",
              "    </tr>\n",
              "    <tr>\n",
              "      <th>4</th>\n",
              "      <td>Eva</td>\n",
              "      <td>Chemistry</td>\n",
              "      <td>50</td>\n",
              "    </tr>\n",
              "    <tr>\n",
              "      <th>5</th>\n",
              "      <td>Frank</td>\n",
              "      <td>Economics</td>\n",
              "      <td>50</td>\n",
              "    </tr>\n",
              "  </tbody>\n",
              "</table>\n",
              "</div>"
            ],
            "text/plain": [
              "  students   subjects  score1\n",
              "0    Alice        Bio      60\n",
              "1      Bob    Physics      45\n",
              "2  Charlie       Math      68\n",
              "3     Dave       Arts      95\n",
              "4      Eva  Chemistry      50\n",
              "5    Frank  Economics      50"
            ]
          },
          "metadata": {
            "tags": []
          },
          "execution_count": 20
        }
      ]
    },
    {
      "cell_type": "markdown",
      "metadata": {
        "id": "MqlgnNsXzxR2"
      },
      "source": [
        "Notice the `+=`.  Just a plus will give us a copy of the Series and not mutate the dataframe."
      ]
    },
    {
      "cell_type": "code",
      "metadata": {
        "colab": {
          "base_uri": "https://localhost:8080/"
        },
        "id": "jGyhswFezhcV",
        "outputId": "93c17c44-4cb4-406c-ee6b-0c8d90dac2ca"
      },
      "source": [
        "df.score1 + 5"
      ],
      "execution_count": null,
      "outputs": [
        {
          "output_type": "execute_result",
          "data": {
            "text/plain": [
              "0     65\n",
              "1     50\n",
              "2     73\n",
              "3    100\n",
              "4     55\n",
              "5     55\n",
              "Name: score1, dtype: int64"
            ]
          },
          "metadata": {
            "tags": []
          },
          "execution_count": 21
        }
      ]
    },
    {
      "cell_type": "code",
      "metadata": {
        "colab": {
          "base_uri": "https://localhost:8080/",
          "height": 225
        },
        "id": "n3y5FS4KzklX",
        "outputId": "9fed7b75-d134-4579-e050-908f1124d056"
      },
      "source": [
        "df"
      ],
      "execution_count": null,
      "outputs": [
        {
          "output_type": "execute_result",
          "data": {
            "text/html": [
              "<div>\n",
              "<style scoped>\n",
              "    .dataframe tbody tr th:only-of-type {\n",
              "        vertical-align: middle;\n",
              "    }\n",
              "\n",
              "    .dataframe tbody tr th {\n",
              "        vertical-align: top;\n",
              "    }\n",
              "\n",
              "    .dataframe thead th {\n",
              "        text-align: right;\n",
              "    }\n",
              "</style>\n",
              "<table border=\"1\" class=\"dataframe\">\n",
              "  <thead>\n",
              "    <tr style=\"text-align: right;\">\n",
              "      <th></th>\n",
              "      <th>students</th>\n",
              "      <th>subjects</th>\n",
              "      <th>score1</th>\n",
              "    </tr>\n",
              "  </thead>\n",
              "  <tbody>\n",
              "    <tr>\n",
              "      <th>0</th>\n",
              "      <td>Alice</td>\n",
              "      <td>Bio</td>\n",
              "      <td>60</td>\n",
              "    </tr>\n",
              "    <tr>\n",
              "      <th>1</th>\n",
              "      <td>Bob</td>\n",
              "      <td>Physics</td>\n",
              "      <td>45</td>\n",
              "    </tr>\n",
              "    <tr>\n",
              "      <th>2</th>\n",
              "      <td>Charlie</td>\n",
              "      <td>Math</td>\n",
              "      <td>68</td>\n",
              "    </tr>\n",
              "    <tr>\n",
              "      <th>3</th>\n",
              "      <td>Dave</td>\n",
              "      <td>Arts</td>\n",
              "      <td>95</td>\n",
              "    </tr>\n",
              "    <tr>\n",
              "      <th>4</th>\n",
              "      <td>Eva</td>\n",
              "      <td>Chemistry</td>\n",
              "      <td>50</td>\n",
              "    </tr>\n",
              "    <tr>\n",
              "      <th>5</th>\n",
              "      <td>Frank</td>\n",
              "      <td>Economics</td>\n",
              "      <td>50</td>\n",
              "    </tr>\n",
              "  </tbody>\n",
              "</table>\n",
              "</div>"
            ],
            "text/plain": [
              "  students   subjects  score1\n",
              "0    Alice        Bio      60\n",
              "1      Bob    Physics      45\n",
              "2  Charlie       Math      68\n",
              "3     Dave       Arts      95\n",
              "4      Eva  Chemistry      50\n",
              "5    Frank  Economics      50"
            ]
          },
          "metadata": {
            "tags": []
          },
          "execution_count": 22
        }
      ]
    },
    {
      "cell_type": "markdown",
      "metadata": {
        "id": "oGdWSyt64Ws5"
      },
      "source": [
        "### Extracting items using `iloc` and `loc`\n",
        "\n",
        "We can extract one row using `iloc` and `loc` just like in Series."
      ]
    },
    {
      "cell_type": "code",
      "metadata": {
        "colab": {
          "base_uri": "https://localhost:8080/"
        },
        "id": "uB1QdcZg5SxW",
        "outputId": "4d88129a-1682-4eaa-b046-4b2d4bb45cdb"
      },
      "source": [
        "df.iloc[0]"
      ],
      "execution_count": null,
      "outputs": [
        {
          "output_type": "execute_result",
          "data": {
            "text/plain": [
              "students    Alice\n",
              "subjects      Bio\n",
              "score1         60\n",
              "Name: 0, dtype: object"
            ]
          },
          "metadata": {
            "tags": []
          },
          "execution_count": 23
        }
      ]
    },
    {
      "cell_type": "markdown",
      "metadata": {
        "id": "SdWqaB_E5WfO"
      },
      "source": [
        "This looks like a Series object!"
      ]
    },
    {
      "cell_type": "code",
      "metadata": {
        "colab": {
          "base_uri": "https://localhost:8080/"
        },
        "id": "nTHJOPfyeftA",
        "outputId": "212bbe5b-476e-4d44-82d3-6f5a1e074eee"
      },
      "source": [
        "type(df.iloc[0])"
      ],
      "execution_count": null,
      "outputs": [
        {
          "output_type": "execute_result",
          "data": {
            "text/plain": [
              "pandas.core.series.Series"
            ]
          },
          "metadata": {
            "tags": []
          },
          "execution_count": 24
        }
      ]
    },
    {
      "cell_type": "code",
      "metadata": {
        "colab": {
          "base_uri": "https://localhost:8080/"
        },
        "id": "-no6P0d4_H_-",
        "outputId": "2099ee47-5128-4d68-f011-15fda79cb09a"
      },
      "source": [
        "df.iloc[0].index"
      ],
      "execution_count": null,
      "outputs": [
        {
          "output_type": "execute_result",
          "data": {
            "text/plain": [
              "Index(['students', 'subjects', 'score1'], dtype='object')"
            ]
          },
          "metadata": {
            "tags": []
          },
          "execution_count": 25
        }
      ]
    },
    {
      "cell_type": "markdown",
      "metadata": {
        "id": "RjjUFLDR5b7r"
      },
      "source": [
        "Let us take this idea further!  Can we concatenate the rows as a list of Series?"
      ]
    },
    {
      "cell_type": "markdown",
      "metadata": {
        "id": "J_8N1q052Ocb"
      },
      "source": [
        "## Dataframe as a list of Series\n",
        "\n",
        "The same dataframe seen in a different way.  In this case the index of each series object is the name of the column."
      ]
    },
    {
      "cell_type": "code",
      "metadata": {
        "colab": {
          "base_uri": "https://localhost:8080/"
        },
        "id": "-GpOjTLx0cW5",
        "outputId": "22cb378e-9f44-44be-f493-2648390ad8c9"
      },
      "source": [
        "s0 = pd.Series({'students': 'Alice', 'Subjects' : 'Bio', 'score1' : 60})\n",
        "s1 = pd.Series({'students': 'Bob', 'Subjects' : 'Physics', 'score1' : 45})\n",
        "s2 = pd.Series({'students': 'Charlie', 'Subjects' : 'Math', 'score1' : 68})\n",
        "s3 = pd.Series({'students': 'Dave', 'Subjects' : 'Arts', 'score1' : 95})\n",
        "s4 = pd.Series({'students': 'Eva', 'Subjects' : 'Chemistry', 'score1' : 50})\n",
        "s5 = pd.Series({'students': 'Frank', 'Subjects' : 'Economics', 'score1' : 50})\n",
        "\n",
        "df2 = pd.DataFrame([s0, s1, s2, s3, s4, s5])\n",
        "df2"
      ],
      "execution_count": null,
      "outputs": [
        {
          "output_type": "execute_result",
          "data": {
            "text/html": [
              "<div>\n",
              "<style scoped>\n",
              "    .dataframe tbody tr th:only-of-type {\n",
              "        vertical-align: middle;\n",
              "    }\n",
              "\n",
              "    .dataframe tbody tr th {\n",
              "        vertical-align: top;\n",
              "    }\n",
              "\n",
              "    .dataframe thead th {\n",
              "        text-align: right;\n",
              "    }\n",
              "</style>\n",
              "<table border=\"1\" class=\"dataframe\">\n",
              "  <thead>\n",
              "    <tr style=\"text-align: right;\">\n",
              "      <th></th>\n",
              "      <th>students</th>\n",
              "      <th>Subjects</th>\n",
              "      <th>score1</th>\n",
              "    </tr>\n",
              "  </thead>\n",
              "  <tbody>\n",
              "    <tr>\n",
              "      <th>0</th>\n",
              "      <td>Alice</td>\n",
              "      <td>Bio</td>\n",
              "      <td>60</td>\n",
              "    </tr>\n",
              "    <tr>\n",
              "      <th>1</th>\n",
              "      <td>Bob</td>\n",
              "      <td>Physics</td>\n",
              "      <td>45</td>\n",
              "    </tr>\n",
              "    <tr>\n",
              "      <th>2</th>\n",
              "      <td>Charlie</td>\n",
              "      <td>Math</td>\n",
              "      <td>68</td>\n",
              "    </tr>\n",
              "    <tr>\n",
              "      <th>3</th>\n",
              "      <td>Dave</td>\n",
              "      <td>Arts</td>\n",
              "      <td>95</td>\n",
              "    </tr>\n",
              "    <tr>\n",
              "      <th>4</th>\n",
              "      <td>Eva</td>\n",
              "      <td>Chemistry</td>\n",
              "      <td>50</td>\n",
              "    </tr>\n",
              "    <tr>\n",
              "      <th>5</th>\n",
              "      <td>Frank</td>\n",
              "      <td>Economics</td>\n",
              "      <td>50</td>\n",
              "    </tr>\n",
              "  </tbody>\n",
              "</table>\n",
              "</div>"
            ],
            "text/plain": [
              "  students   Subjects  score1\n",
              "0    Alice        Bio      60\n",
              "1      Bob    Physics      45\n",
              "2  Charlie       Math      68\n",
              "3     Dave       Arts      95\n",
              "4      Eva  Chemistry      50\n",
              "5    Frank  Economics      50"
            ]
          },
          "metadata": {
            "tags": []
          },
          "execution_count": 26
        }
      ]
    },
    {
      "cell_type": "markdown",
      "metadata": {
        "id": "wPwco-XBpZsO"
      },
      "source": [
        "The distinction between a column and a row is really only a conceptual distinction. \n",
        "And you can think of the DataFrame itself as simply a two-axes labeled array.\n",
        "\n",
        "So if we extract a row object, it is also a series."
      ]
    },
    {
      "cell_type": "code",
      "metadata": {
        "colab": {
          "base_uri": "https://localhost:8080/"
        },
        "id": "lgJkOnrG2rC5",
        "outputId": "e701a948-a1aa-453d-98e0-aef43a490c3c"
      },
      "source": [
        "type(df.iloc[0])"
      ],
      "execution_count": null,
      "outputs": [
        {
          "output_type": "execute_result",
          "data": {
            "text/plain": [
              "pandas.core.series.Series"
            ]
          },
          "metadata": {
            "tags": []
          },
          "execution_count": 27
        }
      ]
    },
    {
      "cell_type": "markdown",
      "metadata": {
        "id": "JgAJDtBH3xF4"
      },
      "source": [
        "The row has elements of different types.  So when we extract the rows the type of the elements is an `object`."
      ]
    },
    {
      "cell_type": "code",
      "metadata": {
        "colab": {
          "base_uri": "https://localhost:8080/"
        },
        "id": "CyNuqATO3t-S",
        "outputId": "af0eda2a-2e57-4695-b323-0c5608ea84f0"
      },
      "source": [
        "df.iloc[0].values"
      ],
      "execution_count": null,
      "outputs": [
        {
          "output_type": "execute_result",
          "data": {
            "text/plain": [
              "array(['Alice', 'Bio', 60], dtype=object)"
            ]
          },
          "metadata": {
            "tags": []
          },
          "execution_count": 28
        }
      ]
    },
    {
      "cell_type": "markdown",
      "metadata": {
        "id": "rHQk-kHkzS-O"
      },
      "source": [
        "## Some basic dataframe functions"
      ]
    },
    {
      "cell_type": "code",
      "metadata": {
        "colab": {
          "base_uri": "https://localhost:8080/",
          "height": 195
        },
        "id": "WMufl2aNn1FY",
        "outputId": "d03b204a-18a8-4b08-b3b4-256d41a060be"
      },
      "source": [
        " df.head() # The head method selects only the first five rows by default"
      ],
      "execution_count": null,
      "outputs": [
        {
          "output_type": "execute_result",
          "data": {
            "text/html": [
              "<div>\n",
              "<style scoped>\n",
              "    .dataframe tbody tr th:only-of-type {\n",
              "        vertical-align: middle;\n",
              "    }\n",
              "\n",
              "    .dataframe tbody tr th {\n",
              "        vertical-align: top;\n",
              "    }\n",
              "\n",
              "    .dataframe thead th {\n",
              "        text-align: right;\n",
              "    }\n",
              "</style>\n",
              "<table border=\"1\" class=\"dataframe\">\n",
              "  <thead>\n",
              "    <tr style=\"text-align: right;\">\n",
              "      <th></th>\n",
              "      <th>students</th>\n",
              "      <th>subjects</th>\n",
              "      <th>score1</th>\n",
              "    </tr>\n",
              "  </thead>\n",
              "  <tbody>\n",
              "    <tr>\n",
              "      <th>0</th>\n",
              "      <td>Alice</td>\n",
              "      <td>Bio</td>\n",
              "      <td>60</td>\n",
              "    </tr>\n",
              "    <tr>\n",
              "      <th>1</th>\n",
              "      <td>Bob</td>\n",
              "      <td>Physics</td>\n",
              "      <td>45</td>\n",
              "    </tr>\n",
              "    <tr>\n",
              "      <th>2</th>\n",
              "      <td>Charlie</td>\n",
              "      <td>Math</td>\n",
              "      <td>68</td>\n",
              "    </tr>\n",
              "    <tr>\n",
              "      <th>3</th>\n",
              "      <td>Dave</td>\n",
              "      <td>Arts</td>\n",
              "      <td>95</td>\n",
              "    </tr>\n",
              "    <tr>\n",
              "      <th>4</th>\n",
              "      <td>Eva</td>\n",
              "      <td>Chemistry</td>\n",
              "      <td>50</td>\n",
              "    </tr>\n",
              "  </tbody>\n",
              "</table>\n",
              "</div>"
            ],
            "text/plain": [
              "  students   subjects  score1\n",
              "0    Alice        Bio      60\n",
              "1      Bob    Physics      45\n",
              "2  Charlie       Math      68\n",
              "3     Dave       Arts      95\n",
              "4      Eva  Chemistry      50"
            ]
          },
          "metadata": {
            "tags": []
          },
          "execution_count": 29
        }
      ]
    },
    {
      "cell_type": "code",
      "metadata": {
        "colab": {
          "base_uri": "https://localhost:8080/",
          "height": 195
        },
        "id": "13fjuSVVzWle",
        "outputId": "8601a579-2a38-4495-dd2f-995621c5b35b"
      },
      "source": [
        "df.tail()"
      ],
      "execution_count": null,
      "outputs": [
        {
          "output_type": "execute_result",
          "data": {
            "text/html": [
              "<div>\n",
              "<style scoped>\n",
              "    .dataframe tbody tr th:only-of-type {\n",
              "        vertical-align: middle;\n",
              "    }\n",
              "\n",
              "    .dataframe tbody tr th {\n",
              "        vertical-align: top;\n",
              "    }\n",
              "\n",
              "    .dataframe thead th {\n",
              "        text-align: right;\n",
              "    }\n",
              "</style>\n",
              "<table border=\"1\" class=\"dataframe\">\n",
              "  <thead>\n",
              "    <tr style=\"text-align: right;\">\n",
              "      <th></th>\n",
              "      <th>students</th>\n",
              "      <th>subjects</th>\n",
              "      <th>score1</th>\n",
              "    </tr>\n",
              "  </thead>\n",
              "  <tbody>\n",
              "    <tr>\n",
              "      <th>1</th>\n",
              "      <td>Bob</td>\n",
              "      <td>Physics</td>\n",
              "      <td>45</td>\n",
              "    </tr>\n",
              "    <tr>\n",
              "      <th>2</th>\n",
              "      <td>Charlie</td>\n",
              "      <td>Math</td>\n",
              "      <td>68</td>\n",
              "    </tr>\n",
              "    <tr>\n",
              "      <th>3</th>\n",
              "      <td>Dave</td>\n",
              "      <td>Arts</td>\n",
              "      <td>95</td>\n",
              "    </tr>\n",
              "    <tr>\n",
              "      <th>4</th>\n",
              "      <td>Eva</td>\n",
              "      <td>Chemistry</td>\n",
              "      <td>50</td>\n",
              "    </tr>\n",
              "    <tr>\n",
              "      <th>5</th>\n",
              "      <td>Frank</td>\n",
              "      <td>Economics</td>\n",
              "      <td>50</td>\n",
              "    </tr>\n",
              "  </tbody>\n",
              "</table>\n",
              "</div>"
            ],
            "text/plain": [
              "  students   subjects  score1\n",
              "1      Bob    Physics      45\n",
              "2  Charlie       Math      68\n",
              "3     Dave       Arts      95\n",
              "4      Eva  Chemistry      50\n",
              "5    Frank  Economics      50"
            ]
          },
          "metadata": {
            "tags": []
          },
          "execution_count": 30
        }
      ]
    },
    {
      "cell_type": "markdown",
      "metadata": {
        "id": "NY81fg7_60HP"
      },
      "source": [
        "## Indexing and subsetting\n",
        "\n",
        "Subsetting along one index works like in Series."
      ]
    },
    {
      "cell_type": "code",
      "metadata": {
        "colab": {
          "base_uri": "https://localhost:8080/",
          "height": 106
        },
        "id": "jTjoGpQLlogE",
        "outputId": "088ea3d2-86c7-41e5-f9ba-bac89cf2de1b"
      },
      "source": [
        "df[1:3]"
      ],
      "execution_count": null,
      "outputs": [
        {
          "output_type": "execute_result",
          "data": {
            "text/html": [
              "<div>\n",
              "<style scoped>\n",
              "    .dataframe tbody tr th:only-of-type {\n",
              "        vertical-align: middle;\n",
              "    }\n",
              "\n",
              "    .dataframe tbody tr th {\n",
              "        vertical-align: top;\n",
              "    }\n",
              "\n",
              "    .dataframe thead th {\n",
              "        text-align: right;\n",
              "    }\n",
              "</style>\n",
              "<table border=\"1\" class=\"dataframe\">\n",
              "  <thead>\n",
              "    <tr style=\"text-align: right;\">\n",
              "      <th></th>\n",
              "      <th>students</th>\n",
              "      <th>subjects</th>\n",
              "      <th>score1</th>\n",
              "    </tr>\n",
              "  </thead>\n",
              "  <tbody>\n",
              "    <tr>\n",
              "      <th>1</th>\n",
              "      <td>Bob</td>\n",
              "      <td>Physics</td>\n",
              "      <td>45</td>\n",
              "    </tr>\n",
              "    <tr>\n",
              "      <th>2</th>\n",
              "      <td>Charlie</td>\n",
              "      <td>Math</td>\n",
              "      <td>68</td>\n",
              "    </tr>\n",
              "  </tbody>\n",
              "</table>\n",
              "</div>"
            ],
            "text/plain": [
              "  students subjects  score1\n",
              "1      Bob  Physics      45\n",
              "2  Charlie     Math      68"
            ]
          },
          "metadata": {
            "tags": []
          },
          "execution_count": 31
        }
      ]
    },
    {
      "cell_type": "code",
      "metadata": {
        "colab": {
          "base_uri": "https://localhost:8080/"
        },
        "id": "wEeAnOKP7C35",
        "outputId": "7fb33dbe-b984-4972-c7c5-e44559222aa4"
      },
      "source": [
        "type(df[1:3])"
      ],
      "execution_count": null,
      "outputs": [
        {
          "output_type": "execute_result",
          "data": {
            "text/plain": [
              "pandas.core.frame.DataFrame"
            ]
          },
          "metadata": {
            "tags": []
          },
          "execution_count": 32
        }
      ]
    },
    {
      "cell_type": "markdown",
      "metadata": {
        "id": "ktnRn_E57TOt"
      },
      "source": [
        "Subsetting will give a dataframe.  So we can subset along the second dimension too.  This will give us a Series object, as expected."
      ]
    },
    {
      "cell_type": "code",
      "metadata": {
        "colab": {
          "base_uri": "https://localhost:8080/"
        },
        "id": "kiu27tVWl2wd",
        "outputId": "0e30c3b5-890f-45d4-f821-3edfd4c35556"
      },
      "source": [
        "df[1:3]['subjects']"
      ],
      "execution_count": null,
      "outputs": [
        {
          "output_type": "execute_result",
          "data": {
            "text/plain": [
              "1    Physics\n",
              "2       Math\n",
              "Name: subjects, dtype: object"
            ]
          },
          "metadata": {
            "tags": []
          },
          "execution_count": 33
        }
      ]
    },
    {
      "cell_type": "code",
      "metadata": {
        "colab": {
          "base_uri": "https://localhost:8080/"
        },
        "id": "HT1Y3HoVl5mU",
        "outputId": "fc848233-955d-4897-9f96-451a823e1c37"
      },
      "source": [
        "type(df[1:3]['subjects'])"
      ],
      "execution_count": null,
      "outputs": [
        {
          "output_type": "execute_result",
          "data": {
            "text/plain": [
              "pandas.core.series.Series"
            ]
          },
          "metadata": {
            "tags": []
          },
          "execution_count": 34
        }
      ]
    },
    {
      "cell_type": "markdown",
      "metadata": {
        "id": "_Wi5HBZu7jyB"
      },
      "source": [
        "As we noticed earlier, there is no preference for one or the other axis. Rows are an index, columns are also an index. So we can subset along the columns too."
      ]
    },
    {
      "cell_type": "code",
      "metadata": {
        "colab": {
          "base_uri": "https://localhost:8080/"
        },
        "id": "sdUR3JVFANz4",
        "outputId": "a66e0850-d724-4bb4-de70-32199d4eb09e"
      },
      "source": [
        "type(df['subjects'])"
      ],
      "execution_count": null,
      "outputs": [
        {
          "output_type": "execute_result",
          "data": {
            "text/plain": [
              "pandas.core.series.Series"
            ]
          },
          "metadata": {
            "tags": []
          },
          "execution_count": 42
        }
      ]
    },
    {
      "cell_type": "code",
      "metadata": {
        "colab": {
          "base_uri": "https://localhost:8080/"
        },
        "id": "8neua6Vw7IMh",
        "outputId": "612683ef-0b7e-40cd-b90b-e802ce70effd"
      },
      "source": [
        "df[['subjects', 'students']]"
      ],
      "execution_count": null,
      "outputs": [
        {
          "output_type": "execute_result",
          "data": {
            "text/plain": [
              "pandas.core.frame.DataFrame"
            ]
          },
          "metadata": {
            "tags": []
          },
          "execution_count": 41
        }
      ]
    },
    {
      "cell_type": "code",
      "metadata": {
        "colab": {
          "base_uri": "https://localhost:8080/"
        },
        "id": "X9fjx1kB7iP5",
        "outputId": "e8922b86-b9a3-48c1-8877-300e7d23e356"
      },
      "source": [
        "type(df[['subjects', 'students']][1:3])"
      ],
      "execution_count": null,
      "outputs": [
        {
          "output_type": "execute_result",
          "data": {
            "text/plain": [
              "pandas.core.frame.DataFrame"
            ]
          },
          "metadata": {
            "tags": []
          },
          "execution_count": 38
        }
      ]
    },
    {
      "cell_type": "code",
      "metadata": {
        "id": "NBTIS0N4IqAS"
      },
      "source": [
        "import pandas as pd\n",
        "\n",
        "exercise_one = { 'Name': ['Owen', 'Priya', 'Rajasekar', 'James', 'Nicole'], \\\n",
        "                'Department': ['Legal', 'Operations', 'Accounts Receivable', 'Legal', 'Design'], \\\n",
        "                'Salary': [125000, 75000, 60000, 115000, 95000]}\n",
        "employee_id = [1000, 1001, 1002, 1003, 1004]\n",
        "df_ex_one = pd.DataFrame(exercise_one, index=employee_id)\n",
        "df_ex_one.index.name = 'employee_id'\n",
        "df_ex_one"
      ],
      "execution_count": null,
      "outputs": []
    },
    {
      "cell_type": "code",
      "metadata": {
        "id": "-ZuvrEQlIuPf"
      },
      "source": [
        "df_ex_one.columns.name = 'categories'\n",
        "df_ex_one"
      ],
      "execution_count": null,
      "outputs": []
    }
  ]
}