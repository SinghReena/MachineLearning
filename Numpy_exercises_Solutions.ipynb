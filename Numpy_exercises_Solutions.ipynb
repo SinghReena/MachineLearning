{
  "nbformat": 4,
  "nbformat_minor": 0,
  "metadata": {
    "colab": {
      "name": "Numpy exercises Solutions.ipynb",
      "provenance": [],
      "include_colab_link": true
    },
    "kernelspec": {
      "name": "python3",
      "display_name": "Python 3"
    }
  },
  "cells": [
    {
      "cell_type": "markdown",
      "metadata": {
        "id": "view-in-github",
        "colab_type": "text"
      },
      "source": [
        "<a href=\"https://colab.research.google.com/github/SinghReena/MachineLearning/blob/master/Numpy_exercises_Solutions.ipynb\" target=\"_parent\"><img src=\"https://colab.research.google.com/assets/colab-badge.svg\" alt=\"Open In Colab\"/></a>"
      ]
    },
    {
      "cell_type": "markdown",
      "metadata": {
        "id": "rxT9uP16-Ceo"
      },
      "source": [
        "The problems are slightly modified from the quest"
      ]
    },
    {
      "cell_type": "code",
      "metadata": {
        "id": "Vzep7-hUjcyE"
      },
      "source": [
        "import numpy as np\n"
      ],
      "execution_count": null,
      "outputs": []
    },
    {
      "cell_type": "markdown",
      "metadata": {
        "id": "60GulEKajkh0"
      },
      "source": [
        "1. Create a null vector of size 10 but the fifth value which is 1"
      ]
    },
    {
      "cell_type": "code",
      "metadata": {
        "id": "mHTF3yL4jhSO"
      },
      "source": [
        "n_v=np.full(10,None)\n",
        "n_v[4]=1"
      ],
      "execution_count": null,
      "outputs": []
    },
    {
      "cell_type": "markdown",
      "metadata": {
        "id": "C8OF5fN1ki3l"
      },
      "source": [
        "2. Reverse a vector (first element becomes last)\n",
        "\n"
      ]
    },
    {
      "cell_type": "code",
      "metadata": {
        "colab": {
          "base_uri": "https://localhost:8080/"
        },
        "id": "z-n4ryVOjuo0",
        "outputId": "39794f90-06d6-4722-be61-1fe77eceeb4e"
      },
      "source": [
        "r_v=np.arange(10)\n",
        "r_v[-1::-1]"
      ],
      "execution_count": null,
      "outputs": [
        {
          "output_type": "execute_result",
          "data": {
            "text/plain": [
              "array([9, 8, 7, 6, 5, 4, 3, 2, 1, 0])"
            ]
          },
          "metadata": {
            "tags": []
          },
          "execution_count": 12
        }
      ]
    },
    {
      "cell_type": "markdown",
      "metadata": {
        "id": "gv2Nbf7RlMR2"
      },
      "source": [
        "3. Create a 3x3 matrix with values ranging from 0 to 8"
      ]
    },
    {
      "cell_type": "code",
      "metadata": {
        "colab": {
          "base_uri": "https://localhost:8080/"
        },
        "id": "_sSPuxeKlMnI",
        "outputId": "ac39618c-76be-4c38-ed28-5dd630cb3372"
      },
      "source": [
        "a=np.arange(9).reshape(3,3)\n",
        "a\n"
      ],
      "execution_count": null,
      "outputs": [
        {
          "output_type": "execute_result",
          "data": {
            "text/plain": [
              "array([[0, 1, 2],\n",
              "       [3, 4, 5],\n",
              "       [6, 7, 8]])"
            ]
          },
          "metadata": {
            "tags": []
          },
          "execution_count": 31
        }
      ]
    },
    {
      "cell_type": "markdown",
      "metadata": {
        "id": "rGvlXhNUlRp-"
      },
      "source": [
        "4. Create a 3x3 identity matrix"
      ]
    },
    {
      "cell_type": "code",
      "metadata": {
        "colab": {
          "base_uri": "https://localhost:8080/"
        },
        "id": "D5FhjrF6vkYr",
        "outputId": "8b0fdafd-b1fc-404c-f904-a12680e87860"
      },
      "source": [
        "np.eye(3)"
      ],
      "execution_count": null,
      "outputs": [
        {
          "output_type": "execute_result",
          "data": {
            "text/plain": [
              "array([[1., 0., 0.],\n",
              "       [0., 1., 0.],\n",
              "       [0., 0., 1.]])"
            ]
          },
          "metadata": {
            "tags": []
          },
          "execution_count": 33
        }
      ]
    },
    {
      "cell_type": "markdown",
      "metadata": {
        "id": "BrIeV2pXlViD"
      },
      "source": [
        "5. Create a 3x3x3 array with random values "
      ]
    },
    {
      "cell_type": "code",
      "metadata": {
        "colab": {
          "base_uri": "https://localhost:8080/"
        },
        "id": "ogW9SNG1wEC7",
        "outputId": "a254950a-a036-447d-fde9-01f5b91dc0a1"
      },
      "source": [
        "b = np.random.randint(1,20,9).reshape(3,3)\n",
        "b"
      ],
      "execution_count": null,
      "outputs": [
        {
          "output_type": "execute_result",
          "data": {
            "text/plain": [
              "array([[15,  6,  2],\n",
              "       [14,  5, 16],\n",
              "       [11,  6,  5]])"
            ]
          },
          "metadata": {
            "tags": []
          },
          "execution_count": 50
        }
      ]
    },
    {
      "cell_type": "markdown",
      "metadata": {
        "id": "HXuB2TAqlagS"
      },
      "source": [
        "6. Create a 10x10 array with random values and find the minimum and maximum values"
      ]
    },
    {
      "cell_type": "code",
      "metadata": {
        "colab": {
          "base_uri": "https://localhost:8080/"
        },
        "id": "8Hj98WI8xfUR",
        "outputId": "d647f4c7-38cb-4fd6-8ae8-6f57bac11e56"
      },
      "source": [
        "b = np.random.random(100).reshape(10,10)\n",
        "print(np.min(b))\n",
        "b\n"
      ],
      "execution_count": null,
      "outputs": [
        {
          "output_type": "stream",
          "text": [
            "0.007230740911720823\n"
          ],
          "name": "stdout"
        },
        {
          "output_type": "execute_result",
          "data": {
            "text/plain": [
              "array([[0.93246273, 0.75882134, 0.06867799, 0.19174313, 0.91489193,\n",
              "        0.40735661, 0.53584492, 0.26557534, 0.04189668, 0.87830396],\n",
              "       [0.9008303 , 0.60429073, 0.41457156, 0.16973555, 0.12225181,\n",
              "        0.56699825, 0.00723074, 0.81472553, 0.59974928, 0.75127922],\n",
              "       [0.04455584, 0.23478309, 0.75825334, 0.73042366, 0.2456459 ,\n",
              "        0.44058106, 0.89079845, 0.06626944, 0.77263704, 0.62333596],\n",
              "       [0.66724595, 0.14718279, 0.44227117, 0.54389517, 0.38704606,\n",
              "        0.94450171, 0.99385397, 0.76884997, 0.45198839, 0.49029192],\n",
              "       [0.87904323, 0.93740957, 0.40579549, 0.0451919 , 0.99275423,\n",
              "        0.25665221, 0.25620815, 0.33607675, 0.27755437, 0.58478181],\n",
              "       [0.02498998, 0.58123261, 0.76614975, 0.1639322 , 0.51612024,\n",
              "        0.86921195, 0.26288159, 0.09093141, 0.68096074, 0.11157445],\n",
              "       [0.31497674, 0.27766242, 0.35181406, 0.65492286, 0.01390918,\n",
              "        0.12563436, 0.025375  , 0.16540615, 0.14509705, 0.95758673],\n",
              "       [0.06388206, 0.48522911, 0.22056713, 0.56087098, 0.59174119,\n",
              "        0.07561977, 0.20706023, 0.44839757, 0.93786759, 0.89038428],\n",
              "       [0.33401617, 0.20807824, 0.85825216, 0.48788162, 0.88556791,\n",
              "        0.37944869, 0.77844728, 0.31932016, 0.0361306 , 0.42237993],\n",
              "       [0.8014814 , 0.66906609, 0.59238824, 0.3148782 , 0.40886233,\n",
              "        0.37120278, 0.05928208, 0.21468517, 0.59570972, 0.01471844]])"
            ]
          },
          "metadata": {
            "tags": []
          },
          "execution_count": 92
        }
      ]
    },
    {
      "cell_type": "markdown",
      "metadata": {
        "id": "XiagBaD6lbK7"
      },
      "source": [
        "7. Create a 2d array with 1 on the border and 0 inside"
      ]
    },
    {
      "cell_type": "code",
      "metadata": {
        "colab": {
          "base_uri": "https://localhost:8080/"
        },
        "id": "zvap0YCvx9AW",
        "outputId": "b908a24d-815f-499a-c4e6-293a4aeb398b"
      },
      "source": [
        "c=np.zeros((5,5))\n",
        "c[0,:]=1\n",
        "c[:,0]=1\n",
        "c[-1,:]=1\n",
        "c[:,-1]=1\n",
        "c "
      ],
      "execution_count": null,
      "outputs": [
        {
          "output_type": "execute_result",
          "data": {
            "text/plain": [
              "array([[1., 1., 1., 1., 1.],\n",
              "       [1., 0., 0., 0., 1.],\n",
              "       [1., 0., 0., 0., 1.],\n",
              "       [1., 0., 0., 0., 1.],\n",
              "       [1., 1., 1., 1., 1.]])"
            ]
          },
          "metadata": {
            "tags": []
          },
          "execution_count": 64
        }
      ]
    },
    {
      "cell_type": "markdown",
      "metadata": {
        "id": "aMrib-IHMXgC"
      },
      "source": [
        "8. How to round a float array to use only the integer part?\n",
        "\n",
        "Hint:  Find the right function from https://numpy.org/doc/stable/reference/routines.math.html"
      ]
    },
    {
      "cell_type": "code",
      "metadata": {
        "colab": {
          "base_uri": "https://localhost:8080/"
        },
        "id": "z3lCcGku4-E1",
        "outputId": "3f419a68-574b-4bd1-82e7-8741db716c9a"
      },
      "source": [
        "a=np.array([4.1, 5.8, 3.0, -5.4, -3.6])\n",
        "np.round(a,0)\n"
      ],
      "execution_count": null,
      "outputs": [
        {
          "output_type": "execute_result",
          "data": {
            "text/plain": [
              "array([ 4.,  6.,  3., -5., -4.])"
            ]
          },
          "metadata": {
            "tags": []
          },
          "execution_count": 7
        }
      ]
    },
    {
      "cell_type": "code",
      "metadata": {
        "colab": {
          "base_uri": "https://localhost:8080/"
        },
        "id": "QFTYz76d7PrC",
        "outputId": "68d81793-a003-431b-b95e-9b64437a8a2b"
      },
      "source": [
        "np.trunc(a)"
      ],
      "execution_count": null,
      "outputs": [
        {
          "output_type": "execute_result",
          "data": {
            "text/plain": [
              "array([ 4.,  5.,  3., -5., -3.])"
            ]
          },
          "metadata": {
            "tags": []
          },
          "execution_count": 8
        }
      ]
    },
    {
      "cell_type": "markdown",
      "metadata": {
        "id": "p0nZboAUQEkK"
      },
      "source": [
        "9. Consider two random array A and B, check if they are equal\n",
        "\n",
        "Hint: Find the right function in https://numpy.org/doc/stable/reference/routines.logic.html#comparison\n"
      ]
    },
    {
      "cell_type": "code",
      "metadata": {
        "colab": {
          "base_uri": "https://localhost:8080/"
        },
        "id": "BSyDh1XiQTJo",
        "outputId": "7fe31bb1-a167-44c7-81ff-79973adb62fa"
      },
      "source": [
        "np.array_equal(a,b)"
      ],
      "execution_count": null,
      "outputs": [
        {
          "output_type": "execute_result",
          "data": {
            "text/plain": [
              "False"
            ]
          },
          "metadata": {
            "tags": []
          },
          "execution_count": 91
        }
      ]
    }
  ]
}