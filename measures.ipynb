{
  "nbformat": 4,
  "nbformat_minor": 0,
  "metadata": {
    "colab": {
      "name": "measures.ipynb",
      "provenance": [],
      "include_colab_link": true
    },
    "kernelspec": {
      "name": "python3",
      "display_name": "Python 3"
    },
    "language_info": {
      "name": "python"
    }
  },
  "cells": [
    {
      "cell_type": "markdown",
      "metadata": {
        "id": "view-in-github",
        "colab_type": "text"
      },
      "source": [
        "<a href=\"https://colab.research.google.com/github/SinghReena/MachineLearning/blob/master/measures.ipynb\" target=\"_parent\"><img src=\"https://colab.research.google.com/assets/colab-badge.svg\" alt=\"Open In Colab\"/></a>"
      ]
    },
    {
      "cell_type": "code",
      "metadata": {
        "id": "GXSPYcAFBXlR"
      },
      "source": [
        "#@title Imports\n",
        "import pandas as pd\n",
        "import numpy as np\n",
        "import matplotlib as plt\n",
        "import sklearn.linear_model as linear_module"
      ],
      "execution_count": null,
      "outputs": []
    },
    {
      "cell_type": "code",
      "metadata": {
        "id": "e-3fH1gaBYHF"
      },
      "source": [
        "#@title Generate data\n",
        "np.random.seed(4)\n",
        "arr = np.arange(15)\n",
        "x = np.add(arr, np.round(np.random.uniform(-0.3, 0.3, 15), 2))\n",
        "np.random.shuffle(x)\n",
        "y = np.add(x, np.round(np.random.uniform(1.7, 2.3, 15), 2))\n",
        "df = pd.DataFrame({'x' : x, 'y': y})"
      ],
      "execution_count": null,
      "outputs": []
    },
    {
      "cell_type": "code",
      "metadata": {
        "colab": {
          "base_uri": "https://localhost:8080/",
          "height": 491
        },
        "id": "56O1wACeB-II",
        "outputId": "58f8a9cf-cccc-49e1-fc00-dcb254b910df"
      },
      "source": [
        "df"
      ],
      "execution_count": null,
      "outputs": [
        {
          "output_type": "execute_result",
          "data": {
            "text/html": [
              "<div>\n",
              "<style scoped>\n",
              "    .dataframe tbody tr th:only-of-type {\n",
              "        vertical-align: middle;\n",
              "    }\n",
              "\n",
              "    .dataframe tbody tr th {\n",
              "        vertical-align: top;\n",
              "    }\n",
              "\n",
              "    .dataframe thead th {\n",
              "        text-align: right;\n",
              "    }\n",
              "</style>\n",
              "<table border=\"1\" class=\"dataframe\">\n",
              "  <thead>\n",
              "    <tr style=\"text-align: right;\">\n",
              "      <th></th>\n",
              "      <th>x</th>\n",
              "      <th>y</th>\n",
              "    </tr>\n",
              "  </thead>\n",
              "  <tbody>\n",
              "    <tr>\n",
              "      <th>0</th>\n",
              "      <td>10.17</td>\n",
              "      <td>12.14</td>\n",
              "    </tr>\n",
              "    <tr>\n",
              "      <th>1</th>\n",
              "      <td>3.13</td>\n",
              "      <td>5.09</td>\n",
              "    </tr>\n",
              "    <tr>\n",
              "      <th>2</th>\n",
              "      <td>6.70</td>\n",
              "      <td>8.44</td>\n",
              "    </tr>\n",
              "    <tr>\n",
              "      <th>3</th>\n",
              "      <td>4.12</td>\n",
              "      <td>5.93</td>\n",
              "    </tr>\n",
              "    <tr>\n",
              "      <th>4</th>\n",
              "      <td>13.29</td>\n",
              "      <td>15.51</td>\n",
              "    </tr>\n",
              "    <tr>\n",
              "      <th>5</th>\n",
              "      <td>1.03</td>\n",
              "      <td>3.24</td>\n",
              "    </tr>\n",
              "    <tr>\n",
              "      <th>6</th>\n",
              "      <td>0.28</td>\n",
              "      <td>2.54</td>\n",
              "    </tr>\n",
              "    <tr>\n",
              "      <th>7</th>\n",
              "      <td>10.82</td>\n",
              "      <td>13.04</td>\n",
              "    </tr>\n",
              "    <tr>\n",
              "      <th>8</th>\n",
              "      <td>13.80</td>\n",
              "      <td>16.00</td>\n",
              "    </tr>\n",
              "    <tr>\n",
              "      <th>9</th>\n",
              "      <td>2.28</td>\n",
              "      <td>4.14</td>\n",
              "    </tr>\n",
              "    <tr>\n",
              "      <th>10</th>\n",
              "      <td>7.85</td>\n",
              "      <td>9.57</td>\n",
              "    </tr>\n",
              "    <tr>\n",
              "      <th>11</th>\n",
              "      <td>12.22</td>\n",
              "      <td>14.06</td>\n",
              "    </tr>\n",
              "    <tr>\n",
              "      <th>12</th>\n",
              "      <td>6.29</td>\n",
              "      <td>8.12</td>\n",
              "    </tr>\n",
              "    <tr>\n",
              "      <th>13</th>\n",
              "      <td>8.96</td>\n",
              "      <td>10.77</td>\n",
              "    </tr>\n",
              "    <tr>\n",
              "      <th>14</th>\n",
              "      <td>4.83</td>\n",
              "      <td>6.72</td>\n",
              "    </tr>\n",
              "  </tbody>\n",
              "</table>\n",
              "</div>"
            ],
            "text/plain": [
              "        x      y\n",
              "0   10.17  12.14\n",
              "1    3.13   5.09\n",
              "2    6.70   8.44\n",
              "3    4.12   5.93\n",
              "4   13.29  15.51\n",
              "5    1.03   3.24\n",
              "6    0.28   2.54\n",
              "7   10.82  13.04\n",
              "8   13.80  16.00\n",
              "9    2.28   4.14\n",
              "10   7.85   9.57\n",
              "11  12.22  14.06\n",
              "12   6.29   8.12\n",
              "13   8.96  10.77\n",
              "14   4.83   6.72"
            ]
          },
          "metadata": {
            "tags": []
          },
          "execution_count": 3
        }
      ]
    },
    {
      "cell_type": "markdown",
      "metadata": {
        "id": "jyY_ZCzQ4LQF"
      },
      "source": [
        "## Regression and comparison to mean\n",
        "\n",
        "We will pick two regression lines.  One is a guess: `y = 1.5 x + 1.5`, and another that is the optimal regression line.\n",
        "\n",
        "We will compare it against the \"simple model\" of `mean(y)` as the prediction for y.  This is essentially the \"no variable model\". $y = mean(y) + 0 \\cdot x$."
      ]
    },
    {
      "cell_type": "code",
      "metadata": {
        "colab": {
          "base_uri": "https://localhost:8080/"
        },
        "id": "ajJpnzBrBumw",
        "outputId": "df6e0940-a108-4a60-fc78-4fb8e08875d4"
      },
      "source": [
        "y_mean = np.mean(df.y)\n",
        "y_mean"
      ],
      "execution_count": null,
      "outputs": [
        {
          "output_type": "execute_result",
          "data": {
            "text/plain": [
              "9.020666666666669"
            ]
          },
          "metadata": {
            "tags": []
          },
          "execution_count": 4
        }
      ]
    },
    {
      "cell_type": "code",
      "metadata": {
        "id": "IMyo0bHxBmVq"
      },
      "source": [
        "# y_hat with the gueesed model.\n",
        "df = df.assign(y_hat_1 = 1.5*x + 1.5)\n",
        "\n",
        "# y_hat using the mean.\n",
        "df = df.assign(y_hat_mean = y_mean)"
      ],
      "execution_count": null,
      "outputs": []
    },
    {
      "cell_type": "code",
      "metadata": {
        "colab": {
          "base_uri": "https://localhost:8080/"
        },
        "id": "vIQ0-iFKBqk2",
        "outputId": "a927e38b-b5e2-4e4e-cfd7-562b10355afb"
      },
      "source": [
        "#@title Find the best slope and intercept\n",
        "X = df[['x']]\n",
        "Y = df[['y']]\n",
        "model = linear_module.LinearRegression()\n",
        "reg = model.fit(X, Y)\n",
        "print(\"intercept\", reg.intercept_)\n",
        "print(\"slope\", reg.coef_)"
      ],
      "execution_count": null,
      "outputs": [
        {
          "output_type": "stream",
          "text": [
            "intercept [1.94702581]\n",
            "slope [[1.00316359]]\n"
          ],
          "name": "stdout"
        }
      ]
    },
    {
      "cell_type": "code",
      "metadata": {
        "id": "Kxdv9xv5CG4B"
      },
      "source": [
        "df = df.assign(y_hat = df.x * reg.coef_.squeeze() + reg.intercept_)\n",
        "# df = df.assign(error = (df.y_hat - df.y)**2)"
      ],
      "execution_count": null,
      "outputs": []
    },
    {
      "cell_type": "code",
      "metadata": {
        "colab": {
          "base_uri": "https://localhost:8080/",
          "height": 491
        },
        "id": "AdbmAsqoC0I2",
        "outputId": "3f5a43a6-fdcd-4004-8625-24d8af8774d1"
      },
      "source": [
        "df"
      ],
      "execution_count": null,
      "outputs": [
        {
          "output_type": "execute_result",
          "data": {
            "text/html": [
              "<div>\n",
              "<style scoped>\n",
              "    .dataframe tbody tr th:only-of-type {\n",
              "        vertical-align: middle;\n",
              "    }\n",
              "\n",
              "    .dataframe tbody tr th {\n",
              "        vertical-align: top;\n",
              "    }\n",
              "\n",
              "    .dataframe thead th {\n",
              "        text-align: right;\n",
              "    }\n",
              "</style>\n",
              "<table border=\"1\" class=\"dataframe\">\n",
              "  <thead>\n",
              "    <tr style=\"text-align: right;\">\n",
              "      <th></th>\n",
              "      <th>x</th>\n",
              "      <th>y</th>\n",
              "      <th>y_hat_1</th>\n",
              "      <th>y_hat_mean</th>\n",
              "      <th>y_hat</th>\n",
              "    </tr>\n",
              "  </thead>\n",
              "  <tbody>\n",
              "    <tr>\n",
              "      <th>0</th>\n",
              "      <td>10.17</td>\n",
              "      <td>12.14</td>\n",
              "      <td>16.755</td>\n",
              "      <td>9.020667</td>\n",
              "      <td>12.149200</td>\n",
              "    </tr>\n",
              "    <tr>\n",
              "      <th>1</th>\n",
              "      <td>3.13</td>\n",
              "      <td>5.09</td>\n",
              "      <td>6.195</td>\n",
              "      <td>9.020667</td>\n",
              "      <td>5.086928</td>\n",
              "    </tr>\n",
              "    <tr>\n",
              "      <th>2</th>\n",
              "      <td>6.70</td>\n",
              "      <td>8.44</td>\n",
              "      <td>11.550</td>\n",
              "      <td>9.020667</td>\n",
              "      <td>8.668222</td>\n",
              "    </tr>\n",
              "    <tr>\n",
              "      <th>3</th>\n",
              "      <td>4.12</td>\n",
              "      <td>5.93</td>\n",
              "      <td>7.680</td>\n",
              "      <td>9.020667</td>\n",
              "      <td>6.080060</td>\n",
              "    </tr>\n",
              "    <tr>\n",
              "      <th>4</th>\n",
              "      <td>13.29</td>\n",
              "      <td>15.51</td>\n",
              "      <td>21.435</td>\n",
              "      <td>9.020667</td>\n",
              "      <td>15.279070</td>\n",
              "    </tr>\n",
              "    <tr>\n",
              "      <th>5</th>\n",
              "      <td>1.03</td>\n",
              "      <td>3.24</td>\n",
              "      <td>3.045</td>\n",
              "      <td>9.020667</td>\n",
              "      <td>2.980284</td>\n",
              "    </tr>\n",
              "    <tr>\n",
              "      <th>6</th>\n",
              "      <td>0.28</td>\n",
              "      <td>2.54</td>\n",
              "      <td>1.920</td>\n",
              "      <td>9.020667</td>\n",
              "      <td>2.227912</td>\n",
              "    </tr>\n",
              "    <tr>\n",
              "      <th>7</th>\n",
              "      <td>10.82</td>\n",
              "      <td>13.04</td>\n",
              "      <td>17.730</td>\n",
              "      <td>9.020667</td>\n",
              "      <td>12.801256</td>\n",
              "    </tr>\n",
              "    <tr>\n",
              "      <th>8</th>\n",
              "      <td>13.80</td>\n",
              "      <td>16.00</td>\n",
              "      <td>22.200</td>\n",
              "      <td>9.020667</td>\n",
              "      <td>15.790683</td>\n",
              "    </tr>\n",
              "    <tr>\n",
              "      <th>9</th>\n",
              "      <td>2.28</td>\n",
              "      <td>4.14</td>\n",
              "      <td>4.920</td>\n",
              "      <td>9.020667</td>\n",
              "      <td>4.234239</td>\n",
              "    </tr>\n",
              "    <tr>\n",
              "      <th>10</th>\n",
              "      <td>7.85</td>\n",
              "      <td>9.57</td>\n",
              "      <td>13.275</td>\n",
              "      <td>9.020667</td>\n",
              "      <td>9.821860</td>\n",
              "    </tr>\n",
              "    <tr>\n",
              "      <th>11</th>\n",
              "      <td>12.22</td>\n",
              "      <td>14.06</td>\n",
              "      <td>19.830</td>\n",
              "      <td>9.020667</td>\n",
              "      <td>14.205685</td>\n",
              "    </tr>\n",
              "    <tr>\n",
              "      <th>12</th>\n",
              "      <td>6.29</td>\n",
              "      <td>8.12</td>\n",
              "      <td>10.935</td>\n",
              "      <td>9.020667</td>\n",
              "      <td>8.256925</td>\n",
              "    </tr>\n",
              "    <tr>\n",
              "      <th>13</th>\n",
              "      <td>8.96</td>\n",
              "      <td>10.77</td>\n",
              "      <td>14.940</td>\n",
              "      <td>9.020667</td>\n",
              "      <td>10.935372</td>\n",
              "    </tr>\n",
              "    <tr>\n",
              "      <th>14</th>\n",
              "      <td>4.83</td>\n",
              "      <td>6.72</td>\n",
              "      <td>8.745</td>\n",
              "      <td>9.020667</td>\n",
              "      <td>6.792306</td>\n",
              "    </tr>\n",
              "  </tbody>\n",
              "</table>\n",
              "</div>"
            ],
            "text/plain": [
              "        x      y  y_hat_1  y_hat_mean      y_hat\n",
              "0   10.17  12.14   16.755    9.020667  12.149200\n",
              "1    3.13   5.09    6.195    9.020667   5.086928\n",
              "2    6.70   8.44   11.550    9.020667   8.668222\n",
              "3    4.12   5.93    7.680    9.020667   6.080060\n",
              "4   13.29  15.51   21.435    9.020667  15.279070\n",
              "5    1.03   3.24    3.045    9.020667   2.980284\n",
              "6    0.28   2.54    1.920    9.020667   2.227912\n",
              "7   10.82  13.04   17.730    9.020667  12.801256\n",
              "8   13.80  16.00   22.200    9.020667  15.790683\n",
              "9    2.28   4.14    4.920    9.020667   4.234239\n",
              "10   7.85   9.57   13.275    9.020667   9.821860\n",
              "11  12.22  14.06   19.830    9.020667  14.205685\n",
              "12   6.29   8.12   10.935    9.020667   8.256925\n",
              "13   8.96  10.77   14.940    9.020667  10.935372\n",
              "14   4.83   6.72    8.745    9.020667   6.792306"
            ]
          },
          "metadata": {
            "tags": []
          },
          "execution_count": 8
        }
      ]
    },
    {
      "cell_type": "code",
      "metadata": {
        "colab": {
          "base_uri": "https://localhost:8080/",
          "height": 282
        },
        "id": "XpVfAph5G4UJ",
        "outputId": "7bafcfa2-17dc-432c-e537-8e7de4a88c80"
      },
      "source": [
        "plt.pyplot.scatter(x,y, color = \"black\")\n",
        "plt.pyplot.plot(x, [y_mean]*len(df), color = 'red', label=\"y mean\")\n",
        "plt.pyplot.plot(df.x, df.y_hat_1, color = 'green', label=\"random guess model\")\n",
        "plt.pyplot.plot(df.x, df.y_hat, color = 'blue', label=\"regression line\")\n",
        "plt.pyplot.legend()"
      ],
      "execution_count": null,
      "outputs": [
        {
          "output_type": "execute_result",
          "data": {
            "text/plain": [
              "<matplotlib.legend.Legend at 0x7f89e10d4c50>"
            ]
          },
          "metadata": {
            "tags": []
          },
          "execution_count": 9
        },
        {
          "output_type": "display_data",
          "data": {
            "image/png": "[encoded data removed]",
            "text/plain": [
              "<Figure size 432x288 with 1 Axes>"
            ]
          },
          "metadata": {
            "tags": [],
            "needs_background": "light"
          }
        }
      ]
    },
    {
      "cell_type": "markdown",
      "metadata": {
        "id": "U3chjJXp3Uyd"
      },
      "source": [
        "## Calculate TSS\n",
        "\n",
        "$ TSS = \\sum (y_i - \\bar{y}) ^2 $.\n",
        "\n",
        "We calculate the mean of y, the \"residual error\" wrt to the mean.\n",
        "\n",
        "Notice that variance  $variance = \\frac{TSS}{n}.$"
      ]
    },
    {
      "cell_type": "code",
      "metadata": {
        "colab": {
          "base_uri": "https://localhost:8080/"
        },
        "id": "VnugTSV6C004",
        "outputId": "a30f1614-1f46-4c17-e9af-187e048602b2"
      },
      "source": [
        "tss = np.sum((df.y - df.y_hat_mean)**2)\n",
        "tss"
      ],
      "execution_count": null,
      "outputs": [
        {
          "output_type": "execute_result",
          "data": {
            "text/plain": [
              "276.1444933333334"
            ]
          },
          "metadata": {
            "tags": []
          },
          "execution_count": 10
        }
      ]
    },
    {
      "cell_type": "code",
      "metadata": {
        "colab": {
          "base_uri": "https://localhost:8080/"
        },
        "id": "P1LQllvqEyHM",
        "outputId": "646f0e64-50f7-44ee-eaf9-dee2c9d1a99d"
      },
      "source": [
        "print(\"tss/n\", tss / len(df))\n",
        "print(\"variance\", np.var(df.y))"
      ],
      "execution_count": null,
      "outputs": [
        {
          "output_type": "stream",
          "text": [
            "tss/n 18.409632888888893\n",
            "variance 18.409632888888893\n"
          ],
          "name": "stdout"
        }
      ]
    },
    {
      "cell_type": "markdown",
      "metadata": {
        "id": "yt-L85b96VQW"
      },
      "source": [
        "## RSS and R^2\n",
        "\n",
        "$ RSS = \\sum_{i=1}^n (y_i - \\hat{y_i})^2 $.\n",
        "\n",
        "$ MSE = \\frac{1}{n} \\sum_{i=1}^n (y_i - \\hat{y_i})^2  = \\frac{1}{n} RSS $.\n",
        "\n",
        "$ RSE = \\sqrt{\\frac{1}{n-2} RSS}$.\n"
      ]
    },
    {
      "cell_type": "markdown",
      "metadata": {
        "id": "Lg2CRxMp5aqP"
      },
      "source": [
        "## Metrics for a guessed regression line.\n",
        "\n",
        "Calculate R^2 and RSS for the randomly guessed model."
      ]
    },
    {
      "cell_type": "code",
      "metadata": {
        "id": "6bSWLBXmE3L7"
      },
      "source": [
        "rss_1 = np.sum((df.y - df.y_hat_1)**2)"
      ],
      "execution_count": null,
      "outputs": []
    },
    {
      "cell_type": "code",
      "metadata": {
        "id": "QXltwajxFmTH"
      },
      "source": [
        "rsq_1 = 1 - rss_1/tss"
      ],
      "execution_count": null,
      "outputs": []
    },
    {
      "cell_type": "code",
      "metadata": {
        "colab": {
          "base_uri": "https://localhost:8080/"
        },
        "id": "5y32mwt9GEL2",
        "outputId": "567f5a8b-4add-4e7f-db9f-e5050d67a1c4"
      },
      "source": [
        "print(\"rss_1\", rss_1)\n",
        "print(\"rsq_1\", rsq_1)"
      ],
      "execution_count": null,
      "outputs": [
        {
          "output_type": "stream",
          "text": [
            "rss_1 208.260075\n",
            "rsq_1 0.24582933924881956\n"
          ],
          "name": "stdout"
        }
      ]
    },
    {
      "cell_type": "markdown",
      "metadata": {
        "id": "BssZavqTFFYF"
      },
      "source": [
        "$ RSE = \\sqrt{\\frac{1}{n-p-1} RSS}$."
      ]
    },
    {
      "cell_type": "markdown",
      "metadata": {
        "id": "_mQnVnQg5vpZ"
      },
      "source": [
        "## Calculate the metrics for the optimal regression line\n",
        "\n",
        "We can do this using the formula. Or from the library method."
      ]
    },
    {
      "cell_type": "code",
      "metadata": {
        "id": "WHgEyyKqFzP1"
      },
      "source": [
        "rss = np.sum((df.y - df.y_hat)**2)\n",
        "rsq = 1 - rss/tss"
      ],
      "execution_count": null,
      "outputs": []
    },
    {
      "cell_type": "code",
      "metadata": {
        "colab": {
          "base_uri": "https://localhost:8080/"
        },
        "id": "GwZncHUmGPi9",
        "outputId": "5bf677ac-dd38-40fb-8653-3e49990c0c88"
      },
      "source": [
        "print(\"rss\", rss)\n",
        "print(\"rsq using our calculation\", rsq)"
      ],
      "execution_count": null,
      "outputs": [
        {
          "output_type": "stream",
          "text": [
            "rss 0.5385523575386852\n",
            "rsq using our calculation 0.9980497443529008\n"
          ],
          "name": "stdout"
        }
      ]
    },
    {
      "cell_type": "code",
      "metadata": {
        "colab": {
          "base_uri": "https://localhost:8080/"
        },
        "id": "wRKUoTn5GSCz",
        "outputId": "452091d9-b679-4f6f-a9e3-0a1368ae6079"
      },
      "source": [
        "from sklearn.metrics import r2_score\n",
        "r2_score(df.y, df.y_hat)\n"
      ],
      "execution_count": null,
      "outputs": [
        {
          "output_type": "execute_result",
          "data": {
            "text/plain": [
              "0.9980497443529008"
            ]
          },
          "metadata": {
            "tags": []
          },
          "execution_count": 17
        }
      ]
    },
    {
      "cell_type": "code",
      "metadata": {
        "id": "YJVo2aUu6IRM"
      },
      "source": [
        ""
      ],
      "execution_count": null,
      "outputs": []
    }
  ]
}