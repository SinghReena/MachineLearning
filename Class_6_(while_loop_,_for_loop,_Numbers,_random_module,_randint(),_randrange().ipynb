{
  "nbformat": 4,
  "nbformat_minor": 0,
  "metadata": {
    "colab": {
      "name": "Class-6 (while loop , for loop, Numbers, random module, randint(), randrange().ipynb",
      "provenance": [],
      "collapsed_sections": [],
      "authorship_tag": "ABX9TyOLmi0C0cWz61tPwGf80LHA",
      "include_colab_link": true
    },
    "kernelspec": {
      "name": "python3",
      "display_name": "Python 3"
    }
  },
  "cells": [
    {
      "cell_type": "markdown",
      "metadata": {
        "id": "view-in-github",
        "colab_type": "text"
      },
      "source": [
        "<a href=\"https://colab.research.google.com/github/SinghReena/MachineLearning/blob/master/Class_6_(while_loop_%2C_for_loop%2C_Numbers%2C_random_module%2C_randint()%2C_randrange().ipynb\" target=\"_parent\"><img src=\"https://colab.research.google.com/assets/colab-badge.svg\" alt=\"Open In Colab\"/></a>"
      ]
    },
    {
      "cell_type": "code",
      "metadata": {
        "colab": {
          "base_uri": "https://localhost:8080/"
        },
        "id": "mqtQKLRglDae",
        "outputId": "5e9caf34-7069-44f0-fcea-61d75bed694f"
      },
      "source": [
        "#To find the sum of natural numbers upto n where n is provided by the user\n",
        "\n",
        "#num=6\n",
        "num=int(input(\"Enter the number\"))\n",
        "\n",
        "if num < 0:\n",
        "  print(\"Enter only positive number\")\n",
        "else:\n",
        "  sum=0\n",
        "  while(num > 0):\n",
        "    sum=sum+num\n",
        "    num=num-1\n",
        "  print(\"The sum is\",sum)\n"
      ],
      "execution_count": null,
      "outputs": [
        {
          "output_type": "stream",
          "text": [
            "Enter the number21\n",
            "The sum is 231\n"
          ],
          "name": "stdout"
        }
      ]
    },
    {
      "cell_type": "markdown",
      "metadata": {
        "id": "PItYBEZnvc8M"
      },
      "source": [
        "Sum of even numbers from 1 to 10"
      ]
    },
    {
      "cell_type": "code",
      "metadata": {
        "colab": {
          "base_uri": "https://localhost:8080/"
        },
        "id": "T0MxDvU8vhFE",
        "outputId": "c287da61-e8eb-477b-a9c7-a8a52644573e"
      },
      "source": [
        "sum=0\n",
        "for number in range(1,11):\n",
        "  if number % 2 == 0:\n",
        "    sum=sum+number\n",
        "print(sum)"
      ],
      "execution_count": null,
      "outputs": [
        {
          "output_type": "stream",
          "text": [
            "30\n"
          ],
          "name": "stdout"
        }
      ]
    },
    {
      "cell_type": "markdown",
      "metadata": {
        "id": "n_sHyjZ2yAgY"
      },
      "source": [
        "Sum of odd numbers from 1 to 10"
      ]
    },
    {
      "cell_type": "code",
      "metadata": {
        "colab": {
          "base_uri": "https://localhost:8080/"
        },
        "id": "I0HUqTEbyKt1",
        "outputId": "1394c0e3-c310-49d7-e64e-88cf34d21ad0"
      },
      "source": [
        "sum=0\n",
        "for number in range(1,11):\n",
        "  if number % 2 != 0:\n",
        "    sum=sum+number\n",
        "print(sum)"
      ],
      "execution_count": null,
      "outputs": [
        {
          "output_type": "stream",
          "text": [
            "25\n"
          ],
          "name": "stdout"
        }
      ]
    },
    {
      "cell_type": "markdown",
      "metadata": {
        "id": "uIScXh6AzDts"
      },
      "source": [
        "Find out the factorial of a number"
      ]
    },
    {
      "cell_type": "code",
      "metadata": {
        "colab": {
          "base_uri": "https://localhost:8080/"
        },
        "id": "8vTC3AeKzHC9",
        "outputId": "859bcf7b-152c-418b-bea3-39ddbc04142a"
      },
      "source": [
        "number=5\n",
        "factorial=1\n",
        "\n",
        "i=1\n",
        "while(i<=number):\n",
        "  factorial=i*factorial\n",
        "  i=i+1\n",
        "print(\"The factorial of number 5 is \",factorial)"
      ],
      "execution_count": null,
      "outputs": [
        {
          "output_type": "stream",
          "text": [
            "The factorial of number 5 is  120\n"
          ],
          "name": "stdout"
        }
      ]
    },
    {
      "cell_type": "markdown",
      "metadata": {
        "id": "sNxxhPBxBclz"
      },
      "source": [
        "Calculate the area of circle from radius 1 to 10"
      ]
    },
    {
      "cell_type": "code",
      "metadata": {
        "colab": {
          "base_uri": "https://localhost:8080/"
        },
        "id": "Mo0ZlMbl3OP6",
        "outputId": "7b177b23-87c8-49cb-de97-b9bc9798cbac"
      },
      "source": [
        "r = 10\n",
        "while r !=0:\n",
        "  radius = 3.14*r*r\n",
        "  r= r-1\n",
        "  print(radius)\n"
      ],
      "execution_count": null,
      "outputs": [
        {
          "output_type": "stream",
          "text": [
            "314.0\n",
            "254.34\n",
            "200.96\n",
            "153.86\n",
            "113.03999999999999\n",
            "78.5\n",
            "50.24\n",
            "28.259999999999998\n",
            "12.56\n",
            "3.14\n"
          ],
          "name": "stdout"
        }
      ]
    },
    {
      "cell_type": "code",
      "metadata": {
        "colab": {
          "base_uri": "https://localhost:8080/"
        },
        "id": "xOv7x2aF3Sfe",
        "outputId": "2a276bd0-30a2-469e-8761-958d0515c442"
      },
      "source": [
        "pi = 3.14\n",
        "for i in range(1,11):\n",
        "  area = round(pi *i *i,2)\n",
        "  print(\"The area of radius \", i ,\"is \",area)\n"
      ],
      "execution_count": null,
      "outputs": [
        {
          "output_type": "stream",
          "text": [
            "The area of radius  1 is  3.14\n",
            "The area of radius  2 is  12.56\n",
            "The area of radius  3 is  28.26\n",
            "The area of radius  4 is  50.24\n",
            "The area of radius  5 is  78.5\n",
            "The area of radius  6 is  113.04\n",
            "The area of radius  7 is  153.86\n",
            "The area of radius  8 is  200.96\n",
            "The area of radius  9 is  254.34\n",
            "The area of radius  10 is  314.0\n"
          ],
          "name": "stdout"
        }
      ]
    },
    {
      "cell_type": "code",
      "metadata": {
        "colab": {
          "base_uri": "https://localhost:8080/"
        },
        "id": "LuZ56UJ73vw5",
        "outputId": "5b9d4caf-1351-4aeb-8f53-5de0a017916b"
      },
      "source": [
        "#Types of numbers\n",
        "x=1\n",
        "y=2.6\n",
        "z=1j\n",
        "str=\"Reena\"\n",
        "print(type(x))\n",
        "print(type(y))\n",
        "print(type(z))\n",
        "print(type(str))\n"
      ],
      "execution_count": null,
      "outputs": [
        {
          "output_type": "stream",
          "text": [
            "<class 'int'>\n",
            "<class 'float'>\n",
            "<class 'complex'>\n",
            "<class 'str'>\n"
          ],
          "name": "stdout"
        }
      ]
    },
    {
      "cell_type": "code",
      "metadata": {
        "colab": {
          "base_uri": "https://localhost:8080/"
        },
        "id": "2ImyBGG84eoB",
        "outputId": "32f0da8f-8f48-46cd-a6ab-d0a2d6c0c9c3"
      },
      "source": [
        "x=1\n",
        "y=456342345\n",
        "z=-456\n",
        "print(type(x))\n",
        "print(type(y))\n",
        "print(type(z))"
      ],
      "execution_count": null,
      "outputs": [
        {
          "output_type": "stream",
          "text": [
            "<class 'int'>\n",
            "<class 'int'>\n",
            "<class 'int'>\n"
          ],
          "name": "stdout"
        }
      ]
    },
    {
      "cell_type": "code",
      "metadata": {
        "colab": {
          "base_uri": "https://localhost:8080/"
        },
        "id": "RIZ5_YGc4wsQ",
        "outputId": "b6ee8240-99bf-4915-f7d0-414a51e8412d"
      },
      "source": [
        "x=3+5j\n",
        "y=5j\n",
        "z=-5j\n",
        "print(type(x))\n",
        "print(type(y))\n",
        "print(type(z))"
      ],
      "execution_count": null,
      "outputs": [
        {
          "output_type": "stream",
          "text": [
            "<class 'complex'>\n",
            "<class 'complex'>\n",
            "<class 'complex'>\n"
          ],
          "name": "stdout"
        }
      ]
    },
    {
      "cell_type": "code",
      "metadata": {
        "colab": {
          "base_uri": "https://localhost:8080/"
        },
        "id": "5igslODw5ONC",
        "outputId": "6c9c5a99-a3dd-4e6f-8782-d06b665ba084"
      },
      "source": [
        "x=1\n",
        "y=6.7\n",
        "z=2j\n",
        "\n",
        "#convert from int to float\n",
        "x=float(x)\n",
        "print(x)\n",
        "\n",
        "#convert from float to int\n",
        "y=int(y)\n",
        "print(y)\n",
        "\n",
        "#convert from int to complex\n",
        "x=complex(x)\n",
        "print(x)"
      ],
      "execution_count": null,
      "outputs": [
        {
          "output_type": "stream",
          "text": [
            "1.0\n",
            "6\n",
            "(1+0j)\n"
          ],
          "name": "stdout"
        }
      ]
    },
    {
      "cell_type": "markdown",
      "metadata": {
        "id": "_bDcDJIXAnb4"
      },
      "source": [
        "randint()"
      ]
    },
    {
      "cell_type": "code",
      "metadata": {
        "colab": {
          "base_uri": "https://localhost:8080/"
        },
        "id": "URfZB7166adH",
        "outputId": "720f2ff0-fb8f-4027-dd46-81c3211ab1ee"
      },
      "source": [
        "import random\n",
        "\n",
        "number=random.randint(0,10)\n",
        "print(number)"
      ],
      "execution_count": null,
      "outputs": [
        {
          "output_type": "stream",
          "text": [
            "5\n"
          ],
          "name": "stdout"
        }
      ]
    },
    {
      "cell_type": "markdown",
      "metadata": {
        "id": "_1HPxYUaAsBe"
      },
      "source": [
        "randrange()"
      ]
    },
    {
      "cell_type": "code",
      "metadata": {
        "colab": {
          "base_uri": "https://localhost:8080/"
        },
        "id": "IK-bUmif7BMr",
        "outputId": "c6775c83-cafc-4b72-b490-18320c35e700"
      },
      "source": [
        "import random\n",
        "number=random.randrange(0,10,3)\n",
        "print(number)"
      ],
      "execution_count": null,
      "outputs": [
        {
          "output_type": "stream",
          "text": [
            "0\n"
          ],
          "name": "stdout"
        }
      ]
    }
  ]
}