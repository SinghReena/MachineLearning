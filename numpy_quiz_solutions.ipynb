{
  "nbformat": 4,
  "nbformat_minor": 0,
  "metadata": {
    "colab": {
      "name": "numpy quiz solutions.ipynb",
      "provenance": [],
      "include_colab_link": true
    },
    "kernelspec": {
      "name": "python3",
      "display_name": "Python 3"
    }
  },
  "cells": [
    {
      "cell_type": "markdown",
      "metadata": {
        "id": "view-in-github",
        "colab_type": "text"
      },
      "source": [
        "<a href=\"https://colab.research.google.com/github/SinghReena/MachineLearning/blob/master/numpy_quiz_solutions.ipynb\" target=\"_parent\"><img src=\"https://colab.research.google.com/assets/colab-badge.svg\" alt=\"Open In Colab\"/></a>"
      ]
    },
    {
      "cell_type": "code",
      "metadata": {
        "id": "BD6ifdn6CPhU"
      },
      "source": [
        "import numpy as np"
      ],
      "execution_count": null,
      "outputs": []
    },
    {
      "cell_type": "markdown",
      "metadata": {
        "id": "j3hf66DqfE7n"
      },
      "source": [
        ""
      ]
    },
    {
      "cell_type": "code",
      "metadata": {
        "colab": {
          "base_uri": "https://localhost:8080/"
        },
        "id": "MUEoqC44CSwB",
        "outputId": "72565b30-4de6-4060-8f15-9c1a40398c8a"
      },
      "source": [
        "#  3. \n",
        "matrix = np.array(np.arange(12))\n",
        "matrix.shape"
      ],
      "execution_count": null,
      "outputs": [
        {
          "output_type": "execute_result",
          "data": {
            "text/plain": [
              "(12,)"
            ]
          },
          "metadata": {
            "tags": []
          },
          "execution_count": 3
        }
      ]
    },
    {
      "cell_type": "code",
      "metadata": {
        "id": "SUrMtjYQfRBE"
      },
      "source": [
        "# 4\n",
        "\n",
        "a = np.array(np.arange(100))\n",
        "a.reshape(25,4)\n",
        "a.reshape(2, 50)\n",
        "a.reshape(50, 2)\n",
        "a.reshape(20, 5)\n",
        "# etc.\n"
      ],
      "execution_count": null,
      "outputs": []
    },
    {
      "cell_type": "code",
      "metadata": {
        "colab": {
          "base_uri": "https://localhost:8080/",
          "height": 179
        },
        "id": "VjLVc_nvCdJg",
        "outputId": "07287f5c-17ae-45cf-d898-19992cbd27ea"
      },
      "source": [
        "#5 This will be an error because 12 items cannot be rearranged in a 4x4 matrix.\n",
        "\n",
        "matrix = np.array(np.arange(12)).reshape(4,4)\n",
        "matrix"
      ],
      "execution_count": null,
      "outputs": [
        {
          "output_type": "error",
          "ename": "ValueError",
          "evalue": "ignored",
          "traceback": [
            "\u001b[0;31m---------------------------------------------------------------------------\u001b[0m",
            "\u001b[0;31mValueError\u001b[0m                                Traceback (most recent call last)",
            "\u001b[0;32m<ipython-input-5-f68879dfd7e7>\u001b[0m in \u001b[0;36m<module>\u001b[0;34m()\u001b[0m\n\u001b[0;32m----> 1\u001b[0;31m \u001b[0mmatrix\u001b[0m \u001b[0;34m=\u001b[0m \u001b[0mnp\u001b[0m\u001b[0;34m.\u001b[0m\u001b[0marray\u001b[0m\u001b[0;34m(\u001b[0m\u001b[0mnp\u001b[0m\u001b[0;34m.\u001b[0m\u001b[0marange\u001b[0m\u001b[0;34m(\u001b[0m\u001b[0;36m12\u001b[0m\u001b[0;34m)\u001b[0m\u001b[0;34m)\u001b[0m\u001b[0;34m.\u001b[0m\u001b[0mreshape\u001b[0m\u001b[0;34m(\u001b[0m\u001b[0;36m4\u001b[0m\u001b[0;34m,\u001b[0m\u001b[0;36m4\u001b[0m\u001b[0;34m)\u001b[0m\u001b[0;34m\u001b[0m\u001b[0;34m\u001b[0m\u001b[0m\n\u001b[0m\u001b[1;32m      2\u001b[0m \u001b[0mmatrix\u001b[0m\u001b[0;34m\u001b[0m\u001b[0;34m\u001b[0m\u001b[0m\n",
            "\u001b[0;31mValueError\u001b[0m: cannot reshape array of size 12 into shape (4,4)"
          ]
        }
      ]
    },
    {
      "cell_type": "code",
      "metadata": {
        "colab": {
          "base_uri": "https://localhost:8080/"
        },
        "id": "Elg6RE7Cft3_",
        "outputId": "1e1fc96c-2e6f-44ce-988d-769c69bf4547"
      },
      "source": [
        "# 6.  a = np.array(np.arange(10)); a * 2.0 What will output look like?\n",
        "\n",
        "a = np.array(np.arange(10))\n",
        "a * 2.0\n",
        "\n",
        "# Everyone got the broadcasting of the multiplication right. But some people\n",
        "# chose only the integer array.  Since 2.0 is a float, \n",
        "# the resulting array will be typecase to float\n",
        "\n"
      ],
      "execution_count": null,
      "outputs": [
        {
          "output_type": "execute_result",
          "data": {
            "text/plain": [
              "array([ 0.,  2.,  4.,  6.,  8., 10., 12., 14., 16., 18.])"
            ]
          },
          "metadata": {
            "tags": []
          },
          "execution_count": 6
        }
      ]
    },
    {
      "cell_type": "code",
      "metadata": {
        "colab": {
          "base_uri": "https://localhost:8080/"
        },
        "id": "YzTHyn5pE1hI",
        "outputId": "66c8d8ae-924c-4232-879e-ee2a7bcb0334"
      },
      "source": [
        "# 7. a= np.array([[5,4,3,1],[3,6,7,9]]); a.size\n",
        "# The point of the question was to check the difference between ndim and size()\n",
        "\n",
        "a= np.array([[5,4,3,1],[3,6,7,9]])\n",
        "\n",
        "\n",
        "a.size\n"
      ],
      "execution_count": null,
      "outputs": [
        {
          "output_type": "execute_result",
          "data": {
            "text/plain": [
              "8"
            ]
          },
          "metadata": {
            "tags": []
          },
          "execution_count": 10
        }
      ]
    },
    {
      "cell_type": "code",
      "metadata": {
        "colab": {
          "base_uri": "https://localhost:8080/"
        },
        "id": "36WyABNLFJX1",
        "outputId": "6afdf347-c358-4caf-9d88-e0e4d5bd2e2b"
      },
      "source": [
        "# 8. a = np.array([[1, 2], [3, 4], [5, 6] ]); a.transpose() What is the output?\n",
        "\n",
        "a = np.array([[1, 2], [3, 4], [5, 6] ])\n",
        "a.transpose()"
      ],
      "execution_count": null,
      "outputs": [
        {
          "output_type": "execute_result",
          "data": {
            "text/plain": [
              "array([[1, 3, 5],\n",
              "       [2, 4, 6]])"
            ]
          },
          "metadata": {
            "tags": []
          },
          "execution_count": 11
        }
      ]
    },
    {
      "cell_type": "code",
      "metadata": {
        "colab": {
          "base_uri": "https://localhost:8080/"
        },
        "id": "AoOfdZDlg1Y3",
        "outputId": "abcba510-69fe-48a6-d918-8da8f20151cd"
      },
      "source": [
        "# 9. Another question of checking for element-wise addition\n",
        "# a = np.array(np.arange(10, 20)); b = np.array(np.arange(50, 60)); a + b\n",
        "a = np.array(np.arange(10, 20))\n",
        "b = np.array(np.arange(50, 60))\n",
        "a + b\n"
      ],
      "execution_count": null,
      "outputs": [
        {
          "output_type": "execute_result",
          "data": {
            "text/plain": [
              "array([60, 62, 64, 66, 68, 70, 72, 74, 76, 78])"
            ]
          },
          "metadata": {
            "tags": []
          },
          "execution_count": 7
        }
      ]
    },
    {
      "cell_type": "code",
      "metadata": {
        "colab": {
          "base_uri": "https://localhost:8080/"
        },
        "id": "z5nNOHfJhLPi",
        "outputId": "24a10e3f-d9a1-4fc0-a686-1af38bbc18f6"
      },
      "source": [
        "#10. a = np.arange(25).reshape(5,5). How do you slice this to get the middle 3x3 matrix? That is we do not want the borders.\n",
        "\n",
        "a = np.arange(25).reshape(5,5)\n",
        "a[1:-1, 1:-1]\n",
        "# also\n",
        "a[1:4, 1:4]"
      ],
      "execution_count": null,
      "outputs": [
        {
          "output_type": "execute_result",
          "data": {
            "text/plain": [
              "array([[ 6,  7,  8],\n",
              "       [11, 12, 13],\n",
              "       [16, 17, 18]])"
            ]
          },
          "metadata": {
            "tags": []
          },
          "execution_count": 9
        }
      ]
    },
    {
      "cell_type": "code",
      "metadata": {
        "colab": {
          "base_uri": "https://localhost:8080/"
        },
        "id": "yUo3NXI5hYiZ",
        "outputId": "c835693a-8c8c-44bd-f2b4-fe09bb9bbebe"
      },
      "source": [
        "# 11.  a5 = np.arange(25).reshape(5, 5) What does a5[1] give?\n",
        "# This question was to check the slicing of the rows only when given one dimension for indexing.\n",
        "# note that indexing starts with 0, so we get the 1th row.\n",
        "\n",
        "a5 = np.arange(25).reshape(5, 5) \n",
        "a5[1]\n",
        "\n",
        "\n"
      ],
      "execution_count": null,
      "outputs": [
        {
          "output_type": "execute_result",
          "data": {
            "text/plain": [
              "array([5, 6, 7, 8, 9])"
            ]
          },
          "metadata": {
            "tags": []
          },
          "execution_count": 10
        }
      ]
    },
    {
      "cell_type": "markdown",
      "metadata": {
        "id": "QPm1FFS0h4Ba"
      },
      "source": [
        "12. List some advantages of using numpy array over python lists. (short points suffice)\n",
        "\n",
        "- types are uniform.\n",
        "- the sizes of the individual dimensions in a multidimensional array are all fixed.\n",
        "- broadcasting and element-wise computations will work over arrays.\n",
        "- arrays are more efficient for storage and computation.\n"
      ]
    },
    {
      "cell_type": "markdown",
      "metadata": {
        "id": "aw3glkiUigTF"
      },
      "source": [
        "13. How do you rate this quiz?\n",
        "\n"
      ]
    },
    {
      "cell_type": "code",
      "metadata": {
        "colab": {
          "base_uri": "https://localhost:8080/",
          "height": 315
        },
        "id": "6toI2IOWijXX",
        "outputId": "825a107a-2d1a-4872-b62b-f3511413478e"
      },
      "source": [
        "import matplotlib.pyplot as plt\n",
        "\n",
        "num_ratings = np.array([1,3, 2, 3, 3, 3, 3, 4, 4, 4, 3, 3, 3, 4, 4, 1, 5])\n",
        "\n",
        "options = np.array(np.arange(0, 6))\n",
        "plt.hist(num_ratings,  rwidth = 0.7, color = \"red\")\n"
      ],
      "execution_count": null,
      "outputs": [
        {
          "output_type": "execute_result",
          "data": {
            "text/plain": [
              "(array([2., 0., 1., 0., 0., 8., 0., 5., 0., 1.]),\n",
              " array([1. , 1.4, 1.8, 2.2, 2.6, 3. , 3.4, 3.8, 4.2, 4.6, 5. ]),\n",
              " <a list of 10 Patch objects>)"
            ]
          },
          "metadata": {
            "tags": []
          },
          "execution_count": 35
        },
        {
          "output_type": "display_data",
          "data": {
            "image/png": "[encoded data removed]",
            "text/plain": [
              "<Figure size 432x288 with 1 Axes>"
            ]
          },
          "metadata": {
            "tags": [],
            "needs_background": "light"
          }
        }
      ]
    }
  ]
}