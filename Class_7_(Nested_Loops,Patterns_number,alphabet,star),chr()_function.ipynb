{
  "nbformat": 4,
  "nbformat_minor": 0,
  "metadata": {
    "colab": {
      "name": "Class-7 (Nested Loops,Patterns-number,alphabet,star),chr() function.ipynb",
      "provenance": [],
      "collapsed_sections": [],
      "authorship_tag": "ABX9TyM4U+nl3GEi6yDDHY3ThmM8",
      "include_colab_link": true
    },
    "kernelspec": {
      "name": "python3",
      "display_name": "Python 3"
    }
  },
  "cells": [
    {
      "cell_type": "markdown",
      "metadata": {
        "id": "view-in-github",
        "colab_type": "text"
      },
      "source": [
        "<a href=\"https://colab.research.google.com/github/SinghReena/MachineLearning/blob/master/Class_7_(Nested_Loops%2CPatterns_number%2Calphabet%2Cstar)%2Cchr()_function.ipynb\" target=\"_parent\"><img src=\"https://colab.research.google.com/assets/colab-badge.svg\" alt=\"Open In Colab\"/></a>"
      ]
    },
    {
      "cell_type": "code",
      "metadata": {
        "id": "EVT1VXmTHlMp"
      },
      "source": [
        ""
      ],
      "execution_count": null,
      "outputs": []
    },
    {
      "cell_type": "markdown",
      "metadata": {
        "id": "UOPNZG-iHpzE"
      },
      "source": [
        "Nested loop"
      ]
    },
    {
      "cell_type": "code",
      "metadata": {
        "colab": {
          "base_uri": "https://localhost:8080/"
        },
        "id": "vVHfAXvIHuo-",
        "outputId": "5ed1cf93-54c9-465b-b562-59ca9edc6e94"
      },
      "source": [
        "number=9\n",
        "#Outer loop\n",
        "for i in range(0,3):\n",
        "  #inner loop\n",
        "  for j in range(0,i+1):\n",
        "    print(number,end=\",\")\n",
        "  print(\"\\n\")\n",
        "\n",
        "\n"
      ],
      "execution_count": null,
      "outputs": [
        {
          "output_type": "stream",
          "text": [
            "9,\n",
            "\n",
            "9,9,\n",
            "\n",
            "9,9,9,\n",
            "\n"
          ],
          "name": "stdout"
        }
      ]
    },
    {
      "cell_type": "markdown",
      "metadata": {
        "id": "W1FZbo1sLiCs"
      },
      "source": [
        "Print * pattern"
      ]
    },
    {
      "cell_type": "code",
      "metadata": {
        "colab": {
          "base_uri": "https://localhost:8080/"
        },
        "id": "b6ZpSHIfLkm8",
        "outputId": "ec687722-ceff-49f2-f3ab-1c8e142530b8"
      },
      "source": [
        "#number=9\n",
        "#Outer loop\n",
        "for i in range(0,5):\n",
        "  #inner loop\n",
        "  for j in range(0,i+1):\n",
        "    print(\"*\",end=\"\")\n",
        "  print(\"\\n\")"
      ],
      "execution_count": null,
      "outputs": [
        {
          "output_type": "stream",
          "text": [
            "*\n",
            "\n",
            "**\n",
            "\n",
            "***\n",
            "\n",
            "****\n",
            "\n",
            "*****\n",
            "\n"
          ],
          "name": "stdout"
        }
      ]
    },
    {
      "cell_type": "code",
      "metadata": {
        "colab": {
          "base_uri": "https://localhost:8080/"
        },
        "id": "Qc81BhH5MYWo",
        "outputId": "afab2370-eb14-4823-a1f3-b8460043580d"
      },
      "source": [
        "val=65\n",
        "for i in range(0,4):\n",
        "  for j in range(0,i+1):\n",
        "    ch=chr(val)\n",
        "    print(ch,end=\"\")\n",
        "    val=val+1\n",
        "  print()\n",
        "\n"
      ],
      "execution_count": null,
      "outputs": [
        {
          "output_type": "stream",
          "text": [
            "A\n",
            "BC\n",
            "DEF\n",
            "GHIJ\n"
          ],
          "name": "stdout"
        }
      ]
    },
    {
      "cell_type": "code",
      "metadata": {
        "colab": {
          "base_uri": "https://localhost:8080/"
        },
        "id": "iomkLvY3Pm5X",
        "outputId": "53c52c54-fdf4-4e35-e2c3-1846f9e94a36"
      },
      "source": [
        "val=97\n",
        "for i in range(0,4):\n",
        "  for j in range(0,i+1):\n",
        "    ch=chr(val)\n",
        "    print(ch,end=\"\")\n",
        "    val=val+1\n",
        "  print()"
      ],
      "execution_count": null,
      "outputs": [
        {
          "output_type": "stream",
          "text": [
            "a\n",
            "bc\n",
            "def\n",
            "ghij\n"
          ],
          "name": "stdout"
        }
      ]
    },
    {
      "cell_type": "code",
      "metadata": {
        "colab": {
          "base_uri": "https://localhost:8080/"
        },
        "id": "WsFhk1ojPwBI",
        "outputId": "c154e74f-cc04-487b-ecd5-ff4c04dd6f53"
      },
      "source": [
        "val=67\n",
        "for i in range(0,4):\n",
        "  for j in range(0,i+1):\n",
        "    ch=chr(val)\n",
        "    print(ch,end=\"\")\n",
        "    val=val+1\n",
        "  print()"
      ],
      "execution_count": null,
      "outputs": [
        {
          "output_type": "stream",
          "text": [
            "C\n",
            "DE\n",
            "FGH\n",
            "IJKL\n"
          ],
          "name": "stdout"
        }
      ]
    },
    {
      "cell_type": "code",
      "metadata": {
        "colab": {
          "base_uri": "https://localhost:8080/"
        },
        "id": "fkoDwlkyQHkD",
        "outputId": "ee0df7ca-0dbd-4827-f484-9455638c3692"
      },
      "source": [
        "val=65\n",
        "for i in range(0,4):\n",
        "  for j in range(0,i+1):\n",
        "    ch=chr(val)\n",
        "    print(ch,end=\"\")\n",
        "  val=val+1\n",
        "  print()"
      ],
      "execution_count": null,
      "outputs": [
        {
          "output_type": "stream",
          "text": [
            "A\n",
            "BB\n",
            "CCC\n",
            "DDDD\n"
          ],
          "name": "stdout"
        }
      ]
    }
  ]
}