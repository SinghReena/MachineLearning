{
  "nbformat": 4,
  "nbformat_minor": 0,
  "metadata": {
    "colab": {
      "name": "8. DataFrame missing data.ipynb",
      "provenance": [],
      "include_colab_link": true
    },
    "kernelspec": {
      "name": "python3",
      "display_name": "Python 3"
    }
  },
  "cells": [
    {
      "cell_type": "markdown",
      "metadata": {
        "id": "view-in-github",
        "colab_type": "text"
      },
      "source": [
        "<a href=\"https://colab.research.google.com/github/SinghReena/MachineLearning/blob/master/8_DataFrame_missing_data.ipynb\" target=\"_parent\"><img src=\"https://colab.research.google.com/assets/colab-badge.svg\" alt=\"Open In Colab\"/></a>"
      ]
    },
    {
      "cell_type": "code",
      "metadata": {
        "id": "LfLMlU6gHv2R"
      },
      "source": [
        "import numpy as np\n",
        "import pandas as pd"
      ],
      "execution_count": null,
      "outputs": []
    },
    {
      "cell_type": "markdown",
      "metadata": {
        "id": "v2C-swDOIcAg"
      },
      "source": [
        "### Axis 0 and 1\n",
        "\n",
        "axis 0 is the rows, axis 1 is the columns.  sum on axis 0 means, sum along the row."
      ]
    },
    {
      "cell_type": "code",
      "metadata": {
        "colab": {
          "base_uri": "https://localhost:8080/"
        },
        "id": "qwwVr-9zIdWo",
        "outputId": "1f5fc9d3-7187-489c-8cb0-30b92cc0f166"
      },
      "source": [
        "a = np.array([[1, 2], [3, 4]])\n",
        "print(a)\n",
        "print(\"np.sum \", np.sum(a))\n",
        "print(\"np.sum (axis 0)\",  np.sum(a, axis=0))\n",
        "print(\"np.sum (axis 1)\", np.sum(a, axis=1))\n"
      ],
      "execution_count": null,
      "outputs": [
        {
          "output_type": "stream",
          "text": [
            "[[1 2]\n",
            " [3 4]]\n",
            "np.sum  10\n",
            "np.sum (axis 0) [4 6]\n",
            "np.sum (axis 1) [3 7]\n"
          ],
          "name": "stdout"
        }
      ]
    },
    {
      "cell_type": "code",
      "metadata": {
        "colab": {
          "base_uri": "https://localhost:8080/",
          "height": 166
        },
        "id": "BGTaS5z5IidJ",
        "outputId": "a33eaa9f-40d7-4921-a2c0-ce3987d53800"
      },
      "source": [
        "df = pd.DataFrame({'a': [1, 2, 3, 4],\n",
        "                   'b': np.arange(5,9),\n",
        "                   'c': np.arange(100, 104)})\n",
        "df"
      ],
      "execution_count": null,
      "outputs": [
        {
          "output_type": "execute_result",
          "data": {
            "text/html": [
              "<div>\n",
              "<style scoped>\n",
              "    .dataframe tbody tr th:only-of-type {\n",
              "        vertical-align: middle;\n",
              "    }\n",
              "\n",
              "    .dataframe tbody tr th {\n",
              "        vertical-align: top;\n",
              "    }\n",
              "\n",
              "    .dataframe thead th {\n",
              "        text-align: right;\n",
              "    }\n",
              "</style>\n",
              "<table border=\"1\" class=\"dataframe\">\n",
              "  <thead>\n",
              "    <tr style=\"text-align: right;\">\n",
              "      <th></th>\n",
              "      <th>a</th>\n",
              "      <th>b</th>\n",
              "      <th>c</th>\n",
              "    </tr>\n",
              "  </thead>\n",
              "  <tbody>\n",
              "    <tr>\n",
              "      <th>0</th>\n",
              "      <td>1</td>\n",
              "      <td>5</td>\n",
              "      <td>100</td>\n",
              "    </tr>\n",
              "    <tr>\n",
              "      <th>1</th>\n",
              "      <td>2</td>\n",
              "      <td>6</td>\n",
              "      <td>101</td>\n",
              "    </tr>\n",
              "    <tr>\n",
              "      <th>2</th>\n",
              "      <td>3</td>\n",
              "      <td>7</td>\n",
              "      <td>102</td>\n",
              "    </tr>\n",
              "    <tr>\n",
              "      <th>3</th>\n",
              "      <td>4</td>\n",
              "      <td>8</td>\n",
              "      <td>103</td>\n",
              "    </tr>\n",
              "  </tbody>\n",
              "</table>\n",
              "</div>"
            ],
            "text/plain": [
              "   a  b    c\n",
              "0  1  5  100\n",
              "1  2  6  101\n",
              "2  3  7  102\n",
              "3  4  8  103"
            ]
          },
          "metadata": {
            "tags": []
          },
          "execution_count": 145
        }
      ]
    },
    {
      "cell_type": "markdown",
      "metadata": {
        "id": "dH8WGm9jmMIq"
      },
      "source": [
        "By default, most operations use `axis = 0` as the default argument.  We can explicitly use `axis = 1` for evaluating row-wise."
      ]
    },
    {
      "cell_type": "code",
      "metadata": {
        "colab": {
          "base_uri": "https://localhost:8080/"
        },
        "id": "UWm4aSXmJBNB",
        "outputId": "dafb7322-7ae7-40c5-a0b2-07e76faef55d"
      },
      "source": [
        "df.sum()"
      ],
      "execution_count": null,
      "outputs": [
        {
          "output_type": "execute_result",
          "data": {
            "text/plain": [
              "a     10\n",
              "b     26\n",
              "c    406\n",
              "dtype: int64"
            ]
          },
          "metadata": {
            "tags": []
          },
          "execution_count": 146
        }
      ]
    },
    {
      "cell_type": "code",
      "metadata": {
        "colab": {
          "base_uri": "https://localhost:8080/"
        },
        "id": "LPm_dYhfJCyb",
        "outputId": "8970fc9f-22a3-4bae-816a-ea6218d11c2c"
      },
      "source": [
        "df.sum(axis=1)"
      ],
      "execution_count": null,
      "outputs": [
        {
          "output_type": "execute_result",
          "data": {
            "text/plain": [
              "0    106\n",
              "1    109\n",
              "2    112\n",
              "3    115\n",
              "dtype: int64"
            ]
          },
          "metadata": {
            "tags": []
          },
          "execution_count": 147
        }
      ]
    },
    {
      "cell_type": "markdown",
      "metadata": {
        "id": "efh6MpwIma69"
      },
      "source": [
        "How about summing columns of non-numeric values?"
      ]
    },
    {
      "cell_type": "code",
      "metadata": {
        "colab": {
          "base_uri": "https://localhost:8080/",
          "height": 225
        },
        "id": "nKII_uE3v-Cx",
        "outputId": "d7bdab1a-9361-4e89-e91b-1773a2d201bc"
      },
      "source": [
        "data = {'students': ['Alice','Bob','Charlie','Dave','Eva', 'Frank'],\n",
        "      'subjects': ['Bio','Physics','Math','Arts','Chemistry', 'Economics'],\n",
        "      'score1': [55, 40, 63, 90, 45, 45]}\n",
        "\n",
        "df = pd.DataFrame(data)\n",
        "df\n"
      ],
      "execution_count": null,
      "outputs": [
        {
          "output_type": "execute_result",
          "data": {
            "text/html": [
              "<div>\n",
              "<style scoped>\n",
              "    .dataframe tbody tr th:only-of-type {\n",
              "        vertical-align: middle;\n",
              "    }\n",
              "\n",
              "    .dataframe tbody tr th {\n",
              "        vertical-align: top;\n",
              "    }\n",
              "\n",
              "    .dataframe thead th {\n",
              "        text-align: right;\n",
              "    }\n",
              "</style>\n",
              "<table border=\"1\" class=\"dataframe\">\n",
              "  <thead>\n",
              "    <tr style=\"text-align: right;\">\n",
              "      <th></th>\n",
              "      <th>students</th>\n",
              "      <th>subjects</th>\n",
              "      <th>score1</th>\n",
              "    </tr>\n",
              "  </thead>\n",
              "  <tbody>\n",
              "    <tr>\n",
              "      <th>0</th>\n",
              "      <td>Alice</td>\n",
              "      <td>Bio</td>\n",
              "      <td>55</td>\n",
              "    </tr>\n",
              "    <tr>\n",
              "      <th>1</th>\n",
              "      <td>Bob</td>\n",
              "      <td>Physics</td>\n",
              "      <td>40</td>\n",
              "    </tr>\n",
              "    <tr>\n",
              "      <th>2</th>\n",
              "      <td>Charlie</td>\n",
              "      <td>Math</td>\n",
              "      <td>63</td>\n",
              "    </tr>\n",
              "    <tr>\n",
              "      <th>3</th>\n",
              "      <td>Dave</td>\n",
              "      <td>Arts</td>\n",
              "      <td>90</td>\n",
              "    </tr>\n",
              "    <tr>\n",
              "      <th>4</th>\n",
              "      <td>Eva</td>\n",
              "      <td>Chemistry</td>\n",
              "      <td>45</td>\n",
              "    </tr>\n",
              "    <tr>\n",
              "      <th>5</th>\n",
              "      <td>Frank</td>\n",
              "      <td>Economics</td>\n",
              "      <td>45</td>\n",
              "    </tr>\n",
              "  </tbody>\n",
              "</table>\n",
              "</div>"
            ],
            "text/plain": [
              "  students   subjects  score1\n",
              "0    Alice        Bio      55\n",
              "1      Bob    Physics      40\n",
              "2  Charlie       Math      63\n",
              "3     Dave       Arts      90\n",
              "4      Eva  Chemistry      45\n",
              "5    Frank  Economics      45"
            ]
          },
          "metadata": {
            "tags": []
          },
          "execution_count": 148
        }
      ]
    },
    {
      "cell_type": "code",
      "metadata": {
        "colab": {
          "base_uri": "https://localhost:8080/"
        },
        "id": "qmP-0q6kv-yF",
        "outputId": "6fddf634-ebe2-4e40-844d-b10f7f8a896d"
      },
      "source": [
        "df.sum()"
      ],
      "execution_count": null,
      "outputs": [
        {
          "output_type": "execute_result",
          "data": {
            "text/plain": [
              "students             AliceBobCharlieDaveEvaFrank\n",
              "subjects    BioPhysicsMathArtsChemistryEconomics\n",
              "score1                                       338\n",
              "dtype: object"
            ]
          },
          "metadata": {
            "tags": []
          },
          "execution_count": 149
        }
      ]
    },
    {
      "cell_type": "code",
      "metadata": {
        "id": "m1Tngc5ewDyY",
        "colab": {
          "base_uri": "https://localhost:8080/"
        },
        "outputId": "9b484311-45b7-48de-8c7e-8d26145c86b9"
      },
      "source": [
        "df.score1.sum()"
      ],
      "execution_count": null,
      "outputs": [
        {
          "output_type": "execute_result",
          "data": {
            "text/plain": [
              "338"
            ]
          },
          "metadata": {
            "tags": []
          },
          "execution_count": 150
        }
      ]
    },
    {
      "cell_type": "markdown",
      "metadata": {
        "id": "o2bs3_Z9msF7"
      },
      "source": [
        "## Replace\n",
        "\n",
        "We can replace values in the dataframe.  "
      ]
    },
    {
      "cell_type": "code",
      "metadata": {
        "id": "onMA0jR_m3fW"
      },
      "source": [
        "df[\"score2\"] = [45, 55, 40, 90, 20, 25]"
      ],
      "execution_count": null,
      "outputs": []
    },
    {
      "cell_type": "code",
      "metadata": {
        "colab": {
          "base_uri": "https://localhost:8080/",
          "height": 225
        },
        "id": "ijbpMIN8mmlG",
        "outputId": "f0815426-f4fd-455c-c1b6-8aceba31b2d6"
      },
      "source": [
        "df.replace(45, 25)"
      ],
      "execution_count": null,
      "outputs": [
        {
          "output_type": "execute_result",
          "data": {
            "text/html": [
              "<div>\n",
              "<style scoped>\n",
              "    .dataframe tbody tr th:only-of-type {\n",
              "        vertical-align: middle;\n",
              "    }\n",
              "\n",
              "    .dataframe tbody tr th {\n",
              "        vertical-align: top;\n",
              "    }\n",
              "\n",
              "    .dataframe thead th {\n",
              "        text-align: right;\n",
              "    }\n",
              "</style>\n",
              "<table border=\"1\" class=\"dataframe\">\n",
              "  <thead>\n",
              "    <tr style=\"text-align: right;\">\n",
              "      <th></th>\n",
              "      <th>students</th>\n",
              "      <th>subjects</th>\n",
              "      <th>score1</th>\n",
              "      <th>score2</th>\n",
              "    </tr>\n",
              "  </thead>\n",
              "  <tbody>\n",
              "    <tr>\n",
              "      <th>0</th>\n",
              "      <td>Alice</td>\n",
              "      <td>Bio</td>\n",
              "      <td>55</td>\n",
              "      <td>25</td>\n",
              "    </tr>\n",
              "    <tr>\n",
              "      <th>1</th>\n",
              "      <td>Bob</td>\n",
              "      <td>Physics</td>\n",
              "      <td>40</td>\n",
              "      <td>55</td>\n",
              "    </tr>\n",
              "    <tr>\n",
              "      <th>2</th>\n",
              "      <td>Charlie</td>\n",
              "      <td>Math</td>\n",
              "      <td>63</td>\n",
              "      <td>40</td>\n",
              "    </tr>\n",
              "    <tr>\n",
              "      <th>3</th>\n",
              "      <td>Dave</td>\n",
              "      <td>Arts</td>\n",
              "      <td>90</td>\n",
              "      <td>90</td>\n",
              "    </tr>\n",
              "    <tr>\n",
              "      <th>4</th>\n",
              "      <td>Eva</td>\n",
              "      <td>Chemistry</td>\n",
              "      <td>25</td>\n",
              "      <td>20</td>\n",
              "    </tr>\n",
              "    <tr>\n",
              "      <th>5</th>\n",
              "      <td>Frank</td>\n",
              "      <td>Economics</td>\n",
              "      <td>25</td>\n",
              "      <td>25</td>\n",
              "    </tr>\n",
              "  </tbody>\n",
              "</table>\n",
              "</div>"
            ],
            "text/plain": [
              "  students   subjects  score1  score2\n",
              "0    Alice        Bio      55      25\n",
              "1      Bob    Physics      40      55\n",
              "2  Charlie       Math      63      40\n",
              "3     Dave       Arts      90      90\n",
              "4      Eva  Chemistry      25      20\n",
              "5    Frank  Economics      25      25"
            ]
          },
          "metadata": {
            "tags": []
          },
          "execution_count": 152
        }
      ]
    },
    {
      "cell_type": "markdown",
      "metadata": {
        "id": "ldJZNWyjnheY"
      },
      "source": [
        "What if we want to replace only in one column?"
      ]
    },
    {
      "cell_type": "code",
      "metadata": {
        "colab": {
          "base_uri": "https://localhost:8080/"
        },
        "id": "-wBDDGBrm_xS",
        "outputId": "c5d26b2c-d134-448a-ebfa-24df94de2187"
      },
      "source": [
        "df.score1.replace(90, 30)"
      ],
      "execution_count": null,
      "outputs": [
        {
          "output_type": "execute_result",
          "data": {
            "text/plain": [
              "0    55\n",
              "1    40\n",
              "2    63\n",
              "3    30\n",
              "4    45\n",
              "5    45\n",
              "Name: score1, dtype: int64"
            ]
          },
          "metadata": {
            "tags": []
          },
          "execution_count": 153
        }
      ]
    },
    {
      "cell_type": "code",
      "metadata": {
        "colab": {
          "base_uri": "https://localhost:8080/",
          "height": 225
        },
        "id": "1xrKssRRLOAw",
        "outputId": "e89143dc-56ff-4457-d37b-710020d70153"
      },
      "source": [
        "df"
      ],
      "execution_count": null,
      "outputs": [
        {
          "output_type": "execute_result",
          "data": {
            "text/html": [
              "<div>\n",
              "<style scoped>\n",
              "    .dataframe tbody tr th:only-of-type {\n",
              "        vertical-align: middle;\n",
              "    }\n",
              "\n",
              "    .dataframe tbody tr th {\n",
              "        vertical-align: top;\n",
              "    }\n",
              "\n",
              "    .dataframe thead th {\n",
              "        text-align: right;\n",
              "    }\n",
              "</style>\n",
              "<table border=\"1\" class=\"dataframe\">\n",
              "  <thead>\n",
              "    <tr style=\"text-align: right;\">\n",
              "      <th></th>\n",
              "      <th>students</th>\n",
              "      <th>subjects</th>\n",
              "      <th>score1</th>\n",
              "      <th>score2</th>\n",
              "    </tr>\n",
              "  </thead>\n",
              "  <tbody>\n",
              "    <tr>\n",
              "      <th>0</th>\n",
              "      <td>Alice</td>\n",
              "      <td>Bio</td>\n",
              "      <td>55</td>\n",
              "      <td>45</td>\n",
              "    </tr>\n",
              "    <tr>\n",
              "      <th>1</th>\n",
              "      <td>Bob</td>\n",
              "      <td>Physics</td>\n",
              "      <td>40</td>\n",
              "      <td>55</td>\n",
              "    </tr>\n",
              "    <tr>\n",
              "      <th>2</th>\n",
              "      <td>Charlie</td>\n",
              "      <td>Math</td>\n",
              "      <td>63</td>\n",
              "      <td>40</td>\n",
              "    </tr>\n",
              "    <tr>\n",
              "      <th>3</th>\n",
              "      <td>Dave</td>\n",
              "      <td>Arts</td>\n",
              "      <td>30</td>\n",
              "      <td>90</td>\n",
              "    </tr>\n",
              "    <tr>\n",
              "      <th>4</th>\n",
              "      <td>Eva</td>\n",
              "      <td>Chemistry</td>\n",
              "      <td>45</td>\n",
              "      <td>20</td>\n",
              "    </tr>\n",
              "    <tr>\n",
              "      <th>5</th>\n",
              "      <td>Frank</td>\n",
              "      <td>Economics</td>\n",
              "      <td>45</td>\n",
              "      <td>25</td>\n",
              "    </tr>\n",
              "  </tbody>\n",
              "</table>\n",
              "</div>"
            ],
            "text/plain": [
              "  students   subjects  score1  score2\n",
              "0    Alice        Bio      55      45\n",
              "1      Bob    Physics      40      55\n",
              "2  Charlie       Math      63      40\n",
              "3     Dave       Arts      30      90\n",
              "4      Eva  Chemistry      45      20\n",
              "5    Frank  Economics      45      25"
            ]
          },
          "metadata": {
            "tags": []
          },
          "execution_count": 179
        }
      ]
    },
    {
      "cell_type": "markdown",
      "metadata": {
        "id": "a6Dl7gVcm_Gt"
      },
      "source": [
        "## Inplace modification of DataFrames\n",
        "\n",
        "Notice that most of the modification operations we have seen so far create a new copy Series or a DataFrame object with the modification.  We have two options when we want to modify the original dataset.\n",
        "\n",
        "The first is the following idiom\n",
        "```\n",
        "df = df.replace(...)\n",
        "```\n",
        "\n",
        "The second option is to use `inplace=True` as an additional parameter in the function.\n",
        "```\n",
        "df.replace(\"old value\", \"new value\", inplace=True)\n",
        "```\n",
        "This will modify the df object with new values in place of the old values.\n"
      ]
    },
    {
      "cell_type": "code",
      "metadata": {
        "colab": {
          "base_uri": "https://localhost:8080/",
          "height": 225
        },
        "id": "RgwbFktZopi7",
        "outputId": "5b81544f-6cca-4007-d697-6bf140843863"
      },
      "source": [
        "# this works for one column or the whole dataset.\n",
        "df.score1.replace(90, 30, inplace = True)\n",
        "df"
      ],
      "execution_count": null,
      "outputs": [
        {
          "output_type": "execute_result",
          "data": {
            "text/html": [
              "<div>\n",
              "<style scoped>\n",
              "    .dataframe tbody tr th:only-of-type {\n",
              "        vertical-align: middle;\n",
              "    }\n",
              "\n",
              "    .dataframe tbody tr th {\n",
              "        vertical-align: top;\n",
              "    }\n",
              "\n",
              "    .dataframe thead th {\n",
              "        text-align: right;\n",
              "    }\n",
              "</style>\n",
              "<table border=\"1\" class=\"dataframe\">\n",
              "  <thead>\n",
              "    <tr style=\"text-align: right;\">\n",
              "      <th></th>\n",
              "      <th>students</th>\n",
              "      <th>subjects</th>\n",
              "      <th>score1</th>\n",
              "      <th>score2</th>\n",
              "    </tr>\n",
              "  </thead>\n",
              "  <tbody>\n",
              "    <tr>\n",
              "      <th>0</th>\n",
              "      <td>Alice</td>\n",
              "      <td>Bio</td>\n",
              "      <td>55</td>\n",
              "      <td>45</td>\n",
              "    </tr>\n",
              "    <tr>\n",
              "      <th>1</th>\n",
              "      <td>Bob</td>\n",
              "      <td>Physics</td>\n",
              "      <td>40</td>\n",
              "      <td>55</td>\n",
              "    </tr>\n",
              "    <tr>\n",
              "      <th>2</th>\n",
              "      <td>Charlie</td>\n",
              "      <td>Math</td>\n",
              "      <td>63</td>\n",
              "      <td>40</td>\n",
              "    </tr>\n",
              "    <tr>\n",
              "      <th>3</th>\n",
              "      <td>Dave</td>\n",
              "      <td>Arts</td>\n",
              "      <td>30</td>\n",
              "      <td>90</td>\n",
              "    </tr>\n",
              "    <tr>\n",
              "      <th>4</th>\n",
              "      <td>Eva</td>\n",
              "      <td>Chemistry</td>\n",
              "      <td>45</td>\n",
              "      <td>20</td>\n",
              "    </tr>\n",
              "    <tr>\n",
              "      <th>5</th>\n",
              "      <td>Frank</td>\n",
              "      <td>Economics</td>\n",
              "      <td>45</td>\n",
              "      <td>25</td>\n",
              "    </tr>\n",
              "  </tbody>\n",
              "</table>\n",
              "</div>"
            ],
            "text/plain": [
              "  students   subjects  score1  score2\n",
              "0    Alice        Bio      55      45\n",
              "1      Bob    Physics      40      55\n",
              "2  Charlie       Math      63      40\n",
              "3     Dave       Arts      30      90\n",
              "4      Eva  Chemistry      45      20\n",
              "5    Frank  Economics      45      25"
            ]
          },
          "metadata": {
            "tags": []
          },
          "execution_count": 155
        }
      ]
    },
    {
      "cell_type": "markdown",
      "metadata": {
        "id": "o6WhpVa_M2j6"
      },
      "source": [
        "## Missing values\n",
        "\n",
        "Missing values occur often in data. It is especially common in surveys. Missing value could mean one of many things:\n",
        "  - The question is not relevant,\n",
        "  - The question was asked but the respondent refused to answer,\n",
        "  - The respondent does not know the answer to the question,\n",
        "  - The respondent answered but the answer was not recorded (for privacy reasons, or an error in entry.)\n",
        "\n",
        "For example, when the survey question is 'What is the age of your first child?' or 'What is the weight of your second child?',  the question might not be relevant for people without kids.  Others might refuse to answer. If there is only person with a child of a particular age (say, a newborn), that might reveal the person's identity if there is one person or there are very few people with such a child.  So that data might be removed for privacy reasons.\n",
        "\n",
        "In many cases, special codes, called *sentinels*, might be entered for each of these categories. In BRFSS dataset, `9999` is used for `Refused`, `7777` for `Don't know`. `BLANK` for `Not asked or missing`."
      ]
    },
    {
      "cell_type": "markdown",
      "metadata": {
        "id": "AEH_VSduQCRh"
      },
      "source": [
        "How do we handle missing data?\n",
        "\n",
        "Since there are many reasons for data being missing, we will need different strategies for dealing with missing data.\n",
        "1. We can ignore the missing data\n",
        "2. Drop the rows/columns that contain the dataset\n",
        "3. We can infer the value based on other columns of the same row\n",
        "4. Estimate the values based on nearby rows of the same column\n",
        "\n",
        "The last two options are called *imputing* values for missing data."
      ]
    },
    {
      "cell_type": "code",
      "metadata": {
        "colab": {
          "base_uri": "https://localhost:8080/",
          "height": 195
        },
        "id": "j0psPkdTPAQJ",
        "outputId": "2136d9c8-9c59-4bbc-adf6-9760aa15c664"
      },
      "source": [
        "scores = pd.DataFrame({\"Alice\": [10000, 20000, 30000, np.nan],\n",
        "                       \"Bob\": [15000, None, 25000, 30000],\n",
        "                       \"Charlie\": [5000, 6000, None, 8200],\n",
        "                       \"Dave\": [-1, 2000, None, None],\n",
        "                       \"Eva\": [1, 4, None, 16]}\n",
        "                      )\n",
        "scores['rounds'] = pd.Series([2010, 2011, 2012, 2013])\n",
        "scores.set_index('rounds', inplace=True)\n",
        "scores"
      ],
      "execution_count": null,
      "outputs": [
        {
          "output_type": "execute_result",
          "data": {
            "text/html": [
              "<div>\n",
              "<style scoped>\n",
              "    .dataframe tbody tr th:only-of-type {\n",
              "        vertical-align: middle;\n",
              "    }\n",
              "\n",
              "    .dataframe tbody tr th {\n",
              "        vertical-align: top;\n",
              "    }\n",
              "\n",
              "    .dataframe thead th {\n",
              "        text-align: right;\n",
              "    }\n",
              "</style>\n",
              "<table border=\"1\" class=\"dataframe\">\n",
              "  <thead>\n",
              "    <tr style=\"text-align: right;\">\n",
              "      <th></th>\n",
              "      <th>Alice</th>\n",
              "      <th>Bob</th>\n",
              "      <th>Charlie</th>\n",
              "      <th>Dave</th>\n",
              "      <th>Eva</th>\n",
              "    </tr>\n",
              "    <tr>\n",
              "      <th>rounds</th>\n",
              "      <th></th>\n",
              "      <th></th>\n",
              "      <th></th>\n",
              "      <th></th>\n",
              "      <th></th>\n",
              "    </tr>\n",
              "  </thead>\n",
              "  <tbody>\n",
              "    <tr>\n",
              "      <th>2010</th>\n",
              "      <td>10000.0</td>\n",
              "      <td>15000.0</td>\n",
              "      <td>5000.0</td>\n",
              "      <td>-1.0</td>\n",
              "      <td>1.0</td>\n",
              "    </tr>\n",
              "    <tr>\n",
              "      <th>2011</th>\n",
              "      <td>20000.0</td>\n",
              "      <td>NaN</td>\n",
              "      <td>6000.0</td>\n",
              "      <td>2000.0</td>\n",
              "      <td>4.0</td>\n",
              "    </tr>\n",
              "    <tr>\n",
              "      <th>2012</th>\n",
              "      <td>30000.0</td>\n",
              "      <td>25000.0</td>\n",
              "      <td>NaN</td>\n",
              "      <td>NaN</td>\n",
              "      <td>NaN</td>\n",
              "    </tr>\n",
              "    <tr>\n",
              "      <th>2013</th>\n",
              "      <td>NaN</td>\n",
              "      <td>30000.0</td>\n",
              "      <td>8200.0</td>\n",
              "      <td>NaN</td>\n",
              "      <td>16.0</td>\n",
              "    </tr>\n",
              "  </tbody>\n",
              "</table>\n",
              "</div>"
            ],
            "text/plain": [
              "          Alice      Bob  Charlie    Dave   Eva\n",
              "rounds                                         \n",
              "2010    10000.0  15000.0   5000.0    -1.0   1.0\n",
              "2011    20000.0      NaN   6000.0  2000.0   4.0\n",
              "2012    30000.0  25000.0      NaN     NaN   NaN\n",
              "2013        NaN  30000.0   8200.0     NaN  16.0"
            ]
          },
          "metadata": {
            "tags": []
          },
          "execution_count": 4
        }
      ]
    },
    {
      "cell_type": "markdown",
      "metadata": {
        "id": "RgOjD3qdpCL7"
      },
      "source": [
        "### Drop missing values.\n",
        "\n",
        "Use `axis=` 0 or 1 to \n",
        "- drop a column with missing entries\n",
        "- drop a row with missing entries"
      ]
    },
    {
      "cell_type": "code",
      "metadata": {
        "colab": {
          "base_uri": "https://localhost:8080/",
          "height": 106
        },
        "id": "rLFx-FFFI-yV",
        "outputId": "764d8f60-7d9d-4249-8df7-169396db9450"
      },
      "source": [
        "# drop any row that has missing entries\n",
        "scores.dropna()"
      ],
      "execution_count": null,
      "outputs": [
        {
          "output_type": "execute_result",
          "data": {
            "text/html": [
              "<div>\n",
              "<style scoped>\n",
              "    .dataframe tbody tr th:only-of-type {\n",
              "        vertical-align: middle;\n",
              "    }\n",
              "\n",
              "    .dataframe tbody tr th {\n",
              "        vertical-align: top;\n",
              "    }\n",
              "\n",
              "    .dataframe thead th {\n",
              "        text-align: right;\n",
              "    }\n",
              "</style>\n",
              "<table border=\"1\" class=\"dataframe\">\n",
              "  <thead>\n",
              "    <tr style=\"text-align: right;\">\n",
              "      <th></th>\n",
              "      <th>Alice</th>\n",
              "      <th>Bob</th>\n",
              "      <th>Charlie</th>\n",
              "      <th>Dave</th>\n",
              "      <th>Eva</th>\n",
              "    </tr>\n",
              "    <tr>\n",
              "      <th>rounds</th>\n",
              "      <th></th>\n",
              "      <th></th>\n",
              "      <th></th>\n",
              "      <th></th>\n",
              "      <th></th>\n",
              "    </tr>\n",
              "  </thead>\n",
              "  <tbody>\n",
              "    <tr>\n",
              "      <th>2010</th>\n",
              "      <td>10000.0</td>\n",
              "      <td>15000.0</td>\n",
              "      <td>5000.0</td>\n",
              "      <td>-1.0</td>\n",
              "      <td>1.0</td>\n",
              "    </tr>\n",
              "  </tbody>\n",
              "</table>\n",
              "</div>"
            ],
            "text/plain": [
              "          Alice      Bob  Charlie  Dave  Eva\n",
              "rounds                                      \n",
              "2010    10000.0  15000.0   5000.0  -1.0  1.0"
            ]
          },
          "metadata": {
            "tags": []
          },
          "execution_count": 157
        }
      ]
    },
    {
      "cell_type": "code",
      "metadata": {
        "colab": {
          "base_uri": "https://localhost:8080/"
        },
        "id": "leOud7QjJFnt",
        "outputId": "41d5c1ae-d726-41cb-d3d0-9c43c799cbe5"
      },
      "source": [
        "# drop a column with missing data\n",
        "scores.Dave.dropna()"
      ],
      "execution_count": null,
      "outputs": [
        {
          "output_type": "execute_result",
          "data": {
            "text/plain": [
              "rounds\n",
              "2010      -1.0\n",
              "2011    2000.0\n",
              "Name: Dave, dtype: float64"
            ]
          },
          "metadata": {
            "tags": []
          },
          "execution_count": 26
        }
      ]
    },
    {
      "cell_type": "markdown",
      "metadata": {
        "id": "mx4vAhQJpm9B"
      },
      "source": [
        "### Changing sentinel values with some default value.\n",
        "\n",
        "Examples: \n",
        "- replace -1 with a 0.\n",
        "- replace `NaN` with 100."
      ]
    },
    {
      "cell_type": "code",
      "metadata": {
        "id": "dAKbwx6tJ0Jv"
      },
      "source": [
        "scores.replace(-1, 0, inplace=True)"
      ],
      "execution_count": null,
      "outputs": []
    },
    {
      "cell_type": "code",
      "metadata": {
        "colab": {
          "base_uri": "https://localhost:8080/",
          "height": 195
        },
        "id": "mzxiWEp3sv1y",
        "outputId": "8c2c01bb-5736-41e1-f870-df4cc5517912"
      },
      "source": [
        "scores.fillna(100) # inplace = False"
      ],
      "execution_count": null,
      "outputs": [
        {
          "output_type": "execute_result",
          "data": {
            "text/html": [
              "<div>\n",
              "<style scoped>\n",
              "    .dataframe tbody tr th:only-of-type {\n",
              "        vertical-align: middle;\n",
              "    }\n",
              "\n",
              "    .dataframe tbody tr th {\n",
              "        vertical-align: top;\n",
              "    }\n",
              "\n",
              "    .dataframe thead th {\n",
              "        text-align: right;\n",
              "    }\n",
              "</style>\n",
              "<table border=\"1\" class=\"dataframe\">\n",
              "  <thead>\n",
              "    <tr style=\"text-align: right;\">\n",
              "      <th></th>\n",
              "      <th>Alice</th>\n",
              "      <th>Bob</th>\n",
              "      <th>Charlie</th>\n",
              "      <th>Dave</th>\n",
              "      <th>Eva</th>\n",
              "    </tr>\n",
              "    <tr>\n",
              "      <th>rounds</th>\n",
              "      <th></th>\n",
              "      <th></th>\n",
              "      <th></th>\n",
              "      <th></th>\n",
              "      <th></th>\n",
              "    </tr>\n",
              "  </thead>\n",
              "  <tbody>\n",
              "    <tr>\n",
              "      <th>2010</th>\n",
              "      <td>10000</td>\n",
              "      <td>15000</td>\n",
              "      <td>5000</td>\n",
              "      <td>-1</td>\n",
              "      <td>1</td>\n",
              "    </tr>\n",
              "    <tr>\n",
              "      <th>2011</th>\n",
              "      <td>20000</td>\n",
              "      <td>score</td>\n",
              "      <td>6000</td>\n",
              "      <td>2000</td>\n",
              "      <td>4</td>\n",
              "    </tr>\n",
              "    <tr>\n",
              "      <th>2012</th>\n",
              "      <td>30000</td>\n",
              "      <td>25000</td>\n",
              "      <td>score</td>\n",
              "      <td>score</td>\n",
              "      <td>score</td>\n",
              "    </tr>\n",
              "    <tr>\n",
              "      <th>2013</th>\n",
              "      <td>score</td>\n",
              "      <td>30000</td>\n",
              "      <td>8200</td>\n",
              "      <td>score</td>\n",
              "      <td>16</td>\n",
              "    </tr>\n",
              "  </tbody>\n",
              "</table>\n",
              "</div>"
            ],
            "text/plain": [
              "        Alice    Bob Charlie   Dave    Eva\n",
              "rounds                                    \n",
              "2010    10000  15000    5000     -1      1\n",
              "2011    20000  score    6000   2000      4\n",
              "2012    30000  25000   score  score  score\n",
              "2013    score  30000    8200  score     16"
            ]
          },
          "metadata": {
            "tags": []
          },
          "execution_count": 27
        }
      ]
    },
    {
      "cell_type": "markdown",
      "metadata": {
        "id": "N-E5F_S1qKIe"
      },
      "source": [
        "### Fill values based on nearby entries.\n",
        "\n",
        "- backfill\n",
        "- forward fill"
      ]
    },
    {
      "cell_type": "code",
      "metadata": {
        "colab": {
          "base_uri": "https://localhost:8080/",
          "height": 195
        },
        "id": "cuRrYBoNCPGw",
        "outputId": "f5f15a23-87f5-4f50-dc3c-a2a1b558fca8"
      },
      "source": [
        "scores"
      ],
      "execution_count": null,
      "outputs": [
        {
          "output_type": "execute_result",
          "data": {
            "text/html": [
              "<div>\n",
              "<style scoped>\n",
              "    .dataframe tbody tr th:only-of-type {\n",
              "        vertical-align: middle;\n",
              "    }\n",
              "\n",
              "    .dataframe tbody tr th {\n",
              "        vertical-align: top;\n",
              "    }\n",
              "\n",
              "    .dataframe thead th {\n",
              "        text-align: right;\n",
              "    }\n",
              "</style>\n",
              "<table border=\"1\" class=\"dataframe\">\n",
              "  <thead>\n",
              "    <tr style=\"text-align: right;\">\n",
              "      <th></th>\n",
              "      <th>Alice</th>\n",
              "      <th>Bob</th>\n",
              "      <th>Charlie</th>\n",
              "      <th>Dave</th>\n",
              "      <th>Eva</th>\n",
              "    </tr>\n",
              "    <tr>\n",
              "      <th>rounds</th>\n",
              "      <th></th>\n",
              "      <th></th>\n",
              "      <th></th>\n",
              "      <th></th>\n",
              "      <th></th>\n",
              "    </tr>\n",
              "  </thead>\n",
              "  <tbody>\n",
              "    <tr>\n",
              "      <th>2010</th>\n",
              "      <td>10000.0</td>\n",
              "      <td>15000.0</td>\n",
              "      <td>5000.0</td>\n",
              "      <td>0.0</td>\n",
              "      <td>1.0</td>\n",
              "    </tr>\n",
              "    <tr>\n",
              "      <th>2011</th>\n",
              "      <td>20000.0</td>\n",
              "      <td>NaN</td>\n",
              "      <td>6000.0</td>\n",
              "      <td>2000.0</td>\n",
              "      <td>4.0</td>\n",
              "    </tr>\n",
              "    <tr>\n",
              "      <th>2012</th>\n",
              "      <td>30000.0</td>\n",
              "      <td>25000.0</td>\n",
              "      <td>NaN</td>\n",
              "      <td>NaN</td>\n",
              "      <td>NaN</td>\n",
              "    </tr>\n",
              "    <tr>\n",
              "      <th>2013</th>\n",
              "      <td>NaN</td>\n",
              "      <td>30000.0</td>\n",
              "      <td>8200.0</td>\n",
              "      <td>NaN</td>\n",
              "      <td>16.0</td>\n",
              "    </tr>\n",
              "  </tbody>\n",
              "</table>\n",
              "</div>"
            ],
            "text/plain": [
              "          Alice      Bob  Charlie    Dave   Eva\n",
              "rounds                                         \n",
              "2010    10000.0  15000.0   5000.0     0.0   1.0\n",
              "2011    20000.0      NaN   6000.0  2000.0   4.0\n",
              "2012    30000.0  25000.0      NaN     NaN   NaN\n",
              "2013        NaN  30000.0   8200.0     NaN  16.0"
            ]
          },
          "metadata": {
            "tags": []
          },
          "execution_count": 161
        }
      ]
    },
    {
      "cell_type": "code",
      "metadata": {
        "colab": {
          "base_uri": "https://localhost:8080/",
          "height": 195
        },
        "id": "JrLEq9u2thFZ",
        "outputId": "3691cc44-46eb-4c62-f433-b25909939713"
      },
      "source": [
        "scores.fillna(method=\"bfill\")"
      ],
      "execution_count": null,
      "outputs": [
        {
          "output_type": "execute_result",
          "data": {
            "text/html": [
              "<div>\n",
              "<style scoped>\n",
              "    .dataframe tbody tr th:only-of-type {\n",
              "        vertical-align: middle;\n",
              "    }\n",
              "\n",
              "    .dataframe tbody tr th {\n",
              "        vertical-align: top;\n",
              "    }\n",
              "\n",
              "    .dataframe thead th {\n",
              "        text-align: right;\n",
              "    }\n",
              "</style>\n",
              "<table border=\"1\" class=\"dataframe\">\n",
              "  <thead>\n",
              "    <tr style=\"text-align: right;\">\n",
              "      <th></th>\n",
              "      <th>Alice</th>\n",
              "      <th>Bob</th>\n",
              "      <th>Charlie</th>\n",
              "      <th>Dave</th>\n",
              "      <th>Eva</th>\n",
              "    </tr>\n",
              "    <tr>\n",
              "      <th>rounds</th>\n",
              "      <th></th>\n",
              "      <th></th>\n",
              "      <th></th>\n",
              "      <th></th>\n",
              "      <th></th>\n",
              "    </tr>\n",
              "  </thead>\n",
              "  <tbody>\n",
              "    <tr>\n",
              "      <th>2010</th>\n",
              "      <td>10000.0</td>\n",
              "      <td>15000.0</td>\n",
              "      <td>5000.0</td>\n",
              "      <td>0.0</td>\n",
              "      <td>1.0</td>\n",
              "    </tr>\n",
              "    <tr>\n",
              "      <th>2011</th>\n",
              "      <td>20000.0</td>\n",
              "      <td>25000.0</td>\n",
              "      <td>6000.0</td>\n",
              "      <td>2000.0</td>\n",
              "      <td>4.0</td>\n",
              "    </tr>\n",
              "    <tr>\n",
              "      <th>2012</th>\n",
              "      <td>30000.0</td>\n",
              "      <td>25000.0</td>\n",
              "      <td>8200.0</td>\n",
              "      <td>NaN</td>\n",
              "      <td>16.0</td>\n",
              "    </tr>\n",
              "    <tr>\n",
              "      <th>2013</th>\n",
              "      <td>NaN</td>\n",
              "      <td>30000.0</td>\n",
              "      <td>8200.0</td>\n",
              "      <td>NaN</td>\n",
              "      <td>16.0</td>\n",
              "    </tr>\n",
              "  </tbody>\n",
              "</table>\n",
              "</div>"
            ],
            "text/plain": [
              "          Alice      Bob  Charlie    Dave   Eva\n",
              "rounds                                         \n",
              "2010    10000.0  15000.0   5000.0     0.0   1.0\n",
              "2011    20000.0  25000.0   6000.0  2000.0   4.0\n",
              "2012    30000.0  25000.0   8200.0     NaN  16.0\n",
              "2013        NaN  30000.0   8200.0     NaN  16.0"
            ]
          },
          "metadata": {
            "tags": []
          },
          "execution_count": 162
        }
      ]
    },
    {
      "cell_type": "code",
      "metadata": {
        "colab": {
          "base_uri": "https://localhost:8080/",
          "height": 195
        },
        "id": "CtgJM53qtkfY",
        "outputId": "163f6516-0c40-428b-86c9-6ed218ac74c3"
      },
      "source": [
        "scores.fillna(method=\"pad\")"
      ],
      "execution_count": null,
      "outputs": [
        {
          "output_type": "execute_result",
          "data": {
            "text/html": [
              "<div>\n",
              "<style scoped>\n",
              "    .dataframe tbody tr th:only-of-type {\n",
              "        vertical-align: middle;\n",
              "    }\n",
              "\n",
              "    .dataframe tbody tr th {\n",
              "        vertical-align: top;\n",
              "    }\n",
              "\n",
              "    .dataframe thead th {\n",
              "        text-align: right;\n",
              "    }\n",
              "</style>\n",
              "<table border=\"1\" class=\"dataframe\">\n",
              "  <thead>\n",
              "    <tr style=\"text-align: right;\">\n",
              "      <th></th>\n",
              "      <th>Alice</th>\n",
              "      <th>Bob</th>\n",
              "      <th>Charlie</th>\n",
              "      <th>Dave</th>\n",
              "      <th>Eva</th>\n",
              "    </tr>\n",
              "    <tr>\n",
              "      <th>rounds</th>\n",
              "      <th></th>\n",
              "      <th></th>\n",
              "      <th></th>\n",
              "      <th></th>\n",
              "      <th></th>\n",
              "    </tr>\n",
              "  </thead>\n",
              "  <tbody>\n",
              "    <tr>\n",
              "      <th>2010</th>\n",
              "      <td>10000.0</td>\n",
              "      <td>15000.0</td>\n",
              "      <td>5000.0</td>\n",
              "      <td>0.0</td>\n",
              "      <td>1.0</td>\n",
              "    </tr>\n",
              "    <tr>\n",
              "      <th>2011</th>\n",
              "      <td>20000.0</td>\n",
              "      <td>15000.0</td>\n",
              "      <td>6000.0</td>\n",
              "      <td>2000.0</td>\n",
              "      <td>4.0</td>\n",
              "    </tr>\n",
              "    <tr>\n",
              "      <th>2012</th>\n",
              "      <td>30000.0</td>\n",
              "      <td>25000.0</td>\n",
              "      <td>6000.0</td>\n",
              "      <td>2000.0</td>\n",
              "      <td>4.0</td>\n",
              "    </tr>\n",
              "    <tr>\n",
              "      <th>2013</th>\n",
              "      <td>30000.0</td>\n",
              "      <td>30000.0</td>\n",
              "      <td>8200.0</td>\n",
              "      <td>2000.0</td>\n",
              "      <td>16.0</td>\n",
              "    </tr>\n",
              "  </tbody>\n",
              "</table>\n",
              "</div>"
            ],
            "text/plain": [
              "          Alice      Bob  Charlie    Dave   Eva\n",
              "rounds                                         \n",
              "2010    10000.0  15000.0   5000.0     0.0   1.0\n",
              "2011    20000.0  15000.0   6000.0  2000.0   4.0\n",
              "2012    30000.0  25000.0   6000.0  2000.0   4.0\n",
              "2013    30000.0  30000.0   8200.0  2000.0  16.0"
            ]
          },
          "metadata": {
            "tags": []
          },
          "execution_count": 163
        }
      ]
    },
    {
      "cell_type": "code",
      "metadata": {
        "colab": {
          "base_uri": "https://localhost:8080/",
          "height": 166
        },
        "id": "mvgGfos1tvQL",
        "outputId": "29fe95c5-e6b2-41ba-887c-008f223f7931"
      },
      "source": [
        "pop_df.fillna(method=\"backfill\")"
      ],
      "execution_count": null,
      "outputs": [
        {
          "output_type": "execute_result",
          "data": {
            "text/html": [
              "<div>\n",
              "<style scoped>\n",
              "    .dataframe tbody tr th:only-of-type {\n",
              "        vertical-align: middle;\n",
              "    }\n",
              "\n",
              "    .dataframe tbody tr th {\n",
              "        vertical-align: top;\n",
              "    }\n",
              "\n",
              "    .dataframe thead th {\n",
              "        text-align: right;\n",
              "    }\n",
              "</style>\n",
              "<table border=\"1\" class=\"dataframe\">\n",
              "  <thead>\n",
              "    <tr style=\"text-align: right;\">\n",
              "      <th></th>\n",
              "      <th>Ohio</th>\n",
              "      <th>Iowa</th>\n",
              "      <th>Illinois</th>\n",
              "      <th>Wisconsin</th>\n",
              "      <th>index</th>\n",
              "      <th>rounds</th>\n",
              "    </tr>\n",
              "  </thead>\n",
              "  <tbody>\n",
              "    <tr>\n",
              "      <th>0</th>\n",
              "      <td>10000.0</td>\n",
              "      <td>15000.0</td>\n",
              "      <td>5000.0</td>\n",
              "      <td>1000.0</td>\n",
              "      <td>round1</td>\n",
              "      <td>round1</td>\n",
              "    </tr>\n",
              "    <tr>\n",
              "      <th>1</th>\n",
              "      <td>20000.0</td>\n",
              "      <td>25000.0</td>\n",
              "      <td>6000.0</td>\n",
              "      <td>2000.0</td>\n",
              "      <td>round2</td>\n",
              "      <td>round2</td>\n",
              "    </tr>\n",
              "    <tr>\n",
              "      <th>2</th>\n",
              "      <td>30000.0</td>\n",
              "      <td>25000.0</td>\n",
              "      <td>8200.0</td>\n",
              "      <td>NaN</td>\n",
              "      <td>round3</td>\n",
              "      <td>round3</td>\n",
              "    </tr>\n",
              "    <tr>\n",
              "      <th>3</th>\n",
              "      <td>NaN</td>\n",
              "      <td>30000.0</td>\n",
              "      <td>8200.0</td>\n",
              "      <td>NaN</td>\n",
              "      <td>round4</td>\n",
              "      <td>round4</td>\n",
              "    </tr>\n",
              "  </tbody>\n",
              "</table>\n",
              "</div>"
            ],
            "text/plain": [
              "      Ohio     Iowa  Illinois  Wisconsin   index  rounds\n",
              "0  10000.0  15000.0    5000.0     1000.0  round1  round1\n",
              "1  20000.0  25000.0    6000.0     2000.0  round2  round2\n",
              "2  30000.0  25000.0    8200.0        NaN  round3  round3\n",
              "3      NaN  30000.0    8200.0        NaN  round4  round4"
            ]
          },
          "metadata": {
            "tags": []
          },
          "execution_count": 164
        }
      ]
    },
    {
      "cell_type": "code",
      "metadata": {
        "colab": {
          "base_uri": "https://localhost:8080/",
          "height": 195
        },
        "id": "08m0AIjSDCBs",
        "outputId": "58bb2008-4c8a-47c1-eb48-3ab452562e64"
      },
      "source": [
        "scores"
      ],
      "execution_count": null,
      "outputs": [
        {
          "output_type": "execute_result",
          "data": {
            "text/html": [
              "<div>\n",
              "<style scoped>\n",
              "    .dataframe tbody tr th:only-of-type {\n",
              "        vertical-align: middle;\n",
              "    }\n",
              "\n",
              "    .dataframe tbody tr th {\n",
              "        vertical-align: top;\n",
              "    }\n",
              "\n",
              "    .dataframe thead th {\n",
              "        text-align: right;\n",
              "    }\n",
              "</style>\n",
              "<table border=\"1\" class=\"dataframe\">\n",
              "  <thead>\n",
              "    <tr style=\"text-align: right;\">\n",
              "      <th></th>\n",
              "      <th>Alice</th>\n",
              "      <th>Bob</th>\n",
              "      <th>Charlie</th>\n",
              "      <th>Dave</th>\n",
              "      <th>Eva</th>\n",
              "    </tr>\n",
              "    <tr>\n",
              "      <th>rounds</th>\n",
              "      <th></th>\n",
              "      <th></th>\n",
              "      <th></th>\n",
              "      <th></th>\n",
              "      <th></th>\n",
              "    </tr>\n",
              "  </thead>\n",
              "  <tbody>\n",
              "    <tr>\n",
              "      <th>2010</th>\n",
              "      <td>10000.0</td>\n",
              "      <td>15000.0</td>\n",
              "      <td>5000.0</td>\n",
              "      <td>-1.0</td>\n",
              "      <td>1.0</td>\n",
              "    </tr>\n",
              "    <tr>\n",
              "      <th>2011</th>\n",
              "      <td>20000.0</td>\n",
              "      <td>NaN</td>\n",
              "      <td>6000.0</td>\n",
              "      <td>2000.0</td>\n",
              "      <td>4.0</td>\n",
              "    </tr>\n",
              "    <tr>\n",
              "      <th>2012</th>\n",
              "      <td>30000.0</td>\n",
              "      <td>25000.0</td>\n",
              "      <td>NaN</td>\n",
              "      <td>NaN</td>\n",
              "      <td>NaN</td>\n",
              "    </tr>\n",
              "    <tr>\n",
              "      <th>2013</th>\n",
              "      <td>NaN</td>\n",
              "      <td>30000.0</td>\n",
              "      <td>8200.0</td>\n",
              "      <td>NaN</td>\n",
              "      <td>16.0</td>\n",
              "    </tr>\n",
              "  </tbody>\n",
              "</table>\n",
              "</div>"
            ],
            "text/plain": [
              "          Alice      Bob  Charlie    Dave   Eva\n",
              "rounds                                         \n",
              "2010    10000.0  15000.0   5000.0    -1.0   1.0\n",
              "2011    20000.0      NaN   6000.0  2000.0   4.0\n",
              "2012    30000.0  25000.0      NaN     NaN   NaN\n",
              "2013        NaN  30000.0   8200.0     NaN  16.0"
            ]
          },
          "metadata": {
            "tags": []
          },
          "execution_count": 31
        }
      ]
    },
    {
      "cell_type": "markdown",
      "metadata": {
        "id": "kte0e4-ImFpT"
      },
      "source": [
        "https://pandas.pydata.org/pandas-docs/stable/reference/api/pandas.DataFrame.interpolate.html#pandas.DataFrame.interpolate"
      ]
    },
    {
      "cell_type": "markdown",
      "metadata": {
        "id": "Mk2VwRNvqVKC"
      },
      "source": [
        "### Interpolate the values\n",
        "\n",
        "If values are either increasing or decreasing in a pattern, we can *interpolate* the values for the missing entries, say as an average of the nearby values."
      ]
    },
    {
      "cell_type": "code",
      "metadata": {
        "id": "kncGhSayuBgQ",
        "colab": {
          "base_uri": "https://localhost:8080/",
          "height": 195
        },
        "outputId": "d939593d-c874-43bc-dbff-3c6b09ce8f82"
      },
      "source": [
        "scores.interpolate(method=\"linear\") # inplace=False"
      ],
      "execution_count": null,
      "outputs": [
        {
          "output_type": "execute_result",
          "data": {
            "text/html": [
              "<div>\n",
              "<style scoped>\n",
              "    .dataframe tbody tr th:only-of-type {\n",
              "        vertical-align: middle;\n",
              "    }\n",
              "\n",
              "    .dataframe tbody tr th {\n",
              "        vertical-align: top;\n",
              "    }\n",
              "\n",
              "    .dataframe thead th {\n",
              "        text-align: right;\n",
              "    }\n",
              "</style>\n",
              "<table border=\"1\" class=\"dataframe\">\n",
              "  <thead>\n",
              "    <tr style=\"text-align: right;\">\n",
              "      <th></th>\n",
              "      <th>Alice</th>\n",
              "      <th>Bob</th>\n",
              "      <th>Charlie</th>\n",
              "      <th>Dave</th>\n",
              "      <th>Eva</th>\n",
              "    </tr>\n",
              "    <tr>\n",
              "      <th>rounds</th>\n",
              "      <th></th>\n",
              "      <th></th>\n",
              "      <th></th>\n",
              "      <th></th>\n",
              "      <th></th>\n",
              "    </tr>\n",
              "  </thead>\n",
              "  <tbody>\n",
              "    <tr>\n",
              "      <th>2010</th>\n",
              "      <td>10000.0</td>\n",
              "      <td>15000.0</td>\n",
              "      <td>5000.0</td>\n",
              "      <td>-1.0</td>\n",
              "      <td>1.0</td>\n",
              "    </tr>\n",
              "    <tr>\n",
              "      <th>2011</th>\n",
              "      <td>20000.0</td>\n",
              "      <td>20000.0</td>\n",
              "      <td>6000.0</td>\n",
              "      <td>2000.0</td>\n",
              "      <td>4.0</td>\n",
              "    </tr>\n",
              "    <tr>\n",
              "      <th>2012</th>\n",
              "      <td>30000.0</td>\n",
              "      <td>25000.0</td>\n",
              "      <td>7100.0</td>\n",
              "      <td>2000.0</td>\n",
              "      <td>10.0</td>\n",
              "    </tr>\n",
              "    <tr>\n",
              "      <th>2013</th>\n",
              "      <td>30000.0</td>\n",
              "      <td>30000.0</td>\n",
              "      <td>8200.0</td>\n",
              "      <td>2000.0</td>\n",
              "      <td>16.0</td>\n",
              "    </tr>\n",
              "  </tbody>\n",
              "</table>\n",
              "</div>"
            ],
            "text/plain": [
              "          Alice      Bob  Charlie    Dave   Eva\n",
              "rounds                                         \n",
              "2010    10000.0  15000.0   5000.0    -1.0   1.0\n",
              "2011    20000.0  20000.0   6000.0  2000.0   4.0\n",
              "2012    30000.0  25000.0   7100.0  2000.0  10.0\n",
              "2013    30000.0  30000.0   8200.0  2000.0  16.0"
            ]
          },
          "metadata": {
            "tags": []
          },
          "execution_count": 37
        }
      ]
    },
    {
      "cell_type": "code",
      "metadata": {
        "colab": {
          "base_uri": "https://localhost:8080/",
          "height": 195
        },
        "id": "00P0JLhPKBH5",
        "outputId": "a42d45e1-2266-4825-e073-c0b62eed1527"
      },
      "source": [
        "scores"
      ],
      "execution_count": null,
      "outputs": [
        {
          "output_type": "execute_result",
          "data": {
            "text/html": [
              "<div>\n",
              "<style scoped>\n",
              "    .dataframe tbody tr th:only-of-type {\n",
              "        vertical-align: middle;\n",
              "    }\n",
              "\n",
              "    .dataframe tbody tr th {\n",
              "        vertical-align: top;\n",
              "    }\n",
              "\n",
              "    .dataframe thead th {\n",
              "        text-align: right;\n",
              "    }\n",
              "</style>\n",
              "<table border=\"1\" class=\"dataframe\">\n",
              "  <thead>\n",
              "    <tr style=\"text-align: right;\">\n",
              "      <th></th>\n",
              "      <th>Alice</th>\n",
              "      <th>Bob</th>\n",
              "      <th>Charlie</th>\n",
              "      <th>Dave</th>\n",
              "      <th>Eva</th>\n",
              "    </tr>\n",
              "    <tr>\n",
              "      <th>rounds</th>\n",
              "      <th></th>\n",
              "      <th></th>\n",
              "      <th></th>\n",
              "      <th></th>\n",
              "      <th></th>\n",
              "    </tr>\n",
              "  </thead>\n",
              "  <tbody>\n",
              "    <tr>\n",
              "      <th>2010</th>\n",
              "      <td>10000.0</td>\n",
              "      <td>15000.0</td>\n",
              "      <td>5000.0</td>\n",
              "      <td>-1.0</td>\n",
              "      <td>1.0</td>\n",
              "    </tr>\n",
              "    <tr>\n",
              "      <th>2011</th>\n",
              "      <td>20000.0</td>\n",
              "      <td>NaN</td>\n",
              "      <td>6000.0</td>\n",
              "      <td>2000.0</td>\n",
              "      <td>4.0</td>\n",
              "    </tr>\n",
              "    <tr>\n",
              "      <th>2012</th>\n",
              "      <td>30000.0</td>\n",
              "      <td>25000.0</td>\n",
              "      <td>NaN</td>\n",
              "      <td>NaN</td>\n",
              "      <td>NaN</td>\n",
              "    </tr>\n",
              "    <tr>\n",
              "      <th>2013</th>\n",
              "      <td>NaN</td>\n",
              "      <td>30000.0</td>\n",
              "      <td>8200.0</td>\n",
              "      <td>NaN</td>\n",
              "      <td>16.0</td>\n",
              "    </tr>\n",
              "  </tbody>\n",
              "</table>\n",
              "</div>"
            ],
            "text/plain": [
              "          Alice      Bob  Charlie    Dave   Eva\n",
              "rounds                                         \n",
              "2010    10000.0  15000.0   5000.0    -1.0   1.0\n",
              "2011    20000.0      NaN   6000.0  2000.0   4.0\n",
              "2012    30000.0  25000.0      NaN     NaN   NaN\n",
              "2013        NaN  30000.0   8200.0     NaN  16.0"
            ]
          },
          "metadata": {
            "tags": []
          },
          "execution_count": 33
        }
      ]
    },
    {
      "cell_type": "code",
      "metadata": {
        "colab": {
          "base_uri": "https://localhost:8080/"
        },
        "id": "PVJDDgyMEJOa",
        "outputId": "a39a24cf-65da-48f0-fccb-0c3b5c4a2d9f"
      },
      "source": [
        "scores[\"Eva\"].interpolate(method=\"quadratic\")"
      ],
      "execution_count": null,
      "outputs": [
        {
          "output_type": "execute_result",
          "data": {
            "text/plain": [
              "rounds\n",
              "2010     1.0\n",
              "2011     4.0\n",
              "2012     9.0\n",
              "2013    16.0\n",
              "Name: Eva, dtype: float64"
            ]
          },
          "metadata": {
            "tags": []
          },
          "execution_count": 36
        }
      ]
    },
    {
      "cell_type": "code",
      "metadata": {
        "colab": {
          "base_uri": "https://localhost:8080/",
          "height": 195
        },
        "id": "YbX-OMC3GGZC",
        "outputId": "60ea30f4-7f47-492f-b1df-3d3ba44eee8f"
      },
      "source": [
        "scores"
      ],
      "execution_count": null,
      "outputs": [
        {
          "output_type": "execute_result",
          "data": {
            "text/html": [
              "<div>\n",
              "<style scoped>\n",
              "    .dataframe tbody tr th:only-of-type {\n",
              "        vertical-align: middle;\n",
              "    }\n",
              "\n",
              "    .dataframe tbody tr th {\n",
              "        vertical-align: top;\n",
              "    }\n",
              "\n",
              "    .dataframe thead th {\n",
              "        text-align: right;\n",
              "    }\n",
              "</style>\n",
              "<table border=\"1\" class=\"dataframe\">\n",
              "  <thead>\n",
              "    <tr style=\"text-align: right;\">\n",
              "      <th></th>\n",
              "      <th>Alice</th>\n",
              "      <th>Bob</th>\n",
              "      <th>Charlie</th>\n",
              "      <th>Dave</th>\n",
              "      <th>Eva</th>\n",
              "    </tr>\n",
              "    <tr>\n",
              "      <th>rounds</th>\n",
              "      <th></th>\n",
              "      <th></th>\n",
              "      <th></th>\n",
              "      <th></th>\n",
              "      <th></th>\n",
              "    </tr>\n",
              "  </thead>\n",
              "  <tbody>\n",
              "    <tr>\n",
              "      <th>2010</th>\n",
              "      <td>10000.0</td>\n",
              "      <td>15000.0</td>\n",
              "      <td>5000.0</td>\n",
              "      <td>0.0</td>\n",
              "      <td>1.0</td>\n",
              "    </tr>\n",
              "    <tr>\n",
              "      <th>2011</th>\n",
              "      <td>20000.0</td>\n",
              "      <td>20000.0</td>\n",
              "      <td>6000.0</td>\n",
              "      <td>2000.0</td>\n",
              "      <td>4.0</td>\n",
              "    </tr>\n",
              "    <tr>\n",
              "      <th>2012</th>\n",
              "      <td>30000.0</td>\n",
              "      <td>25000.0</td>\n",
              "      <td>7100.0</td>\n",
              "      <td>2000.0</td>\n",
              "      <td>10.0</td>\n",
              "    </tr>\n",
              "    <tr>\n",
              "      <th>2013</th>\n",
              "      <td>30000.0</td>\n",
              "      <td>30000.0</td>\n",
              "      <td>8200.0</td>\n",
              "      <td>2000.0</td>\n",
              "      <td>16.0</td>\n",
              "    </tr>\n",
              "  </tbody>\n",
              "</table>\n",
              "</div>"
            ],
            "text/plain": [
              "          Alice      Bob  Charlie    Dave   Eva\n",
              "rounds                                         \n",
              "2010    10000.0  15000.0   5000.0     0.0   1.0\n",
              "2011    20000.0  20000.0   6000.0  2000.0   4.0\n",
              "2012    30000.0  25000.0   7100.0  2000.0  10.0\n",
              "2013    30000.0  30000.0   8200.0  2000.0  16.0"
            ]
          },
          "metadata": {
            "tags": []
          },
          "execution_count": 169
        }
      ]
    },
    {
      "cell_type": "code",
      "metadata": {
        "colab": {
          "base_uri": "https://localhost:8080/",
          "height": 195
        },
        "id": "TLnPFGnOQ4Wm",
        "outputId": "45318d8d-a48a-4958-9422-b41d7a6899b9"
      },
      "source": [
        "scores"
      ],
      "execution_count": null,
      "outputs": [
        {
          "output_type": "execute_result",
          "data": {
            "text/html": [
              "<div>\n",
              "<style scoped>\n",
              "    .dataframe tbody tr th:only-of-type {\n",
              "        vertical-align: middle;\n",
              "    }\n",
              "\n",
              "    .dataframe tbody tr th {\n",
              "        vertical-align: top;\n",
              "    }\n",
              "\n",
              "    .dataframe thead th {\n",
              "        text-align: right;\n",
              "    }\n",
              "</style>\n",
              "<table border=\"1\" class=\"dataframe\">\n",
              "  <thead>\n",
              "    <tr style=\"text-align: right;\">\n",
              "      <th></th>\n",
              "      <th>Alice</th>\n",
              "      <th>Bob</th>\n",
              "      <th>Charlie</th>\n",
              "      <th>Dave</th>\n",
              "      <th>Eva</th>\n",
              "    </tr>\n",
              "    <tr>\n",
              "      <th>rounds</th>\n",
              "      <th></th>\n",
              "      <th></th>\n",
              "      <th></th>\n",
              "      <th></th>\n",
              "      <th></th>\n",
              "    </tr>\n",
              "  </thead>\n",
              "  <tbody>\n",
              "    <tr>\n",
              "      <th>2010</th>\n",
              "      <td>10000.0</td>\n",
              "      <td>15000.0</td>\n",
              "      <td>5000.0</td>\n",
              "      <td>-1.0</td>\n",
              "      <td>1.0</td>\n",
              "    </tr>\n",
              "    <tr>\n",
              "      <th>2011</th>\n",
              "      <td>20000.0</td>\n",
              "      <td>NaN</td>\n",
              "      <td>6000.0</td>\n",
              "      <td>2000.0</td>\n",
              "      <td>4.0</td>\n",
              "    </tr>\n",
              "    <tr>\n",
              "      <th>2012</th>\n",
              "      <td>30000.0</td>\n",
              "      <td>25000.0</td>\n",
              "      <td>NaN</td>\n",
              "      <td>NaN</td>\n",
              "      <td>NaN</td>\n",
              "    </tr>\n",
              "    <tr>\n",
              "      <th>2013</th>\n",
              "      <td>NaN</td>\n",
              "      <td>30000.0</td>\n",
              "      <td>8200.0</td>\n",
              "      <td>NaN</td>\n",
              "      <td>16.0</td>\n",
              "    </tr>\n",
              "  </tbody>\n",
              "</table>\n",
              "</div>"
            ],
            "text/plain": [
              "          Alice      Bob  Charlie    Dave   Eva\n",
              "rounds                                         \n",
              "2010    10000.0  15000.0   5000.0    -1.0   1.0\n",
              "2011    20000.0      NaN   6000.0  2000.0   4.0\n",
              "2012    30000.0  25000.0      NaN     NaN   NaN\n",
              "2013        NaN  30000.0   8200.0     NaN  16.0"
            ]
          },
          "metadata": {
            "tags": []
          },
          "execution_count": 38
        }
      ]
    },
    {
      "cell_type": "code",
      "metadata": {
        "colab": {
          "base_uri": "https://localhost:8080/",
          "height": 195
        },
        "id": "krFAocFWGKjM",
        "outputId": "1dbcde3a-8e46-4df6-bcc6-a4bd5cdfa44f"
      },
      "source": [
        "scores.fillna(method=\"ffill\", axis = 1)"
      ],
      "execution_count": null,
      "outputs": [
        {
          "output_type": "execute_result",
          "data": {
            "text/html": [
              "<div>\n",
              "<style scoped>\n",
              "    .dataframe tbody tr th:only-of-type {\n",
              "        vertical-align: middle;\n",
              "    }\n",
              "\n",
              "    .dataframe tbody tr th {\n",
              "        vertical-align: top;\n",
              "    }\n",
              "\n",
              "    .dataframe thead th {\n",
              "        text-align: right;\n",
              "    }\n",
              "</style>\n",
              "<table border=\"1\" class=\"dataframe\">\n",
              "  <thead>\n",
              "    <tr style=\"text-align: right;\">\n",
              "      <th></th>\n",
              "      <th>Alice</th>\n",
              "      <th>Bob</th>\n",
              "      <th>Charlie</th>\n",
              "      <th>Dave</th>\n",
              "      <th>Eva</th>\n",
              "    </tr>\n",
              "    <tr>\n",
              "      <th>rounds</th>\n",
              "      <th></th>\n",
              "      <th></th>\n",
              "      <th></th>\n",
              "      <th></th>\n",
              "      <th></th>\n",
              "    </tr>\n",
              "  </thead>\n",
              "  <tbody>\n",
              "    <tr>\n",
              "      <th>2010</th>\n",
              "      <td>10000.0</td>\n",
              "      <td>15000.0</td>\n",
              "      <td>5000.0</td>\n",
              "      <td>0.0</td>\n",
              "      <td>1.0</td>\n",
              "    </tr>\n",
              "    <tr>\n",
              "      <th>2011</th>\n",
              "      <td>20000.0</td>\n",
              "      <td>20000.0</td>\n",
              "      <td>6000.0</td>\n",
              "      <td>2000.0</td>\n",
              "      <td>4.0</td>\n",
              "    </tr>\n",
              "    <tr>\n",
              "      <th>2012</th>\n",
              "      <td>30000.0</td>\n",
              "      <td>25000.0</td>\n",
              "      <td>7100.0</td>\n",
              "      <td>2000.0</td>\n",
              "      <td>10.0</td>\n",
              "    </tr>\n",
              "    <tr>\n",
              "      <th>2013</th>\n",
              "      <td>30000.0</td>\n",
              "      <td>30000.0</td>\n",
              "      <td>8200.0</td>\n",
              "      <td>2000.0</td>\n",
              "      <td>16.0</td>\n",
              "    </tr>\n",
              "  </tbody>\n",
              "</table>\n",
              "</div>"
            ],
            "text/plain": [
              "          Alice      Bob  Charlie    Dave   Eva\n",
              "rounds                                         \n",
              "2010    10000.0  15000.0   5000.0     0.0   1.0\n",
              "2011    20000.0  20000.0   6000.0  2000.0   4.0\n",
              "2012    30000.0  25000.0   7100.0  2000.0  10.0\n",
              "2013    30000.0  30000.0   8200.0  2000.0  16.0"
            ]
          },
          "metadata": {
            "tags": []
          },
          "execution_count": 170
        }
      ]
    },
    {
      "cell_type": "markdown",
      "metadata": {
        "id": "E7ON2mBXttWy"
      },
      "source": [
        "### Which of these methods should one use?\n",
        "\n",
        "We have shown only some methods for imputation.  There can be more sophistocated methods.  For example, if lattitude and longitude are missing for some entries but the address is given then \n",
        "1. we can perhaps query a maps database to get the latitude and longitude. \n",
        "2. We can also use other entries in the dataframe with the same values in the address column to get the latitude and longitude.\n",
        "3. If a nearby address is provided, then we can approximate the latitude and longitude with the nearby entry.\n",
        "\n",
        "What method to use and how many values to change depends on the dataset and the fields that are being changed.\n",
        "\n",
        "Each of the methods has implications on other statistics that might be computed.\n"
      ]
    },
    {
      "cell_type": "code",
      "metadata": {
        "colab": {
          "base_uri": "https://localhost:8080/",
          "height": 195
        },
        "id": "ALWkohA9TX0u",
        "outputId": "8e21835a-803d-4d31-c177-2dd8bb04e1be"
      },
      "source": [
        "scores"
      ],
      "execution_count": null,
      "outputs": [
        {
          "output_type": "execute_result",
          "data": {
            "text/html": [
              "<div>\n",
              "<style scoped>\n",
              "    .dataframe tbody tr th:only-of-type {\n",
              "        vertical-align: middle;\n",
              "    }\n",
              "\n",
              "    .dataframe tbody tr th {\n",
              "        vertical-align: top;\n",
              "    }\n",
              "\n",
              "    .dataframe thead th {\n",
              "        text-align: right;\n",
              "    }\n",
              "</style>\n",
              "<table border=\"1\" class=\"dataframe\">\n",
              "  <thead>\n",
              "    <tr style=\"text-align: right;\">\n",
              "      <th></th>\n",
              "      <th>Alice</th>\n",
              "      <th>Bob</th>\n",
              "      <th>Charlie</th>\n",
              "      <th>Dave</th>\n",
              "      <th>Eva</th>\n",
              "    </tr>\n",
              "    <tr>\n",
              "      <th>rounds</th>\n",
              "      <th></th>\n",
              "      <th></th>\n",
              "      <th></th>\n",
              "      <th></th>\n",
              "      <th></th>\n",
              "    </tr>\n",
              "  </thead>\n",
              "  <tbody>\n",
              "    <tr>\n",
              "      <th>2010</th>\n",
              "      <td>10000.0</td>\n",
              "      <td>15000.0</td>\n",
              "      <td>5000.0</td>\n",
              "      <td>-1.0</td>\n",
              "      <td>1.0</td>\n",
              "    </tr>\n",
              "    <tr>\n",
              "      <th>2011</th>\n",
              "      <td>20000.0</td>\n",
              "      <td>NaN</td>\n",
              "      <td>6000.0</td>\n",
              "      <td>2000.0</td>\n",
              "      <td>4.0</td>\n",
              "    </tr>\n",
              "    <tr>\n",
              "      <th>2012</th>\n",
              "      <td>30000.0</td>\n",
              "      <td>25000.0</td>\n",
              "      <td>NaN</td>\n",
              "      <td>NaN</td>\n",
              "      <td>NaN</td>\n",
              "    </tr>\n",
              "    <tr>\n",
              "      <th>2013</th>\n",
              "      <td>NaN</td>\n",
              "      <td>30000.0</td>\n",
              "      <td>8200.0</td>\n",
              "      <td>NaN</td>\n",
              "      <td>16.0</td>\n",
              "    </tr>\n",
              "  </tbody>\n",
              "</table>\n",
              "</div>"
            ],
            "text/plain": [
              "          Alice      Bob  Charlie    Dave   Eva\n",
              "rounds                                         \n",
              "2010    10000.0  15000.0   5000.0    -1.0   1.0\n",
              "2011    20000.0      NaN   6000.0  2000.0   4.0\n",
              "2012    30000.0  25000.0      NaN     NaN   NaN\n",
              "2013        NaN  30000.0   8200.0     NaN  16.0"
            ]
          },
          "metadata": {
            "tags": []
          },
          "execution_count": 7
        }
      ]
    },
    {
      "cell_type": "code",
      "metadata": {
        "colab": {
          "base_uri": "https://localhost:8080/"
        },
        "id": "fS89pOFHB6Mt",
        "outputId": "a1cc458d-1280-4774-9a5e-9ace007b596e"
      },
      "source": [
        "senior_age = pd.Series([75, 65, np.nan, 60])\n",
        "print(senior_age)\n",
        "\n",
        "s=senior_age.ffill()\n",
        "s.mean()"
      ],
      "execution_count": null,
      "outputs": [
        {
          "output_type": "stream",
          "text": [
            "0    75.0\n",
            "1    65.0\n",
            "2     NaN\n",
            "3    60.0\n",
            "dtype: float64\n"
          ],
          "name": "stdout"
        },
        {
          "output_type": "execute_result",
          "data": {
            "text/plain": [
              "66.25"
            ]
          },
          "metadata": {
            "tags": []
          },
          "execution_count": 55
        }
      ]
    },
    {
      "cell_type": "code",
      "metadata": {
        "colab": {
          "base_uri": "https://localhost:8080/"
        },
        "id": "KHtxVCkBBbur",
        "outputId": "90e00ec3-36a4-4758-a2e8-baf3e17141f1"
      },
      "source": [
        "# If we want to use missing entry as not having participated.\n",
        "\n",
        "eva_scores.mean()"
      ],
      "execution_count": null,
      "outputs": [
        {
          "output_type": "execute_result",
          "data": {
            "text/plain": [
              "7.0"
            ]
          },
          "metadata": {
            "tags": []
          },
          "execution_count": 16
        }
      ]
    },
    {
      "cell_type": "code",
      "metadata": {
        "colab": {
          "base_uri": "https://localhost:8080/"
        },
        "id": "cfyy6Jc3G2kn",
        "outputId": "ddc27e5f-9e12-4c47-8dcd-852d4109b0e2"
      },
      "source": [
        "# do not compute mean if there is even one `NaN` entry.\n",
        "eva_scores.mean(skipna=False)"
      ],
      "execution_count": null,
      "outputs": [
        {
          "output_type": "execute_result",
          "data": {
            "text/plain": [
              "7.0"
            ]
          },
          "metadata": {
            "tags": []
          },
          "execution_count": 40
        }
      ]
    },
    {
      "cell_type": "code",
      "metadata": {
        "colab": {
          "base_uri": "https://localhost:8080/"
        },
        "id": "3JhvfN0gIui8",
        "outputId": "15f8dd2c-e84d-4481-e49f-10bffdfff48a"
      },
      "source": [
        "# if we take a missing value to mean a \"failure\" to score then average drops.\n",
        "eva_scores.fillna(0).mean()"
      ],
      "execution_count": null,
      "outputs": [
        {
          "output_type": "execute_result",
          "data": {
            "text/plain": [
              "5.25"
            ]
          },
          "metadata": {
            "tags": []
          },
          "execution_count": 18
        }
      ]
    },
    {
      "cell_type": "code",
      "metadata": {
        "colab": {
          "base_uri": "https://localhost:8080/"
        },
        "id": "vN8GsnbFG8FB",
        "outputId": "8a0d9c98-df58-4169-9cc7-0a596a68b21b"
      },
      "source": [
        "eva_scores.fillna(method = \"bfill\").mean()"
      ],
      "execution_count": null,
      "outputs": [
        {
          "output_type": "execute_result",
          "data": {
            "text/plain": [
              "9.25"
            ]
          },
          "metadata": {
            "tags": []
          },
          "execution_count": 19
        }
      ]
    },
    {
      "cell_type": "code",
      "metadata": {
        "colab": {
          "base_uri": "https://localhost:8080/"
        },
        "id": "2noGFJEyCKpU",
        "outputId": "060ed8b4-a95d-485b-a57e-f2b842a487fe"
      },
      "source": [
        "eva_scores.fillna(method = \"ffill\").mean()"
      ],
      "execution_count": null,
      "outputs": [
        {
          "output_type": "execute_result",
          "data": {
            "text/plain": [
              "6.25"
            ]
          },
          "metadata": {
            "tags": []
          },
          "execution_count": 20
        }
      ]
    },
    {
      "cell_type": "markdown",
      "metadata": {
        "id": "CG5ALYCHCpgy"
      },
      "source": [
        "The statistics for the column changes depending on\n",
        "- the method of filling used\n",
        "- the number of missing values\n",
        "- the order of the rows\n",
        "- the distribution of the data."
      ]
    },
    {
      "cell_type": "markdown",
      "metadata": {
        "id": "eXFREVskC7rd"
      },
      "source": [
        "### Example Scenario 1\n",
        "\n",
        "We have the ages of individuals in a senior center.  Some are missing values.\n",
        "\n",
        "1. What will happen if we fill the missing values with zeros?\n",
        "2. What if we knew that the missing values were for the spouses of the others?3. What if we fill the missing values with nearby values? \n"
      ]
    },
    {
      "cell_type": "markdown",
      "metadata": {
        "id": "D9YupnDZDmaJ"
      },
      "source": [
        "### Example Scenario 2\n",
        "\n",
        "Let us say we have GDP data for countries from 1960 - 2000. Data for 1997 is missing.\n",
        "\n",
        "1. What if we fill it with the mean of the GDP of all the years?\n",
        "2. What if we use backfill or forwardfill?\n",
        "3. is there a better method?\n"
      ]
    },
    {
      "cell_type": "markdown",
      "metadata": {
        "id": "Va26jCZVEgJo"
      },
      "source": [
        "### Example Scenario 3\n",
        "\n",
        "Let us say we have sales data for individuals in a company.  One column has missing data for the last few years.  How should we fill this column?"
      ]
    },
    {
      "cell_type": "markdown",
      "metadata": {
        "id": "SEgRw3BZw4FN"
      },
      "source": [
        "### What if all the values in a slice is a NaN?\n",
        "\n",
        "What if all the numbers are `NaN`?\n",
        "\n",
        "Using `nanmean()` will give us a warning."
      ]
    },
    {
      "cell_type": "code",
      "metadata": {
        "colab": {
          "base_uri": "https://localhost:8080/"
        },
        "id": "vAH1E2SkTY46",
        "outputId": "be2b9d09-f6e8-4565-a7e6-2df4310e7c0e"
      },
      "source": [
        "s1 = pd.Series([np.nan, np.nan, np.nan])\n",
        "s2 = pd.Series([0, np.nan, np.nan])\n",
        "\n",
        "print(np.mean(s1))\n",
        "print(np.mean(s2))"
      ],
      "execution_count": null,
      "outputs": [
        {
          "output_type": "stream",
          "text": [
            "nan\n",
            "0.0\n"
          ],
          "name": "stdout"
        }
      ]
    },
    {
      "cell_type": "code",
      "metadata": {
        "colab": {
          "base_uri": "https://localhost:8080/"
        },
        "id": "cmdTAd93T8_U",
        "outputId": "90c46d27-0a04-491e-debf-52324de5007b"
      },
      "source": [
        "# nanmean() will return a nan but also give an warning\n",
        "print(np.nanmean(s1))"
      ],
      "execution_count": null,
      "outputs": [
        {
          "output_type": "stream",
          "text": [
            "nan\n"
          ],
          "name": "stdout"
        },
        {
          "output_type": "stream",
          "text": [
            "/usr/local/lib/python3.6/dist-packages/ipykernel_launcher.py:2: RuntimeWarning: Mean of empty slice\n",
            "  \n"
          ],
          "name": "stderr"
        }
      ]
    },
    {
      "cell_type": "code",
      "metadata": {
        "colab": {
          "base_uri": "https://localhost:8080/"
        },
        "id": "Dn4VpY2ExEF9",
        "outputId": "e2fd3022-91e6-40fd-9624-6e0a5f9165b7"
      },
      "source": [
        "print(np.nanmean(s2))"
      ],
      "execution_count": null,
      "outputs": [
        {
          "output_type": "stream",
          "text": [
            "0.0\n"
          ],
          "name": "stdout"
        }
      ]
    },
    {
      "cell_type": "code",
      "metadata": {
        "id": "PHEB4NCwxWLo"
      },
      "source": [
        ""
      ],
      "execution_count": null,
      "outputs": []
    }
  ]
}