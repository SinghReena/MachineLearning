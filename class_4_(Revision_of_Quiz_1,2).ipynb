{
  "nbformat": 4,
  "nbformat_minor": 0,
  "metadata": {
    "colab": {
      "name": "class-4 (Revision of Quiz-1,2).ipynb",
      "provenance": [],
      "collapsed_sections": [],
      "include_colab_link": true
    },
    "kernelspec": {
      "name": "python3",
      "display_name": "Python 3"
    }
  },
  "cells": [
    {
      "cell_type": "markdown",
      "metadata": {
        "id": "view-in-github",
        "colab_type": "text"
      },
      "source": [
        "<a href=\"https://colab.research.google.com/github/SinghReena/MachineLearning/blob/master/class_4_(Revision_of_Quiz_1%2C2).ipynb\" target=\"_parent\"><img src=\"https://colab.research.google.com/assets/colab-badge.svg\" alt=\"Open In Colab\"/></a>"
      ]
    },
    {
      "cell_type": "code",
      "metadata": {
        "colab": {
          "base_uri": "https://localhost:8080/",
          "height": 35
        },
        "id": "f9afKKfRooqd",
        "outputId": "cbe3045e-7c04-4c67-ec47-2b0d339b743b"
      },
      "source": [
        "#Welcome to python programming language class\n",
        "string1=\"\"\"hdbfdhfjdfj\n",
        "dnjddckd\n",
        "djdjdjdd\n",
        "jdjkdjkdk\"\"\"\n",
        "string1\n"
      ],
      "execution_count": null,
      "outputs": [
        {
          "output_type": "execute_result",
          "data": {
            "application/vnd.google.colaboratory.intrinsic+json": {
              "type": "string"
            },
            "text/plain": [
              "'hdbfdhfjdfj\\ndnjddckd\\ndjdjdjdd\\njdjkdjkdk'"
            ]
          },
          "metadata": {
            "tags": []
          },
          "execution_count": 40
        }
      ]
    },
    {
      "cell_type": "code",
      "metadata": {
        "colab": {
          "base_uri": "https://localhost:8080/"
        },
        "id": "S729UqUErNFA",
        "outputId": "2f42d4e9-d698-48a9-e66f-b554eaabdeaf"
      },
      "source": [
        "city='Los Angeles'\n",
        "print(city)"
      ],
      "execution_count": null,
      "outputs": [
        {
          "output_type": "stream",
          "text": [
            "Los Angeles\n"
          ],
          "name": "stdout"
        }
      ]
    },
    {
      "cell_type": "code",
      "metadata": {
        "colab": {
          "base_uri": "https://localhost:8080/"
        },
        "id": "5-5Jm5X7rmcF",
        "outputId": "ac809d6e-c22f-4e9b-bad4-6c1a9de066d8"
      },
      "source": [
        "a=1456\n",
        "print(a)"
      ],
      "execution_count": null,
      "outputs": [
        {
          "output_type": "stream",
          "text": [
            "1456\n"
          ],
          "name": "stdout"
        }
      ]
    },
    {
      "cell_type": "code",
      "metadata": {
        "colab": {
          "base_uri": "https://localhost:8080/"
        },
        "id": "AqSunVMUr4Yt",
        "outputId": "650dd44e-707b-4b5e-a628-87b9d99b8d21"
      },
      "source": [
        "k=12\n",
        "m=8\n",
        "total=k+m\n",
        "print(\"total\",total)"
      ],
      "execution_count": null,
      "outputs": [
        {
          "output_type": "stream",
          "text": [
            "total 20\n"
          ],
          "name": "stdout"
        }
      ]
    },
    {
      "cell_type": "code",
      "metadata": {
        "colab": {
          "base_uri": "https://localhost:8080/"
        },
        "id": "EGd4KQmfsjzh",
        "outputId": "8aca137c-be61-443b-a57d-9b5a9d9f528f"
      },
      "source": [
        "x=11\n",
        "y=67\n",
        "z=x+y\n",
        "print(\"The total of x and y is \",z)"
      ],
      "execution_count": null,
      "outputs": [
        {
          "output_type": "stream",
          "text": [
            "The total of x and y is  78\n"
          ],
          "name": "stdout"
        }
      ]
    },
    {
      "cell_type": "code",
      "metadata": {
        "colab": {
          "base_uri": "https://localhost:8080/"
        },
        "id": "pqBBmWqKtp_A",
        "outputId": "6c926332-35f3-4bd6-8cb6-0fc24ab5dd2f"
      },
      "source": [
        "Score_4=13\n",
        "print(Score_4)"
      ],
      "execution_count": null,
      "outputs": [
        {
          "output_type": "stream",
          "text": [
            "13\n"
          ],
          "name": "stdout"
        }
      ]
    },
    {
      "cell_type": "code",
      "metadata": {
        "colab": {
          "base_uri": "https://localhost:8080/",
          "height": 129
        },
        "id": "C8wDK0EVtwpd",
        "outputId": "dbf6a0ed-7e47-4996-c3fb-6420171cdc9b"
      },
      "source": [
        "4_Score=78\n",
        "print(4_Score)"
      ],
      "execution_count": null,
      "outputs": [
        {
          "output_type": "error",
          "ename": "SyntaxError",
          "evalue": "ignored",
          "traceback": [
            "\u001b[0;36m  File \u001b[0;32m\"<ipython-input-46-9ae1570f79e8>\"\u001b[0;36m, line \u001b[0;32m1\u001b[0m\n\u001b[0;31m    4_Score=78\u001b[0m\n\u001b[0m     ^\u001b[0m\n\u001b[0;31mSyntaxError\u001b[0m\u001b[0;31m:\u001b[0m invalid token\n"
          ]
        }
      ]
    },
    {
      "cell_type": "code",
      "metadata": {
        "id": "ysvy5uAxt9lg"
      },
      "source": [
        "_number1=23\n",
        "_number2=45\n",
        "multiply=_number1*_number2\n",
        "print(multiply)"
      ],
      "execution_count": null,
      "outputs": []
    },
    {
      "cell_type": "code",
      "metadata": {
        "id": "v8PeuxuZwYMG"
      },
      "source": [
        "y=34\n",
        "Y=100\n",
        "print(y)\n",
        "print(Y)"
      ],
      "execution_count": null,
      "outputs": []
    },
    {
      "cell_type": "code",
      "metadata": {
        "id": "e9Xi-uVvw2IF"
      },
      "source": [
        "total=10.2+12.2+0.2\n",
        "print(total)"
      ],
      "execution_count": null,
      "outputs": []
    },
    {
      "cell_type": "code",
      "metadata": {
        "id": "ftsP_bAqyqj5"
      },
      "source": [
        "print(type(45.7))"
      ],
      "execution_count": null,
      "outputs": []
    },
    {
      "cell_type": "code",
      "metadata": {
        "id": "HxJ4G_dTzXnp"
      },
      "source": [
        "print(type(100))"
      ],
      "execution_count": null,
      "outputs": []
    },
    {
      "cell_type": "code",
      "metadata": {
        "id": "WtvuvPxlzdQm"
      },
      "source": [
        "print(type(\"Gerry\"))"
      ],
      "execution_count": null,
      "outputs": []
    },
    {
      "cell_type": "code",
      "metadata": {
        "id": "8Hpkqb3kz3bp"
      },
      "source": [
        "a=56.7\n",
        "b=int(a)\n",
        "print(b)"
      ],
      "execution_count": null,
      "outputs": []
    },
    {
      "cell_type": "code",
      "metadata": {
        "id": "jMVXAyIA0SzX"
      },
      "source": [
        "name=input(\"Enter your name\")\n",
        "print(name)"
      ],
      "execution_count": null,
      "outputs": []
    },
    {
      "cell_type": "code",
      "metadata": {
        "id": "GeWrryDC1RIB"
      },
      "source": [
        "a='6.2'\n",
        "\n",
        "c=a*3\n",
        "print(c)"
      ],
      "execution_count": null,
      "outputs": []
    },
    {
      "cell_type": "code",
      "metadata": {
        "id": "n5ansXFY2maD"
      },
      "source": [
        "a=-13//4\n",
        "print(a)"
      ],
      "execution_count": null,
      "outputs": []
    },
    {
      "cell_type": "code",
      "metadata": {
        "id": "AKawENOd3QWy"
      },
      "source": [
        "a=6+(5*(5*4))"
      ],
      "execution_count": null,
      "outputs": []
    },
    {
      "cell_type": "code",
      "metadata": {
        "id": "ZjumhG3o3p6q"
      },
      "source": [
        "a=3*(4-5)\n",
        "print(a)"
      ],
      "execution_count": null,
      "outputs": []
    },
    {
      "cell_type": "code",
      "metadata": {
        "id": "EbgIWgtW3wTj"
      },
      "source": [
        "3*4-5"
      ],
      "execution_count": null,
      "outputs": []
    },
    {
      "cell_type": "code",
      "metadata": {
        "id": "yMo1nI9Y5EAE"
      },
      "source": [
        "a=2\n",
        "b=5\n",
        "print(b**a)"
      ],
      "execution_count": null,
      "outputs": []
    },
    {
      "cell_type": "code",
      "metadata": {
        "id": "ZTcNg-6G0xMB"
      },
      "source": [
        "name=\"Reena\"\n",
        "print(name)"
      ],
      "execution_count": null,
      "outputs": []
    },
    {
      "cell_type": "markdown",
      "metadata": {
        "id": "dyYwF7g5o6Tp"
      },
      "source": [
        "This is my first Python class"
      ]
    }
  ]
}