{
  "nbformat": 4,
  "nbformat_minor": 0,
  "metadata": {
    "colab": {
      "name": "Class-5 (While and For Loops Concepts).ipynb",
      "provenance": [],
      "collapsed_sections": [],
      "include_colab_link": true
    },
    "kernelspec": {
      "name": "python3",
      "display_name": "Python 3"
    }
  },
  "cells": [
    {
      "cell_type": "markdown",
      "metadata": {
        "id": "view-in-github",
        "colab_type": "text"
      },
      "source": [
        "<a href=\"https://colab.research.google.com/github/SinghReena/MachineLearning/blob/master/Class_5_(While_and_For_Loops_Concepts).ipynb\" target=\"_parent\"><img src=\"https://colab.research.google.com/assets/colab-badge.svg\" alt=\"Open In Colab\"/></a>"
      ]
    },
    {
      "cell_type": "code",
      "metadata": {
        "colab": {
          "base_uri": "https://localhost:8080/"
        },
        "id": "JoJRP-Co2d9h",
        "outputId": "a134b981-bff6-4e0f-c381-74d09b21c3a1"
      },
      "source": [
        "a = 25\n",
        "while(a < 30):\n",
        "  print(a) \n",
        "  #a = a+1\n",
        "  if a == 27:\n",
        "    break\n",
        "  a += 2"
      ],
      "execution_count": null,
      "outputs": [
        {
          "output_type": "stream",
          "text": [
            "25\n",
            "27\n"
          ],
          "name": "stdout"
        }
      ]
    },
    {
      "cell_type": "code",
      "metadata": {
        "colab": {
          "base_uri": "https://localhost:8080/"
        },
        "id": "rcXTqPv4Dgit",
        "outputId": "e4ac3110-1700-420f-b6f5-eb249ef0c000"
      },
      "source": [
        "i=0\n",
        "while i < 20:\n",
        "  i += 1\n",
        "  if i == 5:\n",
        "    continue\n",
        "  print(i)\n",
        "  "
      ],
      "execution_count": null,
      "outputs": [
        {
          "output_type": "stream",
          "text": [
            "1\n",
            "2\n",
            "3\n",
            "4\n",
            "6\n",
            "7\n",
            "8\n",
            "9\n",
            "10\n",
            "11\n",
            "12\n",
            "13\n",
            "14\n",
            "15\n",
            "16\n",
            "17\n",
            "18\n",
            "19\n",
            "20\n"
          ],
          "name": "stdout"
        }
      ]
    },
    {
      "cell_type": "code",
      "metadata": {
        "colab": {
          "base_uri": "https://localhost:8080/"
        },
        "id": "29Awrc22F0UC",
        "outputId": "5f88fcc1-87e3-4253-8f0b-f07223d4cc81"
      },
      "source": [
        "i=1\n",
        "while(i<10):\n",
        "  print(i)\n",
        "  i = i+1\n",
        "  if i == 4:\n",
        "    print(\"Himali\")\n",
        "  else:\n",
        "    print(\"BYE BYE\")"
      ],
      "execution_count": null,
      "outputs": [
        {
          "output_type": "stream",
          "text": [
            "1\n",
            "BYE BYE\n",
            "2\n",
            "BYE BYE\n",
            "3\n",
            "Himali\n",
            "4\n",
            "BYE BYE\n",
            "5\n",
            "BYE BYE\n",
            "6\n",
            "BYE BYE\n",
            "7\n",
            "BYE BYE\n",
            "8\n",
            "BYE BYE\n",
            "9\n",
            "BYE BYE\n"
          ],
          "name": "stdout"
        }
      ]
    },
    {
      "cell_type": "code",
      "metadata": {
        "colab": {
          "base_uri": "https://localhost:8080/"
        },
        "id": "d4Y2I8y6HWUZ",
        "outputId": "4ae5898f-33ee-4750-815a-6791b015f845"
      },
      "source": [
        "name=[\"Reena\",\"Ruchi\",\"Himali\",\"Medha\",\"Gerry\",\"Miki\"]\n",
        "for m in name:\n",
        "  print(m)"
      ],
      "execution_count": null,
      "outputs": [
        {
          "output_type": "stream",
          "text": [
            "Reena\n",
            "Ruchi\n",
            "Himali\n",
            "Medha\n",
            "Gerry\n",
            "Miki\n"
          ],
          "name": "stdout"
        }
      ]
    },
    {
      "cell_type": "code",
      "metadata": {
        "colab": {
          "base_uri": "https://localhost:8080/"
        },
        "id": "9e5t8G7GI3QD",
        "outputId": "0bde3429-6723-4f83-aa67-6f83563bad29"
      },
      "source": [
        "for x in \"FUHSD\":\n",
        "  print (x)\n"
      ],
      "execution_count": null,
      "outputs": [
        {
          "output_type": "stream",
          "text": [
            "F\n",
            "U\n",
            "H\n",
            "S\n",
            "D\n"
          ],
          "name": "stdout"
        }
      ]
    },
    {
      "cell_type": "code",
      "metadata": {
        "colab": {
          "base_uri": "https://localhost:8080/"
        },
        "id": "BcAS6cfXJj7E",
        "outputId": "945e8ca0-3f0f-4b94-f8ad-ae2fe6bd39d5"
      },
      "source": [
        "name=[\"Reena\",\"Ruchi\",\"Himali\",\"Medha\",\"Gerry\",\"Miki\"]\n",
        "for m in name:\n",
        "  print(m)\n",
        "  if m == \"Gerry\":\n",
        "    break"
      ],
      "execution_count": null,
      "outputs": [
        {
          "output_type": "stream",
          "text": [
            "Reena\n",
            "Ruchi\n",
            "Himali\n",
            "Medha\n",
            "Gerry\n"
          ],
          "name": "stdout"
        }
      ]
    },
    {
      "cell_type": "code",
      "metadata": {
        "colab": {
          "base_uri": "https://localhost:8080/"
        },
        "id": "nCbHYZjrJ7c-",
        "outputId": "90ccf5f3-506f-43ee-9fb8-69fbf21311ef"
      },
      "source": [
        "name=[\"Reena\",\"Ruchi\",\"Himali\",\"Medha\",\"Gerry\",\"Miki\"]\n",
        "for m in name:\n",
        "  print(m)\n",
        "  if m == \"Gerry\":\n",
        "    break\n",
        "  print(m)"
      ],
      "execution_count": null,
      "outputs": [
        {
          "output_type": "stream",
          "text": [
            "Reena\n",
            "Reena\n",
            "Ruchi\n",
            "Ruchi\n",
            "Himali\n",
            "Himali\n",
            "Medha\n",
            "Medha\n",
            "Gerry\n"
          ],
          "name": "stdout"
        }
      ]
    },
    {
      "cell_type": "code",
      "metadata": {
        "colab": {
          "base_uri": "https://localhost:8080/"
        },
        "id": "bzZ-WmRbKSZn",
        "outputId": "7b665a5e-a297-4bdf-fc20-3b2032f4a5be"
      },
      "source": [
        "name=[\"Reena\",\"Ruchi\",\"Himali\",\"Medha\",\"Gerry\",\"Miki\"]\n",
        "for m in name:\n",
        "  if m == \"Himali\":\n",
        "    continue\n",
        "  print(m)\n",
        " "
      ],
      "execution_count": null,
      "outputs": [
        {
          "output_type": "stream",
          "text": [
            "Reena\n",
            "Ruchi\n",
            "Medha\n",
            "Gerry\n",
            "Miki\n"
          ],
          "name": "stdout"
        }
      ]
    },
    {
      "cell_type": "code",
      "metadata": {
        "colab": {
          "base_uri": "https://localhost:8080/"
        },
        "id": "uhJYR3aSK2JR",
        "outputId": "0c251713-6d78-4ebc-c98a-ddf0dedacf5c"
      },
      "source": [
        "for x in range(3,10,2):\n",
        "  print(x)\n"
      ],
      "execution_count": null,
      "outputs": [
        {
          "output_type": "stream",
          "text": [
            "3\n",
            "5\n",
            "7\n",
            "9\n"
          ],
          "name": "stdout"
        }
      ]
    },
    {
      "cell_type": "code",
      "metadata": {
        "colab": {
          "base_uri": "https://localhost:8080/"
        },
        "id": "39WHSzNaMFoR",
        "outputId": "b6c0bc6c-74e0-4253-a6dc-2bef73b0063c"
      },
      "source": [
        "for x in range(11,20,5):\n",
        "  print(x)"
      ],
      "execution_count": null,
      "outputs": [
        {
          "output_type": "stream",
          "text": [
            "11\n",
            "16\n"
          ],
          "name": "stdout"
        }
      ]
    },
    {
      "cell_type": "code",
      "metadata": {
        "colab": {
          "base_uri": "https://localhost:8080/"
        },
        "id": "0typ5TQ5MoxB",
        "outputId": "51080ef0-22b9-4bba-b040-a87b71fcf6f3"
      },
      "source": [
        "for x in range(11,20,5):\n",
        "  print(x)\n",
        "else:\n",
        "  print(\"Python Programming\")"
      ],
      "execution_count": null,
      "outputs": [
        {
          "output_type": "stream",
          "text": [
            "11\n",
            "16\n",
            "Python Programming\n"
          ],
          "name": "stdout"
        }
      ]
    },
    {
      "cell_type": "code",
      "metadata": {
        "colab": {
          "base_uri": "https://localhost:8080/"
        },
        "id": "CG6IEdhqM9MH",
        "outputId": "4d1b6177-4401-42a0-d213-6f2dd79cef28"
      },
      "source": [
        "adjective=[\"big\",\"tasty\",\"small\"]\n",
        "fruits=[\"Mango\",\"Banana\"]\n",
        "for a in adjective:\n",
        "  for b in fruits:\n",
        "    print(a,b)"
      ],
      "execution_count": null,
      "outputs": [
        {
          "output_type": "stream",
          "text": [
            "big Mango\n",
            "big Banana\n",
            "tasty Mango\n",
            "tasty Banana\n",
            "small Mango\n",
            "small Banana\n"
          ],
          "name": "stdout"
        }
      ]
    }
  ]
}