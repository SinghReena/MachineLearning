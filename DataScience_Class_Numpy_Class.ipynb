{
  "nbformat": 4,
  "nbformat_minor": 0,
  "metadata": {
    "colab": {
      "name": "DataScience Class Numpy Class ",
      "provenance": [],
      "include_colab_link": true
    },
    "kernelspec": {
      "name": "python3",
      "display_name": "Python 3"
    }
  },
  "cells": [
    {
      "cell_type": "markdown",
      "metadata": {
        "id": "view-in-github",
        "colab_type": "text"
      },
      "source": [
        "<a href=\"https://colab.research.google.com/github/SinghReena/MachineLearning/blob/master/DataScience_Class_Numpy_Class.ipynb\" target=\"_parent\"><img src=\"https://colab.research.google.com/assets/colab-badge.svg\" alt=\"Open In Colab\"/></a>"
      ]
    },
    {
      "cell_type": "markdown",
      "metadata": {
        "id": "VsdvxtVZsjgR"
      },
      "source": [
        "## NumPy\n",
        "\n",
        "`numpy` stands for Numerical Python and is one of the most useful scientific libraries for python.\n",
        "\n",
        "It provides support for large multidimensional array objects.\n",
        "\n",
        "Various other libraries like Pandas, matplotlib and scikit-learn are built on top of this library.\n",
        "\n",
        "It is know for high performance, efficient storage and data operations, specially, as arrays grow in size.\n",
        "\n",
        "\n",
        " "
      ]
    },
    {
      "cell_type": "markdown",
      "metadata": {
        "id": "P4Hk-Q5bK8NX"
      },
      "source": [
        "## Matrices\n",
        "```\n",
        "11 12 13 14\n",
        "21 22 23 24\n",
        "31 32 33 34\n",
        "```\n",
        "\n",
        "This is a 2-d matrix of size 3x4.\\\n",
        "\n",
        "Matrices are present everywhere.  For example, a 5 megapixel photograph is a 2048×1536 sized matrix of pixels. If we want to apply a filter, the filter is also of the same size, we have to add the values of the photo and the filter.\n",
        "\n",
        "If we want to rotate the photo, we do a `transpose` of the matrix.\n",
        "\n",
        "If we want to do character recognition in the photo, then we have to take submatrices and do machine learning.\n",
        "\n",
        "We can also detect objects and people in the photo.  Face recognition or object recognition are machine learning problems.\n",
        "\n",
        "How will you represent this matrix in python?"
      ]
    },
    {
      "cell_type": "code",
      "metadata": {
        "id": "q7df6Nrrs7aX",
        "colab": {
          "base_uri": "https://localhost:8080/"
        },
        "outputId": "0909a0ca-6163-4c42-f76e-e2e5fc1bf905"
      },
      "source": [
        "l1=[11,12,13,14]\n",
        "l2=[21,22,23,24]\n",
        "l3=[31,32,33,34]\n",
        "\n",
        "matrix=[l1,l2,l3]\n",
        "matrix\n"
      ],
      "execution_count": null,
      "outputs": [
        {
          "output_type": "execute_result",
          "data": {
            "text/plain": [
              "[[11, 12, 13, 14], [21, 22, 23, 24], [31, 32, 33, 34]]"
            ]
          },
          "metadata": {
            "tags": []
          },
          "execution_count": 2
        }
      ]
    },
    {
      "cell_type": "code",
      "metadata": {
        "colab": {
          "base_uri": "https://localhost:8080/"
        },
        "id": "CEd-yrEYCref",
        "outputId": "683ad93f-55b0-4f26-bf20-ba5548873b79"
      },
      "source": [
        "l2.append(45)\n",
        "matrix"
      ],
      "execution_count": null,
      "outputs": [
        {
          "output_type": "execute_result",
          "data": {
            "text/plain": [
              "[[11, 12, 13, 14], [21, 22, 23, 24, 45], [31, 32, 33, 34]]"
            ]
          },
          "metadata": {
            "tags": []
          },
          "execution_count": 3
        }
      ]
    },
    {
      "cell_type": "code",
      "metadata": {
        "colab": {
          "base_uri": "https://localhost:8080/"
        },
        "id": "gYjzTNykDDdM",
        "outputId": "0dc8b7da-2aea-486e-c5e0-789954982033"
      },
      "source": [
        "l3.append(\"Hello\")\n",
        "l3"
      ],
      "execution_count": null,
      "outputs": [
        {
          "output_type": "execute_result",
          "data": {
            "text/plain": [
              "[31, 32, 33, 34, 'Hello']"
            ]
          },
          "metadata": {
            "tags": []
          },
          "execution_count": 4
        }
      ]
    },
    {
      "cell_type": "markdown",
      "metadata": {
        "id": "U6mV9DPGMQnz"
      },
      "source": [
        ""
      ]
    },
    {
      "cell_type": "markdown",
      "metadata": {
        "id": "IIZCjjXjMGgB"
      },
      "source": [
        "## Requirements for an array\n",
        "1. all the rows should be the same size\n",
        "2. all the elements should be the same type\n",
        "3. Mathematical operations should be fast.\n",
        "\n",
        "numpy array provides all these guarantees."
      ]
    },
    {
      "cell_type": "markdown",
      "metadata": {
        "id": "syhoN1uZaLDI"
      },
      "source": [
        "## Python List vs Numpy Arrays\n",
        "\n",
        "Limitations of Python List\n",
        "\n",
        "*   Python list act as an array that can store elements of various types.\n",
        "*   Checking for right number of elements in every dimension is not directly available.\n",
        "*   Element-wise mathematical operation is not possible using python list\n",
        "\n",
        "Numpy Arrays\n",
        "\n",
        "\n",
        "*   Numpy will store elements of homogenous type\n",
        "*   Element-wise mathematical operation is possible\n",
        "*   The storage and computation are efficient.\n",
        "\n",
        "\n",
        "\n",
        "\n",
        "\n"
      ]
    },
    {
      "cell_type": "code",
      "metadata": {
        "id": "b8CBYIBVL-pP"
      },
      "source": [
        ""
      ],
      "execution_count": null,
      "outputs": []
    },
    {
      "cell_type": "markdown",
      "metadata": {
        "id": "s5J9daTWgmLV"
      },
      "source": [
        "\n",
        "\n",
        "## Arrays\n",
        "\n",
        "Arrays are a collection of elements /values  that can have one or more dimensions.\n",
        "\n",
        "If it is one dimension it is called vector\n",
        "\n",
        "If it is  2 dimention then it is called matrix\n",
        "\n",
        "\n",
        "\n",
        "\n",
        "<img src = \"https://vrzkj25a871bpq7t1ugcgmn9-wpengine.netdna-ssl.com/wp-content/uploads/2018/11/numpy-arrays-have-axes.png\">  Axes </img>\n",
        "Source: https://www.sharpsightlabs.com/blog/numpy-axes-explained/"
      ]
    },
    {
      "cell_type": "code",
      "metadata": {
        "colab": {
          "base_uri": "https://localhost:8080/"
        },
        "id": "D9kIxlKagyc3",
        "outputId": "1e036c56-73a4-4f1e-eae7-36e030eec910"
      },
      "source": [
        "# Creating a Numpy Array (one dimentional)\n",
        "\n",
        "# To create a very basic ndarray, you use the np.array() method. All you have to do is pass the values of the array as a list.\n",
        "import numpy as np\n",
        "\n",
        "np.array([1,2,3,4])\n",
        "\n"
      ],
      "execution_count": null,
      "outputs": [
        {
          "output_type": "execute_result",
          "data": {
            "text/plain": [
              "array([1, 2, 3, 4])"
            ]
          },
          "metadata": {
            "tags": []
          },
          "execution_count": 2
        }
      ]
    },
    {
      "cell_type": "code",
      "metadata": {
        "colab": {
          "base_uri": "https://localhost:8080/"
        },
        "id": "wHaBF-i8hXeY",
        "outputId": "c0b9ab98-182a-4d2e-f064-df0bb45c91ea"
      },
      "source": [
        "# you can specify the type of data in the dtype argument.\n",
        "\n",
        "np.array([1.5,2.5,3.5,4.5], dtype = np.float32)"
      ],
      "execution_count": null,
      "outputs": [
        {
          "output_type": "execute_result",
          "data": {
            "text/plain": [
              "array([1.5, 2.5, 3.5, 4.5], dtype=float32)"
            ]
          },
          "metadata": {
            "tags": []
          },
          "execution_count": 19
        }
      ]
    },
    {
      "cell_type": "code",
      "metadata": {
        "colab": {
          "base_uri": "https://localhost:8080/"
        },
        "id": "DJF_KiYUiA3T",
        "outputId": "014a2b71-80c7-41d1-d73f-b9907d10ec4c"
      },
      "source": [
        "# Multidimentional array\n",
        "\n",
        "a = np.array([[1,2,3,3],\n",
        "          [2,3,4,5]])\n",
        "print(a)"
      ],
      "execution_count": null,
      "outputs": [
        {
          "output_type": "stream",
          "text": [
            "[[1 2 3 3]\n",
            " [2 3 4 5]]\n"
          ],
          "name": "stdout"
        }
      ]
    },
    {
      "cell_type": "code",
      "metadata": {
        "id": "3YOflk0R56KO",
        "colab": {
          "base_uri": "https://localhost:8080/"
        },
        "outputId": "86b4a564-7ccf-4f16-de27-1df4af6216f4"
      },
      "source": [
        "# dimension attribute\n",
        "a.ndim"
      ],
      "execution_count": null,
      "outputs": [
        {
          "output_type": "execute_result",
          "data": {
            "text/plain": [
              "2"
            ]
          },
          "metadata": {
            "tags": []
          },
          "execution_count": 24
        }
      ]
    },
    {
      "cell_type": "code",
      "metadata": {
        "id": "c9IE7TJl57nO",
        "colab": {
          "base_uri": "https://localhost:8080/"
        },
        "outputId": "a1bc280c-0243-4330-da27-f028832adb95"
      },
      "source": [
        "# attribute shape\n",
        "a.shape"
      ],
      "execution_count": null,
      "outputs": [
        {
          "output_type": "execute_result",
          "data": {
            "text/plain": [
              "(2, 4)"
            ]
          },
          "metadata": {
            "tags": []
          },
          "execution_count": 25
        }
      ]
    },
    {
      "cell_type": "markdown",
      "metadata": {
        "id": "I4WhrreD6Mwv"
      },
      "source": [
        "## Special types of matrices\n",
        "\n",
        "- All zeros\n",
        "- All ones\n",
        "- Identity matrix\n",
        "- Full matrix\n",
        "- Matrix with random numbers -- ints and floats\n",
        "- Evenly spaced matrix"
      ]
    },
    {
      "cell_type": "markdown",
      "metadata": {
        "id": "UmXu3XFp1Mil"
      },
      "source": [
        "### Array of zeros"
      ]
    },
    {
      "cell_type": "code",
      "metadata": {
        "colab": {
          "base_uri": "https://localhost:8080/"
        },
        "id": "4srmc-KUpdAQ",
        "outputId": "88a55fc1-c46b-4c3c-c5fe-36ff16b45396"
      },
      "source": [
        "\n",
        "\n",
        "# 1-D array\n",
        "\n",
        "np.zeros(6)\n",
        "\n"
      ],
      "execution_count": null,
      "outputs": [
        {
          "output_type": "execute_result",
          "data": {
            "text/plain": [
              "array([0., 0., 0., 0., 0., 0.])"
            ]
          },
          "metadata": {
            "tags": []
          },
          "execution_count": 26
        }
      ]
    },
    {
      "cell_type": "code",
      "metadata": {
        "colab": {
          "base_uri": "https://localhost:8080/"
        },
        "id": "QQ4sR50J0YNU",
        "outputId": "34df89e6-e6a5-4d7b-93ed-ea57d88dcb5c"
      },
      "source": [
        "import numpy as np\n",
        "\n",
        "np.zeros(6, dtype=int)"
      ],
      "execution_count": null,
      "outputs": [
        {
          "output_type": "execute_result",
          "data": {
            "text/plain": [
              "array([0, 0, 0, 0, 0, 0])"
            ]
          },
          "metadata": {
            "tags": []
          },
          "execution_count": 2
        }
      ]
    },
    {
      "cell_type": "code",
      "metadata": {
        "colab": {
          "base_uri": "https://localhost:8080/"
        },
        "id": "hR1yyf72qhPR",
        "outputId": "dbd441a8-5314-42e3-e267-7db2ca69b6ed"
      },
      "source": [
        "# 2-D array \n",
        "\n",
        "np.zeros((3,7))"
      ],
      "execution_count": null,
      "outputs": [
        {
          "output_type": "execute_result",
          "data": {
            "text/plain": [
              "array([[0., 0., 0., 0., 0., 0., 0.],\n",
              "       [0., 0., 0., 0., 0., 0., 0.],\n",
              "       [0., 0., 0., 0., 0., 0., 0.]])"
            ]
          },
          "metadata": {
            "tags": []
          },
          "execution_count": 27
        }
      ]
    },
    {
      "cell_type": "markdown",
      "metadata": {
        "id": "lZ_4VHp21DEv"
      },
      "source": [
        "### Arrays of ones"
      ]
    },
    {
      "cell_type": "code",
      "metadata": {
        "colab": {
          "base_uri": "https://localhost:8080/"
        },
        "id": "4krFirkfqRRW",
        "outputId": "101c3c16-5f22-4bcc-e50d-f2c27baaa3fa"
      },
      "source": [
        "\n",
        "\n",
        "# Create array of all ones\n",
        "np.ones(4,dtype= np.float32)"
      ],
      "execution_count": null,
      "outputs": [
        {
          "output_type": "execute_result",
          "data": {
            "text/plain": [
              "array([1., 1., 1., 1.], dtype=float32)"
            ]
          },
          "metadata": {
            "tags": []
          },
          "execution_count": 10
        }
      ]
    },
    {
      "cell_type": "markdown",
      "metadata": {
        "id": "SYdGlfvHr2Gh"
      },
      "source": [
        "### Random Numbers in ndarrays"
      ]
    },
    {
      "cell_type": "code",
      "metadata": {
        "colab": {
          "base_uri": "https://localhost:8080/"
        },
        "id": "P7LV8TtKr8Jg",
        "outputId": "707dad77-6a16-498b-a3fb-cd6fddaecd03"
      },
      "source": [
        "# random floats\n",
        "a1 = np.random.rand(3,4)\n",
        "a1"
      ],
      "execution_count": null,
      "outputs": [
        {
          "output_type": "execute_result",
          "data": {
            "text/plain": [
              "array([[0.93291508, 0.81966979, 0.58705643, 0.20165397],\n",
              "       [0.07104826, 0.57721317, 0.40271292, 0.67418148],\n",
              "       [0.4674256 , 0.10874907, 0.84897925, 0.08319609]])"
            ]
          },
          "metadata": {
            "tags": []
          },
          "execution_count": 33
        }
      ]
    },
    {
      "cell_type": "code",
      "metadata": {
        "colab": {
          "base_uri": "https://localhost:8080/"
        },
        "id": "7H8WuN3sNnqR",
        "outputId": "e1cbfdd8-f88d-4a30-e61e-54832c1757df"
      },
      "source": [
        "a1[:,1]"
      ],
      "execution_count": null,
      "outputs": [
        {
          "output_type": "execute_result",
          "data": {
            "text/plain": [
              "array([0.81966979, 0.57721317, 0.10874907])"
            ]
          },
          "metadata": {
            "tags": []
          },
          "execution_count": 34
        }
      ]
    },
    {
      "cell_type": "code",
      "metadata": {
        "id": "OB956INXqPH_",
        "colab": {
          "base_uri": "https://localhost:8080/"
        },
        "outputId": "fcf342b8-1e0e-4115-bf50-6dfc991d6a80"
      },
      "source": [
        "# max value is 4, size is 10\n",
        "np.random.randint(5, size=10)\n"
      ],
      "execution_count": null,
      "outputs": [
        {
          "output_type": "execute_result",
          "data": {
            "text/plain": [
              "array([3, 2, 1, 2, 4, 3, 1, 4, 2, 1])"
            ]
          },
          "metadata": {
            "tags": []
          },
          "execution_count": 35
        }
      ]
    },
    {
      "cell_type": "code",
      "metadata": {
        "colab": {
          "base_uri": "https://localhost:8080/"
        },
        "id": "jV_zlbtGqUDR",
        "outputId": "72ead6ac-da06-47d2-86ae-c5abc2126233"
      },
      "source": [
        "# 10 random numbers between 50 and 54\n",
        "np.random.randint(50, 55, size=10)\n"
      ],
      "execution_count": null,
      "outputs": [
        {
          "output_type": "execute_result",
          "data": {
            "text/plain": [
              "array([52, 50, 54, 52, 50, 50, 51, 54, 51, 50])"
            ]
          },
          "metadata": {
            "tags": []
          },
          "execution_count": 36
        }
      ]
    },
    {
      "cell_type": "code",
      "metadata": {
        "colab": {
          "base_uri": "https://localhost:8080/"
        },
        "id": "qLVNBzpMqdoe",
        "outputId": "0b7c79d9-c9a6-4a07-de63-883de5bb3b74"
      },
      "source": [
        "# 15 random numbers  as a 5x3 matrix with numbers between 50 and 54\n",
        "np.random.randint(50, 55, size=(5, 3))\n"
      ],
      "execution_count": null,
      "outputs": [
        {
          "output_type": "execute_result",
          "data": {
            "text/plain": [
              "array([[51, 50, 54],\n",
              "       [54, 51, 54],\n",
              "       [53, 51, 52],\n",
              "       [51, 50, 54],\n",
              "       [52, 54, 50]])"
            ]
          },
          "metadata": {
            "tags": []
          },
          "execution_count": 37
        }
      ]
    },
    {
      "cell_type": "markdown",
      "metadata": {
        "id": "D1Ogd0rnscZ3"
      },
      "source": [
        "### A full array"
      ]
    },
    {
      "cell_type": "code",
      "metadata": {
        "colab": {
          "base_uri": "https://localhost:8080/"
        },
        "id": "6V0fb_0nslYc",
        "outputId": "07a00047-a858-4cde-d611-e16238010af6"
      },
      "source": [
        "# Create an array filled with any given value\n",
        "\n",
        "np.full((3,5),5)"
      ],
      "execution_count": null,
      "outputs": [
        {
          "output_type": "execute_result",
          "data": {
            "text/plain": [
              "array([[5, 5, 5, 5, 5],\n",
              "       [5, 5, 5, 5, 5],\n",
              "       [5, 5, 5, 5, 5]])"
            ]
          },
          "metadata": {
            "tags": []
          },
          "execution_count": 40
        }
      ]
    },
    {
      "cell_type": "markdown",
      "metadata": {
        "id": "vB0Q7SWjs-pV"
      },
      "source": [
        "### Identity matrix in Numpy"
      ]
    },
    {
      "cell_type": "code",
      "metadata": {
        "colab": {
          "base_uri": "https://localhost:8080/"
        },
        "id": "Kcl_8bHgtFso",
        "outputId": "c73d1f6f-9183-4974-eb88-2120c4290323"
      },
      "source": [
        "# Another method is np.eye() that returns an array with 1s along its diagonal and 0s everywhere else\n",
        "# Identity matrix\n",
        "# m * i = m\n",
        "\n",
        "np.eye(4)"
      ],
      "execution_count": null,
      "outputs": [
        {
          "output_type": "execute_result",
          "data": {
            "text/plain": [
              "array([[1., 0., 0., 0.],\n",
              "       [0., 1., 0., 0.],\n",
              "       [0., 0., 1., 0.],\n",
              "       [0., 0., 0., 1.]])"
            ]
          },
          "metadata": {
            "tags": []
          },
          "execution_count": 41
        }
      ]
    },
    {
      "cell_type": "markdown",
      "metadata": {
        "id": "6C1bqmAsttBc"
      },
      "source": [
        "Numpy gives you the flexibility to change the diagonal along which the values have to be 1s. You can move it above the main diagonal.\n"
      ]
    },
    {
      "cell_type": "code",
      "metadata": {
        "colab": {
          "base_uri": "https://localhost:8080/"
        },
        "id": "-Ehw9xpqzYxP",
        "outputId": "e4c8be55-151d-4abf-939a-b46d5b09d619"
      },
      "source": [
        "np.eye(3,k=1)"
      ],
      "execution_count": null,
      "outputs": [
        {
          "output_type": "execute_result",
          "data": {
            "text/plain": [
              "array([[0., 1., 0.],\n",
              "       [0., 0., 1.],\n",
              "       [0., 0., 0.]])"
            ]
          },
          "metadata": {
            "tags": []
          },
          "execution_count": 49
        }
      ]
    },
    {
      "cell_type": "code",
      "metadata": {
        "colab": {
          "base_uri": "https://localhost:8080/"
        },
        "id": "ZfmV5bPxzr0F",
        "outputId": "118962b2-b4fa-4f5a-af72-999157a6a150"
      },
      "source": [
        "# if you want to move it below the diagonal\n",
        "\n",
        "np.eye(3,k=-1)"
      ],
      "execution_count": null,
      "outputs": [
        {
          "output_type": "execute_result",
          "data": {
            "text/plain": [
              "array([[0., 0., 0.],\n",
              "       [1., 0., 0.],\n",
              "       [0., 1., 0.]])"
            ]
          },
          "metadata": {
            "tags": []
          },
          "execution_count": 50
        }
      ]
    },
    {
      "cell_type": "code",
      "metadata": {
        "id": "FZ_ICno927t7"
      },
      "source": [
        "(n x m) (m x k)  = (n x k)\n",
        "\n",
        "(2 x 3) (3 x3) = (2 x 3)\n",
        "\n"
      ],
      "execution_count": null,
      "outputs": []
    },
    {
      "cell_type": "code",
      "metadata": {
        "colab": {
          "base_uri": "https://localhost:8080/"
        },
        "id": "Q53LS4YV27gF",
        "outputId": "0ce6afdb-fdbd-4311-a1dc-afb11cbeeb1b"
      },
      "source": [
        "m1 = np.array([1, 2, 3, 4, 5, 6]).reshape(2,3)\n",
        "m2 = np.ones((3,3), dtype=int)\n",
        "print(m1)\n",
        "print(m2)\n",
        "np.matmul(m1, m2)"
      ],
      "execution_count": null,
      "outputs": [
        {
          "output_type": "stream",
          "text": [
            "[[1 2 3]\n",
            " [4 5 6]]\n",
            "[[1 1 1]\n",
            " [1 1 1]\n",
            " [1 1 1]]\n"
          ],
          "name": "stdout"
        },
        {
          "output_type": "execute_result",
          "data": {
            "text/plain": [
              "array([[ 6,  6,  6],\n",
              "       [15, 15, 15]])"
            ]
          },
          "metadata": {
            "tags": []
          },
          "execution_count": 9
        }
      ]
    },
    {
      "cell_type": "code",
      "metadata": {
        "colab": {
          "base_uri": "https://localhost:8080/"
        },
        "id": "iyzUoZmD4VUv",
        "outputId": "9b4f1763-df25-4073-aecb-1df13e83761d"
      },
      "source": [
        "m3 = np.full(shape=(3,3),fill_value=2)\n",
        "print(m1)\n",
        "print(m3)\n",
        "np.matmul(m1, m3)"
      ],
      "execution_count": null,
      "outputs": [
        {
          "output_type": "stream",
          "text": [
            "[[1 2 3]\n",
            " [4 5 6]]\n",
            "[[2 2 2]\n",
            " [2 2 2]\n",
            " [2 2 2]]\n"
          ],
          "name": "stdout"
        },
        {
          "output_type": "execute_result",
          "data": {
            "text/plain": [
              "array([[12, 12, 12],\n",
              "       [30, 30, 30]])"
            ]
          },
          "metadata": {
            "tags": []
          },
          "execution_count": 12
        }
      ]
    },
    {
      "cell_type": "code",
      "metadata": {
        "colab": {
          "base_uri": "https://localhost:8080/"
        },
        "id": "GRF-lSCR4tYx",
        "outputId": "18c318a8-094d-4e1b-f4e6-7930d927f4af"
      },
      "source": [
        "np.matmul(m1, np.eye(3, 3, dtype=int) )"
      ],
      "execution_count": null,
      "outputs": [
        {
          "output_type": "execute_result",
          "data": {
            "text/plain": [
              "array([[1, 2, 3],\n",
              "       [4, 5, 6]])"
            ]
          },
          "metadata": {
            "tags": []
          },
          "execution_count": 14
        }
      ]
    },
    {
      "cell_type": "markdown",
      "metadata": {
        "id": "GxEHYofi211z"
      },
      "source": [
        "### Evenly spaced ndarray"
      ]
    },
    {
      "cell_type": "code",
      "metadata": {
        "colab": {
          "base_uri": "https://localhost:8080/"
        },
        "id": "TRo4yd23Lyik",
        "outputId": "06b21e4f-9791-480a-9591-51b81c69aafb"
      },
      "source": [
        "\n",
        "# You can get an evenly spaced array of numbers using np.arange() method.\n",
        "\n",
        "np.arange(5)\n"
      ],
      "execution_count": null,
      "outputs": [
        {
          "output_type": "execute_result",
          "data": {
            "text/plain": [
              "array([0, 1, 2, 3, 4])"
            ]
          },
          "metadata": {
            "tags": []
          },
          "execution_count": 44
        }
      ]
    },
    {
      "cell_type": "code",
      "metadata": {
        "colab": {
          "base_uri": "https://localhost:8080/"
        },
        "id": "uyVstCwJPPHu",
        "outputId": "2db4c38a-69db-4918-d524-18a739a90642"
      },
      "source": [
        "# The start, end and step size of the interval values can defined by passing 3 numbers\n",
        "\n",
        "np.arange(2,10,2)"
      ],
      "execution_count": null,
      "outputs": [
        {
          "output_type": "execute_result",
          "data": {
            "text/plain": [
              "array([2, 4, 6, 8])"
            ]
          },
          "metadata": {
            "tags": []
          },
          "execution_count": 45
        }
      ]
    },
    {
      "cell_type": "code",
      "metadata": {
        "id": "Pdb77m9DQlFh",
        "colab": {
          "base_uri": "https://localhost:8080/"
        },
        "outputId": "633b0412-7511-4a10-dee3-704fce6413c7"
      },
      "source": [
        "# Another similar function is np.linspace(), but instead of stepwise, it takes the number of samples that need to be retrieved from the interval.\n",
        "# The last number is included in the values\n",
        "\n",
        "np.linspace(0,2,6)"
      ],
      "execution_count": null,
      "outputs": [
        {
          "output_type": "execute_result",
          "data": {
            "text/plain": [
              "array([[0. , 0.4],\n",
              "       [0.8, 1.2],\n",
              "       [1.6, 2. ]])"
            ]
          },
          "metadata": {
            "tags": []
          },
          "execution_count": 3
        }
      ]
    },
    {
      "cell_type": "markdown",
      "metadata": {
        "id": "gFLW-XbM6TDD"
      },
      "source": [
        "## The Shape and Reshaping of Numpy Arrays\n",
        "\n",
        "---Once you have created your ndarray, next thing is to check the number of axes, shape and size of ndarray\n",
        "\n"
      ]
    },
    {
      "cell_type": "code",
      "metadata": {
        "colab": {
          "base_uri": "https://localhost:8080/",
          "height": 263
        },
        "id": "C9bNK3Ry6U53",
        "outputId": "da95163c-43f7-4fad-9955-6a0aa04bf4d6"
      },
      "source": [
        "# Determine the axis or dimensions \n",
        "\n",
        "a= np.array([[5,4,3,1],[3,6,7,9]])\n",
        "\n",
        "\n",
        "a.size\n"
      ],
      "execution_count": null,
      "outputs": [
        {
          "output_type": "error",
          "ename": "NameError",
          "evalue": "ignored",
          "traceback": [
            "\u001b[0;31m---------------------------------------------------------------------------\u001b[0m",
            "\u001b[0;31mNameError\u001b[0m                                 Traceback (most recent call last)",
            "\u001b[0;32m<ipython-input-1-6bbeca460c1b>\u001b[0m in \u001b[0;36m<module>\u001b[0;34m()\u001b[0m\n\u001b[1;32m      1\u001b[0m \u001b[0;31m# Determine the axis or dimensions\u001b[0m\u001b[0;34m\u001b[0m\u001b[0;34m\u001b[0m\u001b[0;34m\u001b[0m\u001b[0m\n\u001b[1;32m      2\u001b[0m \u001b[0;34m\u001b[0m\u001b[0m\n\u001b[0;32m----> 3\u001b[0;31m \u001b[0ma\u001b[0m\u001b[0;34m=\u001b[0m \u001b[0mnp\u001b[0m\u001b[0;34m.\u001b[0m\u001b[0marray\u001b[0m\u001b[0;34m(\u001b[0m\u001b[0;34m[\u001b[0m\u001b[0;34m[\u001b[0m\u001b[0;36m5\u001b[0m\u001b[0;34m,\u001b[0m\u001b[0;36m4\u001b[0m\u001b[0;34m,\u001b[0m\u001b[0;36m3\u001b[0m\u001b[0;34m,\u001b[0m\u001b[0;36m1\u001b[0m\u001b[0;34m]\u001b[0m\u001b[0;34m,\u001b[0m\u001b[0;34m[\u001b[0m\u001b[0;36m3\u001b[0m\u001b[0;34m,\u001b[0m\u001b[0;36m6\u001b[0m\u001b[0;34m,\u001b[0m\u001b[0;36m7\u001b[0m\u001b[0;34m,\u001b[0m\u001b[0;36m9\u001b[0m\u001b[0;34m]\u001b[0m\u001b[0;34m]\u001b[0m\u001b[0;34m)\u001b[0m\u001b[0;34m\u001b[0m\u001b[0;34m\u001b[0m\u001b[0m\n\u001b[0m\u001b[1;32m      4\u001b[0m \u001b[0;34m\u001b[0m\u001b[0m\n\u001b[1;32m      5\u001b[0m \u001b[0;34m\u001b[0m\u001b[0m\n",
            "\u001b[0;31mNameError\u001b[0m: name 'np' is not defined"
          ]
        }
      ]
    },
    {
      "cell_type": "markdown",
      "metadata": {
        "id": "3K5uZHq49Qsz"
      },
      "source": [
        "## Reshaping a Numpy array\n",
        "\n",
        "It changes the shape of the ndarray without changing the data within the ndarray\n"
      ]
    },
    {
      "cell_type": "code",
      "metadata": {
        "colab": {
          "base_uri": "https://localhost:8080/"
        },
        "id": "Z8Y_Zw8-9g-H",
        "outputId": "01ab6aeb-866e-4e63-9984-c0b640e81662"
      },
      "source": [
        "b = np.array([4,5,6,7,7,8])\n",
        "np.reshape(b,(2,3))"
      ],
      "execution_count": null,
      "outputs": [
        {
          "output_type": "execute_result",
          "data": {
            "text/plain": [
              "array([[4, 5, 6],\n",
              "       [7, 7, 8]])"
            ]
          },
          "metadata": {
            "tags": []
          },
          "execution_count": 57
        }
      ]
    },
    {
      "cell_type": "markdown",
      "metadata": {
        "id": "GhYezKMp-V6v"
      },
      "source": [
        "### Flattening a Numpy array\n",
        " \n",
        " Sometimes when you have a multidimentional array and want to collapse it to a single-dimentional array."
      ]
    },
    {
      "cell_type": "code",
      "metadata": {
        "colab": {
          "base_uri": "https://localhost:8080/"
        },
        "id": "LJXcmVdE_J_u",
        "outputId": "f97c53bf-dfbd-4a68-8cd2-4f7fff033ea5"
      },
      "source": [
        "a = np.ones((3,2))\n",
        "b = a.flatten()\n",
        "print(a)\n",
        "print(b)\n"
      ],
      "execution_count": null,
      "outputs": [
        {
          "output_type": "stream",
          "text": [
            "[[1. 1.]\n",
            " [1. 1.]\n",
            " [1. 1.]]\n",
            "[1. 1. 1. 1. 1. 1.]\n"
          ],
          "name": "stdout"
        }
      ]
    },
    {
      "cell_type": "code",
      "metadata": {
        "colab": {
          "base_uri": "https://localhost:8080/"
        },
        "id": "sWUe5oxUSQhG",
        "outputId": "3b2a3372-590b-48b5-e059-50c16fb2eaa0"
      },
      "source": [
        "l1=[2,4,5]\n",
        "l2=l1\n",
        "l2[1]=\"r\"\n",
        "l1\n",
        "l2"
      ],
      "execution_count": null,
      "outputs": [
        {
          "output_type": "execute_result",
          "data": {
            "text/plain": [
              "[2, 'r', 5]"
            ]
          },
          "metadata": {
            "tags": []
          },
          "execution_count": 61
        }
      ]
    },
    {
      "cell_type": "code",
      "metadata": {
        "colab": {
          "base_uri": "https://localhost:8080/"
        },
        "id": "-lCoj2MDSk0U",
        "outputId": "f5e0840b-b605-457b-9e6d-aeb839f28af4"
      },
      "source": [
        "from copy import deepcopy\n",
        "l1=[2,4,5]\n",
        "l2=deepcopy(l1)\n",
        "l2[1]=\"r\"\n",
        "l1\n",
        "l2\n",
        "\n"
      ],
      "execution_count": null,
      "outputs": [
        {
          "output_type": "execute_result",
          "data": {
            "text/plain": [
              "[2, 'r', 5]"
            ]
          },
          "metadata": {
            "tags": []
          },
          "execution_count": 60
        }
      ]
    },
    {
      "cell_type": "code",
      "metadata": {
        "colab": {
          "base_uri": "https://localhost:8080/"
        },
        "id": "meZb5-NWX_C0",
        "outputId": "cafb6535-f328-4dde-8d90-14d1e3dc8e3c"
      },
      "source": [
        "l1=[1,2,3]\n",
        "l2=l1\n",
        "l2[1]='b'\n",
        "l1"
      ],
      "execution_count": null,
      "outputs": [
        {
          "output_type": "execute_result",
          "data": {
            "text/plain": [
              "[1, 'b', 3]"
            ]
          },
          "metadata": {
            "tags": []
          },
          "execution_count": 16
        }
      ]
    },
    {
      "cell_type": "code",
      "metadata": {
        "colab": {
          "base_uri": "https://localhost:8080/"
        },
        "id": "fhETo5AyY5Aq",
        "outputId": "e7db614f-c18f-452c-e4d9-c1cb798a201b"
      },
      "source": [
        "from copy import deepcopy\n",
        "l1=[1,2,3]\n",
        "l2=deepcopy(l1)\n",
        "l2[1]=\"b\"\n",
        "l1\n",
        "l2"
      ],
      "execution_count": null,
      "outputs": [
        {
          "output_type": "execute_result",
          "data": {
            "text/plain": [
              "[1, 'b', 3]"
            ]
          },
          "metadata": {
            "tags": []
          },
          "execution_count": 18
        }
      ]
    },
    {
      "cell_type": "code",
      "metadata": {
        "colab": {
          "base_uri": "https://localhost:8080/"
        },
        "id": "IefEWJktAJoA",
        "outputId": "48cfb509-1830-4dd8-f8dc-ca338d62a561"
      },
      "source": [
        "l1 = [1, 2, 3]\n",
        "l2 = l1\n",
        "l2[1] = 'a'\n",
        "l1"
      ],
      "execution_count": null,
      "outputs": [
        {
          "output_type": "execute_result",
          "data": {
            "text/plain": [
              "[1, 'a', 3]"
            ]
          },
          "metadata": {
            "tags": []
          },
          "execution_count": 5
        }
      ]
    },
    {
      "cell_type": "code",
      "metadata": {
        "colab": {
          "base_uri": "https://localhost:8080/"
        },
        "id": "7ZPWMcflAbN0",
        "outputId": "1f29656b-bf00-4510-8565-2707baeb9b22"
      },
      "source": [
        "from copy import deepcopy\n",
        "l1 = [1, 2, 3]\n",
        "l2 = deepcopy(l1)\n",
        "l2[1] = 'hello'\n",
        "print(l1)\n",
        "print(l2)"
      ],
      "execution_count": null,
      "outputs": [
        {
          "output_type": "stream",
          "text": [
            "[1, 2, 3]\n",
            "[1, 'hello', 3]\n"
          ],
          "name": "stdout"
        }
      ]
    },
    {
      "cell_type": "code",
      "metadata": {
        "colab": {
          "base_uri": "https://localhost:8080/"
        },
        "id": "VsS2qTJXBgdx",
        "outputId": "417c76d7-bd74-4794-f08c-6175aa2d753f"
      },
      "source": [
        "a = np.ones((3,2))\n",
        "b = a.ravel()\n",
        "b[2] = 2\n",
        "print(a)\n",
        "print(b)"
      ],
      "execution_count": null,
      "outputs": [
        {
          "output_type": "stream",
          "text": [
            "[[1. 1.]\n",
            " [2. 1.]\n",
            " [1. 1.]]\n",
            "[1. 1. 2. 1. 1. 1.]\n"
          ],
          "name": "stdout"
        }
      ]
    },
    {
      "cell_type": "code",
      "metadata": {
        "colab": {
          "base_uri": "https://localhost:8080/"
        },
        "id": "7ZcOzP87DFx1",
        "outputId": "bd323858-0734-463c-8748-288385b42ec6"
      },
      "source": [
        "a_2d_view = np.ones((3,2))\n",
        "a_1d_view = a_2d_view.ravel()\n",
        "a_1d_view[2] = 5\n",
        "print(a_2d_view)\n",
        "print(a_1d_view)\n"
      ],
      "execution_count": null,
      "outputs": [
        {
          "output_type": "stream",
          "text": [
            "[[1. 1.]\n",
            " [5. 1.]\n",
            " [1. 1.]]\n",
            "[1. 1. 5. 1. 1. 1.]\n"
          ],
          "name": "stdout"
        }
      ]
    },
    {
      "cell_type": "markdown",
      "metadata": {
        "id": "F-ceaPGUpfIL"
      },
      "source": [
        "### Transpose of a Numpy array\n",
        "\n",
        "Another reshaping method of numpy is the transpose (). It takes the input array and swaps the row with column and column values with the row values. It is very useful in linear algebra."
      ]
    },
    {
      "cell_type": "code",
      "metadata": {
        "colab": {
          "base_uri": "https://localhost:8080/"
        },
        "id": "05skYg_Kqm7L",
        "outputId": "8369801d-0018-4d2c-e725-d905aacabd49"
      },
      "source": [
        "a3 = np.array([[1,5,7,8],[6,8,9,10]])\n",
        "\n",
        "a3\n",
        "\n",
        "b2 =np.transpose(a3)\n",
        "b2\n"
      ],
      "execution_count": null,
      "outputs": [
        {
          "output_type": "execute_result",
          "data": {
            "text/plain": [
              "array([[ 1,  6],\n",
              "       [ 5,  8],\n",
              "       [ 7,  9],\n",
              "       [ 8, 10]])"
            ]
          },
          "metadata": {
            "tags": []
          },
          "execution_count": 64
        }
      ]
    },
    {
      "cell_type": "markdown",
      "metadata": {
        "id": "Hfl8rvSisFzf"
      },
      "source": [
        "### Expanding and Squeezing a Numpy array\n",
        "\n",
        "Expanding a Numpy array\n",
        "\n",
        "You can add a new axis to an array using the expand_dims()"
      ]
    },
    {
      "cell_type": "code",
      "metadata": {
        "colab": {
          "base_uri": "https://localhost:8080/"
        },
        "id": "Cw102PBes6JM",
        "outputId": "c0ba2d27-7610-425e-b764-b760dca961fa"
      },
      "source": [
        "a = np.array([3,2,1])\n",
        "b = np.expand_dims(a,axis=0)\n",
        "c = np.expand_dims(a,axis=1)\n",
        "print(b)\n",
        "print(c)"
      ],
      "execution_count": null,
      "outputs": [
        {
          "output_type": "stream",
          "text": [
            "[[3 2 1]]\n",
            "[[3]\n",
            " [2]\n",
            " [1]]\n"
          ],
          "name": "stdout"
        }
      ]
    },
    {
      "cell_type": "code",
      "metadata": {
        "colab": {
          "base_uri": "https://localhost:8080/"
        },
        "id": "e3S6BFM_rt0Z",
        "outputId": "cb8f1cb2-bbd9-4c81-fac4-64aedcc205b7"
      },
      "source": [
        "a = [[5, 4, 3,  2, 1]]\n",
        "# is a 1-D array or a 2-D matrix?\n",
        "\n",
        "# it is a 2-D matrix od dimension 1x5\n",
        "# this will be useful to have it as a matrix in many contexts, \n",
        "# image manipualtion, deep learning etc.\n",
        "\n",
        "# Sometimes it is easier to deal with one fewer dimensions. \n",
        "# then we will squeeze a dimension out.\n",
        "\n",
        "np.squeeze(a) # will give as a 1-D array.\n"
      ],
      "execution_count": null,
      "outputs": [
        {
          "output_type": "execute_result",
          "data": {
            "text/plain": [
              "array([5, 4, 3, 2, 1])"
            ]
          },
          "metadata": {
            "tags": []
          },
          "execution_count": 24
        }
      ]
    },
    {
      "cell_type": "code",
      "metadata": {
        "colab": {
          "base_uri": "https://localhost:8080/"
        },
        "id": "Z278H_wKyl9W",
        "outputId": "a182c857-c6cc-458b-c0c3-957b31d792d6"
      },
      "source": [
        "a = np.array([[[1,2,3],\n",
        "[4,5,6]]])\n",
        "b = np.squeeze(a, axis=0)\n",
        "b\n",
        "\n",
        "\n",
        "\n"
      ],
      "execution_count": null,
      "outputs": [
        {
          "output_type": "execute_result",
          "data": {
            "text/plain": [
              "array([[1, 2, 3],\n",
              "       [4, 5, 6]])"
            ]
          },
          "metadata": {
            "tags": []
          },
          "execution_count": 23
        }
      ]
    },
    {
      "cell_type": "markdown",
      "metadata": {
        "id": "muWcpHUX2GkZ"
      },
      "source": [
        "## Indexing and slicing\n",
        "\n",
        "We know how to index and slice in python lists."
      ]
    },
    {
      "cell_type": "code",
      "metadata": {
        "colab": {
          "base_uri": "https://localhost:8080/"
        },
        "id": "QVgqgvSw2EK2",
        "outputId": "5c8201f6-1586-4c5f-efaf-ac32b4f5ac4e"
      },
      "source": [
        "l = list(range(10))\n",
        "# indexing\n",
        "print(l[5])\n",
        "\n",
        "print(l[1:5])"
      ],
      "execution_count": null,
      "outputs": [
        {
          "output_type": "stream",
          "text": [
            "5\n",
            "[1, 2, 3, 4]\n"
          ],
          "name": "stdout"
        }
      ]
    },
    {
      "cell_type": "markdown",
      "metadata": {
        "id": "iGC5Ivgg2VdU"
      },
      "source": [
        "Now we will do it for numpy arrays.  We will start with a simple 1-D array."
      ]
    },
    {
      "cell_type": "code",
      "metadata": {
        "colab": {
          "base_uri": "https://localhost:8080/"
        },
        "id": "tcOn2TJt2EA2",
        "outputId": "e8d7f35c-2f1b-4126-9641-0db4a19c71d1"
      },
      "source": [
        "a = np.arange(10)\n",
        "a.shape"
      ],
      "execution_count": null,
      "outputs": [
        {
          "output_type": "execute_result",
          "data": {
            "text/plain": [
              "(10,)"
            ]
          },
          "metadata": {
            "tags": []
          },
          "execution_count": 89
        }
      ]
    },
    {
      "cell_type": "code",
      "metadata": {
        "colab": {
          "base_uri": "https://localhost:8080/"
        },
        "id": "OywSK63X2DtB",
        "outputId": "76901b89-b927-4a9c-b735-b6c775a72377"
      },
      "source": [
        "print(a[5])\n",
        "print(a[1:5])"
      ],
      "execution_count": null,
      "outputs": [
        {
          "output_type": "stream",
          "text": [
            "5\n",
            "[1 2 3 4]\n"
          ],
          "name": "stdout"
        }
      ]
    },
    {
      "cell_type": "markdown",
      "metadata": {
        "id": "5LFHLqMQ77oy"
      },
      "source": [
        "How to index a multidemsional array? \n",
        "The individual elements of arrays can be accessed in the same way as for lists.\n",
        "\n",
        "s![numpy_indexing.png](data:image/png;base64,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)"
      ]
    },
    {
      "cell_type": "code",
      "metadata": {
        "colab": {
          "base_uri": "https://localhost:8080/"
        },
        "id": "Suwa4KJ97Ith",
        "outputId": "d8b9d6ac-3555-4210-b3fe-d80e3c751f37"
      },
      "source": [
        "a5 = np.arange(25).reshape(5,5)\n",
        "a5"
      ],
      "execution_count": null,
      "outputs": [
        {
          "output_type": "execute_result",
          "data": {
            "text/plain": [
              "array([[ 0,  1,  2,  3,  4],\n",
              "       [ 5,  6,  7,  8,  9],\n",
              "       [10, 11, 12, 13, 14],\n",
              "       [15, 16, 17, 18, 19],\n",
              "       [20, 21, 22, 23, 24]])"
            ]
          },
          "metadata": {
            "tags": []
          },
          "execution_count": 91
        }
      ]
    },
    {
      "cell_type": "code",
      "metadata": {
        "colab": {
          "base_uri": "https://localhost:8080/"
        },
        "id": "HbFYPh_275O3",
        "outputId": "fe2e1d63-8d02-4341-9184-50c2ce26db14"
      },
      "source": [
        "print(a5[1, 3])"
      ],
      "execution_count": null,
      "outputs": [
        {
          "output_type": "stream",
          "text": [
            "8\n"
          ],
          "name": "stdout"
        }
      ]
    },
    {
      "cell_type": "code",
      "metadata": {
        "colab": {
          "base_uri": "https://localhost:8080/"
        },
        "id": "yHcT2Od89c75",
        "outputId": "1016cdb0-6ee5-4820-eec5-c0bec8d6ced8"
      },
      "source": [
        "a5[0:2, 1]"
      ],
      "execution_count": null,
      "outputs": [
        {
          "output_type": "execute_result",
          "data": {
            "text/plain": [
              "array([1, 6])"
            ]
          },
          "metadata": {
            "tags": []
          },
          "execution_count": 93
        }
      ]
    },
    {
      "cell_type": "code",
      "metadata": {
        "colab": {
          "base_uri": "https://localhost:8080/"
        },
        "id": "5R3MHGFZDJI7",
        "outputId": "4b865166-c20f-43e9-fa25-cb2a6a81538b"
      },
      "source": [
        "a5[3]"
      ],
      "execution_count": null,
      "outputs": [
        {
          "output_type": "execute_result",
          "data": {
            "text/plain": [
              "array([15, 16, 17, 18, 19])"
            ]
          },
          "metadata": {
            "tags": []
          },
          "execution_count": 60
        }
      ]
    },
    {
      "cell_type": "code",
      "metadata": {
        "colab": {
          "base_uri": "https://localhost:8080/"
        },
        "id": "qrypsUXF9-VH",
        "outputId": "0a965f35-02af-481f-bcf3-ba612b436292"
      },
      "source": [
        "a5[1:4,1:4]"
      ],
      "execution_count": null,
      "outputs": [
        {
          "output_type": "execute_result",
          "data": {
            "text/plain": [
              "array([[ 6,  7,  8],\n",
              "       [11, 12, 13],\n",
              "       [16, 17, 18]])"
            ]
          },
          "metadata": {
            "tags": []
          },
          "execution_count": 61
        }
      ]
    },
    {
      "cell_type": "code",
      "metadata": {
        "colab": {
          "base_uri": "https://localhost:8080/"
        },
        "id": "SXydSYTpDqYa",
        "outputId": "a282752a-c83e-4627-b931-007fb2ca8800"
      },
      "source": [
        "a5[1:3, 1:]"
      ],
      "execution_count": null,
      "outputs": [
        {
          "output_type": "execute_result",
          "data": {
            "text/plain": [
              "array([[ 6,  7,  8,  9],\n",
              "       [11, 12, 13, 14]])"
            ]
          },
          "metadata": {
            "tags": []
          },
          "execution_count": 62
        }
      ]
    },
    {
      "cell_type": "markdown",
      "metadata": {
        "id": "ZE9qahZQWpck"
      },
      "source": [
        "### 3-D array\n",
        "\n",
        "![3d-ndarray.png](data:image/png;base64,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)\n",
        "(from:https://www.analyticsvidhya.com/blog/2020/04/the-ultimate-numpy-tutorial-for-data-science-beginners/)"
      ]
    },
    {
      "cell_type": "code",
      "metadata": {
        "colab": {
          "base_uri": "https://localhost:8080/"
        },
        "id": "rUPHsSJsW_55",
        "outputId": "cbbcbc76-49cf-4596-b666-222c82aaa8ef"
      },
      "source": [
        "a = np.array(np.arange(1,19)).reshape(3,3,2)\n",
        "\n",
        "a\n"
      ],
      "execution_count": null,
      "outputs": [
        {
          "output_type": "execute_result",
          "data": {
            "text/plain": [
              "array([[[ 1,  2],\n",
              "        [ 3,  4],\n",
              "        [ 5,  6]],\n",
              "\n",
              "       [[ 7,  8],\n",
              "        [ 9, 10],\n",
              "        [11, 12]],\n",
              "\n",
              "       [[13, 14],\n",
              "        [15, 16],\n",
              "        [17, 18]]])"
            ]
          },
          "metadata": {
            "tags": []
          },
          "execution_count": 32
        }
      ]
    },
    {
      "cell_type": "code",
      "metadata": {
        "colab": {
          "base_uri": "https://localhost:8080/"
        },
        "id": "PR7Ycrn8klkD",
        "outputId": "977603d6-d85c-4c15-a0da-6db14748b499"
      },
      "source": [
        "a[:, 0]"
      ],
      "execution_count": null,
      "outputs": [
        {
          "output_type": "execute_result",
          "data": {
            "text/plain": [
              "array([[ 1,  2],\n",
              "       [ 7,  8],\n",
              "       [13, 14]])"
            ]
          },
          "metadata": {
            "tags": []
          },
          "execution_count": 38
        }
      ]
    },
    {
      "cell_type": "code",
      "metadata": {
        "colab": {
          "base_uri": "https://localhost:8080/"
        },
        "id": "AmGposjPakuq",
        "outputId": "0e007413-ad5d-4c4e-ca85-1a7352a3b0f8"
      },
      "source": [
        "a[0] #a[1], a[2]"
      ],
      "execution_count": null,
      "outputs": [
        {
          "output_type": "execute_result",
          "data": {
            "text/plain": [
              "array([[1, 2],\n",
              "       [3, 4],\n",
              "       [5, 6]])"
            ]
          },
          "metadata": {
            "tags": []
          },
          "execution_count": 34
        }
      ]
    },
    {
      "cell_type": "code",
      "metadata": {
        "colab": {
          "base_uri": "https://localhost:8080/"
        },
        "id": "ac-p8izmaosS",
        "outputId": "89c89421-6489-4263-f99d-ea9559120012"
      },
      "source": [
        "a[0][1]"
      ],
      "execution_count": null,
      "outputs": [
        {
          "output_type": "execute_result",
          "data": {
            "text/plain": [
              "array([3, 4])"
            ]
          },
          "metadata": {
            "tags": []
          },
          "execution_count": 35
        }
      ]
    },
    {
      "cell_type": "code",
      "metadata": {
        "colab": {
          "base_uri": "https://localhost:8080/"
        },
        "id": "OO7aiVHgYnu2",
        "outputId": "3baa6d60-320c-4b6b-a208-fac73983f936"
      },
      "source": [
        "a[2][1][1]"
      ],
      "execution_count": null,
      "outputs": [
        {
          "output_type": "execute_result",
          "data": {
            "text/plain": [
              "16"
            ]
          },
          "metadata": {
            "tags": []
          },
          "execution_count": 14
        }
      ]
    },
    {
      "cell_type": "code",
      "metadata": {
        "colab": {
          "base_uri": "https://localhost:8080/"
        },
        "id": "2c8Ml_emZnY5",
        "outputId": "6aabc643-1cfe-416e-9939-dbe0efea1aac"
      },
      "source": [
        "a[2,1,1]"
      ],
      "execution_count": null,
      "outputs": [
        {
          "output_type": "execute_result",
          "data": {
            "text/plain": [
              "16"
            ]
          },
          "metadata": {
            "tags": []
          },
          "execution_count": 15
        }
      ]
    },
    {
      "cell_type": "markdown",
      "metadata": {
        "id": "k83PrfJKa2hI"
      },
      "source": [
        "### Rectangular block"
      ]
    },
    {
      "cell_type": "code",
      "metadata": {
        "colab": {
          "base_uri": "https://localhost:8080/"
        },
        "id": "lkpAwZUlZqpj",
        "outputId": "dc65e3f0-49f1-480f-dd20-86f434b2c432"
      },
      "source": [
        "a[1:, 0:2, :]"
      ],
      "execution_count": null,
      "outputs": [
        {
          "output_type": "execute_result",
          "data": {
            "text/plain": [
              "array([[[ 7,  8],\n",
              "        [ 9, 10]],\n",
              "\n",
              "       [[13, 14],\n",
              "        [15, 16]]])"
            ]
          },
          "metadata": {
            "tags": []
          },
          "execution_count": 16
        }
      ]
    },
    {
      "cell_type": "code",
      "metadata": {
        "colab": {
          "base_uri": "https://localhost:8080/"
        },
        "id": "fAqGwshabE0L",
        "outputId": "886364c4-8189-4e29-eca6-38097e18d600"
      },
      "source": [
        "a[:,1]"
      ],
      "execution_count": null,
      "outputs": [
        {
          "output_type": "execute_result",
          "data": {
            "text/plain": [
              "array([[ 3,  4],\n",
              "       [ 9, 10],\n",
              "       [15, 16]])"
            ]
          },
          "metadata": {
            "tags": []
          },
          "execution_count": 41
        }
      ]
    },
    {
      "cell_type": "code",
      "metadata": {
        "colab": {
          "base_uri": "https://localhost:8080/"
        },
        "id": "S6MXfUhna65F",
        "outputId": "3c4e91e7-66f0-42f9-f36f-63b3a2a6166b"
      },
      "source": [
        "a[:, 1:]"
      ],
      "execution_count": null,
      "outputs": [
        {
          "output_type": "execute_result",
          "data": {
            "text/plain": [
              "array([[[ 3,  4],\n",
              "        [ 5,  6]],\n",
              "\n",
              "       [[ 9, 10],\n",
              "        [11, 12]],\n",
              "\n",
              "       [[15, 16],\n",
              "        [17, 18]]])"
            ]
          },
          "metadata": {
            "tags": []
          },
          "execution_count": 18
        }
      ]
    },
    {
      "cell_type": "code",
      "metadata": {
        "colab": {
          "base_uri": "https://localhost:8080/"
        },
        "id": "EGiQlMXPaCO9",
        "outputId": "a3e74e0b-c5ef-4f2a-f1a2-79e49cc1e5cd"
      },
      "source": [
        "a[:, :, 1]"
      ],
      "execution_count": null,
      "outputs": [
        {
          "output_type": "execute_result",
          "data": {
            "text/plain": [
              "array([[ 2,  4,  6],\n",
              "       [ 8, 10, 12],\n",
              "       [14, 16, 18]])"
            ]
          },
          "metadata": {
            "tags": []
          },
          "execution_count": 20
        }
      ]
    },
    {
      "cell_type": "code",
      "metadata": {
        "colab": {
          "base_uri": "https://localhost:8080/"
        },
        "id": "NVcXnMFjGkQZ",
        "outputId": "db91c217-2fb5-4e7a-dbe6-d9ce60dbe96e"
      },
      "source": [
        "a = np.array(np.arange(1,19)).reshape(9,2)\n",
        "a\n"
      ],
      "execution_count": null,
      "outputs": [
        {
          "output_type": "execute_result",
          "data": {
            "text/plain": [
              "array([[ 1,  2],\n",
              "       [ 3,  4],\n",
              "       [ 5,  6],\n",
              "       [ 7,  8],\n",
              "       [ 9, 10],\n",
              "       [11, 12],\n",
              "       [13, 14],\n",
              "       [15, 16],\n",
              "       [17, 18]])"
            ]
          },
          "metadata": {
            "tags": []
          },
          "execution_count": 54
        }
      ]
    },
    {
      "cell_type": "markdown",
      "metadata": {
        "id": "2skICWO3EjN0"
      },
      "source": [
        "# Mathematical operations on numpy arrays\n",
        "\n",
        "Mathematical operations on an array will perform it element-wise."
      ]
    },
    {
      "cell_type": "code",
      "metadata": {
        "colab": {
          "base_uri": "https://localhost:8080/"
        },
        "id": "J51hp4fFkQpy",
        "outputId": "7e75f565-2ecb-4754-cbcf-adc6d5a46579"
      },
      "source": [
        "np.arange(10) + 2"
      ],
      "execution_count": null,
      "outputs": [
        {
          "output_type": "execute_result",
          "data": {
            "text/plain": [
              "array([ 2,  3,  4,  5,  6,  7,  8,  9, 10, 11])"
            ]
          },
          "metadata": {
            "tags": []
          },
          "execution_count": 80
        }
      ]
    },
    {
      "cell_type": "code",
      "metadata": {
        "colab": {
          "base_uri": "https://localhost:8080/",
          "height": 196
        },
        "id": "cZ3mroNk015m",
        "outputId": "1e6821d4-fea3-49df-c3e8-652197db3fbc"
      },
      "source": [
        "lst = [3,6,9,12,15,18,12]\n",
        "lst/3\n",
        "\n"
      ],
      "execution_count": null,
      "outputs": [
        {
          "output_type": "error",
          "ename": "TypeError",
          "evalue": "ignored",
          "traceback": [
            "\u001b[0;31m---------------------------------------------------------------------------\u001b[0m",
            "\u001b[0;31mTypeError\u001b[0m                                 Traceback (most recent call last)",
            "\u001b[0;32m<ipython-input-78-d23ab76104ef>\u001b[0m in \u001b[0;36m<module>\u001b[0;34m()\u001b[0m\n\u001b[1;32m      1\u001b[0m \u001b[0mlst\u001b[0m \u001b[0;34m=\u001b[0m \u001b[0;34m[\u001b[0m\u001b[0;36m3\u001b[0m\u001b[0;34m,\u001b[0m\u001b[0;36m6\u001b[0m\u001b[0;34m,\u001b[0m\u001b[0;36m9\u001b[0m\u001b[0;34m,\u001b[0m\u001b[0;36m12\u001b[0m\u001b[0;34m,\u001b[0m\u001b[0;36m15\u001b[0m\u001b[0;34m,\u001b[0m\u001b[0;36m18\u001b[0m\u001b[0;34m,\u001b[0m\u001b[0;36m12\u001b[0m\u001b[0;34m]\u001b[0m\u001b[0;34m\u001b[0m\u001b[0;34m\u001b[0m\u001b[0m\n\u001b[0;32m----> 2\u001b[0;31m \u001b[0mlst\u001b[0m\u001b[0;34m/\u001b[0m\u001b[0;36m3\u001b[0m\u001b[0;34m\u001b[0m\u001b[0;34m\u001b[0m\u001b[0m\n\u001b[0m\u001b[1;32m      3\u001b[0m \u001b[0;34m\u001b[0m\u001b[0m\n",
            "\u001b[0;31mTypeError\u001b[0m: unsupported operand type(s) for /: 'list' and 'int'"
          ]
        }
      ]
    },
    {
      "cell_type": "code",
      "metadata": {
        "colab": {
          "base_uri": "https://localhost:8080/"
        },
        "id": "fLOIU3aIXHBB",
        "outputId": "15bfcd1e-10a9-4c1a-f3d8-3d9dea873a15"
      },
      "source": [
        "np.arange(5)+3"
      ],
      "execution_count": null,
      "outputs": [
        {
          "output_type": "execute_result",
          "data": {
            "text/plain": [
              "array([3, 4, 5, 6, 7])"
            ]
          },
          "metadata": {
            "tags": []
          },
          "execution_count": 82
        }
      ]
    },
    {
      "cell_type": "code",
      "metadata": {
        "id": "vaiOL-yR0-I_",
        "colab": {
          "base_uri": "https://localhost:8080/"
        },
        "outputId": "c4191eaf-2ca8-4ac9-b60c-e6524946d002"
      },
      "source": [
        "arr = np.array([3,6,9,12,15,18,12])\n",
        "arr = arr/3\n",
        "print(arr)\n",
        "\n"
      ],
      "execution_count": null,
      "outputs": [
        {
          "output_type": "stream",
          "text": [
            "[1 2 3 4 5 6 4]\n"
          ],
          "name": "stdout"
        }
      ]
    },
    {
      "cell_type": "code",
      "metadata": {
        "colab": {
          "base_uri": "https://localhost:8080/",
          "height": 202
        },
        "id": "pPi24SOMkbcD",
        "outputId": "fc65a947-4c06-4dfa-bcf2-e6cc892b33ef"
      },
      "source": [
        "a1 = np.arange(15)\n",
        "a2 = np.arange(10, 20, 2)\n",
        "np.add(a1, a2)"
      ],
      "execution_count": null,
      "outputs": [
        {
          "output_type": "error",
          "ename": "ValueError",
          "evalue": "ignored",
          "traceback": [
            "\u001b[0;31m---------------------------------------------------------------------------\u001b[0m",
            "\u001b[0;31mValueError\u001b[0m                                Traceback (most recent call last)",
            "\u001b[0;32m<ipython-input-68-b49d00430e67>\u001b[0m in \u001b[0;36m<module>\u001b[0;34m()\u001b[0m\n\u001b[1;32m      1\u001b[0m \u001b[0ma1\u001b[0m \u001b[0;34m=\u001b[0m \u001b[0mnp\u001b[0m\u001b[0;34m.\u001b[0m\u001b[0marange\u001b[0m\u001b[0;34m(\u001b[0m\u001b[0;36m15\u001b[0m\u001b[0;34m)\u001b[0m\u001b[0;34m\u001b[0m\u001b[0;34m\u001b[0m\u001b[0m\n\u001b[1;32m      2\u001b[0m \u001b[0ma2\u001b[0m \u001b[0;34m=\u001b[0m \u001b[0mnp\u001b[0m\u001b[0;34m.\u001b[0m\u001b[0marange\u001b[0m\u001b[0;34m(\u001b[0m\u001b[0;36m10\u001b[0m\u001b[0;34m,\u001b[0m \u001b[0;36m20\u001b[0m\u001b[0;34m,\u001b[0m \u001b[0;36m2\u001b[0m\u001b[0;34m)\u001b[0m\u001b[0;34m\u001b[0m\u001b[0;34m\u001b[0m\u001b[0m\n\u001b[0;32m----> 3\u001b[0;31m \u001b[0mnp\u001b[0m\u001b[0;34m.\u001b[0m\u001b[0madd\u001b[0m\u001b[0;34m(\u001b[0m\u001b[0ma1\u001b[0m\u001b[0;34m,\u001b[0m \u001b[0ma2\u001b[0m\u001b[0;34m)\u001b[0m\u001b[0;34m\u001b[0m\u001b[0;34m\u001b[0m\u001b[0m\n\u001b[0m",
            "\u001b[0;31mValueError\u001b[0m: operands could not be broadcast together with shapes (15,) (5,) "
          ]
        }
      ]
    },
    {
      "cell_type": "code",
      "metadata": {
        "colab": {
          "base_uri": "https://localhost:8080/"
        },
        "id": "AKdtaTBfkxUh",
        "outputId": "495bea87-6ee0-42c8-9852-fb1b264afa8c"
      },
      "source": [
        "a1 = np.arange(15)\n",
        "a2 = np.arange(100, 115)\n",
        "np.add(a1, a2)\n"
      ],
      "execution_count": null,
      "outputs": [
        {
          "output_type": "stream",
          "text": [
            "[ 0  1  2  3  4  5  6  7  8  9 10 11 12 13 14]\n"
          ],
          "name": "stdout"
        }
      ]
    },
    {
      "cell_type": "code",
      "metadata": {
        "id": "w3ooMqk-lAFZ"
      },
      "source": [
        ""
      ],
      "execution_count": null,
      "outputs": []
    },
    {
      "cell_type": "markdown",
      "metadata": {
        "id": "ExRpg9aModsp"
      },
      "source": [
        "## Exercise 1 -- array creation\n",
        "<font color = red>\n",
        "Create the three arrays displayed in the image, below.\n",
        "\n",
        "Bonus:  Try different ideas for creating the arrays.\n",
        "\n",
        "Hint:  For the first array with 4, 6, 4 in the first row, create\n",
        "`matrix1 = np.array([[]])` notation.\n",
        "For `matrix2` with 8, 8, 4 as the first row, try to think of a different approach.  Similarly for the third matrix, with 9, 5, 4 as the first row try a different approach.\n",
        "\n",
        "<img src = \"https://i.stack.imgur.com/ojnFF.jpg\">"
      ]
    },
    {
      "cell_type": "code",
      "metadata": {
        "colab": {
          "base_uri": "https://localhost:8080/"
        },
        "id": "l0o3clDTiZVc",
        "outputId": "03fa78c6-3451-4d2d-afd4-bfa4dd980c77"
      },
      "source": [
        "a1 = np.array([[4,6,4], [1,1,8],[0,7,5],[5,3,3],[8,9,5]])\n",
        "a2 = np.array([8,8,4, 3,4,4,0,0,9,3,7,3,3,4,7]).reshape(5, 3)\n",
        "a3 = np.array([[9,7,9,8,5], [5,7,5,7,8], [4,3,9,8,8]]).transpose()\n",
        "\n",
        "print(a1)\n",
        "print(a2)\n",
        "print(a3)\n",
        "\n"
      ],
      "execution_count": null,
      "outputs": [
        {
          "output_type": "stream",
          "text": [
            "[[4 6 4]\n",
            " [1 1 8]\n",
            " [0 7 5]\n",
            " [5 3 3]\n",
            " [8 9 5]]\n",
            "[[8 8 4]\n",
            " [3 4 4]\n",
            " [0 0 9]\n",
            " [3 7 3]\n",
            " [3 4 7]]\n",
            "[[9 5 4]\n",
            " [7 7 3]\n",
            " [9 5 9]\n",
            " [8 7 8]\n",
            " [5 8 8]]\n"
          ],
          "name": "stdout"
        }
      ]
    },
    {
      "cell_type": "markdown",
      "metadata": {
        "id": "n4wesUgRnYXz"
      },
      "source": [
        "## Exercise 2 -- BMI\n",
        "\n",
        "Calculate the BMI for a group of people.  THe heights are given in inches and weights are given in lbs.\n",
        "\n",
        "BMI is given by  (weight in kg /(height in m)^2). \n",
        "\n",
        "Tips:\\\n",
        "Multiply by 0.453592 to go from pounds to kilograms. \n",
        "Multiple inches by 0.0254 to get meters."
      ]
    },
    {
      "cell_type": "code",
      "metadata": {
        "id": "bJ25vCUioSUM"
      },
      "source": [
        "import numpy as np"
      ],
      "execution_count": null,
      "outputs": []
    },
    {
      "cell_type": "code",
      "metadata": {
        "id": "DFE5y6-SnMbD"
      },
      "source": [
        "np.random.seed(42)\n",
        "height_in = np.random.randint(65, 81, size = 50)\n",
        "weight_lb = np.random.randint(150, 280, size = 50)\n",
        "\n",
        "height_m = height_in *0.0254\n",
        "weight_kg = weight_lb * 0.453592\n",
        "\n",
        "bmi = weight_kg /height_m**2"
      ],
      "execution_count": null,
      "outputs": []
    },
    {
      "cell_type": "markdown",
      "metadata": {
        "id": "uGW6AJC-7fdA"
      },
      "source": [
        "## Further reading\n",
        "\n",
        "See this blog post for analyzing wine quality using numpy.\n",
        "https://www.dataquest.io/blog/numpy-tutorial-python/\n"
      ]
    }
  ]
}