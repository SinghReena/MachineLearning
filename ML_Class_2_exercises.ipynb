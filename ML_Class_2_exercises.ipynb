{
  "nbformat": 4,
  "nbformat_minor": 0,
  "metadata": {
    "colab": {
      "name": "ML Class 2 exercises.ipynb",
      "provenance": [],
      "include_colab_link": true
    },
    "kernelspec": {
      "name": "python3",
      "display_name": "Python 3"
    },
    "language_info": {
      "name": "python"
    }
  },
  "cells": [
    {
      "cell_type": "markdown",
      "metadata": {
        "id": "view-in-github",
        "colab_type": "text"
      },
      "source": [
        "<a href=\"https://colab.research.google.com/github/SinghReena/MachineLearning/blob/master/ML_Class_2_exercises.ipynb\" target=\"_parent\"><img src=\"https://colab.research.google.com/assets/colab-badge.svg\" alt=\"Open In Colab\"/></a>"
      ]
    },
    {
      "cell_type": "markdown",
      "metadata": {
        "id": "Uxh1a70eSofV"
      },
      "source": [
        "The goal of this exercise is to gain an intuition for learning a model.\n",
        "\n",
        "There are three datasets.  What is the best model for the data?"
      ]
    },
    {
      "cell_type": "code",
      "metadata": {
        "id": "5eWYqXhsRVzy"
      },
      "source": [
        "import pandas as pd\n",
        "import numpy as np\n",
        "import matplotlib as plt\n"
      ],
      "execution_count": null,
      "outputs": []
    },
    {
      "cell_type": "markdown",
      "metadata": {
        "id": "UQig59uNQrK3"
      },
      "source": [
        "## Dataset 1\n",
        "\n",
        "Find the model for this dataset."
      ]
    },
    {
      "cell_type": "code",
      "metadata": {
        "id": "LxSTawL3RJ25"
      },
      "source": [
        "x1 = np.array([1.96, 1.29, 1.62, 0.84, 0.37, 1.23, 1.96, 1.99, 0.38, 1.55, 0.08,\n",
        "        1.18, 1.58, 1.8 , 0.96, 0.47, 0.45, 1.72, 1.97, 0.53, 1.99, 0.06,\n",
        "        0.14, 1.41, 0.13, 1.39, 1.92, 0.92, 0.35, 0.77])\n",
        "y1 = np.array([5.92, 3.79, 4.88, 2.54, 1.11, 3.69, 5.92, 5.91, 1.11, 4.69, 0.17,\n",
        "        3.46, 4.79, 5.35, 2.91, 1.39, 1.31, 5.08, 5.83, 1.5 , 5.9 , 0.08,\n",
        "        0.45, 4.27, 0.37, 4.18, 5.73, 2.66, 1.02, 2.23])"
      ],
      "execution_count": null,
      "outputs": []
    },
    {
      "cell_type": "code",
      "metadata": {
        "id": "__sICL7ARTwj"
      },
      "source": [
        "df1 = pd.DataFrame({'x' : x1, 'y': y1})"
      ],
      "execution_count": null,
      "outputs": []
    },
    {
      "cell_type": "code",
      "metadata": {
        "colab": {
          "base_uri": "https://localhost:8080/",
          "height": 282
        },
        "id": "wNiAZ6tSRpf4",
        "outputId": "81d10232-42c6-4997-e4c3-984b2483bf32"
      },
      "source": [
        "plt.pyplot.scatter(x1,y1, color = 'blue')\n",
        "# change this line\n",
        "plt.pyplot.scatter(x1, x1+5.0, color= \"red\")\n"
      ],
      "execution_count": null,
      "outputs": [
        {
          "output_type": "execute_result",
          "data": {
            "text/plain": [
              "<matplotlib.collections.PathCollection at 0x7f90f97896d0>"
            ]
          },
          "metadata": {
            "tags": []
          },
          "execution_count": 21
        },
        {
          "output_type": "display_data",
          "data": {
            "image/png": "[encoded data removed]",
            "text/plain": [
              "<Figure size 432x288 with 1 Axes>"
            ]
          },
          "metadata": {
            "tags": [],
            "needs_background": "light"
          }
        }
      ]
    },
    {
      "cell_type": "markdown",
      "metadata": {
        "id": "p0Tc3YTcQl1r"
      },
      "source": [
        "## Dataset 2\n",
        "\n",
        "Find the right curve for this sample."
      ]
    },
    {
      "cell_type": "code",
      "metadata": {
        "id": "8GJB0YomQaag"
      },
      "source": [
        "x2 = np.array([2.92, 4.26, 4.28, 4.73, 4.8 , 2.26, 2.6 , 3.66, 2.03, 2.67, 2.08,\n",
        "        2.23, 3.99, 3.75, 4.18, 4.69, 2.06, 4.67, 3.51, 3.82, 2.39, 3.43,\n",
        "        3.89, 3.46, 4.79, 4.81, 3.5 , 3.22, 4.42, 3.54])\n",
        "y2 = np.array([12.5564, 22.1476, 22.3484, 26.3729, 27.05  ,  9.1576, 10.76  ,\n",
        "        17.4056,  8.1709, 11.1189,  8.3364,  8.9829, 19.9401, 18.0825,\n",
        "        21.5124, 26.0061,  8.2836, 25.8389, 16.3501, 18.5824,  9.7121,\n",
        "        15.7849, 19.1421, 15.9716, 26.9441, 27.1361, 16.27  , 14.3684,\n",
        "        23.5464, 16.5816])"
      ],
      "execution_count": null,
      "outputs": []
    },
    {
      "cell_type": "code",
      "metadata": {
        "colab": {
          "base_uri": "https://localhost:8080/",
          "height": 282
        },
        "id": "YrIfxbFcQlAm",
        "outputId": "c5119d16-5b01-47e4-c43c-858159bbd2c6"
      },
      "source": [
        "plt.pyplot.scatter(x2,y2, color = 'blue')\n",
        "# change this line\n",
        "plt.pyplot.scatter(x2, x2+5.0, color= \"red\")\n"
      ],
      "execution_count": null,
      "outputs": [
        {
          "output_type": "execute_result",
          "data": {
            "text/plain": [
              "<matplotlib.collections.PathCollection at 0x7f90f9e53b50>"
            ]
          },
          "metadata": {
            "tags": []
          },
          "execution_count": 17
        },
        {
          "output_type": "display_data",
          "data": {
            "image/png": "[encoded data removed]",
            "text/plain": [
              "<Figure size 432x288 with 1 Axes>"
            ]
          },
          "metadata": {
            "tags": [],
            "needs_background": "light"
          }
        }
      ]
    },
    {
      "cell_type": "markdown",
      "metadata": {
        "id": "S20ordM0Qv6g"
      },
      "source": [
        "## Dataset 3:\n",
        "\n",
        "Find the right model for this sample."
      ]
    },
    {
      "cell_type": "code",
      "metadata": {
        "id": "hCk8P7NcSS-Y"
      },
      "source": [
        "x3, y3 = (np.array([4.6 , 4.63, 2.81, 2.53, 2.67, 0.26, 3.41, 3.05, 1.54, 3.95, 2.77,\n",
        "        3.63, 4.1 , 0.46, 4.  , 1.96, 0.76, 4.36, 0.12, 4.54, 2.6 , 2.77,\n",
        "        0.59, 3.84, 0.41, 4.59, 2.4 , 1.17, 1.4 , 1.21, 0.58, 1.66, 4.72,\n",
        "        2.08, 4.97, 4.4 , 1.35, 3.86, 1.78, 2.17, 0.2 , 4.56, 0.59, 4.79,\n",
        "        4.  , 2.79, 4.9 , 0.91, 4.21, 3.22]),\n",
        " np.array([25.21  , 25.4769, 11.9161, 10.4109, 11.1389,  4.0676, 15.6381,\n",
        "        13.3325,  6.3816, 19.6525, 11.6729, 17.2069, 20.82  ,  4.2516,\n",
        "        20.02  ,  7.8816,  4.6176, 23.0596,  4.0544, 24.6416, 10.78  ,\n",
        "        11.7129,  4.3681, 18.7956,  4.1981, 25.0881,  9.77  ,  5.3789,\n",
        "         5.96  ,  5.5041,  4.3664,  6.7856, 26.2984,  8.3764, 28.7009,\n",
        "        23.37  ,  5.8425, 18.8896,  7.1984,  8.7189,  4.04  , 24.8236,\n",
        "         4.3881, 26.9341, 20.02  , 11.8041, 28.06  ,  4.8381, 21.7241,\n",
        "        14.4184]))"
      ],
      "execution_count": null,
      "outputs": []
    },
    {
      "cell_type": "code",
      "metadata": {
        "colab": {
          "base_uri": "https://localhost:8080/",
          "height": 1000
        },
        "id": "poipXx3wU1Bw",
        "outputId": "51cdd958-4316-426d-d2e7-80249899170d"
      },
      "source": [
        "df2 = pd.DataFrame({'x': x2, 'y': y2})\n",
        "df2"
      ],
      "execution_count": null,
      "outputs": [
        {
          "output_type": "execute_result",
          "data": {
            "text/html": [
              "<div>\n",
              "<style scoped>\n",
              "    .dataframe tbody tr th:only-of-type {\n",
              "        vertical-align: middle;\n",
              "    }\n",
              "\n",
              "    .dataframe tbody tr th {\n",
              "        vertical-align: top;\n",
              "    }\n",
              "\n",
              "    .dataframe thead th {\n",
              "        text-align: right;\n",
              "    }\n",
              "</style>\n",
              "<table border=\"1\" class=\"dataframe\">\n",
              "  <thead>\n",
              "    <tr style=\"text-align: right;\">\n",
              "      <th></th>\n",
              "      <th>x</th>\n",
              "      <th>y</th>\n",
              "    </tr>\n",
              "  </thead>\n",
              "  <tbody>\n",
              "    <tr>\n",
              "      <th>0</th>\n",
              "      <td>4.60</td>\n",
              "      <td>25.2100</td>\n",
              "    </tr>\n",
              "    <tr>\n",
              "      <th>1</th>\n",
              "      <td>4.63</td>\n",
              "      <td>25.4769</td>\n",
              "    </tr>\n",
              "    <tr>\n",
              "      <th>2</th>\n",
              "      <td>2.81</td>\n",
              "      <td>11.9161</td>\n",
              "    </tr>\n",
              "    <tr>\n",
              "      <th>3</th>\n",
              "      <td>2.53</td>\n",
              "      <td>10.4109</td>\n",
              "    </tr>\n",
              "    <tr>\n",
              "      <th>4</th>\n",
              "      <td>2.67</td>\n",
              "      <td>11.1389</td>\n",
              "    </tr>\n",
              "    <tr>\n",
              "      <th>5</th>\n",
              "      <td>0.26</td>\n",
              "      <td>4.0676</td>\n",
              "    </tr>\n",
              "    <tr>\n",
              "      <th>6</th>\n",
              "      <td>3.41</td>\n",
              "      <td>15.6381</td>\n",
              "    </tr>\n",
              "    <tr>\n",
              "      <th>7</th>\n",
              "      <td>3.05</td>\n",
              "      <td>13.3325</td>\n",
              "    </tr>\n",
              "    <tr>\n",
              "      <th>8</th>\n",
              "      <td>1.54</td>\n",
              "      <td>6.3816</td>\n",
              "    </tr>\n",
              "    <tr>\n",
              "      <th>9</th>\n",
              "      <td>3.95</td>\n",
              "      <td>19.6525</td>\n",
              "    </tr>\n",
              "    <tr>\n",
              "      <th>10</th>\n",
              "      <td>2.77</td>\n",
              "      <td>11.6729</td>\n",
              "    </tr>\n",
              "    <tr>\n",
              "      <th>11</th>\n",
              "      <td>3.63</td>\n",
              "      <td>17.2069</td>\n",
              "    </tr>\n",
              "    <tr>\n",
              "      <th>12</th>\n",
              "      <td>4.10</td>\n",
              "      <td>20.8200</td>\n",
              "    </tr>\n",
              "    <tr>\n",
              "      <th>13</th>\n",
              "      <td>0.46</td>\n",
              "      <td>4.2516</td>\n",
              "    </tr>\n",
              "    <tr>\n",
              "      <th>14</th>\n",
              "      <td>4.00</td>\n",
              "      <td>20.0200</td>\n",
              "    </tr>\n",
              "    <tr>\n",
              "      <th>15</th>\n",
              "      <td>1.96</td>\n",
              "      <td>7.8816</td>\n",
              "    </tr>\n",
              "    <tr>\n",
              "      <th>16</th>\n",
              "      <td>0.76</td>\n",
              "      <td>4.6176</td>\n",
              "    </tr>\n",
              "    <tr>\n",
              "      <th>17</th>\n",
              "      <td>4.36</td>\n",
              "      <td>23.0596</td>\n",
              "    </tr>\n",
              "    <tr>\n",
              "      <th>18</th>\n",
              "      <td>0.12</td>\n",
              "      <td>4.0544</td>\n",
              "    </tr>\n",
              "    <tr>\n",
              "      <th>19</th>\n",
              "      <td>4.54</td>\n",
              "      <td>24.6416</td>\n",
              "    </tr>\n",
              "    <tr>\n",
              "      <th>20</th>\n",
              "      <td>2.60</td>\n",
              "      <td>10.7800</td>\n",
              "    </tr>\n",
              "    <tr>\n",
              "      <th>21</th>\n",
              "      <td>2.77</td>\n",
              "      <td>11.7129</td>\n",
              "    </tr>\n",
              "    <tr>\n",
              "      <th>22</th>\n",
              "      <td>0.59</td>\n",
              "      <td>4.3681</td>\n",
              "    </tr>\n",
              "    <tr>\n",
              "      <th>23</th>\n",
              "      <td>3.84</td>\n",
              "      <td>18.7956</td>\n",
              "    </tr>\n",
              "    <tr>\n",
              "      <th>24</th>\n",
              "      <td>0.41</td>\n",
              "      <td>4.1981</td>\n",
              "    </tr>\n",
              "    <tr>\n",
              "      <th>25</th>\n",
              "      <td>4.59</td>\n",
              "      <td>25.0881</td>\n",
              "    </tr>\n",
              "    <tr>\n",
              "      <th>26</th>\n",
              "      <td>2.40</td>\n",
              "      <td>9.7700</td>\n",
              "    </tr>\n",
              "    <tr>\n",
              "      <th>27</th>\n",
              "      <td>1.17</td>\n",
              "      <td>5.3789</td>\n",
              "    </tr>\n",
              "    <tr>\n",
              "      <th>28</th>\n",
              "      <td>1.40</td>\n",
              "      <td>5.9600</td>\n",
              "    </tr>\n",
              "    <tr>\n",
              "      <th>29</th>\n",
              "      <td>1.21</td>\n",
              "      <td>5.5041</td>\n",
              "    </tr>\n",
              "    <tr>\n",
              "      <th>30</th>\n",
              "      <td>0.58</td>\n",
              "      <td>4.3664</td>\n",
              "    </tr>\n",
              "    <tr>\n",
              "      <th>31</th>\n",
              "      <td>1.66</td>\n",
              "      <td>6.7856</td>\n",
              "    </tr>\n",
              "    <tr>\n",
              "      <th>32</th>\n",
              "      <td>4.72</td>\n",
              "      <td>26.2984</td>\n",
              "    </tr>\n",
              "    <tr>\n",
              "      <th>33</th>\n",
              "      <td>2.08</td>\n",
              "      <td>8.3764</td>\n",
              "    </tr>\n",
              "    <tr>\n",
              "      <th>34</th>\n",
              "      <td>4.97</td>\n",
              "      <td>28.7009</td>\n",
              "    </tr>\n",
              "    <tr>\n",
              "      <th>35</th>\n",
              "      <td>4.40</td>\n",
              "      <td>23.3700</td>\n",
              "    </tr>\n",
              "    <tr>\n",
              "      <th>36</th>\n",
              "      <td>1.35</td>\n",
              "      <td>5.8425</td>\n",
              "    </tr>\n",
              "    <tr>\n",
              "      <th>37</th>\n",
              "      <td>3.86</td>\n",
              "      <td>18.8896</td>\n",
              "    </tr>\n",
              "    <tr>\n",
              "      <th>38</th>\n",
              "      <td>1.78</td>\n",
              "      <td>7.1984</td>\n",
              "    </tr>\n",
              "    <tr>\n",
              "      <th>39</th>\n",
              "      <td>2.17</td>\n",
              "      <td>8.7189</td>\n",
              "    </tr>\n",
              "    <tr>\n",
              "      <th>40</th>\n",
              "      <td>0.20</td>\n",
              "      <td>4.0400</td>\n",
              "    </tr>\n",
              "    <tr>\n",
              "      <th>41</th>\n",
              "      <td>4.56</td>\n",
              "      <td>24.8236</td>\n",
              "    </tr>\n",
              "    <tr>\n",
              "      <th>42</th>\n",
              "      <td>0.59</td>\n",
              "      <td>4.3881</td>\n",
              "    </tr>\n",
              "    <tr>\n",
              "      <th>43</th>\n",
              "      <td>4.79</td>\n",
              "      <td>26.9341</td>\n",
              "    </tr>\n",
              "    <tr>\n",
              "      <th>44</th>\n",
              "      <td>4.00</td>\n",
              "      <td>20.0200</td>\n",
              "    </tr>\n",
              "    <tr>\n",
              "      <th>45</th>\n",
              "      <td>2.79</td>\n",
              "      <td>11.8041</td>\n",
              "    </tr>\n",
              "    <tr>\n",
              "      <th>46</th>\n",
              "      <td>4.90</td>\n",
              "      <td>28.0600</td>\n",
              "    </tr>\n",
              "    <tr>\n",
              "      <th>47</th>\n",
              "      <td>0.91</td>\n",
              "      <td>4.8381</td>\n",
              "    </tr>\n",
              "    <tr>\n",
              "      <th>48</th>\n",
              "      <td>4.21</td>\n",
              "      <td>21.7241</td>\n",
              "    </tr>\n",
              "    <tr>\n",
              "      <th>49</th>\n",
              "      <td>3.22</td>\n",
              "      <td>14.4184</td>\n",
              "    </tr>\n",
              "  </tbody>\n",
              "</table>\n",
              "</div>"
            ],
            "text/plain": [
              "       x        y\n",
              "0   4.60  25.2100\n",
              "1   4.63  25.4769\n",
              "2   2.81  11.9161\n",
              "3   2.53  10.4109\n",
              "4   2.67  11.1389\n",
              "5   0.26   4.0676\n",
              "6   3.41  15.6381\n",
              "7   3.05  13.3325\n",
              "8   1.54   6.3816\n",
              "9   3.95  19.6525\n",
              "10  2.77  11.6729\n",
              "11  3.63  17.2069\n",
              "12  4.10  20.8200\n",
              "13  0.46   4.2516\n",
              "14  4.00  20.0200\n",
              "15  1.96   7.8816\n",
              "16  0.76   4.6176\n",
              "17  4.36  23.0596\n",
              "18  0.12   4.0544\n",
              "19  4.54  24.6416\n",
              "20  2.60  10.7800\n",
              "21  2.77  11.7129\n",
              "22  0.59   4.3681\n",
              "23  3.84  18.7956\n",
              "24  0.41   4.1981\n",
              "25  4.59  25.0881\n",
              "26  2.40   9.7700\n",
              "27  1.17   5.3789\n",
              "28  1.40   5.9600\n",
              "29  1.21   5.5041\n",
              "30  0.58   4.3664\n",
              "31  1.66   6.7856\n",
              "32  4.72  26.2984\n",
              "33  2.08   8.3764\n",
              "34  4.97  28.7009\n",
              "35  4.40  23.3700\n",
              "36  1.35   5.8425\n",
              "37  3.86  18.8896\n",
              "38  1.78   7.1984\n",
              "39  2.17   8.7189\n",
              "40  0.20   4.0400\n",
              "41  4.56  24.8236\n",
              "42  0.59   4.3881\n",
              "43  4.79  26.9341\n",
              "44  4.00  20.0200\n",
              "45  2.79  11.8041\n",
              "46  4.90  28.0600\n",
              "47  0.91   4.8381\n",
              "48  4.21  21.7241\n",
              "49  3.22  14.4184"
            ]
          },
          "metadata": {
            "tags": []
          },
          "execution_count": 27
        }
      ]
    },
    {
      "cell_type": "code",
      "metadata": {
        "colab": {
          "base_uri": "https://localhost:8080/",
          "height": 285
        },
        "id": "3X6HCgJFU8ci",
        "outputId": "6177da92-c2df-4317-b4a1-ccdeed37a571"
      },
      "source": [
        "plt.pyplot.scatter(x3,y3)\n",
        "# change this line\n",
        "plt.pyplot.scatter(x3, 2*x3,color=\"red\")"
      ],
      "execution_count": null,
      "outputs": [
        {
          "output_type": "execute_result",
          "data": {
            "text/plain": [
              "<matplotlib.collections.PathCollection at 0x7f90f94a65d0>"
            ]
          },
          "metadata": {
            "tags": []
          },
          "execution_count": 29
        },
        {
          "output_type": "display_data",
          "data": {
            "image/png": "[encoded data removed]",
            "text/plain": [
              "<Figure size 432x288 with 1 Axes>"
            ]
          },
          "metadata": {
            "tags": [],
            "needs_background": "light"
          }
        }
      ]
    },
    {
      "cell_type": "code",
      "metadata": {
        "id": "RHInnkIuVK5z"
      },
      "source": [
        ""
      ],
      "execution_count": null,
      "outputs": []
    },
    {
      "cell_type": "markdown",
      "metadata": {
        "id": "HgRpDS9wQ_KG"
      },
      "source": [
        "## What can you conclude about the datasets?"
      ]
    },
    {
      "cell_type": "code",
      "metadata": {
        "id": "8hPWa2k2RDEu"
      },
      "source": [
        ""
      ],
      "execution_count": null,
      "outputs": []
    }
  ]
}