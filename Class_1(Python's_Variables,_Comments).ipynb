{
  "nbformat": 4,
  "nbformat_minor": 0,
  "metadata": {
    "colab": {
      "name": "Class-1(Python's Variables, Comments).ipynb",
      "provenance": [],
      "authorship_tag": "ABX9TyMFgFsy6CRYWml7x1aEoKSm",
      "include_colab_link": true
    },
    "kernelspec": {
      "name": "python3",
      "display_name": "Python 3"
    }
  },
  "cells": [
    {
      "cell_type": "markdown",
      "metadata": {
        "id": "view-in-github",
        "colab_type": "text"
      },
      "source": [
        "<a href=\"https://colab.research.google.com/github/SinghReena/MachineLearning/blob/master/Class_1(Python's_Variables%2C_Comments).ipynb\" target=\"_parent\"><img src=\"https://colab.research.google.com/assets/colab-badge.svg\" alt=\"Open In Colab\"/></a>"
      ]
    },
    {
      "cell_type": "code",
      "metadata": {
        "id": "kZjW7_QaveMW"
      },
      "source": [
        ""
      ],
      "execution_count": null,
      "outputs": []
    },
    {
      "cell_type": "code",
      "metadata": {
        "id": "yMoHRoj0IX_v"
      },
      "source": [
        ""
      ],
      "execution_count": null,
      "outputs": []
    },
    {
      "cell_type": "code",
      "metadata": {
        "colab": {
          "base_uri": "https://localhost:8080/"
        },
        "id": "zZj9ZhY9wN02",
        "outputId": "fb5c1ca2-7ae4-4545-f471-43216309cddf"
      },
      "source": [
        "a=10\n",
        "b=\"Reena\"\n",
        "c=12.6\n",
        "_d=3\n",
        "z=\"ree'na\"\n",
        "A=67\n",
        "age=34\n",
        "Age=67\n",
        "AGE=89\n",
        "print(age)"
      ],
      "execution_count": null,
      "outputs": [
        {
          "output_type": "stream",
          "text": [
            "34\n"
          ],
          "name": "stdout"
        }
      ]
    },
    {
      "cell_type": "code",
      "metadata": {
        "colab": {
          "base_uri": "https://localhost:8080/"
        },
        "id": "LrmCIH7GyEzW",
        "outputId": "e710e930-8fc3-4626-d8e6-ec102477e6c5"
      },
      "source": [
        "x=14\n",
        "x=\"Reena\"\n",
        "print(x)"
      ],
      "execution_count": null,
      "outputs": [
        {
          "output_type": "stream",
          "text": [
            "Reena\n"
          ],
          "name": "stdout"
        }
      ]
    },
    {
      "cell_type": "code",
      "metadata": {
        "colab": {
          "base_uri": "https://localhost:8080/"
        },
        "id": "MsUjaJmdy3qs",
        "outputId": "aabbf5a7-15c0-43f3-fabd-ff50843ce953"
      },
      "source": [
        "name=\"Himali\"\n",
        "age=21\n",
        "print(name,\"is\" ,age, \"years old\")"
      ],
      "execution_count": null,
      "outputs": [
        {
          "output_type": "stream",
          "text": [
            "Himali is 21 years old\n"
          ],
          "name": "stdout"
        }
      ]
    },
    {
      "cell_type": "code",
      "metadata": {
        "colab": {
          "base_uri": "https://localhost:8080/"
        },
        "id": "uzWdtvN4zsVO",
        "outputId": "5e2b67d8-9a10-4074-c19e-e45d2acecbaa"
      },
      "source": [
        "z=\"Los\"\n",
        "y=\"Angeles\"\n",
        "city=z+y \n",
        "print(city)"
      ],
      "execution_count": null,
      "outputs": [
        {
          "output_type": "stream",
          "text": [
            "LosAngeles\n"
          ],
          "name": "stdout"
        }
      ]
    },
    {
      "cell_type": "code",
      "metadata": {
        "colab": {
          "base_uri": "https://localhost:8080/"
        },
        "id": "Lojo1d4L0KrS",
        "outputId": "70516aeb-eea8-42bc-c669-1c693ed5ec3d"
      },
      "source": [
        "x=\"awesome\"\n",
        "print(\"Python is\"+x)\n"
      ],
      "execution_count": null,
      "outputs": [
        {
          "output_type": "stream",
          "text": [
            "Python isawesome\n"
          ],
          "name": "stdout"
        }
      ]
    },
    {
      "cell_type": "code",
      "metadata": {
        "colab": {
          "base_uri": "https://localhost:8080/"
        },
        "id": "oNSjtLGo1dNN",
        "outputId": "45594678-82b3-479e-f450-900444646644"
      },
      "source": [
        "x=\"Python is\"\n",
        "y=\"awesome\"\n",
        "z=x+y\n",
        "print(z)"
      ],
      "execution_count": null,
      "outputs": [
        {
          "output_type": "stream",
          "text": [
            "Python isawesome\n"
          ],
          "name": "stdout"
        }
      ]
    },
    {
      "cell_type": "code",
      "metadata": {
        "colab": {
          "base_uri": "https://localhost:8080/"
        },
        "id": "K4x5KSSe10K9",
        "outputId": "236cde54-10c7-46a7-eb16-e23a1b0f4278"
      },
      "source": [
        "a=12\n",
        "b=23\n",
        "z=a+b\n",
        "print(z)"
      ],
      "execution_count": null,
      "outputs": [
        {
          "output_type": "stream",
          "text": [
            "35\n"
          ],
          "name": "stdout"
        }
      ]
    },
    {
      "cell_type": "code",
      "metadata": {
        "colab": {
          "base_uri": "https://localhost:8080/"
        },
        "id": "1lXfrYhD2KBr",
        "outputId": "41c1d1e7-ef3d-46ab-c88c-3c672ef96aff"
      },
      "source": [
        "a=\"12\"\n",
        "b=\"23\"\n",
        "z=a+b \n",
        "print(z)"
      ],
      "execution_count": null,
      "outputs": [
        {
          "output_type": "stream",
          "text": [
            "1223\n"
          ],
          "name": "stdout"
        }
      ]
    },
    {
      "cell_type": "code",
      "metadata": {
        "colab": {
          "base_uri": "https://localhost:8080/",
          "height": 197
        },
        "id": "ZNxFYrqC2j7t",
        "outputId": "4bf58f23-ec26-4ebd-9886-06b4905e2509"
      },
      "source": [
        "x=12\n",
        "y=\"San francisco\"\n",
        "print(x+y)\n"
      ],
      "execution_count": null,
      "outputs": [
        {
          "output_type": "error",
          "ename": "TypeError",
          "evalue": "ignored",
          "traceback": [
            "\u001b[0;31m---------------------------------------------------------------------------\u001b[0m",
            "\u001b[0;31mTypeError\u001b[0m                                 Traceback (most recent call last)",
            "\u001b[0;32m<ipython-input-10-3224aaa645da>\u001b[0m in \u001b[0;36m<module>\u001b[0;34m()\u001b[0m\n\u001b[1;32m      1\u001b[0m \u001b[0mx\u001b[0m\u001b[0;34m=\u001b[0m\u001b[0;36m12\u001b[0m\u001b[0;34m\u001b[0m\u001b[0;34m\u001b[0m\u001b[0m\n\u001b[1;32m      2\u001b[0m \u001b[0my\u001b[0m\u001b[0;34m=\u001b[0m\u001b[0;34m\"San francisco\"\u001b[0m\u001b[0;34m\u001b[0m\u001b[0;34m\u001b[0m\u001b[0m\n\u001b[0;32m----> 3\u001b[0;31m \u001b[0mprint\u001b[0m\u001b[0;34m(\u001b[0m\u001b[0mx\u001b[0m\u001b[0;34m+\u001b[0m\u001b[0my\u001b[0m\u001b[0;34m)\u001b[0m\u001b[0;34m\u001b[0m\u001b[0;34m\u001b[0m\u001b[0m\n\u001b[0m",
            "\u001b[0;31mTypeError\u001b[0m: unsupported operand type(s) for +: 'int' and 'str'"
          ]
        }
      ]
    },
    {
      "cell_type": "code",
      "metadata": {
        "colab": {
          "base_uri": "https://localhost:8080/",
          "height": 129
        },
        "id": "fktEkJQR24Yp",
        "outputId": "9ec854da-6ca8-4240-8dad-fef88df6dd11"
      },
      "source": [
        "if 12 < 6:\n",
        "print(\"Twelve is greater than six\")"
      ],
      "execution_count": null,
      "outputs": [
        {
          "output_type": "error",
          "ename": "IndentationError",
          "evalue": "ignored",
          "traceback": [
            "\u001b[0;36m  File \u001b[0;32m\"<ipython-input-13-8a79114d1aa0>\"\u001b[0;36m, line \u001b[0;32m2\u001b[0m\n\u001b[0;31m    print(\"Twelve is greater than six\")\u001b[0m\n\u001b[0m        ^\u001b[0m\n\u001b[0;31mIndentationError\u001b[0m\u001b[0;31m:\u001b[0m expected an indented block\n"
          ]
        }
      ]
    },
    {
      "cell_type": "code",
      "metadata": {
        "colab": {
          "base_uri": "https://localhost:8080/"
        },
        "id": "A534XXZb4V4C",
        "outputId": "5129dba8-25ca-4403-cab8-ead4388a719f"
      },
      "source": [
        "if 34>12:print(\"Hii\")  "
      ],
      "execution_count": null,
      "outputs": [
        {
          "output_type": "stream",
          "text": [
            "Hii\n"
          ],
          "name": "stdout"
        }
      ]
    },
    {
      "cell_type": "code",
      "metadata": {
        "colab": {
          "base_uri": "https://localhost:8080/"
        },
        "id": "_Dk4Lsm14t5s",
        "outputId": "22c37b48-a3ee-4f21-a850-8ed3a9aab415"
      },
      "source": [
        "if (34==34):\n",
        "  print(\"BYE\")"
      ],
      "execution_count": null,
      "outputs": [
        {
          "output_type": "stream",
          "text": [
            "BYE\n"
          ],
          "name": "stdout"
        }
      ]
    },
    {
      "cell_type": "code",
      "metadata": {
        "colab": {
          "base_uri": "https://localhost:8080/"
        },
        "id": "etSs0H9G5RNw",
        "outputId": "6c3a8005-752f-46c6-a875-edd12252aae3"
      },
      "source": [
        "#This is a comment\n",
        "print(\"Hello,World!!\")"
      ],
      "execution_count": null,
      "outputs": [
        {
          "output_type": "stream",
          "text": [
            "Hello,World!!\n"
          ],
          "name": "stdout"
        }
      ]
    },
    {
      "cell_type": "code",
      "metadata": {
        "colab": {
          "base_uri": "https://localhost:8080/"
        },
        "id": "GNP2dNVq5r1F",
        "outputId": "0671da58-f084-4ab4-a503-98e45f928c2a"
      },
      "source": [
        "\"\"\"This is a comment\n",
        "Written\n",
        "in more than just one line\"\"\"\n",
        "print(\"Hello,World!\")"
      ],
      "execution_count": null,
      "outputs": [
        {
          "output_type": "stream",
          "text": [
            "Hello,World!\n"
          ],
          "name": "stdout"
        }
      ]
    },
    {
      "cell_type": "code",
      "metadata": {
        "colab": {
          "base_uri": "https://localhost:8080/"
        },
        "id": "XYcqg8Ay7AJ6",
        "outputId": "f8546f06-bc92-4b26-96c3-dfd1ffd4cf76"
      },
      "source": [
        "city1='Los Angeles'\n",
        "print(city1)\n",
        "city2=\"Los Angeles\"\n",
        "print(city2)"
      ],
      "execution_count": null,
      "outputs": [
        {
          "output_type": "stream",
          "text": [
            "Los Angeles\n",
            "Los Angeles\n"
          ],
          "name": "stdout"
        }
      ]
    },
    {
      "cell_type": "code",
      "metadata": {
        "colab": {
          "base_uri": "https://localhost:8080/"
        },
        "id": "mNgs7qTH73g5",
        "outputId": "e5b9b8f0-7cd8-445f-9b57-75a858329a6b"
      },
      "source": [
        "k = 12 ; m=8 ; b=2\n",
        "#m =8\n",
        "sum = k +m+b\n",
        "print(sum)\n"
      ],
      "execution_count": null,
      "outputs": [
        {
          "output_type": "stream",
          "text": [
            "22\n"
          ],
          "name": "stdout"
        }
      ]
    },
    {
      "cell_type": "code",
      "metadata": {
        "colab": {
          "base_uri": "https://localhost:8080/"
        },
        "id": "o-WOK1589QIp",
        "outputId": "3c307b70-9180-4c94-8060-cb151332c2f5"
      },
      "source": [
        "x=1; y='star'\n",
        "b=str(x)\n",
        "\n",
        "z=b+y\n",
        "#priint Z\n",
        "print (z)\n"
      ],
      "execution_count": null,
      "outputs": [
        {
          "output_type": "stream",
          "text": [
            "1star\n"
          ],
          "name": "stdout"
        }
      ]
    },
    {
      "cell_type": "code",
      "metadata": {
        "colab": {
          "base_uri": "https://localhost:8080/"
        },
        "id": "m1oQ7N4V-zgX",
        "outputId": "1f9fe315-c32c-4d51-d1ce-76f326c6eb34"
      },
      "source": [
        "x=str(1)\n",
        "y=\"Himali\"\n",
        "z=x+y\n",
        "print(z)\n"
      ],
      "execution_count": null,
      "outputs": [
        {
          "output_type": "stream",
          "text": [
            "1Himali\n"
          ],
          "name": "stdout"
        }
      ]
    },
    {
      "cell_type": "code",
      "metadata": {
        "id": "l2lxSMbJ_LC7"
      },
      "source": [
        ""
      ],
      "execution_count": null,
      "outputs": []
    },
    {
      "cell_type": "code",
      "metadata": {
        "id": "U5yxNTaR_tj9"
      },
      "source": [
        "g3=2\n",
        "y87=5\n",
        "Score_4=12"
      ],
      "execution_count": null,
      "outputs": []
    },
    {
      "cell_type": "code",
      "metadata": {
        "colab": {
          "base_uri": "https://localhost:8080/"
        },
        "id": "dqJxvpG1B4Mx",
        "outputId": "5888850e-faa3-4ece-ccc8-d8d45484bfb3"
      },
      "source": [
        "a=10.8\n",
        "b=12.2\n",
        "c=0.2\n",
        "Total=(a+b+c)\n",
        "print(Total)\n"
      ],
      "execution_count": null,
      "outputs": [
        {
          "output_type": "stream",
          "text": [
            "23.2\n"
          ],
          "name": "stdout"
        }
      ]
    },
    {
      "cell_type": "code",
      "metadata": {
        "colab": {
          "base_uri": "https://localhost:8080/"
        },
        "id": "ADa-izD1CJyG",
        "outputId": "233bd987-ec56-48c7-ed19-8c27c2b5fb2b"
      },
      "source": [
        "Total=10.8+12.2+0.2\n",
        "print(Total)\n"
      ],
      "execution_count": null,
      "outputs": [
        {
          "output_type": "stream",
          "text": [
            "23.2\n"
          ],
          "name": "stdout"
        }
      ]
    },
    {
      "cell_type": "markdown",
      "metadata": {
        "id": "5VlRrDHGCxPh"
      },
      "source": [
        "Variables\n",
        "\n"
      ]
    },
    {
      "cell_type": "code",
      "metadata": {
        "id": "x7xQb0FyCz-4"
      },
      "source": [
        "a=12\n",
        "b=12\n"
      ],
      "execution_count": null,
      "outputs": []
    }
  ]
}