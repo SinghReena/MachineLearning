{
  "nbformat": 4,
  "nbformat_minor": 0,
  "metadata": {
    "colab": {
      "name": "Class-15 (Files and Exceptions).ipynb",
      "provenance": [],
      "collapsed_sections": [],
      "authorship_tag": "ABX9TyNmBpNcXVjQ4fxDhE/OoTf/",
      "include_colab_link": true
    },
    "kernelspec": {
      "name": "python3",
      "display_name": "Python 3"
    }
  },
  "cells": [
    {
      "cell_type": "markdown",
      "metadata": {
        "id": "view-in-github",
        "colab_type": "text"
      },
      "source": [
        "<a href=\"https://colab.research.google.com/github/SinghReena/MachineLearning/blob/master/Class_15_(Files_and_Exceptions).ipynb\" target=\"_parent\"><img src=\"https://colab.research.google.com/assets/colab-badge.svg\" alt=\"Open In Colab\"/></a>"
      ]
    },
    {
      "cell_type": "markdown",
      "metadata": {
        "id": "kpQL26eDs4yr"
      },
      "source": [
        "**1.1 Introduction**"
      ]
    },
    {
      "cell_type": "markdown",
      "metadata": {
        "id": "3gZ6mLoIs_iK"
      },
      "source": [
        "Variables, lists, tuples, dictionaries, sets, arrays, pandas Series and pandas DataFrames offer only temporary data storage. The data is lost when a local variable “goes out of scope” or when the program terminates. Files provide long-term retention of typically large amounts of data, even after the program that created the data terminates, so data maintained in files is persistent. Computers store files on secondary storage devices, including solid-state drives, hard disks and more. In this colab, we explain how Python programs create, update and process data files."
      ]
    },
    {
      "cell_type": "markdown",
      "metadata": {
        "id": "azQguViMtwjc"
      },
      "source": [
        "We consider text files in several popular formats—plain text, JSON (JavaScript Object Notation) and CSV (comma-separated values)."
      ]
    },
    {
      "cell_type": "markdown",
      "metadata": {
        "id": "E5B7jMjLt5NG"
      },
      "source": [
        "**1.2 Files**"
      ]
    },
    {
      "cell_type": "markdown",
      "metadata": {
        "id": "ivyCoArEt_7E"
      },
      "source": [
        "Python views a text file as a sequence of characters and a binary file (for images, videos and more) as a sequence of bytes. As in lists and arrays, the first character in a text file and byte in a binary file is located at position 0, so in a file of n characters or bytes, the highest position number is n – 1. The diagram below shows a conceptual view of a file:"
      ]
    },
    {
      "cell_type": "markdown",
      "metadata": {
        "id": "ceM65CBSuQgV"
      },
      "source": [
        "![File1.png](data:image/png;base64,iVBORw0KGgoAAAANSUhEUgAAA08AAAA/CAIAAAC3lmQRAAAACXBIWXMAABcSAAAXEgFnn9JSAAAF8mlUWHRYTUw6Y29tLmFkb2JlLnhtcAAAAAAAPD94cGFja2V0IGJlZ2luPSLvu78iIGlkPSJXNU0wTXBDZWhpSHpyZVN6TlRjemtjOWQiPz4gPHg6eG1wbWV0YSB4bWxuczp4PSJhZG9iZTpuczptZXRhLyIgeDp4bXB0az0iQWRvYmUgWE1QIENvcmUgNS42LWMxNDUgNzkuMTYzNDk5LCAyMDE4LzA4LzEzLTE2OjQwOjIyICAgICAgICAiPiA8cmRmOlJERiB4bWxuczpyZGY9Imh0dHA6Ly93d3cudzMub3JnLzE5OTkvMDIvMjItcmRmLXN5bnRheC1ucyMiPiA8cmRmOkRlc2NyaXB0aW9uIHJkZjphYm91dD0iIiB4bWxuczp4bXA9Imh0dHA6Ly9ucy5hZG9iZS5jb20veGFwLzEuMC8iIHhtbG5zOmRjPSJodHRwOi8vcHVybC5vcmcvZGMvZWxlbWVudHMvMS4xLyIgeG1sbnM6cGhvdG9zaG9wPSJodHRwOi8vbnMuYWRvYmUuY29tL3Bob3Rvc2hvcC8xLjAvIiB4bWxuczp4bXBNTT0iaHR0cDovL25zLmFkb2JlLmNvbS94YXAvMS4wL21tLyIgeG1sbnM6c3RFdnQ9Imh0dHA6Ly9ucy5hZG9iZS5jb20veGFwLzEuMC9zVHlwZS9SZXNvdXJjZUV2ZW50IyIgeG1wOkNyZWF0b3JUb29sPSJBZG9iZSBQaG90b3Nob3AgQ0MgMjAxOSAoTWFjaW50b3NoKSIgeG1wOkNyZWF0ZURhdGU9IjIwMTktMDItMjhUMTY6MTc6MDQtMDU6MDAiIHhtcDpNb2RpZnlEYXRlPSIyMDE5LTAzLTExVDIxOjQ2OjQ4LTA0OjAwIiB4bXA6TWV0YWRhdGFEYXRlPSIyMDE5LTAzLTExVDIxOjQ2OjQ4LTA0OjAwIiBkYzpmb3JtYXQ9ImltYWdlL3BuZyIgcGhvdG9zaG9wOkNvbG9yTW9kZT0iMyIgcGhvdG9zaG9wOklDQ1Byb2ZpbGU9InNSR0IgSUVDNjE5NjYtMi4xIiB4bXBNTTpJbnN0YW5jZUlEPSJ4bXAuaWlkOmQwNTgyMjcxLTcwNWItNDg2ZC1hODJiLTljOWI2ZGI0NDJiNiIgeG1wTU06RG9jdW1lbnRJRD0ieG1wLmRpZDoyMGJiOWM4Ny0xZjk5LTQyOWUtYmIyMi1hZGEwOGYzMTM2MzgiIHhtcE1NOk9yaWdpbmFsRG9jdW1lbnRJRD0ieG1wLmRpZDoyMGJiOWM4Ny0xZjk5LTQyOWUtYmIyMi1hZGEwOGYzMTM2MzgiPiA8eG1wTU06SGlzdG9yeT4gPHJkZjpTZXE+IDxyZGY6bGkgc3RFdnQ6YWN0aW9uPSJjcmVhdGVkIiBzdEV2dDppbnN0YW5jZUlEPSJ4bXAuaWlkOjIwYmI5Yzg3LTFmOTktNDI5ZS1iYjIyLWFkYTA4ZjMxMzYzOCIgc3RFdnQ6d2hlbj0iMjAxOS0wMi0yOFQxNjoxNzowNC0wNTowMCIgc3RFdnQ6c29mdHdhcmVBZ2VudD0iQWRvYmUgUGhvdG9zaG9wIENDIDIwMTkgKE1hY2ludG9zaCkiLz4gPHJkZjpsaSBzdEV2dDphY3Rpb249InNhdmVkIiBzdEV2dDppbnN0YW5jZUlEPSJ4bXAuaWlkOmQwNTgyMjcxLTcwNWItNDg2ZC1hODJiLTljOWI2ZGI0NDJiNiIgc3RFdnQ6d2hlbj0iMjAxOS0wMy0xMVQyMTo0Njo0OC0wNDowMCIgc3RFdnQ6c29mdHdhcmVBZ2VudD0iQWRvYmUgUGhvdG9zaG9wIENDIDIwMTkgKE1hY2ludG9zaCkiIHN0RXZ0OmNoYW5nZWQ9Ii8iLz4gPC9yZGY6U2VxPiA8L3htcE1NOkhpc3Rvcnk+IDwvcmRmOkRlc2NyaXB0aW9uPiA8L3JkZjpSREY+IDwveDp4bXBtZXRhPiA8P3hwYWNrZXQgZW5kPSJyIj8+Q3mC2AAAJIxJREFUeJzt3Xd4FNXaAPD3PWe2ZJNsGiSQ0BEIBEIvdqVLs1wBhStVEbGA5VMsV5rK1Wu/KgIqKqJe7rVAooLSq9IRkEuvgfTdbJs+5/tjN0tIvBZkZn3C+T15nuxO2Xdm9szMu+fMzAF2ofLz8tq1bt20YaPrrrr60MGDF/w5F6CkpOSjhR/eevPN90+617Kgr73yavZlLdrntG3euMndd94piaI1cWc/+1zTRo1zWmU3zmow+9nnrAka5fF4Bvbr/9orr1gTbt/evf169+nQNrdTboes9Pr33zPJmriMsS8+/7xDu3Yd2rZr3qjJ87P/bkHEh6c82LB+VpcOnTrldujWqcsV3Xs8P3u2BXEDAf+4MWNaNmvetGGjAf36F549a0FQxtgXn3/eKbd988ZNclplr/juO2uCcmGqpq1ds+aJqVP79uq9beu2WC8Ox3FWE+CCbFi/ftDgwfPmzr1rwoTxY8dddcWVh44eSUxMvLBP+102btg4+f77MjMz161d16NHDwsiRk2bMeO2Ebdv37a9S9cuwWBo4ceLLAjaslWrDxd+eNU113yy6OMRfx2Znp4+7s7xFsQNe+rxJ75avqxlq1bWhDty5MjWLVsmTLw7Pj6+pKSkS5cu1sRdvHjx8OHD57z51sRJ92zetKm8rMyCoJ27dtF1zZ2URChJjE+cOnVq29x2FsS9Z8LE7du2bd2xHRC7dep8z4S7P1+6xOyga1atvmPEyHffXzBs+PCnHn9i8ICBu/ftbdGihdlxOQBQFOWeCRMOHTykG8bO7TsIwVgvEcdxlruwJPHyrt369uwVfVs3JfWJqY9fpAT0V5w6efLw4cOMsSkPPNC9cxdrglbz2iuvAEBxUZHFcZs1anzb0KGWhfvi888bNWjQsH7mIw8+ZE3ExZ/+q9d111sTK8rQ9YaZmY9PnWpx3Kq2bt3asV3uqZMnzQ4ky3JW/cxnZ80Kv/37c7NzWrcxOyhjrOc114687fbo2+6du4waOdKCuLWPKIoBv58x5vF4ftq3T5KkX50lGAzu27uPMbZt69ak+IStW7aavpQcx/3JkAtIEMvLy/fs2TPkphujQwYMHLB82TcXLQP9RQ0aNmzevDkAiKKI5EKW/4/z+wMUIM7lsjLo6dOnK7zeITfeZE248vLyB+697/kXXrj8yis9Ho81QQHA5/OpqmpZOABYtmyZr8I38Z57AKC4uNjK0FGT7p44cMjgBg0bmh3Ibre3a9t2wbvv6boOAEu//HL4sGFmB5Uk6cSJEx06dYwO6dKt6/79+82OWytN/b9HJ028Z+mXS9q0bNUmJ+eqHpefPXPml2dxuVxtctoAQPhL5zjuEnQh2dKB/f81DKNlq+zokJatsg/890AoFLp4C/brmMFi0iBRXlY2c9q0hx56KCEhwZqI78yf//RTT93Qp+/0WbNuHznCmqDjRo/p0LHjbbffXnD6tDURAcCd5P7v/v19ru91/6R7jx87Zk3QgwcOXNaixZrVq2/o2/fKbt1vGzrMa2F2CwCvv/ZaWXnZ355+2ppwn33xuc3haNywUb9evXv26vm36dPMjuh0OhMSEnZt3xEdUlpSWl5W7vf5zA5d+9js9o8WfTRr5sw33npryRdf7Ny1c/azz8V6oTiO+7O7kOv2yj3lqqIKlJ77FEEISKIkSS5rq7tiom/PXlddffULL71kWcTDhw5t3rz56NGjp06dsibiwg8/PHjgwJ79PwGAYWF9wOVXXLE0P//QoUNvvfHG/Llz123a2K17d7ODqqq2Y9fO/KX5b8+bZ7fbe3TvPmzosG9XfGd23DAxFHrx+Rce/r//s9vt1kQsLi5ukJnpcbm+XbUyLb2uKIpxcXFmB53y8ENjx43r06/fqNGj335rzrq1a+vVqyfJshWX+tYujLGkxMRPF/+r+WWXAcANNww4cuRIeNTxY8dPnDjucDgAwDAMAMxtn2vZj1KO4/7MLiTbS01JtdltWpUkQNO0BGec0+m8eAv2J3Vljx6Czb5y7Rorg/79hRcA4MSJE02aNPF6PHPfmW9quNLS0kn33DPh7ol+n+/o0aOSLJeWlp45cyYjI4NWSfHN4Ha7r+t5/XU9r7/r7gmdO3R88IHJG3/43tSIABAX52QAM2bNaNykCQC8+957/fr23bFte6cunc0ODQAzpk/XdX3SffdaEAsAJEm67trrRo8ZPWPmzHWr1/Tq2fPY0aObf/jB7Lhjxo71V/hmTpv21htvDBoy+M4Jd327bHlSktvsuLWP3+drk5MTTvUAABEclb8TvsrPnz9vXt26dRFRURREnDP37ezWrWO3sBzH/VlcSEtuq9bZBPHggf9Ghxw8cCA7O7vWV+wNHzr0bGHR99u2xCR648aNn5g69dNPPgkFzW0xP1NQ0KFd7uGDB4cPHfb4Y1ODgcCPu3c/+vAjkiSZGreasePG7t61q8T8C+lSU9PibHZ3UlL4bXbr1ilJyYcPHzI7LgAUFRX989XX7r5nos1msyAcAHyw4H1Fkh5+5BEAuOb661asWvX9li2ff/aZBaHvnzJ59759Xy1f9rdp006fOu1OctvtDgvi1n4YuaRlwsS7N/3w/dKv8pfk533z7fKvLbybnuO4P7kLqttLTc1t3yFvydJ7778/POTr/K/uvPuui7pgv87hdAjCBT5B5gJ8sOD91StX7T900LKINR0/djzRneiKNzerzm3ffv33m2VZppQKgtC9c5c2OTkLPvyAMWZq3Go2rt+QmpZWNz3d7EBdu3cTKN25Y0dWVhYA7P/pJ0VROnW2omJv7pw5iqqOG2/dI3WCwWAwGIxerd+4SZNEZ5yhG9ZET0hMSEhMKC0t/eKzz2Y++6w1QX+LtWvW7v/pp379+zdt1rTqcFmWv/nq62AwOHDwoOTk5KqjfBUVX+XnO53OGwYMcJrfFP5b2Gy2X/7ZwBgQQgiNzc1tHMfF0oXdyrtpw0YAeP311xljo+8YVTc1zePxXLw7hX/J8ePHP3z/g++Wf3tFt+7166Yv+eLL999bsHvXLrPjNsjMrJOS+vI/Xnz80cfumzRp9rPPqapqdlBFVubPnbd50ya/z/fyiy8BwJuvv2520GqaNGh485AbrYm1Y8eO/Lw8SZL+8fzzADDv7betiTtqxMg6ScmHDx8+efJkk6wGE++6y4KgiqLYqWDxU4SKCgtT3En9+vQpLioqKCi49qqru3bsZEHcPT/umT93rqe8fO+Pe3KyW191xZUWBP3tevfuDQDz5s2rNvzsmTNutxsAtv6wpdqoXTt2AkCcM+7kCdOfm1PVrTffclmTptG3Pbp2veryK355FkVR8pfmfZWXP3PadACYNWNm3pKlX+Xla5pm8sJyHPdncYF1Y5dfeUV+Xt70p6fNn/N2/czMjZs3Vfvha54Tx4+/+858tzupafNml7Vs8cGC90+ePPnAg5Nz27c3L6iiKIMHDTp16vTixYsZY36fv1V2K8MwvUbEZretXLni5RdfjIuLUxTlzdf/Oen++8wOWs3gG4c0bdr016e7GEqKih98YHJqaqqqqgveeXfM+HHWxH33g/cfmHTvwL79HHHOocOHv/DSixYELS4u7tW71+DBQyyIFZWekbFy9arHH33shn79bYLQsmVLa1ZWksT58+Z9+P4Hfr//qquuevnVVy0I+tv1ur5nwFvRssbTnl3x8bcNHVZSXFw3o3odc526dW696WZ3cnJCoqW3QVx19dUNG517Uk+ffv2EX7uaVlXVvLy8w4cOpaamjhk16sfdu1evWtUqu1Xvvn3MvhKX47g/CWR/oHlOlmWfz5eWlkZi9Ny7S0SFtyIYDKZnpFvZch0rwUDQH/CnpaVZdilbVPixgikpKRbHjYny8nJBEMIVV9ZgjBUXF8fHx/O7RDmO4yz2h7I9juM4juM47k+O18lxHMdxHMfVZjzb4ziO4ziOq814tsdxHMdxHFebCQAM+KV7HMdx3P+CF6VP8vM+hDGGF+djOY77dQIETwJTq+2HHMdx3KUIkQEAEEAAQBb+BwiAgAiAjEVehM8aDCpfh8cCVI4lDADg3JThTwcEgyFjjFBqs9n5iYfjrCEA00FXAXmTLsdx3CUvUt8WyfYiiRqSc3kbwyo5HAFgVd5i5SdUSe/OZXuRgYwxRGITbDzV4zjLCIAk8mc1BkiBENA1qyMTCowB0y2t0UQEQkHXAaxtN0cKCGBoVlffEgGYbvVFAoiAFIxYlChgYFhbogCB0BhsZEIAEAzd0qAQLlGG1bttbDAgAgCArl2kJtTf4xeyvWiVHlbL4aoOhBoZ3nmvGWOEEJvNwZtxOc5KsarSY0AEQBR9JYauWZprCnZFDkhBb+R4ag1EoDbRX6ZpElj5JGoi6IYm+ksrj8VWEexyyKtIASAWPqmfEEAUA6WGYXGJsmmqKAU8gBauLCIIgiJW6Kps6cpSQdc00V9mdRYi2BXJL4sVlpao2GAg2DVVkgLllh4rLBGp1bM5earHcRaL0dGEUKDUV3bK5z2LhFh35rDZdUUsKzysqqJ12R4iCPZQRZGn5AQwsOrcHM6nwVt8NOgvtzS1FRxKyFtWdNTQdesSESRAhIrSUz5vIVqXdTEQbExTywuPSJIfqLUlyltUXnycMWZdTkAFYOApORYMlFmadQl2TQ6WFR3RVLm2Z3sMqD1comQpYOluW3UZfubvD8NoqufgmR7HWe/njiZocvqFCICB0lMVnjNOVxIiiTRFmR2XUEMKlRUd1hSZCvbKQxiafLJEIESsKPaUnCBUIJRatLJIgBne4uNBf5k7pf654WafLImghDxlhUcYMwgVIhvZmhJVdsrnPRsXn3Ku2sD0laVMlcuKj0hSwJWYVtmiakmJ8hZ5Sk9SwYbEqt0HCRi6p/REKFKirNvImhQoKzqiawql9sq9FmvnpcaEMFUpKz4qywFXYqpVx6iqGBhq5EU4dM022fOu26s6DWXnzRX+FIzUKTBGUBDsjhi0TXMc9zPZHhJNCWmajKYdTAmhqhLyVxRRaiPhKIjAQJH8hqGbVsOPhBC/t1BVJGqzR7MQQ5MVUTSvWQGRGIZWUVaAiIQKwCDcqGr2RqbUFgp6g/5SweaIHpQZM5RQBTDDrAMuIgJ6y04zw6CCPTwIkGiqpKmiqSVKkUO+iiJKbZEoCMBAEX1mligghAb9pbIYEGyOyCAkhq6qUtC8a8sQiaGrPk8BIiGR2kQERFUJ6ppq5soKYqgi5C+vLFEMEJlhqGIFY4Z560sIrfCc1VSZCnZWudvqmqwqJu62sUKIEPSVyJJfEOzRC+YMXVXFoBVJEjOQCLbEhkidwIzKrzR6T+65t1VfnBuF4Vt0q449b2JLm3E4jjtfzWwPNU2WxQAx7Sc7ItE0GQkFwzjXQoCgKaKmKmjWr1hEBN3QCRUYM6LDDENXJL95bX+IqOsaEkCI1uoBMNQUWZZN3MiEUE2VCLVVXVkApspBw9BNS7ww3O5zrlYPABANTTG3RBGiKRIhlBnGuToJRFURdRNLVLgkq4TaGNOjg5ihK2Iw/NqkoLquAhIkrEoLG+qqrEhBNHW3VSVKqVF1IzOmSCHD0MxL5RGRGTqlNgZVdltdU8SAed9srCASTVcpFQyjsv0UkRm6LAXM28JRzNCI4BRSEpA6ogNrFuJfLtY8m+O4P6efaclFJIRQU7M9Qmj1wwIDJJRQal4igojkZz4cCRHMPFeFP5lA9FwViYqUUPPOzee+wXMJAQMAJJQAmleBCsAQCQMNq36/aO7KIiGECDVLFEHCTCxR4ZJMzr+qiQEiIbTyfkZTgjJm1PwGEQkhgompLSGE0PBvhqrDCSEAgqm143h+YgvAENHMY0XMIBKCBBied7jA8DHK9DyKARAkaPFDAziOs0RtO1xyHMdxHMdxVfFsj+M4juM4rjbj2R7HcRzHcVxtxrM9juM4juO42oxnexzHcRzHcbUZz/Y4juM4juNqM57tcRzHcWbZvm3byhUrftcsuq6//dacB+69b9eOnTXH5i1ZOunuiUuXLKk6cPk3y3bv2vVHlvP3Wr927do1a6yMyHF/BM/2OI7jOLO898678+a8/btmeXbmrCVfftGwYcPi4qJqo75dvvy5Z55p0qQpMNi5Y8fgAQPLysoAYMb06fn5+RdtoX+DN998c+GHH1oZkeP+iJj0us1xHMddEho0bPB7+5XZvHlz3379H3z4oZqjvt+8uX2HDo8+/hgAnDp16tZhQ+OccQCQkZER73JdlAX+jbIys2w2m5UROe6P4Nkex3EcZxZBsNHf2cVLXJzTZvv5c5PbneSr8IVfN2zYcPSYMeHXlFLr+02ufT01c7UYz/Y4juO4X6Hr+uuvvbZ71+5x48dfc+01AFBSUnLs2DGCJG/JksKiwv433HDzLbdEp1+3bt0nixbl5LQ9duyY2+3+Xx+7aOFHGzasz8jIuHPChAYNGgDA/v37Dx48GPAHevfpk926ddWJ/X7/yhUrCk6fzs/LGzR4sKe8fN/efZdfeQWl5/fKyNg/X//n1q1bxowd27NXr2oRg8HgwQMHdF3PW7K0uKR43Pjxnbt0mTtnzs4dOy+/4vKx48eHJ1uzenX+0rxAMDBi5Mhrrr0WACRZ2vvjnpLi4m++/vrFV15JSk4SQ2J44q1btjidzna5uQDw1htvbt60adSY0X369gUAn8+3/6f9p0+f3rRh/dQnn6xbt+6FbX+O+4P4dXscx13SmGE4U9zxWRn2OAfTz3VQyxhDAFdacnxWBrXbzhtlGFSg8fXqxKenUkqYUfv7lh0x/Lb8L5e0bt364SlTln+zDAD2/vjjNVdc+cysmQ6Ho1GjRg8+MPnjRYvCE8+fO2/MyDsy62d6vd78pUvJ/6jbmzBu/Py5b+fk5BSeLezfq8++vXsBIOD3q4oqyzKrsVHFUEgSRUVRDF0HgI0bNtw3aVL1VA/gryNG/udf/2rXLvfRhx9Z+uWX1cYWFhYOGTR4xtPT3Unu+Pj4sXeMvnnwkNOnTue2z331pVeemTETAH7cvfuZGTNT01KT3EmT7p64fft2ADhbcHbwgIEv/uNFRFK1DffH3btHDr8tGAoBwJg7Ri1auLB9hw5TH33ss3//BwD2//RT7+uuW/DOOzab3W63X8im57iLgdftcRx3SbM77Ds27z59prhDu5YNs9JlRQ0Pp5QahrF5zdaSMm+Xjq0z0lNlWYnOUuELrF2/w2YTOrZv6YpzapoeuzUw3Tvz5p0pKFi/eRMASLI0efLk/95wQLDZsrOzP/r444SEBAAIBkPfffvdiJEjC04XzJw+/Z0F7/Xr3x8AVEUpLS2t+ZlffPb5xo0bt+7Y7oqPB4Apkyc/OGXKtytWdO3WrW27dtf3vL51m9bVZknPyBh8440nT54cctNNABCfkJiYmFhtmkULFx4+dOj7bVsBABCmTJkSnjiKEpJZv/7sF55v264tAPy076cWLVs++/fZAJCUlLzwgw8BoGmzZp8s/lfd9HQA2Lt3z9d5+Z07d0aEpk2bvjnnrXCNo9db0ahRQ1EUx40e89zzz/fo0ePfixfv27v3h+3bCCE2u+3BKVP+MvRWl8t1WcuWn/x7cc1F5Tgr8WyP47hLF0G0JyU+PuPNles3z3nxqYkPjZbPFIdH2e02WVbueej5H/fvX7Lo1SEjBssFhZFRye4T+w73Hzop0ZW0c/3ClFapmtcfu5Uw3fp16zp17rx+3frFn35aVFR4xx1/BQBDN+rUrRtO9QAgJSU54PcDwLJl3zRu0iSc6gFAojvR4/EAwOHDh95/b4Gu65mZmfdPnvzd8uV9+vYNp3oAMGrUqPFjxhYVFWVkZETj+v3+uXPmeDweSoXxd93ZuHFjSZJCwWB4LKXEZq9+n8TqVas7duq0aeOmTz/+uLCwcNSoUbquV63/UxQ1rU6d9Iz08Nv4+PjMrMzI64T4RHciACQmJiYmJhqGIYZCPp8/OSUFAHTDSEpOTkpODk+cnJS0edOm3Tt3zXz2mQEDBwLAyu9WdOjYccsPWz5ZtKjw7NnRY0YDgGEwt9sdX7maHBcrPNvjOO7SxQBA1XJaN9uz73BGegpUVuwBgGEYwFjH3JblnoqUpERQlXOzqaorztmlfW5qcqLdLkCtrtgDAFlWVq9a5XYndr+8x8BBg1JSUgBAqbpBADRNC997e6agICsr69xwVWOMhV/4fD5d191JSQBwtvBs127dopOlp6c7HI6TJ09WzfaYYfj9AZ/PJ1BB/20bWVXVjRs2pNVJ69y1y6DBg9PS0qpNQAhqmqqqas15NVWL3nix4rvvXn3p5fqZmceOHk1NSwUABNQ1TdO08ATJKSmLP/sst03O3HffiYZev25dRkZ6h04dBw9+uk7dugAgy9JvWWyOMxvP9jiOu3QxxoIV/tnT7p097V7GWLDUEx2lKCoAvPXyY5HJisujo4Jef+OG9dZ+/XZkVCBk+YJbyul09Orde9Zzz/2WievVq7d29ZroW8EmhKvWslu3fv2NN6LDXa74wsLC6NuSkhJRFMM3akS5k5JmzJr5uxbV4bBfd/31z/y2Rf1f9u3Zc/+ke//+jxduvOmmEcOGF549W3OagoKCp5980mazDbrhhm9XrgyHvuaaa56ZPfuPhOY4k/C7NDiOu6Qxxux2m8sVJ1DKatwa4LDbXS4nJaTqKMYYIehyOuKcDkSsOVctM2DgwNWrVklSpJpq546dAEAI1fUq9W0MgDEAGDBw0NHjxzds2BAeXFJcEhLFmp958y23LP9mmd8XeZzK+wveT69fr379+gCg67phGDVnicSp3NqMsWiFX3SWwUNuXL9+nd8faVjfuXOn1+s9b3YAZrDoo1N0XTei999gZBWWLFnapm3bG2+6CQBKSkrCARGBAURnVGTZ4XQ+NW2aLCvjx4wFgFv+8pdNmzaVl0d+FezauRMABEHQK6sDOS6GeN0ex3GXNESUZSV8B0bNJ6hJsgwyVBuFiIbBgqIUfWvRssbIsNtuW/7Nst7XXT90+PDt27bpur7o008kSTx75kx0mpKSkvDbrAZZjzzy8LhRo8eMG6tq2lf5+YmJiaqqVnsW8a3Dhq5evWpA/xuGDR+2b+/e7du2L/r00/CooqLCaLpWTWlJSVFRpIMNMSRGXxcXFXk8XgAYfOOQr/Ly+vbsdduI23fv2h0IBD74aGHVT1AUpaCgQFGUczN6IxW6Ho/n5KlTAHDzLTd//p///O3JJxHxx9272+TkAICqacePHRMrU97y8jK/3wcAy1d817xxk9nPPvf4k0/06t27f68+I+746949ezwez2dffqEoypkzZxRFcTqdF7bxOe6ioNOfmAJMP/escyS6KumaimhWtR8iGoauqhIwRgWbKyEVkABjmioxQzftuImIqKmSrmsAzOly25wJwJihq5oqmXewRkTGDFWRGDMQSXxCGlIBGNNVydBN3chE11VNlYExmz3OGZ8MwIAZqiICY+ZtZABQVckwdESMi0+hNicA0zVZ1xRzS5QeLVF2V3xKpEQpImOGqV+upsm6pgIwhzPBHucGYMzQNUUChCq1ABc5KGOGpkqMGYRQV0IKoTaAcInSTF1ZXVc1TWbMsNnjnPEpwBgwQ1NFZmKJAkRUVckwNABwupJsDhdAeLeVa1+OFSlRusoiJSoRAJihaYqJx6hzGENCbQn1kPxMLcCNN98kCML2bdvatM2ZMXOG3eGglLZt1+6yFpeFG2rdSUm57ds3a94cALp269YqO3vjxo1paWkzZs3q3qNHvYyMms8fGThokMvl2vrDlsysrFf/+XqjRo3Cw+vXr9+lS9d69evVXAx3kju3fW7z5s0BwG63t8nJadmqJSGkfv36nbt0yczMBIBBQ4bExcVt3bK1RcsWM595JnofSZggCI0bN2nbtm04/apXv36XLl3DN2rEOeNy2uZkt25dt27ddrm569ety8nJmTZzZlZWVtNmzQSBNmzUKLddu7i4OABIS03Lbd++SdMmgiBcfsXlCQkJrbKzBwwcmOh2//DD982aNZ/17DNxcXGMQZs2bVq0bMk73uBiC1ngGOgyRM/EhMohryIFCan+EKOLFhKJpsmhoJcZus3hqpPRHAgFQxeDHjNzAkREMeRVFJExIzmtgSupHhi6JoekkNfUrMswtGDAYxgaIbRuvRbE7gTDkENeVQ6haRuZECrLQTFUwQzDlZCaXLcJgMF0LRQoZ4Z5CRACsFDQo2kKIqbWbWp3JQEzFNGniH7zVhYJ0RQ5FPIyQ7c749PSmwGhYBhioEw3OaWWJJ8sBRkz3Mn1ElKygOm6KksBj5nZHtF1VQx5dV2j1JaW0Yza4oCFS5SIv7PTgt8RlxBFDkmiz9A1V0JqcnpTMAyma2Kw3DCxRAEiCQU9qioBsOS0RnGJdYCFd9sK877ZWEEkkuhT5JDBdHdyvYSUzPAvQzHgsSDbY4ZOqD0uoz1SXgvFcbVNbTtcchzHcRzHcVXxbI/jOI7jOK4249kex3Ecx3FcbcazPY7jOI7juNqMZ3scx3Ecx3G1Gc/2OI7jOI7jajOe7XEcx3Ecx9VmPNvjOI7jOI6rzXi2x3Ecx3EcV5vV6CEHkRAbJdTUbh50XQUAdv5QQgVm6Kb2pQE1nkePlBBCTe1uAYCdF5YxQCREIOZuZAERz9vGDJBQSgQDNPM2crVvNfyWULNXlurk/BLFGCAiFQgzTP1ysdrvJYZIKKEUGNQsbBcrKGPVOoxngICEEkLN60sjvJuw875ehoQQIgCY1+EhIJIaH46Rla19fWkQgkjY+TsRYnhlze9LAxihNkSz9lOO42KoarbHgAiAKIkVihwgP9dV4kWBiLquIVZ2LMUYEIFpihj0GoZ5iQgAYrgjUcYq8wLBpok+MVRBqFkrC4hgGIyxytVlQCgAkyW/bO5GJuFu6BjokbiCTZMCYsjLTO7EvUrXtAwQgVBFDomiz7yNjJFvNtpVGQMiMEOTRZ+uKSb22Iao6cp56RcVNMkfClWY1/EgADJWpUQxAEIAQJECsmxqh4eoayoiRjIRBkBtuiKKYoWp/eQComHoiIQxPTKECmpQEsUK83afWEFEvWqJYgBE0PWgJFaYV4zPYQaqkl52CAUnMAMAARERATD8uvLIEXld2d9m5TQ1JwYAJJEJGBDBTijvK5bjYiN6uGRABKA0UHrK5y38ud/TFxMiIhIIVz4JNgDDW3o8FPCYmHVF4hJEAqADAtgcmr/UW3pS0xQzz80AAITQSCZCKFAhWHqiwrKNDBoAA5uDyUFv8XFZCZp9jgzXQzCDASIIDslztqLsNANmck0MEkIidYtEAERf2amAv4wQYlJ/tZGoVb9Em0P1l3lKj+uaava5ubJEMSQEqC1YcsLnLao83ZqlskQBAIBgA1WqKD0pij6zd5/wRo5k1Da74iv1lp0y95dh7IRXNvItCnZd8ntLTyqKaPZGjhIDJQwBkQKQcI0xAAUkSAggRUAIv0AS3tEACCIBJAQJUgJAECkgBSAIBAjFcK0wEEoEhyvZ7IM8x3E/q3LHq0z1KjxnqWCz6DDKGCECMMNbfDwUKBds1nTFzYAxKjiY6C8tPGwYuiA4arQ/mgMJoTaxvMBbVkCpzbxGt2qIYAdFKis8LCshQXBYEJExAAQqOBRfSXnxMSSEEpsVG5kBUgqIvpJjAV+JINhNak6tiVC7IfrKig4zQ6fWlCgGiASpECov8HrOUCpYlv0gtYGhlxcdkUSfNSUKIFKi9GBFedFRxgxK7RbttjFCBDtTxbLCw5oqWXeMAkAhASK/ihGQEELCaV84pavM9iKZXJVsDzGcEUbeUgCMZHuV8wIDRfLZnW6e8HGc9ZD5jwLoINisTvUAGDNs9jgkVApWUMG6Gn7GDFd8iiKHFCVErWpZYIxRanPEJQT9ZQhoWarHDN3uTGRMl0U/FezWBA1fv+Z0JYVb54k1qR4AMwy7w0UFW9BfTqlgWarHmOGIS9QUWVNFYlUWwhijgs3hiA8Gys+rdTOZYejOODciBAMewboSBQDM6UqWpYCuyoRaVKJihTEjzpWsqZIsBalgaV6LhJiV7SEBAETB7ognlF8dyHGWQhY8AWj4y075PIVWpnphjDFm6Jb/1EPD0CDcHGYtQ9fQkguuq0DGdMZYLFZWR0Qk1MpzVaxKFDM0AEAiWJyFGIaGGIsSZRix222t3sixgMzQWCxW1sRsDwgSEr5/yuFwWfaLl+M4ABAAwVd81OctooIdGDt3KbRFGCIww+KggMAAMAZxEYEZzPJTFUIsNjICAAunQRaKTYmCSImyeGXDF+/FokRhLHYfAACwfiPHCMNYlCgABsgAGQACMhZ+C9E/PJd8MqxyUWzlPUMRJPJRjAEwDM+LDFjk+l1VkQS7w/qfoBx3yRJCAW9IDDni61hbPcBxHMf96VTW7UXuuiWVlXyVrbEAWFm3F7nTLlq3h1h1VKRur2ozbvgKFhqeXtM0m83cO9U4jov6fwR2rFg/jZrcAAAAAElFTkSuQmCC)"
      ]
    },
    {
      "cell_type": "markdown",
      "metadata": {
        "id": "A-NeyEbPuYZ8"
      },
      "source": [
        "For each file you open, Python creates a file object that you’ll use to interact with the file."
      ]
    },
    {
      "cell_type": "markdown",
      "metadata": {
        "id": "rPThQkiBudVL"
      },
      "source": [
        "*End of File*"
      ]
    },
    {
      "cell_type": "markdown",
      "metadata": {
        "id": "mBoHp7izukq8"
      },
      "source": [
        "Every operating system provides a mechanism to denote the end of a file. Some represent it with an end-of-file marker (as in the preceding figure), while others might maintain a count of the total characters or bytes in the file. Programming languages generally hide these operating-system details from you."
      ]
    },
    {
      "cell_type": "markdown",
      "metadata": {
        "id": "EI-s3QSxuoAe"
      },
      "source": [
        "*Standard File Objects*"
      ]
    },
    {
      "cell_type": "markdown",
      "metadata": {
        "id": "J_4gpuTnuuM1"
      },
      "source": [
        "When a Python program begins execution, it creates three standard file objects:"
      ]
    },
    {
      "cell_type": "markdown",
      "metadata": {
        "id": "1fh_Aa_Huvs1"
      },
      "source": [
        "sys.stdin—the standard input file object\n",
        "\n",
        "sys.stdout—the standard output file object, \n",
        "\n",
        "and sys.stderr—the standard error file object."
      ]
    },
    {
      "cell_type": "markdown",
      "metadata": {
        "id": "ItO_o4X8u8x0"
      },
      "source": [
        "Though these are considered file objects, they do not read from or write to files by default. The input function implicitly uses sys.stdin to get user input from the keyboard. Function print implicitly outputs to sys.stdout, which appears in the command line. Python implicitly outputs program errors and tracebacks to sys.stderr, which also appears in the command line. You must import the sys module if you need to refer to these objects explicitly in your code, but this is rare."
      ]
    },
    {
      "cell_type": "markdown",
      "metadata": {
        "id": "GUpA-nCfvCqw"
      },
      "source": [
        "**1.3 Text-File Processing**"
      ]
    },
    {
      "cell_type": "markdown",
      "metadata": {
        "id": "Rq60x0mfvLCS"
      },
      "source": [
        "Write a simple text file that might be used by an accounts-receivable system to track the money owed by a company’s clients. Read that text file to confirm that it contains the data. For each client, Store the client’s account number, last name and account balance owed to the company. Together, these data fields represent a client record. Python imposes no structure on a file, so notions such as records do not exist natively in Python. Programmers must structure files to meet their applications’ requirements. Create and maintain this file in order by account number. In this sense, the account number may be thought of as a record key."
      ]
    },
    {
      "cell_type": "markdown",
      "metadata": {
        "id": "dHBrOxdsvkPK"
      },
      "source": [
        "**1.3.1 Writing to a Text File: Introducing the with Statement**"
      ]
    },
    {
      "cell_type": "markdown",
      "metadata": {
        "id": "ptrgWGI5vo-s"
      },
      "source": [
        "Let’s create an accounts.txt file and write five client records to the file. Generally, records in text files are stored one per line, so we end each record with a newline character:"
      ]
    },
    {
      "cell_type": "code",
      "metadata": {
        "id": "bUWTxRpuvuYE"
      },
      "source": [
        "with open('accounts.txt', mode='w') as accounts:\n",
        "  accounts.write('100 Jones 24.98\\n')\n",
        "  accounts.write('200 Doe 345.67\\n')\n",
        "  accounts.write('300 White 0.00\\n')\n",
        "  accounts.write('400 Stone -42.16\\n')\n",
        "  accounts.write('500 Rich 224.62\\n')"
      ],
      "execution_count": null,
      "outputs": []
    },
    {
      "cell_type": "markdown",
      "metadata": {
        "id": "zPnoVsAvwOZa"
      },
      "source": [
        "You can also write to a file with print (which automatically outputs a \\n), as in\n",
        "\n"
      ]
    },
    {
      "cell_type": "markdown",
      "metadata": {
        "id": "wnciDOTv-c7z"
      },
      "source": [
        "print('100 Jones 24.98', file=accounts)"
      ]
    },
    {
      "cell_type": "markdown",
      "metadata": {
        "id": "ROXjy6DSwb1q"
      },
      "source": [
        "*The with Statement*"
      ]
    },
    {
      "cell_type": "markdown",
      "metadata": {
        "id": "tFnteTcCwqg5"
      },
      "source": [
        "Many applications acquire resources, such as files, network connections, database connections and more. You should release resources as soon as they’re no longer needed. This practice ensures that other applications can use the resources. Python’s with statement:"
      ]
    },
    {
      "cell_type": "markdown",
      "metadata": {
        "id": "HM3rnrN6wtnC"
      },
      "source": [
        "acquires a resource (in this case, the file object for accounts.txt) and assigns its corresponding object to a variable (accounts in this example),\n",
        "\n",
        "allows the application to use the resource via that variable, and\n",
        "\n",
        "calls the resource object’s close method to release the resource when program control reaches the end of the with statement’s suite."
      ]
    },
    {
      "cell_type": "markdown",
      "metadata": {
        "id": "Hc2dWgbkw4r9"
      },
      "source": [
        "*Built-In Function open*"
      ]
    },
    {
      "cell_type": "markdown",
      "metadata": {
        "id": "x3gy_-v5xB-U"
      },
      "source": [
        "The built-in open function opens the file accounts.txt and associates it with a file object. The mode argument specifies the file-open mode, indicating whether to open a file for reading from the file, for writing to the file or both. The mode 'w' opens the file for writing, creating the file if it does not exist. If you do not specify a path to the file, Python creates it in the current folder. Be careful—opening a file for writing deletes all the existing data in the file. By convention, the .txt file extension indicates a plain text file."
      ]
    },
    {
      "cell_type": "markdown",
      "metadata": {
        "id": "Qj01tKuDxLXQ"
      },
      "source": [
        "*Writing to the File*"
      ]
    },
    {
      "cell_type": "markdown",
      "metadata": {
        "id": "j5RQe7o5xO7B"
      },
      "source": [
        "The with statement assigns the object returned by open to the variable accounts in the as clause. In the with statement’s suite, we use the variable accounts to interact with the file. In this case, we call the file object’s write method five times to write five records to the file, each as a separate line of text ending in a newline. At the end of the with statement’s suite, the with statement implicitly calls the file object’s close method to close the file."
      ]
    },
    {
      "cell_type": "markdown",
      "metadata": {
        "id": "i2QPDiCzxSYs"
      },
      "source": [
        "*Contents of accounts.txt File*"
      ]
    },
    {
      "cell_type": "markdown",
      "metadata": {
        "id": "wwODDkSQxWDS"
      },
      "source": [
        "After executing the previous snippet, your directory contains the file accounts.txt with the following contents, which you can view by opening the file in a text editor:"
      ]
    },
    {
      "cell_type": "markdown",
      "metadata": {
        "id": "MTyFLhuNxZ7r"
      },
      "source": [
        "100 Jones 24.98\n",
        "\n",
        "200 Doe 345.67\n",
        "\n",
        "300 White 0.00\n",
        "\n",
        "400 Stone -42.16 \n",
        "\n",
        "500 Rich 224.62"
      ]
    },
    {
      "cell_type": "markdown",
      "metadata": {
        "id": "95-uy8c4xlmu"
      },
      "source": [
        "In the next section, you’ll read the file and display its contents."
      ]
    },
    {
      "cell_type": "markdown",
      "metadata": {
        "id": "y2IQeE3IxqpK"
      },
      "source": [
        "**1.3.2 Reading Data from a Text File**"
      ]
    },
    {
      "cell_type": "markdown",
      "metadata": {
        "id": "opcwZmT8xwyz"
      },
      "source": [
        "We just created the text file accounts.txt and wrote data to it. Now let’s read that data from the file sequentially from beginning to end. The following session reads records from the file accounts.txt and displays the contents of each record in columns with the Account and Name columns left aligned and the Balance column right aligned, so the decimal points align vertically:"
      ]
    },
    {
      "cell_type": "code",
      "metadata": {
        "id": "L0Z6g-GLx2-S",
        "colab": {
          "base_uri": "https://localhost:8080/"
        },
        "outputId": "6dc9fb44-b311-4b75-cf5b-bef00357b18b"
      },
      "source": [
        "with open('accounts.txt', mode='r') as accounts:\n",
        "  print(f'{\"Account\":<10}{\"Name\":<10}{\"Balance\":>10}')\n",
        "  for record in accounts:\n",
        "    account, name, balance = record.split()\n",
        "    print(f'{account:<10}{name:<10}{balance:>10}')"
      ],
      "execution_count": null,
      "outputs": [
        {
          "output_type": "stream",
          "text": [
            "Account   Name         Balance\n",
            "100       Jones          24.98\n",
            "200       Doe           345.67\n",
            "300       White           0.00\n",
            "400       Stone         -42.16\n",
            "500       Rich          224.62\n"
          ],
          "name": "stdout"
        }
      ]
    },
    {
      "cell_type": "markdown",
      "metadata": {
        "id": "StGHadNOyO__"
      },
      "source": [
        "If the contents of a file should not be modified, open the file for reading only—another example of the principle of least privilege. This prevents the program from accidentally modifying the file. You open a file for reading by passing the 'r' file-open mode as function open’s second argument. If you do not specify the folder in which to store the file, open assumes the file is in the current folder."
      ]
    },
    {
      "cell_type": "markdown",
      "metadata": {
        "id": "KGr0E7vk6DEK"
      },
      "source": [
        "Iterating through a file object, as shown in the preceding for statement, reads one line at a time from the file and returns it as a string. For each record (that is, line) in the file, string method split returns tokens in the line as a list, which we unpack into the variables account, name and balance. The last statement in the for statement’s suite displays these variables in columns using field widths."
      ]
    },
    {
      "cell_type": "markdown",
      "metadata": {
        "id": "ONlIiOCt6N91"
      },
      "source": [
        "*File Method readlines*"
      ]
    },
    {
      "cell_type": "markdown",
      "metadata": {
        "id": "iJnTpSgY6Vrx"
      },
      "source": [
        "The file object’s readlines method also can be used to read an entire text file. The method returns each line as a string in a list of strings. For small files, this works well, but iterating over the lines in a file object, as shown above, can be more efficient. Calling readlines for a large file can be a time-consuming operation, which must complete before you can begin using the list of strings. Using the file object in a for statement enables your program to process each text line as it’s read."
      ]
    },
    {
      "cell_type": "markdown",
      "metadata": {
        "id": "0Ppng8SZ6m91"
      },
      "source": [
        "https://docs.python.org/3/tutorial/inputoutput.html#methods-of-file-objects."
      ]
    },
    {
      "cell_type": "markdown",
      "metadata": {
        "id": "Q3-mipCb6nsD"
      },
      "source": [
        "*Seeking to a Specific File Position*"
      ]
    },
    {
      "cell_type": "markdown",
      "metadata": {
        "id": "L-yAiz5W6rm_"
      },
      "source": [
        "While reading through a file, the system maintains a file-position pointer representing the location of the next character to read. Sometimes it’s necessary to process a file sequentially from the beginning several times during a program’s execution. Each time, you must reposition the file-position pointer to the beginning of the file, which you can do either by closing and reopening the file, or by calling the file object’s seek method, as in"
      ]
    },
    {
      "cell_type": "markdown",
      "metadata": {
        "id": "nAxOOORy6wq4"
      },
      "source": [
        "file_object.seek(0)"
      ]
    },
    {
      "cell_type": "markdown",
      "metadata": {
        "id": "fZAJpxaP6zPb"
      },
      "source": [
        "The latter approach is faster."
      ]
    },
    {
      "cell_type": "markdown",
      "metadata": {
        "id": "2k7XOt6I73zG"
      },
      "source": [
        "**1.4 Updating Text Files**"
      ]
    },
    {
      "cell_type": "markdown",
      "metadata": {
        "id": "Lc_iS4CW8C3H"
      },
      "source": [
        "Formatted data written to a text file cannot be modified without the risk of destroying other data. If the name 'White' needs to be changed to 'Williams' in accounts.txt, the old name cannot simply be overwritten. The original record for White is stored as\n",
        "\n",
        "300 White 0.00\n",
        "\n",
        "If you overwrite the name 'White' with the name 'Williams', the record becomes\n",
        "\n",
        "300 Williams00"
      ]
    },
    {
      "cell_type": "markdown",
      "metadata": {
        "id": "6UfjSOLk8PdR"
      },
      "source": [
        "The new last name contains three more characters than the original one, so the characters beyond the second “i” in 'Williams' overwrite other characters in the line. The problem is that in the formatted input–output model, records and their fields can vary in size. For example, 7, 14, –117, 2074 and 27383 are all integers and are stored in the same number of “raw data” bytes internally (typically 4 or 8 bytes in today’s systems). However, when these integers are output as formatted text, they become different-sized fields. For example, 7 is one character, 14 is two characters and 27383 is five characters."
      ]
    },
    {
      "cell_type": "markdown",
      "metadata": {
        "id": "k0cIam4z8RFW"
      },
      "source": [
        "To make the preceding name change, we can:\n",
        "\n",
        "\n",
        "\n",
        "* copy the records before 300 White 0.00 into a temporary file,\n",
        "* write the updated and correctly formatted record for account 300 to this file,\n",
        "* copy the records after 300 White 0.00 to the temporary file,\n",
        "* delete the old file and\n",
        "* rename the temporary file to use the original file’s name.\n",
        "\n",
        "\n",
        "\n",
        "\n",
        "\n",
        "\n"
      ]
    },
    {
      "cell_type": "markdown",
      "metadata": {
        "id": "tHpzfUFO866H"
      },
      "source": [
        "This can be cumbersome because it requires processing every record in the file, even if you need to update only one record. Updating a file as described above is more efficient when an application needs to update many records in one pass of the file."
      ]
    },
    {
      "cell_type": "markdown",
      "metadata": {
        "id": "sbXktMTR9F9f"
      },
      "source": [
        "*Updating accounts.txt*"
      ]
    },
    {
      "cell_type": "markdown",
      "metadata": {
        "id": "tfM46SpY9NA4"
      },
      "source": [
        "Let’s use a with statement to update the accounts.txt file to change account 300’s name from 'White' to 'Williams' as described above:"
      ]
    },
    {
      "cell_type": "code",
      "metadata": {
        "id": "8Ie_2dAW9O1W"
      },
      "source": [
        "accounts = open('accounts.txt', 'r')\n",
        "\n",
        "\n"
      ],
      "execution_count": null,
      "outputs": []
    },
    {
      "cell_type": "code",
      "metadata": {
        "id": "ML4dcWqA-JJx"
      },
      "source": [
        "temp_file = open('temp_file.txt', 'w')"
      ],
      "execution_count": null,
      "outputs": []
    },
    {
      "cell_type": "code",
      "metadata": {
        "id": "Pz4GwMjt-LrK"
      },
      "source": [
        "with accounts, temp_file:\n",
        "  for record in accounts:\n",
        "    account, name, balance = record.split()\n",
        "    if account != '300':\n",
        "      temp_file.write(record)\n",
        "    else:\n",
        "      new_record = ' '.join([account, 'Williams', balance])\n",
        "      temp_file.write(new_record + '\\n')"
      ],
      "execution_count": null,
      "outputs": []
    },
    {
      "cell_type": "markdown",
      "metadata": {
        "id": "bNdFltQ993Aq"
      },
      "source": [
        "For readability, we opened the file objects (snippets [12] and [13]), then specified their variable names in the first line of snippet [14]. This with statement manages two resource objects, specified in a comma-separated list after with. The for statement unpacks each record into account, name and balance. If the account is not '300', we write record (which contains a newline) to temp_file. Otherwise, we assemble the new record containing 'Williams' in place of 'White' and write it to the file. After snippet [14], temp_file.txt contains:"
      ]
    },
    {
      "cell_type": "markdown",
      "metadata": {
        "id": "TCF4rbhT-xJg"
      },
      "source": [
        "100 Jones 24.98\n",
        "\n",
        "200 Doe 345.67\n",
        "\n",
        "300 Williams 0.00\n",
        "\n",
        "400 Stone -42.16\n",
        " \n",
        "500 Rich 224.62"
      ]
    },
    {
      "cell_type": "markdown",
      "metadata": {
        "id": "2UUg7ZCu-6du"
      },
      "source": [
        "*os Module File-Processing Functions*"
      ]
    },
    {
      "cell_type": "markdown",
      "metadata": {
        "id": "AYKQpFqi_AgY"
      },
      "source": [
        "At this point, we have the old accounts.txt file and the new temp_file.txt. To complete the update, let’s delete the old accounts.txt file, then rename temp_file.txt as accounts.txt. The os module provides functions for interacting with the operating system, including several that manipulate your system’s files and directories. Now that we’ve created the temporary file, let’s use the remove function to delete the original file:"
      ]
    },
    {
      "cell_type": "markdown",
      "metadata": {
        "id": "wAm1VHk9_JpY"
      },
      "source": [
        "https://docs.python.org/3/library/os.html."
      ]
    },
    {
      "cell_type": "code",
      "metadata": {
        "id": "4JvpeP03_Rze"
      },
      "source": [
        "import os"
      ],
      "execution_count": null,
      "outputs": []
    },
    {
      "cell_type": "code",
      "metadata": {
        "id": "jICoVbPW_Ubx"
      },
      "source": [
        "os.remove('accounts.txt')"
      ],
      "execution_count": null,
      "outputs": []
    },
    {
      "cell_type": "markdown",
      "metadata": {
        "id": "4fqXKYRZ_axv"
      },
      "source": [
        "Next, let’s use the rename function to rename the temporary file as 'accounts.txt':"
      ]
    },
    {
      "cell_type": "code",
      "metadata": {
        "id": "sOqTN1dm_dVq"
      },
      "source": [
        "os.rename('temp_file.txt', 'accounts.txt')"
      ],
      "execution_count": null,
      "outputs": []
    },
    {
      "cell_type": "markdown",
      "metadata": {
        "id": "-00H2X9e_0jU"
      },
      "source": [
        "**1.5 Handling Exceptions**"
      ]
    },
    {
      "cell_type": "markdown",
      "metadata": {
        "id": "QEEukz3M__hP"
      },
      "source": [
        "Various types of exceptions can occur when you work with files, including:\n",
        "\n",
        "\n",
        "\n",
        "*   A FileNotFoundError occurs if you attempt to open a non-existent file for reading with the 'r' or 'r+' modes.\n",
        "*   A PermissionsError occurs if you attempt an operation for which you do not have permission. This might occur if you try to open a file that your account is not allowed to access or create a file in a folder where your account does not have permission to write, such as where your computer’s operating system is stored.\n",
        "*   A ValueError (with the error message 'I/O operation on closed file.') occurs when you attempt to write to a file that has already been closed.\n",
        "\n",
        "\n",
        "\n",
        "\n"
      ]
    },
    {
      "cell_type": "markdown",
      "metadata": {
        "id": "z92cniORARJj"
      },
      "source": [
        "**1.5.1  Division by Zero and Invalid Input**"
      ]
    },
    {
      "cell_type": "markdown",
      "metadata": {
        "id": "Krd53lXBAaGf"
      },
      "source": [
        "*Division By Zero*"
      ]
    },
    {
      "cell_type": "markdown",
      "metadata": {
        "id": "yf-ROuHpAegd"
      },
      "source": [
        "Recall that attempting to divide by 0 results in a ZeroDivisionError:"
      ]
    },
    {
      "cell_type": "code",
      "metadata": {
        "colab": {
          "base_uri": "https://localhost:8080/",
          "height": 163
        },
        "id": "rc9UF6QUAgGq",
        "outputId": "7af45de4-f984-4d94-d0e8-f844e7eabed9"
      },
      "source": [
        "10 / 0"
      ],
      "execution_count": null,
      "outputs": [
        {
          "output_type": "error",
          "ename": "ZeroDivisionError",
          "evalue": "ignored",
          "traceback": [
            "\u001b[0;31m---------------------------------------------------------------------------\u001b[0m",
            "\u001b[0;31mZeroDivisionError\u001b[0m                         Traceback (most recent call last)",
            "\u001b[0;32m<ipython-input-19-cd759d3fcf39>\u001b[0m in \u001b[0;36m<module>\u001b[0;34m()\u001b[0m\n\u001b[0;32m----> 1\u001b[0;31m \u001b[0;36m10\u001b[0m \u001b[0;34m/\u001b[0m \u001b[0;36m0\u001b[0m\u001b[0;34m\u001b[0m\u001b[0;34m\u001b[0m\u001b[0m\n\u001b[0m",
            "\u001b[0;31mZeroDivisionError\u001b[0m: division by zero"
          ]
        }
      ]
    },
    {
      "cell_type": "markdown",
      "metadata": {
        "id": "FIvDiqiFBOHO"
      },
      "source": [
        "*Invalid Input*"
      ]
    },
    {
      "cell_type": "markdown",
      "metadata": {
        "id": "wvlPFrJ7BYX9"
      },
      "source": [
        "Recall that the int function raises a ValueError if you attempt to convert to an integer a string (like 'hello') that does not represent a number:"
      ]
    },
    {
      "cell_type": "code",
      "metadata": {
        "colab": {
          "base_uri": "https://localhost:8080/",
          "height": 183
        },
        "id": "VSad7ONcBa9K",
        "outputId": "902b6f87-9254-4eec-b6f3-3bfd04c30d24"
      },
      "source": [
        "value = int(input('Enter an integer: '))"
      ],
      "execution_count": null,
      "outputs": [
        {
          "output_type": "stream",
          "text": [
            "Enter an integer: hello\n"
          ],
          "name": "stdout"
        },
        {
          "output_type": "error",
          "ename": "ValueError",
          "evalue": "ignored",
          "traceback": [
            "\u001b[0;31m---------------------------------------------------------------------------\u001b[0m",
            "\u001b[0;31mValueError\u001b[0m                                Traceback (most recent call last)",
            "\u001b[0;32m<ipython-input-8-b521605464d6>\u001b[0m in \u001b[0;36m<module>\u001b[0;34m()\u001b[0m\n\u001b[0;32m----> 1\u001b[0;31m \u001b[0mvalue\u001b[0m \u001b[0;34m=\u001b[0m \u001b[0mint\u001b[0m\u001b[0;34m(\u001b[0m\u001b[0minput\u001b[0m\u001b[0;34m(\u001b[0m\u001b[0;34m'Enter an integer: '\u001b[0m\u001b[0;34m)\u001b[0m\u001b[0;34m)\u001b[0m\u001b[0;34m\u001b[0m\u001b[0;34m\u001b[0m\u001b[0m\n\u001b[0m",
            "\u001b[0;31mValueError\u001b[0m: invalid literal for int() with base 10: 'hello'"
          ]
        }
      ]
    },
    {
      "cell_type": "markdown",
      "metadata": {
        "id": "_jqDulGjBnHg"
      },
      "source": [
        "**1.5.2 try Statements**"
      ]
    },
    {
      "cell_type": "markdown",
      "metadata": {
        "id": "XGvauf5mBwb5"
      },
      "source": [
        "Now let’s see how to handle these exceptions so that you can enable code to continue processing. Consider the following script and sample execution. Its loop attempts to read two integers from the user, then display the first number divided by the second. The script uses exception handling to catch and handle (i.e., deal with) any ZeroDivisionErrors and ValueErrors that arise—in this case, allowing the user to re-enter the input."
      ]
    },
    {
      "cell_type": "code",
      "metadata": {
        "colab": {
          "base_uri": "https://localhost:8080/"
        },
        "id": "MLs8JYpABxP8",
        "outputId": "fd74a741-6f99-47ef-cb29-a270e3e59514"
      },
      "source": [
        "# dividebyzero.py\n",
        "\"\"\"Simple exception handling example.\"\"\"\n",
        "while True:\n",
        "  # attempt to convert and divide values\n",
        "  try:\n",
        "    number1 = int(input('Enter numerator: '))\n",
        "    number2 = int(input('Enter denominator: '))\n",
        "    result = number1 / number2\n",
        "  except ValueError: # tried to convert non-numeric value to int\n",
        "    print('You must enter two integers\\n')\n",
        "  except ZeroDivisionError: # denominator was 0\n",
        "    print('Attempted to divide by zero\\n')\n",
        "  else: # executes only if no exceptions occur\n",
        "    print(f'{number1:.3f} / {number2:.3f} = {result:.3f}')\n",
        "    break # terminate the loop"
      ],
      "execution_count": null,
      "outputs": [
        {
          "output_type": "stream",
          "text": [
            "Enter numerator: 5\n",
            "Enter denominator: reena\n",
            "You must enter two integers\n",
            "\n",
            "Enter numerator: 6\n",
            "Enter denominator: 0\n",
            "Attempted to divide by zero\n",
            "\n",
            "Enter numerator: 12\n",
            "Enter denominator: 2\n",
            "12.000 / 2.000 = 6.000\n"
          ],
          "name": "stdout"
        }
      ]
    },
    {
      "cell_type": "markdown",
      "metadata": {
        "id": "zgNK6ujNDDr5"
      },
      "source": [
        "*try Clause*"
      ]
    },
    {
      "cell_type": "markdown",
      "metadata": {
        "id": "VTwrhYGKDHO2"
      },
      "source": [
        "Python uses try statements to enable exception handling. The try statement’s try clause begins with keyword try, followed by a colon (:) and a suite of statements that might raise exceptions."
      ]
    },
    {
      "cell_type": "markdown",
      "metadata": {
        "id": "hhop7AtlDaif"
      },
      "source": [
        "*except Clause*"
      ]
    },
    {
      "cell_type": "markdown",
      "metadata": {
        "id": "aodhke93Ddes"
      },
      "source": [
        "A try clause may be followed by one or more except clauses that immediately follow the try clause’s suite. These also are known as exception handlers. Each except clause specifies the type of exception it handles. In this example, each exception handler just displays a message indicating the problem that occurred."
      ]
    },
    {
      "cell_type": "markdown",
      "metadata": {
        "id": "4o1SB5IeDl0J"
      },
      "source": [
        "*else Clause*"
      ]
    },
    {
      "cell_type": "markdown",
      "metadata": {
        "id": "RreEy1tzDpx2"
      },
      "source": [
        "After the last except clause, an optional else clause specifies code that should execute only if the code in the try suite did not raise exceptions. If no exceptions occur in this example’s try suite, print statement displays the division result and break terminates the loop."
      ]
    },
    {
      "cell_type": "markdown",
      "metadata": {
        "id": "o1SKnFR8Elgy"
      },
      "source": [
        "**1.5.3 Catching Multiple Exceptions in One except Clause**"
      ]
    },
    {
      "cell_type": "markdown",
      "metadata": {
        "id": "sfsmSCu_EtEd"
      },
      "source": [
        "It’s relatively common for a try clause to be followed by several except clauses to handle various types of exceptions. If several except suites are identical, you can catch those exception types by specifying them as a tuple in a single except handler, as in:"
      ]
    },
    {
      "cell_type": "markdown",
      "metadata": {
        "id": "_oNXgJrqEy3g"
      },
      "source": [
        "except (type1, type2, …) as variable_name:"
      ]
    },
    {
      "cell_type": "markdown",
      "metadata": {
        "id": "4E3Awg-0E0A1"
      },
      "source": [
        "The as clause is optional. Typically, programs do not need to reference the caught exception object directly. If you do, you can use the variable in the as clause to reference the exception object in the except suite."
      ]
    },
    {
      "cell_type": "markdown",
      "metadata": {
        "id": "dgsjYVJ6FA_8"
      },
      "source": [
        "**1.5.4 What Exceptions Does a Function or Method Raise?**"
      ]
    },
    {
      "cell_type": "markdown",
      "metadata": {
        "id": "7ZmxOOvuFx4J"
      },
      "source": [
        "Exceptions may surface via statements in a try suite, via functions or methods called directly or indirectly from a try suite, or via the Python interpreter as it executes the code (for example, ZeroDivisionErrors)."
      ]
    },
    {
      "cell_type": "markdown",
      "metadata": {
        "id": "WTWgeNSwF7DI"
      },
      "source": [
        "Before using any function or method, read its online API documentation, which specifies what exceptions are thrown (if any) by the function or method and indicates reasons why such exceptions may occur. Next, read the online API documentation for each exception type to see potential reasons why such an exception occurs."
      ]
    },
    {
      "cell_type": "markdown",
      "metadata": {
        "id": "SQLl0G19GATi"
      },
      "source": [
        "**1.5.5 What Code Should Be Placed in a try Suite?**"
      ]
    },
    {
      "cell_type": "markdown",
      "metadata": {
        "id": "Vdx-mMZ_GDPG"
      },
      "source": [
        "Place in a try suite a significant logical section of a program in which several statements can raise exceptions, rather than wrapping a separate try statement around every statement that raises an exception. However, for proper exception-handling granularity, each try statement should enclose a section of code small enough that, when an exception occurs, the specific context is known and the except handlers can process the exception properly. If many statements in a try suite raise the same exception types, multiple try statements may be required to determine each exception’s context."
      ]
    },
    {
      "cell_type": "markdown",
      "metadata": {
        "id": "GQwWlkYkGQbG"
      },
      "source": [
        "**1.6 finally  Clause**"
      ]
    },
    {
      "cell_type": "markdown",
      "metadata": {
        "id": "RAFGsoSYGbt2"
      },
      "source": [
        "Operating systems typically can prevent more than one program from manipulating a file at once. When a program finishes processing a file, the program should close it to release the resource. This enables other programs to use the file (if they’re allowed to access it). Closing the file helps prevent a resource leak in which the file resource is not available to other programs because a program using the file never closes it."
      ]
    },
    {
      "cell_type": "markdown",
      "metadata": {
        "id": "3D5_8Ys9Gi0d"
      },
      "source": [
        "*The finally Clause of the try Statement*"
      ]
    },
    {
      "cell_type": "markdown",
      "metadata": {
        "id": "kbk-5Nm1G2j9"
      },
      "source": [
        "A try statement may have a finally clause as its last clause after any except clauses or else clause. The finally clause is guaranteed to execute, regardless of whether its try suite executes successfully or an exception occurs. In other languages that have finally, this makes the finally suite an ideal location to place resource-deallocation code for resources acquired in the corresponding try suite. In Python, we prefer the with statement for this purpose and place other kinds of “clean up” code in the finally suite."
      ]
    },
    {
      "cell_type": "markdown",
      "metadata": {
        "id": "CdsmleZzG9M7"
      },
      "source": [
        "# The only reason a finally suite will not execute if program control enters the corresponding try suite is if the application terminates first, for example by calling the sys module’s exit function. In this case, the operating system would “clean up” any resources that the program did not release."
      ]
    },
    {
      "cell_type": "markdown",
      "metadata": {
        "id": "qThdinsFHX9k"
      },
      "source": [
        "*Example*"
      ]
    },
    {
      "cell_type": "markdown",
      "metadata": {
        "id": "oDXu3qT-HcSS"
      },
      "source": [
        "The following IPython session demonstrates that the finally clause always executes, regardless of whether an exception occurs in the corresponding try suite. First, let’s consider a try statement in which no exceptions occur in the try suite:"
      ]
    },
    {
      "cell_type": "code",
      "metadata": {
        "colab": {
          "base_uri": "https://localhost:8080/"
        },
        "id": "sZa3HeDrHejc",
        "outputId": "8d6addd5-7c43-4418-9180-d5beaf08b464"
      },
      "source": [
        "try:\n",
        "  print('try suite with no exceptions raised')\n",
        "except:\n",
        "  print('this will not execute')\n",
        "else:\n",
        "  print('else executes because no exceptions in the try suite')\n",
        "finally:\n",
        "  print('finally always executes')"
      ],
      "execution_count": null,
      "outputs": [
        {
          "output_type": "stream",
          "text": [
            "try suite with no exceptions raised\n",
            "else executes because no exceptions in the try suite\n",
            "finally always executes\n"
          ],
          "name": "stdout"
        }
      ]
    },
    {
      "cell_type": "markdown",
      "metadata": {
        "id": "WilV2gO5H00b"
      },
      "source": [
        "The preceding try suite displays a message but does not raise any exceptions. When program control successfully reaches the end of the try suite, the except clause is skipped, the else clause executes and the finally clause displays a message showing that it always executes. When the finally clause terminates, program control continues with the next statement after the try statement."
      ]
    },
    {
      "cell_type": "markdown",
      "metadata": {
        "id": "V_oxhGmBIRVL"
      },
      "source": [
        "Now let’s consider a try statement in which an exception occurs in the try suite:\n"
      ]
    },
    {
      "cell_type": "code",
      "metadata": {
        "colab": {
          "base_uri": "https://localhost:8080/"
        },
        "id": "F5XnJ2o9IV9Y",
        "outputId": "fbf68f4d-28c4-402c-8c8b-adfd69028551"
      },
      "source": [
        "try:\n",
        "  print('try suite that raises an exception')\n",
        "  int('hello')\n",
        "  print('this will not execute')\n",
        "except ValueError:\n",
        "  print('a ValueError occurred')\n",
        "else:\n",
        "  print('else will not execute because an exception occurred')\n",
        "finally:\n",
        "  print('finally always executes')"
      ],
      "execution_count": null,
      "outputs": [
        {
          "output_type": "stream",
          "text": [
            "try suite that raises an exception\n",
            "a ValueError occurred\n",
            "finally always executes\n"
          ],
          "name": "stdout"
        }
      ]
    },
    {
      "cell_type": "markdown",
      "metadata": {
        "id": "LU6i55ZSI4Tr"
      },
      "source": [
        "This try suite begins by displaying a message. The second statement attempts to convert the string 'hello' to an integer, which causes the int function to raise a ValueError. The try suite immediately terminates, skipping its last print statement. The except clause catches the ValueError exception and displays a message. The else clause does not execute because an exception occurred. Then, the finally clause displays a message showing that it always executes. When the finally clause terminates, program control continues with the next statement after the try statement."
      ]
    },
    {
      "cell_type": "markdown",
      "metadata": {
        "id": "zRrcWT8SJkH1"
      },
      "source": [
        "*Combining with Statements and try…except Statements*"
      ]
    },
    {
      "cell_type": "markdown",
      "metadata": {
        "id": "Gfw6rXewJyOZ"
      },
      "source": [
        "Most resources that require explicit release, such as files, network connections and database connections, have potential exceptions associated with processing those resources. For example, a program that processes a file might raise IOErrors. For this reason, robust file-processing code normally appears in a try suite containing a with statement to guarantee that the resource gets released. The code is in a try suite, so you can catch in except handlers any exceptions that occur and you do not need a finally clause because the with statement handles resource deallocation."
      ]
    },
    {
      "cell_type": "markdown",
      "metadata": {
        "id": "69g1PeQAJzDU"
      },
      "source": [
        "To demonstrate this, first let’s assume you’re asking the user to supply the name of a file and they provide that name incorrectly, such as accountz.txt rather than the file we created earlier accounts.txt. In this case, the open call raises a FileNotFoundError by attempting to open a non-existent file:"
      ]
    },
    {
      "cell_type": "code",
      "metadata": {
        "colab": {
          "base_uri": "https://localhost:8080/",
          "height": 163
        },
        "id": "GzOyFrSoKTZc",
        "outputId": "bb27fb8c-1569-4687-dafd-ad2ff24f1cf7"
      },
      "source": [
        "open('accountz.txt')"
      ],
      "execution_count": null,
      "outputs": [
        {
          "output_type": "error",
          "ename": "FileNotFoundError",
          "evalue": "ignored",
          "traceback": [
            "\u001b[0;31m---------------------------------------------------------------------------\u001b[0m",
            "\u001b[0;31mFileNotFoundError\u001b[0m                         Traceback (most recent call last)",
            "\u001b[0;32m<ipython-input-25-6738c4f821c0>\u001b[0m in \u001b[0;36m<module>\u001b[0;34m()\u001b[0m\n\u001b[0;32m----> 1\u001b[0;31m \u001b[0mopen\u001b[0m\u001b[0;34m(\u001b[0m\u001b[0;34m'accountz.txt'\u001b[0m\u001b[0;34m)\u001b[0m\u001b[0;34m\u001b[0m\u001b[0;34m\u001b[0m\u001b[0m\n\u001b[0m",
            "\u001b[0;31mFileNotFoundError\u001b[0m: [Errno 2] No such file or directory: 'accountz.txt'"
          ]
        }
      ]
    },
    {
      "cell_type": "markdown",
      "metadata": {
        "id": "sq16hCerKcSc"
      },
      "source": [
        "To catch exceptions like FileNotFoundError that occur when you try to open a file for reading, wrap the with statement in a try suite, as in:"
      ]
    },
    {
      "cell_type": "code",
      "metadata": {
        "colab": {
          "base_uri": "https://localhost:8080/"
        },
        "id": "QZMqV-3FKfZi",
        "outputId": "150a3c2e-9b03-4557-8f29-e265e77def4c"
      },
      "source": [
        "try:\n",
        "  with open('accountz.txt', 'r') as accounts:\n",
        "    print(f'{\"Account\":<10}{\"Name\":<10}{\"Balance\":>10}')\n",
        "    for record in accounts:\n",
        "      account, name, balance = record.split()\n",
        "      print(f'{account:<10}{name:<10}{balance:>10}')\n",
        "except FileNotFoundError:\n",
        "  print('The file name you specified does not exist')"
      ],
      "execution_count": null,
      "outputs": [
        {
          "output_type": "stream",
          "text": [
            "The file name you specified does not exist\n"
          ],
          "name": "stdout"
        }
      ]
    },
    {
      "cell_type": "markdown",
      "metadata": {
        "id": "V4SQAHdBM2tc"
      },
      "source": [
        "**1.7 Explicitly Raising an Exception**"
      ]
    },
    {
      "cell_type": "markdown",
      "metadata": {
        "id": "0d7UtzAzNBJM"
      },
      "source": [
        "You’ve seen various exceptions raised by your Python code. Sometimes you might need to write functions that raise exceptions to inform callers of errors that occur. The raise statement explicitly raises an exception. The simplest form of the raise statement is\n",
        "\n",
        "raise ExceptionClassName\n",
        "\n",
        "\n",
        "The raise statement creates an object of the specified exception class. Optionally, the exception class name may be followed by parentheses containing arguments to initialize the exception object—typically to provide a custom error message string. Code that raises an exception first should release any resources acquired before the exception occurred. In the next section, we’ll show an example of raising an exception.\n",
        "\n",
        "In most cases, when you need to raise an exception, it’s recommended that you use one of Python’s many built-in exception types listed at:\n",
        "\n",
        "\n",
        "https://docs.python.org/3/library/exceptions.html\n",
        "\n"
      ]
    }
  ]
}