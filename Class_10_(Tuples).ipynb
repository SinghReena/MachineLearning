{
  "nbformat": 4,
  "nbformat_minor": 0,
  "metadata": {
    "colab": {
      "name": "Class-10 (Tuples).ipynb",
      "provenance": [],
      "collapsed_sections": [],
      "include_colab_link": true
    },
    "kernelspec": {
      "name": "python3",
      "display_name": "Python 3"
    }
  },
  "cells": [
    {
      "cell_type": "markdown",
      "metadata": {
        "id": "view-in-github",
        "colab_type": "text"
      },
      "source": [
        "<a href=\"https://colab.research.google.com/github/SinghReena/MachineLearning/blob/master/Class_10_(Tuples).ipynb\" target=\"_parent\"><img src=\"https://colab.research.google.com/assets/colab-badge.svg\" alt=\"Open In Colab\"/></a>"
      ]
    },
    {
      "cell_type": "markdown",
      "metadata": {
        "id": "ig6AZxlu5l5t"
      },
      "source": [
        "**1.1 Tuples**"
      ]
    },
    {
      "cell_type": "markdown",
      "metadata": {
        "id": "MHSgbu7K5rqZ"
      },
      "source": [
        "Tuples are immutable and typically store heterogeneous data, but the data can be homogeneous. A tuple’s length is its number of elements and cannot change during program execution."
      ]
    },
    {
      "cell_type": "markdown",
      "metadata": {
        "id": "XZlszk-W504g"
      },
      "source": [
        "*Creating Tuples*"
      ]
    },
    {
      "cell_type": "markdown",
      "metadata": {
        "id": "OFfpcKIL564H"
      },
      "source": [
        "To create an empty tuple, use empty parentheses:"
      ]
    },
    {
      "cell_type": "code",
      "metadata": {
        "colab": {
          "base_uri": "https://localhost:8080/"
        },
        "id": "zeRPsF8i5707",
        "outputId": "df436dda-e2f0-4361-8b79-dc4f454170bc"
      },
      "source": [
        "student_tuple = () \n",
        "student_tuple"
      ],
      "execution_count": null,
      "outputs": [
        {
          "output_type": "execute_result",
          "data": {
            "text/plain": [
              "()"
            ]
          },
          "metadata": {
            "tags": []
          },
          "execution_count": 1
        }
      ]
    },
    {
      "cell_type": "code",
      "metadata": {
        "colab": {
          "base_uri": "https://localhost:8080/"
        },
        "id": "rvKvUCPS6IT_",
        "outputId": "9c2c4095-4321-4f89-d8c6-e48296ef92ec"
      },
      "source": [
        "len(student_tuple)"
      ],
      "execution_count": null,
      "outputs": [
        {
          "output_type": "execute_result",
          "data": {
            "text/plain": [
              "0"
            ]
          },
          "metadata": {
            "tags": []
          },
          "execution_count": 2
        }
      ]
    },
    {
      "cell_type": "markdown",
      "metadata": {
        "id": "eGMMAyq46R7b"
      },
      "source": [
        "You can pack a tuple by separating its values with commas:"
      ]
    },
    {
      "cell_type": "code",
      "metadata": {
        "colab": {
          "base_uri": "https://localhost:8080/"
        },
        "id": "FCyLKNUS6X_L",
        "outputId": "c3c11e2a-d76d-4e12-85b8-d740d1202a82"
      },
      "source": [
        "student_tuple = 'John', 'Green', 3.3\n",
        "\n",
        "student_tuple"
      ],
      "execution_count": null,
      "outputs": [
        {
          "output_type": "execute_result",
          "data": {
            "text/plain": [
              "('John', 'Green', 3.3)"
            ]
          },
          "metadata": {
            "tags": []
          },
          "execution_count": 3
        }
      ]
    },
    {
      "cell_type": "code",
      "metadata": {
        "colab": {
          "base_uri": "https://localhost:8080/"
        },
        "id": "pocDNGRe6dj1",
        "outputId": "3c71b25c-472e-4e74-fd8e-3a86e027254d"
      },
      "source": [
        "len(student_tuple)"
      ],
      "execution_count": null,
      "outputs": [
        {
          "output_type": "execute_result",
          "data": {
            "text/plain": [
              "3"
            ]
          },
          "metadata": {
            "tags": []
          },
          "execution_count": 4
        }
      ]
    },
    {
      "cell_type": "markdown",
      "metadata": {
        "id": "rn4v5fmx6lk-"
      },
      "source": [
        "When you output a tuple, Python always displays its contents in parentheses. You may surround a tuple’s comma-separated list of values with optional parentheses:"
      ]
    },
    {
      "cell_type": "code",
      "metadata": {
        "colab": {
          "base_uri": "https://localhost:8080/"
        },
        "id": "h9NI5efv6m3i",
        "outputId": "733bfb88-163f-425a-c772-311c22564efa"
      },
      "source": [
        "another_student_tuple = ('Mary', 'Red', 3.3)\n",
        "\n",
        "another_student_tuple"
      ],
      "execution_count": null,
      "outputs": [
        {
          "output_type": "execute_result",
          "data": {
            "text/plain": [
              "('Mary', 'Red', 3.3)"
            ]
          },
          "metadata": {
            "tags": []
          },
          "execution_count": 4
        }
      ]
    },
    {
      "cell_type": "markdown",
      "metadata": {
        "id": "KQ8PlEDV6yaL"
      },
      "source": [
        "The following code creates a one-element tuple:"
      ]
    },
    {
      "cell_type": "code",
      "metadata": {
        "colab": {
          "base_uri": "https://localhost:8080/"
        },
        "id": "KlDRLt8C6pJa",
        "outputId": "2239a7f5-2acd-4ccc-c02d-d8b79322c92a"
      },
      "source": [
        "a_singleton_tuple = ('red',) # note the comma \n",
        "\n",
        "a_singleton_tuple"
      ],
      "execution_count": null,
      "outputs": [
        {
          "output_type": "execute_result",
          "data": {
            "text/plain": [
              "('red',)"
            ]
          },
          "metadata": {
            "tags": []
          },
          "execution_count": 5
        }
      ]
    },
    {
      "cell_type": "markdown",
      "metadata": {
        "id": "rj5huTIn690m"
      },
      "source": [
        "The comma (,) that follows the string 'red' identifies a_singleton_tuple as a tuple—the parentheses are optional. If the comma were omitted, the parentheses would be redundant, and a_singleton_tuple would simply refer to the string 'red' rather than a tuple."
      ]
    },
    {
      "cell_type": "markdown",
      "metadata": {
        "id": "4CQ-WvRH7Bsz"
      },
      "source": [
        "*Accessing Tuple Elements*"
      ]
    },
    {
      "cell_type": "markdown",
      "metadata": {
        "id": "DvudayKV7LQV"
      },
      "source": [
        "A tuple’s elements, though related, are often of multiple types. Usually, you do not iterate over them. Rather, you access each individually. Like list indices, tuple indices start at 0. The following code creates time_tuple representing an hour, minute and second, displays the tuple, then uses its elements to calculate the number of seconds since midnight—note that we perform a different operation with each value in the tuple:"
      ]
    },
    {
      "cell_type": "code",
      "metadata": {
        "colab": {
          "base_uri": "https://localhost:8080/"
        },
        "id": "pE32zk527Nx-",
        "outputId": "5071b321-dd7a-475c-a854-0e552793ce0d"
      },
      "source": [
        "time_tuple = (9, 16, 1)\n",
        "\n",
        "print(time_tuple) \n",
        "\n",
        "time_tuple[0] * 3600 + time_tuple[1] * 60 + time_tuple[2]"
      ],
      "execution_count": null,
      "outputs": [
        {
          "output_type": "stream",
          "text": [
            "(9, 16, 1)\n"
          ],
          "name": "stdout"
        },
        {
          "output_type": "execute_result",
          "data": {
            "text/plain": [
              "33361"
            ]
          },
          "metadata": {
            "tags": []
          },
          "execution_count": 7
        }
      ]
    },
    {
      "cell_type": "markdown",
      "metadata": {
        "id": "RdcuOCwG7fHP"
      },
      "source": [
        "Assigning a value to a tuple element causes a TypeError."
      ]
    },
    {
      "cell_type": "markdown",
      "metadata": {
        "id": "HT0DGCsL7lXx"
      },
      "source": [
        "*Adding Items to a String or Tuple*"
      ]
    },
    {
      "cell_type": "markdown",
      "metadata": {
        "id": "biwXN4Hp_q-U"
      },
      "source": [
        "As with lists, the += augmented assignment statement can be used with strings and tuples, even though they’re immutable. In the following code, after the two assignments, tuple1 and tuple2 refer to the same tuple object:"
      ]
    },
    {
      "cell_type": "code",
      "metadata": {
        "colab": {
          "base_uri": "https://localhost:8080/"
        },
        "id": "a7frvgzD_tfU",
        "outputId": "d575821c-5390-4ca2-85f2-48c43c1d287d"
      },
      "source": [
        "tuple1 = (10, 20, 30)\n",
        "\n",
        "tuple2 = tuple1\n",
        "\n",
        "print(tuple2)\n",
        "print(tuple1)\n",
        "print(id(tuple1))\n",
        "print(id(tuple2))"
      ],
      "execution_count": null,
      "outputs": [
        {
          "output_type": "stream",
          "text": [
            "(10, 20, 30)\n",
            "(10, 20, 30)\n",
            "139934102119680\n",
            "139934102119680\n"
          ],
          "name": "stdout"
        }
      ]
    },
    {
      "cell_type": "markdown",
      "metadata": {
        "id": "BceVofCxAAPG"
      },
      "source": [
        "Concatenating the tuple (40, 50) to tuple1 creates a new tuple, then assigns a reference to it to the variable tuple1—tuple2 still refers to the original tuple:"
      ]
    },
    {
      "cell_type": "code",
      "metadata": {
        "colab": {
          "base_uri": "https://localhost:8080/"
        },
        "id": "Cu14jIamADK8",
        "outputId": "94a02f01-b286-4f08-e252-e3275ee326e6"
      },
      "source": [
        "print(id(tuple1))\n",
        "\n",
        "tuple1 += (40, 50)\n",
        "\n",
        "print(tuple1)\n",
        "\n",
        "print(tuple2)\n",
        "\n",
        "print(id(tuple1))\n",
        "print(id(tuple2))\n",
        "\n"
      ],
      "execution_count": null,
      "outputs": [
        {
          "output_type": "stream",
          "text": [
            "139934150542160\n",
            "(10, 20, 30, 40, 50, 40, 50)\n",
            "(10, 20, 30)\n",
            "139934102454928\n",
            "139934102119680\n"
          ],
          "name": "stdout"
        }
      ]
    },
    {
      "cell_type": "markdown",
      "metadata": {
        "id": "44NTWZ0vATV-"
      },
      "source": [
        "For a string or tuple, the item to the right of += must be a string or tuple, respectively—mixing types causes a TypeError."
      ]
    },
    {
      "cell_type": "markdown",
      "metadata": {
        "id": "SLowkv8_AXNA"
      },
      "source": [
        "*Appending Tuples to Lists*"
      ]
    },
    {
      "cell_type": "markdown",
      "metadata": {
        "id": "6QHd9ETdAcQ2"
      },
      "source": [
        "You can use += to append a tuple to a list:"
      ]
    },
    {
      "cell_type": "code",
      "metadata": {
        "colab": {
          "base_uri": "https://localhost:8080/"
        },
        "id": "StjMvguWAdrD",
        "outputId": "eda63817-98c0-4dc3-f0d0-d5e31d67b6c2"
      },
      "source": [
        "numbers = [1, 2, 3, 4, 5]\n",
        "\n",
        "numbers += (6, 7)\n",
        "\n",
        "numbers\n"
      ],
      "execution_count": null,
      "outputs": [
        {
          "output_type": "execute_result",
          "data": {
            "text/plain": [
              "[1, 2, 3, 4, 5, 6, 7]"
            ]
          },
          "metadata": {
            "tags": []
          },
          "execution_count": 13
        }
      ]
    },
    {
      "cell_type": "markdown",
      "metadata": {
        "id": "gYE1z3KzAyCG"
      },
      "source": [
        "*Tuples May Contain Mutable Objects*"
      ]
    },
    {
      "cell_type": "markdown",
      "metadata": {
        "id": "0glyk489A2Nr"
      },
      "source": [
        "Let’s create a student_tuple with a first name, last name and list of grades:"
      ]
    },
    {
      "cell_type": "code",
      "metadata": {
        "colab": {
          "base_uri": "https://localhost:8080/"
        },
        "id": "hAd8sAA_A-GB",
        "outputId": "44f88042-f651-4f50-fc2d-352345e91aff"
      },
      "source": [
        "student_tuple = ('Amanda', 'Blue', [98, 75, 87])\n",
        "\n",
        "student_tuple\n",
        "\n"
      ],
      "execution_count": null,
      "outputs": [
        {
          "output_type": "execute_result",
          "data": {
            "text/plain": [
              "('Amanda', 'Blue', [98, 75, 87])"
            ]
          },
          "metadata": {
            "tags": []
          },
          "execution_count": 14
        }
      ]
    },
    {
      "cell_type": "markdown",
      "metadata": {
        "id": "OYdP_uQJBMaj"
      },
      "source": [
        "Even though the tuple is immutable, its list element is mutable:"
      ]
    },
    {
      "cell_type": "code",
      "metadata": {
        "colab": {
          "base_uri": "https://localhost:8080/"
        },
        "id": "tCpg7TQGBRVv",
        "outputId": "102d3667-8e7a-43df-823c-a9859f5edae8"
      },
      "source": [
        "student_tuple[2][1] = 85\n",
        "\n",
        "student_tuple"
      ],
      "execution_count": null,
      "outputs": [
        {
          "output_type": "execute_result",
          "data": {
            "text/plain": [
              "('Amanda', 'Blue', [98, 85, 87])"
            ]
          },
          "metadata": {
            "tags": []
          },
          "execution_count": 12
        }
      ]
    },
    {
      "cell_type": "markdown",
      "metadata": {
        "id": "2UwalfQHBdI2"
      },
      "source": [
        "In the double-subscripted name student_tuple[2][1], Python views student_tuple[2] as the element of the tuple containing the list [98, 75, 87], then uses [1] to access the list element containing 75. The assignment in snippet [24] replaces that grade with 85."
      ]
    },
    {
      "cell_type": "markdown",
      "metadata": {
        "id": "iBt1DY8WBfLJ"
      },
      "source": [
        "**1.2  Unpacking Sequences**"
      ]
    },
    {
      "cell_type": "markdown",
      "metadata": {
        "id": "ZNah45WfBwci"
      },
      "source": [
        "You can unpack any sequence’s elements by assigning the sequence to a comma-separated list of variables. A ValueError occurs if the number of variables to the left of the assignment symbol is not identical to the number of elements in the sequence on the right:"
      ]
    },
    {
      "cell_type": "code",
      "metadata": {
        "colab": {
          "base_uri": "https://localhost:8080/"
        },
        "id": "VixoN6m4B1Be",
        "outputId": "2e919dcc-d021-479e-d70f-a1613ec16ba5"
      },
      "source": [
        "student_tuple = ('Amanda', [98, 85, 87])\n",
        "\n",
        "first_name, grades = student_tuple\n",
        "\n",
        "print(first_name)\n",
        "\n",
        "print(grades)"
      ],
      "execution_count": null,
      "outputs": [
        {
          "output_type": "stream",
          "text": [
            "Amanda\n",
            "[98, 85, 87]\n"
          ],
          "name": "stdout"
        }
      ]
    },
    {
      "cell_type": "markdown",
      "metadata": {
        "id": "v8wMy1pcCduO"
      },
      "source": [
        "The following code unpacks a string, a list and a sequence produced by range:"
      ]
    },
    {
      "cell_type": "code",
      "metadata": {
        "colab": {
          "base_uri": "https://localhost:8080/"
        },
        "id": "M40JkcIRCo4E",
        "outputId": "fcf7b430-05c4-4980-8410-4e0dbd2dbbb5"
      },
      "source": [
        "first, second = 'hi'\n",
        "\n",
        "print(f'{first} {second}')\n",
        "\n",
        "number1, number2, number3 = [2, 3, 5]\n",
        "\n",
        "print(f'{number1} {number2} {number3}')\n",
        "\n",
        "number1, number2, number3 = range(10, 40, 10)\n",
        "\n",
        "print(f'{number1} {number2} {number3}')\n",
        "\n",
        "\n"
      ],
      "execution_count": null,
      "outputs": [
        {
          "output_type": "stream",
          "text": [
            "h i\n",
            "2 3 5\n",
            "10 20 30\n"
          ],
          "name": "stdout"
        }
      ]
    },
    {
      "cell_type": "markdown",
      "metadata": {
        "id": "6bc_kJk0DC2F"
      },
      "source": [
        "*Swapping Values Via Packing and Unpacking*"
      ]
    },
    {
      "cell_type": "markdown",
      "metadata": {
        "id": "C9RaaLF5DGlg"
      },
      "source": [
        "You can swap two variables’ values using sequence packing and unpacking:"
      ]
    },
    {
      "cell_type": "code",
      "metadata": {
        "colab": {
          "base_uri": "https://localhost:8080/"
        },
        "id": "4RZ89C_WDJFF",
        "outputId": "71a546d8-688a-4f32-f435-e3f640b10053"
      },
      "source": [
        "number1 = 99\n",
        "\n",
        "number2 = 22\n",
        "\n",
        "number1, number2 = (number2, number1)\n",
        "\n",
        "print(f'number1 = {number1}; number2 = {number2}')\n"
      ],
      "execution_count": null,
      "outputs": [
        {
          "output_type": "stream",
          "text": [
            "number1 = 22; number2 = 99\n"
          ],
          "name": "stdout"
        }
      ]
    },
    {
      "cell_type": "markdown",
      "metadata": {
        "id": "CTBa13jRDbhe"
      },
      "source": [
        "*Accessing Indices and Values Safely with Built-in Function enumerate*"
      ]
    },
    {
      "cell_type": "markdown",
      "metadata": {
        "id": "LM9msKQ7Do8T"
      },
      "source": [
        "Earlier, we called range to produce a sequence of index values, then accessed list elements in a for loop using the index values and the subscription operator ([]). This is error-prone because you could pass the wrong arguments to range. If any value produced by range is an out-of-bounds index, using it as an index causes an IndexError. \n",
        "\n",
        "\n",
        "The preferred mechanism for accessing an element’s index and value is the built-in function enumerate. This function receives an iterable and creates an iterator that, for each element, returns a tuple containing the element’s index and value. The following code uses the built-in function list to create a list containing enumerate’s results:"
      ]
    },
    {
      "cell_type": "code",
      "metadata": {
        "colab": {
          "base_uri": "https://localhost:8080/"
        },
        "id": "KdEuiNutDtLh",
        "outputId": "385607e0-84cf-4d92-ec18-9afa0d644179"
      },
      "source": [
        "colors = ['red', 'orange', 'yellow']\n",
        "\n",
        "list(enumerate(colors))\n",
        "\n"
      ],
      "execution_count": null,
      "outputs": [
        {
          "output_type": "execute_result",
          "data": {
            "text/plain": [
              "[(0, 'red'), (1, 'orange'), (2, 'yellow')]"
            ]
          },
          "metadata": {
            "tags": []
          },
          "execution_count": 20
        }
      ]
    },
    {
      "cell_type": "markdown",
      "metadata": {
        "id": "eXJd9-JyD3KZ"
      },
      "source": [
        "Similarly the built-in function tuple creates a tuple from a sequence:"
      ]
    },
    {
      "cell_type": "code",
      "metadata": {
        "colab": {
          "base_uri": "https://localhost:8080/"
        },
        "id": "U9SauYHPD5n8",
        "outputId": "d84e81fd-3d16-4221-8d23-02afb6c89f44"
      },
      "source": [
        "tuple(enumerate(colors))"
      ],
      "execution_count": null,
      "outputs": [
        {
          "output_type": "execute_result",
          "data": {
            "text/plain": [
              "((0, 'red'), (1, 'orange'), (2, 'yellow'))"
            ]
          },
          "metadata": {
            "tags": []
          },
          "execution_count": 21
        }
      ]
    },
    {
      "cell_type": "markdown",
      "metadata": {
        "id": "dlvwCf48D_Kz"
      },
      "source": [
        "The following for loop unpacks each tuple returned by enumerate into the variables index and value and displays them:"
      ]
    },
    {
      "cell_type": "code",
      "metadata": {
        "colab": {
          "base_uri": "https://localhost:8080/"
        },
        "id": "d5R2iqUNEA2_",
        "outputId": "e3bf3351-d121-4a52-9dd3-77cb1f0203a0"
      },
      "source": [
        "for index, value in enumerate(colors): \n",
        "   print(f'{index}: {value}')"
      ],
      "execution_count": null,
      "outputs": [
        {
          "output_type": "stream",
          "text": [
            "0: red\n",
            "1: orange\n",
            "2: yellow\n"
          ],
          "name": "stdout"
        }
      ]
    },
    {
      "cell_type": "markdown",
      "metadata": {
        "id": "qAYgAPdsEI_C"
      },
      "source": [
        "*Creating a Primitive Bar Chart*"
      ]
    },
    {
      "cell_type": "markdown",
      "metadata": {
        "id": "5MZ1OUkxEfYZ"
      },
      "source": [
        "A primitive bar chart where each bar’s length is made of asterisks (*) and is proportional to the list’s corresponding element value. We use the function enumerate to access the list’s indices and values safely."
      ]
    },
    {
      "cell_type": "code",
      "metadata": {
        "colab": {
          "base_uri": "https://localhost:8080/"
        },
        "id": "PKs6tL16ElA-",
        "outputId": "38fbc0ca-3e77-494d-a297-89946f49467c"
      },
      "source": [
        "\"\"\"Displaying a bar chart\"\"\"\n",
        "\n",
        "numbers = [19, 3, 15, 7, 11]\n",
        "\n",
        "print('\\nCreating a bar chart from numbers:')\n",
        "\n",
        "print(f'Index{\"Value\":>8} Bar')\n",
        "\n",
        "for index, value in enumerate(numbers):\n",
        "  print(f'{index:>5}{value:>8} {\"*\" * value}')\n"
      ],
      "execution_count": null,
      "outputs": [
        {
          "output_type": "stream",
          "text": [
            "\n",
            "Creating a bar chart from numbers:\n",
            "Index   Value Bar\n",
            "    0      19 *******************\n",
            "    1       3 ***\n",
            "    2      15 ***************\n",
            "    3       7 *******\n",
            "    4      11 ***********\n"
          ],
          "name": "stdout"
        }
      ]
    },
    {
      "cell_type": "markdown",
      "metadata": {
        "id": "5Mm223DzE3XL"
      },
      "source": [
        "The for statement uses enumerate to get each element’s index and value, then displays a formatted line containing the index, the element value and the corresponding bar of asterisks. The expression \"*\" * value creates a string consisting of value asterisks. When used with a sequence, the multiplication operator (*) repeats the sequence—in this case, the string \"*\"—value times."
      ]
    }
  ]
}