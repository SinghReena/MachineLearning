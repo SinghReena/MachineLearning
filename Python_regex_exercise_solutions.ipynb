{
  "nbformat": 4,
  "nbformat_minor": 0,
  "metadata": {
    "colab": {
      "name": "Python regex exercise solutions.ipynb",
      "provenance": [],
      "include_colab_link": true
    },
    "kernelspec": {
      "name": "python3",
      "display_name": "Python 3"
    }
  },
  "cells": [
    {
      "cell_type": "markdown",
      "metadata": {
        "id": "view-in-github",
        "colab_type": "text"
      },
      "source": [
        "<a href=\"https://colab.research.google.com/github/SinghReena/MachineLearning/blob/master/Python_regex_exercise_solutions.ipynb\" target=\"_parent\"><img src=\"https://colab.research.google.com/assets/colab-badge.svg\" alt=\"Open In Colab\"/></a>"
      ]
    },
    {
      "cell_type": "markdown",
      "metadata": {
        "id": "yaLjrn9-QjvM"
      },
      "source": [
        "# Exercises\n",
        "\n",
        "Remember regex symbols:\n",
        "\n",
        "* `\\d`: digit\n",
        "* `\\w`: word character\n",
        "* `\\W`: non-word character\n",
        "* `\\s`: whitespace\n",
        "* `.` : match any character\n",
        "\n",
        "Repeats\n",
        "* `+` one or more\n",
        "* `?` zero or one\n",
        "* `*` zero or more\n",
        "* `{}` for range of occurrences\n",
        "\n",
        "\n",
        "\n",
        "\n"
      ]
    },
    {
      "cell_type": "code",
      "metadata": {
        "id": "DbaiLnZzlRq5"
      },
      "source": [
        "import re\n"
      ],
      "execution_count": null,
      "outputs": []
    },
    {
      "cell_type": "code",
      "metadata": {
        "id": "CmTCHbVPr_Bp"
      },
      "source": [
        "s = 'This is 2021 Data Science batch 1.'"
      ],
      "execution_count": null,
      "outputs": []
    },
    {
      "cell_type": "markdown",
      "metadata": {
        "id": "EuOYDI3slYUb"
      },
      "source": [
        "### 1.  Find the number in the string."
      ]
    },
    {
      "cell_type": "code",
      "metadata": {
        "colab": {
          "base_uri": "https://localhost:8080/"
        },
        "id": "yWE6iKahU4-_",
        "outputId": "00cc0784-5440-44eb-f094-3e591cdb6e7a"
      },
      "source": [
        "re.findall(r'\\d+',s)"
      ],
      "execution_count": null,
      "outputs": [
        {
          "output_type": "execute_result",
          "data": {
            "text/plain": [
              "['2021', '1']"
            ]
          },
          "metadata": {
            "tags": []
          },
          "execution_count": 7
        }
      ]
    },
    {
      "cell_type": "markdown",
      "metadata": {
        "id": "rJ3wDDWeVT1O"
      },
      "source": [
        " ### 2. Return the words of a given string `s`\n",
        "\n",
        " Hint: How do we identify \"words\"? A word has 'one or more' 'word characters'."
      ]
    },
    {
      "cell_type": "code",
      "metadata": {
        "colab": {
          "base_uri": "https://localhost:8080/"
        },
        "id": "zoryD_K4VVLT",
        "outputId": "1ec682ff-a139-4951-ce46-dae589b53e4c"
      },
      "source": [
        "re.findall(r'\\w+',s)"
      ],
      "execution_count": null,
      "outputs": [
        {
          "output_type": "execute_result",
          "data": {
            "text/plain": [
              "['This', 'is', '2021', 'Data', 'Science', 'batch', '1']"
            ]
          },
          "metadata": {
            "tags": []
          },
          "execution_count": 14
        }
      ]
    },
    {
      "cell_type": "markdown",
      "metadata": {
        "id": "RLbKkyCMlm3P"
      },
      "source": [
        "### 3. Find the first word of the string.\n",
        "\n",
        "Hint: \"First\" word. (we got words in the previous exercise)."
      ]
    },
    {
      "cell_type": "code",
      "metadata": {
        "colab": {
          "base_uri": "https://localhost:8080/"
        },
        "id": "r1hAmw_zVJyg",
        "outputId": "50970ff0-e142-4934-fa39-9fee7318d265"
      },
      "source": [
        "re.findall(r'^\\w+',s)"
      ],
      "execution_count": null,
      "outputs": [
        {
          "output_type": "execute_result",
          "data": {
            "text/plain": [
              "['This']"
            ]
          },
          "metadata": {
            "tags": []
          },
          "execution_count": 16
        }
      ]
    },
    {
      "cell_type": "markdown",
      "metadata": {
        "id": "686IaqXHl13S"
      },
      "source": [
        "### 4.  Find the last word of the string.\n",
        "\n",
        "Hint: \"last\" word."
      ]
    },
    {
      "cell_type": "code",
      "metadata": {
        "colab": {
          "base_uri": "https://localhost:8080/"
        },
        "id": "q3bhtKFbV45X",
        "outputId": "a819a396-da9d-4ebe-bfcf-17a3d3854c59"
      },
      "source": [
        "re.findall(r'\\w+\\.$',s)"
      ],
      "execution_count": null,
      "outputs": [
        {
          "output_type": "execute_result",
          "data": {
            "text/plain": [
              "['1.']"
            ]
          },
          "metadata": {
            "tags": []
          },
          "execution_count": 35
        }
      ]
    },
    {
      "cell_type": "markdown",
      "metadata": {
        "id": "TmOvrBLYfeX-"
      },
      "source": [
        "### 5. Return the first two character of each word\n",
        "\n",
        "Hint: First find the pattern for two characters.  Then use \"\\b\" to specify that we want the first characters after a whitespace.\n"
      ]
    },
    {
      "cell_type": "code",
      "metadata": {
        "colab": {
          "base_uri": "https://localhost:8080/"
        },
        "id": "QRD2IL2fW8In",
        "outputId": "64e449b6-6e0e-4d4e-e7a8-7edeaf369032"
      },
      "source": [
        "re.findall(r'\\b\\w{2}',s)"
      ],
      "execution_count": null,
      "outputs": [
        {
          "output_type": "execute_result",
          "data": {
            "text/plain": [
              "['Th', 'is', '20', 'Da', 'Sc', 'ba']"
            ]
          },
          "metadata": {
            "tags": []
          },
          "execution_count": 42
        }
      ]
    },
    {
      "cell_type": "code",
      "metadata": {
        "colab": {
          "base_uri": "https://localhost:8080/"
        },
        "id": "QM24y7fGXMJD",
        "outputId": "21d99f65-15f1-4711-a3c8-1b3d2e0f96fd"
      },
      "source": [
        "re.findall(r'\\b\\w\\w',s)"
      ],
      "execution_count": null,
      "outputs": [
        {
          "output_type": "execute_result",
          "data": {
            "text/plain": [
              "['Th', 'is', '20', 'Da', 'Sc', 'ba']"
            ]
          },
          "metadata": {
            "tags": []
          },
          "execution_count": 43
        }
      ]
    },
    {
      "cell_type": "markdown",
      "metadata": {
        "id": "yGmsG3zWe7z2"
      },
      "source": [
        "### 6.  Write three regular expressions to extract \n",
        "1. user name \n",
        "2. domain name and \n",
        "3. top-level type domain for the email ids: \n",
        "`'abc.test1@gmail.com, xyz+user@test.uk, director@fuhsdadultschool.org'`\n",
        "\n",
        "The three patterns should give\n",
        "\n",
        "```['abc.test1', 'xyz+user', 'director']```\n",
        "\n",
        "```['gmail', 'test', 'fuhsdadultschool']```\n",
        "\n",
        "```['com', 'uk', 'org']```\n",
        "\n",
        "\n",
        "Hints: \n",
        "1. what are the separators for id? \n",
        "2. what are the separators for domain name and top-level domain.\n",
        "3. Notice that the user id can have `.` and `+` special characters."
      ]
    },
    {
      "cell_type": "code",
      "metadata": {
        "id": "-aLi4AwQYZ0_"
      },
      "source": [
        "email_ids =  'abc.test1@gmail.com, xyz+user@test.co.uk, director@fuhsdadultschool.org'"
      ],
      "execution_count": null,
      "outputs": []
    },
    {
      "cell_type": "code",
      "metadata": {
        "colab": {
          "base_uri": "https://localhost:8080/"
        },
        "id": "R-tHTfPDdjJh",
        "outputId": "6638f3ab-f707-4eea-b964-dc2a48b88203"
      },
      "source": [
        "# find all email addresses separately.\n",
        "re.findall(r'[\\w\\.\\+]+\\@\\w+\\.[\\w.]+',email_ids)\n"
      ],
      "execution_count": null,
      "outputs": [
        {
          "output_type": "execute_result",
          "data": {
            "text/plain": [
              "['abc.test1@gmail.com', 'xyz+user@test.co.uk', 'director@fuhsdadultschool.org']"
            ]
          },
          "metadata": {
            "tags": []
          },
          "execution_count": 59
        }
      ]
    },
    {
      "cell_type": "code",
      "metadata": {
        "colab": {
          "base_uri": "https://localhost:8080/"
        },
        "id": "a3LTbaF5XjiI",
        "outputId": "e35beaa7-a3a4-40b9-f0d2-8d6ec84e6fe3"
      },
      "source": [
        "re.findall(r'([\\w\\.\\+]+)\\@',email_ids)\n"
      ],
      "execution_count": null,
      "outputs": [
        {
          "output_type": "execute_result",
          "data": {
            "text/plain": [
              "['abc.test1', 'xyz+user', 'director']"
            ]
          },
          "metadata": {
            "tags": []
          },
          "execution_count": 54
        }
      ]
    },
    {
      "cell_type": "code",
      "metadata": {
        "colab": {
          "base_uri": "https://localhost:8080/"
        },
        "id": "Mlh3fa11arob",
        "outputId": "707c23e8-065f-4cf6-fdde-1e32cfeddd61"
      },
      "source": [
        "re.findall(r'@(\\w+).',email_ids)"
      ],
      "execution_count": null,
      "outputs": [
        {
          "output_type": "execute_result",
          "data": {
            "text/plain": [
              "['gmail', 'test', 'fuhsdadultschool']"
            ]
          },
          "metadata": {
            "tags": []
          },
          "execution_count": 56
        }
      ]
    },
    {
      "cell_type": "code",
      "metadata": {
        "colab": {
          "base_uri": "https://localhost:8080/"
        },
        "id": "5BJS150XbN3Q",
        "outputId": "a6464d8f-5e07-4817-fb26-1165d6013bb6"
      },
      "source": [
        "re.findall(r'@\\w+\\.([\\w+.]+)',email_ids)"
      ],
      "execution_count": null,
      "outputs": [
        {
          "output_type": "execute_result",
          "data": {
            "text/plain": [
              "['com', 'co.uk', 'org']"
            ]
          },
          "metadata": {
            "tags": []
          },
          "execution_count": 8
        }
      ]
    },
    {
      "cell_type": "code",
      "metadata": {
        "colab": {
          "base_uri": "https://localhost:8080/"
        },
        "id": "s2_eA8SvkTT1",
        "outputId": "e36a3617-2cb2-4054-e3c8-1e120d92980b"
      },
      "source": [
        "re.findall(r'@\\w+(\\.[\\w+.]+)',email_ids)"
      ],
      "execution_count": null,
      "outputs": [
        {
          "output_type": "execute_result",
          "data": {
            "text/plain": [
              "['.com', '.co.uk', '.org']"
            ]
          },
          "metadata": {
            "tags": []
          },
          "execution_count": 7
        }
      ]
    },
    {
      "cell_type": "markdown",
      "metadata": {
        "id": "azImRrKFdiQh"
      },
      "source": [
        "### 7: Find dates in given string \n",
        "\n",
        "How do we extract and print only the year ?\n",
        "\n",
        "Hint: \n",
        "1. Use “\\d” to extract digit.\n",
        "2. Use  parenthesis “()” to capture only a part."
      ]
    },
    {
      "cell_type": "code",
      "metadata": {
        "id": "OPObRBI_vwRF"
      },
      "source": [
        "people = \"Peter Pan 800-374-5347 12-05-2017, Harry Potter 480-266-4532 11-11-2011, Wiz oz 510-699-9945 12-01-2020\""
      ],
      "execution_count": null,
      "outputs": []
    },
    {
      "cell_type": "code",
      "metadata": {
        "colab": {
          "base_uri": "https://localhost:8080/"
        },
        "id": "WsPuwCwWbsxY",
        "outputId": "cfe7d238-e6d4-467f-d2a8-6d54bf5c3410"
      },
      "source": [
        "re.findall(r'\\d{2}-\\d{2}-(\\d{4})',people)"
      ],
      "execution_count": null,
      "outputs": [
        {
          "output_type": "execute_result",
          "data": {
            "text/plain": [
              "['2017', '2011', '2020']"
            ]
          },
          "metadata": {
            "tags": []
          },
          "execution_count": 35
        }
      ]
    },
    {
      "cell_type": "markdown",
      "metadata": {
        "id": "sghQ7QS3izYJ"
      },
      "source": [
        "### 8. Return all words of a string that start with vowel in `s`\n",
        "\n",
        "No hints at this point :)\n"
      ]
    },
    {
      "cell_type": "code",
      "metadata": {
        "id": "J_qZdamNwFj7",
        "colab": {
          "base_uri": "https://localhost:8080/"
        },
        "outputId": "d179ff06-5188-41ab-a3bd-bcd8fdbc1c8f"
      },
      "source": [
        "\n",
        "s = 'This is 2021 Data Science batch 1.'\n",
        "re.findall(r'[aeiouAEIOU]\\w+',s)"
      ],
      "execution_count": null,
      "outputs": [
        {
          "output_type": "execute_result",
          "data": {
            "text/plain": [
              "['is', 'is', 'ata', 'ience', 'atch']"
            ]
          },
          "metadata": {
            "tags": []
          },
          "execution_count": 115
        }
      ]
    },
    {
      "cell_type": "code",
      "metadata": {
        "colab": {
          "base_uri": "https://localhost:8080/"
        },
        "id": "HPeF3DiXcULo",
        "outputId": "04d38b90-e58f-4d80-899f-bd7da9bcb45e"
      },
      "source": [
        "re.findall(r'\\b[aeiouAEIOU]\\w+',s)"
      ],
      "execution_count": null,
      "outputs": [
        {
          "output_type": "execute_result",
          "data": {
            "text/plain": [
              "['is']"
            ]
          },
          "metadata": {
            "tags": []
          },
          "execution_count": 116
        }
      ]
    }
  ]
}