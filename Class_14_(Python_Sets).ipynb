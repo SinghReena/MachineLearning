{
  "nbformat": 4,
  "nbformat_minor": 0,
  "metadata": {
    "colab": {
      "name": "Class-14 (Python Sets).ipynb",
      "provenance": [],
      "collapsed_sections": [],
      "authorship_tag": "ABX9TyNo8qUgi4FAV9f9VOHAFNRq",
      "include_colab_link": true
    },
    "kernelspec": {
      "name": "python3",
      "display_name": "Python 3"
    }
  },
  "cells": [
    {
      "cell_type": "markdown",
      "metadata": {
        "id": "view-in-github",
        "colab_type": "text"
      },
      "source": [
        "<a href=\"https://colab.research.google.com/github/SinghReena/MachineLearning/blob/master/Class_14_(Python_Sets).ipynb\" target=\"_parent\"><img src=\"https://colab.research.google.com/assets/colab-badge.svg\" alt=\"Open In Colab\"/></a>"
      ]
    },
    {
      "cell_type": "markdown",
      "metadata": {
        "id": "USjirrpp-3UJ"
      },
      "source": [
        "**1.1 Sets**"
      ]
    },
    {
      "cell_type": "markdown",
      "metadata": {
        "id": "TkaAIaoL-9fH"
      },
      "source": [
        "A set is an unordered collection of unique values. Sets may contain only immutable objects, like strings, ints, floats and tuples that contain only immutable elements. Though sets are iterable, they are not sequences and do not support indexing and slicing with square brackets, []. Dictionaries also do not support slicing."
      ]
    },
    {
      "cell_type": "markdown",
      "metadata": {
        "id": "FfVTRsD-_TIR"
      },
      "source": [
        "**1.1.1 Create Sets**"
      ]
    },
    {
      "cell_type": "markdown",
      "metadata": {
        "id": "gDey6bcO_WUT"
      },
      "source": [
        "The following code creates a set of strings named colors:"
      ]
    },
    {
      "cell_type": "code",
      "metadata": {
        "colab": {
          "base_uri": "https://localhost:8080/"
        },
        "id": "wPV2-TeD_ZTk",
        "outputId": "381a423a-a64e-4db8-a9ab-fbf5b370d174"
      },
      "source": [
        "colors = {'red', 'orange', 'yellow', 'green', 'red', 'blue'}\n",
        "\n",
        "colors\n"
      ],
      "execution_count": null,
      "outputs": [
        {
          "output_type": "execute_result",
          "data": {
            "text/plain": [
              "{'blue', 'green', 'orange', 'red', 'yellow'}"
            ]
          },
          "metadata": {
            "tags": []
          },
          "execution_count": 46
        }
      ]
    },
    {
      "cell_type": "markdown",
      "metadata": {
        "id": "opHKlMA8_oR1"
      },
      "source": [
        "Notice that the duplicate string 'red' was ignored (without causing an error). An important use of sets is duplicate elimination, which is automatic when creating a set. Also, the resulting set’s values are not displayed in the same order as they were listed. Though the color names are displayed in sorted order, sets are unordered. You should not write code that depends on the order of their elements."
      ]
    },
    {
      "cell_type": "markdown",
      "metadata": {
        "id": "N_Z9xvfX_y8d"
      },
      "source": [
        "*Determining a Set’s Length*"
      ]
    },
    {
      "cell_type": "markdown",
      "metadata": {
        "id": "Jam-rBJK_3CY"
      },
      "source": [
        "You can determine the number of items in a set with the built-in len function:"
      ]
    },
    {
      "cell_type": "code",
      "metadata": {
        "colab": {
          "base_uri": "https://localhost:8080/"
        },
        "id": "-DrLdzN__4GR",
        "outputId": "457d1ae1-bdc2-411c-f640-0a07159dfb78"
      },
      "source": [
        "len(colors)"
      ],
      "execution_count": null,
      "outputs": [
        {
          "output_type": "execute_result",
          "data": {
            "text/plain": [
              "5"
            ]
          },
          "metadata": {
            "tags": []
          },
          "execution_count": 47
        }
      ]
    },
    {
      "cell_type": "markdown",
      "metadata": {
        "id": "eNueztQyAAlG"
      },
      "source": [
        "*Checking Whether a Value Is in a Set*"
      ]
    },
    {
      "cell_type": "markdown",
      "metadata": {
        "id": "Aa1X3nfaAFBN"
      },
      "source": [
        "You can check whether a set contains a particular value using the in and not in operators:"
      ]
    },
    {
      "cell_type": "code",
      "metadata": {
        "colab": {
          "base_uri": "https://localhost:8080/"
        },
        "id": "Z0ZQ9QYgAFzD",
        "outputId": "f2b58169-9b02-460a-afda-6e7189efa0bb"
      },
      "source": [
        "'red' in colors"
      ],
      "execution_count": null,
      "outputs": [
        {
          "output_type": "execute_result",
          "data": {
            "text/plain": [
              "True"
            ]
          },
          "metadata": {
            "tags": []
          },
          "execution_count": 48
        }
      ]
    },
    {
      "cell_type": "code",
      "metadata": {
        "colab": {
          "base_uri": "https://localhost:8080/"
        },
        "id": "2S-wf9-aAIsC",
        "outputId": "6dc8c3c9-bb78-41c2-bb0f-5d5b798e2b4c"
      },
      "source": [
        "'purple' in colors"
      ],
      "execution_count": null,
      "outputs": [
        {
          "output_type": "execute_result",
          "data": {
            "text/plain": [
              "False"
            ]
          },
          "metadata": {
            "tags": []
          },
          "execution_count": 49
        }
      ]
    },
    {
      "cell_type": "code",
      "metadata": {
        "colab": {
          "base_uri": "https://localhost:8080/"
        },
        "id": "qdZb9Q2IALfT",
        "outputId": "c47b0e4c-f72a-48d1-ec27-6c866e5e20a6"
      },
      "source": [
        "'purple' not in colors"
      ],
      "execution_count": null,
      "outputs": [
        {
          "output_type": "execute_result",
          "data": {
            "text/plain": [
              "True"
            ]
          },
          "metadata": {
            "tags": []
          },
          "execution_count": 50
        }
      ]
    },
    {
      "cell_type": "markdown",
      "metadata": {
        "id": "KJzF90-bAQkt"
      },
      "source": [
        "*Iterating Through a Set*"
      ]
    },
    {
      "cell_type": "markdown",
      "metadata": {
        "id": "BcUGfluWAUGD"
      },
      "source": [
        "Sets are iterable, so you can process each set element with a for loop:"
      ]
    },
    {
      "cell_type": "code",
      "metadata": {
        "colab": {
          "base_uri": "https://localhost:8080/"
        },
        "id": "Cbp6A1TCAVE5",
        "outputId": "66843808-e560-4470-c2ba-d70b9d595475"
      },
      "source": [
        "for color in colors:\n",
        "  print(color.upper(), end=' ')\n"
      ],
      "execution_count": null,
      "outputs": [
        {
          "output_type": "stream",
          "text": [
            "ORANGE RED GREEN BLUE YELLOW "
          ],
          "name": "stdout"
        }
      ]
    },
    {
      "cell_type": "markdown",
      "metadata": {
        "id": "EXoI31zsAcuz"
      },
      "source": [
        "Sets are unordered, so there’s no significance to the iteration order."
      ]
    },
    {
      "cell_type": "markdown",
      "metadata": {
        "id": "lA2Qa3zmAds5"
      },
      "source": [
        "*Creating a Set with the Built-In set Function*"
      ]
    },
    {
      "cell_type": "markdown",
      "metadata": {
        "id": "sglr4bAeAkmS"
      },
      "source": [
        "You can create a set from another collection of values by using the built-in set function—here we create a list that contains several duplicate integer values and use that list as set’s argument:"
      ]
    },
    {
      "cell_type": "code",
      "metadata": {
        "colab": {
          "base_uri": "https://localhost:8080/"
        },
        "id": "ZonnRpDRAldu",
        "outputId": "6dadb33c-d0ed-4568-a0d3-ec1b52a4c349"
      },
      "source": [
        "numbers = list(range(10)) + list(range(5))\n",
        "numbers"
      ],
      "execution_count": null,
      "outputs": [
        {
          "output_type": "execute_result",
          "data": {
            "text/plain": [
              "[0, 1, 2, 3, 4, 5, 6, 7, 8, 9, 0, 1, 2, 3, 4]"
            ]
          },
          "metadata": {
            "tags": []
          },
          "execution_count": 52
        }
      ]
    },
    {
      "cell_type": "code",
      "metadata": {
        "colab": {
          "base_uri": "https://localhost:8080/"
        },
        "id": "RVvvVml_Argd",
        "outputId": "dbe6e3be-e32b-457d-9792-7e79a0c2af92"
      },
      "source": [
        "set(numbers)"
      ],
      "execution_count": null,
      "outputs": [
        {
          "output_type": "execute_result",
          "data": {
            "text/plain": [
              "{0, 1, 2, 3, 4, 5, 6, 7, 8, 9}"
            ]
          },
          "metadata": {
            "tags": []
          },
          "execution_count": 53
        }
      ]
    },
    {
      "cell_type": "markdown",
      "metadata": {
        "id": "bwxlhcuFAu1u"
      },
      "source": [
        "If you need to create an empty set, you must use the set function with empty parentheses, rather than empty braces, {}, which represent an empty dictionary:"
      ]
    },
    {
      "cell_type": "code",
      "metadata": {
        "colab": {
          "base_uri": "https://localhost:8080/"
        },
        "id": "NLVqS-VxA3QB",
        "outputId": "c3b49027-6b95-42ed-c254-3345456ea832"
      },
      "source": [
        "set()"
      ],
      "execution_count": null,
      "outputs": [
        {
          "output_type": "execute_result",
          "data": {
            "text/plain": [
              "set()"
            ]
          },
          "metadata": {
            "tags": []
          },
          "execution_count": 54
        }
      ]
    },
    {
      "cell_type": "markdown",
      "metadata": {
        "id": "DDp-qJZsA8E6"
      },
      "source": [
        "Python displays an empty set as set() to avoid confusion with Python’s string representation of an empty dictionary ({})."
      ]
    },
    {
      "cell_type": "markdown",
      "metadata": {
        "id": "lLnuT8MAA9VT"
      },
      "source": [
        "*Frozenset: An Immutable Set Type*"
      ]
    },
    {
      "cell_type": "markdown",
      "metadata": {
        "id": "k_MYr301BAXq"
      },
      "source": [
        "Sets are mutable—you can add and remove elements, but set elements must be immutable. Therefore, a set cannot have other sets as elements. A frozenset is an immutable set—it cannot be modified after you create it, so a set can contain frozensets as elements. The built-in function frozenset creates a frozenset from any iterable."
      ]
    },
    {
      "cell_type": "markdown",
      "metadata": {
        "id": "oMAjkVmeBEUn"
      },
      "source": [
        "**1.1.2 Comparing Sets**"
      ]
    },
    {
      "cell_type": "markdown",
      "metadata": {
        "id": "CPkg04C1BQKA"
      },
      "source": [
        "Various operators and methods can be used to compare sets. The following sets contain the same values, so == returns True and != returns False."
      ]
    },
    {
      "cell_type": "code",
      "metadata": {
        "colab": {
          "base_uri": "https://localhost:8080/"
        },
        "id": "G3PIdMPsBRRU",
        "outputId": "1aa863f3-5116-4b13-e3f2-f375d4b0464f"
      },
      "source": [
        "{1, 3, 5} == {3, 5, 1}"
      ],
      "execution_count": null,
      "outputs": [
        {
          "output_type": "execute_result",
          "data": {
            "text/plain": [
              "True"
            ]
          },
          "metadata": {
            "tags": []
          },
          "execution_count": 55
        }
      ]
    },
    {
      "cell_type": "code",
      "metadata": {
        "colab": {
          "base_uri": "https://localhost:8080/"
        },
        "id": "GA4lhQaVBVnn",
        "outputId": "40edb2c2-44d0-44d8-fc68-3889b23db98b"
      },
      "source": [
        "{1, 3, 5} != {3, 5, 1}"
      ],
      "execution_count": null,
      "outputs": [
        {
          "output_type": "execute_result",
          "data": {
            "text/plain": [
              "False"
            ]
          },
          "metadata": {
            "tags": []
          },
          "execution_count": 56
        }
      ]
    },
    {
      "cell_type": "markdown",
      "metadata": {
        "id": "Jb5ltEM3BZkL"
      },
      "source": [
        "The < operator tests whether the set to its left is a proper subset of the one to its right—that is, all the elements in the left operand are in the right operand, and the sets are not equal:"
      ]
    },
    {
      "cell_type": "code",
      "metadata": {
        "colab": {
          "base_uri": "https://localhost:8080/"
        },
        "id": "5CeEVVgSBaRs",
        "outputId": "ac00ba06-f66d-4596-a9e4-1299e5e5a158"
      },
      "source": [
        "{1, 3, 5} < {3, 5, 1}"
      ],
      "execution_count": null,
      "outputs": [
        {
          "output_type": "execute_result",
          "data": {
            "text/plain": [
              "False"
            ]
          },
          "metadata": {
            "tags": []
          },
          "execution_count": 57
        }
      ]
    },
    {
      "cell_type": "code",
      "metadata": {
        "colab": {
          "base_uri": "https://localhost:8080/"
        },
        "id": "141jZVDIBfYb",
        "outputId": "42e34182-2c4e-4e6a-c14c-ee7236493903"
      },
      "source": [
        "{1, 3, 5} < {7, 3, 5, 1}"
      ],
      "execution_count": null,
      "outputs": [
        {
          "output_type": "execute_result",
          "data": {
            "text/plain": [
              "True"
            ]
          },
          "metadata": {
            "tags": []
          },
          "execution_count": 58
        }
      ]
    },
    {
      "cell_type": "markdown",
      "metadata": {
        "id": "dmWzq7MqCAZ9"
      },
      "source": [
        "The <= operator tests whether the set to its left is an improper subset of the one to its right—that is, all the elements in the left operand are in the right operand, and the sets might be equal:"
      ]
    },
    {
      "cell_type": "code",
      "metadata": {
        "colab": {
          "base_uri": "https://localhost:8080/"
        },
        "id": "Qu_gN6qkCBdm",
        "outputId": "871b4a8d-2f64-4361-aac7-636b4fecc74d"
      },
      "source": [
        "{1, 3, 5} <= {3, 5, 1}"
      ],
      "execution_count": null,
      "outputs": [
        {
          "output_type": "execute_result",
          "data": {
            "text/plain": [
              "True"
            ]
          },
          "metadata": {
            "tags": []
          },
          "execution_count": 15
        }
      ]
    },
    {
      "cell_type": "code",
      "metadata": {
        "colab": {
          "base_uri": "https://localhost:8080/"
        },
        "id": "F-WFiTspCGAE",
        "outputId": "0b43f3f3-42da-4494-d2bd-39b291902b16"
      },
      "source": [
        "{1, 3} <= {3, 5, 1}"
      ],
      "execution_count": null,
      "outputs": [
        {
          "output_type": "execute_result",
          "data": {
            "text/plain": [
              "True"
            ]
          },
          "metadata": {
            "tags": []
          },
          "execution_count": 16
        }
      ]
    },
    {
      "cell_type": "markdown",
      "metadata": {
        "id": "GkLQr6M_CLNL"
      },
      "source": [
        "You may also check for an improper subset with the set method issubset:"
      ]
    },
    {
      "cell_type": "code",
      "metadata": {
        "colab": {
          "base_uri": "https://localhost:8080/"
        },
        "id": "ofV_EHdGCMh0",
        "outputId": "04e0a5a1-b265-4fd3-cde9-9dcd132c2954"
      },
      "source": [
        "{1, 3, 5}.issubset({3, 5, 1})"
      ],
      "execution_count": null,
      "outputs": [
        {
          "output_type": "execute_result",
          "data": {
            "text/plain": [
              "True"
            ]
          },
          "metadata": {
            "tags": []
          },
          "execution_count": 17
        }
      ]
    },
    {
      "cell_type": "code",
      "metadata": {
        "colab": {
          "base_uri": "https://localhost:8080/"
        },
        "id": "cVy_Y5jmCQ7Z",
        "outputId": "74bcb9d9-f1a8-4046-8951-614f24ed0a66"
      },
      "source": [
        "{1, 2}.issubset({3, 5, 1})"
      ],
      "execution_count": null,
      "outputs": [
        {
          "output_type": "execute_result",
          "data": {
            "text/plain": [
              "False"
            ]
          },
          "metadata": {
            "tags": []
          },
          "execution_count": 18
        }
      ]
    },
    {
      "cell_type": "markdown",
      "metadata": {
        "id": "XCpnvu0uCTqO"
      },
      "source": [
        "The > operator tests whether the set to its left is a proper superset of the one to its right—that is, all the elements in the right operand are in the left operand, and the left operand has more elements:"
      ]
    },
    {
      "cell_type": "code",
      "metadata": {
        "colab": {
          "base_uri": "https://localhost:8080/"
        },
        "id": "_fIBtUN9CUoX",
        "outputId": "d9435529-eaee-41c0-fa4a-074bf13fe00f"
      },
      "source": [
        "{1, 3, 5} > {3, 5, 1}"
      ],
      "execution_count": null,
      "outputs": [
        {
          "output_type": "execute_result",
          "data": {
            "text/plain": [
              "False"
            ]
          },
          "metadata": {
            "tags": []
          },
          "execution_count": 19
        }
      ]
    },
    {
      "cell_type": "code",
      "metadata": {
        "colab": {
          "base_uri": "https://localhost:8080/"
        },
        "id": "iwJFXWSJCY4A",
        "outputId": "18a1e513-6950-47cf-f9a5-3f2f6af1409a"
      },
      "source": [
        "{1, 3, 5, 7} > {3, 5, 1}"
      ],
      "execution_count": null,
      "outputs": [
        {
          "output_type": "execute_result",
          "data": {
            "text/plain": [
              "True"
            ]
          },
          "metadata": {
            "tags": []
          },
          "execution_count": 20
        }
      ]
    },
    {
      "cell_type": "markdown",
      "metadata": {
        "id": "pxRdXyACCbai"
      },
      "source": [
        "The >= operator tests whether the set to its left is an improper superset of the one to its right—that is, all the elements in the right operand are in the left operand, and the sets might be equal:"
      ]
    },
    {
      "cell_type": "code",
      "metadata": {
        "colab": {
          "base_uri": "https://localhost:8080/"
        },
        "id": "43Ca8TzWCdRk",
        "outputId": "6efdd8a4-14d1-492d-efe5-9cae693d0e0b"
      },
      "source": [
        "{1, 3, 5} >= {3, 5, 1}"
      ],
      "execution_count": null,
      "outputs": [
        {
          "output_type": "execute_result",
          "data": {
            "text/plain": [
              "True"
            ]
          },
          "metadata": {
            "tags": []
          },
          "execution_count": 21
        }
      ]
    },
    {
      "cell_type": "code",
      "metadata": {
        "colab": {
          "base_uri": "https://localhost:8080/"
        },
        "id": "45sue_gyChBf",
        "outputId": "87b33ef7-a05a-435e-8130-ca5e63d502dc"
      },
      "source": [
        "{1,  5} >= {3}"
      ],
      "execution_count": null,
      "outputs": [
        {
          "output_type": "execute_result",
          "data": {
            "text/plain": [
              "False"
            ]
          },
          "metadata": {
            "tags": []
          },
          "execution_count": 22
        }
      ]
    },
    {
      "cell_type": "code",
      "metadata": {
        "colab": {
          "base_uri": "https://localhost:8080/"
        },
        "id": "-YrDgy3uCj1c",
        "outputId": "49a97bac-6dcc-4c47-c4c1-f4a1f890ed34"
      },
      "source": [
        "{1, 3} >= {3, 1, 7}"
      ],
      "execution_count": null,
      "outputs": [
        {
          "output_type": "execute_result",
          "data": {
            "text/plain": [
              "False"
            ]
          },
          "metadata": {
            "tags": []
          },
          "execution_count": 23
        }
      ]
    },
    {
      "cell_type": "markdown",
      "metadata": {
        "id": "YbPEACpTCn84"
      },
      "source": [
        "You may also check for an improper superset with the set method issuperset:"
      ]
    },
    {
      "cell_type": "code",
      "metadata": {
        "colab": {
          "base_uri": "https://localhost:8080/"
        },
        "id": "QcfYvoThCorC",
        "outputId": "300af21c-2c88-4d96-9e3e-e96be4c786c5"
      },
      "source": [
        "{1, 3, 5}.issuperset({3, 5, 1})"
      ],
      "execution_count": null,
      "outputs": [
        {
          "output_type": "execute_result",
          "data": {
            "text/plain": [
              "True"
            ]
          },
          "metadata": {
            "tags": []
          },
          "execution_count": 24
        }
      ]
    },
    {
      "cell_type": "code",
      "metadata": {
        "colab": {
          "base_uri": "https://localhost:8080/"
        },
        "id": "kFiegGdECrO5",
        "outputId": "d02cb482-8161-4439-d553-f209f06c1cdc"
      },
      "source": [
        "{1, 3, 5}.issuperset({3, 2})"
      ],
      "execution_count": null,
      "outputs": [
        {
          "output_type": "execute_result",
          "data": {
            "text/plain": [
              "False"
            ]
          },
          "metadata": {
            "tags": []
          },
          "execution_count": 25
        }
      ]
    },
    {
      "cell_type": "markdown",
      "metadata": {
        "id": "Gv5DThcdCxCP"
      },
      "source": [
        "The argument to issubset or issuperset can be any iterable. When either of these methods receives a non-set iterable argument, it first converts the iterable to a set, then performs the operation."
      ]
    },
    {
      "cell_type": "markdown",
      "metadata": {
        "id": "CUsfJTlXCzeq"
      },
      "source": [
        "**1.1.3 Mathematical Set Operations**"
      ]
    },
    {
      "cell_type": "markdown",
      "metadata": {
        "id": "durzc_07C510"
      },
      "source": [
        "This section presents the set type’s mathematical operators |, &, - and ^ and the corresponding methods."
      ]
    },
    {
      "cell_type": "markdown",
      "metadata": {
        "id": "QVm6fEV4C_Iu"
      },
      "source": [
        "*Union*"
      ]
    },
    {
      "cell_type": "markdown",
      "metadata": {
        "id": "0bma_GOqDApN"
      },
      "source": [
        "The union of two sets is a set consisting of all the unique elements from both sets. You can calculate the union with the | operator or with the set type’s union method:"
      ]
    },
    {
      "cell_type": "code",
      "metadata": {
        "colab": {
          "base_uri": "https://localhost:8080/"
        },
        "id": "--dFlH7vDHaK",
        "outputId": "1260e9a0-3435-46ae-a6f9-3878002e26c7"
      },
      "source": [
        "{1, 3, 5} | {2, 3, 4}"
      ],
      "execution_count": null,
      "outputs": [
        {
          "output_type": "execute_result",
          "data": {
            "text/plain": [
              "{1, 2, 3, 4, 5}"
            ]
          },
          "metadata": {
            "tags": []
          },
          "execution_count": 59
        }
      ]
    },
    {
      "cell_type": "code",
      "metadata": {
        "colab": {
          "base_uri": "https://localhost:8080/"
        },
        "id": "euvc5TveDMml",
        "outputId": "fb4714dd-0b91-4e52-9a53-7cc11af3c051"
      },
      "source": [
        "{1, 3, 5}.union([20, 20, 3, 40, 40])"
      ],
      "execution_count": null,
      "outputs": [
        {
          "output_type": "execute_result",
          "data": {
            "text/plain": [
              "{1, 3, 5, 20, 40}"
            ]
          },
          "metadata": {
            "tags": []
          },
          "execution_count": 60
        }
      ]
    },
    {
      "cell_type": "markdown",
      "metadata": {
        "id": "M1mQpKk7DYHs"
      },
      "source": [
        "The operands of the binary set operators, like |, must both be sets. The corresponding set methods may receive any iterable object as an argument—we passed a list. When a mathematical set method receives a non-set iterable argument, it first converts the iterable to a set, then applies the mathematical operation. Again, though the new sets’ string representations show the values in ascending order, you should not write code that depends on this."
      ]
    },
    {
      "cell_type": "markdown",
      "metadata": {
        "id": "JOR_seuwDZN_"
      },
      "source": [
        "*Intersection*"
      ]
    },
    {
      "cell_type": "markdown",
      "metadata": {
        "id": "sysFdLX2Dd7q"
      },
      "source": [
        "The intersection of two sets is a set consisting of all the unique elements that the two sets have in common. You can calculate the intersection with the & operator or with the set type’s intersection method:"
      ]
    },
    {
      "cell_type": "code",
      "metadata": {
        "colab": {
          "base_uri": "https://localhost:8080/"
        },
        "id": "oDt1XRwoDg9j",
        "outputId": "ecb27253-5263-4653-a4b5-189c013a420a"
      },
      "source": [
        "{1, 3, 5} & {2, 3, 4}"
      ],
      "execution_count": null,
      "outputs": [
        {
          "output_type": "execute_result",
          "data": {
            "text/plain": [
              "{3}"
            ]
          },
          "metadata": {
            "tags": []
          },
          "execution_count": 61
        }
      ]
    },
    {
      "cell_type": "code",
      "metadata": {
        "colab": {
          "base_uri": "https://localhost:8080/"
        },
        "id": "kwTmu9EqDlf8",
        "outputId": "24f2d709-13b5-4dec-f6ee-42e51283cb61"
      },
      "source": [
        "{1, 3, 5}.intersection([1, 2, 2, 3, 3, 4, 4])"
      ],
      "execution_count": null,
      "outputs": [
        {
          "output_type": "execute_result",
          "data": {
            "text/plain": [
              "{1, 3}"
            ]
          },
          "metadata": {
            "tags": []
          },
          "execution_count": 62
        }
      ]
    },
    {
      "cell_type": "markdown",
      "metadata": {
        "id": "mizYLKrIDn_X"
      },
      "source": [
        "*Difference*"
      ]
    },
    {
      "cell_type": "markdown",
      "metadata": {
        "id": "EKTGB87jDpd1"
      },
      "source": [
        "The difference between two sets is a set consisting of the elements in the left operand that are not in the right operand. You can calculate the difference with the - operator or with the set type’s difference method:"
      ]
    },
    {
      "cell_type": "code",
      "metadata": {
        "colab": {
          "base_uri": "https://localhost:8080/"
        },
        "id": "Uuw2p0mXDr1s",
        "outputId": "64b3a3b0-4d67-4aef-b2f2-4525ca4675ab"
      },
      "source": [
        "{1, 3, 5} - {2, 3, 4}"
      ],
      "execution_count": null,
      "outputs": [
        {
          "output_type": "execute_result",
          "data": {
            "text/plain": [
              "{1, 5}"
            ]
          },
          "metadata": {
            "tags": []
          },
          "execution_count": 63
        }
      ]
    },
    {
      "cell_type": "code",
      "metadata": {
        "colab": {
          "base_uri": "https://localhost:8080/"
        },
        "id": "dLOXrXrRDwm0",
        "outputId": "36e6e40c-20df-43cf-8f60-e32757d3e4b9"
      },
      "source": [
        "{1, 3, 5, 7}.difference([2, 2, 3, 3, 4, 4])"
      ],
      "execution_count": null,
      "outputs": [
        {
          "output_type": "execute_result",
          "data": {
            "text/plain": [
              "{1, 5, 7}"
            ]
          },
          "metadata": {
            "tags": []
          },
          "execution_count": 64
        }
      ]
    },
    {
      "cell_type": "markdown",
      "metadata": {
        "id": "lVRv_BZlDzlE"
      },
      "source": [
        "*Symmetric Difference*"
      ]
    },
    {
      "cell_type": "markdown",
      "metadata": {
        "id": "8W_skmQfD216"
      },
      "source": [
        "The symmetric difference between two sets is a set consisting of the elements of both sets that are not in common with one another. You can calculate the symmetric difference with the ^ operator or with the set type’s symmetric_difference method:"
      ]
    },
    {
      "cell_type": "code",
      "metadata": {
        "colab": {
          "base_uri": "https://localhost:8080/"
        },
        "id": "1lg83xSJD5OO",
        "outputId": "0b9ade94-5cd6-4c70-be93-fef4d8a71be6"
      },
      "source": [
        "{1, 3, 5} ^ {2, 3, 4}"
      ],
      "execution_count": null,
      "outputs": [
        {
          "output_type": "execute_result",
          "data": {
            "text/plain": [
              "{1, 2, 4, 5}"
            ]
          },
          "metadata": {
            "tags": []
          },
          "execution_count": 65
        }
      ]
    },
    {
      "cell_type": "code",
      "metadata": {
        "colab": {
          "base_uri": "https://localhost:8080/"
        },
        "id": "lrm-nqLiD8si",
        "outputId": "625c7d09-f05a-4c83-9591-8035ff020a26"
      },
      "source": [
        "{1, 3, 5, 7}.symmetric_difference([2, 2, 3, 3, 4, 4])"
      ],
      "execution_count": null,
      "outputs": [
        {
          "output_type": "execute_result",
          "data": {
            "text/plain": [
              "{1, 2, 4, 5, 7}"
            ]
          },
          "metadata": {
            "tags": []
          },
          "execution_count": 66
        }
      ]
    },
    {
      "cell_type": "markdown",
      "metadata": {
        "id": "riCWVERYEAo2"
      },
      "source": [
        "*Disjoint*"
      ]
    },
    {
      "cell_type": "markdown",
      "metadata": {
        "id": "j1edCjrnECdd"
      },
      "source": [
        "Two sets are disjoint if they do not have any common elements. You can determine this with the set type’s isdisjoint method:"
      ]
    },
    {
      "cell_type": "code",
      "metadata": {
        "colab": {
          "base_uri": "https://localhost:8080/"
        },
        "id": "1FYXq4o6EFSs",
        "outputId": "25b5ce22-238e-4df5-b10a-2bfffbcc81b1"
      },
      "source": [
        "{1, 3, 5}.isdisjoint({2, 4, 6})"
      ],
      "execution_count": null,
      "outputs": [
        {
          "output_type": "execute_result",
          "data": {
            "text/plain": [
              "True"
            ]
          },
          "metadata": {
            "tags": []
          },
          "execution_count": 34
        }
      ]
    },
    {
      "cell_type": "code",
      "metadata": {
        "colab": {
          "base_uri": "https://localhost:8080/"
        },
        "id": "Tu6DO_s6EH52",
        "outputId": "ad2c925f-cb80-4bc0-f2e7-d4c7508ef912"
      },
      "source": [
        "{1, 3, 5}.isdisjoint({4, 6, 1})"
      ],
      "execution_count": null,
      "outputs": [
        {
          "output_type": "execute_result",
          "data": {
            "text/plain": [
              "False"
            ]
          },
          "metadata": {
            "tags": []
          },
          "execution_count": 35
        }
      ]
    },
    {
      "cell_type": "markdown",
      "metadata": {
        "id": "NhpPkzNcEPbX"
      },
      "source": [
        "**1.1.4 Mutable Set Operators and Methods**"
      ]
    },
    {
      "cell_type": "markdown",
      "metadata": {
        "id": "l29sQKzhEZlJ"
      },
      "source": [
        "The operators and methods presented in the preceding section each result in a new set. Here we discuss operators and methods that modify an existing set."
      ]
    },
    {
      "cell_type": "markdown",
      "metadata": {
        "id": "nT9HGS2NEfR7"
      },
      "source": [
        "*Mutable Mathematical Set Operations*"
      ]
    },
    {
      "cell_type": "markdown",
      "metadata": {
        "id": "4nIe2GioEh4b"
      },
      "source": [
        "Like operator |, union augmented assignment |= performs a set union operation, but |= modifies its left operand:"
      ]
    },
    {
      "cell_type": "code",
      "metadata": {
        "colab": {
          "base_uri": "https://localhost:8080/"
        },
        "id": "v_MCgpiSEkFA",
        "outputId": "9f4674d9-6f53-44f0-a370-aca583eaceb5"
      },
      "source": [
        "numbers = {1, 3, 5}\n",
        "\n",
        "numbers |= {2, 3, 4}\n",
        "\n",
        "numbers"
      ],
      "execution_count": null,
      "outputs": [
        {
          "output_type": "execute_result",
          "data": {
            "text/plain": [
              "{1, 2, 3, 4, 5}"
            ]
          },
          "metadata": {
            "tags": []
          },
          "execution_count": 68
        }
      ]
    },
    {
      "cell_type": "markdown",
      "metadata": {
        "id": "X8St_XLvEwoM"
      },
      "source": [
        "Similarly, the set type’s update method performs a union operation modifying the set on which it’s called—the argument can be any iterable:"
      ]
    },
    {
      "cell_type": "code",
      "metadata": {
        "colab": {
          "base_uri": "https://localhost:8080/"
        },
        "id": "k6qYI5UcEx5c",
        "outputId": "30046b02-d909-4137-f36f-4c44c508dddf"
      },
      "source": [
        "numbers.update(range(10))\n",
        "\n",
        "numbers"
      ],
      "execution_count": null,
      "outputs": [
        {
          "output_type": "execute_result",
          "data": {
            "text/plain": [
              "{0, 1, 2, 3, 4, 5, 6, 7, 8, 9}"
            ]
          },
          "metadata": {
            "tags": []
          },
          "execution_count": 69
        }
      ]
    },
    {
      "cell_type": "markdown",
      "metadata": {
        "id": "1OKVq9eNE53n"
      },
      "source": [
        "The other mutable set methods are:\n",
        "\n",
        "intersection augmented assignment &= \n",
        "\n",
        "difference augmented assignment -= \n",
        "\n",
        "symmetric difference augmented assignment ^=\n",
        "\n",
        "and their corresponding methods with iterable arguments are:\n",
        "\n",
        "intersection_update \n",
        "\n",
        "difference_update \n",
        "\n",
        "symmetric_difference_update"
      ]
    },
    {
      "cell_type": "markdown",
      "metadata": {
        "id": "e-e8nMjBFK2h"
      },
      "source": [
        "*Methods for Adding and Removing Elements*"
      ]
    },
    {
      "cell_type": "markdown",
      "metadata": {
        "id": "GAnCNfiSFP7I"
      },
      "source": [
        "Set method add inserts its argument if the argument is not already in the set; otherwise, the set remains unchanged:"
      ]
    },
    {
      "cell_type": "code",
      "metadata": {
        "colab": {
          "base_uri": "https://localhost:8080/"
        },
        "id": "nrZR1UpEFSWX",
        "outputId": "0cd8ee15-d5e4-40b8-e8f4-b115c8ce92e1"
      },
      "source": [
        "numbers.add(17)\n",
        "\n",
        "numbers.add(3)\n",
        "\n",
        "numbers\n"
      ],
      "execution_count": null,
      "outputs": [
        {
          "output_type": "execute_result",
          "data": {
            "text/plain": [
              "{0, 1, 2, 3, 4, 5, 6, 7, 8, 9, 17}"
            ]
          },
          "metadata": {
            "tags": []
          },
          "execution_count": 70
        }
      ]
    },
    {
      "cell_type": "markdown",
      "metadata": {
        "id": "IcM69Y6SFcZC"
      },
      "source": [
        "Set method remove removes its argument from the set—a KeyError occurs if the value is not in the set:"
      ]
    },
    {
      "cell_type": "code",
      "metadata": {
        "colab": {
          "base_uri": "https://localhost:8080/"
        },
        "id": "UWVCK471FdLX",
        "outputId": "6337e294-6cf4-4e7a-f156-56929a894138"
      },
      "source": [
        "numbers.remove(3)\n",
        "\n",
        "numbers"
      ],
      "execution_count": null,
      "outputs": [
        {
          "output_type": "execute_result",
          "data": {
            "text/plain": [
              "{0, 1, 2, 4, 5, 6, 7, 8, 9, 17}"
            ]
          },
          "metadata": {
            "tags": []
          },
          "execution_count": 71
        }
      ]
    },
    {
      "cell_type": "code",
      "metadata": {
        "colab": {
          "base_uri": "https://localhost:8080/",
          "height": 183
        },
        "id": "TF3B5lUu-xIp",
        "outputId": "b6a57383-f8c3-447f-bcc9-59945ec4c9e0"
      },
      "source": [
        "numbers.remove(100)\n",
        "numbers"
      ],
      "execution_count": null,
      "outputs": [
        {
          "output_type": "error",
          "ename": "KeyError",
          "evalue": "ignored",
          "traceback": [
            "\u001b[0;31m---------------------------------------------------------------------------\u001b[0m",
            "\u001b[0;31mKeyError\u001b[0m                                  Traceback (most recent call last)",
            "\u001b[0;32m<ipython-input-72-106617694273>\u001b[0m in \u001b[0;36m<module>\u001b[0;34m()\u001b[0m\n\u001b[0;32m----> 1\u001b[0;31m \u001b[0mnumbers\u001b[0m\u001b[0;34m.\u001b[0m\u001b[0mremove\u001b[0m\u001b[0;34m(\u001b[0m\u001b[0;36m100\u001b[0m\u001b[0;34m)\u001b[0m\u001b[0;34m\u001b[0m\u001b[0;34m\u001b[0m\u001b[0m\n\u001b[0m\u001b[1;32m      2\u001b[0m \u001b[0mnumbers\u001b[0m\u001b[0;34m\u001b[0m\u001b[0;34m\u001b[0m\u001b[0m\n",
            "\u001b[0;31mKeyError\u001b[0m: 100"
          ]
        }
      ]
    },
    {
      "cell_type": "code",
      "metadata": {
        "id": "EtA63zXJ-6kB"
      },
      "source": [
        "numbers.discard(100)"
      ],
      "execution_count": null,
      "outputs": []
    },
    {
      "cell_type": "markdown",
      "metadata": {
        "id": "NsiyIZMGFhb0"
      },
      "source": [
        "Method discard also removes its argument from the set but does not cause an exception if the value is not in the set."
      ]
    },
    {
      "cell_type": "markdown",
      "metadata": {
        "id": "DKZfNb4bFkLc"
      },
      "source": [
        "You also can remove an arbitrary set element and return it with pop, but sets are unordered, so you do not know which element will be returned:"
      ]
    },
    {
      "cell_type": "code",
      "metadata": {
        "colab": {
          "base_uri": "https://localhost:8080/"
        },
        "id": "KYoNhEDUFpsv",
        "outputId": "a506cef4-a936-487d-a2d9-c5124cb9bb02"
      },
      "source": [
        "numbers.pop()"
      ],
      "execution_count": null,
      "outputs": [
        {
          "output_type": "execute_result",
          "data": {
            "text/plain": [
              "0"
            ]
          },
          "metadata": {
            "tags": []
          },
          "execution_count": 74
        }
      ]
    },
    {
      "cell_type": "code",
      "metadata": {
        "colab": {
          "base_uri": "https://localhost:8080/"
        },
        "id": "sLtKxpoEFs6s",
        "outputId": "df63530a-f831-4208-a737-2ea277200e9f"
      },
      "source": [
        "numbers"
      ],
      "execution_count": null,
      "outputs": [
        {
          "output_type": "execute_result",
          "data": {
            "text/plain": [
              "{1, 2, 4, 5, 6, 7, 8, 9, 17}"
            ]
          },
          "metadata": {
            "tags": []
          },
          "execution_count": 41
        }
      ]
    },
    {
      "cell_type": "markdown",
      "metadata": {
        "id": "jsrYDwl-F2Be"
      },
      "source": [
        "A KeyError occurs if the set is empty when you call pop."
      ]
    },
    {
      "cell_type": "markdown",
      "metadata": {
        "id": "y8JmJuqnF21X"
      },
      "source": [
        "Finally, method clear empties the set on which it’s called:"
      ]
    },
    {
      "cell_type": "code",
      "metadata": {
        "colab": {
          "base_uri": "https://localhost:8080/"
        },
        "id": "C8MQLhvDF5yx",
        "outputId": "5204edb9-f76d-4d53-cfb0-d60eed1844ab"
      },
      "source": [
        "numbers.clear()\n",
        "\n",
        "numbers"
      ],
      "execution_count": null,
      "outputs": [
        {
          "output_type": "execute_result",
          "data": {
            "text/plain": [
              "set()"
            ]
          },
          "metadata": {
            "tags": []
          },
          "execution_count": 75
        }
      ]
    },
    {
      "cell_type": "markdown",
      "metadata": {
        "id": "jVW3jRQyGBOD"
      },
      "source": [
        "**1.1.5 Set Comprehensions**"
      ]
    },
    {
      "cell_type": "markdown",
      "metadata": {
        "id": "lwdhqYFwGFuT"
      },
      "source": [
        "Like dictionary comprehensions, you define set comprehensions in curly braces. Let’s create a new set containing only the unique even values in the list numbers:"
      ]
    },
    {
      "cell_type": "code",
      "metadata": {
        "colab": {
          "base_uri": "https://localhost:8080/"
        },
        "id": "xCn9PJE9GIkI",
        "outputId": "effca375-593d-4bae-f8f1-72fa44fa22dc"
      },
      "source": [
        "numbers = [1, 2, 2, 3, 4, 5, 6, 6, 7, 8, 9, 10, 10]\n",
        "\n",
        "evens = {item for item in numbers if item % 2 == 0}\n",
        "\n",
        "evens"
      ],
      "execution_count": null,
      "outputs": [
        {
          "output_type": "execute_result",
          "data": {
            "text/plain": [
              "{2, 4, 6, 8, 10}"
            ]
          },
          "metadata": {
            "tags": []
          },
          "execution_count": 43
        }
      ]
    }
  ]
}