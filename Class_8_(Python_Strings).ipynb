{
  "nbformat": 4,
  "nbformat_minor": 0,
  "metadata": {
    "colab": {
      "name": "Class-8 (Python Strings).ipynb",
      "provenance": [],
      "collapsed_sections": [],
      "include_colab_link": true
    },
    "kernelspec": {
      "name": "python3",
      "display_name": "Python 3"
    }
  },
  "cells": [
    {
      "cell_type": "markdown",
      "metadata": {
        "id": "view-in-github",
        "colab_type": "text"
      },
      "source": [
        "<a href=\"https://colab.research.google.com/github/SinghReena/MachineLearning/blob/master/Class_8_(Python_Strings).ipynb\" target=\"_parent\"><img src=\"https://colab.research.google.com/assets/colab-badge.svg\" alt=\"Open In Colab\"/></a>"
      ]
    },
    {
      "cell_type": "markdown",
      "metadata": {
        "id": "naMTKbNrgw9s"
      },
      "source": [
        "**Introduced strings, basic string formatting and several string operators and methods.**"
      ]
    },
    {
      "cell_type": "markdown",
      "metadata": {
        "id": "uG4N1Oe4g8Uv"
      },
      "source": [
        "1.1  ***Formatting Strings***"
      ]
    },
    {
      "cell_type": "markdown",
      "metadata": {
        "id": "so_NiSbvhXgQ"
      },
      "source": [
        "Proper text formatting makes data easier to read and understand."
      ]
    },
    {
      "cell_type": "markdown",
      "metadata": {
        "id": "4t67Bxp_P_kF"
      },
      "source": [
        "1.1.1   ***Presentation Types***"
      ]
    },
    {
      "cell_type": "markdown",
      "metadata": {
        "id": "vwN6IbsnhsFL"
      },
      "source": [
        "Basic string formatting with f-strings. When you specify a placeholder for a value in an f-string, Python assumes the value should be displayed as a string unless you specify another type. In some cases, the type is required. For example, let’s format the float value 17.489 rounded to the hundredths position:"
      ]
    },
    {
      "cell_type": "code",
      "metadata": {
        "colab": {
          "base_uri": "https://localhost:8080/"
        },
        "id": "Mu7CI5CTiIce",
        "outputId": "b7ca7f1a-c4be-471f-efa9-6b54c626d907"
      },
      "source": [
        "print(f'{17.489:.2f}')"
      ],
      "execution_count": null,
      "outputs": [
        {
          "output_type": "stream",
          "text": [
            "17.49\n"
          ],
          "name": "stdout"
        }
      ]
    },
    {
      "cell_type": "code",
      "metadata": {
        "colab": {
          "base_uri": "https://localhost:8080/"
        },
        "id": "Jb9kHGlqFXPB",
        "outputId": "0d6d292c-848d-46bd-a81c-90b4aed85da0"
      },
      "source": [
        "print(f'{12.521:.2f}')"
      ],
      "execution_count": null,
      "outputs": [
        {
          "output_type": "stream",
          "text": [
            "12.52\n"
          ],
          "name": "stdout"
        }
      ]
    },
    {
      "cell_type": "code",
      "metadata": {
        "colab": {
          "base_uri": "https://localhost:8080/"
        },
        "id": "jsKQvtGAFhRA",
        "outputId": "2af017c7-076b-4b6b-e494-26e5e44b78d0"
      },
      "source": [
        "print(f'{187.5674389:.5f}')"
      ],
      "execution_count": null,
      "outputs": [
        {
          "output_type": "stream",
          "text": [
            "187.56744\n"
          ],
          "name": "stdout"
        }
      ]
    },
    {
      "cell_type": "code",
      "metadata": {
        "colab": {
          "base_uri": "https://localhost:8080/"
        },
        "id": "0rTNnT4IFsQJ",
        "outputId": "f16f6a7e-0eaa-4778-fad2-37080c8d6668"
      },
      "source": [
        "number1=1879.65473476\n",
        "print(f'{number1:.4f}')"
      ],
      "execution_count": null,
      "outputs": [
        {
          "output_type": "stream",
          "text": [
            "1879.6547\n"
          ],
          "name": "stdout"
        }
      ]
    },
    {
      "cell_type": "code",
      "metadata": {
        "colab": {
          "base_uri": "https://localhost:8080/",
          "height": 164
        },
        "id": "cZf1UwhvJx06",
        "outputId": "8a948208-d5e3-475a-d1a3-d925da848195"
      },
      "source": [
        "print(f'{\"Hello\":.2f}')"
      ],
      "execution_count": null,
      "outputs": [
        {
          "output_type": "error",
          "ename": "ValueError",
          "evalue": "ignored",
          "traceback": [
            "\u001b[0;31m---------------------------------------------------------------------------\u001b[0m",
            "\u001b[0;31mValueError\u001b[0m                                Traceback (most recent call last)",
            "\u001b[0;32m<ipython-input-6-3728c10b48d4>\u001b[0m in \u001b[0;36m<module>\u001b[0;34m()\u001b[0m\n\u001b[0;32m----> 1\u001b[0;31m \u001b[0mprint\u001b[0m\u001b[0;34m(\u001b[0m\u001b[0;34mf'{\"Hello\":.2f}'\u001b[0m\u001b[0;34m)\u001b[0m\u001b[0;34m\u001b[0m\u001b[0;34m\u001b[0m\u001b[0m\n\u001b[0m",
            "\u001b[0;31mValueError\u001b[0m: Unknown format code 'f' for object of type 'str'"
          ]
        }
      ]
    },
    {
      "cell_type": "markdown",
      "metadata": {
        "id": "JPydLD-Xiido"
      },
      "source": [
        "Python supports precision only for floating-point and Decimal values. Formatting is type dependent—if you try to use .2f to format a string like 'hello', a ValueError occurs. So the presentation type f in the format specifier .2f is required. It indicates what type is being formatted so Python can determine whether the other formatting information is allowed for that type. Here, we show some common presentation types. You can view the complete list at\n",
        "\n",
        "https://docs.python.org/3/library/string.html#formatspec"
      ]
    },
    {
      "cell_type": "markdown",
      "metadata": {
        "id": "DvkRckOuimA6"
      },
      "source": [
        "*Integers*"
      ]
    },
    {
      "cell_type": "markdown",
      "metadata": {
        "id": "9oygVTV-isfJ"
      },
      "source": [
        "The d presentation type formats integer values as strings:"
      ]
    },
    {
      "cell_type": "code",
      "metadata": {
        "id": "jcPK00GSixdV"
      },
      "source": [
        "print(f'{10:d}')"
      ],
      "execution_count": null,
      "outputs": []
    },
    {
      "cell_type": "code",
      "metadata": {
        "id": "x49oP1qHDcT-"
      },
      "source": [
        "print(f'{10:b}')"
      ],
      "execution_count": null,
      "outputs": []
    },
    {
      "cell_type": "code",
      "metadata": {
        "id": "MS73k7WiDo2O"
      },
      "source": [
        "print(f'{10:o}')"
      ],
      "execution_count": null,
      "outputs": []
    },
    {
      "cell_type": "code",
      "metadata": {
        "id": "-q6AfO09EBF-"
      },
      "source": [
        "print(f'{10:x}')"
      ],
      "execution_count": null,
      "outputs": []
    },
    {
      "cell_type": "code",
      "metadata": {
        "id": "62kdQokHEOaK"
      },
      "source": [
        "print(f'{10:X}')"
      ],
      "execution_count": null,
      "outputs": []
    },
    {
      "cell_type": "markdown",
      "metadata": {
        "id": "_cf6icPEkpqM"
      },
      "source": [
        "*Characters*"
      ]
    },
    {
      "cell_type": "markdown",
      "metadata": {
        "id": "_yji0EPvkuce"
      },
      "source": [
        "The c presentation type formats an integer character code as the corresponding character:\n"
      ]
    },
    {
      "cell_type": "code",
      "metadata": {
        "id": "ZAK2wT8Gkza8",
        "colab": {
          "base_uri": "https://localhost:8080/"
        },
        "outputId": "36afad8c-19cb-4f58-b6a1-980a7bfe3b30"
      },
      "source": [
        "print(f'{65:c} {97:c}')"
      ],
      "execution_count": null,
      "outputs": [
        {
          "output_type": "stream",
          "text": [
            "A a\n"
          ],
          "name": "stdout"
        }
      ]
    },
    {
      "cell_type": "markdown",
      "metadata": {
        "id": "QFvdbc-3l9qx"
      },
      "source": [
        "*Strings*"
      ]
    },
    {
      "cell_type": "markdown",
      "metadata": {
        "id": "NWKH58OTmEnP"
      },
      "source": [
        "The s presentation type is the default. If you specify s explicitly, the value to format must be a variable that references a string, an expression that produces a string or a string literal, as in the first placeholder below. If you do not specify a presentation type, as in the second placeholder below, non-string values like the integer 7 are converted to strings:"
      ]
    },
    {
      "cell_type": "code",
      "metadata": {
        "id": "Y3gfjpMWmTcN",
        "colab": {
          "base_uri": "https://localhost:8080/"
        },
        "outputId": "f02673d6-7dc7-4125-c592-b68a50b6e1ac"
      },
      "source": [
        "print(f'{\"hello\":s} {7}')"
      ],
      "execution_count": null,
      "outputs": [
        {
          "output_type": "stream",
          "text": [
            "hello 7\n"
          ],
          "name": "stdout"
        }
      ]
    },
    {
      "cell_type": "markdown",
      "metadata": {
        "id": "3TQXZfALmddJ"
      },
      "source": [
        "In this snippet, \"hello\" is enclosed in double quotes. Recall that you cannot place single quotes inside a single-quoted string."
      ]
    },
    {
      "cell_type": "markdown",
      "metadata": {
        "id": "9vD9Y4wzmi_L"
      },
      "source": [
        "*Floating-Point and Decimal Values*"
      ]
    },
    {
      "cell_type": "markdown",
      "metadata": {
        "id": "_woXRBmzm9Av"
      },
      "source": [
        "The f presentation type to format floating-point and Decimal values. For extremely large and small values of these types, Exponential (scientific) notation can be used to format the values more compactly. Let’s show the difference between f and e for a large value, each with three digits of precision to the right of the decimal point:\n",
        "\n"
      ]
    },
    {
      "cell_type": "code",
      "metadata": {
        "id": "qVVC1yrenESW"
      },
      "source": [
        "#from decimal import Decimal\n",
        "import decimal\n",
        "\n",
        "print(f'{decimal.Decimal(\"10000000000000000000000000.0\"):.3f}')\n",
        "\n",
        "print(f'{decimal.Decimal(\"10000000000000000000000000.0\"):.3e}')\n",
        "\n",
        "print(f'{decimal.Decimal(\"10000000000000000000000000.0\"):.3E}')"
      ],
      "execution_count": null,
      "outputs": []
    },
    {
      "cell_type": "markdown",
      "metadata": {
        "id": "_RUkx26xnZRJ"
      },
      "source": [
        "For the e presentation type in snippet [5], the formatted value 1.000e+25 is equivalent to\n",
        "\n",
        "1.000 x 1025\n",
        "\n",
        "If you prefer a capital E for the exponent, use the E presentation type rather than e."
      ]
    },
    {
      "cell_type": "markdown",
      "metadata": {
        "id": "taqoBc4UOnqx"
      },
      "source": [
        "1.1.2    ***Field Widths and Alignment***"
      ]
    },
    {
      "cell_type": "markdown",
      "metadata": {
        "id": "wz6DHUMmO_-b"
      },
      "source": [
        "You used field widths to format text in a specified number of character positions. By default, Python right-aligns numbers and left-aligns other values such as strings—we enclose the results below in brackets ([]) so you can see how the values align in the field:\n",
        "\n"
      ]
    },
    {
      "cell_type": "code",
      "metadata": {
        "id": "HhnJhCFIPCtU"
      },
      "source": [
        "f'[{27:10d}]'"
      ],
      "execution_count": null,
      "outputs": []
    },
    {
      "cell_type": "code",
      "metadata": {
        "id": "yIRs9CFoPNQF"
      },
      "source": [
        "f'[{3.5:10f}]'"
      ],
      "execution_count": null,
      "outputs": []
    },
    {
      "cell_type": "code",
      "metadata": {
        "id": "tBti2irKPUsW"
      },
      "source": [
        "f'[{\"hello\":10}]'"
      ],
      "execution_count": null,
      "outputs": []
    },
    {
      "cell_type": "markdown",
      "metadata": {
        "id": "sZcBX4nrRR6F"
      },
      "source": [
        "*Explicitly Specifying Left and Right Alignment in a Field*"
      ]
    },
    {
      "cell_type": "markdown",
      "metadata": {
        "id": "KaGuOz3FRnmp"
      },
      "source": [
        "You can specify left and right alignment with < and >:"
      ]
    },
    {
      "cell_type": "code",
      "metadata": {
        "id": "P7cO1OkWRVGb"
      },
      "source": [
        "f'[{27:<15d}]'"
      ],
      "execution_count": null,
      "outputs": []
    },
    {
      "cell_type": "code",
      "metadata": {
        "id": "Tn3He1KtRjZe"
      },
      "source": [
        "f'[{3.5:<15f}]'"
      ],
      "execution_count": null,
      "outputs": []
    },
    {
      "cell_type": "code",
      "metadata": {
        "id": "rKmCw-EtR-6t"
      },
      "source": [
        "f'[{\"hello\":>15}]'"
      ],
      "execution_count": null,
      "outputs": []
    },
    {
      "cell_type": "markdown",
      "metadata": {
        "id": "TE2TGNbXXcwA"
      },
      "source": [
        "*Centering a Value in a Field*"
      ]
    },
    {
      "cell_type": "markdown",
      "metadata": {
        "id": "n_ML2Lj9XlfY"
      },
      "source": [
        "You can center values:\n",
        "\n",
        "Centering attempts to spread the remaining unoccupied character positions equally to the left and right of the formatted value. Python places the extra space to the right if an odd number of character positions remain."
      ]
    },
    {
      "cell_type": "code",
      "metadata": {
        "id": "J4bvU0iPXfFC"
      },
      "source": [
        "f'[{27:^7d}]'"
      ],
      "execution_count": null,
      "outputs": []
    },
    {
      "cell_type": "code",
      "metadata": {
        "id": "tmH_WJsUXzs_"
      },
      "source": [
        "f'[{3.5:^7.1f}]'"
      ],
      "execution_count": null,
      "outputs": []
    },
    {
      "cell_type": "code",
      "metadata": {
        "id": "MLnR6xhxX48i"
      },
      "source": [
        "f'[{\"hello\":^7}]'"
      ],
      "execution_count": null,
      "outputs": []
    },
    {
      "cell_type": "markdown",
      "metadata": {
        "id": "cZkvd8FIYnd8"
      },
      "source": [
        "1.1.3  ***Numeric Formatting***"
      ]
    },
    {
      "cell_type": "markdown",
      "metadata": {
        "id": "UCkM8IyTYrgG"
      },
      "source": [
        "There are a variety of numeric formatting capabilities."
      ]
    },
    {
      "cell_type": "markdown",
      "metadata": {
        "id": "Hlq2sY33Y_F9"
      },
      "source": [
        "*Formatting Positive Numbers with Signs*"
      ]
    },
    {
      "cell_type": "markdown",
      "metadata": {
        "id": "NkZmuiXOZlMj"
      },
      "source": [
        "Sometimes it’s desirable to force the sign on a positive number:"
      ]
    },
    {
      "cell_type": "code",
      "metadata": {
        "id": "l86wC1XxZm0n"
      },
      "source": [
        "f'[{27:+10d}]'"
      ],
      "execution_count": null,
      "outputs": []
    },
    {
      "cell_type": "markdown",
      "metadata": {
        "id": "c_dstyYOaD7v"
      },
      "source": [
        "The + before the field width specifies that a positive number should be preceded by a +. A negative number always starts with a -. To fill the remaining characters of the field with 0s rather than spaces, place a 0 before the field width (and after the + if there is one):"
      ]
    },
    {
      "cell_type": "code",
      "metadata": {
        "id": "WD0oIU8_aFOM"
      },
      "source": [
        "f'[{27:+010d}]'"
      ],
      "execution_count": null,
      "outputs": []
    },
    {
      "cell_type": "markdown",
      "metadata": {
        "id": "_GUG4V0Tahpo"
      },
      "source": [
        "*Using a Space Where a + Sign Would Appear in a Positive Value*"
      ]
    },
    {
      "cell_type": "markdown",
      "metadata": {
        "id": "439iMSroaxpT"
      },
      "source": [
        "A space indicates that positive numbers should show a space character in the sign position. This is useful for aligning positive and negative values for display purposes:"
      ]
    },
    {
      "cell_type": "code",
      "metadata": {
        "id": "sZYZZ_TJa2-q",
        "colab": {
          "base_uri": "https://localhost:8080/"
        },
        "outputId": "eb598d2d-7d0d-47dd-a5d8-3c01a9e354e6"
      },
      "source": [
        "print(f'{27:d}\\n{27: d}\\n{-27: d}')"
      ],
      "execution_count": null,
      "outputs": [
        {
          "output_type": "stream",
          "text": [
            "27\n",
            " 27\n",
            "-27\n"
          ],
          "name": "stdout"
        }
      ]
    },
    {
      "cell_type": "markdown",
      "metadata": {
        "id": "tYpzH1_4a-vC"
      },
      "source": [
        "The two numbers with a space in their format specifiers align. If a field width is specified, the space should appear before the field width."
      ]
    },
    {
      "cell_type": "markdown",
      "metadata": {
        "id": "lpLiyClGlV-2"
      },
      "source": [
        "*Grouping Digits*"
      ]
    },
    {
      "cell_type": "markdown",
      "metadata": {
        "id": "soYEkt6Glcwe"
      },
      "source": [
        "You can format numbers with thousands separators by using a comma (,), as follows:"
      ]
    },
    {
      "cell_type": "code",
      "metadata": {
        "id": "qFqrCTGnldr_",
        "colab": {
          "base_uri": "https://localhost:8080/",
          "height": 37
        },
        "outputId": "11ae360a-ce58-4876-a816-793d74e06192"
      },
      "source": [
        "f'{12345678:,d}'"
      ],
      "execution_count": null,
      "outputs": [
        {
          "output_type": "execute_result",
          "data": {
            "application/vnd.google.colaboratory.intrinsic+json": {
              "type": "string"
            },
            "text/plain": [
              "'12,345,678'"
            ]
          },
          "metadata": {
            "tags": []
          },
          "execution_count": 1
        }
      ]
    },
    {
      "cell_type": "code",
      "metadata": {
        "id": "sRBL1V2VlisS"
      },
      "source": [
        "f'{123456.78:,.2f}'"
      ],
      "execution_count": null,
      "outputs": []
    },
    {
      "cell_type": "markdown",
      "metadata": {
        "id": "psMHOcA1lu77"
      },
      "source": [
        "1.1.4  **String’s format Method**"
      ]
    },
    {
      "cell_type": "markdown",
      "metadata": {
        "id": "Eueem_B9pL1G"
      },
      "source": [
        "You call method format on a format string containing curly brace ({}) placeholders, possibly with format specifiers. You pass to the method the values to be formatted. Let’s format the float value 17.489 rounded to the hundredths position:"
      ]
    },
    {
      "cell_type": "code",
      "metadata": {
        "id": "8Jqn05NdpPwv"
      },
      "source": [
        "'{:.2f}'.format(17.489)"
      ],
      "execution_count": null,
      "outputs": []
    },
    {
      "cell_type": "markdown",
      "metadata": {
        "id": "rDJQs-q9pg5s"
      },
      "source": [
        "In a placeholder, if there’s a format specifier, you precede it by a colon (:), as in f-strings. The result of the format call is a new string containing the formatted results."
      ]
    },
    {
      "cell_type": "code",
      "metadata": {
        "id": "4XsAUFdIrNGb"
      },
      "source": [
        ""
      ],
      "execution_count": null,
      "outputs": []
    },
    {
      "cell_type": "markdown",
      "metadata": {
        "id": "4n4OikJtpi_i"
      },
      "source": [
        "*Multiple Placeholders*"
      ]
    },
    {
      "cell_type": "markdown",
      "metadata": {
        "id": "I5nvomBipxt6"
      },
      "source": [
        "A format string may contain multiple placeholders, in which case the format method’s arguments correspond to the placeholders from left to right:"
      ]
    },
    {
      "cell_type": "code",
      "metadata": {
        "id": "OrRQRtF0qojk",
        "colab": {
          "base_uri": "https://localhost:8080/",
          "height": 37
        },
        "outputId": "a4f4b32b-2fe2-4f76-ba5c-dcde2ebb0b2b"
      },
      "source": [
        "'{} {}'.format('Amanda',  'Cyan')"
      ],
      "execution_count": null,
      "outputs": [
        {
          "output_type": "execute_result",
          "data": {
            "application/vnd.google.colaboratory.intrinsic+json": {
              "type": "string"
            },
            "text/plain": [
              "'Amanda Cyan'"
            ]
          },
          "metadata": {
            "tags": []
          },
          "execution_count": 10
        }
      ]
    },
    {
      "cell_type": "markdown",
      "metadata": {
        "id": "A-RePaQbqyq9"
      },
      "source": [
        "*Referencing Arguments By Position Number*"
      ]
    },
    {
      "cell_type": "markdown",
      "metadata": {
        "id": "HD21Kuwvq2_E"
      },
      "source": [
        "The format string can reference specific arguments by their position in the format method’s argument list, starting with position 0:"
      ]
    },
    {
      "cell_type": "code",
      "metadata": {
        "id": "cRaA3j9rq67T"
      },
      "source": [
        "'{0} {0} {1}'.format('Happy', 'Birthday')"
      ],
      "execution_count": null,
      "outputs": []
    },
    {
      "cell_type": "markdown",
      "metadata": {
        "id": "YSknR4X9q_yu"
      },
      "source": [
        "Note that we used the position number 0 ('Happy') twice—you can reference each argument as often as you like and in any order."
      ]
    },
    {
      "cell_type": "markdown",
      "metadata": {
        "id": "lhYF5wlUrFM8"
      },
      "source": [
        "*Referencing Keyword Arguments*"
      ]
    },
    {
      "cell_type": "markdown",
      "metadata": {
        "id": "5bnX5dr_rKX5"
      },
      "source": [
        "You can reference keyword arguments by their keys in the placeholders:"
      ]
    },
    {
      "cell_type": "code",
      "metadata": {
        "id": "8gAi0rJtrPUX"
      },
      "source": [
        "print('{first} {last}'.format(first='Amanda', last='Gray'))"
      ],
      "execution_count": null,
      "outputs": []
    },
    {
      "cell_type": "code",
      "metadata": {
        "id": "M5fS9ItbrTxm"
      },
      "source": [
        "'{last} {first}'.format(first='Amanda', last='Gray')"
      ],
      "execution_count": null,
      "outputs": []
    },
    {
      "cell_type": "markdown",
      "metadata": {
        "id": "EBMWz0YPsAOO"
      },
      "source": [
        "**1.2   Concatenating and Repeating Strings**"
      ]
    },
    {
      "cell_type": "markdown",
      "metadata": {
        "id": "puTskI-1sJby"
      },
      "source": [
        "We used the + operator to concatenate strings and the * operator to repeat strings. You also can perform these operations with augmented assignments. Strings are immutable, so each operation assigns a new string object to the variable:"
      ]
    },
    {
      "cell_type": "code",
      "metadata": {
        "id": "b2MY62YxsPdX",
        "colab": {
          "base_uri": "https://localhost:8080/"
        },
        "outputId": "0669353d-fb94-40d5-c880-7e4eb28342e2"
      },
      "source": [
        "s1 = 'happy'\n",
        "s2 = 'birthday'\n",
        "s1 += ' ' + s2\n",
        "print(s1)\n",
        "\n",
        "symbol = '>'\n",
        "symbol *= 5\n",
        "print(symbol)"
      ],
      "execution_count": null,
      "outputs": [
        {
          "output_type": "stream",
          "text": [
            "happy birthday\n",
            ">>>>>\n"
          ],
          "name": "stdout"
        }
      ]
    },
    {
      "cell_type": "markdown",
      "metadata": {
        "id": "qNTk3yNrsyRO"
      },
      "source": [
        "**1.3  Stripping Whitespace from Strings**"
      ]
    },
    {
      "cell_type": "markdown",
      "metadata": {
        "id": "WjNo0cA3tCua"
      },
      "source": [
        "There are several string methods for removing whitespace from the ends of a string. Each returns a new string leaving the original unmodified. Strings are immutable, so each method that appears to modify a string returns a new one."
      ]
    },
    {
      "cell_type": "markdown",
      "metadata": {
        "id": "LIugVaEYtFqK"
      },
      "source": [
        "*Removing Leading and Trailing Whitespace*"
      ]
    },
    {
      "cell_type": "markdown",
      "metadata": {
        "id": "qrvY8mottOU-"
      },
      "source": [
        "Let’s use string method strip to remove the leading and trailing whitespace from a string:"
      ]
    },
    {
      "cell_type": "code",
      "metadata": {
        "id": "87wYbI5HtQwd",
        "colab": {
          "base_uri": "https://localhost:8080/",
          "height": 37
        },
        "outputId": "725f6493-f65b-40cc-b627-73686db752eb"
      },
      "source": [
        "sentence = '\\t \\n This is a test string. \\t\\t \\n'\n",
        "sentence.strip()"
      ],
      "execution_count": null,
      "outputs": [
        {
          "output_type": "execute_result",
          "data": {
            "application/vnd.google.colaboratory.intrinsic+json": {
              "type": "string"
            },
            "text/plain": [
              "'This is a test string.'"
            ]
          },
          "metadata": {
            "tags": []
          },
          "execution_count": 2
        }
      ]
    },
    {
      "cell_type": "markdown",
      "metadata": {
        "id": "udx6oQpWtZFZ"
      },
      "source": [
        "*Removing Leading Whitespace*"
      ]
    },
    {
      "cell_type": "markdown",
      "metadata": {
        "id": "OS_V1VwPtcPk"
      },
      "source": [
        "Method lstrip removes only leading whitespace:"
      ]
    },
    {
      "cell_type": "code",
      "metadata": {
        "id": "Gy3R7IsrtfmY",
        "colab": {
          "base_uri": "https://localhost:8080/",
          "height": 37
        },
        "outputId": "824b07cf-a6d1-4a27-9884-2cead9154a28"
      },
      "source": [
        "sentence.lstrip()"
      ],
      "execution_count": null,
      "outputs": [
        {
          "output_type": "execute_result",
          "data": {
            "application/vnd.google.colaboratory.intrinsic+json": {
              "type": "string"
            },
            "text/plain": [
              "'This is a test string. \\t\\t \\n'"
            ]
          },
          "metadata": {
            "tags": []
          },
          "execution_count": 2
        }
      ]
    },
    {
      "cell_type": "markdown",
      "metadata": {
        "id": "wP4tGbXQtmYZ"
      },
      "source": [
        "*Removing Trailing Whitespace*"
      ]
    },
    {
      "cell_type": "markdown",
      "metadata": {
        "id": "svwp3uGNtpoC"
      },
      "source": [
        "Method rstrip removes only trailing whitespace:"
      ]
    },
    {
      "cell_type": "code",
      "metadata": {
        "id": "UUsCfA82tsaO",
        "colab": {
          "base_uri": "https://localhost:8080/",
          "height": 37
        },
        "outputId": "57919eec-d324-45ba-b629-e6447f72c18f"
      },
      "source": [
        "sentence.rstrip()"
      ],
      "execution_count": null,
      "outputs": [
        {
          "output_type": "execute_result",
          "data": {
            "application/vnd.google.colaboratory.intrinsic+json": {
              "type": "string"
            },
            "text/plain": [
              "'\\t \\n This is a test string.'"
            ]
          },
          "metadata": {
            "tags": []
          },
          "execution_count": 3
        }
      ]
    },
    {
      "cell_type": "markdown",
      "metadata": {
        "id": "EfdwWcEbt3BB"
      },
      "source": [
        "As the outputs demonstrate, these methods remove all kinds of whitespace, including spaces, newlines and tabs."
      ]
    },
    {
      "cell_type": "markdown",
      "metadata": {
        "id": "8BMvCRbKuYfc"
      },
      "source": [
        "**1.4  Changing Character Case**"
      ]
    },
    {
      "cell_type": "markdown",
      "metadata": {
        "id": "zwBxgRU_uetA"
      },
      "source": [
        "You used string methods lower and upper to convert strings to all lowercase or all uppercase letters. You also can change a string’s capitalization with methods capitalize and title."
      ]
    },
    {
      "cell_type": "markdown",
      "metadata": {
        "id": "JE08HnoXuigs"
      },
      "source": [
        "*Capitalizing Only a String’s First Character*"
      ]
    },
    {
      "cell_type": "markdown",
      "metadata": {
        "id": "_V1K7mfEumPQ"
      },
      "source": [
        "Method capitalize copies the original string and returns a new string with only the first letter capitalized (this is sometimes called sentence capitalization):"
      ]
    },
    {
      "cell_type": "code",
      "metadata": {
        "id": "Htjxd_kXupGh"
      },
      "source": [
        "'happy birthday'.capitalize()"
      ],
      "execution_count": null,
      "outputs": []
    },
    {
      "cell_type": "markdown",
      "metadata": {
        "id": "ykMMwFgVuvIY"
      },
      "source": [
        "*Capitalizing the First Character of Every Word in a String*"
      ]
    },
    {
      "cell_type": "markdown",
      "metadata": {
        "id": "l2zjV8Fpu4Dc"
      },
      "source": [
        "Method title copies the original string and returns a new string with only the first character of each word capitalized (this is sometimes called book-title capitalization):"
      ]
    },
    {
      "cell_type": "code",
      "metadata": {
        "id": "eGKFwX7ju6vC"
      },
      "source": [
        "'strings: a deeper look'.title()"
      ],
      "execution_count": null,
      "outputs": []
    },
    {
      "cell_type": "markdown",
      "metadata": {
        "id": "nL51f_AtvATu"
      },
      "source": [
        "**1.5  Comparison Operators for Strings**"
      ]
    },
    {
      "cell_type": "markdown",
      "metadata": {
        "id": "Z5tMSX7AvHxT"
      },
      "source": [
        "Strings may be compared with the comparison operators. Recall that strings are compared based on their underlying integer numeric values. So uppercase letters compare as less than lowercase letters because uppercase letters have lower integer values. For example, 'A' is 65 and 'a' is 97. You’ve seen that you can check character codes with ord:"
      ]
    },
    {
      "cell_type": "code",
      "metadata": {
        "id": "U1SMEx9gvKX7"
      },
      "source": [
        "print(f'A: {ord(\"A\")}; a: {ord(\"a\")}')"
      ],
      "execution_count": null,
      "outputs": []
    },
    {
      "cell_type": "markdown",
      "metadata": {
        "id": "A7_hu0p7vS4f"
      },
      "source": [
        "Let’s compare the strings 'Orange' and 'orange' using the comparison operators:"
      ]
    },
    {
      "cell_type": "code",
      "metadata": {
        "id": "gNDPsDVHvWXU"
      },
      "source": [
        "'Orange' == 'orange'"
      ],
      "execution_count": null,
      "outputs": []
    },
    {
      "cell_type": "code",
      "metadata": {
        "id": "9uyUJyE-va3n"
      },
      "source": [
        "'Orange' != 'orange'"
      ],
      "execution_count": null,
      "outputs": []
    },
    {
      "cell_type": "code",
      "metadata": {
        "id": "WFPefXlewo6j"
      },
      "source": [
        "'Orange' < 'orange'"
      ],
      "execution_count": null,
      "outputs": []
    },
    {
      "cell_type": "code",
      "metadata": {
        "id": "7HBLh7H2wv5d"
      },
      "source": [
        "'Orange' <= 'orange'"
      ],
      "execution_count": null,
      "outputs": []
    },
    {
      "cell_type": "code",
      "metadata": {
        "id": "DZSNpu3Ww0YU"
      },
      "source": [
        "'Orange' > 'orange'"
      ],
      "execution_count": null,
      "outputs": []
    },
    {
      "cell_type": "code",
      "metadata": {
        "id": "GRq-pCcNCHVn"
      },
      "source": [
        "\"ORANGEGREEN\" > \"orange\""
      ],
      "execution_count": null,
      "outputs": []
    },
    {
      "cell_type": "code",
      "metadata": {
        "id": "0mK2KoF3w4Em"
      },
      "source": [
        "'Orange' >= 'orange'"
      ],
      "execution_count": null,
      "outputs": []
    },
    {
      "cell_type": "markdown",
      "metadata": {
        "id": "9RwWrX5mw-5L"
      },
      "source": [
        "**1.6  Searching for Substrings**"
      ]
    },
    {
      "cell_type": "markdown",
      "metadata": {
        "id": "RbFGpcPRxR74"
      },
      "source": [
        "You can search in a string for one or more adjacent characters—known as a substring—to count the number of occurrences, determine whether a string contains a substring, or determine the index at which a substring resides in a string."
      ]
    },
    {
      "cell_type": "markdown",
      "metadata": {
        "id": "ku-l-uBQxUkF"
      },
      "source": [
        "*Counting Occurrences*"
      ]
    },
    {
      "cell_type": "markdown",
      "metadata": {
        "id": "RTwFNVqmxXok"
      },
      "source": [
        "String method count returns the number of times its argument occurs in the string on which the method is called:"
      ]
    },
    {
      "cell_type": "code",
      "metadata": {
        "id": "fRxmUXR3xaYy",
        "colab": {
          "base_uri": "https://localhost:8080/"
        },
        "outputId": "82570186-bd02-4a06-cdea-8025ac74b039"
      },
      "source": [
        "sentence = 'to be or not to be that is the question'\n",
        "sentence.count('to')"
      ],
      "execution_count": null,
      "outputs": [
        {
          "output_type": "execute_result",
          "data": {
            "text/plain": [
              "2"
            ]
          },
          "metadata": {
            "tags": []
          },
          "execution_count": 8
        }
      ]
    },
    {
      "cell_type": "markdown",
      "metadata": {
        "id": "-GVbNOj-xoDd"
      },
      "source": [
        "If you specify as the second argument a start_index, count searches only the slice string[start_index:]—that is, from start_index through end of the string:"
      ]
    },
    {
      "cell_type": "code",
      "metadata": {
        "id": "bJ_P2dgAxquW",
        "colab": {
          "base_uri": "https://localhost:8080/"
        },
        "outputId": "a081228a-4552-4a6d-fe6b-0aff6f0f1486"
      },
      "source": [
        "sentence.count('to', 12)"
      ],
      "execution_count": null,
      "outputs": [
        {
          "output_type": "execute_result",
          "data": {
            "text/plain": [
              "1"
            ]
          },
          "metadata": {
            "tags": []
          },
          "execution_count": 9
        }
      ]
    },
    {
      "cell_type": "markdown",
      "metadata": {
        "id": "GpiSOPSHxuXQ"
      },
      "source": [
        "If you specify as the second and third arguments the start_index and end_index, count searches only the slice string[start_index:end_index]—that is, from start_index up to, but not including, end_index:"
      ]
    },
    {
      "cell_type": "code",
      "metadata": {
        "id": "H9-wuoX5xw43",
        "colab": {
          "base_uri": "https://localhost:8080/"
        },
        "outputId": "cdc4d643-e717-46da-db41-c248ad5b23e7"
      },
      "source": [
        "sentence.count('that', 12, 25)"
      ],
      "execution_count": null,
      "outputs": [
        {
          "output_type": "execute_result",
          "data": {
            "text/plain": [
              "1"
            ]
          },
          "metadata": {
            "tags": []
          },
          "execution_count": 10
        }
      ]
    },
    {
      "cell_type": "markdown",
      "metadata": {
        "id": "dXahQ96QyTLe"
      },
      "source": [
        "*Locating a Substring in a String*"
      ]
    },
    {
      "cell_type": "markdown",
      "metadata": {
        "id": "nK3bnCKPyYTa"
      },
      "source": [
        "String method index searches for a substring within a string and returns the first index at which the substring is found; otherwise, a ValueError occurs:"
      ]
    },
    {
      "cell_type": "code",
      "metadata": {
        "id": "fPwxWARyyZYo",
        "colab": {
          "base_uri": "https://localhost:8080/"
        },
        "outputId": "78055a3e-047e-41a4-a526-b14639477a8b"
      },
      "source": [
        "sentence.index('be')"
      ],
      "execution_count": null,
      "outputs": [
        {
          "output_type": "execute_result",
          "data": {
            "text/plain": [
              "3"
            ]
          },
          "metadata": {
            "tags": []
          },
          "execution_count": 11
        }
      ]
    },
    {
      "cell_type": "markdown",
      "metadata": {
        "id": "29BJNZ3Fye50"
      },
      "source": [
        "String method rindex performs the same operation as index, but searches from the end of the string and returns the last index at which the substring is found; otherwise, a ValueError occurs:"
      ]
    },
    {
      "cell_type": "code",
      "metadata": {
        "id": "LJY9v0APyhut",
        "colab": {
          "base_uri": "https://localhost:8080/"
        },
        "outputId": "607d3fb0-da94-4da0-af2d-5f86e52807bd"
      },
      "source": [
        "sentence.rindex('be')"
      ],
      "execution_count": null,
      "outputs": [
        {
          "output_type": "execute_result",
          "data": {
            "text/plain": [
              "16"
            ]
          },
          "metadata": {
            "tags": []
          },
          "execution_count": 12
        }
      ]
    },
    {
      "cell_type": "markdown",
      "metadata": {
        "id": "6ys0IITgym5U"
      },
      "source": [
        "String methods find and rfind perform the same tasks as index and rindex but, if the substring is not found, return -1 rather than causing a ValueError."
      ]
    },
    {
      "cell_type": "code",
      "metadata": {
        "id": "6k2ZgNtDyoNS"
      },
      "source": [
        "sentence.find('be')"
      ],
      "execution_count": null,
      "outputs": []
    },
    {
      "cell_type": "code",
      "metadata": {
        "id": "cUbMorZXy147"
      },
      "source": [
        "sentence.rfind('be')"
      ],
      "execution_count": null,
      "outputs": []
    },
    {
      "cell_type": "code",
      "metadata": {
        "id": "BW6IItUiy48U"
      },
      "source": [
        "sentence.find('reena')"
      ],
      "execution_count": null,
      "outputs": []
    },
    {
      "cell_type": "code",
      "metadata": {
        "id": "-Kq7bsO7zBwv"
      },
      "source": [
        "sentence.rfind('FUHSD')"
      ],
      "execution_count": null,
      "outputs": []
    },
    {
      "cell_type": "markdown",
      "metadata": {
        "id": "i2uT5EfrzH75"
      },
      "source": [
        "*Determining Whether a String Contains a Substring*"
      ]
    },
    {
      "cell_type": "markdown",
      "metadata": {
        "id": "XwmyDgp1zLip"
      },
      "source": [
        "If you need to know only whether a string contains a substring, use operator in or not in:"
      ]
    },
    {
      "cell_type": "code",
      "metadata": {
        "id": "htok4qnSzMb0",
        "colab": {
          "base_uri": "https://localhost:8080/"
        },
        "outputId": "31295b58-8129-4ae7-b3a6-4e6f7e6da399"
      },
      "source": [
        "'that' in sentence"
      ],
      "execution_count": null,
      "outputs": [
        {
          "output_type": "execute_result",
          "data": {
            "text/plain": [
              "True"
            ]
          },
          "metadata": {
            "tags": []
          },
          "execution_count": 13
        }
      ]
    },
    {
      "cell_type": "code",
      "metadata": {
        "id": "82YRmEa6zSN0",
        "colab": {
          "base_uri": "https://localhost:8080/"
        },
        "outputId": "73ad2f6f-51d5-4d95-bbb1-bbee807daaf0"
      },
      "source": [
        "'THAT' in sentence"
      ],
      "execution_count": null,
      "outputs": [
        {
          "output_type": "execute_result",
          "data": {
            "text/plain": [
              "False"
            ]
          },
          "metadata": {
            "tags": []
          },
          "execution_count": 14
        }
      ]
    },
    {
      "cell_type": "code",
      "metadata": {
        "id": "SFr-eylHzVdi",
        "colab": {
          "base_uri": "https://localhost:8080/"
        },
        "outputId": "4cc02832-0d5d-470b-903f-16d9fc6bbb11"
      },
      "source": [
        "'THAT' not in sentence"
      ],
      "execution_count": null,
      "outputs": [
        {
          "output_type": "execute_result",
          "data": {
            "text/plain": [
              "True"
            ]
          },
          "metadata": {
            "tags": []
          },
          "execution_count": 15
        }
      ]
    },
    {
      "cell_type": "markdown",
      "metadata": {
        "id": "AJDrZuOQzcB2"
      },
      "source": [
        "*Locating a Substring at the Beginning or End of a String*"
      ]
    },
    {
      "cell_type": "markdown",
      "metadata": {
        "id": "q6NJsbLmze9t"
      },
      "source": [
        "String methods startswith and endswith return True if the string starts with or ends with a specified substring:"
      ]
    },
    {
      "cell_type": "code",
      "metadata": {
        "id": "1leTY0V8zgK-",
        "colab": {
          "base_uri": "https://localhost:8080/"
        },
        "outputId": "c81f8952-9aef-455d-996c-b98d16583e00"
      },
      "source": [
        "sentence.startswith('to')"
      ],
      "execution_count": null,
      "outputs": [
        {
          "output_type": "execute_result",
          "data": {
            "text/plain": [
              "True"
            ]
          },
          "metadata": {
            "tags": []
          },
          "execution_count": 16
        }
      ]
    },
    {
      "cell_type": "code",
      "metadata": {
        "id": "kfn5VDMSzmrX",
        "colab": {
          "base_uri": "https://localhost:8080/"
        },
        "outputId": "58d2e21e-2138-46b3-9bc0-0d515c2646ec"
      },
      "source": [
        "sentence.startswith('be')"
      ],
      "execution_count": null,
      "outputs": [
        {
          "output_type": "execute_result",
          "data": {
            "text/plain": [
              "False"
            ]
          },
          "metadata": {
            "tags": []
          },
          "execution_count": 17
        }
      ]
    },
    {
      "cell_type": "code",
      "metadata": {
        "id": "timgr2pDzrjg",
        "colab": {
          "base_uri": "https://localhost:8080/"
        },
        "outputId": "2a850f4b-e97c-46e0-c4e2-9958a288369f"
      },
      "source": [
        "sentence.endswith('question')"
      ],
      "execution_count": null,
      "outputs": [
        {
          "output_type": "execute_result",
          "data": {
            "text/plain": [
              "True"
            ]
          },
          "metadata": {
            "tags": []
          },
          "execution_count": 18
        }
      ]
    },
    {
      "cell_type": "code",
      "metadata": {
        "id": "0zV4XwP0zvAT",
        "colab": {
          "base_uri": "https://localhost:8080/"
        },
        "outputId": "989c3dcb-28e4-48a7-b822-22034582b95c"
      },
      "source": [
        "sentence.endswith('quest')"
      ],
      "execution_count": null,
      "outputs": [
        {
          "output_type": "execute_result",
          "data": {
            "text/plain": [
              "False"
            ]
          },
          "metadata": {
            "tags": []
          },
          "execution_count": 19
        }
      ]
    },
    {
      "cell_type": "markdown",
      "metadata": {
        "id": "QhPJCbj7z5me"
      },
      "source": [
        "**1.7  Replacing Substrings**"
      ]
    },
    {
      "cell_type": "markdown",
      "metadata": {
        "id": "YPIo19at0BrD"
      },
      "source": [
        "A common text manipulation is to locate a substring and replace its value. Method replace takes two substrings. It searches a string for the substring in its first argument and replaces each occurrence with the substring in its second argument. The method returns a new string containing the results. Let’s replace tab characters with commas:"
      ]
    },
    {
      "cell_type": "code",
      "metadata": {
        "id": "LZhtZI6b0CwU",
        "colab": {
          "base_uri": "https://localhost:8080/",
          "height": 35
        },
        "outputId": "c5d492b4-2618-4e70-e549-9edb53b4fb80"
      },
      "source": [
        "values = '1\\t2\\t3\\t4\\t5'\n",
        "values.replace('\\t', ',')\n"
      ],
      "execution_count": null,
      "outputs": [
        {
          "output_type": "execute_result",
          "data": {
            "application/vnd.google.colaboratory.intrinsic+json": {
              "type": "string"
            },
            "text/plain": [
              "'1,2,3,4,5'"
            ]
          },
          "metadata": {
            "tags": []
          },
          "execution_count": 20
        }
      ]
    },
    {
      "cell_type": "markdown",
      "metadata": {
        "id": "9eXwAB4y0STm"
      },
      "source": [
        "Method replace can receive an optional third argument specifying the maximum number of replacements to perform."
      ]
    },
    {
      "cell_type": "code",
      "metadata": {
        "colab": {
          "base_uri": "https://localhost:8080/"
        },
        "id": "pIoufR0-K-Ku",
        "outputId": "8565b2f4-2956-4dbb-bd23-064f6675e4a6"
      },
      "source": [
        "str1 = \"this is string example....wow!!! this is really string\"\n",
        "print (str1.replace(\"is\", \"was\"))\n",
        "print (str1.replace(\"is\", \"was\", 3))"
      ],
      "execution_count": null,
      "outputs": [
        {
          "output_type": "stream",
          "text": [
            "thwas was string example....wow!!! thwas was really string\n",
            "thwas was string example....wow!!! thwas is really string\n"
          ],
          "name": "stdout"
        }
      ]
    },
    {
      "cell_type": "markdown",
      "metadata": {
        "id": "dG5xWY000cN8"
      },
      "source": [
        "**1.8  Splitting and Joining Strings**"
      ]
    },
    {
      "cell_type": "markdown",
      "metadata": {
        "id": "0wQoTDL30odY"
      },
      "source": [
        "When you read a sentence, your brain breaks it into individual words, or tokens, each of which conveys meaning. Interpreters like IPython tokenize statements, breaking them into individual components such as keywords, identifiers, operators and other elements of a programming language. Tokens typically are separated by whitespace characters such as blank, tab and newline, though other characters may be used—the separators are known as delimiters."
      ]
    },
    {
      "cell_type": "markdown",
      "metadata": {
        "id": "y5gAY_jN0qo4"
      },
      "source": [
        "*Splitting Strings*"
      ]
    },
    {
      "cell_type": "markdown",
      "metadata": {
        "id": "A4uXO3MB0ym6"
      },
      "source": [
        "String method split with no arguments tokenizes a string by breaking it into substrings at each whitespace character, then returns a list of tokens. To tokenize a string at a custom delimiter (such as each comma-and-space pair), specify the delimiter string (such as, ', ') that split uses to tokenize the string:"
      ]
    },
    {
      "cell_type": "code",
      "metadata": {
        "id": "dtIjJK9v03zt",
        "colab": {
          "base_uri": "https://localhost:8080/"
        },
        "outputId": "3596ff50-befd-4728-c96a-97918d4d6492"
      },
      "source": [
        "letters = 'A, B, C, D'\n",
        "letters.split(', ')"
      ],
      "execution_count": null,
      "outputs": [
        {
          "output_type": "execute_result",
          "data": {
            "text/plain": [
              "['A', 'B', 'C', 'D']"
            ]
          },
          "metadata": {
            "tags": []
          },
          "execution_count": 22
        }
      ]
    },
    {
      "cell_type": "markdown",
      "metadata": {
        "id": "F_IazBcV2Fri"
      },
      "source": [
        "If you provide an integer as the second argument, it specifies the maximum number of splits. The last token is the remainder of the string after the maximum number of splits:"
      ]
    },
    {
      "cell_type": "code",
      "metadata": {
        "id": "1DsntBbB2JD1",
        "colab": {
          "base_uri": "https://localhost:8080/"
        },
        "outputId": "13bd8c27-9257-4fc7-b287-385d110c8a9d"
      },
      "source": [
        "letters.split(', ', 2)"
      ],
      "execution_count": null,
      "outputs": [
        {
          "output_type": "execute_result",
          "data": {
            "text/plain": [
              "['A', 'B', 'C, D']"
            ]
          },
          "metadata": {
            "tags": []
          },
          "execution_count": 25
        }
      ]
    },
    {
      "cell_type": "markdown",
      "metadata": {
        "id": "oGynarRz2MJM"
      },
      "source": [
        "There is also an rsplit method that performs the same task as split but processes the maximum number of splits from the end of the string toward the beginning."
      ]
    },
    {
      "cell_type": "code",
      "metadata": {
        "id": "iuJzMX7DL8uW",
        "colab": {
          "base_uri": "https://localhost:8080/"
        },
        "outputId": "4a25df84-81fd-49b3-ef4b-734889bdac08"
      },
      "source": [
        "letters.rsplit(', ', 2)"
      ],
      "execution_count": null,
      "outputs": [
        {
          "output_type": "execute_result",
          "data": {
            "text/plain": [
              "['A, B', 'C', 'D']"
            ]
          },
          "metadata": {
            "tags": []
          },
          "execution_count": 24
        }
      ]
    },
    {
      "cell_type": "markdown",
      "metadata": {
        "id": "OD5FOxKh2QYw"
      },
      "source": [
        "*Joining Strings*"
      ]
    },
    {
      "cell_type": "markdown",
      "metadata": {
        "id": "g5njvE692WXQ"
      },
      "source": [
        "String method join concatenates the strings in its argument, which must be an iterable containing only string values; otherwise, a TypeError occurs. The separator between the concatenated items is the string on which you call join. The following code creates strings containing comma-separated lists of values:"
      ]
    },
    {
      "cell_type": "code",
      "metadata": {
        "id": "NgQkop1q2ZYw",
        "colab": {
          "base_uri": "https://localhost:8080/",
          "height": 53
        },
        "outputId": "9143e12a-993d-4821-beaf-c2d2538cc0d4"
      },
      "source": [
        "letters_list = ['A', 'B', 'C', 'D']\n",
        "print(letters_list)\n",
        "','.join(letters_list)"
      ],
      "execution_count": null,
      "outputs": [
        {
          "output_type": "stream",
          "text": [
            "['A', 'B', 'C', 'D']\n"
          ],
          "name": "stdout"
        },
        {
          "output_type": "execute_result",
          "data": {
            "application/vnd.google.colaboratory.intrinsic+json": {
              "type": "string"
            },
            "text/plain": [
              "'A,B,C,D'"
            ]
          },
          "metadata": {
            "tags": []
          },
          "execution_count": 26
        }
      ]
    },
    {
      "cell_type": "code",
      "metadata": {
        "id": "TKoT6gXgM5lR",
        "colab": {
          "base_uri": "https://localhost:8080/",
          "height": 70
        },
        "outputId": "6b9a4347-3ef6-42b3-dde8-c6067808b7cf"
      },
      "source": [
        "letters_list = ['A' 'B' 'C' 'D']\n",
        "length=len(letters_list)\n",
        "print(length)\n",
        "print(letters_list)\n",
        "' '.join(letters_list)"
      ],
      "execution_count": null,
      "outputs": [
        {
          "output_type": "stream",
          "text": [
            "1\n",
            "['ABCD']\n"
          ],
          "name": "stdout"
        },
        {
          "output_type": "execute_result",
          "data": {
            "application/vnd.google.colaboratory.intrinsic+json": {
              "type": "string"
            },
            "text/plain": [
              "'ABCD'"
            ]
          },
          "metadata": {
            "tags": []
          },
          "execution_count": 28
        }
      ]
    },
    {
      "cell_type": "markdown",
      "metadata": {
        "id": "h9G06GR82l-q"
      },
      "source": [
        "The next snippet joins the results of a list comprehension that creates a list of strings:"
      ]
    },
    {
      "cell_type": "code",
      "metadata": {
        "id": "qseyhYE22oOc",
        "colab": {
          "base_uri": "https://localhost:8080/"
        },
        "outputId": "63d34b18-2e10-45e3-b125-4361a0200fd3"
      },
      "source": [
        "print(','.join([str(i) for i in range(10)]))"
      ],
      "execution_count": null,
      "outputs": [
        {
          "output_type": "stream",
          "text": [
            "0,1,2,3,4,5,6,7,8,9\n"
          ],
          "name": "stdout"
        }
      ]
    },
    {
      "cell_type": "markdown",
      "metadata": {
        "id": "RbySB0fe2yqt"
      },
      "source": [
        "*String Methods partition and rpartition*"
      ]
    },
    {
      "cell_type": "markdown",
      "metadata": {
        "id": "CzGgo1s723JJ"
      },
      "source": [
        "String method partition splits a string into a tuple of three strings based on the method’s separator argument. The three strings are \n",
        "\n",
        "the part of the original string before the separator, \n",
        "the separator itself, and \n",
        "the part of the string after the separator.\n",
        "\n",
        "\n",
        "This might be useful for splitting more complex strings. Consider a string representing a student’s name and grades:"
      ]
    },
    {
      "cell_type": "markdown",
      "metadata": {
        "id": "67nNthHf3jTU"
      },
      "source": [
        "Let’s split the original string into the student’s name, the separator ': ' and a string representing the list of grades:"
      ]
    },
    {
      "cell_type": "code",
      "metadata": {
        "id": "L3abGWsc3me5",
        "colab": {
          "base_uri": "https://localhost:8080/"
        },
        "outputId": "a901aec8-a547-4c8a-ef47-39bf0dacae9a"
      },
      "source": [
        "'Amanda: 89, 97, 92'.partition(': ')"
      ],
      "execution_count": null,
      "outputs": [
        {
          "output_type": "execute_result",
          "data": {
            "text/plain": [
              "('Amanda', ': ', '89, 97, 92')"
            ]
          },
          "metadata": {
            "tags": []
          },
          "execution_count": 30
        }
      ]
    },
    {
      "cell_type": "markdown",
      "metadata": {
        "id": "ApbUc4204WAi"
      },
      "source": [
        "To search for the separator from the end of the string instead, use method rpartition to split. For example, consider the following URL string:"
      ]
    },
    {
      "cell_type": "markdown",
      "metadata": {
        "id": "KZlRLI5W4Y5L"
      },
      "source": [
        "Let’s use rpartition split 'table_of_contents.html' from the rest of the URL:"
      ]
    },
    {
      "cell_type": "code",
      "metadata": {
        "id": "kWJyPbKZ4bBl",
        "colab": {
          "base_uri": "https://localhost:8080/"
        },
        "outputId": "da22319d-42e3-4319-b2dd-f73f757fb0a2"
      },
      "source": [
        "url = 'http://www.deitel.com/books/PyCDS/table_of_contents.html'\n",
        "rest_of_url, separator, document = url.rpartition('/')\n",
        "print(separator)\n",
        "print(document)\n",
        "print(rest_of_url)"
      ],
      "execution_count": null,
      "outputs": [
        {
          "output_type": "stream",
          "text": [
            "/\n",
            "table_of_contents.html\n",
            "http://www.deitel.com/books/PyCDS\n"
          ],
          "name": "stdout"
        }
      ]
    },
    {
      "cell_type": "markdown",
      "metadata": {
        "id": "_GKYrg2Q4xEe"
      },
      "source": [
        "*String Method splitlines*"
      ]
    },
    {
      "cell_type": "markdown",
      "metadata": {
        "id": "0QDpAy6f49iH"
      },
      "source": [
        "If you read large amounts of text into a string, you might want to split the string into a list of lines based on newline characters. Method splitlines returns a list of new strings representing the lines of text split at each newline character in the original string. Recall that Python stores multiline strings with embedded \\n characters to represent the line breaks, as shown"
      ]
    },
    {
      "cell_type": "code",
      "metadata": {
        "id": "dyh3ES4N5AIY",
        "colab": {
          "base_uri": "https://localhost:8080/"
        },
        "outputId": "f616e6d5-f3e3-4e19-d478-c5db83f6ffed"
      },
      "source": [
        "lines = \"\"\"This is line 1\n",
        "This is line 2\n",
        "This is line 3\"\"\"\n",
        "\n",
        "print(lines)\n",
        "\n",
        "print(lines.splitlines())\n",
        "\n"
      ],
      "execution_count": null,
      "outputs": [
        {
          "output_type": "stream",
          "text": [
            "This is line 1\n",
            "This is line 2\n",
            "This is line 3\n",
            "['This is line 1', 'This is line 2', 'This is line 3']\n"
          ],
          "name": "stdout"
        }
      ]
    },
    {
      "cell_type": "markdown",
      "metadata": {
        "id": "Zt4GXpMe5iJx"
      },
      "source": [
        "Passing True to splitlines keeps the newlines at the end of each string:"
      ]
    },
    {
      "cell_type": "code",
      "metadata": {
        "id": "u_y46eWZ5mWq",
        "colab": {
          "base_uri": "https://localhost:8080/"
        },
        "outputId": "0961649b-6c0f-458f-a6ae-11cecc37c096"
      },
      "source": [
        "lines.splitlines(True)"
      ],
      "execution_count": null,
      "outputs": [
        {
          "output_type": "execute_result",
          "data": {
            "text/plain": [
              "['This is line 1\\n', 'This is line 2\\n', 'This is line 3']"
            ]
          },
          "metadata": {
            "tags": []
          },
          "execution_count": 34
        }
      ]
    },
    {
      "cell_type": "markdown",
      "metadata": {
        "id": "8ASaLcyE5ykn"
      },
      "source": [
        "**1.9  Characters and Character-Testing Methods**"
      ]
    },
    {
      "cell_type": "markdown",
      "metadata": {
        "id": "lWeNk1yr52UB"
      },
      "source": [
        "Characters (digits, letters and symbols such as $, @, % and *) are the fundamental building blocks of programs. Every program is composed of characters that, when grouped meaningfully, represent instructions and data that the interpreter uses to perform tasks. Many programming languages have separate string and character types. In Python, a character is simply a one-character string.\n",
        "\n",
        "\n",
        "Python provides string methods for testing whether a string matches certain characteristics. For example, string method isdigit returns True if the string on which you call the method contains only the digit characters (0–9). You might use this when validating user input that must contain only digits:"
      ]
    },
    {
      "cell_type": "code",
      "metadata": {
        "id": "OYbpzhzZ58pC",
        "colab": {
          "base_uri": "https://localhost:8080/"
        },
        "outputId": "2aaf28d0-3af6-4f52-8799-7b45a3f50159"
      },
      "source": [
        "'-27'.isdigit()"
      ],
      "execution_count": null,
      "outputs": [
        {
          "output_type": "execute_result",
          "data": {
            "text/plain": [
              "False"
            ]
          },
          "metadata": {
            "tags": []
          },
          "execution_count": 35
        }
      ]
    },
    {
      "cell_type": "code",
      "metadata": {
        "id": "im5PKMvO5_tP",
        "colab": {
          "base_uri": "https://localhost:8080/"
        },
        "outputId": "2ba8a92d-4ccb-4269-c74b-d49ec14949b7"
      },
      "source": [
        "'27'.isdigit()"
      ],
      "execution_count": null,
      "outputs": [
        {
          "output_type": "execute_result",
          "data": {
            "text/plain": [
              "True"
            ]
          },
          "metadata": {
            "tags": []
          },
          "execution_count": 36
        }
      ]
    },
    {
      "cell_type": "markdown",
      "metadata": {
        "id": "c1I-bOLG6Erk"
      },
      "source": [
        "and the string method isalnum returns True if the string on which you call the method is alphanumeric—that is, it contains only digits and letters:"
      ]
    },
    {
      "cell_type": "code",
      "metadata": {
        "id": "R6rQNJPq6FjJ",
        "colab": {
          "base_uri": "https://localhost:8080/"
        },
        "outputId": "af2b6b0d-6769-4edb-9c7b-2be9e3a221e0"
      },
      "source": [
        "'A9876'.isalnum()"
      ],
      "execution_count": null,
      "outputs": [
        {
          "output_type": "execute_result",
          "data": {
            "text/plain": [
              "True"
            ]
          },
          "metadata": {
            "tags": []
          },
          "execution_count": 37
        }
      ]
    },
    {
      "cell_type": "code",
      "metadata": {
        "id": "7Vzdc-Xl6KzC",
        "colab": {
          "base_uri": "https://localhost:8080/"
        },
        "outputId": "26aa39bb-0f47-46a5-9611-8c00eab36b78"
      },
      "source": [
        "'123 Main Street'.isalnum()"
      ],
      "execution_count": null,
      "outputs": [
        {
          "output_type": "execute_result",
          "data": {
            "text/plain": [
              "False"
            ]
          },
          "metadata": {
            "tags": []
          },
          "execution_count": 38
        }
      ]
    },
    {
      "cell_type": "markdown",
      "metadata": {
        "id": "htgPnsKR6ST1"
      },
      "source": [
        "The table below shows many of the character-testing methods. Each method returns False if the condition described is not satisfied:"
      ]
    },
    {
      "cell_type": "markdown",
      "metadata": {
        "id": "BDTWq4Hy60Q1"
      },
      "source": [
        "![String Methods.png](data:image/png;base64,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)"
      ]
    },
    {
      "cell_type": "markdown",
      "metadata": {
        "id": "v1TVADCD7Mtr"
      },
      "source": [
        "**1.10  Raw Strings**"
      ]
    },
    {
      "cell_type": "markdown",
      "metadata": {
        "id": "nJ0I4mFe7TnS"
      },
      "source": [
        "Backslash characters in strings introduce escape sequences—like \\n for newline and \\t for tab. So, if you wish to include a backslash in a string, you must use two backslash characters \\\\. This makes some strings difficult to read. For example, Microsoft Windows uses backslashes to separate folder names when specifying a file’s location. To represent a file’s location on Windows, you might write:"
      ]
    },
    {
      "cell_type": "code",
      "metadata": {
        "id": "Qs3f0yNW7XXY",
        "colab": {
          "base_uri": "https://localhost:8080/",
          "height": 35
        },
        "outputId": "950012c5-0c9d-4824-8792-e59959d8a0ad"
      },
      "source": [
        "file_path = 'C:\\\\MyFolder\\\\MySubFolder\\\\MyFile.txt'\n",
        "file_path"
      ],
      "execution_count": null,
      "outputs": [
        {
          "output_type": "execute_result",
          "data": {
            "application/vnd.google.colaboratory.intrinsic+json": {
              "type": "string"
            },
            "text/plain": [
              "'C:\\\\MyFolder\\\\MySubFolder\\\\MyFile.txt'"
            ]
          },
          "metadata": {
            "tags": []
          },
          "execution_count": 39
        }
      ]
    },
    {
      "cell_type": "markdown",
      "metadata": {
        "id": "iJmar_E_7cpB"
      },
      "source": [
        "For such cases, raw strings—preceded by the character r—are more convenient. They treat each backslash as a regular character, rather than the beginning of an escape sequence:"
      ]
    },
    {
      "cell_type": "code",
      "metadata": {
        "id": "_-CtvLiF7fUZ"
      },
      "source": [
        "file_path = r'C:\\MyFolder\\MySubFolder\\MyFile.txt'\n",
        "file_path\n"
      ],
      "execution_count": null,
      "outputs": []
    },
    {
      "cell_type": "markdown",
      "metadata": {
        "id": "OOxE8w7k7sCO"
      },
      "source": [
        "Python converts the raw string to a regular string that still uses the two backslash characters in its internal representation, as shown in the last snippet. Raw strings can make your code more readable, particularly when using the regular expressions. Regular expressions often contain many backslash characters."
      ]
    },
    {
      "cell_type": "markdown",
      "metadata": {
        "id": "ejBrNhEY42A8"
      },
      "source": [
        "**1.11 Introduction to Regular Expressions**"
      ]
    },
    {
      "cell_type": "markdown",
      "metadata": {
        "id": "wEbJnxZM495q"
      },
      "source": [
        "A regular expression string describes a search pattern for matching characters in other strings. Sometimes you’ll need to recognize patterns in text, like phone numbers, e-mail addresses, ZIP Codes, web page addresses, Social Security numbers and more.\n",
        "\n",
        "Regular expressions can help you extract data from unstructured text, such as social media posts. They’re also important for ensuring that data is in the correct format before you attempt to process it."
      ]
    },
    {
      "cell_type": "markdown",
      "metadata": {
        "id": "9gSulj1f5mph"
      },
      "source": [
        "*Validating Data*"
      ]
    },
    {
      "cell_type": "markdown",
      "metadata": {
        "id": "BMaTAssK5sRU"
      },
      "source": [
        "Before working with text data, you’ll often use regular expressions to validate the data. For example, you can check that:\n",
        "\n",
        "A U.S. ZIP Code consists of five digits (such as 02215) or five digits followed by a hyphen and four more digits (such as 02215-4775).\n",
        " \n",
        "A string last name contains only letters, spaces, apostrophes and hyphens.\n",
        "  \n",
        "An e-mail address contains only the allowed characters in the allowed order. \n",
        "   \n",
        "A U.S. Social Security number contains three digits, a hyphen, two digits, a hyphen and four digits, and adheres to other rules about the specific numbers that can be used in each group of digits."
      ]
    },
    {
      "cell_type": "markdown",
      "metadata": {
        "id": "2rMFghw06B_e"
      },
      "source": [
        "*Other Uses of Regular Expressions*"
      ]
    },
    {
      "cell_type": "markdown",
      "metadata": {
        "id": "1oDWxFpl6Gl0"
      },
      "source": [
        "In addition to validating data, regular expressions often are used to: \n",
        "\n",
        "Extract data from text (sometimes known as scraping)—For example, locating all URLs in a web page. [You might prefer tools like BeautifulSoup, XPath and lxml.] \n",
        "\n",
        "Clean data—For example, removing data that’s not required, removing duplicate data, handling incomplete data, fixing typos, ensuring consistent data formats, dealing with outliers and more.\n",
        "\n",
        "Transform data into other formats—For example, reformatting data that was collected as tab-separated or space-separated values into comma-separated values (CSV) for an application that requires data to be in CSV format."
      ]
    },
    {
      "cell_type": "markdown",
      "metadata": {
        "id": "UXFWTpnw6R_K"
      },
      "source": [
        "*1.11.1  re Module and Function fullmatch*"
      ]
    },
    {
      "cell_type": "markdown",
      "metadata": {
        "id": "k7hYqJcZ6Ymd"
      },
      "source": [
        "To use regular expressions, import the Python Standard Library’s re module:"
      ]
    },
    {
      "cell_type": "code",
      "metadata": {
        "id": "eSq7cQTJ6beN"
      },
      "source": [
        "import re"
      ],
      "execution_count": null,
      "outputs": []
    },
    {
      "cell_type": "markdown",
      "metadata": {
        "id": "hShmzz2w6hnY"
      },
      "source": [
        "One of the simplest regular expression functions is fullmatch, which checks whether the entire string in its second argument matches the pattern in its first argument."
      ]
    },
    {
      "cell_type": "markdown",
      "metadata": {
        "id": "0xAmJ7y-6mXi"
      },
      "source": [
        "*Matching Literal Characters*"
      ]
    },
    {
      "cell_type": "markdown",
      "metadata": {
        "id": "o6wOydmn6rjp"
      },
      "source": [
        "Let’s begin by matching literal characters—that is, characters that match themselves:"
      ]
    },
    {
      "cell_type": "code",
      "metadata": {
        "id": "thsa2jY96uSD",
        "colab": {
          "base_uri": "https://localhost:8080/",
          "height": 35
        },
        "outputId": "fc5f6168-4f2e-4c1a-a4b1-76d1afcc0dc7"
      },
      "source": [
        "pattern = '02215'\n",
        "\n",
        "'Match' if re.fullmatch(pattern, '02215') else 'No match'"
      ],
      "execution_count": null,
      "outputs": [
        {
          "output_type": "execute_result",
          "data": {
            "application/vnd.google.colaboratory.intrinsic+json": {
              "type": "string"
            },
            "text/plain": [
              "'Match'"
            ]
          },
          "metadata": {
            "tags": []
          },
          "execution_count": 42
        }
      ]
    },
    {
      "cell_type": "code",
      "metadata": {
        "id": "xvtzFVqL6y6W",
        "colab": {
          "base_uri": "https://localhost:8080/",
          "height": 35
        },
        "outputId": "e3ed6c85-572e-4117-b424-3aaa656abd0d"
      },
      "source": [
        "'Match' if re.fullmatch(pattern, '51220') else 'No match'"
      ],
      "execution_count": null,
      "outputs": [
        {
          "output_type": "execute_result",
          "data": {
            "application/vnd.google.colaboratory.intrinsic+json": {
              "type": "string"
            },
            "text/plain": [
              "'No match'"
            ]
          },
          "metadata": {
            "tags": []
          },
          "execution_count": 43
        }
      ]
    },
    {
      "cell_type": "markdown",
      "metadata": {
        "id": "1nrCFqh3656Q"
      },
      "source": [
        "The function’s first argument is the regular expression pattern to match. Any string can be a regular expression. The variable pattern’s value, '02215', contains only literal digits that match themselves in the specified order. The second argument is the string that should entirely match the pattern. If the second argument matches the pattern in the first argument, fullmatch returns an object containing the matching text, which evaluates to True. We’ll say more about this object later. Even though the second argument contains the same digits as the regular expression, they’re in a different order. So there’s no match, and fullmatch returns None, which evaluates to False."
      ]
    },
    {
      "cell_type": "markdown",
      "metadata": {
        "id": "oGG-kqS87K66"
      },
      "source": [
        "*Metacharacters, Character Classes and Quantifiers*"
      ]
    },
    {
      "cell_type": "markdown",
      "metadata": {
        "id": "PvKWWMlq7OrB"
      },
      "source": [
        "Regular expressions typically contain various special symbols called metacharacters, which are shown in the table below:"
      ]
    },
    {
      "cell_type": "markdown",
      "metadata": {
        "id": "4dYaAz7-7YTk"
      },
      "source": [
        "![metacharacters.png](data:image/png;base64,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)"
      ]
    },
    {
      "cell_type": "markdown",
      "metadata": {
        "id": "B_m-eudF7cR3"
      },
      "source": [
        "The \\ metacharacter begins each of the predefined character classes, each matching a specific set of characters. Let’s validate a five-digit ZIP Code:"
      ]
    },
    {
      "cell_type": "code",
      "metadata": {
        "id": "tbIItjBG7lqF",
        "colab": {
          "base_uri": "https://localhost:8080/",
          "height": 164
        },
        "outputId": "94b1f999-207f-4f79-8e87-c8f2618bbce2"
      },
      "source": [
        "'Valid' if re.fullmatch(r'\\d{5}', '02215') else 'Invalid'"
      ],
      "execution_count": null,
      "outputs": [
        {
          "output_type": "error",
          "ename": "NameError",
          "evalue": "ignored",
          "traceback": [
            "\u001b[0;31m---------------------------------------------------------------------------\u001b[0m",
            "\u001b[0;31mNameError\u001b[0m                                 Traceback (most recent call last)",
            "\u001b[0;32m<ipython-input-12-1314fc21790a>\u001b[0m in \u001b[0;36m<module>\u001b[0;34m()\u001b[0m\n\u001b[0;32m----> 1\u001b[0;31m \u001b[0;34m'Valid'\u001b[0m \u001b[0;32mif\u001b[0m \u001b[0mre\u001b[0m\u001b[0;34m.\u001b[0m\u001b[0mfullmatch\u001b[0m\u001b[0;34m(\u001b[0m\u001b[0;34mr'\\d{5}'\u001b[0m\u001b[0;34m,\u001b[0m \u001b[0;34m'02215'\u001b[0m\u001b[0;34m)\u001b[0m \u001b[0;32melse\u001b[0m \u001b[0;34m'Invalid'\u001b[0m\u001b[0;34m\u001b[0m\u001b[0;34m\u001b[0m\u001b[0m\n\u001b[0m",
            "\u001b[0;31mNameError\u001b[0m: name 're' is not defined"
          ]
        }
      ]
    },
    {
      "cell_type": "code",
      "metadata": {
        "id": "dLMQt3aL7qCX",
        "colab": {
          "base_uri": "https://localhost:8080/",
          "height": 35
        },
        "outputId": "c83ed1bc-f7c5-4345-ef0d-f3ccc3c9c5c5"
      },
      "source": [
        "'Valid' if re.fullmatch(r'\\d{5}', '9876') else 'Invalid'"
      ],
      "execution_count": null,
      "outputs": [
        {
          "output_type": "execute_result",
          "data": {
            "application/vnd.google.colaboratory.intrinsic+json": {
              "type": "string"
            },
            "text/plain": [
              "'Invalid'"
            ]
          },
          "metadata": {
            "tags": []
          },
          "execution_count": 45
        }
      ]
    },
    {
      "cell_type": "markdown",
      "metadata": {
        "id": "Co2dofzl-B6_"
      },
      "source": [
        "In the regular expression \\d{5}, \\d is a character class representing a digit (0–9). A character class is a regular expression escape sequence that matches one character. To match more than one, follow the character class with a quantifier. The quantifier {5} repeats \\d five times, as if we had written \\d\\d\\d\\d\\d, to match five consecutive digits. fullmatch returns None because '9876' contains only four consecutive digit characters."
      ]
    },
    {
      "cell_type": "markdown",
      "metadata": {
        "id": "oKa01qZl-L4c"
      },
      "source": [
        "*Other Predefined Character Classes*"
      ]
    },
    {
      "cell_type": "markdown",
      "metadata": {
        "id": "tdFGTUs2-QJ7"
      },
      "source": [
        "The table below shows some common predefined character classes and the groups of characters they match. To match any metacharacter as its literal value, precede it by a backslash (\\). For example, \\\\ matches a backslash (\\) and \\$ matches a dollar sign ($)."
      ]
    },
    {
      "cell_type": "markdown",
      "metadata": {
        "id": "qyXZ7QPz-V8G"
      },
      "source": [
        "![charcaterclasses.png](data:image/png;base64,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)"
      ]
    },
    {
      "cell_type": "markdown",
      "metadata": {
        "id": "8eWHrWh8-bi1"
      },
      "source": [
        "*Custom Character Classes*"
      ]
    },
    {
      "cell_type": "markdown",
      "metadata": {
        "id": "7H3Jf3Ay-iU9"
      },
      "source": [
        "Square brackets, [], define a custom character class that matches a single character. For example, [aeiou] matches a lowercase vowel, [A-Z] matches an uppercase letter, [a-z] matches a lowercase letter and [a-zA-Z] matches any lowercase or uppercase letter.\n",
        "\n",
        "\n",
        "Let’s validate a simple first name with no spaces or punctuation. We’ll ensure that it begins with an uppercase letter (A–Z) followed by any number of lowercase letters (a–z):"
      ]
    },
    {
      "cell_type": "code",
      "metadata": {
        "id": "lYXQpPCw-rh3",
        "colab": {
          "base_uri": "https://localhost:8080/",
          "height": 35
        },
        "outputId": "c53e27e8-947d-4ac7-cc7a-947d6f11512f"
      },
      "source": [
        "'Valid' if re.fullmatch('[A-Z][a-z]*', 'Wally') else 'Invalid'"
      ],
      "execution_count": null,
      "outputs": [
        {
          "output_type": "execute_result",
          "data": {
            "application/vnd.google.colaboratory.intrinsic+json": {
              "type": "string"
            },
            "text/plain": [
              "'Valid'"
            ]
          },
          "metadata": {
            "tags": []
          },
          "execution_count": 46
        }
      ]
    },
    {
      "cell_type": "code",
      "metadata": {
        "id": "R1-xxrM1-0bo",
        "colab": {
          "base_uri": "https://localhost:8080/",
          "height": 35
        },
        "outputId": "cca0fc35-53aa-4019-f280-3f02bcb47819"
      },
      "source": [
        "'Valid' if re.fullmatch('[a-z][A-Z]*', 'E') else 'Invalid'"
      ],
      "execution_count": null,
      "outputs": [
        {
          "output_type": "execute_result",
          "data": {
            "application/vnd.google.colaboratory.intrinsic+json": {
              "type": "string"
            },
            "text/plain": [
              "'Invalid'"
            ]
          },
          "metadata": {
            "tags": []
          },
          "execution_count": 49
        }
      ]
    },
    {
      "cell_type": "code",
      "metadata": {
        "colab": {
          "base_uri": "https://localhost:8080/",
          "height": 35
        },
        "id": "GrtjVWY1Thqt",
        "outputId": "c6949525-92f0-4fbb-b0d8-dd4311f25351"
      },
      "source": [
        "'Valid' if re.fullmatch('[a-z]*[A-Z]*', 'Whalley') else 'Invalid'"
      ],
      "execution_count": null,
      "outputs": [
        {
          "output_type": "execute_result",
          "data": {
            "application/vnd.google.colaboratory.intrinsic+json": {
              "type": "string"
            },
            "text/plain": [
              "'Invalid'"
            ]
          },
          "metadata": {
            "tags": []
          },
          "execution_count": 51
        }
      ]
    },
    {
      "cell_type": "markdown",
      "metadata": {
        "id": "AELFfnq0--Kq"
      },
      "source": [
        "A first name might contain many letters. The * quantifier matches zero or more occurrences of the subexpression to its left (in this case, [a-z]). So [A-Z][a-z]* matches an uppercase letter followed by zero or more lowercase letters, such as 'Amanda', 'Bo' or even 'E'. \n",
        "\n",
        "\n",
        "When a custom character class starts with a caret (^), the class matches any character that’s not specified. So [^a-z] matches any character that’s not a lowercase letter:"
      ]
    },
    {
      "cell_type": "code",
      "metadata": {
        "id": "lgWUmYFM_CbL",
        "colab": {
          "base_uri": "https://localhost:8080/",
          "height": 35
        },
        "outputId": "e7364f11-b355-494b-c3da-61c331485288"
      },
      "source": [
        "'Match' if re.fullmatch('[^a-z]', 'A') else 'No match'"
      ],
      "execution_count": null,
      "outputs": [
        {
          "output_type": "execute_result",
          "data": {
            "application/vnd.google.colaboratory.intrinsic+json": {
              "type": "string"
            },
            "text/plain": [
              "'Match'"
            ]
          },
          "metadata": {
            "tags": []
          },
          "execution_count": 52
        }
      ]
    },
    {
      "cell_type": "code",
      "metadata": {
        "id": "pAKULLTN_IKO",
        "colab": {
          "base_uri": "https://localhost:8080/",
          "height": 35
        },
        "outputId": "614823cb-0f53-4ffb-faf9-c3d5bf67d927"
      },
      "source": [
        "'Match' if re.fullmatch('[^a-z]', 'a') else 'No match'"
      ],
      "execution_count": null,
      "outputs": [
        {
          "output_type": "execute_result",
          "data": {
            "application/vnd.google.colaboratory.intrinsic+json": {
              "type": "string"
            },
            "text/plain": [
              "'No match'"
            ]
          },
          "metadata": {
            "tags": []
          },
          "execution_count": 53
        }
      ]
    },
    {
      "cell_type": "markdown",
      "metadata": {
        "id": "UUjoZITw_Nrj"
      },
      "source": [
        "Metacharacters in a custom character class are treated as literal characters—that is, the characters themselves. So [*+$] matches a single *, + or $ character:"
      ]
    },
    {
      "cell_type": "code",
      "metadata": {
        "id": "GhG2b1Y2_RPB",
        "colab": {
          "base_uri": "https://localhost:8080/",
          "height": 35
        },
        "outputId": "1a860eca-d340-480e-8158-c69b33732356"
      },
      "source": [
        "'Match' if re.fullmatch('[*+$]', '*') else 'No match'"
      ],
      "execution_count": null,
      "outputs": [
        {
          "output_type": "execute_result",
          "data": {
            "application/vnd.google.colaboratory.intrinsic+json": {
              "type": "string"
            },
            "text/plain": [
              "'Match'"
            ]
          },
          "metadata": {
            "tags": []
          },
          "execution_count": 54
        }
      ]
    },
    {
      "cell_type": "code",
      "metadata": {
        "id": "Z1jduBmV_Wdo",
        "colab": {
          "base_uri": "https://localhost:8080/",
          "height": 35
        },
        "outputId": "526b7eb4-fcbc-49ad-d5e5-b5880bfd798d"
      },
      "source": [
        "'Match' if re.fullmatch('[*+$]', '!') else 'No match'"
      ],
      "execution_count": null,
      "outputs": [
        {
          "output_type": "execute_result",
          "data": {
            "application/vnd.google.colaboratory.intrinsic+json": {
              "type": "string"
            },
            "text/plain": [
              "'No match'"
            ]
          },
          "metadata": {
            "tags": []
          },
          "execution_count": 55
        }
      ]
    },
    {
      "cell_type": "markdown",
      "metadata": {
        "id": "YDQV1b5I_eEG"
      },
      "source": [
        "* (asterick)  vs. + Quantifier"
      ]
    },
    {
      "cell_type": "markdown",
      "metadata": {
        "id": "tNKhkPyn_haI"
      },
      "source": [
        "If you want to require at least one lowercase letter in a first name, you can replace the * quantifier with +, which matches at least one occurrence of a subexpression:"
      ]
    },
    {
      "cell_type": "code",
      "metadata": {
        "id": "KZSfmLXVABo4",
        "colab": {
          "base_uri": "https://localhost:8080/",
          "height": 35
        },
        "outputId": "4dff1fb9-7cdf-4a18-8e65-44d4dd77a66c"
      },
      "source": [
        "'Valid' if re.fullmatch('[A-Z][a-z]+', 'Wally') else 'Invalid'"
      ],
      "execution_count": null,
      "outputs": [
        {
          "output_type": "execute_result",
          "data": {
            "application/vnd.google.colaboratory.intrinsic+json": {
              "type": "string"
            },
            "text/plain": [
              "'Valid'"
            ]
          },
          "metadata": {
            "tags": []
          },
          "execution_count": 56
        }
      ]
    },
    {
      "cell_type": "code",
      "metadata": {
        "id": "kspPN1LAAJmA",
        "colab": {
          "base_uri": "https://localhost:8080/",
          "height": 35
        },
        "outputId": "fc3c279b-e33c-4e08-e9ec-6a5cddfd3a3f"
      },
      "source": [
        "'Valid' if re.fullmatch('[A-Z][a-z]+', 'E') else 'Invalid'"
      ],
      "execution_count": null,
      "outputs": [
        {
          "output_type": "execute_result",
          "data": {
            "application/vnd.google.colaboratory.intrinsic+json": {
              "type": "string"
            },
            "text/plain": [
              "'Invalid'"
            ]
          },
          "metadata": {
            "tags": []
          },
          "execution_count": 57
        }
      ]
    },
    {
      "cell_type": "markdown",
      "metadata": {
        "id": "2PaYOpElAO7V"
      },
      "source": [
        "Both * and + are greedy—they match as many characters as possible. So the regular expression [A-Z][a-z]+ matches 'Al', 'Eva', 'Samantha', 'Benjamin' and any other words that begin with a capital letter followed at least one lowercase letter."
      ]
    },
    {
      "cell_type": "markdown",
      "metadata": {
        "id": "ERiQ3YtQASb5"
      },
      "source": [
        "*Other Quantifiers*"
      ]
    },
    {
      "cell_type": "markdown",
      "metadata": {
        "id": "YvpxeBROAWec"
      },
      "source": [
        "The ? quantifier matches zero or one occurrences of a subexpression:"
      ]
    },
    {
      "cell_type": "code",
      "metadata": {
        "id": "ba6oMtA9AZVv",
        "colab": {
          "base_uri": "https://localhost:8080/",
          "height": 35
        },
        "outputId": "4dbc781d-a418-4c5e-92f0-0a9c14e304f3"
      },
      "source": [
        "'Match' if re.fullmatch('labell?ed', 'labelled') else 'No match'"
      ],
      "execution_count": null,
      "outputs": [
        {
          "output_type": "execute_result",
          "data": {
            "application/vnd.google.colaboratory.intrinsic+json": {
              "type": "string"
            },
            "text/plain": [
              "'Match'"
            ]
          },
          "metadata": {
            "tags": []
          },
          "execution_count": 58
        }
      ]
    },
    {
      "cell_type": "code",
      "metadata": {
        "id": "Q_catt8TAcZI",
        "colab": {
          "base_uri": "https://localhost:8080/",
          "height": 35
        },
        "outputId": "2ce9935f-6041-4029-bd1b-d4aad0f5ebd6"
      },
      "source": [
        "'Match' if re.fullmatch('labell?ed', 'labeled') else 'No match'"
      ],
      "execution_count": null,
      "outputs": [
        {
          "output_type": "execute_result",
          "data": {
            "application/vnd.google.colaboratory.intrinsic+json": {
              "type": "string"
            },
            "text/plain": [
              "'Match'"
            ]
          },
          "metadata": {
            "tags": []
          },
          "execution_count": 59
        }
      ]
    },
    {
      "cell_type": "code",
      "metadata": {
        "id": "2UT3pR58AgwY",
        "colab": {
          "base_uri": "https://localhost:8080/",
          "height": 35
        },
        "outputId": "e9b8beb9-1b68-46e4-8c08-e4c1c6175fce"
      },
      "source": [
        "'Match' if re.fullmatch('labelli?ed', 'labeled') else 'No match'"
      ],
      "execution_count": null,
      "outputs": [
        {
          "output_type": "execute_result",
          "data": {
            "application/vnd.google.colaboratory.intrinsic+json": {
              "type": "string"
            },
            "text/plain": [
              "'No match'"
            ]
          },
          "metadata": {
            "tags": []
          },
          "execution_count": 63
        }
      ]
    },
    {
      "cell_type": "markdown",
      "metadata": {
        "id": "97350_rdAoM3"
      },
      "source": [
        "The regular expression labell?ed matches labelled (the U.K. English spelling) and labeled (the U.S. English spelling), but not the misspelled word labellled. In each code cells above, the first five literal characters in the regular expression (label) match the first five characters of the second arguments. Then l? indicates that there can be zero or one more l characters before the remaining literal ed characters.\n",
        "\n",
        "\n",
        "\n",
        "You can match at least n occurrences of a subexpression with the { n,} quantifier. The following regular expression matches strings containing at least three digits:"
      ]
    },
    {
      "cell_type": "code",
      "metadata": {
        "id": "hvH85x34BI3q",
        "colab": {
          "base_uri": "https://localhost:8080/",
          "height": 35
        },
        "outputId": "059fe45f-5eb9-482b-9893-c48656630d5b"
      },
      "source": [
        "'Match' if re.fullmatch(r'\\d{3,}', '123') else 'No match'"
      ],
      "execution_count": null,
      "outputs": [
        {
          "output_type": "execute_result",
          "data": {
            "application/vnd.google.colaboratory.intrinsic+json": {
              "type": "string"
            },
            "text/plain": [
              "'Match'"
            ]
          },
          "metadata": {
            "tags": []
          },
          "execution_count": 64
        }
      ]
    },
    {
      "cell_type": "code",
      "metadata": {
        "id": "12U6VHLXBL9G",
        "colab": {
          "base_uri": "https://localhost:8080/",
          "height": 35
        },
        "outputId": "155412e9-d28a-4394-9406-726fa0ec7fb9"
      },
      "source": [
        "'Match' if re.fullmatch(r'\\d{3,}', '1234567890') else 'No match'"
      ],
      "execution_count": null,
      "outputs": [
        {
          "output_type": "execute_result",
          "data": {
            "application/vnd.google.colaboratory.intrinsic+json": {
              "type": "string"
            },
            "text/plain": [
              "'Match'"
            ]
          },
          "metadata": {
            "tags": []
          },
          "execution_count": 65
        }
      ]
    },
    {
      "cell_type": "code",
      "metadata": {
        "id": "ZvQu2loCBPHj",
        "colab": {
          "base_uri": "https://localhost:8080/",
          "height": 35
        },
        "outputId": "47040699-b75d-439e-cddc-dcbca445d5e2"
      },
      "source": [
        "'Match' if re.fullmatch(r'\\d{3,}', '12') else 'No match'"
      ],
      "execution_count": null,
      "outputs": [
        {
          "output_type": "execute_result",
          "data": {
            "application/vnd.google.colaboratory.intrinsic+json": {
              "type": "string"
            },
            "text/plain": [
              "'No match'"
            ]
          },
          "metadata": {
            "tags": []
          },
          "execution_count": 66
        }
      ]
    },
    {
      "cell_type": "markdown",
      "metadata": {
        "id": "HIm1wA0PBTaW"
      },
      "source": [
        "You can match between n and m (inclusive) occurrences of a subexpression with the { n, m} quantifier. The following regular expression matches strings containing 3 to 6 digits:"
      ]
    },
    {
      "cell_type": "code",
      "metadata": {
        "id": "cSrUJvgzBWLR",
        "colab": {
          "base_uri": "https://localhost:8080/",
          "height": 35
        },
        "outputId": "72a8fc76-7743-4696-a0db-fb70cdd5522a"
      },
      "source": [
        "'Match' if re.fullmatch(r'\\d{3,6}', '123') else 'No match'"
      ],
      "execution_count": null,
      "outputs": [
        {
          "output_type": "execute_result",
          "data": {
            "application/vnd.google.colaboratory.intrinsic+json": {
              "type": "string"
            },
            "text/plain": [
              "'Match'"
            ]
          },
          "metadata": {
            "tags": []
          },
          "execution_count": 67
        }
      ]
    },
    {
      "cell_type": "code",
      "metadata": {
        "id": "ImptQgDSBZcW",
        "colab": {
          "base_uri": "https://localhost:8080/",
          "height": 35
        },
        "outputId": "ee62603d-fac0-4b59-b03a-88ae41bbc8a8"
      },
      "source": [
        "'Match' if re.fullmatch(r'\\d{3,6}', '123456') else 'No match'"
      ],
      "execution_count": null,
      "outputs": [
        {
          "output_type": "execute_result",
          "data": {
            "application/vnd.google.colaboratory.intrinsic+json": {
              "type": "string"
            },
            "text/plain": [
              "'Match'"
            ]
          },
          "metadata": {
            "tags": []
          },
          "execution_count": 68
        }
      ]
    },
    {
      "cell_type": "code",
      "metadata": {
        "id": "AtaWIvS6BcJo",
        "colab": {
          "base_uri": "https://localhost:8080/",
          "height": 35
        },
        "outputId": "5608a597-57b9-45b7-c5d4-68ab16b83379"
      },
      "source": [
        "'Match' if re.fullmatch(r'\\d{3,6}', '1234567') else 'No match'"
      ],
      "execution_count": null,
      "outputs": [
        {
          "output_type": "execute_result",
          "data": {
            "application/vnd.google.colaboratory.intrinsic+json": {
              "type": "string"
            },
            "text/plain": [
              "'No match'"
            ]
          },
          "metadata": {
            "tags": []
          },
          "execution_count": 69
        }
      ]
    },
    {
      "cell_type": "code",
      "metadata": {
        "id": "noME5Sx4Bewe",
        "colab": {
          "base_uri": "https://localhost:8080/",
          "height": 35
        },
        "outputId": "c200e410-c2ac-457a-e839-be4163dc1bca"
      },
      "source": [
        "'Match' if re.fullmatch(r'\\d{3,6}', '12') else 'No match'"
      ],
      "execution_count": null,
      "outputs": [
        {
          "output_type": "execute_result",
          "data": {
            "application/vnd.google.colaboratory.intrinsic+json": {
              "type": "string"
            },
            "text/plain": [
              "'No match'"
            ]
          },
          "metadata": {
            "tags": []
          },
          "execution_count": 70
        }
      ]
    },
    {
      "cell_type": "markdown",
      "metadata": {
        "id": "FzlPlj6aBimr"
      },
      "source": [
        "**1.11.2  Replacing Substrings and Splitting Strings**"
      ]
    },
    {
      "cell_type": "markdown",
      "metadata": {
        "id": "GMf8NrZkBrDx"
      },
      "source": [
        "The re module provides function sub for replacing patterns in a string, and function split for breaking a string into pieces, based on patterns."
      ]
    },
    {
      "cell_type": "markdown",
      "metadata": {
        "id": "x38a5zIfBtlT"
      },
      "source": [
        "*Function sub—Replacing Patterns*"
      ]
    },
    {
      "cell_type": "markdown",
      "metadata": {
        "id": "orJ0F6GIByRl"
      },
      "source": [
        "By default, the re module’s sub function replaces all occurrences of a pattern with the replacement text you specify. Let’s convert a tab-delimited string to comma-delimited:"
      ]
    },
    {
      "cell_type": "code",
      "metadata": {
        "id": "yYiGrTr2B08E",
        "colab": {
          "base_uri": "https://localhost:8080/",
          "height": 35
        },
        "outputId": "1ce5cae9-f16a-45f3-c172-ba5409a56dd5"
      },
      "source": [
        "import re\n",
        "\n",
        "re.sub(r'\\t', ', ', '1\\t2\\t3\\t4')"
      ],
      "execution_count": null,
      "outputs": [
        {
          "output_type": "execute_result",
          "data": {
            "application/vnd.google.colaboratory.intrinsic+json": {
              "type": "string"
            },
            "text/plain": [
              "'1, 2, 3, 4'"
            ]
          },
          "metadata": {
            "tags": []
          },
          "execution_count": 71
        }
      ]
    },
    {
      "cell_type": "markdown",
      "metadata": {
        "id": "dmXTH0g-B7hp"
      },
      "source": [
        "The sub function receives three required arguments:\n",
        "\n",
        "the pattern to match (the tab character '\\t')\n",
        "\n",
        "the replacement text (', ') and\n",
        "\n",
        "the string to be searched ('1\\t2\\t3\\t4')\n",
        "\n",
        "\n",
        "and returns a new string. The keyword argument count can be used to specify the maximum number of replacements:"
      ]
    },
    {
      "cell_type": "code",
      "metadata": {
        "id": "1cCI1vabCIpz"
      },
      "source": [
        "re.sub(r'\\t', ', ', '1\\t2\\t3\\t4', count=2)"
      ],
      "execution_count": null,
      "outputs": []
    },
    {
      "cell_type": "markdown",
      "metadata": {
        "id": "Aux5OqY5CMB1"
      },
      "source": [
        "*Function split*"
      ]
    },
    {
      "cell_type": "markdown",
      "metadata": {
        "id": "632L0DCUCQzF"
      },
      "source": [
        "The split function tokenizes a string, using a regular expression to specify the delimiter, and returns a list of strings. Let’s tokenize a string by splitting it at any comma that’s followed by 0 or more whitespace characters—\\s is the whitespace character class and * indicates zero or more occurrences of the preceding subexpression:"
      ]
    },
    {
      "cell_type": "code",
      "metadata": {
        "id": "XahOE-NqCTCs"
      },
      "source": [
        "re.split(r',\\s*', '1, 2, 3,4, 5,6,7,8')"
      ],
      "execution_count": null,
      "outputs": []
    },
    {
      "cell_type": "markdown",
      "metadata": {
        "id": "hf-72TDpCVoR"
      },
      "source": [
        "Use the keyword argument maxsplit to specify the maximum number of splits:"
      ]
    },
    {
      "cell_type": "code",
      "metadata": {
        "id": "Bc0Mklj6CX-L"
      },
      "source": [
        "re.split(r',\\s*', '1, 2, 3,4, 5,6,7,8', maxsplit=3)"
      ],
      "execution_count": null,
      "outputs": []
    },
    {
      "cell_type": "markdown",
      "metadata": {
        "id": "23f6nu5FCeKW"
      },
      "source": [
        "In this case, after the 3 splits, the fourth string contains the rest of the original string."
      ]
    },
    {
      "cell_type": "markdown",
      "metadata": {
        "id": "mApqxtmbClb_"
      },
      "source": [
        "**1.11.3  Other Search Functions; Accessing Matches**"
      ]
    },
    {
      "cell_type": "markdown",
      "metadata": {
        "id": "YXH2PWnxCrwb"
      },
      "source": [
        "Earlier we used the fullmatch function to determine whether an entire string matched a regular expression. There are several other searching functions. Here, we discuss the search, match, findall and finditer functions, and show how to access the matching substrings."
      ]
    },
    {
      "cell_type": "markdown",
      "metadata": {
        "id": "_zbjlOu9Cupd"
      },
      "source": [
        "*Function search—Finding the First Match Anywhere in a String*"
      ]
    },
    {
      "cell_type": "markdown",
      "metadata": {
        "id": "H54C5BZ2CySM"
      },
      "source": [
        "Function search looks in a string for the first occurrence of a substring that matches a regular expression and returns a match object that contains the matching substring. The match object’s group method returns that substring:"
      ]
    },
    {
      "cell_type": "code",
      "metadata": {
        "id": "oOP8dnBQC1HD"
      },
      "source": [
        "import re\n",
        "\n",
        "result = re.search('Python', 'Python is fun')\n",
        "\n",
        "result.group() if result else 'not found'"
      ],
      "execution_count": null,
      "outputs": []
    },
    {
      "cell_type": "markdown",
      "metadata": {
        "id": "nQV7UzzkC_dR"
      },
      "source": [
        "Function search returns None if the string does not contain the pattern:"
      ]
    },
    {
      "cell_type": "code",
      "metadata": {
        "id": "9yFPTRklDCjI"
      },
      "source": [
        "result2 = re.search('fun!', 'Python is fun')\n",
        "\n",
        "result2.group() if result2 else 'not found'"
      ],
      "execution_count": null,
      "outputs": []
    },
    {
      "cell_type": "markdown",
      "metadata": {
        "id": "CWoStgkiDKtF"
      },
      "source": [
        "You can search for a match only at the beginning of a string with function match."
      ]
    },
    {
      "cell_type": "markdown",
      "metadata": {
        "id": "TJ51DSUnDNmN"
      },
      "source": [
        "*Ignoring Case with the Optional flags Keyword Argument*"
      ]
    },
    {
      "cell_type": "markdown",
      "metadata": {
        "id": "zp6YIn_dDVB5"
      },
      "source": [
        "Many re module functions receive an optional flags keyword argument that changes how regular expressions are matched. For example, matches are case sensitive by default, but by using the re module’s IGNORECASE constant, you can perform a case-insensitive search:"
      ]
    },
    {
      "cell_type": "code",
      "metadata": {
        "id": "QEv3bEC5DX1z"
      },
      "source": [
        "result3 = re.search('Sam', 'SAM WHITE', flags=re.IGNORECASE)\n",
        "\n",
        "result3.group() if result3 else 'not found'\n",
        "\n"
      ],
      "execution_count": null,
      "outputs": []
    },
    {
      "cell_type": "markdown",
      "metadata": {
        "id": "s1mL0RfoDfWp"
      },
      "source": [
        "Here, 'SAM' matches the pattern 'Sam' because both have the same letters, even though 'SAM' contains only uppercase letters."
      ]
    },
    {
      "cell_type": "markdown",
      "metadata": {
        "id": "sIpmGiB8DiK0"
      },
      "source": [
        "*Metacharacters That Restrict Matches to the Beginning or End of a String*"
      ]
    },
    {
      "cell_type": "markdown",
      "metadata": {
        "id": "7BflSGZgDmMm"
      },
      "source": [
        "The ^ metacharacter at the beginning of a regular expression (and not inside square brackets) is an anchor indicating that the expression matches only the beginning of a string:"
      ]
    },
    {
      "cell_type": "code",
      "metadata": {
        "id": "yOl4opRfDohj"
      },
      "source": [
        "result = re.search('^Python', 'Python is fun')\n",
        "\n",
        "result.group() if result else 'not found'"
      ],
      "execution_count": null,
      "outputs": []
    },
    {
      "cell_type": "code",
      "metadata": {
        "id": "i4ypLP8QDu8T"
      },
      "source": [
        "result = re.search('^fun', 'Python is fun')\n",
        "\n",
        "result.group() if result else 'not found'"
      ],
      "execution_count": null,
      "outputs": []
    },
    {
      "cell_type": "markdown",
      "metadata": {
        "id": "G_lHnWznD067"
      },
      "source": [
        "Similarly, the $ metacharacter at the end of a regular expression is an anchor indicating that the expression matches only the end of a string:"
      ]
    },
    {
      "cell_type": "code",
      "metadata": {
        "id": "FaRiF8tiD3Zm"
      },
      "source": [
        "result = re.search('Python$', 'Python is fun')\n",
        "\n",
        "result.group() if result else 'not found'"
      ],
      "execution_count": null,
      "outputs": []
    },
    {
      "cell_type": "code",
      "metadata": {
        "id": "gseQRqfUD82O"
      },
      "source": [
        "result = re.search('fun$', 'Python is fun')\n",
        "\n",
        "result.group() if result else 'not found'"
      ],
      "execution_count": null,
      "outputs": []
    },
    {
      "cell_type": "markdown",
      "metadata": {
        "id": "v2cAQcu1EE8T"
      },
      "source": [
        "*Function findall and finditer—Finding All Matches in a String*"
      ]
    },
    {
      "cell_type": "markdown",
      "metadata": {
        "id": "j_st6MmuEJRE"
      },
      "source": [
        "Function findall finds every matching substring in a string and returns a list of the matching substrings. Let’s extract all the U.S. phone numbers from a string. For simplicity we’ll assume that U.S. phone numbers have the form ###-###-####:"
      ]
    },
    {
      "cell_type": "code",
      "metadata": {
        "id": "uLSqEH45ELo5"
      },
      "source": [
        "contact = 'Wally White, Home: 555-555-1234, Work: 555-555-4321'\n",
        "\n",
        "re.findall(r'\\d{3}-\\d{3}-\\d{4}', contact)"
      ],
      "execution_count": null,
      "outputs": []
    },
    {
      "cell_type": "markdown",
      "metadata": {
        "id": "Aa5AA4hqEQmT"
      },
      "source": [
        "Function finditer works like findall, but returns a lazy iterable of match objects. For large numbers of matches, using finditer can save memory because it returns one match at a time, whereas findall returns all the matches at once:"
      ]
    },
    {
      "cell_type": "code",
      "metadata": {
        "id": "YVRzqC0zETT5"
      },
      "source": [
        "for phone in re.finditer(r'\\d{3}-\\d{3}-\\d{4}', contact):\n",
        "  \n",
        "  print(phone.group())"
      ],
      "execution_count": null,
      "outputs": []
    },
    {
      "cell_type": "markdown",
      "metadata": {
        "id": "qkX9rOtqEZ9j"
      },
      "source": [
        "*Capturing Substrings in a Match*"
      ]
    },
    {
      "cell_type": "markdown",
      "metadata": {
        "id": "EV_1lczGEdVZ"
      },
      "source": [
        "You can use parentheses metacharacters—( and )—to capture substrings in a match. For example, let’s capture as separate substrings the name and e-mail address in the string text:"
      ]
    },
    {
      "cell_type": "code",
      "metadata": {
        "id": "h0bShDm-EgJo"
      },
      "source": [
        "text = 'Charlie Cyan, e-mail: demo1@deitel.com'\n",
        "\n",
        "pattern = r'([A-Z][a-z]+ [A-Z][a-z]+), e-mail: (\\w+@\\w+\\.\\w{3})'\n",
        "\n",
        "result = re.search(pattern, text)"
      ],
      "execution_count": null,
      "outputs": []
    },
    {
      "cell_type": "markdown",
      "metadata": {
        "id": "UJoCmNYaExGi"
      },
      "source": [
        "The regular expression specifies two substrings to capture, each denoted by the metacharacters ( and ). These metacharacters do not affect whether the pattern is found in the string text—the match function returns a match object only if the entire pattern is found in the string text."
      ]
    },
    {
      "cell_type": "markdown",
      "metadata": {
        "id": "HFs3cI5dE1Av"
      },
      "source": [
        "Let’s consider the regular expression:\n",
        "\n",
        "\n",
        " '([A-Z][a-z]+ [A-Z][a-z]+)' matches two words separated by a space. Each word must have an initial capital letter. \n",
        " \n",
        " \n",
        " \n",
        " ', e-mail: ' contains literal characters that match themselves.\n",
        " \n",
        " \n",
        " \n",
        " \n",
        "  (\\w+@\\w+\\.\\w{3}) matches a simple e-mail address consisting of one or more alphanumeric characters (\\w+), the @ character, one or more alphanumeric characters (\\w+), a dot (\\.) and three alphanumeric characters (\\w{3}). We preceded the dot with \\ because a dot (.) is a regular expression metacharacter that matches one character."
      ]
    },
    {
      "cell_type": "markdown",
      "metadata": {
        "id": "LvS2dT8pE_7n"
      },
      "source": [
        "The match object’s groups method returns a tuple of the captured substrings:"
      ]
    },
    {
      "cell_type": "code",
      "metadata": {
        "id": "-9vzw49lFD-R"
      },
      "source": [
        "result.groups()"
      ],
      "execution_count": null,
      "outputs": []
    },
    {
      "cell_type": "markdown",
      "metadata": {
        "id": "NvuASzheFIm_"
      },
      "source": [
        "The match object’s group method returns the entire match as a single string:"
      ]
    },
    {
      "cell_type": "code",
      "metadata": {
        "id": "6JiHQaL_FLOr"
      },
      "source": [
        "result.group()"
      ],
      "execution_count": null,
      "outputs": []
    },
    {
      "cell_type": "markdown",
      "metadata": {
        "id": "7A59XpZNFOhJ"
      },
      "source": [
        "You can access each captured substring by passing an integer to the group method. The captured substrings are numbered from 1 (unlike list indices, which start at 0):"
      ]
    },
    {
      "cell_type": "code",
      "metadata": {
        "id": "yb7aCiIFFQtI"
      },
      "source": [
        "result.group(1)"
      ],
      "execution_count": null,
      "outputs": []
    },
    {
      "cell_type": "code",
      "metadata": {
        "id": "hNf1-HRlFTwM"
      },
      "source": [
        "result.group(2)"
      ],
      "execution_count": null,
      "outputs": []
    }
  ]
}